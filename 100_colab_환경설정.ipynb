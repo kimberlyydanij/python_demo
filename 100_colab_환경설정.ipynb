{
  "nbformat": 4,
  "nbformat_minor": 0,
  "metadata": {
    "colab": {
      "provenance": [],
      "authorship_tag": "ABX9TyP4AIuCc1/AhyEQNF0iQ9bm",
      "include_colab_link": true
    },
    "kernelspec": {
      "name": "python3",
      "display_name": "Python 3"
    },
    "language_info": {
      "name": "python"
    }
  },
  "cells": [
    {
      "cell_type": "markdown",
      "metadata": {
        "id": "view-in-github",
        "colab_type": "text"
      },
      "source": [
        "<a href=\"https://colab.research.google.com/github/kimberlyydanij/python_demo/blob/master/100_colab_%ED%99%98%EA%B2%BD%EC%84%A4%EC%A0%95.ipynb\" target=\"_parent\"><img src=\"https://colab.research.google.com/assets/colab-badge.svg\" alt=\"Open In Colab\"/></a>"
      ]
    },
    {
      "cell_type": "markdown",
      "source": [
        "### 1. 구글 코랩 환경"
      ],
      "metadata": {
        "id": "Ick5AcVc0UGp"
      }
    },
    {
      "cell_type": "code",
      "source": [
        "#os\n",
        "!cat /etc/issue.net"
      ],
      "metadata": {
        "colab": {
          "base_uri": "https://localhost:8080/"
        },
        "id": "0D0kX0960i_E",
        "outputId": "b1ad1ba9-6f33-4549-f0cb-2c92e73ad29b"
      },
      "execution_count": 4,
      "outputs": [
        {
          "output_type": "stream",
          "name": "stdout",
          "text": [
            "Ubuntu 18.04.6 LTS\n"
          ]
        }
      ]
    },
    {
      "cell_type": "code",
      "source": [
        "#cpu\n",
        "!head /proc/cpuinfo"
      ],
      "metadata": {
        "colab": {
          "base_uri": "https://localhost:8080/"
        },
        "id": "fQHh86iX0rgd",
        "outputId": "a07cadef-1f82-4b69-e637-a09436d6c5f1"
      },
      "execution_count": 5,
      "outputs": [
        {
          "output_type": "stream",
          "name": "stdout",
          "text": [
            "processor\t: 0\n",
            "vendor_id\t: AuthenticAMD\n",
            "cpu family\t: 23\n",
            "model\t\t: 49\n",
            "model name\t: AMD EPYC 7B12\n",
            "stepping\t: 0\n",
            "microcode\t: 0x1000065\n",
            "cpu MHz\t\t: 2249.998\n",
            "cache size\t: 512 KB\n",
            "physical id\t: 0\n"
          ]
        }
      ]
    },
    {
      "cell_type": "code",
      "source": [
        "#memory\n",
        "!head /proc/meminfo"
      ],
      "metadata": {
        "colab": {
          "base_uri": "https://localhost:8080/"
        },
        "id": "d8UDEqUs0zj9",
        "outputId": "405d47e4-0794-4a4f-bb41-7217ad39d5b2"
      },
      "execution_count": 7,
      "outputs": [
        {
          "output_type": "stream",
          "name": "stdout",
          "text": [
            "MemTotal:       13297228 kB\n",
            "MemFree:         8441532 kB\n",
            "MemAvailable:   12365432 kB\n",
            "Buffers:          342264 kB\n",
            "Cached:          3683924 kB\n",
            "SwapCached:            0 kB\n",
            "Active:           650856 kB\n",
            "Inactive:        3993216 kB\n",
            "Active(anon):        920 kB\n",
            "Inactive(anon):   536564 kB\n"
          ]
        }
      ]
    },
    {
      "cell_type": "code",
      "source": [],
      "metadata": {
        "id": "0yYukcTp1XRg"
      },
      "execution_count": null,
      "outputs": []
    },
    {
      "cell_type": "markdown",
      "source": [
        "### 2. 구글 코랩 드라이버 연동"
      ],
      "metadata": {
        "id": "z8612Towzva6"
      }
    },
    {
      "cell_type": "code",
      "execution_count": 1,
      "metadata": {
        "colab": {
          "base_uri": "https://localhost:8080/"
        },
        "id": "eXdRlT-UyzXd",
        "outputId": "f05038a9-430c-4682-d4af-f9cd2bbd797f"
      },
      "outputs": [
        {
          "output_type": "stream",
          "name": "stdout",
          "text": [
            "/content\n"
          ]
        }
      ],
      "source": [
        "!pwd    #리눅스 명령어 사용시 !사용한다."
      ]
    },
    {
      "cell_type": "code",
      "source": [
        "#  구글 드라이브 연동\n",
        "from google.colab import drive\n",
        "drive.mount('/content/drive')"
      ],
      "metadata": {
        "colab": {
          "base_uri": "https://localhost:8080/"
        },
        "id": "PjWUVODNy3S5",
        "outputId": "f6138de4-71cc-48e5-866c-9a7d950f3908"
      },
      "execution_count": 2,
      "outputs": [
        {
          "output_type": "stream",
          "name": "stdout",
          "text": [
            "Mounted at /content/drive\n"
          ]
        }
      ]
    },
    {
      "cell_type": "code",
      "source": [
        "# 경로 변경\n",
        "%cd /content/drive/MyDrive/python_demo"
      ],
      "metadata": {
        "colab": {
          "base_uri": "https://localhost:8080/"
        },
        "id": "wU-EKB_Bz5SK",
        "outputId": "347d8bac-8eca-4057-983c-4be77c6da90d"
      },
      "execution_count": 11,
      "outputs": [
        {
          "output_type": "stream",
          "name": "stdout",
          "text": [
            "/content/drive/MyDrive/python_demo\n"
          ]
        }
      ]
    },
    {
      "cell_type": "code",
      "source": [
        "!ls"
      ],
      "metadata": {
        "colab": {
          "base_uri": "https://localhost:8080/"
        },
        "id": "YrcP35ie1qiN",
        "outputId": "2fc313fd-1f25-4694-8ed9-e47bfac17924"
      },
      "execution_count": 12,
      "outputs": [
        {
          "output_type": "stream",
          "name": "stdout",
          "text": [
            " 01_자료형_풀이.ipynb\t\t  Numpy_Python_Cheat_Sheet.pdf\n",
            " 01_자료형_문제.ipynb\t\t  python_01_markdown.ipynb\n",
            " 02_제어문_문제.ipynb\t\t  python_02_basic.ipynb\n",
            " 02_제어문_풀이.ipynb\t\t 'python_03_statement.ipynb의 사본'\n",
            " 03_함수형프로그래밍_문제.ipynb   python_04_function.ipynb\n",
            " 04_함수형프로그래밍_풀이.ipynb   python_06_함수형프로그래밍.ipynb\n",
            "'05_정규표현식 문제.ipynb'\t  python_07_클래스.ipynb\n",
            " 100_colab_환경설정.ipynb\t  python_08_파일입출력.ipynb\n",
            " kimberly_01_basic.ipynb\t  python_10_정규표현식.ipynb\n",
            " kimberly_02_data_type.ipynb\t  python_11_numpy.ipynb\n",
            " kimberly_03_list.ipynb\t\t  python_12_numpy.ipynb\n",
            " Kimberly_04_tuple.ipynb\t  python3.pdf\n",
            " kimberly_05_dict.ipynb\t\t  regular-expressions-cheat-sheet-v2.pdf\n",
            " kimberly_06_set.ipynb\n"
          ]
        }
      ]
    },
    {
      "cell_type": "code",
      "source": [
        "pwd"
      ],
      "metadata": {
        "colab": {
          "base_uri": "https://localhost:8080/",
          "height": 35
        },
        "id": "YPOMuxcy1wEC",
        "outputId": "873937e7-1449-4132-91cf-39345b91d06e"
      },
      "execution_count": 13,
      "outputs": [
        {
          "output_type": "execute_result",
          "data": {
            "text/plain": [
              "'/content/drive/MyDrive/python_demo'"
            ],
            "application/vnd.google.colaboratory.intrinsic+json": {
              "type": "string"
            }
          },
          "metadata": {},
          "execution_count": 13
        }
      ]
    },
    {
      "cell_type": "code",
      "source": [
        "ls"
      ],
      "metadata": {
        "colab": {
          "base_uri": "https://localhost:8080/"
        },
        "id": "Ax9gBqu_2Vio",
        "outputId": "80c85512-902e-4bcf-ee34-dce0d7afe05c"
      },
      "execution_count": 14,
      "outputs": [
        {
          "output_type": "stream",
          "name": "stdout",
          "text": [
            " 01_자료형_풀이.ipynb             Numpy_Python_Cheat_Sheet.pdf\n",
            " 01_자료형_문제.ipynb             python_01_markdown.ipynb\n",
            " 02_제어문_문제.ipynb             python_02_basic.ipynb\n",
            " 02_제어문_풀이.ipynb            'python_03_statement.ipynb의 사본'\n",
            " 03_함수형프로그래밍_문제.ipynb   python_04_function.ipynb\n",
            " 04_함수형프로그래밍_풀이.ipynb   python_06_함수형프로그래밍.ipynb\n",
            "'05_정규표현식 문제.ipynb'        python_07_클래스.ipynb\n",
            " 100_colab_환경설정.ipynb         python_08_파일입출력.ipynb\n",
            " kimberly_01_basic.ipynb          python_10_정규표현식.ipynb\n",
            " kimberly_02_data_type.ipynb      python_11_numpy.ipynb\n",
            " kimberly_03_list.ipynb           python_12_numpy.ipynb\n",
            " Kimberly_04_tuple.ipynb          python3.pdf\n",
            " kimberly_05_dict.ipynb           regular-expressions-cheat-sheet-v2.pdf\n",
            " kimberly_06_set.ipynb\n"
          ]
        }
      ]
    },
    {
      "cell_type": "code",
      "source": [],
      "metadata": {
        "id": "4qsuuU7U2WRd"
      },
      "execution_count": null,
      "outputs": []
    },
    {
      "cell_type": "code",
      "source": [],
      "metadata": {
        "id": "fOn-dDur2m5g"
      },
      "execution_count": null,
      "outputs": []
    }
  ]
}