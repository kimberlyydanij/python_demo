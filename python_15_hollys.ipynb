{
  "nbformat": 4,
  "nbformat_minor": 0,
  "metadata": {
    "colab": {
      "provenance": [],
      "authorship_tag": "ABX9TyPlcMNmFazO4aYvQKyxlfZr",
      "include_colab_link": true
    },
    "kernelspec": {
      "name": "python3",
      "display_name": "Python 3"
    },
    "language_info": {
      "name": "python"
    }
  },
  "cells": [
    {
      "cell_type": "markdown",
      "metadata": {
        "id": "view-in-github",
        "colab_type": "text"
      },
      "source": [
        "<a href=\"https://colab.research.google.com/github/kimberlyydanij/python_demo/blob/master/python_15_hollys.ipynb\" target=\"_parent\"><img src=\"https://colab.research.google.com/assets/colab-badge.svg\" alt=\"Open In Colab\"/></a>"
      ]
    },
    {
      "cell_type": "markdown",
      "source": [
        "### Hollys.co.kr 크롤링 하기"
      ],
      "metadata": {
        "id": "7dX6DN4FIQS1"
      }
    },
    {
      "cell_type": "code",
      "source": [
        "### 구글 드라이브 연결\n",
        "from google.colab import drive\n",
        "drive.mount('/content/drive')\n",
        "%cd /content/drive/MyDrive/python_demo"
      ],
      "metadata": {
        "colab": {
          "base_uri": "https://localhost:8080/"
        },
        "id": "wBtRMeJ4IOPm",
        "outputId": "2d20178f-afc1-4f74-b2a8-64b3d74248a3"
      },
      "execution_count": 66,
      "outputs": [
        {
          "output_type": "stream",
          "name": "stdout",
          "text": [
            "Drive already mounted at /content/drive; to attempt to forcibly remount, call drive.mount(\"/content/drive\", force_remount=True).\n",
            "/content/drive/MyDrive/python_demo\n"
          ]
        }
      ]
    },
    {
      "cell_type": "markdown",
      "source": [
        "### 1. import"
      ],
      "metadata": {
        "id": "1owcj-S8IyJE"
      }
    },
    {
      "cell_type": "code",
      "execution_count": 13,
      "metadata": {
        "id": "mUbQ9kEjGgtF"
      },
      "outputs": [],
      "source": [
        "import requests\n",
        "from bs4 import BeautifulSoup"
      ]
    },
    {
      "cell_type": "markdown",
      "source": [
        "### 2. 작업 결과를 저장할 리스트 준비"
      ],
      "metadata": {
        "id": "eYBdsIeRI4_U"
      }
    },
    {
      "cell_type": "code",
      "source": [
        "result = []"
      ],
      "metadata": {
        "id": "0FCdVN7EIsnU"
      },
      "execution_count": 14,
      "outputs": []
    },
    {
      "cell_type": "markdown",
      "source": [
        "### 3. BeautifulSoup 객체 생성하여 파싱"
      ],
      "metadata": {
        "id": "Gs4ufLRDJDEE"
      }
    },
    {
      "cell_type": "code",
      "source": [
        "header = {\"user-agent\":\"Mozilla/5.0 (Windows NT 10.0: Win64: x64) AppleWebKit/537.36 (KHTML, like Gecko) Chrome/108.0.0.0 Whale/3.18.154.5 Safari/537.36\"}\n",
        "url = 'https://www.hollys.co.kr/store/korea/korStore2.do'\n",
        "res = requests.get(url, headers=header)\n",
        "soup = BeautifulSoup(res.text, 'html.parser')\n",
        "#print(type(soup))\n",
        "\n",
        "tbody_tag = soup.find('tbody')\n",
        "#print(type(tbody_tag))\n",
        "\n",
        "tr_list_tag = soup.find_all('tr')\n",
        "#print(len(tr_list_tag))    # 11개\n",
        "#print(type(tr_list_tag))\n",
        "#print(tr_list_tag[0])\n",
        "\n",
        "tbody_tr_list_tag = tbody_tag.find_all('tr')  #find 에서 요소명/속성 지정가능\n",
        "#print(len(tbody_tr_list_tag))   # 10개\n",
        "#print(tbody_tr_list_tag[0])\n"
      ],
      "metadata": {
        "id": "2XYkyEGMIwp-"
      },
      "execution_count": 32,
      "outputs": []
    },
    {
      "cell_type": "code",
      "source": [
        "for store in tbody_tr_list_tag:\n",
        "  store_td = store.find_all('td')\n",
        "  store_area = store_td[0].string\n",
        "  store_name = store_td[1].string\n",
        "  store_phone = store_td[5].string\n",
        "  result.append([store_area]+[store_name]+[store_phone])   #[['서울 강남구'] + ['강남우리라운지점'] + ['02-566-1002']]"
      ],
      "metadata": {
        "id": "x4NFEZ8rKmeM"
      },
      "execution_count": 37,
      "outputs": []
    },
    {
      "cell_type": "code",
      "source": [
        "#참고\n",
        "print(['a']+['b'])\n",
        "print([['서울 강남구'] + ['강남우리라운지점'] + ['02-566-1002']])"
      ],
      "metadata": {
        "colab": {
          "base_uri": "https://localhost:8080/"
        },
        "id": "1B4hrjQNNrjO",
        "outputId": "104421cc-490a-4805-d270-b8565ed153ab"
      },
      "execution_count": 40,
      "outputs": [
        {
          "output_type": "stream",
          "name": "stdout",
          "text": [
            "['a', 'b']\n",
            "[['서울 강남구', '강남우리라운지점', '02-566-1002']]\n"
          ]
        }
      ]
    },
    {
      "cell_type": "code",
      "source": [
        "### 4. 크롤링 결과 확인"
      ],
      "metadata": {
        "id": "WBg2l0bXPAvM"
      },
      "execution_count": 41,
      "outputs": []
    },
    {
      "cell_type": "code",
      "source": [
        "result"
      ],
      "metadata": {
        "colab": {
          "base_uri": "https://localhost:8080/"
        },
        "id": "9oLTej_FO_5F",
        "outputId": "164847dd-5f54-4d9b-d33e-943d826410c0"
      },
      "execution_count": 39,
      "outputs": [
        {
          "output_type": "execute_result",
          "data": {
            "text/plain": [
              "[['서울 강남구', '강남우리라운지점', '02-566-1002'],\n",
              " ['경기 수원시', '수원영통점', '031-202-3356'],\n",
              " ['경기 고양시 덕양구', '원흥역점', '031.967.0302'],\n",
              " ['서울 양천구', '오목교역점', '02-2062-8405'],\n",
              " ['대구 서구', '롯데시네마프리미엄만경관점', '070-7717-2192'],\n",
              " ['전남 순천시', '순천신대점', '061-723-5185'],\n",
              " ['서울 금천구', '시흥사거리점', '02-804-9226'],\n",
              " ['전북 전주시 완산구', '전주효천점', '063-224-5777'],\n",
              " ['제주 제주시', '제주도두해안DT점', '064-745-7301'],\n",
              " ['부산 북구', '부산화명점', '070-8884-1101']]"
            ]
          },
          "metadata": {},
          "execution_count": 39
        }
      ]
    },
    {
      "cell_type": "markdown",
      "source": [
        "### 5. 테이블을 csv 파일로 저장"
      ],
      "metadata": {
        "id": "qauXTqo4PmnL"
      }
    },
    {
      "cell_type": "code",
      "source": [
        "!pwd"
      ],
      "metadata": {
        "colab": {
          "base_uri": "https://localhost:8080/"
        },
        "id": "5W5kBvAASN6m",
        "outputId": "71ff4663-065f-4c78-953b-c867dd648c15"
      },
      "execution_count": 44,
      "outputs": [
        {
          "output_type": "stream",
          "name": "stdout",
          "text": [
            "/content/drive/MyDrive/python_demo\n"
          ]
        }
      ]
    },
    {
      "cell_type": "code",
      "source": [
        "import csv\n",
        "\n",
        "#field names\n",
        "fields = ['StoreArea','StoreName','StorePhone']\n",
        "\n",
        "with open('./data_crowing/hollys.csv','w', newline='') as f:\n",
        "  write = csv.writer(f)\n",
        "  write.writerow(fields)\n",
        "  write.writerow(result)"
      ],
      "metadata": {
        "id": "uoW0Gba6PrGr"
      },
      "execution_count": 47,
      "outputs": []
    },
    {
      "cell_type": "code",
      "source": [
        "%cd data_crowing"
      ],
      "metadata": {
        "colab": {
          "base_uri": "https://localhost:8080/"
        },
        "id": "XJFRHHdBS4kV",
        "outputId": "3411105c-1ffe-4f5c-a690-c2488a7b5114"
      },
      "execution_count": 51,
      "outputs": [
        {
          "output_type": "stream",
          "name": "stdout",
          "text": [
            "/content/drive/MyDrive/python_demo/data_crowing\n"
          ]
        }
      ]
    },
    {
      "cell_type": "code",
      "source": [
        "!ls *.csv"
      ],
      "metadata": {
        "colab": {
          "base_uri": "https://localhost:8080/"
        },
        "id": "lGPXqweUTZO3",
        "outputId": "78866877-e233-44e8-c604-ff2a4639282f"
      },
      "execution_count": 49,
      "outputs": [
        {
          "output_type": "stream",
          "name": "stdout",
          "text": [
            "hollys.csv\n"
          ]
        }
      ]
    },
    {
      "cell_type": "code",
      "source": [
        "%cd .."
      ],
      "metadata": {
        "colab": {
          "base_uri": "https://localhost:8080/"
        },
        "id": "zfup_K0CTd1L",
        "outputId": "e3eabc90-3d7d-45a8-9213-6ef5da5ee35b"
      },
      "execution_count": 50,
      "outputs": [
        {
          "output_type": "stream",
          "name": "stdout",
          "text": [
            "/content/drive/MyDrive/python_demo\n"
          ]
        }
      ]
    },
    {
      "cell_type": "code",
      "source": [
        "!cat hollys.csv"
      ],
      "metadata": {
        "colab": {
          "base_uri": "https://localhost:8080/"
        },
        "id": "RTodOmYgTqpB",
        "outputId": "29dcf670-98a3-4fe2-ae1c-679f1e4b646a"
      },
      "execution_count": 52,
      "outputs": [
        {
          "output_type": "stream",
          "name": "stdout",
          "text": [
            "StoreArea,StoreName,StorePhone\r\n",
            "\"['서울 강남구', '강남우리라운지점', '02-566-1002']\",\"['경기 수원시', '수원영통점', '031-202-3356']\",\"['경기 고양시 덕양구', '원흥역점', '031.967.0302']\",\"['서울 양천구', '오목교역점', '02-2062-8405']\",\"['대구 서구', '롯데시네마프리미엄만경관점', '070-7717-2192']\",\"['전남 순천시', '순천신대점', '061-723-5185']\",\"['서울 금천구', '시흥사거리점', '02-804-9226']\",\"['전북 전주시 완산구', '전주효천점', '063-224-5777']\",\"['제주 제주시', '제주도두해안DT점', '064-745-7301']\",\"['부산 북구', '부산화명점', '070-8884-1101']\"\r\n"
          ]
        }
      ]
    },
    {
      "cell_type": "markdown",
      "source": [
        "### 6. 기타 : 저장할 때 날자 지정"
      ],
      "metadata": {
        "id": "pmdhf0znVZzD"
      }
    },
    {
      "cell_type": "code",
      "source": [
        "import datetime\n",
        "now = datetime.datetime.today()\n",
        "print(now)\n",
        "print(now.utcnow())\n",
        "print(now.year, now.month, now.day, now.hour, now.minute, now.second)\n",
        "print(now.date())\n",
        "print(now.time())"
      ],
      "metadata": {
        "colab": {
          "base_uri": "https://localhost:8080/"
        },
        "id": "Wl0Z_qDaU5ZO",
        "outputId": "d5dc0f1b-4091-4c24-b9f1-d1276fddbfdc"
      },
      "execution_count": 57,
      "outputs": [
        {
          "output_type": "stream",
          "name": "stdout",
          "text": [
            "2022-12-12 07:59:21.714383\n",
            "2022-12-12 07:59:21.716874\n",
            "2022 12 12 7 59 21\n",
            "2022-12-12\n",
            "07:59:21.714383\n"
          ]
        }
      ]
    },
    {
      "cell_type": "code",
      "source": [
        "import time\n",
        "time.strftime('%Y-%m-%d', time.localtime(time.time()))"
      ],
      "metadata": {
        "colab": {
          "base_uri": "https://localhost:8080/",
          "height": 35
        },
        "id": "LsRxggGvVoQT",
        "outputId": "eca0220c-9da8-4bdb-ab1f-035a3d92c5f2"
      },
      "execution_count": 65,
      "outputs": [
        {
          "output_type": "execute_result",
          "data": {
            "text/plain": [
              "'2022-12-12 Dec'"
            ],
            "application/vnd.google.colaboratory.intrinsic+json": {
              "type": "string"
            }
          },
          "metadata": {},
          "execution_count": 65
        }
      ]
    },
    {
      "cell_type": "markdown",
      "source": [
        "### 파이썬 파일 작성하여 크롤링 작업하기"
      ],
      "metadata": {
        "id": "UciT0GgEWj1a"
      }
    },
    {
      "cell_type": "code",
      "source": [
        "import requests\n",
        "from bs4 import BeautifulSoup\n",
        "\n",
        "import csv\n",
        "import datetime\n",
        "\n",
        "def hollys_store():\n",
        "    result = []\n",
        "    header = {\"user-agent\":\"Mozilla/5.0 (Windows NT 10.0: Win64: x64) AppleWebKit/537.36 (KHTML, like Gecko) Chrome/108.0.0.0 Whale/3.18.154.5 Safari/537.36\"}\n",
        "    url = 'https://www.hollys.co.kr/store/korea/korStore2.do'\n",
        "    \n",
        "    res = requests.get(url, headers=header)\n",
        "    soup = BeautifulSoup(res.text, 'html.parser')\n",
        "\n",
        "    tbody_tag = soup.find('tbody')\n",
        "    tbody_tr_list_tag = tbody_tag.find_all('tr')  \n",
        "\n",
        "    for store in tbody_tr_list_tag:\n",
        "      store_td = store.find_all('td')\n",
        "      store_area = store_td[0].string\n",
        "      store_name = store_td[1].string\n",
        "      store_phone = store_td[5].string\n",
        "      result.append([store_area]+[store_name]+[store_phone]) \n",
        "\n",
        "    return result\n",
        "\n",
        "def main() :\n",
        "  result = hollys_store()\n",
        "\n",
        "  to_now = datetime.datetime.today().date()\n",
        "\n",
        "  #field names\n",
        "  fields = ['StoreArea','StoreName','StorePhone']\n",
        "\n",
        "  with open('./data_crowing/%s-hollys.csv' % to_now, 'w', newline='') as f:\n",
        "    write = csv.writer(f)\n",
        "    write.writerow(fields)\n",
        "    write.writerow(result)\n",
        "\n",
        "  print('hollys 데이터 저장완료')\n",
        "  del result[:]\n",
        "\n",
        "if __name__ == '__main__':\n",
        "  main()"
      ],
      "metadata": {
        "colab": {
          "base_uri": "https://localhost:8080/"
        },
        "id": "gi1XnRL_WMv1",
        "outputId": "9e5765c7-1f2a-4cd1-882e-6f38992e281f"
      },
      "execution_count": 69,
      "outputs": [
        {
          "output_type": "stream",
          "name": "stdout",
          "text": [
            "hollys 데이터 저장완료\n"
          ]
        }
      ]
    },
    {
      "cell_type": "code",
      "source": [
        "to_now = datetime.datetime.today().date()\n",
        "with open('./data_crowing/%s-hollys.csv' % to_now, 'r') as f:\n",
        "  #print(f.read())\n",
        "\n",
        "  for element in f:\n",
        "    td_rs_list = element.split(',')\n",
        "    print(td_rs_list)\n",
        "    #for td_list in td_rs_list:\n",
        "    #  print(td_list )\n",
        "    #  print(td_list[0], td_list[1], td_list[2])\n"
      ],
      "metadata": {
        "colab": {
          "base_uri": "https://localhost:8080/"
        },
        "id": "d5-aUYQTW5Rd",
        "outputId": "25abb734-73bd-4972-cc5b-02c5baf77a04"
      },
      "execution_count": 79,
      "outputs": [
        {
          "output_type": "stream",
          "name": "stdout",
          "text": [
            "['StoreArea', 'StoreName', 'StorePhone\\n']\n",
            "S t o\n",
            "S t o\n",
            "S t o\n",
            "['\"[\\'서울 강남구\\'', \" '강남우리라운지점'\", ' \\'02-566-1002\\']\"', '\"[\\'경기 수원시\\'', \" '수원영통점'\", ' \\'031-202-3356\\']\"', '\"[\\'경기 고양시 덕양구\\'', \" '원흥역점'\", ' \\'031.967.0302\\']\"', '\"[\\'서울 양천구\\'', \" '오목교역점'\", ' \\'02-2062-8405\\']\"', '\"[\\'대구 서구\\'', \" '롯데시네마프리미엄만경관점'\", ' \\'070-7717-2192\\']\"', '\"[\\'전남 순천시\\'', \" '순천신대점'\", ' \\'061-723-5185\\']\"', '\"[\\'서울 금천구\\'', \" '시흥사거리점'\", ' \\'02-804-9226\\']\"', '\"[\\'전북 전주시 완산구\\'', \" '전주효천점'\", ' \\'063-224-5777\\']\"', '\"[\\'제주 제주시\\'', \" '제주도두해안DT점'\", ' \\'064-745-7301\\']\"', '\"[\\'부산 북구\\'', \" '부산화명점'\", ' \\'070-8884-1101\\']\"\\n']\n",
            "\" [ '\n",
            "  ' 강\n",
            "  ' 0\n",
            "\" [ '\n",
            "  ' 수\n",
            "  ' 0\n",
            "\" [ '\n",
            "  ' 원\n",
            "  ' 0\n",
            "\" [ '\n",
            "  ' 오\n",
            "  ' 0\n",
            "\" [ '\n",
            "  ' 롯\n",
            "  ' 0\n",
            "\" [ '\n",
            "  ' 순\n",
            "  ' 0\n",
            "\" [ '\n",
            "  ' 시\n",
            "  ' 0\n",
            "\" [ '\n",
            "  ' 전\n",
            "  ' 0\n",
            "\" [ '\n",
            "  ' 제\n",
            "  ' 0\n",
            "\" [ '\n",
            "  ' 부\n",
            "  ' 0\n"
          ]
        }
      ]
    },
    {
      "cell_type": "code",
      "source": [],
      "metadata": {
        "id": "3Nt9VbcQae3S"
      },
      "execution_count": null,
      "outputs": []
    }
  ]
}