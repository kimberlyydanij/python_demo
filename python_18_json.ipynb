{
  "nbformat": 4,
  "nbformat_minor": 0,
  "metadata": {
    "colab": {
      "provenance": [],
      "authorship_tag": "ABX9TyMnglZ3NRAZCy+WqY+R+PUU",
      "include_colab_link": true
    },
    "kernelspec": {
      "name": "python3",
      "display_name": "Python 3"
    },
    "language_info": {
      "name": "python"
    }
  },
  "cells": [
    {
      "cell_type": "markdown",
      "metadata": {
        "id": "view-in-github",
        "colab_type": "text"
      },
      "source": [
        "<a href=\"https://colab.research.google.com/github/kimberlyydanij/python_demo/blob/master/python_18_json.ipynb\" target=\"_parent\"><img src=\"https://colab.research.google.com/assets/colab-badge.svg\" alt=\"Open In Colab\"/></a>"
      ]
    },
    {
      "cell_type": "markdown",
      "source": [
        "### 구글 드라이브 연동\n"
      ],
      "metadata": {
        "id": "EHDk7mj0s4h7"
      }
    },
    {
      "cell_type": "code",
      "execution_count": 1,
      "metadata": {
        "colab": {
          "base_uri": "https://localhost:8080/"
        },
        "id": "LboVv2RHsacV",
        "outputId": "d46bf4aa-6ed9-432a-be92-cab114755b2c"
      },
      "outputs": [
        {
          "output_type": "stream",
          "name": "stdout",
          "text": [
            "Mounted at /content/drive\n",
            "/content/drive/MyDrive/python_demo\n"
          ]
        }
      ],
      "source": [
        "from google.colab import drive\n",
        "drive.mount('/content/drive')\n",
        "\n",
        "%cd /content/drive/MyDrive/python_demo"
      ]
    },
    {
      "cell_type": "markdown",
      "source": [
        "### JSON\n",
        "  - str(dict)을 사용하는 방법\n",
        "  - json 모듈을 이용하는 방법 "
      ],
      "metadata": {
        "id": "qmFR3H_Zs-F3"
      }
    },
    {
      "cell_type": "markdown",
      "source": [
        "### str(dict)을 사용하는 방법"
      ],
      "metadata": {
        "id": "v-eoDxaFtOJF"
      }
    },
    {
      "cell_type": "code",
      "source": [
        "dict = {'10':'1056', 'name' : 'park', '직업':'프리랜서'}\n",
        "with open('./data_crowing/dictdata.txt','w', encoding='UTF-8') as file :\n",
        "  file.write(str(dict))"
      ],
      "metadata": {
        "id": "SqNaxnDSs89c"
      },
      "execution_count": 6,
      "outputs": []
    },
    {
      "cell_type": "markdown",
      "source": [
        "### JSON 모듈을 이용하는 방법"
      ],
      "metadata": {
        "id": "OrWrQNwzuPgz"
      }
    },
    {
      "cell_type": "code",
      "source": [
        "import json"
      ],
      "metadata": {
        "id": "YqImZ3PQtjE2"
      },
      "execution_count": 4,
      "outputs": []
    },
    {
      "cell_type": "code",
      "source": [
        "dict = {'10':'1056', 'name' : 'park', '직업':'프리랜서'}\n",
        "with open('./data_crowing/dictjason1.txt','w', encoding='UTF-8') as file :\n",
        "  file.write(json.dumps(dict))"
      ],
      "metadata": {
        "id": "H61LhRYVuS1h"
      },
      "execution_count": 11,
      "outputs": []
    },
    {
      "cell_type": "markdown",
      "source": [
        "#### 위의 write 결과를 보면 한글이 꺠져나옴. 이를 해결하기 위해서 ensure_ascii=False를 지정한다."
      ],
      "metadata": {
        "id": "2daH9sVdv6QL"
      }
    },
    {
      "cell_type": "code",
      "source": [
        "dict = {'10':'1056', 'name' : 'park', '직업':'프리랜서'}\n",
        "with open('./data_crowing/dictjason1.txt','w', encoding='UTF-8') as file :\n",
        "  file.write(json.dumps(dict, ensure_ascii=False))"
      ],
      "metadata": {
        "id": "15ZTpWnXwEDo"
      },
      "execution_count": 12,
      "outputs": []
    },
    {
      "cell_type": "markdown",
      "source": [
        "### 파일 입출력 할때 dict 타입으로 저장하는 방법\n",
        "  - str(dict)을 사용하는 방법\n",
        "  - json 모듈을 이용하는 방법"
      ],
      "metadata": {
        "id": "zc26mLUmwO-z"
      }
    },
    {
      "cell_type": "code",
      "source": [
        "import json\n",
        "json_str = '{\"name\":\"kyongrok\",\"age\":\"32\"}';\n",
        "print(type(json_str))  #Str\n",
        "json_obj = json.loads(json_str) #load해서 가져오면 dict로 가져옴\n",
        "print(json_obj)\n",
        "print(type(json_obj))"
      ],
      "metadata": {
        "colab": {
          "base_uri": "https://localhost:8080/"
        },
        "id": "stkzwBqfuomY",
        "outputId": "4ccc548c-e973-4773-a084-fe2c90ead3c3"
      },
      "execution_count": 15,
      "outputs": [
        {
          "output_type": "stream",
          "name": "stdout",
          "text": [
            "<class 'str'>\n",
            "{'name': 'kyongrok', 'age': '32'}\n",
            "<class 'dict'>\n"
          ]
        }
      ]
    },
    {
      "cell_type": "code",
      "source": [
        "import json\n",
        "json_str = '[100, 200, 300, 400]'\n",
        "print(type(json_str))\n",
        "json_obj = json.loads(json_str)\n",
        "print(type(json_obj))\n",
        "\n",
        "print(json_obj)\n",
        "print(json_obj[0])\n",
        "print(type(json_obj[0]))"
      ],
      "metadata": {
        "colab": {
          "base_uri": "https://localhost:8080/"
        },
        "id": "s0gtccrswJV4",
        "outputId": "2e8234bf-a174-45a6-a60a-0d0b3d711993"
      },
      "execution_count": 17,
      "outputs": [
        {
          "output_type": "stream",
          "name": "stdout",
          "text": [
            "<class 'str'>\n",
            "<class 'list'>\n",
            "[100, 200, 300, 400]\n",
            "100\n",
            "<class 'int'>\n"
          ]
        }
      ]
    },
    {
      "cell_type": "code",
      "source": [
        "import json\n",
        "\n",
        "json_str = '[{\"name\":\"kyongrok\",\"age\":\"32\"},{\"name\":\"bomi\",\"age\":\"25\"}]'\n",
        "print(type(json_str)) #<class 'str'>\n",
        "\n",
        "json_obj = json.loads(json_str)\n",
        "print(type(json_obj))   #<class 'list'>\n",
        "print(json_obj)    #[{'name': 'kyongrok', 'age': '32'}, {'name': 'bomi', 'age': '25'}]\n",
        "\n",
        "print(json_obj[0])    #{'name': 'kyongrok', 'age': '32'}\n",
        "print(type(json_obj))    # <class 'list'>\n",
        "print(json_obj[0][\"name\"])   #kyongrok\n"
      ],
      "metadata": {
        "colab": {
          "base_uri": "https://localhost:8080/"
        },
        "id": "QyNxIh1vx7y2",
        "outputId": "2ba4f227-efa2-4217-ec63-7467dc592c9e"
      },
      "execution_count": 22,
      "outputs": [
        {
          "output_type": "stream",
          "name": "stdout",
          "text": [
            "<class 'str'>\n",
            "<class 'list'>\n",
            "[{'name': 'kyongrok', 'age': '32'}, {'name': 'bomi', 'age': '25'}]\n",
            "{'name': 'kyongrok', 'age': '32'}\n",
            "<class 'list'>\n",
            "kyongrok\n"
          ]
        }
      ]
    },
    {
      "cell_type": "code",
      "source": [
        "import json\n",
        "json_str = '[{\"name\":\"kyongrok\",\"age\":\"32\"},{\"name\":\"bomi\",\"age\":\"25\"}]'\n",
        "\n",
        "json_obj = json.loads(json_str)\n",
        "\n",
        "for element in json_obj:\n",
        "  print(element)"
      ],
      "metadata": {
        "colab": {
          "base_uri": "https://localhost:8080/"
        },
        "id": "AT2X5XpUydIZ",
        "outputId": "0664bee1-de6e-4c5e-93e1-c948355dee4d"
      },
      "execution_count": 24,
      "outputs": [
        {
          "output_type": "stream",
          "name": "stdout",
          "text": [
            "{'name': 'kyongrok', 'age': '32'}\n",
            "{'name': 'bomi', 'age': '25'}\n"
          ]
        }
      ]
    },
    {
      "cell_type": "code",
      "source": [],
      "metadata": {
        "id": "Th1FZAap0RDR"
      },
      "execution_count": null,
      "outputs": []
    }
  ]
}