{
  "nbformat": 4,
  "nbformat_minor": 0,
  "metadata": {
    "colab": {
      "provenance": [],
      "authorship_tag": "ABX9TyMOxVu5yTiCfhNa4FvE18GM",
      "include_colab_link": true
    },
    "kernelspec": {
      "name": "python3",
      "display_name": "Python 3"
    },
    "language_info": {
      "name": "python"
    }
  },
  "cells": [
    {
      "cell_type": "markdown",
      "metadata": {
        "id": "view-in-github",
        "colab_type": "text"
      },
      "source": [
        "<a href=\"https://colab.research.google.com/github/kimberlyydanij/python_demo/blob/master/python_07_%ED%81%B4%EB%9E%98%EC%8A%A4.ipynb\" target=\"_parent\"><img src=\"https://colab.research.google.com/assets/colab-badge.svg\" alt=\"Open In Colab\"/></a>"
      ]
    },
    {
      "cell_type": "markdown",
      "source": [
        "#callable\n",
        "-이름 뒤에 괄호()를 붙이는 것을 call(호출)이라고 한다.\n",
        "-이름 뒤에 괄호()를 붙일 수 있는 것을 callable이라고 한다.\n",
        "\n",
        "###python에서 callable 3가지 유형 \n",
        "-function \n",
        "-class(init가 정의되었을 경우) \n",
        "-object(call가 정의 되었을 경우)\n",
        "\n",
        "###객체지향 프로그래밍\n",
        "-is : 메모리 주소\n",
        "-issubclass(child,parant) : 상속여부\n",
        "-isinstance(a, int) : int클래스의 a가 인스턴스 여부\n"
      ],
      "metadata": {
        "id": "IWotZQhOhrZv"
      }
    },
    {
      "cell_type": "code",
      "source": [
        "# int의 literal\n",
        "a = 1"
      ],
      "metadata": {
        "id": "P7WClt36iF2F"
      },
      "execution_count": 1,
      "outputs": []
    },
    {
      "cell_type": "code",
      "source": [
        "# 문자열 1을 정수값 1의 int의 인스턴스 방식으로 만들 수 있다.\n",
        "a = int('1')"
      ],
      "metadata": {
        "id": "ZwUCLzwEiJe1"
      },
      "execution_count": 2,
      "outputs": []
    },
    {
      "cell_type": "code",
      "source": [
        "print(type(a))"
      ],
      "metadata": {
        "colab": {
          "base_uri": "https://localhost:8080/"
        },
        "id": "wc1jR72ziJ5u",
        "outputId": "6b55ffd0-070d-403b-9b74-2f2aa3a14bfd"
      },
      "execution_count": 3,
      "outputs": [
        {
          "output_type": "stream",
          "name": "stdout",
          "text": [
            "<class 'int'>\n"
          ]
        }
      ]
    },
    {
      "cell_type": "code",
      "source": [
        "isinstance(a,int)"
      ],
      "metadata": {
        "colab": {
          "base_uri": "https://localhost:8080/"
        },
        "id": "syXDRzyciLn8",
        "outputId": "0d052f65-4db6-4cc8-eedb-27f120ab6484"
      },
      "execution_count": 4,
      "outputs": [
        {
          "output_type": "execute_result",
          "data": {
            "text/plain": [
              "True"
            ]
          },
          "metadata": {},
          "execution_count": 4
        }
      ]
    },
    {
      "cell_type": "code",
      "source": [
        "isinstance(a,str)"
      ],
      "metadata": {
        "colab": {
          "base_uri": "https://localhost:8080/"
        },
        "id": "3pb93rlQiM29",
        "outputId": "2d345d87-149a-4790-e9d3-88694330c146"
      },
      "execution_count": 5,
      "outputs": [
        {
          "output_type": "execute_result",
          "data": {
            "text/plain": [
              "False"
            ]
          },
          "metadata": {},
          "execution_count": 5
        }
      ]
    },
    {
      "cell_type": "code",
      "source": [
        "class  A:\n",
        "  x = 1\n",
        "  def prn():\n",
        "    a=1\n",
        "callable(A)"
      ],
      "metadata": {
        "colab": {
          "base_uri": "https://localhost:8080/"
        },
        "id": "fofPnNdpibIl",
        "outputId": "15fd25de-1842-41e7-90d3-642670b427d2"
      },
      "execution_count": 14,
      "outputs": [
        {
          "output_type": "execute_result",
          "data": {
            "text/plain": [
              "True"
            ]
          },
          "metadata": {},
          "execution_count": 14
        }
      ]
    },
    {
      "cell_type": "code",
      "source": [
        "callable(A)"
      ],
      "metadata": {
        "colab": {
          "base_uri": "https://localhost:8080/"
        },
        "id": "R1Lc1070iXCU",
        "outputId": "030061a5-bfe0-41cb-aebc-cccb4a96e722"
      },
      "execution_count": 15,
      "outputs": [
        {
          "output_type": "execute_result",
          "data": {
            "text/plain": [
              "True"
            ]
          },
          "metadata": {},
          "execution_count": 15
        }
      ]
    },
    {
      "cell_type": "code",
      "source": [
        "#사용할때 괄호를 붙인다. ->callable\n",
        "A()"
      ],
      "metadata": {
        "colab": {
          "base_uri": "https://localhost:8080/"
        },
        "id": "pcuX96GAiOms",
        "outputId": "2b5137b2-ba8b-4e1f-db57-ff7c8127cad2"
      },
      "execution_count": 16,
      "outputs": [
        {
          "output_type": "execute_result",
          "data": {
            "text/plain": [
              "<__main__.A at 0x7fa22ba29c10>"
            ]
          },
          "metadata": {},
          "execution_count": 16
        }
      ]
    },
    {
      "cell_type": "code",
      "source": [
        "print(dir(A))"
      ],
      "metadata": {
        "colab": {
          "base_uri": "https://localhost:8080/"
        },
        "id": "HXEZv9SDiZpu",
        "outputId": "3693453b-8dd5-40c9-cff7-514dacb48ea3"
      },
      "execution_count": 17,
      "outputs": [
        {
          "output_type": "stream",
          "name": "stdout",
          "text": [
            "['__class__', '__delattr__', '__dict__', '__dir__', '__doc__', '__eq__', '__format__', '__ge__', '__getattribute__', '__gt__', '__hash__', '__init__', '__init_subclass__', '__le__', '__lt__', '__module__', '__ne__', '__new__', '__reduce__', '__reduce_ex__', '__repr__', '__setattr__', '__sizeof__', '__str__', '__subclasshook__', '__weakref__', 'prn', 'x']\n"
          ]
        }
      ]
    },
    {
      "cell_type": "code",
      "source": [
        "#k는 A가 인스턴스에서 나온값이다.\n",
        "k = A()"
      ],
      "metadata": {
        "id": "JWwG92ycidZ1"
      },
      "execution_count": 19,
      "outputs": []
    },
    {
      "cell_type": "code",
      "source": [
        "def fn():\n",
        "  x=3"
      ],
      "metadata": {
        "id": "FbZVIz-ti-Xx"
      },
      "execution_count": 20,
      "outputs": []
    },
    {
      "cell_type": "markdown",
      "source": [
        "#클래스는 내부에 있는 값을 접근할 수 있다.. 2가지 방법으로 가능하다.\n",
        "- 클래스에서 접근\n",
        "- 인스턴스에서 접근"
      ],
      "metadata": {
        "id": "sbr2YAHej05e"
      }
    },
    {
      "cell_type": "code",
      "source": [
        "class A:\n",
        "  x = 1"
      ],
      "metadata": {
        "id": "UaY4V5Kijc_A"
      },
      "execution_count": 21,
      "outputs": []
    },
    {
      "cell_type": "code",
      "source": [
        "A.x"
      ],
      "metadata": {
        "colab": {
          "base_uri": "https://localhost:8080/"
        },
        "id": "immLih-3j-vc",
        "outputId": "c19b2a36-415d-4671-a490-d79a4f11c7f5"
      },
      "execution_count": 22,
      "outputs": [
        {
          "output_type": "execute_result",
          "data": {
            "text/plain": [
              "1"
            ]
          },
          "metadata": {},
          "execution_count": 22
        }
      ]
    },
    {
      "cell_type": "code",
      "source": [
        "aa = A()  # 인스턴스 생성\n",
        "aa.x      # 인스턴스에서 접근"
      ],
      "metadata": {
        "colab": {
          "base_uri": "https://localhost:8080/"
        },
        "id": "1RsOLctaj_VG",
        "outputId": "fb613206-cbd1-491d-b513-a4fb7351e8e0"
      },
      "execution_count": 24,
      "outputs": [
        {
          "output_type": "execute_result",
          "data": {
            "text/plain": [
              "1"
            ]
          },
          "metadata": {},
          "execution_count": 24
        }
      ]
    },
    {
      "cell_type": "code",
      "source": [
        "type(int)  # python에서 제공하는 내장 클래스이다.\n"
      ],
      "metadata": {
        "colab": {
          "base_uri": "https://localhost:8080/"
        },
        "id": "wtvIdBBNkQSi",
        "outputId": "b53126db-c2cf-48eb-f68d-ebc92da5b210"
      },
      "execution_count": 25,
      "outputs": [
        {
          "output_type": "execute_result",
          "data": {
            "text/plain": [
              "type"
            ]
          },
          "metadata": {},
          "execution_count": 25
        }
      ]
    },
    {
      "cell_type": "code",
      "source": [
        "type(A)  # 사용자가 정의한 클래스"
      ],
      "metadata": {
        "colab": {
          "base_uri": "https://localhost:8080/"
        },
        "id": "XyjFAvYQkk5x",
        "outputId": "370ad76f-d87f-439b-eb24-3c2822ec6f94"
      },
      "execution_count": 26,
      "outputs": [
        {
          "output_type": "execute_result",
          "data": {
            "text/plain": [
              "type"
            ]
          },
          "metadata": {},
          "execution_count": 26
        }
      ]
    },
    {
      "cell_type": "code",
      "source": [
        "type(fn)  # 함수"
      ],
      "metadata": {
        "colab": {
          "base_uri": "https://localhost:8080/"
        },
        "id": "df_s4zIpkpD4",
        "outputId": "4acf8a51-5938-4036-caf5-1b07de7d84f4"
      },
      "execution_count": 28,
      "outputs": [
        {
          "output_type": "execute_result",
          "data": {
            "text/plain": [
              "function"
            ]
          },
          "metadata": {},
          "execution_count": 28
        }
      ]
    },
    {
      "cell_type": "code",
      "source": [
        "type(aa)  # "
      ],
      "metadata": {
        "colab": {
          "base_uri": "https://localhost:8080/"
        },
        "id": "UOOBQ5_JktEn",
        "outputId": "e0d67145-5e9c-4cdc-d219-a24cde1df39a"
      },
      "execution_count": 29,
      "outputs": [
        {
          "output_type": "execute_result",
          "data": {
            "text/plain": [
              "__main__.A"
            ]
          },
          "metadata": {},
          "execution_count": 29
        }
      ]
    },
    {
      "cell_type": "code",
      "source": [
        "class Employee:\n",
        "  x = 1\n",
        "  def display(self, y):\n",
        "    self.y = y\n",
        "    print(y)"
      ],
      "metadata": {
        "id": "bUsmpwczlEUC"
      },
      "execution_count": 30,
      "outputs": []
    },
    {
      "cell_type": "code",
      "source": [
        "ps = Employee()"
      ],
      "metadata": {
        "id": "yYt_UcjQlp95"
      },
      "execution_count": 31,
      "outputs": []
    },
    {
      "cell_type": "code",
      "source": [
        "ps.x"
      ],
      "metadata": {
        "colab": {
          "base_uri": "https://localhost:8080/"
        },
        "id": "I8tgdsGul1Yq",
        "outputId": "84d3d334-33c6-401f-f6e2-39abfc686465"
      },
      "execution_count": 32,
      "outputs": [
        {
          "output_type": "execute_result",
          "data": {
            "text/plain": [
              "1"
            ]
          },
          "metadata": {},
          "execution_count": 32
        }
      ]
    },
    {
      "cell_type": "code",
      "source": [
        "ps.y"
      ],
      "metadata": {
        "colab": {
          "base_uri": "https://localhost:8080/",
          "height": 174
        },
        "id": "fpLTZmQAl2Tb",
        "outputId": "78ba339d-a18f-4594-d2f9-bbdb6b6a3e24"
      },
      "execution_count": 33,
      "outputs": [
        {
          "output_type": "error",
          "ename": "AttributeError",
          "evalue": "ignored",
          "traceback": [
            "\u001b[0;31m---------------------------------------------------------------------------\u001b[0m",
            "\u001b[0;31mAttributeError\u001b[0m                            Traceback (most recent call last)",
            "\u001b[0;32m<ipython-input-33-162d0cfa0d0b>\u001b[0m in \u001b[0;36m<module>\u001b[0;34m\u001b[0m\n\u001b[0;32m----> 1\u001b[0;31m \u001b[0mps\u001b[0m\u001b[0;34m.\u001b[0m\u001b[0my\u001b[0m\u001b[0;34m\u001b[0m\u001b[0;34m\u001b[0m\u001b[0m\n\u001b[0m",
            "\u001b[0;31mAttributeError\u001b[0m: 'Employee' object has no attribute 'y'"
          ]
        }
      ]
    },
    {
      "cell_type": "code",
      "source": [
        "ps.display(3)"
      ],
      "metadata": {
        "colab": {
          "base_uri": "https://localhost:8080/"
        },
        "id": "6FEWfNCal36Z",
        "outputId": "ad39849d-2c3c-4d0a-e390-96e1c8e9b009"
      },
      "execution_count": 34,
      "outputs": [
        {
          "output_type": "stream",
          "name": "stdout",
          "text": [
            "3\n"
          ]
        }
      ]
    },
    {
      "cell_type": "code",
      "source": [
        "ps.y"
      ],
      "metadata": {
        "colab": {
          "base_uri": "https://localhost:8080/"
        },
        "id": "90e-8hoImTCP",
        "outputId": "923eb040-8231-413d-e8cc-8429d36d5e0c"
      },
      "execution_count": 35,
      "outputs": [
        {
          "output_type": "execute_result",
          "data": {
            "text/plain": [
              "3"
            ]
          },
          "metadata": {},
          "execution_count": 35
        }
      ]
    },
    {
      "cell_type": "code",
      "source": [
        "ps2 = Employee()\n",
        "ps2.x"
      ],
      "metadata": {
        "colab": {
          "base_uri": "https://localhost:8080/"
        },
        "id": "fXfSTvmSmTpm",
        "outputId": "ab94e4f4-029b-4c70-a265-d91eb969190c"
      },
      "execution_count": 36,
      "outputs": [
        {
          "output_type": "execute_result",
          "data": {
            "text/plain": [
              "1"
            ]
          },
          "metadata": {},
          "execution_count": 36
        }
      ]
    },
    {
      "cell_type": "code",
      "source": [
        "Employee.y = 10\n",
        "Employee.y"
      ],
      "metadata": {
        "colab": {
          "base_uri": "https://localhost:8080/"
        },
        "id": "hSspBd3wmuer",
        "outputId": "f4c4bee3-56b2-42af-fc5d-3e281b4f7885"
      },
      "execution_count": 38,
      "outputs": [
        {
          "output_type": "execute_result",
          "data": {
            "text/plain": [
              "10"
            ]
          },
          "metadata": {},
          "execution_count": 38
        }
      ]
    },
    {
      "cell_type": "code",
      "source": [
        "ps2.display(5)"
      ],
      "metadata": {
        "colab": {
          "base_uri": "https://localhost:8080/"
        },
        "id": "SOYO-pylmwmw",
        "outputId": "35e7472c-b6e2-4d5a-baff-5d536e2b7533"
      },
      "execution_count": 39,
      "outputs": [
        {
          "output_type": "stream",
          "name": "stdout",
          "text": [
            "5\n"
          ]
        }
      ]
    },
    {
      "cell_type": "code",
      "source": [
        "ps2.y"
      ],
      "metadata": {
        "colab": {
          "base_uri": "https://localhost:8080/"
        },
        "id": "w-EMRmArm2zb",
        "outputId": "525cc548-7eb5-4e4a-8c58-6fcb5b9d4b19"
      },
      "execution_count": 40,
      "outputs": [
        {
          "output_type": "execute_result",
          "data": {
            "text/plain": [
              "5"
            ]
          },
          "metadata": {},
          "execution_count": 40
        }
      ]
    },
    {
      "cell_type": "code",
      "source": [
        "Employee.y"
      ],
      "metadata": {
        "colab": {
          "base_uri": "https://localhost:8080/"
        },
        "id": "-ZHjJjGkm4oN",
        "outputId": "3f54335f-0b93-4de0-fe9c-89a725109e6f"
      },
      "execution_count": 41,
      "outputs": [
        {
          "output_type": "execute_result",
          "data": {
            "text/plain": [
              "10"
            ]
          },
          "metadata": {},
          "execution_count": 41
        }
      ]
    },
    {
      "cell_type": "code",
      "source": [
        "class Department:\n",
        "  x = 3\n",
        "  def display(self, y):  # 메소드\n",
        "    self.y = y   # 인스턴스 변수\n",
        "    print(y)\n",
        "\n",
        "pd = Department()\n",
        "print(pd.x)  # 3\n",
        "print(Department.x)\n",
        "# print(Department.y)\n",
        "pd.display(5)  #5\n",
        "\n",
        "ps = Department()\n",
        "print(ps.x) #3\n",
        "ps.x = 10\n",
        "print(ps.x)\n",
        "print(pd.x)\n",
        "print(Department.x)\n",
        "Department.x = 500\n",
        "print(Department.x)\n",
        "print(pd.x)\n",
        "print(ps.x)\n",
        "\n",
        "Department.y=900\n",
        "print(Department.y)\n",
        "print(pd.y)\n",
        "print(ps.y)\n",
        "\n"
      ],
      "metadata": {
        "colab": {
          "base_uri": "https://localhost:8080/"
        },
        "id": "eE3-b9Ehm-uj",
        "outputId": "76991ed0-51d4-4665-a5da-6c3b1cc1a930"
      },
      "execution_count": 55,
      "outputs": [
        {
          "output_type": "stream",
          "name": "stdout",
          "text": [
            "3\n",
            "3\n",
            "5\n",
            "3\n",
            "10\n",
            "3\n",
            "3\n",
            "500\n",
            "500\n",
            "10\n",
            "900\n",
            "5\n",
            "900\n"
          ]
        }
      ]
    },
    {
      "cell_type": "code",
      "source": [
        "# python 함수와 메소드 구분이 모호하다.\n",
        "# shift + tab : builtin_fuction_or_method\n",
        "sum"
      ],
      "metadata": {
        "id": "0sJ5APAF1gId"
      },
      "execution_count": null,
      "outputs": []
    },
    {
      "cell_type": "markdown",
      "source": [
        "###instance에서는 class attribute에 접근 가능하다.\n",
        "###classs에서는 instance attribute에 접근할 수 없다."
      ],
      "metadata": {
        "id": "K7ixL13o3EZe"
      }
    },
    {
      "cell_type": "code",
      "source": [
        "class Manager : \n",
        "  x = 3\n",
        "\n",
        "a = Manager()\n",
        "a.red = \"레드\"\n",
        "\n",
        "print(a.x)\n",
        "print(Manager.red)"
      ],
      "metadata": {
        "colab": {
          "base_uri": "https://localhost:8080/",
          "height": 229
        },
        "id": "rQFmA8GM3M4h",
        "outputId": "5df9a130-1e68-4374-91cc-e48d5a1112d7"
      },
      "execution_count": 58,
      "outputs": [
        {
          "output_type": "stream",
          "name": "stdout",
          "text": [
            "3\n"
          ]
        },
        {
          "output_type": "error",
          "ename": "AttributeError",
          "evalue": "ignored",
          "traceback": [
            "\u001b[0;31m---------------------------------------------------------------------------\u001b[0m",
            "\u001b[0;31mAttributeError\u001b[0m                            Traceback (most recent call last)",
            "\u001b[0;32m<ipython-input-58-aaf08feedaea>\u001b[0m in \u001b[0;36m<module>\u001b[0;34m\u001b[0m\n\u001b[1;32m      6\u001b[0m \u001b[0;34m\u001b[0m\u001b[0m\n\u001b[1;32m      7\u001b[0m \u001b[0mprint\u001b[0m\u001b[0;34m(\u001b[0m\u001b[0ma\u001b[0m\u001b[0;34m.\u001b[0m\u001b[0mx\u001b[0m\u001b[0;34m)\u001b[0m\u001b[0;34m\u001b[0m\u001b[0;34m\u001b[0m\u001b[0m\n\u001b[0;32m----> 8\u001b[0;31m \u001b[0mprint\u001b[0m\u001b[0;34m(\u001b[0m\u001b[0mManager\u001b[0m\u001b[0;34m.\u001b[0m\u001b[0mred\u001b[0m\u001b[0;34m)\u001b[0m\u001b[0;34m\u001b[0m\u001b[0;34m\u001b[0m\u001b[0m\n\u001b[0m",
            "\u001b[0;31mAttributeError\u001b[0m: type object 'Manager' has no attribute 'red'"
          ]
        }
      ]
    },
    {
      "cell_type": "code",
      "source": [
        "class A:\n",
        "  a = 1\n",
        "  def display(self, k) :\n",
        "    self.k = k\n",
        "\n",
        "# 인스턴스 메소드에서 첫번째 인자는 무조건 생략할 수 없다.\n",
        "  def prn(self) :\n",
        "    print(self.a)\n",
        "\n",
        "print(A.a)\n",
        "x = A()\n",
        "x.display(5)\n",
        "print(x.k)\n",
        "x.prn()"
      ],
      "metadata": {
        "colab": {
          "base_uri": "https://localhost:8080/"
        },
        "id": "foKMukT03U5-",
        "outputId": "f627be43-f2cd-4fcb-cde9-29b6a9957813"
      },
      "execution_count": 65,
      "outputs": [
        {
          "output_type": "stream",
          "name": "stdout",
          "text": [
            "1\n",
            "5\n",
            "1\n"
          ]
        }
      ]
    },
    {
      "cell_type": "code",
      "source": [
        "A.display(x, 7)\n",
        "x.k"
      ],
      "metadata": {
        "colab": {
          "base_uri": "https://localhost:8080/"
        },
        "id": "Tp_t6Kob3333",
        "outputId": "1a0ec479-43b5-45ea-8fec-be528f7c9513"
      },
      "execution_count": 69,
      "outputs": [
        {
          "output_type": "execute_result",
          "data": {
            "text/plain": [
              "7"
            ]
          },
          "metadata": {},
          "execution_count": 69
        }
      ]
    },
    {
      "cell_type": "code",
      "source": [
        "A.prn(x)\n",
        "x.prn()"
      ],
      "metadata": {
        "colab": {
          "base_uri": "https://localhost:8080/"
        },
        "id": "7tLb8VSi56fH",
        "outputId": "98f011ef-9414-4d1c-a445-8437da648523"
      },
      "execution_count": 71,
      "outputs": [
        {
          "output_type": "stream",
          "name": "stdout",
          "text": [
            "1\n",
            "1\n"
          ]
        }
      ]
    },
    {
      "cell_type": "code",
      "source": [],
      "metadata": {
        "id": "f-YiXlgG6ajP"
      },
      "execution_count": null,
      "outputs": []
    }
  ]
}