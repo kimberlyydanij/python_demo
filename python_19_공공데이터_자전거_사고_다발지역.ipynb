{
  "nbformat": 4,
  "nbformat_minor": 0,
  "metadata": {
    "colab": {
      "provenance": [],
      "authorship_tag": "ABX9TyOMNBOgxOyBH3NHj1/imQFb",
      "include_colab_link": true
    },
    "kernelspec": {
      "name": "python3",
      "display_name": "Python 3"
    },
    "language_info": {
      "name": "python"
    }
  },
  "cells": [
    {
      "cell_type": "markdown",
      "metadata": {
        "id": "view-in-github",
        "colab_type": "text"
      },
      "source": [
        "<a href=\"https://colab.research.google.com/github/kimberlyydanij/python_demo/blob/master/python_19_%EA%B3%B5%EA%B3%B5%EB%8D%B0%EC%9D%B4%ED%84%B0_%EC%9E%90%EC%A0%84%EA%B1%B0_%EC%82%AC%EA%B3%A0_%EB%8B%A4%EB%B0%9C%EC%A7%80%EC%97%AD.ipynb\" target=\"_parent\"><img src=\"https://colab.research.google.com/assets/colab-badge.svg\" alt=\"Open In Colab\"/></a>"
      ]
    },
    {
      "cell_type": "markdown",
      "source": [
        "### 공공데이터 포털 \n",
        "- https://www.data.go.kr/index.do\n",
        "- https://www.data.go.kr/data/15056681/openapi.do\n",
        "- 도로교통공단_자전거 사고 다발지역 정보 서비스"
      ],
      "metadata": {
        "id": "X8UgeJIZG3LP"
      }
    },
    {
      "cell_type": "code",
      "execution_count": 1,
      "metadata": {
        "id": "vbku6vdjGzKQ"
      },
      "outputs": [],
      "source": [
        "import requests\n",
        "import json\n",
        "import sys"
      ]
    },
    {
      "cell_type": "code",
      "source": [
        "from google.colab import drive\n",
        "drive.mount('/content/drive')\n",
        "\n",
        "%cd /content/drive/MyDrive/python_demo"
      ],
      "metadata": {
        "colab": {
          "base_uri": "https://localhost:8080/"
        },
        "id": "6MN_VF1EHICI",
        "outputId": "2b5a5eab-e1ce-40fc-e287-dc869ec0d59f"
      },
      "execution_count": 2,
      "outputs": [
        {
          "output_type": "stream",
          "name": "stdout",
          "text": [
            "Mounted at /content/drive\n",
            "/content/drive/MyDrive/python_demo\n"
          ]
        }
      ]
    },
    {
      "cell_type": "markdown",
      "source": [
        "### 2. URL 연결\n"
      ],
      "metadata": {
        "id": "t_X4NpIqJ4q3"
      }
    },
    {
      "cell_type": "code",
      "source": [
        "url = 'http://apis.data.go.kr/B552061/frequentzoneBicycle/getRestFrequentzoneBicycle'\n",
        "key = 'DpaGJWT8z2UB%2B4jpthtXI7wMnAGiKO6l8tAClScAgFca9rZh%2BDoA8kJ2N8fAesPPBV6J5W5yrWftE0wU6sFgWg%3D%3D'\n",
        "#key = 'DpaGJWT8z2UB+4jpthtXI7wMnAGiKO6l8tAClScAgFca9rZh+DoA8kJ2N8fAesPPBV6J5W5yrWftE0wU6sFgWg=='\n",
        "\n",
        "params ={'serviceKey' : 'key', 'searchYearCd' : '2015', 'siDo' : '11', 'guGun' : '110', 'type' : 'json', 'numOfRows' : '10', 'pageNo' : '1' }\n",
        "\n",
        "response = requests.get(url, params=params)\n",
        "\n",
        "print(dir(response))\n",
        "#print(response.content)\n",
        "#print(type(response.content))   #byte\n",
        "#print(type(response.text))   #<class 'str'>\n",
        "#print(response.json())\n",
        "#print(response.text)\n",
        "response.json()"
      ],
      "metadata": {
        "colab": {
          "base_uri": "https://localhost:8080/"
        },
        "id": "oVQXv0RlHMBX",
        "outputId": "2b27704d-1f0b-45f5-8c8e-5f6bf9113aca"
      },
      "execution_count": 47,
      "outputs": [
        {
          "output_type": "stream",
          "name": "stdout",
          "text": [
            "['__attrs__', '__bool__', '__class__', '__delattr__', '__dict__', '__dir__', '__doc__', '__enter__', '__eq__', '__exit__', '__format__', '__ge__', '__getattribute__', '__getstate__', '__gt__', '__hash__', '__init__', '__init_subclass__', '__iter__', '__le__', '__lt__', '__module__', '__ne__', '__new__', '__nonzero__', '__reduce__', '__reduce_ex__', '__repr__', '__setattr__', '__setstate__', '__sizeof__', '__str__', '__subclasshook__', '__weakref__', '_content', '_content_consumed', '_next', 'apparent_encoding', 'close', 'connection', 'content', 'cookies', 'elapsed', 'encoding', 'headers', 'history', 'is_permanent_redirect', 'is_redirect', 'iter_content', 'iter_lines', 'json', 'links', 'next', 'ok', 'raise_for_status', 'raw', 'reason', 'request', 'status_code', 'text', 'url']\n"
          ]
        },
        {
          "output_type": "execute_result",
          "data": {
            "text/plain": [
              "{'resultCode': '00',\n",
              " 'resultMsg': 'NORMAL_CODE',\n",
              " 'items': {'item': [{'afos_fid': 6223546,\n",
              "    'afos_id': '2016147',\n",
              "    'bjd_cd': '1111010100',\n",
              "    'spot_cd': '11110001',\n",
              "    'sido_sgg_nm': '서울특별시 종로구1',\n",
              "    'spot_nm': '서울특별시 종로구 청운동(자하문사거리 부근)',\n",
              "    'occrrnc_cnt': 5,\n",
              "    'caslt_cnt': 5,\n",
              "    'dth_dnv_cnt': 0,\n",
              "    'se_dnv_cnt': 2,\n",
              "    'sl_dnv_cnt': 2,\n",
              "    'wnd_dnv_cnt': 1,\n",
              "    'geom_json': '{\"type\":\"Polygon\",\"coordinates\":[[[126.96787817,37.59248581],[126.96784365,37.59220808],[126.96774141,37.59194102],[126.96757538,37.5916949],[126.96735195,37.59147917],[126.9670797,37.59130212],[126.96676908,37.59117057],[126.96643205,37.59108956],[126.96608154,37.5910622],[126.96573104,37.59108956],[126.965394,37.59117057],[126.96508339,37.59130212],[126.96481113,37.59147917],[126.9645877,37.5916949],[126.96442167,37.59194102],[126.96431943,37.59220808],[126.96428491,37.59248581],[126.96431943,37.59276354],[126.96442167,37.59303059],[126.9645877,37.59327671],[126.96481113,37.59349244],[126.96508339,37.59366948],[126.965394,37.59380103],[126.96573104,37.59388204],[126.96608154,37.59390939],[126.96643205,37.59388204],[126.96676908,37.59380103],[126.9670797,37.59366948],[126.96735195,37.59349244],[126.96757538,37.59327671],[126.96774141,37.59303059],[126.96784365,37.59276354],[126.96787817,37.59248581]]]}',\n",
              "    'lo_crd': '126.966081541031',\n",
              "    'la_crd': '37.592485810473'},\n",
              "   {'afos_fid': 6223570,\n",
              "    'afos_id': '2016147',\n",
              "    'bjd_cd': '1111015600',\n",
              "    'spot_cd': '11110002',\n",
              "    'sido_sgg_nm': '서울특별시 종로구2',\n",
              "    'spot_nm': '서울특별시 종로구 종로3가(종로3가 부근)',\n",
              "    'occrrnc_cnt': 4,\n",
              "    'caslt_cnt': 4,\n",
              "    'dth_dnv_cnt': 0,\n",
              "    'se_dnv_cnt': 1,\n",
              "    'sl_dnv_cnt': 1,\n",
              "    'wnd_dnv_cnt': 2,\n",
              "    'geom_json': '{\"type\":\"Polygon\",\"coordinates\":[[[126.99392295,37.57024572],[126.99388843,37.56996791],[126.99378619,37.56970077],[126.99362016,37.56945457],[126.99339673,37.56923878],[126.99312447,37.56906168],[126.99281386,37.56893009],[126.99247682,37.56884905],[126.99212632,37.56882169],[126.99177581,37.56884905],[126.99143878,37.56893009],[126.99112816,37.56906168],[126.99085591,37.56923878],[126.99063247,37.56945457],[126.99046645,37.56970077],[126.99036421,37.56996791],[126.99032969,37.57024572],[126.99036421,37.57052353],[126.99046645,37.57079067],[126.99063247,37.57103686],[126.99085591,37.57125265],[126.99112816,37.57142974],[126.99143878,37.57156133],[126.99177581,37.57164237],[126.99212632,37.57166973],[126.99247682,37.57164237],[126.99281386,37.57156133],[126.99312447,37.57142974],[126.99339673,37.57125265],[126.99362016,37.57103686],[126.99378619,37.57079067],[126.99388843,37.57052353],[126.99392295,37.57024572]]]}',\n",
              "    'lo_crd': '126.992126317577',\n",
              "    'la_crd': '37.570245721963'}]},\n",
              " 'totalCount': 2,\n",
              " 'numOfRows': 2,\n",
              " 'pageNo': 1}"
            ]
          },
          "metadata": {},
          "execution_count": 47
        }
      ]
    },
    {
      "cell_type": "markdown",
      "source": [
        "### 3. 분석작업\n"
      ],
      "metadata": {
        "id": "typykVPhQjZk"
      }
    },
    {
      "cell_type": "code",
      "source": [
        "# item 접근\n",
        "w_data = response.json()['items']['item']\n",
        "print(len(w_data))\n",
        "for i in range(len(w_data)):\n",
        "  print('spot_nm : ' + w_data[i]['spot_nm'])\n",
        "  print('경도 : ' + w_data[i]['lo_crd']) \n",
        "  print('위도 : ' + w_data[i]['la_crd'])"
      ],
      "metadata": {
        "colab": {
          "base_uri": "https://localhost:8080/"
        },
        "id": "9Uqz42wQK2PJ",
        "outputId": "9a61d184-c53f-4c81-f53e-c9a91dc57a35"
      },
      "execution_count": 48,
      "outputs": [
        {
          "output_type": "stream",
          "name": "stdout",
          "text": [
            "2\n",
            "spot_nm : 서울특별시 종로구 청운동(자하문사거리 부근)\n",
            "경도 : 126.966081541031\n",
            "위도 : 37.592485810473\n",
            "spot_nm : 서울특별시 종로구 종로3가(종로3가 부근)\n",
            "경도 : 126.992126317577\n",
            "위도 : 37.570245721963\n"
          ]
        }
      ]
    },
    {
      "cell_type": "code",
      "source": [
        "responseData = response.text\n",
        "#print(responseData)\n",
        "if response.status_code == 200:\n",
        "  responseData = response.text\n",
        "  dictdata = json.loads(responseData) #str을 dict 변환\n",
        "  print(type(dictdata))  #<class 'dict'>\n",
        "  print(dictdata)\n",
        "\n",
        "#xd = xmltodict.parse(responseData)   #XML형식의 데이터를 DICT 형식으로 변환\n",
        "#xdj = json.dump(xd, ensure_ascii=False) # dict 형식의 데이터를 json 형식으로 변환\n",
        "#xmljd = json.loads(xdj) # json 형식의 데이터를 dict 형식으로 변환\n",
        "#djd = json.loads(responseData) #str을 dict로 변환\n"
      ],
      "metadata": {
        "colab": {
          "base_uri": "https://localhost:8080/"
        },
        "id": "vJ5r7lAXQqOC",
        "outputId": "8281a571-b489-46f6-8d61-76ec6dd7bd0d"
      },
      "execution_count": 60,
      "outputs": [
        {
          "output_type": "stream",
          "name": "stdout",
          "text": [
            "<class 'dict'>\n",
            "{'resultCode': '00', 'resultMsg': 'NORMAL_CODE', 'items': {'item': [{'afos_fid': 6223546, 'afos_id': '2016147', 'bjd_cd': '1111010100', 'spot_cd': '11110001', 'sido_sgg_nm': '서울특별시 종로구1', 'spot_nm': '서울특별시 종로구 청운동(자하문사거리 부근)', 'occrrnc_cnt': 5, 'caslt_cnt': 5, 'dth_dnv_cnt': 0, 'se_dnv_cnt': 2, 'sl_dnv_cnt': 2, 'wnd_dnv_cnt': 1, 'geom_json': '{\"type\":\"Polygon\",\"coordinates\":[[[126.96787817,37.59248581],[126.96784365,37.59220808],[126.96774141,37.59194102],[126.96757538,37.5916949],[126.96735195,37.59147917],[126.9670797,37.59130212],[126.96676908,37.59117057],[126.96643205,37.59108956],[126.96608154,37.5910622],[126.96573104,37.59108956],[126.965394,37.59117057],[126.96508339,37.59130212],[126.96481113,37.59147917],[126.9645877,37.5916949],[126.96442167,37.59194102],[126.96431943,37.59220808],[126.96428491,37.59248581],[126.96431943,37.59276354],[126.96442167,37.59303059],[126.9645877,37.59327671],[126.96481113,37.59349244],[126.96508339,37.59366948],[126.965394,37.59380103],[126.96573104,37.59388204],[126.96608154,37.59390939],[126.96643205,37.59388204],[126.96676908,37.59380103],[126.9670797,37.59366948],[126.96735195,37.59349244],[126.96757538,37.59327671],[126.96774141,37.59303059],[126.96784365,37.59276354],[126.96787817,37.59248581]]]}', 'lo_crd': '126.966081541031', 'la_crd': '37.592485810473'}, {'afos_fid': 6223570, 'afos_id': '2016147', 'bjd_cd': '1111015600', 'spot_cd': '11110002', 'sido_sgg_nm': '서울특별시 종로구2', 'spot_nm': '서울특별시 종로구 종로3가(종로3가 부근)', 'occrrnc_cnt': 4, 'caslt_cnt': 4, 'dth_dnv_cnt': 0, 'se_dnv_cnt': 1, 'sl_dnv_cnt': 1, 'wnd_dnv_cnt': 2, 'geom_json': '{\"type\":\"Polygon\",\"coordinates\":[[[126.99392295,37.57024572],[126.99388843,37.56996791],[126.99378619,37.56970077],[126.99362016,37.56945457],[126.99339673,37.56923878],[126.99312447,37.56906168],[126.99281386,37.56893009],[126.99247682,37.56884905],[126.99212632,37.56882169],[126.99177581,37.56884905],[126.99143878,37.56893009],[126.99112816,37.56906168],[126.99085591,37.56923878],[126.99063247,37.56945457],[126.99046645,37.56970077],[126.99036421,37.56996791],[126.99032969,37.57024572],[126.99036421,37.57052353],[126.99046645,37.57079067],[126.99063247,37.57103686],[126.99085591,37.57125265],[126.99112816,37.57142974],[126.99143878,37.57156133],[126.99177581,37.57164237],[126.99212632,37.57166973],[126.99247682,37.57164237],[126.99281386,37.57156133],[126.99312447,37.57142974],[126.99339673,37.57125265],[126.99362016,37.57103686],[126.99378619,37.57079067],[126.99388843,37.57052353],[126.99392295,37.57024572]]]}', 'lo_crd': '126.992126317577', 'la_crd': '37.570245721963'}]}, 'totalCount': 2, 'numOfRows': 2, 'pageNo': 1}\n"
          ]
        }
      ]
    },
    {
      "cell_type": "code",
      "source": [],
      "metadata": {
        "id": "e4HHRmDKUqoa"
      },
      "execution_count": null,
      "outputs": []
    }
  ]
}