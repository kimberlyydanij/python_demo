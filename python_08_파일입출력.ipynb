{
  "nbformat": 4,
  "nbformat_minor": 0,
  "metadata": {
    "colab": {
      "provenance": [],
      "authorship_tag": "ABX9TyMXQRKP+1LFt6rQsyJx26bn",
      "include_colab_link": true
    },
    "kernelspec": {
      "name": "python3",
      "display_name": "Python 3"
    },
    "language_info": {
      "name": "python"
    }
  },
  "cells": [
    {
      "cell_type": "markdown",
      "metadata": {
        "id": "view-in-github",
        "colab_type": "text"
      },
      "source": [
        "<a href=\"https://colab.research.google.com/github/kimberlyydanij/python_demo/blob/master/python_08_%ED%8C%8C%EC%9D%BC%EC%9E%85%EC%B6%9C%EB%A0%A5.ipynb\" target=\"_parent\"><img src=\"https://colab.research.google.com/assets/colab-badge.svg\" alt=\"Open In Colab\"/></a>"
      ]
    },
    {
      "cell_type": "markdown",
      "source": [
        "open('파일경로','파일열기모드')\n",
        "  - 파일 열기 모드\n",
        "   - w 쓰기모드 : 파일에 내용을 쓸때 사용\n",
        "   - r 읽기모드 : 파일의 내용을 읽을 때 사용\n",
        "   - a 추가모드 : 파일의 내용을 추가할 때 사용"
      ],
      "metadata": {
        "id": "fvLdtMi8_FS0"
      }
    },
    {
      "cell_type": "code",
      "execution_count": 5,
      "metadata": {
        "id": "gzOfiBr5_BpS"
      },
      "outputs": [],
      "source": [
        "# open ('파일경로','모드')\n",
        "fwrite = open('sample.txt', 'w')\n",
        "for i in range(1, 4):\n",
        "  data = '%d번째 줄입니다.\\n' % i\n",
        "  fwrite.write(data)\n",
        "fwrite.close() # 파일 닫기"
      ]
    },
    {
      "cell_type": "code",
      "source": [
        "fread = open('sample.txt','r')  # sample.txt 파일에 데이터를 읽어온다.\n",
        "#line = fread.readlint() # readline()은 파일에서 한 라인씩 읽어옴\n",
        "line = fread.read() # read() 는 파일에서 전체를 읽어와 str 로 리턴한다.\n",
        "print(type(line))\n",
        "fread.close()"
      ],
      "metadata": {
        "colab": {
          "base_uri": "https://localhost:8080/"
        },
        "id": "10o85znkAa5n",
        "outputId": "4cbb8442-d33c-494a-b03a-56716ad43a72"
      },
      "execution_count": 6,
      "outputs": [
        {
          "output_type": "stream",
          "name": "stdout",
          "text": [
            "<class 'str'>\n"
          ]
        }
      ]
    },
    {
      "cell_type": "code",
      "source": [
        "fread = open ('sample.txt', 'r')  #'sample.txt'파일의 데이터를 읽어온다.\n",
        "while True :\n",
        "  line = fread.readline() \n",
        "  if not line : # 파일에서 더이상 읽어올 내용이 없으면\n",
        "    break\n",
        "  print(line)"
      ],
      "metadata": {
        "colab": {
          "base_uri": "https://localhost:8080/"
        },
        "id": "0pHulVJFBqqk",
        "outputId": "729aabe2-3eb2-48ff-873d-46734c6b31bb"
      },
      "execution_count": 7,
      "outputs": [
        {
          "output_type": "stream",
          "name": "stdout",
          "text": [
            "1번째 줄입니다.\n",
            "\n",
            "2번째 줄입니다.\n",
            "\n",
            "3번째 줄입니다.\n",
            "\n"
          ]
        }
      ]
    },
    {
      "cell_type": "markdown",
      "source": [
        "### with 문과 함께 사용\n",
        "- with문과 함께 사용하면 읽기, 쓰기 할때 close()를 안해도 된다."
      ],
      "metadata": {
        "id": "rjrZDDt4DGmc"
      }
    },
    {
      "cell_type": "code",
      "source": [
        "with open('sample.txt','w') as f:\n",
        "  for i range(5, 8):\n",
        "    data = '%번째 줄입니다.' % i\n",
        "    f.write(data)"
      ],
      "metadata": {
        "colab": {
          "base_uri": "https://localhost:8080/",
          "height": 137
        },
        "id": "LJtamq7fB8ra",
        "outputId": "ae9743d4-d331-4fa7-b4ee-eb2de7e419da"
      },
      "execution_count": 8,
      "outputs": [
        {
          "output_type": "error",
          "ename": "SyntaxError",
          "evalue": "ignored",
          "traceback": [
            "\u001b[0;36m  File \u001b[0;32m\"<ipython-input-8-4fe87082019e>\"\u001b[0;36m, line \u001b[0;32m2\u001b[0m\n\u001b[0;31m    for i range(5, 8):\u001b[0m\n\u001b[0m          ^\u001b[0m\n\u001b[0;31mSyntaxError\u001b[0m\u001b[0;31m:\u001b[0m invalid syntax\n"
          ]
        }
      ]
    },
    {
      "cell_type": "code",
      "source": [
        "with open('sample.txt', 'r') as f:\n",
        "  while True:\n",
        "    line = f.readline()\n",
        "    if not line :\n",
        "      break\n",
        "    print(line)"
      ],
      "metadata": {
        "colab": {
          "base_uri": "https://localhost:8080/"
        },
        "id": "oum9uF8UE0rt",
        "outputId": "e02b9883-c9c3-4c20-ca97-b7dad58a7a22"
      },
      "execution_count": 9,
      "outputs": [
        {
          "output_type": "stream",
          "name": "stdout",
          "text": [
            "1번째 줄입니다.\n",
            "\n",
            "2번째 줄입니다.\n",
            "\n",
            "3번째 줄입니다.\n",
            "\n"
          ]
        }
      ]
    },
    {
      "cell_type": "code",
      "source": [
        "with open('test.txt','w') as f:\n",
        " f.writelines(['apple','banana','lemon'])\n",
        " #f.writelines([True,False,True,False])"
      ],
      "metadata": {
        "id": "01fy8itnFEWx"
      },
      "execution_count": 14,
      "outputs": []
    },
    {
      "cell_type": "code",
      "source": [
        "with open('test.txt','r') as f:\n",
        "  print(f.readlines())"
      ],
      "metadata": {
        "colab": {
          "base_uri": "https://localhost:8080/"
        },
        "id": "Qns1evv2F5hX",
        "outputId": "476dc9a4-e5fa-4d0e-a996-911ed2be72c4"
      },
      "execution_count": 16,
      "outputs": [
        {
          "output_type": "stream",
          "name": "stdout",
          "text": [
            "['applebananalemon']\n"
          ]
        }
      ]
    },
    {
      "cell_type": "code",
      "source": [
        "import random\n",
        "random.choice([1,2,3,4])"
      ],
      "metadata": {
        "colab": {
          "base_uri": "https://localhost:8080/"
        },
        "id": "ztQji4_tGBlj",
        "outputId": "6fbc7092-e599-405b-b744-01021d2f8ab5"
      },
      "execution_count": 19,
      "outputs": [
        {
          "output_type": "execute_result",
          "data": {
            "text/plain": [
              "2"
            ]
          },
          "metadata": {},
          "execution_count": 19
        }
      ]
    },
    {
      "cell_type": "code",
      "source": [
        "random.randrange(1,10)"
      ],
      "metadata": {
        "colab": {
          "base_uri": "https://localhost:8080/"
        },
        "id": "hv8R89OrG1FL",
        "outputId": "ece26a05-d6d0-4f04-8467-26e00d06b393"
      },
      "execution_count": 20,
      "outputs": [
        {
          "output_type": "execute_result",
          "data": {
            "text/plain": [
              "6"
            ]
          },
          "metadata": {},
          "execution_count": 20
        }
      ]
    },
    {
      "cell_type": "code",
      "source": [
        "with open('number.txt','w') as f:\n",
        "  f.write(str(random.randrange(1,10)))"
      ],
      "metadata": {
        "id": "bKIwiBv0G-nl"
      },
      "execution_count": 23,
      "outputs": []
    },
    {
      "cell_type": "code",
      "source": [
        "with open('number.txt','r') as f:\n",
        "  print(f.read())"
      ],
      "metadata": {
        "colab": {
          "base_uri": "https://localhost:8080/"
        },
        "id": "DV5NOwhEHgCo",
        "outputId": "c9a72912-766c-4987-d726-ea9b03fd5c74"
      },
      "execution_count": 24,
      "outputs": [
        {
          "output_type": "stream",
          "name": "stdout",
          "text": [
            "1\n"
          ]
        }
      ]
    },
    {
      "cell_type": "code",
      "source": [],
      "metadata": {
        "id": "gNo5zn39Hm4q"
      },
      "execution_count": null,
      "outputs": []
    }
  ]
}