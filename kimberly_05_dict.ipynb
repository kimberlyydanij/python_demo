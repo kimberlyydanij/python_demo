{
  "nbformat": 4,
  "nbformat_minor": 0,
  "metadata": {
    "colab": {
      "provenance": [],
      "authorship_tag": "ABX9TyOdal/5qrYm9fXeEhGJuVLG",
      "include_colab_link": true
    },
    "kernelspec": {
      "name": "python3",
      "display_name": "Python 3"
    },
    "language_info": {
      "name": "python"
    }
  },
  "cells": [
    {
      "cell_type": "markdown",
      "metadata": {
        "id": "view-in-github",
        "colab_type": "text"
      },
      "source": [
        "<a href=\"https://colab.research.google.com/github/kimberlyydanij/python_demo/blob/master/kimberly_05_dict.ipynb\" target=\"_parent\"><img src=\"https://colab.research.google.com/assets/colab-badge.svg\" alt=\"Open In Colab\"/></a>"
      ]
    },
    {
      "cell_type": "markdown",
      "source": [
        "#딕셔너리 자료형\n",
        "\n",
        "리스트나 튜플처럼 순차적으로 해당요소값을 구하지 않고\n",
        "Key를 통해 Value를 얻는다, 연관배열 또는 Hash와 같다.\n",
        "\n",
        "{key1:value1, key2:value2...}"
      ],
      "metadata": {
        "id": "uauHjkPJB-R-"
      }
    },
    {
      "cell_type": "code",
      "execution_count": 3,
      "metadata": {
        "colab": {
          "base_uri": "https://localhost:8080/"
        },
        "id": "PuP_KSmsB3C6",
        "outputId": "1b3ed926-73a8-4160-ae48-c9354a0ccda9"
      },
      "outputs": [
        {
          "output_type": "execute_result",
          "data": {
            "text/plain": [
              "{'name': 'pey', 'phone': '0119993323', 'birth': '1118'}"
            ]
          },
          "metadata": {},
          "execution_count": 3
        }
      ],
      "source": [
        "dic = {'name':'pey','phone':'0119993323','birth':'1118'}\n",
        "dic"
      ]
    },
    {
      "cell_type": "code",
      "source": [
        "a = {1:'hi'}\n",
        "a"
      ],
      "metadata": {
        "colab": {
          "base_uri": "https://localhost:8080/"
        },
        "id": "xfrX6ALuCtJp",
        "outputId": "3846f87b-4bd2-4a2d-9c55-e63d9c20b197"
      },
      "execution_count": 6,
      "outputs": [
        {
          "output_type": "execute_result",
          "data": {
            "text/plain": [
              "{1: 'hi'}"
            ]
          },
          "metadata": {},
          "execution_count": 6
        }
      ]
    },
    {
      "cell_type": "code",
      "source": [
        "a = {'a' : [1,2,3]}\n",
        "a"
      ],
      "metadata": {
        "colab": {
          "base_uri": "https://localhost:8080/"
        },
        "id": "9G-t5OQICvFw",
        "outputId": "3da5bb13-3442-4aa5-e8dd-aaea47069ce0"
      },
      "execution_count": 7,
      "outputs": [
        {
          "output_type": "execute_result",
          "data": {
            "text/plain": [
              "{'a': [1, 2, 3]}"
            ]
          },
          "metadata": {},
          "execution_count": 7
        }
      ]
    },
    {
      "cell_type": "code",
      "source": [
        "a = {1:'a'}\n",
        "a[2] = 'b'\n",
        "a['name'] = 'pay'\n",
        "a[3] = [1,2,3]\n",
        "a\n",
        "del a[1]\n",
        "a"
      ],
      "metadata": {
        "colab": {
          "base_uri": "https://localhost:8080/"
        },
        "id": "bG8BoTA9CwAn",
        "outputId": "85868e25-43e4-4ce9-fd9c-c9fdb0c6a932"
      },
      "execution_count": 17,
      "outputs": [
        {
          "output_type": "execute_result",
          "data": {
            "text/plain": [
              "{2: 'b', 'name': 'pay', 3: [1, 2, 3]}"
            ]
          },
          "metadata": {},
          "execution_count": 17
        }
      ]
    },
    {
      "cell_type": "code",
      "source": [
        "dic = {'name':'pey','phone':'0119993323','birth':'1118'}\n",
        "dic['name']\n",
        "dic['phone']\n",
        "dic['birth']\n"
      ],
      "metadata": {
        "colab": {
          "base_uri": "https://localhost:8080/",
          "height": 35
        },
        "id": "1Hs3jTivC_QS",
        "outputId": "fe16f50d-88de-408e-f535-cfbacbc620df"
      },
      "execution_count": 20,
      "outputs": [
        {
          "output_type": "execute_result",
          "data": {
            "text/plain": [
              "'1118'"
            ],
            "application/vnd.google.colaboratory.intrinsic+json": {
              "type": "string"
            }
          },
          "metadata": {},
          "execution_count": 20
        }
      ]
    },
    {
      "cell_type": "markdown",
      "source": [
        "#### 키 값은 고유하며, 중복될 경우 어떤 것이 무시 될 지 예측할 수 없다.\n",
        "##### key에는 리스트를 쓸 수 없지만 값이 변하지 않는 튜플은 쓸 수 있다."
      ],
      "metadata": {
        "id": "QOzPwqexDrTu"
      }
    },
    {
      "cell_type": "code",
      "source": [
        "a = {'name':'pey','phone':'0119993323','birth':'1118'}\n",
        "a.keys()"
      ],
      "metadata": {
        "colab": {
          "base_uri": "https://localhost:8080/"
        },
        "id": "zzHOQWqnDHUp",
        "outputId": "e3a2e698-050b-47ee-cb4b-cac28fd9f912"
      },
      "execution_count": 22,
      "outputs": [
        {
          "output_type": "execute_result",
          "data": {
            "text/plain": [
              "dict_keys(['name', 'phone', 'birth'])"
            ]
          },
          "metadata": {},
          "execution_count": 22
        }
      ]
    },
    {
      "cell_type": "code",
      "source": [
        "for k in a.keys():\n",
        "  print(k)"
      ],
      "metadata": {
        "colab": {
          "base_uri": "https://localhost:8080/"
        },
        "id": "vLOqgqLrEFYk",
        "outputId": "981b3430-d957-4f0d-9b9a-6a28806e3c35"
      },
      "execution_count": 24,
      "outputs": [
        {
          "output_type": "stream",
          "name": "stdout",
          "text": [
            "name\n",
            "phone\n",
            "birth\n"
          ]
        }
      ]
    },
    {
      "cell_type": "code",
      "source": [
        "list(a.keys())\n",
        "a.items()"
      ],
      "metadata": {
        "colab": {
          "base_uri": "https://localhost:8080/"
        },
        "id": "NRDIXImiEHlY",
        "outputId": "222ad2ed-fe9e-45ce-da02-df65797ad892"
      },
      "execution_count": 26,
      "outputs": [
        {
          "output_type": "execute_result",
          "data": {
            "text/plain": [
              "dict_items([('name', 'pey'), ('phone', '0119993323'), ('birth', '1118')])"
            ]
          },
          "metadata": {},
          "execution_count": 26
        }
      ]
    },
    {
      "cell_type": "code",
      "source": [
        "a.clear()\n",
        "a"
      ],
      "metadata": {
        "colab": {
          "base_uri": "https://localhost:8080/"
        },
        "id": "R4Fdwt4AFBQ4",
        "outputId": "d5b61764-52b7-458f-aaac-76a817643c1d"
      },
      "execution_count": 27,
      "outputs": [
        {
          "output_type": "execute_result",
          "data": {
            "text/plain": [
              "{}"
            ]
          },
          "metadata": {},
          "execution_count": 27
        }
      ]
    },
    {
      "cell_type": "code",
      "source": [
        "dic = {'name':'pey','phone':'0119993323','birth':'1118'}\n",
        "dic.get(\"name\")\n",
        "dic.get(\"foo\",\"bar\")"
      ],
      "metadata": {
        "colab": {
          "base_uri": "https://localhost:8080/",
          "height": 35
        },
        "id": "hOTcqToMFDLM",
        "outputId": "30c3a3ff-f201-4b6a-e5a8-eb045a913c59"
      },
      "execution_count": 30,
      "outputs": [
        {
          "output_type": "execute_result",
          "data": {
            "text/plain": [
              "'bar'"
            ],
            "application/vnd.google.colaboratory.intrinsic+json": {
              "type": "string"
            }
          },
          "metadata": {},
          "execution_count": 30
        }
      ]
    },
    {
      "cell_type": "code",
      "source": [
        "dic = {'name':'pey','phone':'0119993323','birth':'1118'}\n",
        "\"name\" in dic\n",
        "\"email\" in dic"
      ],
      "metadata": {
        "colab": {
          "base_uri": "https://localhost:8080/"
        },
        "id": "V_1_NbriFOYl",
        "outputId": "ebc0c557-f149-4c21-bb97-689c527ed4b1"
      },
      "execution_count": 33,
      "outputs": [
        {
          "output_type": "execute_result",
          "data": {
            "text/plain": [
              "False"
            ]
          },
          "metadata": {},
          "execution_count": 33
        }
      ]
    }
  ]
}