{
  "nbformat": 4,
  "nbformat_minor": 0,
  "metadata": {
    "colab": {
      "provenance": [],
      "authorship_tag": "ABX9TyM0L5Sk7142NHSXFZxWba4+",
      "include_colab_link": true
    },
    "kernelspec": {
      "name": "python3",
      "display_name": "Python 3"
    },
    "language_info": {
      "name": "python"
    }
  },
  "cells": [
    {
      "cell_type": "markdown",
      "metadata": {
        "id": "view-in-github",
        "colab_type": "text"
      },
      "source": [
        "<a href=\"https://colab.research.google.com/github/kimberlyydanij/python_demo/blob/master/python_21_%EC%B6%9C%EC%9E%85%EA%B5%AD%EA%B4%80%EA%B4%91.ipynb\" target=\"_parent\"><img src=\"https://colab.research.google.com/assets/colab-badge.svg\" alt=\"Open In Colab\"/></a>"
      ]
    },
    {
      "cell_type": "code",
      "execution_count": 1,
      "metadata": {
        "colab": {
          "base_uri": "https://localhost:8080/"
        },
        "id": "YCruC8ITZjKL",
        "outputId": "b890c876-a860-4cef-82a9-a08a8f46bd51"
      },
      "outputs": [
        {
          "output_type": "stream",
          "name": "stdout",
          "text": [
            "Mounted at /content/drive\n",
            "/content/drive/MyDrive/python_demo\n"
          ]
        }
      ],
      "source": [
        "from google.colab import drive\n",
        "drive.mount('/content/drive')\n",
        "\n",
        "%cd /content/drive/MyDrive/python_demo"
      ]
    },
    {
      "cell_type": "code",
      "source": [
        "import requests\n",
        "\n",
        "url = 'http://openapi.tour.go.kr/openapi/service/EdrcntTourismStatsService/getEdrcntTourismStatsList'\n",
        "#key = 'DpaGJWT8z2UB%2B4jpthtXI7wMnAGiKO6l8tAClScAgFca9rZh%2BDoA8kJ2N8fAesPPBV6J5W5yrWftE0wU6sFgWg%3D%3D'\n",
        "key = 'DpaGJWT8z2UB+4jpthtXI7wMnAGiKO6l8tAClScAgFca9rZh+DoA8kJ2N8fAesPPBV6J5W5yrWftE0wU6sFgWg=='\n",
        "params ={'serviceKey' : 'key', 'YM' : '201201', 'NAT_CD' : '112', 'ED_CD' : 'E' }\n",
        "\n",
        "response = requests.get(url, params=params)\n",
        "print(response.content)"
      ],
      "metadata": {
        "colab": {
          "base_uri": "https://localhost:8080/"
        },
        "id": "DXxd6Ou-Zx4w",
        "outputId": "2579616f-ee93-48e1-8edb-2f39f88e9adf"
      },
      "execution_count": 3,
      "outputs": [
        {
          "output_type": "stream",
          "name": "stdout",
          "text": [
            "b'<?xml version=\"1.0\" encoding=\"UTF-8\" standalone=\"yes\"?><response><header><responseTime>2022-12-14T15:53:49.644+09:00</responseTime><resultCode>30</resultCode><resultMsg>SERVICE KEY IS NOT REGISTERED ERROR.</resultMsg></header></response>'\n"
          ]
        }
      ]
    },
    {
      "cell_type": "code",
      "source": [],
      "metadata": {
        "id": "IgQUAwP1aTO2"
      },
      "execution_count": null,
      "outputs": []
    }
  ]
}