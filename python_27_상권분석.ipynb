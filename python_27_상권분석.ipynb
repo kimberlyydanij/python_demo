{
  "nbformat": 4,
  "nbformat_minor": 0,
  "metadata": {
    "colab": {
      "provenance": [],
      "authorship_tag": "ABX9TyMZXLWPfkkdlaAfa+kcpokU",
      "include_colab_link": true
    },
    "kernelspec": {
      "name": "python3",
      "display_name": "Python 3"
    },
    "language_info": {
      "name": "python"
    }
  },
  "cells": [
    {
      "cell_type": "markdown",
      "metadata": {
        "id": "view-in-github",
        "colab_type": "text"
      },
      "source": [
        "<a href=\"https://colab.research.google.com/github/kimberlyydanij/python_demo/blob/master/python_27_%EC%83%81%EA%B6%8C%EB%B6%84%EC%84%9D.ipynb\" target=\"_parent\"><img src=\"https://colab.research.google.com/assets/colab-badge.svg\" alt=\"Open In Colab\"/></a>"
      ]
    },
    {
      "cell_type": "code",
      "execution_count": 91,
      "metadata": {
        "colab": {
          "base_uri": "https://localhost:8080/"
        },
        "id": "jZUAFhz43e69",
        "outputId": "67ffeac9-9838-42f2-b295-36050371877d"
      },
      "outputs": [
        {
          "output_type": "stream",
          "name": "stdout",
          "text": [
            "Reading package lists... Done\n",
            "Building dependency tree       \n",
            "Reading state information... Done\n",
            "fonts-nanum is already the newest version (20170925-1).\n",
            "The following package was automatically installed and is no longer required:\n",
            "  libnvidia-common-460\n",
            "Use 'sudo apt autoremove' to remove it.\n",
            "0 upgraded, 0 newly installed, 0 to remove and 20 not upgraded.\n",
            "/usr/share/fonts: caching, new cache contents: 0 fonts, 1 dirs\n",
            "/usr/share/fonts/truetype: caching, new cache contents: 0 fonts, 3 dirs\n",
            "/usr/share/fonts/truetype/humor-sans: caching, new cache contents: 1 fonts, 0 dirs\n",
            "/usr/share/fonts/truetype/liberation: caching, new cache contents: 16 fonts, 0 dirs\n",
            "/usr/share/fonts/truetype/nanum: caching, new cache contents: 10 fonts, 0 dirs\n",
            "/usr/local/share/fonts: caching, new cache contents: 0 fonts, 0 dirs\n",
            "/root/.local/share/fonts: skipping, no such directory\n",
            "/root/.fonts: skipping, no such directory\n",
            "/var/cache/fontconfig: cleaning cache directory\n",
            "/root/.cache/fontconfig: not cleaning non-existent cache directory\n",
            "/root/.fontconfig: not cleaning non-existent cache directory\n",
            "fc-cache: succeeded\n",
            "rm: invalid option -- 'j'\n",
            "Try 'rm --help' for more information.\n"
          ]
        }
      ],
      "source": [
        "!sudo apt-get install -y fonts-nanum\n",
        "!sudo fc-cache -fv\n",
        "!rm ~/.cache/matplotlib -rfjnhbgmv ,     "
      ]
    },
    {
      "cell_type": "code",
      "source": [
        "from google.colab import drive\n",
        "drive.mount('/content/drive')\n",
        "\n",
        "%cd /content/drive/MyDrive/python_demo"
      ],
      "metadata": {
        "colab": {
          "base_uri": "https://localhost:8080/"
        },
        "id": "W8mdIQFw3jIo",
        "outputId": "3644902d-4cb5-41f2-f6ba-34e6918d1d38"
      },
      "execution_count": 1,
      "outputs": [
        {
          "output_type": "stream",
          "name": "stdout",
          "text": [
            "Drive already mounted at /content/drive; to attempt to forcibly remount, call drive.mount(\"/content/drive\", force_remount=True).\n",
            "/content/drive/MyDrive/python_demo\n"
          ]
        }
      ]
    },
    {
      "cell_type": "code",
      "source": [
        "import numpy as np\n",
        "import pandas as pd\n",
        "import matplotlib as mp\n",
        "import matplotlib.pyplot as plt\n",
        "import seaborn as sns"
      ],
      "metadata": {
        "id": "nKs-YzRA3rju"
      },
      "execution_count": 7,
      "outputs": []
    },
    {
      "cell_type": "code",
      "source": [
        "plt.rc('font', family='NanumBarunGothic')"
      ],
      "metadata": {
        "id": "UYVh-mBv30CA"
      },
      "execution_count": null,
      "outputs": []
    },
    {
      "cell_type": "code",
      "source": [
        "df = pd.read_csv('pdsample/seoul_20200630.csv', sep='|')\n",
        "df.head()"
      ],
      "metadata": {
        "colab": {
          "base_uri": "https://localhost:8080/",
          "height": 922
        },
        "id": "_XO42m5W32Qi",
        "outputId": "0d143f5f-8e70-42e3-b814-9bee59fa9325"
      },
      "execution_count": 12,
      "outputs": [
        {
          "output_type": "execute_result",
          "data": {
            "text/plain": [
              "     상가업소번호    상호명   지점명 상권업종대분류코드 상권업종대분류명 상권업종중분류코드 상권업종중분류명 상권업종소분류코드  \\\n",
              "0  19964615  석봉토스트   NaN         Q       음식       Q07    패스트푸드    Q07A10   \n",
              "1  19977290   피자마루   약수점         Q       음식       Q07    패스트푸드    Q07A01   \n",
              "2  19979960   홍능갈비   NaN         Q       음식       Q01       한식    Q01A02   \n",
              "3  19983535    초밥왕   NaN         Q       음식       Q03   일식/수산물    Q03A03   \n",
              "4  19969945   에브리돈  북가좌점         Q       음식       Q01       한식    Q01A01   \n",
              "\n",
              "    상권업종소분류명 표준산업분류코드  ...                     건물관리번호      건물명  \\\n",
              "0      토스트전문   I56192  ...  1121510300100770047020647      NaN   \n",
              "1       피자전문   I56192  ...  1114016200103720095000001     현진빌딩   \n",
              "2     갈비/삼겹살   I56111  ...  1150010300110860003013118      NaN   \n",
              "3   음식점-초밥전문   I56113  ...  1171010200100070028000237  현대타워아파트   \n",
              "4  한식/백반/한정식   I56111  ...  1141011900103070003002306      NaN   \n",
              "\n",
              "                                   도로명주소   구우편번호   신우편번호  동정보 층정보  호정보  \\\n",
              "0             서울특별시 광진구 자양로39길 20, (구의동)  143200  4992.0  NaN   1  NaN   \n",
              "1               서울특별시 중구 동호로7길 37, (신당동)  100450  4596.0  NaN   1  NaN   \n",
              "2             서울특별시 강서구 화곡로18길 31, (화곡동)  157010  7718.0  NaN   1  NaN   \n",
              "3  서울특별시 송파구 올림픽로 293-19, (신천동, 현대타워아파트)  138735  5510.0  NaN   1  NaN   \n",
              "4              서울특별시 서대문구 응암로 65, (북가좌동)  120130  3681.0  NaN   1  NaN   \n",
              "\n",
              "           경도         위도  \n",
              "0  127.088387  37.549245  \n",
              "1  127.010861  37.552153  \n",
              "2  126.836078  37.538927  \n",
              "3  127.102490  37.515149  \n",
              "4  126.910288  37.579029  \n",
              "\n",
              "[5 rows x 39 columns]"
            ],
            "text/html": [
              "\n",
              "  <div id=\"df-71bd3e29-0809-421b-b07e-c2e9ef794020\">\n",
              "    <div class=\"colab-df-container\">\n",
              "      <div>\n",
              "<style scoped>\n",
              "    .dataframe tbody tr th:only-of-type {\n",
              "        vertical-align: middle;\n",
              "    }\n",
              "\n",
              "    .dataframe tbody tr th {\n",
              "        vertical-align: top;\n",
              "    }\n",
              "\n",
              "    .dataframe thead th {\n",
              "        text-align: right;\n",
              "    }\n",
              "</style>\n",
              "<table border=\"1\" class=\"dataframe\">\n",
              "  <thead>\n",
              "    <tr style=\"text-align: right;\">\n",
              "      <th></th>\n",
              "      <th>상가업소번호</th>\n",
              "      <th>상호명</th>\n",
              "      <th>지점명</th>\n",
              "      <th>상권업종대분류코드</th>\n",
              "      <th>상권업종대분류명</th>\n",
              "      <th>상권업종중분류코드</th>\n",
              "      <th>상권업종중분류명</th>\n",
              "      <th>상권업종소분류코드</th>\n",
              "      <th>상권업종소분류명</th>\n",
              "      <th>표준산업분류코드</th>\n",
              "      <th>...</th>\n",
              "      <th>건물관리번호</th>\n",
              "      <th>건물명</th>\n",
              "      <th>도로명주소</th>\n",
              "      <th>구우편번호</th>\n",
              "      <th>신우편번호</th>\n",
              "      <th>동정보</th>\n",
              "      <th>층정보</th>\n",
              "      <th>호정보</th>\n",
              "      <th>경도</th>\n",
              "      <th>위도</th>\n",
              "    </tr>\n",
              "  </thead>\n",
              "  <tbody>\n",
              "    <tr>\n",
              "      <th>0</th>\n",
              "      <td>19964615</td>\n",
              "      <td>석봉토스트</td>\n",
              "      <td>NaN</td>\n",
              "      <td>Q</td>\n",
              "      <td>음식</td>\n",
              "      <td>Q07</td>\n",
              "      <td>패스트푸드</td>\n",
              "      <td>Q07A10</td>\n",
              "      <td>토스트전문</td>\n",
              "      <td>I56192</td>\n",
              "      <td>...</td>\n",
              "      <td>1121510300100770047020647</td>\n",
              "      <td>NaN</td>\n",
              "      <td>서울특별시 광진구 자양로39길 20, (구의동)</td>\n",
              "      <td>143200</td>\n",
              "      <td>4992.0</td>\n",
              "      <td>NaN</td>\n",
              "      <td>1</td>\n",
              "      <td>NaN</td>\n",
              "      <td>127.088387</td>\n",
              "      <td>37.549245</td>\n",
              "    </tr>\n",
              "    <tr>\n",
              "      <th>1</th>\n",
              "      <td>19977290</td>\n",
              "      <td>피자마루</td>\n",
              "      <td>약수점</td>\n",
              "      <td>Q</td>\n",
              "      <td>음식</td>\n",
              "      <td>Q07</td>\n",
              "      <td>패스트푸드</td>\n",
              "      <td>Q07A01</td>\n",
              "      <td>피자전문</td>\n",
              "      <td>I56192</td>\n",
              "      <td>...</td>\n",
              "      <td>1114016200103720095000001</td>\n",
              "      <td>현진빌딩</td>\n",
              "      <td>서울특별시 중구 동호로7길 37, (신당동)</td>\n",
              "      <td>100450</td>\n",
              "      <td>4596.0</td>\n",
              "      <td>NaN</td>\n",
              "      <td>1</td>\n",
              "      <td>NaN</td>\n",
              "      <td>127.010861</td>\n",
              "      <td>37.552153</td>\n",
              "    </tr>\n",
              "    <tr>\n",
              "      <th>2</th>\n",
              "      <td>19979960</td>\n",
              "      <td>홍능갈비</td>\n",
              "      <td>NaN</td>\n",
              "      <td>Q</td>\n",
              "      <td>음식</td>\n",
              "      <td>Q01</td>\n",
              "      <td>한식</td>\n",
              "      <td>Q01A02</td>\n",
              "      <td>갈비/삼겹살</td>\n",
              "      <td>I56111</td>\n",
              "      <td>...</td>\n",
              "      <td>1150010300110860003013118</td>\n",
              "      <td>NaN</td>\n",
              "      <td>서울특별시 강서구 화곡로18길 31, (화곡동)</td>\n",
              "      <td>157010</td>\n",
              "      <td>7718.0</td>\n",
              "      <td>NaN</td>\n",
              "      <td>1</td>\n",
              "      <td>NaN</td>\n",
              "      <td>126.836078</td>\n",
              "      <td>37.538927</td>\n",
              "    </tr>\n",
              "    <tr>\n",
              "      <th>3</th>\n",
              "      <td>19983535</td>\n",
              "      <td>초밥왕</td>\n",
              "      <td>NaN</td>\n",
              "      <td>Q</td>\n",
              "      <td>음식</td>\n",
              "      <td>Q03</td>\n",
              "      <td>일식/수산물</td>\n",
              "      <td>Q03A03</td>\n",
              "      <td>음식점-초밥전문</td>\n",
              "      <td>I56113</td>\n",
              "      <td>...</td>\n",
              "      <td>1171010200100070028000237</td>\n",
              "      <td>현대타워아파트</td>\n",
              "      <td>서울특별시 송파구 올림픽로 293-19, (신천동, 현대타워아파트)</td>\n",
              "      <td>138735</td>\n",
              "      <td>5510.0</td>\n",
              "      <td>NaN</td>\n",
              "      <td>1</td>\n",
              "      <td>NaN</td>\n",
              "      <td>127.102490</td>\n",
              "      <td>37.515149</td>\n",
              "    </tr>\n",
              "    <tr>\n",
              "      <th>4</th>\n",
              "      <td>19969945</td>\n",
              "      <td>에브리돈</td>\n",
              "      <td>북가좌점</td>\n",
              "      <td>Q</td>\n",
              "      <td>음식</td>\n",
              "      <td>Q01</td>\n",
              "      <td>한식</td>\n",
              "      <td>Q01A01</td>\n",
              "      <td>한식/백반/한정식</td>\n",
              "      <td>I56111</td>\n",
              "      <td>...</td>\n",
              "      <td>1141011900103070003002306</td>\n",
              "      <td>NaN</td>\n",
              "      <td>서울특별시 서대문구 응암로 65, (북가좌동)</td>\n",
              "      <td>120130</td>\n",
              "      <td>3681.0</td>\n",
              "      <td>NaN</td>\n",
              "      <td>1</td>\n",
              "      <td>NaN</td>\n",
              "      <td>126.910288</td>\n",
              "      <td>37.579029</td>\n",
              "    </tr>\n",
              "  </tbody>\n",
              "</table>\n",
              "<p>5 rows × 39 columns</p>\n",
              "</div>\n",
              "      <button class=\"colab-df-convert\" onclick=\"convertToInteractive('df-71bd3e29-0809-421b-b07e-c2e9ef794020')\"\n",
              "              title=\"Convert this dataframe to an interactive table.\"\n",
              "              style=\"display:none;\">\n",
              "        \n",
              "  <svg xmlns=\"http://www.w3.org/2000/svg\" height=\"24px\"viewBox=\"0 0 24 24\"\n",
              "       width=\"24px\">\n",
              "    <path d=\"M0 0h24v24H0V0z\" fill=\"none\"/>\n",
              "    <path d=\"M18.56 5.44l.94 2.06.94-2.06 2.06-.94-2.06-.94-.94-2.06-.94 2.06-2.06.94zm-11 1L8.5 8.5l.94-2.06 2.06-.94-2.06-.94L8.5 2.5l-.94 2.06-2.06.94zm10 10l.94 2.06.94-2.06 2.06-.94-2.06-.94-.94-2.06-.94 2.06-2.06.94z\"/><path d=\"M17.41 7.96l-1.37-1.37c-.4-.4-.92-.59-1.43-.59-.52 0-1.04.2-1.43.59L10.3 9.45l-7.72 7.72c-.78.78-.78 2.05 0 2.83L4 21.41c.39.39.9.59 1.41.59.51 0 1.02-.2 1.41-.59l7.78-7.78 2.81-2.81c.8-.78.8-2.07 0-2.86zM5.41 20L4 18.59l7.72-7.72 1.47 1.35L5.41 20z\"/>\n",
              "  </svg>\n",
              "      </button>\n",
              "      \n",
              "  <style>\n",
              "    .colab-df-container {\n",
              "      display:flex;\n",
              "      flex-wrap:wrap;\n",
              "      gap: 12px;\n",
              "    }\n",
              "\n",
              "    .colab-df-convert {\n",
              "      background-color: #E8F0FE;\n",
              "      border: none;\n",
              "      border-radius: 50%;\n",
              "      cursor: pointer;\n",
              "      display: none;\n",
              "      fill: #1967D2;\n",
              "      height: 32px;\n",
              "      padding: 0 0 0 0;\n",
              "      width: 32px;\n",
              "    }\n",
              "\n",
              "    .colab-df-convert:hover {\n",
              "      background-color: #E2EBFA;\n",
              "      box-shadow: 0px 1px 2px rgba(60, 64, 67, 0.3), 0px 1px 3px 1px rgba(60, 64, 67, 0.15);\n",
              "      fill: #174EA6;\n",
              "    }\n",
              "\n",
              "    [theme=dark] .colab-df-convert {\n",
              "      background-color: #3B4455;\n",
              "      fill: #D2E3FC;\n",
              "    }\n",
              "\n",
              "    [theme=dark] .colab-df-convert:hover {\n",
              "      background-color: #434B5C;\n",
              "      box-shadow: 0px 1px 3px 1px rgba(0, 0, 0, 0.15);\n",
              "      filter: drop-shadow(0px 1px 2px rgba(0, 0, 0, 0.3));\n",
              "      fill: #FFFFFF;\n",
              "    }\n",
              "  </style>\n",
              "\n",
              "      <script>\n",
              "        const buttonEl =\n",
              "          document.querySelector('#df-71bd3e29-0809-421b-b07e-c2e9ef794020 button.colab-df-convert');\n",
              "        buttonEl.style.display =\n",
              "          google.colab.kernel.accessAllowed ? 'block' : 'none';\n",
              "\n",
              "        async function convertToInteractive(key) {\n",
              "          const element = document.querySelector('#df-71bd3e29-0809-421b-b07e-c2e9ef794020');\n",
              "          const dataTable =\n",
              "            await google.colab.kernel.invokeFunction('convertToInteractive',\n",
              "                                                     [key], {});\n",
              "          if (!dataTable) return;\n",
              "\n",
              "          const docLinkHtml = 'Like what you see? Visit the ' +\n",
              "            '<a target=\"_blank\" href=https://colab.research.google.com/notebooks/data_table.ipynb>data table notebook</a>'\n",
              "            + ' to learn more about interactive tables.';\n",
              "          element.innerHTML = '';\n",
              "          dataTable['output_type'] = 'display_data';\n",
              "          await google.colab.output.renderOutput(dataTable, element);\n",
              "          const docLink = document.createElement('div');\n",
              "          docLink.innerHTML = docLinkHtml;\n",
              "          element.appendChild(docLink);\n",
              "        }\n",
              "      </script>\n",
              "    </div>\n",
              "  </div>\n",
              "  "
            ]
          },
          "metadata": {},
          "execution_count": 12
        }
      ]
    },
    {
      "cell_type": "code",
      "source": [
        "df.shape"
      ],
      "metadata": {
        "colab": {
          "base_uri": "https://localhost:8080/"
        },
        "id": "LQQJUXXN4PRN",
        "outputId": "064ae56f-1826-4daf-e922-18c2673e40b8"
      },
      "execution_count": 13,
      "outputs": [
        {
          "output_type": "execute_result",
          "data": {
            "text/plain": [
              "(370321, 39)"
            ]
          },
          "metadata": {},
          "execution_count": 13
        }
      ]
    },
    {
      "cell_type": "code",
      "source": [
        "df.columns"
      ],
      "metadata": {
        "colab": {
          "base_uri": "https://localhost:8080/"
        },
        "id": "NAqTq0Y56JBe",
        "outputId": "cff5237b-9fc0-4cff-c62f-90c4fbd47ae0"
      },
      "execution_count": 14,
      "outputs": [
        {
          "output_type": "execute_result",
          "data": {
            "text/plain": [
              "Index(['상가업소번호', '상호명', '지점명', '상권업종대분류코드', '상권업종대분류명', '상권업종중분류코드',\n",
              "       '상권업종중분류명', '상권업종소분류코드', '상권업종소분류명', '표준산업분류코드', '표준산업분류명', '시도코드',\n",
              "       '시도명', '시군구코드', '시군구명', '행정동코드', '행정동명', '법정동코드', '법정동명', '지번코드',\n",
              "       '대지구분코드', '대지구분명', '지번본번지', '지번부번지', '지번주소', '도로명코드', '도로명', '건물본번지',\n",
              "       '건물부번지', '건물관리번호', '건물명', '도로명주소', '구우편번호', '신우편번호', '동정보', '층정보',\n",
              "       '호정보', '경도', '위도'],\n",
              "      dtype='object')"
            ]
          },
          "metadata": {},
          "execution_count": 14
        }
      ]
    },
    {
      "cell_type": "code",
      "source": [
        "set(df['상권업종대분류명'])"
      ],
      "metadata": {
        "colab": {
          "base_uri": "https://localhost:8080/"
        },
        "id": "arWHFcPR6LQW",
        "outputId": "66c4cb77-7459-4ca5-81e5-f90a341bedbd"
      },
      "execution_count": 15,
      "outputs": [
        {
          "output_type": "execute_result",
          "data": {
            "text/plain": [
              "{'관광/여가/오락', '부동산', '생활서비스', '소매', '숙박', '스포츠', '음식', '학문/교육'}"
            ]
          },
          "metadata": {},
          "execution_count": 15
        }
      ]
    },
    {
      "cell_type": "code",
      "source": [
        "print(set(df['상권업종중분류명']))"
      ],
      "metadata": {
        "colab": {
          "base_uri": "https://localhost:8080/"
        },
        "id": "VFfBkrNZ6UrF",
        "outputId": "f0790f0d-f604-4907-8942-5af5418e3edd"
      },
      "execution_count": 16,
      "outputs": [
        {
          "output_type": "stream",
          "name": "stdout",
          "text": [
            "{'기타음식업', '선물/팬시/기념품', '대행업', '대중목욕탕/휴게', '기타서비스업', '인력/고용/용역알선', '음식배달서비스', '시계/귀금속소매', '학원-컴퓨터', '유아교육', '실외운동시설', '물품기기대여', '예식/의례/관혼상제', 'PC/오락/당구/볼링등', '분식', '광고/인쇄', '학원기타', '실내운동시설', '가방/신발/액세서리', '종교용품판매', '연구소', '분양', '별식/퓨전요리', '개인서비스', '전시/관람', '자동차/자동차용품', '일식/수산물', '행사/이벤트', '건강/미용식품', '유흥주점', '경마/경륜/성인오락', '철물/난방/건설자재소매', '유스호스텔', '닭/오리요리', '패스트푸드', '가정/주방/인테리어', '애견/애완/동물', '운송/배달/택배', '양식', '종합소매점', '부페', '놀이/여가/취미', '제과제빵떡케익', '사진', '중식', '캠프/별장/펜션', '학문교육기타', '학원-자격/국가고시', '모텔/여관/여인숙', '의복의류', '주유소/충전소', '부동산관련서비스', '학원-어학', '기타판매업', '무도/유흥/가무', '중고품소매/교환', '운동/경기용품소매', '개인/가정용품수리', '장례/묘지', '기타교육기관', '사무/문구/컴퓨터', '의약/의료품소매', '사진/광학/정밀기기소매', '책/서적/도서', '학원-예능취미체육', '자동차/이륜차', '운영관리시설', '민박/하숙', '음/식료품소매', '이/미용/건강', '주택수리', '연극/영화/극장', '학원-창업취업취미', '한식', '예술품/골동품/수석/분재', '커피점/카페', '부동산임대', '화장품소매', '학교', '학원-보습교습입시', '가구소매', '스포츠/운동', '가전제품소매', '학원-음악미술무용', '요가/단전/마사지', '페인트/유리제품소매', '도서관/독서실', '평가/개발/관리', '유아용품', '세탁/가사서비스', '취미/오락관련소매', '부동산중개', '법무세무회계', '호텔/콘도'}\n"
          ]
        }
      ]
    },
    {
      "cell_type": "code",
      "source": [
        "#결측치\n",
        "df.isnull().sum()"
      ],
      "metadata": {
        "colab": {
          "base_uri": "https://localhost:8080/"
        },
        "id": "S8pZOo3u6eZ9",
        "outputId": "25c53871-9541-4be4-b78c-8080ed40e514"
      },
      "execution_count": 17,
      "outputs": [
        {
          "output_type": "execute_result",
          "data": {
            "text/plain": [
              "상가업소번호            0\n",
              "상호명               0\n",
              "지점명          315822\n",
              "상권업종대분류코드         0\n",
              "상권업종대분류명          0\n",
              "상권업종중분류코드         0\n",
              "상권업종중분류명          0\n",
              "상권업종소분류코드         0\n",
              "상권업종소분류명         12\n",
              "표준산업분류코드      25266\n",
              "표준산업분류명       25266\n",
              "시도코드              0\n",
              "시도명               0\n",
              "시군구코드             0\n",
              "시군구명              0\n",
              "행정동코드             0\n",
              "행정동명              1\n",
              "법정동코드             0\n",
              "법정동명              0\n",
              "지번코드              0\n",
              "대지구분코드            0\n",
              "대지구분명             0\n",
              "지번본번지             0\n",
              "지번부번지         70637\n",
              "지번주소              0\n",
              "도로명코드             0\n",
              "도로명               0\n",
              "건물본번지             0\n",
              "건물부번지        325767\n",
              "건물관리번호            0\n",
              "건물명          191777\n",
              "도로명주소             0\n",
              "구우편번호             0\n",
              "신우편번호             2\n",
              "동정보          341396\n",
              "층정보          120053\n",
              "호정보          314429\n",
              "경도                0\n",
              "위도                0\n",
              "dtype: int64"
            ]
          },
          "metadata": {},
          "execution_count": 17
        }
      ]
    },
    {
      "cell_type": "code",
      "source": [
        "# 결측치를 그래프로 확인\n",
        "import missingno as msno"
      ],
      "metadata": {
        "id": "lIgsPPmI6wJ_"
      },
      "execution_count": 18,
      "outputs": []
    },
    {
      "cell_type": "code",
      "source": [
        "msno.matrix(df)"
      ],
      "metadata": {
        "colab": {
          "base_uri": "https://localhost:8080/",
          "height": 1000
        },
        "id": "wp-p0wkJ667C",
        "outputId": "33cda39d-c261-45ce-c5d8-8cc196259626"
      },
      "execution_count": 19,
      "outputs": [
        {
          "output_type": "execute_result",
          "data": {
            "text/plain": [
              "<matplotlib.axes._subplots.AxesSubplot at 0x7feaa732e460>"
            ]
          },
          "metadata": {},
          "execution_count": 19
        },
        {
          "output_type": "stream",
          "name": "stderr",
          "text": [
            "/usr/local/lib/python3.8/dist-packages/matplotlib/backends/backend_agg.py:214: RuntimeWarning: Glyph 49345 missing from current font.\n",
            "  font.set_text(s, 0.0, flags=flags)\n",
            "/usr/local/lib/python3.8/dist-packages/matplotlib/backends/backend_agg.py:214: RuntimeWarning: Glyph 44032 missing from current font.\n",
            "  font.set_text(s, 0.0, flags=flags)\n",
            "/usr/local/lib/python3.8/dist-packages/matplotlib/backends/backend_agg.py:214: RuntimeWarning: Glyph 50629 missing from current font.\n",
            "  font.set_text(s, 0.0, flags=flags)\n",
            "/usr/local/lib/python3.8/dist-packages/matplotlib/backends/backend_agg.py:214: RuntimeWarning: Glyph 49548 missing from current font.\n",
            "  font.set_text(s, 0.0, flags=flags)\n",
            "/usr/local/lib/python3.8/dist-packages/matplotlib/backends/backend_agg.py:214: RuntimeWarning: Glyph 48264 missing from current font.\n",
            "  font.set_text(s, 0.0, flags=flags)\n",
            "/usr/local/lib/python3.8/dist-packages/matplotlib/backends/backend_agg.py:214: RuntimeWarning: Glyph 54840 missing from current font.\n",
            "  font.set_text(s, 0.0, flags=flags)\n",
            "/usr/local/lib/python3.8/dist-packages/matplotlib/backends/backend_agg.py:214: RuntimeWarning: Glyph 47749 missing from current font.\n",
            "  font.set_text(s, 0.0, flags=flags)\n",
            "/usr/local/lib/python3.8/dist-packages/matplotlib/backends/backend_agg.py:214: RuntimeWarning: Glyph 51648 missing from current font.\n",
            "  font.set_text(s, 0.0, flags=flags)\n",
            "/usr/local/lib/python3.8/dist-packages/matplotlib/backends/backend_agg.py:214: RuntimeWarning: Glyph 51216 missing from current font.\n",
            "  font.set_text(s, 0.0, flags=flags)\n",
            "/usr/local/lib/python3.8/dist-packages/matplotlib/backends/backend_agg.py:214: RuntimeWarning: Glyph 44428 missing from current font.\n",
            "  font.set_text(s, 0.0, flags=flags)\n",
            "/usr/local/lib/python3.8/dist-packages/matplotlib/backends/backend_agg.py:214: RuntimeWarning: Glyph 51333 missing from current font.\n",
            "  font.set_text(s, 0.0, flags=flags)\n",
            "/usr/local/lib/python3.8/dist-packages/matplotlib/backends/backend_agg.py:214: RuntimeWarning: Glyph 45824 missing from current font.\n",
            "  font.set_text(s, 0.0, flags=flags)\n",
            "/usr/local/lib/python3.8/dist-packages/matplotlib/backends/backend_agg.py:214: RuntimeWarning: Glyph 48516 missing from current font.\n",
            "  font.set_text(s, 0.0, flags=flags)\n",
            "/usr/local/lib/python3.8/dist-packages/matplotlib/backends/backend_agg.py:214: RuntimeWarning: Glyph 47448 missing from current font.\n",
            "  font.set_text(s, 0.0, flags=flags)\n",
            "/usr/local/lib/python3.8/dist-packages/matplotlib/backends/backend_agg.py:214: RuntimeWarning: Glyph 53076 missing from current font.\n",
            "  font.set_text(s, 0.0, flags=flags)\n",
            "/usr/local/lib/python3.8/dist-packages/matplotlib/backends/backend_agg.py:214: RuntimeWarning: Glyph 46300 missing from current font.\n",
            "  font.set_text(s, 0.0, flags=flags)\n",
            "/usr/local/lib/python3.8/dist-packages/matplotlib/backends/backend_agg.py:214: RuntimeWarning: Glyph 51473 missing from current font.\n",
            "  font.set_text(s, 0.0, flags=flags)\n",
            "/usr/local/lib/python3.8/dist-packages/matplotlib/backends/backend_agg.py:214: RuntimeWarning: Glyph 54364 missing from current font.\n",
            "  font.set_text(s, 0.0, flags=flags)\n",
            "/usr/local/lib/python3.8/dist-packages/matplotlib/backends/backend_agg.py:214: RuntimeWarning: Glyph 51456 missing from current font.\n",
            "  font.set_text(s, 0.0, flags=flags)\n",
            "/usr/local/lib/python3.8/dist-packages/matplotlib/backends/backend_agg.py:214: RuntimeWarning: Glyph 49328 missing from current font.\n",
            "  font.set_text(s, 0.0, flags=flags)\n",
            "/usr/local/lib/python3.8/dist-packages/matplotlib/backends/backend_agg.py:214: RuntimeWarning: Glyph 49884 missing from current font.\n",
            "  font.set_text(s, 0.0, flags=flags)\n",
            "/usr/local/lib/python3.8/dist-packages/matplotlib/backends/backend_agg.py:214: RuntimeWarning: Glyph 46020 missing from current font.\n",
            "  font.set_text(s, 0.0, flags=flags)\n",
            "/usr/local/lib/python3.8/dist-packages/matplotlib/backends/backend_agg.py:214: RuntimeWarning: Glyph 44400 missing from current font.\n",
            "  font.set_text(s, 0.0, flags=flags)\n",
            "/usr/local/lib/python3.8/dist-packages/matplotlib/backends/backend_agg.py:214: RuntimeWarning: Glyph 44396 missing from current font.\n",
            "  font.set_text(s, 0.0, flags=flags)\n",
            "/usr/local/lib/python3.8/dist-packages/matplotlib/backends/backend_agg.py:214: RuntimeWarning: Glyph 54665 missing from current font.\n",
            "  font.set_text(s, 0.0, flags=flags)\n",
            "/usr/local/lib/python3.8/dist-packages/matplotlib/backends/backend_agg.py:214: RuntimeWarning: Glyph 51221 missing from current font.\n",
            "  font.set_text(s, 0.0, flags=flags)\n",
            "/usr/local/lib/python3.8/dist-packages/matplotlib/backends/backend_agg.py:214: RuntimeWarning: Glyph 46041 missing from current font.\n",
            "  font.set_text(s, 0.0, flags=flags)\n",
            "/usr/local/lib/python3.8/dist-packages/matplotlib/backends/backend_agg.py:214: RuntimeWarning: Glyph 48277 missing from current font.\n",
            "  font.set_text(s, 0.0, flags=flags)\n",
            "/usr/local/lib/python3.8/dist-packages/matplotlib/backends/backend_agg.py:214: RuntimeWarning: Glyph 48376 missing from current font.\n",
            "  font.set_text(s, 0.0, flags=flags)\n",
            "/usr/local/lib/python3.8/dist-packages/matplotlib/backends/backend_agg.py:214: RuntimeWarning: Glyph 48512 missing from current font.\n",
            "  font.set_text(s, 0.0, flags=flags)\n",
            "/usr/local/lib/python3.8/dist-packages/matplotlib/backends/backend_agg.py:214: RuntimeWarning: Glyph 51452 missing from current font.\n",
            "  font.set_text(s, 0.0, flags=flags)\n",
            "/usr/local/lib/python3.8/dist-packages/matplotlib/backends/backend_agg.py:214: RuntimeWarning: Glyph 47196 missing from current font.\n",
            "  font.set_text(s, 0.0, flags=flags)\n",
            "/usr/local/lib/python3.8/dist-packages/matplotlib/backends/backend_agg.py:214: RuntimeWarning: Glyph 44148 missing from current font.\n",
            "  font.set_text(s, 0.0, flags=flags)\n",
            "/usr/local/lib/python3.8/dist-packages/matplotlib/backends/backend_agg.py:214: RuntimeWarning: Glyph 47932 missing from current font.\n",
            "  font.set_text(s, 0.0, flags=flags)\n",
            "/usr/local/lib/python3.8/dist-packages/matplotlib/backends/backend_agg.py:214: RuntimeWarning: Glyph 44288 missing from current font.\n",
            "  font.set_text(s, 0.0, flags=flags)\n",
            "/usr/local/lib/python3.8/dist-packages/matplotlib/backends/backend_agg.py:214: RuntimeWarning: Glyph 47532 missing from current font.\n",
            "  font.set_text(s, 0.0, flags=flags)\n",
            "/usr/local/lib/python3.8/dist-packages/matplotlib/backends/backend_agg.py:214: RuntimeWarning: Glyph 50864 missing from current font.\n",
            "  font.set_text(s, 0.0, flags=flags)\n",
            "/usr/local/lib/python3.8/dist-packages/matplotlib/backends/backend_agg.py:214: RuntimeWarning: Glyph 54200 missing from current font.\n",
            "  font.set_text(s, 0.0, flags=flags)\n",
            "/usr/local/lib/python3.8/dist-packages/matplotlib/backends/backend_agg.py:214: RuntimeWarning: Glyph 49888 missing from current font.\n",
            "  font.set_text(s, 0.0, flags=flags)\n",
            "/usr/local/lib/python3.8/dist-packages/matplotlib/backends/backend_agg.py:214: RuntimeWarning: Glyph 48372 missing from current font.\n",
            "  font.set_text(s, 0.0, flags=flags)\n",
            "/usr/local/lib/python3.8/dist-packages/matplotlib/backends/backend_agg.py:214: RuntimeWarning: Glyph 52789 missing from current font.\n",
            "  font.set_text(s, 0.0, flags=flags)\n",
            "/usr/local/lib/python3.8/dist-packages/matplotlib/backends/backend_agg.py:214: RuntimeWarning: Glyph 44221 missing from current font.\n",
            "  font.set_text(s, 0.0, flags=flags)\n",
            "/usr/local/lib/python3.8/dist-packages/matplotlib/backends/backend_agg.py:214: RuntimeWarning: Glyph 50948 missing from current font.\n",
            "  font.set_text(s, 0.0, flags=flags)\n",
            "/usr/local/lib/python3.8/dist-packages/matplotlib/backends/backend_agg.py:183: RuntimeWarning: Glyph 49345 missing from current font.\n",
            "  font.set_text(s, 0, flags=flags)\n",
            "/usr/local/lib/python3.8/dist-packages/matplotlib/backends/backend_agg.py:183: RuntimeWarning: Glyph 44032 missing from current font.\n",
            "  font.set_text(s, 0, flags=flags)\n",
            "/usr/local/lib/python3.8/dist-packages/matplotlib/backends/backend_agg.py:183: RuntimeWarning: Glyph 50629 missing from current font.\n",
            "  font.set_text(s, 0, flags=flags)\n",
            "/usr/local/lib/python3.8/dist-packages/matplotlib/backends/backend_agg.py:183: RuntimeWarning: Glyph 49548 missing from current font.\n",
            "  font.set_text(s, 0, flags=flags)\n",
            "/usr/local/lib/python3.8/dist-packages/matplotlib/backends/backend_agg.py:183: RuntimeWarning: Glyph 48264 missing from current font.\n",
            "  font.set_text(s, 0, flags=flags)\n",
            "/usr/local/lib/python3.8/dist-packages/matplotlib/backends/backend_agg.py:183: RuntimeWarning: Glyph 54840 missing from current font.\n",
            "  font.set_text(s, 0, flags=flags)\n",
            "/usr/local/lib/python3.8/dist-packages/matplotlib/backends/backend_agg.py:183: RuntimeWarning: Glyph 47749 missing from current font.\n",
            "  font.set_text(s, 0, flags=flags)\n",
            "/usr/local/lib/python3.8/dist-packages/matplotlib/backends/backend_agg.py:183: RuntimeWarning: Glyph 51648 missing from current font.\n",
            "  font.set_text(s, 0, flags=flags)\n",
            "/usr/local/lib/python3.8/dist-packages/matplotlib/backends/backend_agg.py:183: RuntimeWarning: Glyph 51216 missing from current font.\n",
            "  font.set_text(s, 0, flags=flags)\n",
            "/usr/local/lib/python3.8/dist-packages/matplotlib/backends/backend_agg.py:183: RuntimeWarning: Glyph 44428 missing from current font.\n",
            "  font.set_text(s, 0, flags=flags)\n",
            "/usr/local/lib/python3.8/dist-packages/matplotlib/backends/backend_agg.py:183: RuntimeWarning: Glyph 51333 missing from current font.\n",
            "  font.set_text(s, 0, flags=flags)\n",
            "/usr/local/lib/python3.8/dist-packages/matplotlib/backends/backend_agg.py:183: RuntimeWarning: Glyph 45824 missing from current font.\n",
            "  font.set_text(s, 0, flags=flags)\n",
            "/usr/local/lib/python3.8/dist-packages/matplotlib/backends/backend_agg.py:183: RuntimeWarning: Glyph 48516 missing from current font.\n",
            "  font.set_text(s, 0, flags=flags)\n",
            "/usr/local/lib/python3.8/dist-packages/matplotlib/backends/backend_agg.py:183: RuntimeWarning: Glyph 47448 missing from current font.\n",
            "  font.set_text(s, 0, flags=flags)\n",
            "/usr/local/lib/python3.8/dist-packages/matplotlib/backends/backend_agg.py:183: RuntimeWarning: Glyph 53076 missing from current font.\n",
            "  font.set_text(s, 0, flags=flags)\n",
            "/usr/local/lib/python3.8/dist-packages/matplotlib/backends/backend_agg.py:183: RuntimeWarning: Glyph 46300 missing from current font.\n",
            "  font.set_text(s, 0, flags=flags)\n",
            "/usr/local/lib/python3.8/dist-packages/matplotlib/backends/backend_agg.py:183: RuntimeWarning: Glyph 51473 missing from current font.\n",
            "  font.set_text(s, 0, flags=flags)\n",
            "/usr/local/lib/python3.8/dist-packages/matplotlib/backends/backend_agg.py:183: RuntimeWarning: Glyph 54364 missing from current font.\n",
            "  font.set_text(s, 0, flags=flags)\n",
            "/usr/local/lib/python3.8/dist-packages/matplotlib/backends/backend_agg.py:183: RuntimeWarning: Glyph 51456 missing from current font.\n",
            "  font.set_text(s, 0, flags=flags)\n",
            "/usr/local/lib/python3.8/dist-packages/matplotlib/backends/backend_agg.py:183: RuntimeWarning: Glyph 49328 missing from current font.\n",
            "  font.set_text(s, 0, flags=flags)\n",
            "/usr/local/lib/python3.8/dist-packages/matplotlib/backends/backend_agg.py:183: RuntimeWarning: Glyph 49884 missing from current font.\n",
            "  font.set_text(s, 0, flags=flags)\n",
            "/usr/local/lib/python3.8/dist-packages/matplotlib/backends/backend_agg.py:183: RuntimeWarning: Glyph 46020 missing from current font.\n",
            "  font.set_text(s, 0, flags=flags)\n",
            "/usr/local/lib/python3.8/dist-packages/matplotlib/backends/backend_agg.py:183: RuntimeWarning: Glyph 44400 missing from current font.\n",
            "  font.set_text(s, 0, flags=flags)\n",
            "/usr/local/lib/python3.8/dist-packages/matplotlib/backends/backend_agg.py:183: RuntimeWarning: Glyph 44396 missing from current font.\n",
            "  font.set_text(s, 0, flags=flags)\n",
            "/usr/local/lib/python3.8/dist-packages/matplotlib/backends/backend_agg.py:183: RuntimeWarning: Glyph 54665 missing from current font.\n",
            "  font.set_text(s, 0, flags=flags)\n",
            "/usr/local/lib/python3.8/dist-packages/matplotlib/backends/backend_agg.py:183: RuntimeWarning: Glyph 51221 missing from current font.\n",
            "  font.set_text(s, 0, flags=flags)\n",
            "/usr/local/lib/python3.8/dist-packages/matplotlib/backends/backend_agg.py:183: RuntimeWarning: Glyph 46041 missing from current font.\n",
            "  font.set_text(s, 0, flags=flags)\n",
            "/usr/local/lib/python3.8/dist-packages/matplotlib/backends/backend_agg.py:183: RuntimeWarning: Glyph 48277 missing from current font.\n",
            "  font.set_text(s, 0, flags=flags)\n",
            "/usr/local/lib/python3.8/dist-packages/matplotlib/backends/backend_agg.py:183: RuntimeWarning: Glyph 48376 missing from current font.\n",
            "  font.set_text(s, 0, flags=flags)\n",
            "/usr/local/lib/python3.8/dist-packages/matplotlib/backends/backend_agg.py:183: RuntimeWarning: Glyph 48512 missing from current font.\n",
            "  font.set_text(s, 0, flags=flags)\n",
            "/usr/local/lib/python3.8/dist-packages/matplotlib/backends/backend_agg.py:183: RuntimeWarning: Glyph 51452 missing from current font.\n",
            "  font.set_text(s, 0, flags=flags)\n",
            "/usr/local/lib/python3.8/dist-packages/matplotlib/backends/backend_agg.py:183: RuntimeWarning: Glyph 47196 missing from current font.\n",
            "  font.set_text(s, 0, flags=flags)\n",
            "/usr/local/lib/python3.8/dist-packages/matplotlib/backends/backend_agg.py:183: RuntimeWarning: Glyph 44148 missing from current font.\n",
            "  font.set_text(s, 0, flags=flags)\n",
            "/usr/local/lib/python3.8/dist-packages/matplotlib/backends/backend_agg.py:183: RuntimeWarning: Glyph 47932 missing from current font.\n",
            "  font.set_text(s, 0, flags=flags)\n",
            "/usr/local/lib/python3.8/dist-packages/matplotlib/backends/backend_agg.py:183: RuntimeWarning: Glyph 44288 missing from current font.\n",
            "  font.set_text(s, 0, flags=flags)\n",
            "/usr/local/lib/python3.8/dist-packages/matplotlib/backends/backend_agg.py:183: RuntimeWarning: Glyph 47532 missing from current font.\n",
            "  font.set_text(s, 0, flags=flags)\n",
            "/usr/local/lib/python3.8/dist-packages/matplotlib/backends/backend_agg.py:183: RuntimeWarning: Glyph 50864 missing from current font.\n",
            "  font.set_text(s, 0, flags=flags)\n",
            "/usr/local/lib/python3.8/dist-packages/matplotlib/backends/backend_agg.py:183: RuntimeWarning: Glyph 54200 missing from current font.\n",
            "  font.set_text(s, 0, flags=flags)\n",
            "/usr/local/lib/python3.8/dist-packages/matplotlib/backends/backend_agg.py:183: RuntimeWarning: Glyph 49888 missing from current font.\n",
            "  font.set_text(s, 0, flags=flags)\n",
            "/usr/local/lib/python3.8/dist-packages/matplotlib/backends/backend_agg.py:183: RuntimeWarning: Glyph 48372 missing from current font.\n",
            "  font.set_text(s, 0, flags=flags)\n",
            "/usr/local/lib/python3.8/dist-packages/matplotlib/backends/backend_agg.py:183: RuntimeWarning: Glyph 52789 missing from current font.\n",
            "  font.set_text(s, 0, flags=flags)\n",
            "/usr/local/lib/python3.8/dist-packages/matplotlib/backends/backend_agg.py:183: RuntimeWarning: Glyph 44221 missing from current font.\n",
            "  font.set_text(s, 0, flags=flags)\n",
            "/usr/local/lib/python3.8/dist-packages/matplotlib/backends/backend_agg.py:183: RuntimeWarning: Glyph 50948 missing from current font.\n",
            "  font.set_text(s, 0, flags=flags)\n"
          ]
        },
        {
          "output_type": "display_data",
          "data": {
            "text/plain": [
              "<Figure size 1800x720 with 2 Axes>"
            ],
            "image/png": "[encoded data removed]"
          },
          "metadata": {
            "needs_background": "light"
          }
        }
      ]
    },
    {
      "cell_type": "code",
      "source": [
        "df['상권업종대분류명'].value_counts()"
      ],
      "metadata": {
        "colab": {
          "base_uri": "https://localhost:8080/"
        },
        "id": "cmFnwySw683j",
        "outputId": "6c55fc9f-29cf-4adc-ad86-077b02e70c6b"
      },
      "execution_count": 20,
      "outputs": [
        {
          "output_type": "execute_result",
          "data": {
            "text/plain": [
              "음식          124001\n",
              "소매          123003\n",
              "생활서비스        64529\n",
              "학문/교육        29985\n",
              "부동산          14975\n",
              "관광/여가/오락     10454\n",
              "숙박            2971\n",
              "스포츠            403\n",
              "Name: 상권업종대분류명, dtype: int64"
            ]
          },
          "metadata": {},
          "execution_count": 20
        }
      ]
    },
    {
      "cell_type": "code",
      "source": [
        "df['상권업종중분류명'].value_counts()"
      ],
      "metadata": {
        "colab": {
          "base_uri": "https://localhost:8080/"
        },
        "id": "XFbl7LeD7ygu",
        "outputId": "32be08b8-21eb-4ab4-c455-edb5cfc34c89"
      },
      "execution_count": 21,
      "outputs": [
        {
          "output_type": "execute_result",
          "data": {
            "text/plain": [
              "한식          38703\n",
              "이/미용/건강     31717\n",
              "종합소매점       25716\n",
              "의복의류        23307\n",
              "커피점/카페      18220\n",
              "            ...  \n",
              "전시/관람          14\n",
              "부동산관련서비스        4\n",
              "기타교육기관          4\n",
              "연구소             3\n",
              "학교              1\n",
              "Name: 상권업종중분류명, Length: 94, dtype: int64"
            ]
          },
          "metadata": {},
          "execution_count": 21
        }
      ]
    },
    {
      "cell_type": "code",
      "source": [
        "sns.countplot(data=df, y='상권업종대분류명')"
      ],
      "metadata": {
        "colab": {
          "base_uri": "https://localhost:8080/",
          "height": 1000
        },
        "id": "o8OqidvB8D1u",
        "outputId": "8fd8992d-4251-4b96-ab8c-be34087416fc"
      },
      "execution_count": 22,
      "outputs": [
        {
          "output_type": "execute_result",
          "data": {
            "text/plain": [
              "<matplotlib.axes._subplots.AxesSubplot at 0x7feaa3f25100>"
            ]
          },
          "metadata": {},
          "execution_count": 22
        },
        {
          "output_type": "stream",
          "name": "stderr",
          "text": [
            "/usr/local/lib/python3.8/dist-packages/matplotlib/backends/backend_agg.py:214: RuntimeWarning: Glyph 51020 missing from current font.\n",
            "  font.set_text(s, 0.0, flags=flags)\n",
            "/usr/local/lib/python3.8/dist-packages/matplotlib/backends/backend_agg.py:214: RuntimeWarning: Glyph 49885 missing from current font.\n",
            "  font.set_text(s, 0.0, flags=flags)\n",
            "/usr/local/lib/python3.8/dist-packages/matplotlib/backends/backend_agg.py:214: RuntimeWarning: Glyph 49548 missing from current font.\n",
            "  font.set_text(s, 0.0, flags=flags)\n",
            "/usr/local/lib/python3.8/dist-packages/matplotlib/backends/backend_agg.py:214: RuntimeWarning: Glyph 47588 missing from current font.\n",
            "  font.set_text(s, 0.0, flags=flags)\n",
            "/usr/local/lib/python3.8/dist-packages/matplotlib/backends/backend_agg.py:214: RuntimeWarning: Glyph 49373 missing from current font.\n",
            "  font.set_text(s, 0.0, flags=flags)\n",
            "/usr/local/lib/python3.8/dist-packages/matplotlib/backends/backend_agg.py:214: RuntimeWarning: Glyph 54876 missing from current font.\n",
            "  font.set_text(s, 0.0, flags=flags)\n",
            "/usr/local/lib/python3.8/dist-packages/matplotlib/backends/backend_agg.py:214: RuntimeWarning: Glyph 49436 missing from current font.\n",
            "  font.set_text(s, 0.0, flags=flags)\n",
            "/usr/local/lib/python3.8/dist-packages/matplotlib/backends/backend_agg.py:214: RuntimeWarning: Glyph 48708 missing from current font.\n",
            "  font.set_text(s, 0.0, flags=flags)\n",
            "/usr/local/lib/python3.8/dist-packages/matplotlib/backends/backend_agg.py:214: RuntimeWarning: Glyph 49828 missing from current font.\n",
            "  font.set_text(s, 0.0, flags=flags)\n",
            "/usr/local/lib/python3.8/dist-packages/matplotlib/backends/backend_agg.py:214: RuntimeWarning: Glyph 54617 missing from current font.\n",
            "  font.set_text(s, 0.0, flags=flags)\n",
            "/usr/local/lib/python3.8/dist-packages/matplotlib/backends/backend_agg.py:214: RuntimeWarning: Glyph 47928 missing from current font.\n",
            "  font.set_text(s, 0.0, flags=flags)\n",
            "/usr/local/lib/python3.8/dist-packages/matplotlib/backends/backend_agg.py:214: RuntimeWarning: Glyph 44368 missing from current font.\n",
            "  font.set_text(s, 0.0, flags=flags)\n",
            "/usr/local/lib/python3.8/dist-packages/matplotlib/backends/backend_agg.py:214: RuntimeWarning: Glyph 50977 missing from current font.\n",
            "  font.set_text(s, 0.0, flags=flags)\n",
            "/usr/local/lib/python3.8/dist-packages/matplotlib/backends/backend_agg.py:214: RuntimeWarning: Glyph 44288 missing from current font.\n",
            "  font.set_text(s, 0.0, flags=flags)\n",
            "/usr/local/lib/python3.8/dist-packages/matplotlib/backends/backend_agg.py:214: RuntimeWarning: Glyph 44305 missing from current font.\n",
            "  font.set_text(s, 0.0, flags=flags)\n",
            "/usr/local/lib/python3.8/dist-packages/matplotlib/backends/backend_agg.py:214: RuntimeWarning: Glyph 50668 missing from current font.\n",
            "  font.set_text(s, 0.0, flags=flags)\n",
            "/usr/local/lib/python3.8/dist-packages/matplotlib/backends/backend_agg.py:214: RuntimeWarning: Glyph 44032 missing from current font.\n",
            "  font.set_text(s, 0.0, flags=flags)\n",
            "/usr/local/lib/python3.8/dist-packages/matplotlib/backends/backend_agg.py:214: RuntimeWarning: Glyph 50724 missing from current font.\n",
            "  font.set_text(s, 0.0, flags=flags)\n",
            "/usr/local/lib/python3.8/dist-packages/matplotlib/backends/backend_agg.py:214: RuntimeWarning: Glyph 46973 missing from current font.\n",
            "  font.set_text(s, 0.0, flags=flags)\n",
            "/usr/local/lib/python3.8/dist-packages/matplotlib/backends/backend_agg.py:214: RuntimeWarning: Glyph 48512 missing from current font.\n",
            "  font.set_text(s, 0.0, flags=flags)\n",
            "/usr/local/lib/python3.8/dist-packages/matplotlib/backends/backend_agg.py:214: RuntimeWarning: Glyph 46041 missing from current font.\n",
            "  font.set_text(s, 0.0, flags=flags)\n",
            "/usr/local/lib/python3.8/dist-packages/matplotlib/backends/backend_agg.py:214: RuntimeWarning: Glyph 49328 missing from current font.\n",
            "  font.set_text(s, 0.0, flags=flags)\n",
            "/usr/local/lib/python3.8/dist-packages/matplotlib/backends/backend_agg.py:214: RuntimeWarning: Glyph 49689 missing from current font.\n",
            "  font.set_text(s, 0.0, flags=flags)\n",
            "/usr/local/lib/python3.8/dist-packages/matplotlib/backends/backend_agg.py:214: RuntimeWarning: Glyph 48149 missing from current font.\n",
            "  font.set_text(s, 0.0, flags=flags)\n",
            "/usr/local/lib/python3.8/dist-packages/matplotlib/backends/backend_agg.py:214: RuntimeWarning: Glyph 54252 missing from current font.\n",
            "  font.set_text(s, 0.0, flags=flags)\n",
            "/usr/local/lib/python3.8/dist-packages/matplotlib/backends/backend_agg.py:214: RuntimeWarning: Glyph 52768 missing from current font.\n",
            "  font.set_text(s, 0.0, flags=flags)\n",
            "/usr/local/lib/python3.8/dist-packages/matplotlib/backends/backend_agg.py:183: RuntimeWarning: Glyph 51020 missing from current font.\n",
            "  font.set_text(s, 0, flags=flags)\n",
            "/usr/local/lib/python3.8/dist-packages/matplotlib/backends/backend_agg.py:183: RuntimeWarning: Glyph 49885 missing from current font.\n",
            "  font.set_text(s, 0, flags=flags)\n",
            "/usr/local/lib/python3.8/dist-packages/matplotlib/backends/backend_agg.py:183: RuntimeWarning: Glyph 49548 missing from current font.\n",
            "  font.set_text(s, 0, flags=flags)\n",
            "/usr/local/lib/python3.8/dist-packages/matplotlib/backends/backend_agg.py:183: RuntimeWarning: Glyph 47588 missing from current font.\n",
            "  font.set_text(s, 0, flags=flags)\n",
            "/usr/local/lib/python3.8/dist-packages/matplotlib/backends/backend_agg.py:183: RuntimeWarning: Glyph 49373 missing from current font.\n",
            "  font.set_text(s, 0, flags=flags)\n",
            "/usr/local/lib/python3.8/dist-packages/matplotlib/backends/backend_agg.py:183: RuntimeWarning: Glyph 54876 missing from current font.\n",
            "  font.set_text(s, 0, flags=flags)\n",
            "/usr/local/lib/python3.8/dist-packages/matplotlib/backends/backend_agg.py:183: RuntimeWarning: Glyph 49436 missing from current font.\n",
            "  font.set_text(s, 0, flags=flags)\n",
            "/usr/local/lib/python3.8/dist-packages/matplotlib/backends/backend_agg.py:183: RuntimeWarning: Glyph 48708 missing from current font.\n",
            "  font.set_text(s, 0, flags=flags)\n",
            "/usr/local/lib/python3.8/dist-packages/matplotlib/backends/backend_agg.py:183: RuntimeWarning: Glyph 49828 missing from current font.\n",
            "  font.set_text(s, 0, flags=flags)\n",
            "/usr/local/lib/python3.8/dist-packages/matplotlib/backends/backend_agg.py:183: RuntimeWarning: Glyph 54617 missing from current font.\n",
            "  font.set_text(s, 0, flags=flags)\n",
            "/usr/local/lib/python3.8/dist-packages/matplotlib/backends/backend_agg.py:183: RuntimeWarning: Glyph 47928 missing from current font.\n",
            "  font.set_text(s, 0, flags=flags)\n",
            "/usr/local/lib/python3.8/dist-packages/matplotlib/backends/backend_agg.py:183: RuntimeWarning: Glyph 44368 missing from current font.\n",
            "  font.set_text(s, 0, flags=flags)\n",
            "/usr/local/lib/python3.8/dist-packages/matplotlib/backends/backend_agg.py:183: RuntimeWarning: Glyph 50977 missing from current font.\n",
            "  font.set_text(s, 0, flags=flags)\n",
            "/usr/local/lib/python3.8/dist-packages/matplotlib/backends/backend_agg.py:183: RuntimeWarning: Glyph 44288 missing from current font.\n",
            "  font.set_text(s, 0, flags=flags)\n",
            "/usr/local/lib/python3.8/dist-packages/matplotlib/backends/backend_agg.py:183: RuntimeWarning: Glyph 44305 missing from current font.\n",
            "  font.set_text(s, 0, flags=flags)\n",
            "/usr/local/lib/python3.8/dist-packages/matplotlib/backends/backend_agg.py:183: RuntimeWarning: Glyph 50668 missing from current font.\n",
            "  font.set_text(s, 0, flags=flags)\n",
            "/usr/local/lib/python3.8/dist-packages/matplotlib/backends/backend_agg.py:183: RuntimeWarning: Glyph 44032 missing from current font.\n",
            "  font.set_text(s, 0, flags=flags)\n",
            "/usr/local/lib/python3.8/dist-packages/matplotlib/backends/backend_agg.py:183: RuntimeWarning: Glyph 50724 missing from current font.\n",
            "  font.set_text(s, 0, flags=flags)\n",
            "/usr/local/lib/python3.8/dist-packages/matplotlib/backends/backend_agg.py:183: RuntimeWarning: Glyph 46973 missing from current font.\n",
            "  font.set_text(s, 0, flags=flags)\n",
            "/usr/local/lib/python3.8/dist-packages/matplotlib/backends/backend_agg.py:183: RuntimeWarning: Glyph 48512 missing from current font.\n",
            "  font.set_text(s, 0, flags=flags)\n",
            "/usr/local/lib/python3.8/dist-packages/matplotlib/backends/backend_agg.py:183: RuntimeWarning: Glyph 46041 missing from current font.\n",
            "  font.set_text(s, 0, flags=flags)\n",
            "/usr/local/lib/python3.8/dist-packages/matplotlib/backends/backend_agg.py:183: RuntimeWarning: Glyph 49328 missing from current font.\n",
            "  font.set_text(s, 0, flags=flags)\n",
            "/usr/local/lib/python3.8/dist-packages/matplotlib/backends/backend_agg.py:183: RuntimeWarning: Glyph 49689 missing from current font.\n",
            "  font.set_text(s, 0, flags=flags)\n",
            "/usr/local/lib/python3.8/dist-packages/matplotlib/backends/backend_agg.py:183: RuntimeWarning: Glyph 48149 missing from current font.\n",
            "  font.set_text(s, 0, flags=flags)\n",
            "/usr/local/lib/python3.8/dist-packages/matplotlib/backends/backend_agg.py:183: RuntimeWarning: Glyph 54252 missing from current font.\n",
            "  font.set_text(s, 0, flags=flags)\n",
            "/usr/local/lib/python3.8/dist-packages/matplotlib/backends/backend_agg.py:183: RuntimeWarning: Glyph 52768 missing from current font.\n",
            "  font.set_text(s, 0, flags=flags)\n",
            "/usr/local/lib/python3.8/dist-packages/matplotlib/backends/backend_agg.py:214: RuntimeWarning: Glyph 49345 missing from current font.\n",
            "  font.set_text(s, 0.0, flags=flags)\n",
            "/usr/local/lib/python3.8/dist-packages/matplotlib/backends/backend_agg.py:214: RuntimeWarning: Glyph 44428 missing from current font.\n",
            "  font.set_text(s, 0.0, flags=flags)\n",
            "/usr/local/lib/python3.8/dist-packages/matplotlib/backends/backend_agg.py:214: RuntimeWarning: Glyph 50629 missing from current font.\n",
            "  font.set_text(s, 0.0, flags=flags)\n",
            "/usr/local/lib/python3.8/dist-packages/matplotlib/backends/backend_agg.py:214: RuntimeWarning: Glyph 51333 missing from current font.\n",
            "  font.set_text(s, 0.0, flags=flags)\n",
            "/usr/local/lib/python3.8/dist-packages/matplotlib/backends/backend_agg.py:214: RuntimeWarning: Glyph 45824 missing from current font.\n",
            "  font.set_text(s, 0.0, flags=flags)\n",
            "/usr/local/lib/python3.8/dist-packages/matplotlib/backends/backend_agg.py:214: RuntimeWarning: Glyph 48516 missing from current font.\n",
            "  font.set_text(s, 0.0, flags=flags)\n",
            "/usr/local/lib/python3.8/dist-packages/matplotlib/backends/backend_agg.py:214: RuntimeWarning: Glyph 47448 missing from current font.\n",
            "  font.set_text(s, 0.0, flags=flags)\n",
            "/usr/local/lib/python3.8/dist-packages/matplotlib/backends/backend_agg.py:214: RuntimeWarning: Glyph 47749 missing from current font.\n",
            "  font.set_text(s, 0.0, flags=flags)\n",
            "/usr/local/lib/python3.8/dist-packages/matplotlib/backends/backend_agg.py:183: RuntimeWarning: Glyph 49345 missing from current font.\n",
            "  font.set_text(s, 0, flags=flags)\n",
            "/usr/local/lib/python3.8/dist-packages/matplotlib/backends/backend_agg.py:183: RuntimeWarning: Glyph 44428 missing from current font.\n",
            "  font.set_text(s, 0, flags=flags)\n",
            "/usr/local/lib/python3.8/dist-packages/matplotlib/backends/backend_agg.py:183: RuntimeWarning: Glyph 50629 missing from current font.\n",
            "  font.set_text(s, 0, flags=flags)\n",
            "/usr/local/lib/python3.8/dist-packages/matplotlib/backends/backend_agg.py:183: RuntimeWarning: Glyph 51333 missing from current font.\n",
            "  font.set_text(s, 0, flags=flags)\n",
            "/usr/local/lib/python3.8/dist-packages/matplotlib/backends/backend_agg.py:183: RuntimeWarning: Glyph 45824 missing from current font.\n",
            "  font.set_text(s, 0, flags=flags)\n",
            "/usr/local/lib/python3.8/dist-packages/matplotlib/backends/backend_agg.py:183: RuntimeWarning: Glyph 48516 missing from current font.\n",
            "  font.set_text(s, 0, flags=flags)\n",
            "/usr/local/lib/python3.8/dist-packages/matplotlib/backends/backend_agg.py:183: RuntimeWarning: Glyph 47448 missing from current font.\n",
            "  font.set_text(s, 0, flags=flags)\n",
            "/usr/local/lib/python3.8/dist-packages/matplotlib/backends/backend_agg.py:183: RuntimeWarning: Glyph 47749 missing from current font.\n",
            "  font.set_text(s, 0, flags=flags)\n"
          ]
        },
        {
          "output_type": "display_data",
          "data": {
            "text/plain": [
              "<Figure size 432x288 with 1 Axes>"
            ],
            "image/png": "[encoded data removed]"
          },
          "metadata": {
            "needs_background": "light"
          }
        }
      ]
    },
    {
      "cell_type": "code",
      "source": [
        "df_food = df.loc[df['상권업종대분류명']=='음식']"
      ],
      "metadata": {
        "id": "6nGHVPdX8ONs"
      },
      "execution_count": 23,
      "outputs": []
    },
    {
      "cell_type": "code",
      "source": [
        "df_food.shape"
      ],
      "metadata": {
        "colab": {
          "base_uri": "https://localhost:8080/"
        },
        "id": "6qddfQ1v8kcT",
        "outputId": "a229d597-aaba-446c-c4c3-39f2950fb3f1"
      },
      "execution_count": 24,
      "outputs": [
        {
          "output_type": "execute_result",
          "data": {
            "text/plain": [
              "(124001, 39)"
            ]
          },
          "metadata": {},
          "execution_count": 24
        }
      ]
    },
    {
      "cell_type": "markdown",
      "source": [
        "### 스타벅스와 이디야"
      ],
      "metadata": {
        "id": "hsvMpQT18wnh"
      }
    },
    {
      "cell_type": "code",
      "source": [
        "df.columns"
      ],
      "metadata": {
        "colab": {
          "base_uri": "https://localhost:8080/"
        },
        "id": "f5T5PXWh8vea",
        "outputId": "2e6d7cef-b04b-490f-90bf-7c999fb927ff"
      },
      "execution_count": 25,
      "outputs": [
        {
          "output_type": "execute_result",
          "data": {
            "text/plain": [
              "Index(['상가업소번호', '상호명', '지점명', '상권업종대분류코드', '상권업종대분류명', '상권업종중분류코드',\n",
              "       '상권업종중분류명', '상권업종소분류코드', '상권업종소분류명', '표준산업분류코드', '표준산업분류명', '시도코드',\n",
              "       '시도명', '시군구코드', '시군구명', '행정동코드', '행정동명', '법정동코드', '법정동명', '지번코드',\n",
              "       '대지구분코드', '대지구분명', '지번본번지', '지번부번지', '지번주소', '도로명코드', '도로명', '건물본번지',\n",
              "       '건물부번지', '건물관리번호', '건물명', '도로명주소', '구우편번호', '신우편번호', '동정보', '층정보',\n",
              "       '호정보', '경도', '위도'],\n",
              "      dtype='object')"
            ]
          },
          "metadata": {},
          "execution_count": 25
        }
      ]
    },
    {
      "cell_type": "code",
      "source": [
        "dataset = df[['상호명','지점명','상권업종중분류명','시도명','시군구명','행정동명','도로명','경도','위도']]\n",
        "dataset.head()"
      ],
      "metadata": {
        "colab": {
          "base_uri": "https://localhost:8080/",
          "height": 206
        },
        "id": "MS8oq-Tr80gf",
        "outputId": "458058f7-bbdd-4f21-a55a-fa37d98099a9"
      },
      "execution_count": 26,
      "outputs": [
        {
          "output_type": "execute_result",
          "data": {
            "text/plain": [
              "     상호명   지점명 상권업종중분류명    시도명  시군구명   행정동명               도로명          경도  \\\n",
              "0  석봉토스트   NaN    패스트푸드  서울특별시   광진구   구의2동  서울특별시 광진구 자양로39길  127.088387   \n",
              "1   피자마루   약수점    패스트푸드  서울특별시    중구    약수동    서울특별시 중구 동호로7길  127.010861   \n",
              "2   홍능갈비   NaN       한식  서울특별시   강서구   화곡1동  서울특별시 강서구 화곡로18길  126.836078   \n",
              "3    초밥왕   NaN   일식/수산물  서울특별시   송파구   잠실6동    서울특별시 송파구 올림픽로  127.102490   \n",
              "4   에브리돈  북가좌점       한식  서울특별시  서대문구  북가좌2동    서울특별시 서대문구 응암로  126.910288   \n",
              "\n",
              "          위도  \n",
              "0  37.549245  \n",
              "1  37.552153  \n",
              "2  37.538927  \n",
              "3  37.515149  \n",
              "4  37.579029  "
            ],
            "text/html": [
              "\n",
              "  <div id=\"df-6f4ceb2e-15c0-437e-bc3b-c9d8ca26c50f\">\n",
              "    <div class=\"colab-df-container\">\n",
              "      <div>\n",
              "<style scoped>\n",
              "    .dataframe tbody tr th:only-of-type {\n",
              "        vertical-align: middle;\n",
              "    }\n",
              "\n",
              "    .dataframe tbody tr th {\n",
              "        vertical-align: top;\n",
              "    }\n",
              "\n",
              "    .dataframe thead th {\n",
              "        text-align: right;\n",
              "    }\n",
              "</style>\n",
              "<table border=\"1\" class=\"dataframe\">\n",
              "  <thead>\n",
              "    <tr style=\"text-align: right;\">\n",
              "      <th></th>\n",
              "      <th>상호명</th>\n",
              "      <th>지점명</th>\n",
              "      <th>상권업종중분류명</th>\n",
              "      <th>시도명</th>\n",
              "      <th>시군구명</th>\n",
              "      <th>행정동명</th>\n",
              "      <th>도로명</th>\n",
              "      <th>경도</th>\n",
              "      <th>위도</th>\n",
              "    </tr>\n",
              "  </thead>\n",
              "  <tbody>\n",
              "    <tr>\n",
              "      <th>0</th>\n",
              "      <td>석봉토스트</td>\n",
              "      <td>NaN</td>\n",
              "      <td>패스트푸드</td>\n",
              "      <td>서울특별시</td>\n",
              "      <td>광진구</td>\n",
              "      <td>구의2동</td>\n",
              "      <td>서울특별시 광진구 자양로39길</td>\n",
              "      <td>127.088387</td>\n",
              "      <td>37.549245</td>\n",
              "    </tr>\n",
              "    <tr>\n",
              "      <th>1</th>\n",
              "      <td>피자마루</td>\n",
              "      <td>약수점</td>\n",
              "      <td>패스트푸드</td>\n",
              "      <td>서울특별시</td>\n",
              "      <td>중구</td>\n",
              "      <td>약수동</td>\n",
              "      <td>서울특별시 중구 동호로7길</td>\n",
              "      <td>127.010861</td>\n",
              "      <td>37.552153</td>\n",
              "    </tr>\n",
              "    <tr>\n",
              "      <th>2</th>\n",
              "      <td>홍능갈비</td>\n",
              "      <td>NaN</td>\n",
              "      <td>한식</td>\n",
              "      <td>서울특별시</td>\n",
              "      <td>강서구</td>\n",
              "      <td>화곡1동</td>\n",
              "      <td>서울특별시 강서구 화곡로18길</td>\n",
              "      <td>126.836078</td>\n",
              "      <td>37.538927</td>\n",
              "    </tr>\n",
              "    <tr>\n",
              "      <th>3</th>\n",
              "      <td>초밥왕</td>\n",
              "      <td>NaN</td>\n",
              "      <td>일식/수산물</td>\n",
              "      <td>서울특별시</td>\n",
              "      <td>송파구</td>\n",
              "      <td>잠실6동</td>\n",
              "      <td>서울특별시 송파구 올림픽로</td>\n",
              "      <td>127.102490</td>\n",
              "      <td>37.515149</td>\n",
              "    </tr>\n",
              "    <tr>\n",
              "      <th>4</th>\n",
              "      <td>에브리돈</td>\n",
              "      <td>북가좌점</td>\n",
              "      <td>한식</td>\n",
              "      <td>서울특별시</td>\n",
              "      <td>서대문구</td>\n",
              "      <td>북가좌2동</td>\n",
              "      <td>서울특별시 서대문구 응암로</td>\n",
              "      <td>126.910288</td>\n",
              "      <td>37.579029</td>\n",
              "    </tr>\n",
              "  </tbody>\n",
              "</table>\n",
              "</div>\n",
              "      <button class=\"colab-df-convert\" onclick=\"convertToInteractive('df-6f4ceb2e-15c0-437e-bc3b-c9d8ca26c50f')\"\n",
              "              title=\"Convert this dataframe to an interactive table.\"\n",
              "              style=\"display:none;\">\n",
              "        \n",
              "  <svg xmlns=\"http://www.w3.org/2000/svg\" height=\"24px\"viewBox=\"0 0 24 24\"\n",
              "       width=\"24px\">\n",
              "    <path d=\"M0 0h24v24H0V0z\" fill=\"none\"/>\n",
              "    <path d=\"M18.56 5.44l.94 2.06.94-2.06 2.06-.94-2.06-.94-.94-2.06-.94 2.06-2.06.94zm-11 1L8.5 8.5l.94-2.06 2.06-.94-2.06-.94L8.5 2.5l-.94 2.06-2.06.94zm10 10l.94 2.06.94-2.06 2.06-.94-2.06-.94-.94-2.06-.94 2.06-2.06.94z\"/><path d=\"M17.41 7.96l-1.37-1.37c-.4-.4-.92-.59-1.43-.59-.52 0-1.04.2-1.43.59L10.3 9.45l-7.72 7.72c-.78.78-.78 2.05 0 2.83L4 21.41c.39.39.9.59 1.41.59.51 0 1.02-.2 1.41-.59l7.78-7.78 2.81-2.81c.8-.78.8-2.07 0-2.86zM5.41 20L4 18.59l7.72-7.72 1.47 1.35L5.41 20z\"/>\n",
              "  </svg>\n",
              "      </button>\n",
              "      \n",
              "  <style>\n",
              "    .colab-df-container {\n",
              "      display:flex;\n",
              "      flex-wrap:wrap;\n",
              "      gap: 12px;\n",
              "    }\n",
              "\n",
              "    .colab-df-convert {\n",
              "      background-color: #E8F0FE;\n",
              "      border: none;\n",
              "      border-radius: 50%;\n",
              "      cursor: pointer;\n",
              "      display: none;\n",
              "      fill: #1967D2;\n",
              "      height: 32px;\n",
              "      padding: 0 0 0 0;\n",
              "      width: 32px;\n",
              "    }\n",
              "\n",
              "    .colab-df-convert:hover {\n",
              "      background-color: #E2EBFA;\n",
              "      box-shadow: 0px 1px 2px rgba(60, 64, 67, 0.3), 0px 1px 3px 1px rgba(60, 64, 67, 0.15);\n",
              "      fill: #174EA6;\n",
              "    }\n",
              "\n",
              "    [theme=dark] .colab-df-convert {\n",
              "      background-color: #3B4455;\n",
              "      fill: #D2E3FC;\n",
              "    }\n",
              "\n",
              "    [theme=dark] .colab-df-convert:hover {\n",
              "      background-color: #434B5C;\n",
              "      box-shadow: 0px 1px 3px 1px rgba(0, 0, 0, 0.15);\n",
              "      filter: drop-shadow(0px 1px 2px rgba(0, 0, 0, 0.3));\n",
              "      fill: #FFFFFF;\n",
              "    }\n",
              "  </style>\n",
              "\n",
              "      <script>\n",
              "        const buttonEl =\n",
              "          document.querySelector('#df-6f4ceb2e-15c0-437e-bc3b-c9d8ca26c50f button.colab-df-convert');\n",
              "        buttonEl.style.display =\n",
              "          google.colab.kernel.accessAllowed ? 'block' : 'none';\n",
              "\n",
              "        async function convertToInteractive(key) {\n",
              "          const element = document.querySelector('#df-6f4ceb2e-15c0-437e-bc3b-c9d8ca26c50f');\n",
              "          const dataTable =\n",
              "            await google.colab.kernel.invokeFunction('convertToInteractive',\n",
              "                                                     [key], {});\n",
              "          if (!dataTable) return;\n",
              "\n",
              "          const docLinkHtml = 'Like what you see? Visit the ' +\n",
              "            '<a target=\"_blank\" href=https://colab.research.google.com/notebooks/data_table.ipynb>data table notebook</a>'\n",
              "            + ' to learn more about interactive tables.';\n",
              "          element.innerHTML = '';\n",
              "          dataTable['output_type'] = 'display_data';\n",
              "          await google.colab.output.renderOutput(dataTable, element);\n",
              "          const docLink = document.createElement('div');\n",
              "          docLink.innerHTML = docLinkHtml;\n",
              "          element.appendChild(docLink);\n",
              "        }\n",
              "      </script>\n",
              "    </div>\n",
              "  </div>\n",
              "  "
            ]
          },
          "metadata": {},
          "execution_count": 26
        }
      ]
    },
    {
      "cell_type": "code",
      "source": [
        "df_coffee = dataset[dataset['상권업종중분류명']=='커피점/카페']\n",
        "df_coffee.head()"
      ],
      "metadata": {
        "colab": {
          "base_uri": "https://localhost:8080/",
          "height": 206
        },
        "id": "HFRin0Xx9K4x",
        "outputId": "7012e840-a10e-415e-f94e-540049ce8d57"
      },
      "execution_count": 27,
      "outputs": [
        {
          "output_type": "execute_result",
          "data": {
            "text/plain": [
              "              상호명         지점명 상권업종중분류명    시도명  시군구명  행정동명                 도로명  \\\n",
              "9              왕실         NaN   커피점/카페  서울특별시    중구    명동       서울특별시 중구 남대문로   \n",
              "13            커피빈      코리아교대점   커피점/카페  서울특별시   서초구  서초1동     서울특별시 서초구 서초중앙로   \n",
              "15   고려대학교교육관쎄리오점         NaN   커피점/카페  서울특별시   성북구   안암동       서울특별시 성북구 안암로   \n",
              "18          스완카페트         NaN   커피점/카페  서울특별시  영등포구  대림3동  서울특별시 영등포구 도신로10가길   \n",
              "26  커피빈코리아선릉로93길점  코리아선릉로93길점   커피점/카페  서울특별시   강남구  역삼1동    서울특별시 강남구 선릉로93길   \n",
              "\n",
              "            경도         위도  \n",
              "9   126.982419  37.562274  \n",
              "13  127.014217  37.492388  \n",
              "15  127.031702  37.588485  \n",
              "18  126.897710  37.503693  \n",
              "26  127.047883  37.505675  "
            ],
            "text/html": [
              "\n",
              "  <div id=\"df-76d1e722-ec11-4ac9-b638-328a5d863814\">\n",
              "    <div class=\"colab-df-container\">\n",
              "      <div>\n",
              "<style scoped>\n",
              "    .dataframe tbody tr th:only-of-type {\n",
              "        vertical-align: middle;\n",
              "    }\n",
              "\n",
              "    .dataframe tbody tr th {\n",
              "        vertical-align: top;\n",
              "    }\n",
              "\n",
              "    .dataframe thead th {\n",
              "        text-align: right;\n",
              "    }\n",
              "</style>\n",
              "<table border=\"1\" class=\"dataframe\">\n",
              "  <thead>\n",
              "    <tr style=\"text-align: right;\">\n",
              "      <th></th>\n",
              "      <th>상호명</th>\n",
              "      <th>지점명</th>\n",
              "      <th>상권업종중분류명</th>\n",
              "      <th>시도명</th>\n",
              "      <th>시군구명</th>\n",
              "      <th>행정동명</th>\n",
              "      <th>도로명</th>\n",
              "      <th>경도</th>\n",
              "      <th>위도</th>\n",
              "    </tr>\n",
              "  </thead>\n",
              "  <tbody>\n",
              "    <tr>\n",
              "      <th>9</th>\n",
              "      <td>왕실</td>\n",
              "      <td>NaN</td>\n",
              "      <td>커피점/카페</td>\n",
              "      <td>서울특별시</td>\n",
              "      <td>중구</td>\n",
              "      <td>명동</td>\n",
              "      <td>서울특별시 중구 남대문로</td>\n",
              "      <td>126.982419</td>\n",
              "      <td>37.562274</td>\n",
              "    </tr>\n",
              "    <tr>\n",
              "      <th>13</th>\n",
              "      <td>커피빈</td>\n",
              "      <td>코리아교대점</td>\n",
              "      <td>커피점/카페</td>\n",
              "      <td>서울특별시</td>\n",
              "      <td>서초구</td>\n",
              "      <td>서초1동</td>\n",
              "      <td>서울특별시 서초구 서초중앙로</td>\n",
              "      <td>127.014217</td>\n",
              "      <td>37.492388</td>\n",
              "    </tr>\n",
              "    <tr>\n",
              "      <th>15</th>\n",
              "      <td>고려대학교교육관쎄리오점</td>\n",
              "      <td>NaN</td>\n",
              "      <td>커피점/카페</td>\n",
              "      <td>서울특별시</td>\n",
              "      <td>성북구</td>\n",
              "      <td>안암동</td>\n",
              "      <td>서울특별시 성북구 안암로</td>\n",
              "      <td>127.031702</td>\n",
              "      <td>37.588485</td>\n",
              "    </tr>\n",
              "    <tr>\n",
              "      <th>18</th>\n",
              "      <td>스완카페트</td>\n",
              "      <td>NaN</td>\n",
              "      <td>커피점/카페</td>\n",
              "      <td>서울특별시</td>\n",
              "      <td>영등포구</td>\n",
              "      <td>대림3동</td>\n",
              "      <td>서울특별시 영등포구 도신로10가길</td>\n",
              "      <td>126.897710</td>\n",
              "      <td>37.503693</td>\n",
              "    </tr>\n",
              "    <tr>\n",
              "      <th>26</th>\n",
              "      <td>커피빈코리아선릉로93길점</td>\n",
              "      <td>코리아선릉로93길점</td>\n",
              "      <td>커피점/카페</td>\n",
              "      <td>서울특별시</td>\n",
              "      <td>강남구</td>\n",
              "      <td>역삼1동</td>\n",
              "      <td>서울특별시 강남구 선릉로93길</td>\n",
              "      <td>127.047883</td>\n",
              "      <td>37.505675</td>\n",
              "    </tr>\n",
              "  </tbody>\n",
              "</table>\n",
              "</div>\n",
              "      <button class=\"colab-df-convert\" onclick=\"convertToInteractive('df-76d1e722-ec11-4ac9-b638-328a5d863814')\"\n",
              "              title=\"Convert this dataframe to an interactive table.\"\n",
              "              style=\"display:none;\">\n",
              "        \n",
              "  <svg xmlns=\"http://www.w3.org/2000/svg\" height=\"24px\"viewBox=\"0 0 24 24\"\n",
              "       width=\"24px\">\n",
              "    <path d=\"M0 0h24v24H0V0z\" fill=\"none\"/>\n",
              "    <path d=\"M18.56 5.44l.94 2.06.94-2.06 2.06-.94-2.06-.94-.94-2.06-.94 2.06-2.06.94zm-11 1L8.5 8.5l.94-2.06 2.06-.94-2.06-.94L8.5 2.5l-.94 2.06-2.06.94zm10 10l.94 2.06.94-2.06 2.06-.94-2.06-.94-.94-2.06-.94 2.06-2.06.94z\"/><path d=\"M17.41 7.96l-1.37-1.37c-.4-.4-.92-.59-1.43-.59-.52 0-1.04.2-1.43.59L10.3 9.45l-7.72 7.72c-.78.78-.78 2.05 0 2.83L4 21.41c.39.39.9.59 1.41.59.51 0 1.02-.2 1.41-.59l7.78-7.78 2.81-2.81c.8-.78.8-2.07 0-2.86zM5.41 20L4 18.59l7.72-7.72 1.47 1.35L5.41 20z\"/>\n",
              "  </svg>\n",
              "      </button>\n",
              "      \n",
              "  <style>\n",
              "    .colab-df-container {\n",
              "      display:flex;\n",
              "      flex-wrap:wrap;\n",
              "      gap: 12px;\n",
              "    }\n",
              "\n",
              "    .colab-df-convert {\n",
              "      background-color: #E8F0FE;\n",
              "      border: none;\n",
              "      border-radius: 50%;\n",
              "      cursor: pointer;\n",
              "      display: none;\n",
              "      fill: #1967D2;\n",
              "      height: 32px;\n",
              "      padding: 0 0 0 0;\n",
              "      width: 32px;\n",
              "    }\n",
              "\n",
              "    .colab-df-convert:hover {\n",
              "      background-color: #E2EBFA;\n",
              "      box-shadow: 0px 1px 2px rgba(60, 64, 67, 0.3), 0px 1px 3px 1px rgba(60, 64, 67, 0.15);\n",
              "      fill: #174EA6;\n",
              "    }\n",
              "\n",
              "    [theme=dark] .colab-df-convert {\n",
              "      background-color: #3B4455;\n",
              "      fill: #D2E3FC;\n",
              "    }\n",
              "\n",
              "    [theme=dark] .colab-df-convert:hover {\n",
              "      background-color: #434B5C;\n",
              "      box-shadow: 0px 1px 3px 1px rgba(0, 0, 0, 0.15);\n",
              "      filter: drop-shadow(0px 1px 2px rgba(0, 0, 0, 0.3));\n",
              "      fill: #FFFFFF;\n",
              "    }\n",
              "  </style>\n",
              "\n",
              "      <script>\n",
              "        const buttonEl =\n",
              "          document.querySelector('#df-76d1e722-ec11-4ac9-b638-328a5d863814 button.colab-df-convert');\n",
              "        buttonEl.style.display =\n",
              "          google.colab.kernel.accessAllowed ? 'block' : 'none';\n",
              "\n",
              "        async function convertToInteractive(key) {\n",
              "          const element = document.querySelector('#df-76d1e722-ec11-4ac9-b638-328a5d863814');\n",
              "          const dataTable =\n",
              "            await google.colab.kernel.invokeFunction('convertToInteractive',\n",
              "                                                     [key], {});\n",
              "          if (!dataTable) return;\n",
              "\n",
              "          const docLinkHtml = 'Like what you see? Visit the ' +\n",
              "            '<a target=\"_blank\" href=https://colab.research.google.com/notebooks/data_table.ipynb>data table notebook</a>'\n",
              "            + ' to learn more about interactive tables.';\n",
              "          element.innerHTML = '';\n",
              "          dataTable['output_type'] = 'display_data';\n",
              "          await google.colab.output.renderOutput(dataTable, element);\n",
              "          const docLink = document.createElement('div');\n",
              "          docLink.innerHTML = docLinkHtml;\n",
              "          element.appendChild(docLink);\n",
              "        }\n",
              "      </script>\n",
              "    </div>\n",
              "  </div>\n",
              "  "
            ]
          },
          "metadata": {},
          "execution_count": 27
        }
      ]
    },
    {
      "cell_type": "code",
      "source": [
        "df_coffee.columns"
      ],
      "metadata": {
        "colab": {
          "base_uri": "https://localhost:8080/"
        },
        "id": "q_hfn0UO9rQ6",
        "outputId": "b0ac9444-5f14-436c-b178-08139376dab5"
      },
      "execution_count": 28,
      "outputs": [
        {
          "output_type": "execute_result",
          "data": {
            "text/plain": [
              "Index(['상호명', '지점명', '상권업종중분류명', '시도명', '시군구명', '행정동명', '도로명', '경도', '위도'], dtype='object')"
            ]
          },
          "metadata": {},
          "execution_count": 28
        }
      ]
    },
    {
      "cell_type": "code",
      "source": [
        "print(df_coffee['상호명'].unique().shape)\n",
        "df_coffee['상호명'].unique()"
      ],
      "metadata": {
        "colab": {
          "base_uri": "https://localhost:8080/"
        },
        "id": "AnTZWZep-CnI",
        "outputId": "c6e7fc85-08ab-4fbd-ceac-56fea8cb405d"
      },
      "execution_count": 29,
      "outputs": [
        {
          "output_type": "stream",
          "name": "stdout",
          "text": [
            "(12426,)\n"
          ]
        },
        {
          "output_type": "execute_result",
          "data": {
            "text/plain": [
              "array(['왕실', '커피빈', '고려대학교교육관쎄리오점', ..., '커피인류고덕아르테온점', '삼청동에그롤', '밀스톤'],\n",
              "      dtype=object)"
            ]
          },
          "metadata": {},
          "execution_count": 29
        }
      ]
    },
    {
      "cell_type": "code",
      "source": [
        "df_coffee['상호명'].value_counts()"
      ],
      "metadata": {
        "colab": {
          "base_uri": "https://localhost:8080/"
        },
        "id": "kEBea-Eg-HWX",
        "outputId": "723f5e2c-500d-4b8b-f1b6-6a352a6e8671"
      },
      "execution_count": 30,
      "outputs": [
        {
          "output_type": "execute_result",
          "data": {
            "text/plain": [
              "간단하지만특별한화피디Cafe    1198\n",
              "이디야커피               338\n",
              "스타벅스                303\n",
              "커피빈                 146\n",
              "투썸플레이스              119\n",
              "                   ... \n",
              "허니비와플까페               1\n",
              "토즈신촌15센터              1\n",
              "탑커피숍                  1\n",
              "행복다방                  1\n",
              "밀스톤                   1\n",
              "Name: 상호명, Length: 12426, dtype: int64"
            ]
          },
          "metadata": {},
          "execution_count": 30
        }
      ]
    },
    {
      "cell_type": "code",
      "source": [
        "print(set(df_coffee['상호명'].unique()))"
      ],
      "metadata": {
        "colab": {
          "base_uri": "https://localhost:8080/"
        },
        "id": "kmNfqDQE-Y05",
        "outputId": "a8c91086-dc48-4fd6-9c38-d0faf0ba9d87"
      },
      "execution_count": 31,
      "outputs": [
        {
          "output_type": "stream",
          "name": "stdout",
          "text": [
            "{'커피나무K', '하지커피', '교토베네토', '소망다방', '폴라커피', '카페클라시코', '커피에반하다양천목3동점', 'allfresh', '넥스테이블메종드크레페', '더치스', '까사커피', '필립앤노아', '파빌리온패밀리리틀마라케쉬', '커피보노', '몬무스커피', '티아라쥬얼리카페', '슬로우가든삼청점', '카페르프랑', '라인보드카페', '커피베이경희궁자이점', '카페소설', '허니박스', '투썸플레이스여의도금융투자협회', '바람쐬다', 'at61', '라카페', '약속', '공감락까페', '앤스마일', '버스커', '밀크앤허니마포공덕', 'HolythecafeCenacle', '515티룸', 'QUASTACOFFEE', '화이트', '3poppc카페', '커피베네', '더빈스11', '카페다바인그라이드', '카페체칠SU', '허형만의압구정커피집', '카페오로미아', '카페일루오고', '갤러리사진창고', '카페타임플라이스', '디자인에스프레소', '담톨', '비라티오', '커피똥', '카카오프렌즈라이언카페', '커피레벨52대륭점', '1999카페', '글라세라떼', '밀크다방', '니들누들', '밀스톤', '블링블링', '리틀마라캐쉬', '등대만화카페', 'EDIYA카페', '무인카페', '베이직하우스', '예커피', '디초콜릿커피앤', '아붕', '역촌동커피', '이디야불광역', '엔제리너스라붐아울렛T/O', '핸더스', '디밀리옹', '떼루와떼루와구로디지털단지점', '블루트리', '카페프린세스스토리', '커피베리티', '배냇', '카페뚜또', '스타벅스명동역점', '프레도&토스트', 'HOLLYSCO', '왕궁다방', '멍프린세스', '투요', 'CAFEB', '서울에서첫번째전통찻집', '공차GONGCHA', '플리즈커피서강대점', '커피스푼', '아체커피', '가을타는여자', '포스트카페', '스타벅스신촌점', '유한테크노스커피프린스종', '까페바소', '면곡당', '카페티', '퍼피도그', '出國', '커피몽드', '커피스노우', '탑클래스커피', '카페베네청담사거리', '라일락다방', '할리스커피가산디지털단지점', '선비카페', '카페보바타임', '수련찻집', '오버더레인보우', '카페모아', '쉠락에프앤비', '루체에살레', '다향', '록키마운틴초콜릿팩토리', '엔제리너스커피동강에프앤', '자바시티', '배고픈사자', '베리프레쉬', '아니스', '카페와플스토리', 'FrenchBakeryCafe', '커피집숍', '쥬씨', '카페밀크', '귀젤커피', '카페쥬빌리', '까페밀로', '컵오브커피', '커피코코스무디코코', '맘모스커피', '카페레스트리', '도란도란학습카페', '테이크아웃샵', '미엘', '스페이스M', '까페드비반트', '케이티링커스롯데강남점라바짜', '카페마당', '투썸플레이스뱅뱅사거리점', '까페리옌', '리치빈스커피', '복', '더핏불푸드카페', '스타벅스역점', '카페아미', '오설록팩토리', '카페더샌드위치', '웨스트엔드문화카페', 'VAN', '카페엘리', '커피빈코리아천호역점', '인컴솔루션', '지그재그', '만쥬카페', '해리스커피파크', '아이센스PC방강남역점', 'PLAN.Bean', '지마요', '카페E.M.S', '그리다꿈숭실대점', '이디야커피영등포본동점', '알렉스더커피', 'Camtotoast&juice', '로사퍼시픽생명연장', '리이슈커피로스터스', '블랑블랑카페', '달마이어', '아일랜드', '에프엠에스', '필그림', '쥬씨약수점', '카페데이트팜', '남산', '알콩커피', '이디야커피우장산동점', '학림', '투썸플레이스구로', '조선커피FACTORY', '바른찻집', '모던까페', '쿡', '봉명다방', '전광수커피숍', '엘리의초콜릿', '잎과콩', '블루리본', '2*3COFFEE', '누아르블랑', '투썸플레이스신논현역점1', '장미라운지', 'cafe제페토', '자마이카', 'Mammothcoffee', '카페리브레', '노박주스', '루스티끄', '보사노바커피로스터스', '아카프', '커피논현로', '한국문화재재단', '롯데리아', '스타벅스삼성도심공항점', '스타벅스미아사거리역점', '신세계푸드이하우스에델리아', '바른강정연구소', '탐앤탐스서울대입구점', '카페딜리노', '커피로스팅원두공장', '12사주카페', '탐앤탐스영등포', '고고스카페', '잉클링', '수제와플바리', '크리스마스자몽광운대점', '카페루바토', '406번째스토브', 'Aristacoffee', '책읽는카페', '명일커피숍', '청복보이차', '지디패밀리', '몰로컴퍼니', '고다방', '까페오시정', '마크커피', '애플카페', 'PLE', '89반즈플레이스', '에페커피', '커피디엔에이', 'dab', '데얼커피', '원빈-Onebean', '킹커피코리아', '스윗드림카페SWEETDREAM', '집쥬스', '작은거리커피', '담소', '만남커피숍', '카페아쉐르동여의도점', 'IL카페', '문스트럭', '삼성웰스토리커피앤', '도니바니애견카페', '수다쟁이', '보노보나마포합정점마포합정점', '비알브에노스페이스', '꿈커피', 'CARIBOUCOFFEE신촌점', '카페바른생활', '엔', '슈퍼사이즈', '카페베이트리', '스타벅스이태원거리점', '북카페서원', '커피코트서초애비뉴점', '루아흐', '라푼젤', '송스키친', '체화당', '시모커피', '바디프랜드파크', '라윤갤러리', '카페요거프레소', '오마이팟', '허니카페', '로컬카페', '올리브리사', '카페티엔', '셰프리', '빈즈에비뉴넘버원', '이츠굿베이커리카페신내점', '커피기타', '월드컵공원연못카페테리아', '우리', '술마시는까페', '스타벅스올림픽공원남문점', '투썸플레이스선유도역점', '카페나무영우성균관대', '보다더카페', '에이치이에이', '삼성웰스토리그레이스타워웰스토리카페', '북카페로뎀', '파파클레멘스', '카페솔로', '커피1498', '까페앨리스', '겸스커피', '투썸플레이스판교SK', '커피만서울시립대점', '산이', '매머드커피익스프레스노량진점', '참카페', '카페로올봄', '띠아모쌍문동점', '스퀘어비스트로앤샵', '대흥다방', '키다리아저씨', '이디야마들역', '커피리브레', '커피인더문', '아이크스커피숍', 'Solcafe', '티빠', '마니커피', '리본', '명선우S', '노미널', '하우', '카페예인', '하울팟', '롯데푸드파스퇴르밀크바', '폴락커피로스터리', 'imp', '모나티', '커피앤두리', '도깨비', '키즈북까페', '수노커피', 'DAILY3', '피러팻', 'SOMETEA', '언니네다락방', '빌리프커피로스터스', 'KITTYCAFE', '중앙커피숖', '반디랩', '놀숲성균관대점', '아이우애오', '크레센도휴게음식점', '투썸플레이스', '라고샤', '모노레일', '스노우스푼', 'SHINY', '코코부르니', '또봄', '아티제여의도공원점', '약다방봄동', '콩툰중화점', '연꽃향기', '꽃커피', '길모퉁이커피', '허니네커피', '쏘뇨', '페르마타카페용산점', '유엠영어', '코레일유통대방카페', '365-T', '압구정북카페', '카페방방', '목화', '버클리쿠키', '수피아', '요거프레소한성대점', '카파커피', '심리치유카페멘토건대', '더브리제', '커피두', '에스씨커피', '빙달', '수노의작은커피집', 'Chooseyourcoffee', '커피테이크아웃공장', '카페미오', '4CDUTCHCOFFEE4도씨더치커피', '홍scoffee', '카페투니온', 'CafeClara', '파빙목동파리공원점', '위드미', '떼루아', '영우홍익대학교매점', '소프트리', '더라떼', '소풍', 'COFFEETHE.R', '브루잉부라더스상왕십리점', '카페완츄', '다솜채', '사이베리아', '엔에프에어커피라운지', '한일', '커피드리즐', '카페온고', '스노잉스위트', '더치인', '그대를위한커피', '위드카페', '로벤', '아드라나눔카페', '베네치아건설', '투쓰리프레시커피', '커피셀러', '이디야커피양재AT점', '유니크스윗', '모뜨', '마이커피', '커피앤콤마', '센티모르', '더엠디저트카페', '애견카페', '쥬스식스대륭2차점', 'YourCoffee', 'LUMBERJACK', '고구마', '커피리시버', 'cafe커피콩', '후르츠팜', '수무디킹롯데몰', '네스카페', '투썸플레이스광화문점', '워너커피서초점', '감성유리다방', '카페베네이노시티점', '스윗레시피', '인디오븐', '말차팥차', '카페이지', '더쉼카페', '티엘시에프앤비엘뽀요학동', '커피마심', 'JLDessertBar', '산드라', '비아엠', '비스트로33', '이지커피', '뽕다방', '카페하랑', '아르고커피', 'WOODBRICK', '브룩스빌커피앤티', '코피에반하다', '알레데이아커피', '보나비아티제일원로비점', '꾸까', '뉴욕핫도그앤커피수유점', '봄빵', '사쿠라커피로스터스', '컵오브커피동소문동4가점', '뉴푸드유통', '잇버블비앤비윗커피', '튠업카페', '소커피암사점', '랄랄라', '마리웨일237', 'CoffeeMAMA', '리얼커피', '옐로우문', '세시봉7080', '심리카페.COM', '공차한양대점', '삼양커피숍', '벡도어', '블럭캠퍼스마곡', '카페도로시', '아임유어커피', '쥬씨남성역점', '와이투커피', '카페291-2', '죠아찌쥬스', '브레드미', '슈커피', '스미스바니스페셜티커피1호', '애견카페개그멍', '커피꼬모', 'cafelereve', '와플', '포트오브모카보광점', '스트릿츄러스홍대영풍문고점', '윌리엄카페', 'cafeVIACE', '세븐스헤븐커피', '가회한경헌', '찬PLUS반찬카페', '공원카페', '스탠다드플로우', '헤픈커피', '베러댄와플', '커피공방', '도피오카페', 'JYCOFFEEROASTERS', '구나길구', 'CHOIBREWERSCOFFEE', '청구다방', '커피메카닉[최윤태]', '밀로커피', '포래빗', '커피이야기헬로웨일', '스카이래빗', '하나커피점', '평생직장커피', '브이엑스메이트카페', '아워홈서울의료원점업타운', '유토피아카페', '린도', '메그놀리아디자인카페', '엠엠티에이치커피', '디자인커피', '원제커피', '스타벅스노원마들역점', '휘드카페', '포우어', '카페리사', '생각이나서', '북아현마을북까페', 'NINECOFFEE', '커피온정', '재미난조각가', '엘오에이커피', '아이러브참', '투썸플레이스가산대성디폴리스점', '블랙커피', '154SooDa', '보스톤더카페델리강', '쁘띠크로아상', '떼루와중랑점', '폴씬플레이스', '카페본스', '베니커피', '컵오브컴포트', 'POPBAR', '베이브', '킹제임스', '물오름달', '달콤커피라이브라운지', '커피베이대방현대점', '요요프레쉬티바', '커피스미스', '청자다바', '홈이디저트', '프롬하츠커피', '폴라리스', '더본코리아_빽다방등촌', '샤또쇼콜라이태원점', 'Cafe.The', '오십사계단커피', 'bluement', '토끼네부엌', '커피볶는남자', '토스피아', '스타벅스연희DT점', '역풍', '본까스', '프레드릭', '민트레빗', '167', '커피품격', '더차린', '자바커피', '쥬씨중화역점', '커피코트구로벽산7차점', '쥬씨대림역점', 'cafeZygo', 'Teastory', '몽모리아', '마듀', '레드캣', '커피나무장안교점', '감각', '커피마스', '타맥', '커피닷', '커피의품격', '마카롱원더스목동점', '메이크타임', '그린', '지유명차', '카페자마이카', '디어달링', '카페두센트레', '사과나무', '랄라', '커피사피엔스', '송파다방', '커피타임즈', '히코코서울역점', '금성', '커피쉼', '아이커피샵', '카페만나', '카페단지', '와이플레이스', '더더모어', '커피더맨', '퀸즈타운', '카페드비반트', '리얼리티리플렉션', '쥬씨구로역남부점', '카페로이', '수정', '브라질커피숍', '라떼플로라', '수지스', '대왕커피', '보나비아티제', '생활창작가게키', '본투비블루', '설빙차이나', 'IROOM', '제이스커피나무', '세미다방', '게이트4', '민속찻집', '카페마조앤새디', '카페파이드', '탐앤탐스목동예술인센터', '장사찻집', 'TWOSME+', '퍼플피씨', '커피후', '가베5225', '카페칸타타태릉입구역', '리믹스앤더쥬스', '카멜커피', '커피플라넷츠', 'Dutch&Bean', '오설록티하우스시그니쳐타워점', '카페띠아모답십리점', '키웨스트', 'ZAKOC&W', '커피앤틱', '쥬씨용두역점', '달보드레', '클라시코', '현경개발릴리움커피', '허니콤커피로스터스', '샤크', '피에이치오커피', '아비앙또', '피어까페', 'Y.M커피프로젝트', '카페플레인', '합동휴게실', '동자희망나눔센터', '돌체라쎄라', '태종커피숍', 'TARECoffeeRoasters', '비니웨이', '델리로티', '퍼피앤커피', '커피소년', '카페반색', '땡스네이처카페', '씽크어바웃커피', '하워드커피', '모로티', '바스킷423', '카페드루와', '10000LABCOFFEE', '모던양갱집', '제비카페', '브라운팰리스커피숍', '하루커피', '카페에쏘', '커피에반하다길동역점', '크리서스커피', '더카페', '본초맘죽&coffee', '도노도노제이', '스타벅스코엑스사거리점', '오르페블랙', '브리지데이커피', '더안페리스', '뭉치치카페', '금남', '오리지널팬케이크하우스이태원점', '카페갤러리원', '더로스팅', 'VICC', '지에스그래픽스북카페마루', '테일러커피', '카페브릭스', '카페고마워', '르샤카페', '까페플로르', 'BABEANSCOFFEE', '뉴욕핫도그앤커피잠실롯데월드점', '커피한잔', '플럼파이', '로스터스커피', '영수야놀자COFFEE', '탐앤탐스명동중앙우체국점', '세미콜론커피', '커피13온스', '프로젝트얼스', '강아지별애견카페', '까페호빈', '남산상점', '샌드플러스', '쥬스스타', '커피수기', '여자커피', '투사이드카페', '포룸', '데일리쥬스', '나인스트리트', '공차명동점', '유로', '카페오픈키친', '요거프레소개봉2호점', '설빙신촌점', '후루츠젤라떼리아', '카페그린빈', '비어카페길양', 'wheypoint', '커피스테이', 'FOGHAT', '카페그란데', '탁앤초이투썸플레이스청담역지점', '쏘렐라마켓', '솟대사주까페', '보나파이드커피', '오가닉라운지', 'CAFEEEPHUS', '카페머물다', '고디바강남점', '실라커피', 'PUESTO', '요거프레소건국대점', '식스플로어', '글로리아진스커피여의도점', '카페안다미로', '작은언덕', '카페그림', '카페오가다', '콜드스톤크리머리', '김군COFFEE', '세라비', '커피숍', '연지다방', '커피빈코리아오목교역사거리점', '카페아띠', '앤츠', '주스의신', '커피플레이버', '밀집', '쉼스토리', '카밀라의놀이터', '스미스바니스페셜티커피', '카페집', '비비디바비디부', 'CAFEHERE', '카페베네청담역점', '파니니', 'ROBERTHARRIS', '공상카페', '소소', '커피빈코리아테헤란로하이', '공간만화카페', '아르떼', '커피드아시아', '미스터투고', '까페아모제', '커피안바우', '365씨에이치에이', '모니카', 'VRAVO', '양선생커피집', '우주카페스텔라16', '카페시벳', '모이카롱', '숙커피숍', '도로시인더커피', 'brewercoffee', '육.구', '자연물들이기', '카페그래서', '오투', '카페4925', '엔제이커피', '카페오아시아사회적협동조합포', '설렌다방', '정', '우주라이크커피메드렉스', '스타벅스예술의전당점', '공장', '보나비아티제여의도', '보보커피', '커농커피', '바재커피', '몽샹디저트', '커피앤드향', '공부찻집', '또또', '보나비아티제잠실롯데월드몰점', '에스프레소인', '르살롱바이메종엠오', '르카페', '팔공', '카페시크릿', '커피베이금호래미안하이리버점', '프로메싸강남역점', '디어파인', '모노레일커피', '카페힐', '쥬시빈', '씨애틀즈베스트커피대사관점', 'cafePINKHALL', '케이젤라또톡', '하루카페', '키노키노', '29.5', '커피레오', '카페소금다방', '엔포커피', 'Cofeeniecafe', '리리움커피', '카페호미', '담쟁이북카페', '지팡이아이스크림', '커피프로젝트', '다나인터내셔널', '카페레몬테이블', '롯데제이티비', '트리니티까페', '위너보드게임', '유메미루', '다빈치', '모퉁이', '디자인스토리', '쥬씨삼호가든사거리점', '메이', '하늘다원', '초원', '갤러리83', '카페더브릿지합정점', '스위스워터커피', '계화커피숍', '카페알로', '지브릭커피', '주스식스금천독산로점', '미드나잇카페', '에쏠로지구로2호점', '카페앰핑', '이디야커피신금호역점', '카페어니스티', 'CANDYFLOSS캔디플로스', '카페티라수', 'HIPPO커피', '커피마을', 'COFFEEUS', '모던바이츠', '미스타이거', '스페샬coffee', '레이앤크림', '아티제청담제일점', '예스투탐', 'EXR쉼터', '피닉스', '케이포크', '마이톡스', '백죠다방', '라티커피숍', '카페밀도', '클래식플라워까페', '양지커피', '버블티코리아', '뉴욕핫도그&커피', '메가커피', '코벳블랑', '라라감자탕', '카페드롭탑금천은행나무점', '퍼센트', '디에떼에스프레소', '카페인디블루', '커뮤니티카페', '이화동애', '커피세븐', '달콤커피서래마을점', '타로', '카페달콩', '보다카페', '요거프레소방학2호점', '커피빈코리아논현2015번지점', '카페자리', '산중다원', '보떼가젤라또', '리더스스터디카페', 'GENUSCOFFEE', '카페오도르', '커피빈코리아여의도교보증', '비에이블스터디카페', '꼼작', '오늘도고양이', '한일다방', '청과다방', '동화', '커피다이어리', '테이크아웃커피전문점', '엠아이씨', '까페업', '카라&엘리사', '비스듬히', '카툰공감성신여대점', '은성', '스타벅스삼성교점', '커피8온스', '커피볶는집르카페', '마실ing', '타니아', 'WHATUWANNA', '떼일로사업본부', '카페인사이드', 'Lchfcafe', '페나슈발', '트립티', '카페글래드', '팔로미노', '더벤티', '취영루', '카페두립', '커피바이셉템버', '쥬씨신월이마트점', '에듀라이브러리까페', '쥬스킹', '메가커피우이동점', '카페로이스', '거성카페테리아', '비에뜨반미합정교보점', '베리주스', '커피토아', '카페심플리굿', '커피마켓', '워킹타이틀', '컵', '아름다운커피', '모아', '두나미스커피', '올포유키즈카페', '포레스트카페', '씨엔엔카페이화여대솔베이점', '빈브라더스', 'ISSUE', '아멜라떼', '옷장속커피', '다아는커피', '아미커피', '미초', '배롱나무', '낙성대커피집', '원풀키즈카페', '커피빈순화점', '히포커피', '훈고링고브레드', '베스트빈', '스시오가다', '어라운드썰티', '해피블럭카페신도림점', 'COFFEELABROASTERS', '수다카페', '커피앤라이프', '뜨락', 'JAVACITY', '스타벅스마포트라팰점', '폴바셋상암MBC미디어센터점', '저스트커피로스터스', '카페굴리엘모', '아더카페', 'TURTLELIBRARY', '카페박마담', '그라찌에덕성학생회관점', '카페38애견카페', '굿윌스토어', '작심커피세종대점', 'keep커피', '커피빈코리아여의도순복음교회옆점', '다방구', '카페베리트', '커피엠', '502커피', 'YX2', 'COFFEEBOX', '비늘', '희차코리아', '사랑해디저트', '포르자카페', '유달리', '할리스커피', '카페파이', '카페SN', '빈프로젝트', '뉴욕핫도그앤커피서울마포대흥역점', '라떼아커피', 'Supercoffee', '카페데미', '오렌', '더치앤드립', '빙스퐁', '남문찻집', '누커피기업', '카페루스터', 'MokoCoffee', '카페릴라', '인광로스팅커피', '레트로시티커피로스트', '세라앤커피랩', '레이어드', '선남선녀', '부나빈', '설곡랩커피로스터스', '홀리더카페세나클', '커피빈코리아압구정로데오', '그라데이션커피', '앵글러빈', '고마워요.오늘도', '달팽이', '랑꼬뉴', '선유도커피', '비거커피', '공차화곡역점', '계희커피', '을지로사이', 'EDIYA커피', '머린', '강남면세점커피', '유명다방', '제이씨엑스', '모모커피', '아워홈카페클라시코', '라티노', 'cafeeasthills', '은평뉴타운여성행복북카페', '두들커피로스터리', '오멘사', '카페쿠헨', '카페예담', '스타벅스동묘앞역점동묘앞역점', '태양', '데일리3커피', '커피오터스', '티박스', '카페에', 'NINEoCLOCK', '커피빈코리아압구정로데오점', '디자인60', '리즈다이닝', '신성', 'CAFEEBEN삼성R&D점', '카페단테', 'BlessingHouse', '매머드익스프레스영등포우체국점', '티움카페앤토스트', '카페투', '소극장', '컵투', '뽕커피', '까페마음', '더베스트커피', '분식카페얌얌', '미래안사주카페', '커피를부탁해', 'CAFFESOSPESO', '꿈도미노카페', 'CafeLAVIE', '고구마명가', '파스쿠찌카페', '커피식구', '빽다방월계광운대점', '12H', '배스칸라빈스이대캠퍼스점', '블리스', '커피그리다', '예쉬카페', '카페로니', '카페더단골', '도도세라믹카페', 'J니시', '비즈카페', 'TALESPINNERCO', '프루토선릉점', '에스엠', '커피식탁', 'R&RCoffee', '브라운브레드커피', '블루빈', '책읽는마을북카페', '카페인중독도림점', '트루로맨스', '커피나무서울대입구역점', '본스커피', '빽다방이태원점', '저니', '안드레아', '웰런커피', '별', '커피만외대점', '서울고로케앤커피', 'Murmur', 'THE봄', '바나나토크2', '엔제리너스잠실롯데월드타워1층', '85도씨아띠', '로우커피스텐드', '순수커피', 'coffee34thST.', '폴바셋롯데몰', '스노우스토리송파점', '카페스트리트', '가비애커피테이크아웃공장', '리플라이커피', '카베하네커피공방', '커피베이롯데청량리플라자점', '선유도커피집은마', '투썸플레이스논현역사거리점', '만남다방', '레이지나인', 'NY커피아울렛논현점', '카페작은자리', '구할구', '디자인카페', '어드벤처스튜디오', '카페아라', '누죤떼루와', '지샘', '여름소나무', '모나코', '해바라기', '원웨이', '쥬씨가인초교점', '모두의커피', '카페아이엠티마곡점', '티스', '프렌치앤틱', '치즈카페썬리치', '커피빈코리아올림픽공원', '위미', '중앙커피숍', '카페워너비', '티라레미수비트플렉스왕십리역점', '커피이즈', '달콤커피', '캔디커피문정법조단지점', '커피나무노량진3호점', '아리미디저트', '아고라커피', '더달달', '엘로이', '이디야카페', '플랜씨커피하우스', '카페벤지', '반고흐카페', '라떼밀레', 'ANDO', '비니비니', '카페봉쥬르', '탐앤탐스한성대점', '카페조이', '셀렉토커피마곡점', '원보드게임방', '강남퀴클리', 'TODAH', '브이알존', '이브케어', '권농동커피플레이스', '50/7', 'cafenoll', '맹커피숍', '마노핀카페창동점', '디저트39거여역점', '애드리안윤', '캔모아대학로', '로프트스터디카페', '빌리엔젤신라스테이점', '쥬씨냉천동점', '매머드커피마포', '간단하지만특별한화피디Cafe잇올림픽공원소마점', '레빈커피', '밀랑스', '그라찌에커피', '카페노리터', '뉴욕카페', '쥬씨JUICY', '금호커피숍', '도그원카페', '앤크레마', '남양', '더블루스', '샤넬', '카페몽', '망고식스', '금요일다섯시', '베누스타', '백미당뉴코아', '카페빅컵', '몽크로스', '카페리노', '스무디킹', '티앤티라이프', '죽앤카페', '팬도로시서울여대점', '동네카페고커피', 'SIMPLE', '카페윤', '다향전통찻집', '모드뜨레', '카페오기', '카페아르코', '꽃담길', '와이파이', '미스터퀵다방', '정이네커피상점', '커피만홍대점', 'LENTE', '신세계', '스타벅스올림픽평화의문점', '낙랑파라망원', '소망글로벌베네', '순카페', '스몰카페', '길건너커피', '카린홍대라운지', '워즈', 'MAINS', '슈타인보크', '애플짐주스바', '커피멜로우', '이지카페', '리프커피', '카페있떼', '창문카페', '비온후', '커피스토리', '비피커머스', '쥬씨포스코점', '올림픽', '샤르트르커피', '경계선', '위드유시흥카페', '더컵스', '백포티', '아메리카노', '씨엔엔카페고려대서울캠퍼스', '로코민트', '꽃다락', '깔루아', '레이디해더스룸', '커피라움', '생활커피', 'PAULSCOFFEE', '로씨', '미라쥬양과점', 'J커피', 'CafeP', '챔프커피', '커피여기!', '행복커피', '제이에스앤씨카페죠', '꽃동산까페', '청담웰컴센터', '커피숲', '에이치커피쥬스', '카페로브', '제트오오COFFEE', '카페157', '오까페', '퍼니펑키', '나와나타샤와흰당나귀', '마크툽카페앤펌', '카페프렌즈', '퀴클리', '숙녀미용실카페&펍', '생명나무', '폴바셋캠퍼스타운점', '마론바게트', '지니스', '엑스퍼트마트', '베네코드', '마주보기', '신트라커피', '아트엘', '라움카페', '나뚜루', '카페엠', '스타벅스', '세븐몽키스스위츠캣목동점', '퀸즈', '프티페티', '소유화', '을지', '세라띠에커피공방', '더백설기', '커피넘버2COFFEENo.2', '달팽이카페', '스타벅스청담영동대로점', '유니온커피마켓', '우드우드', '토마토키즈카페', '25카츠', '쥬씨강서고점', '다솔', '물댄동산', '프리지어', '루고', 'COFFEELAMB', '갤러리인카페', '애플블러썸', '아메리칸트레일러', '예당전통찻집', 'RichMango', '언노운커피9', '카페더즌', 'Sarr', '꼬앙드파리', '아울커피', '카페아지트', '할리스에프앤비', 'NEWYORKSUB', '지스토리', '스타벅스신대방삼거리역점', '서정적살롱', '별다방미스리', '커피비에이', '지하철', '블루커피', '스타벅스용산역점', 'BMM카페', '다올', '유한테크노스커피프린스', '동궁다방', '커피는기억의끌림', '삼성웰스토리동국대기숙사', '뚜또오케이고대점', '수노', '잠바주스청량리역사점', '심플커피', '커피몬', '커피볶는집와플에숍', '테르프로미즈', '팔선녀아기보살', '본솔카페', '카페에쏠로지', '엠키친앤카페', '커피보스', '쿼츠브루', 'A-BRAICK', '겨울나그네', '커피파드', '꼼쑨', '디오토스테이션', '그린토마토', '스마일커피숍', '이타', '클래식', 'Viennacoffeehouse', '스타벅스커리학동사거리점', '카페29', '오설록티하우스', '러브컵', '사임당카페', '블링블링커피숍', '투썸플레이스상암E&M점', '카페블레싱', '커피인뉴옥', 'Roi:후아', '엉클샘팬케이크', '버블티킹', '내가좋아하는카페다', '카페302', '르와조브레', '소원나무', '아로이', '365차버블티', '에스프레소6230', '봄봄색동두번째이야기', '할리스커피낙성대역점', '리에또', '카페드비', '원더월커피로스터스', '커피베이장승배기역점', '에이탭', '스타벅스염창역점', '식물학커피로스터스', '벤저민', '도피오', '영앤핀치', '공차국악고점', '베네', '카페블링컵', '쥬씨광장점', 'ENVIE앙비', '퀸즈브라운종로5가점', '커피829', '로얄카페', '마마커피', '커피라', '자리어린이대공원점1층', 'w카페', '휴앤안', '애정다방', '투썸플레이스양재역점', '디저트39강동명일점', '스마트카라더카페', '콜롬비아퍼펙토', '아티제역삼역점', 'UNKNOWN', '카페이퍼스', '나일카페SO', '스타벅스강동역점', '무자커피', '목화다방', '찬찬커피로스터스', '폴바셋롯데영등포점', '컬러미마인카페', '더카페36.5', '보데이셔스', '로찌', '앤커피프랑크', '스타벅스마곡나루역점', '킴스커피', '데일리그라운드', '금성커피숍', '폴바셋구로G밸리몰점', '커피스누퍼즈', '휴온', '카페이월로스터스', '모던팩토리', '쥬씨잠실역지하상가점', '투톤', '브레드피트', '시에스타', '더케익', 'JAZZ', '할리스커피명동2호점', '롯데리아엔제리너스커피', '토끼의지혜', '코렐원두커피', '키즈카페폭스맘', '아로믹스커피시스템', '샌드위치카페', '힐링카페지유', '커피유기농박사', 'BR', '히코코커피', '테라이그니스', '카페마들렌카CAFFEMA', '그린하우스이펙트', '원커피숍', '소마', '커피빈코리아서초우성아', '시스템', '카페potential', '행복떡방&Cafe', '나인어클락커피광운대점', '카페오월', '알지카페', '오페라빈', '오흐뒤구떼', '팔레트서울더커피플러스', '반이홀릭', '사푼사푼', '라루라루', '스타벅스명동미래', '이앤디', '스완카페트', '와플루이', '아씨뜰', '카페알럽라떼', '카페밀리그램', '치킨라떼', '카페줌인', '커피베이강북인수점', 'CafeDudart', '금농', '엠플러스멀티방I', '골목카페', '언클후니스', 'Coffee', '벨로라테', '애플커피호프', '마리웨일', 'CoCoRo', '지구촌카페', '메이커스페이스', '그랜드카페', '코드이스케이프', '애기똥풀카페', '블랙빈스커피', '너나들이', '하와유카페104', '쥬씨서울역점', '카페디엠', '리코리스커피', '시스터커피', '쿠마커피', '핑키즈업', '토즈모임센터', 'Coffeesquare', '에이지커피', '메가커피고대점', '바늘노리', '인도풍좌식카페', '콜레츠', '커피201', '그랑카페', '삼맛호오떡', '카페퓨리티', '고메베이글', '커피나무학교', '까페마조앤새디', '일민미술관', '쥬씨동덕여대점', 'Asthoughlhadwings..', '앨스트릿커피', '쥬씨금천가산점', '엘씨포유', '카페에마미', '멜팅팟', '하니커피', '빨라쪼델쁘레또', '컵앤커피', '에떼616', 'CNN카페세빛섬점', '위', '커피랜드코리아', '스타벅스서초파라곤점', '카페눈', '벨스킨카페', '마인드디저트', '탐앤탐스가재울뉴타운점', '카페리코', '그럼블커피', '빅다방', '하우스커피', '카페아지토', '단카스테', '커피빈코리아이태원점', '베베르커피', '카페굿뉴스', '커피에스페란토', '스윗번스커피', '커피체리빈', '프랑스에다녀온붕어빵강남점', '커피인하우스', '까페꼬모', '오마뎅', 'DogISLAND독도', 'BILLYANGEL', '인터뷰', '루트커피', '나무와인', '본커피', '커피앤베이커리', '예일타운', '소금카페', '카페다독립문점', '드롭탑강남아이파크애비뉴점', '만델링커피코리아', '커피곳', '아이스패키지', '꽃다방', '포샤인', '에그타르트', 'Qulznos', '카페로로', '비비엘프로젝트', 'Cacaoboom', '쭈다방NAIL', '카페레가토', '투썸플레이스차병원사거리', '커피조', '오르앤지드', '엘리스', '무비빈스토리', '카페클라라', 'CAFEIN', '대지커피숍', '쥬씨배명사거리점', '비나원', '카페겸', 'coffeeroasting', '미스퐁듀', '릴리캣고양이카페', '쥬씨신대방삼거리역점', 'HOTDOGCOFFEE', '라이스팩토리', '커피볶는카페수다', '끼룩', '카페이유', '까페베니시모', '보나르떼', '커피그루나루', '보나비아티제잠실타워730점', '봉봉트리대학로점', '카페동동', '펠리스', '카작', 'BANANATALK', '스마트브릭키즈카페', '마이쥬스', 'MONCAFEGREGORY', '알에이치카페', '생생과일', '라부에노', '더나더나', '더퍼스트무브먼트', '카페라루라루', '약속커피숍', '세렝게티', 'DUTCH&COMPANY', '사르르녹다', '스타럭스', '삼형다방', '커피볶는집COFFEEIT수', '커피앤티', '비니치', '싱글오커피', '더플롯커피', '컴바이', '행복플러스가게', '카페시카고', '모두다가치카페', '카페와플대학명일캠퍼스', '글로벌라운지커피점', '카미에커피', 'CAFEBOBO', '엠즈씨드폴바셋', '행운로또복권판매점', '이츠굿베이커리카페', '코나빈스신월동점', '신길헤븐카페', '로미오와줄리엣', '애드커피', '카페안', '뮤지컬카페', '다온', '위고에빅토르', '보나비아티제신용산역점', '할리스커피홍대역점', '마노커피숍', '카페안뜰', 'Anne', '빽다방이대정문점', '정지애', '디피엔커피', '카페첼시', '호박이좋은카페', '해리스커피', '쥬씨하계점', '놀숲노원역점', '달씨', '스카이', 'G-CAFE', '와리터경희대점', '커피라인', '하나빈', '카페보니또압구정점', '카사레쵸', '토프레소대림점', '폴리카페앤티', '커피빈코리아한티역디마크빌딩점', '진', '오렌지블러썸', '까페뷰', '좋아요카페', '스타벅스고대프라자점', '브리진', 'AfterCoffee', 'BLOOM', '서룡씨앤케이코와핀청량리', '제노까페', 'CJ푸드빌투썸플레이스퀘', '카페치노', '투썸플레이스삼성', '페이지그린', '펀비어킹송파구청점', '이디야당산', '음악다방', '카페라온꿈', '커피볶는고양이커피', '우자매', '언커먼그라운드커피카페', '별까페', '브로커피앤쥬스', '테이큰', '손스커피', '엔터하트카페', '카페늘봄', '에쎈', '모노레일에스프레소', '더퍼치', '카페제제', '라루', '마노핀수서역점', '더블유카페송파점', '서울대학교자하연카페', '황다방', '맨케이브커피', '소공까페', '파르코카페', '쎄븐스퀘어', '경동커피숍', '아트센터나비미술관', '더플라잉팬레드', '알프레도커피엔와인', '커피력', '한아름커피숍', '커피앤드힐', '할리스애프앤비', '밥스타', '커피인더카툰', 'J빌딩J카페', '카페595', '카페매화', '포비아명동', '베네피트', '제이독', '엔제리너스둔촌D/i', '레떼', '카페쏭', '량원카페', '데미타스커피상암DMC점', '월촌', '하드록카페', '튤립코리아', 'BM카페', '오보코갤러리카페', '블라블라', '길동무버즈', '커피지아카페', '로티', '반지만들기카페커반', '모모웨이', '오리엔탈구내', '티라레미수과학기술대학교점', '커피로드', '명동고로케32그램', '드렁큰독', '커피빈코리아세종문화회', '17그램', '아리스타커피역삼2호점', '두더지손', '별다방미스리시즌2', '스타벅스상암디지털큐브점상암디지털큐브점', '디자이너스라운지', '물놀이까페', '로이스', '굿에스프레소', '커피니역삼점', '스페셜티커피', '주스라이프', '카페비', 'CaffeAttico', '카페베네금호점', '양지다방', '자유시간', '민티', '더스키&커피', '파파오가닉', '투썸플레이스가재울뉴타운점', '라떼떼성대시장점', '까페로움', '풍전에프엔비', '차오름와이에스', '저스트블루', '구카페선릉1호점', '대박TEA', '커피나무신상도점', '소운빔', '버즈', '서아이디야', '아리스타커피숍', '홍스파이', '커피시크릿', '카페베네치아', '신세계푸드', 'TERAROSA', '카페스트라다', '커핀그루나루신천점', '쥬시', '안녕강아지와고양이', '이찌고', '올프리마카페', '아쁘레', '커피나무길동점', '카페더롤', '루이루스교보문고', '고마켓', '오밀', '아피커피', '젤라또랩', '300420', '해방촌카페으흐흐', '위치커피', '몬스타커피클럽', '디초콜렛커피앤드', '리스카페엔엔', '커피91스토리', '카페라인', '할리스커피발산역점', '소울36.6', '닻별', '포비', '메이제이카페', 'CoffeeGongBang', '이엔갤러리', '미니스카페', '투썸플레이스커피', '오하이오커피', '카페나무/중곡제일시장아리청정협동조합', '몰입', '스타벅스상봉역점', '로드앤커피2.5', '번앤펀', '북카페산책연남점', '귀천', 'Cf', '씨나본', '리코커피', '대치본쌍화탕', '차중의차', '커피랑도서관', '남산스퀘어약국', '가배장이', '커피나무향기', '킹커피', '커피101스트릿', '썸주스', '모뉴먼트', '보스코쿠치나', '원더풀데이', '해바라기카페', '카페일치프리아니', '미스터블랙', '에프이26', '까페3.14', '커피복음', '카페루루', 'DESSERT39', '마시그래이', '커피점본본', '빌라드깜빠뉴', 'H본부', '로스팅데이신도림점', '전통찻집인사동', '랩정다방프로잭트', '썬', '베브릿지중앙대점', '에프엑스커피', '주커피개포점', '서울대학교병원휴게실', '스타벅스강남에비뉴점', '코피발리', '런닝독애견카페', '엔제리너스서울스카이', '더팥', 'CAFEHWARIM', '카페라브리', '다인', '마심', '시티오브에스프레소', '커피볶는집', '빈둥백수네빙수', '추억의7080&다방', '커피타임', '란미은', '다다', '루노커피코어', '카페땡스', '커피프롬', '놀숲강남대성학원점', '카페세이버본점', '북바위쉼터', '비엔비엔', '마리아테라스', '토리돌코리아라나이카페', 'FRUITSPOP', '강동꿈드래마켓', '카페카와', '신바람LIVE카페', '테오의1.5층', '메리어트카페', '한앤둘', '경복궁박광일갤러리카페', '라벨라양재하이브랜드', '행복한하루의커피', '스타벅스경복궁역', '이디야신사역', '투썸플레이스구로디지털단지역점', '카페설기', '홍어와탁주', '커피빈코리아고대안암역', '카베하네', '컴포스커피수서점', '머스핀', '주젤리', '미도다방', '온오프', '홈스테드커피', '성명다방', '고려대학교교육관로즈버드커피전문점', '서서카페', '빙하라떼', '마이도시국민전산', '파스쿠찌신촌연세대점', '오베리굿', '청구성심병원점', '스카이카페', '오프로앤커피', '커피어게인', '빽다방강남스시마이우점', '프랑켄모노카페FRANKENMONOCAFE', '9카페구로점', '더크림', '오엠', '지앤지카페', '바치오커피', '테이크온미', 'BARISTA', 'CAFEGEN123', '엔제리너스삼성백암아트홀점', '미어켓파크', '블라썸', '카페토니', '커피홀송파석촌점', '사조직판장', '최고야커피랩', '로바토', '카페르뺑', '리얼에스프레소', '카페난난', '동네커피', '구스띠모', '잭카페', '라포르뜨', '그레이', '카페더SOL', '모노치즈여의도아일렉스점', '비툰', '터치까페', '뿌리온더플레이트', '카리부', '아름다운사람들의공간', '앤드', '투썸플레이스쌍문역', 'florowsandcafe', '아벨라', '하이제씨', '반지카페8그램', '파란상자', '어거스트준', '스타벅스남산스테이트', '커피마마성내점', '멀티까페커스', '솔채카페', '일루전이스케이프', '아로하', '노벨티', '카페엘리홍대점', '북촌그길로그길에', '모노치즈카폐', '빠삐에', '카페900', '카페리빈', '힐링차이', '까페모임', '페이브', '커피빈코리아천호현대백화점옆', '이디야커피경희대점', '카페레', '토프레소역삼점', '라임', '투캅스', 'coffeeFill', '정다방', '그라노반디', '진솔커피코리아', '카툰바이커피', '제시카', '띵똥와플', '설빙강남역점', '올리비아커피', '세컨드홈', '아티제서초우성점', '장미', '카페인시애틀구산점', '에스비', '카페예스플러스', '52랩', '카페에프티', 'CaffeLaterre', '느릿느릿', '만화카페통툰', '쁘띠하우스', '연', '핵커피', '광장커피', '니즈유', '엘빈커피', '잠원커피', '카페시트러스페이퍼', '영화카페', '네모', '문래동의커피향기', '아모레', '에이쓰리아카이브', '렛잇고', '스타벅스청량리역점', '찬차마요커피', '커피3타임즈', '위메이크커피', '스타벅스올림픽공원북문점', '알뤼르', '스타벅스삼선교점', '커피플레이트바이베로키오', '큐커피향', '카페오카', '스테이지28카페', '올스톤커피하우스', '더루', '한마음커피숍', '투썸대륭18차', '카페팰리스', '프레쉬샵팔레트', '깡통속별별이야기', '데이트카페', '오가다', '신세계푸드성신여대까페에델리아', '백만잔의차', '만랩커피마곡LG사이언', '콘서트마루홀', '카페글렌천왕역점', '로뎀나무까페', '콩볶는고양이똥', '단델리온', '카페브레아', '파티시에', '경향다방', '개성평통보쌈', '카페281', '카페보카', 'CAFFE모꼬', '카페코드', '카페베네화곡중앙점', '더블유더블유더블유', '효선당', '웻커피', '이디야커피일원동점', '신세계커피숍', '아마스빈버블티잠실장미상가점', '다문화벨트큰집살림', '바람과나무', '찰리스카페삼성점', '커피앤드', 'honeycomb로스터리카페', '새우개카페', '달콤퐁당', '파이브플로어', '스테이보드게임카페', '볶은콩에피는꽃카페모카', '커피하이컵', '방배동커피볶는집一梨', '찬스브로스', '망개떡', '카페오가다롯데월드몰', '더커피팰리스', '카페라', '늘봄카페', '비-사이드', '디저트카페A음암점', '레몽즈', 'DUTCH&BEAN', '카페레네', 'TovCoffee', '폴바셋커피', '예일커피.호프', '로이스홈카페', '아이엔유카페사랑', '미루카페', '별콩다방', '커피마켓어스', '에세스커피', '커피에반하다월곡역점', '미스터디저트', '카페컴온', '톨릭스', 'coffeeplanet', '카마르kamar', '프렌드커피숍', '물커피', '트윈커피', '팔칠', '맥켄지커피', '휴', '핸드드립리얼커피', '아이엠바리스타', '리부트CTC', '미스터커피로스터리', '소망풍경', '중심', '새임새임', '라이프커피숍', '빈스빈스', '공감커피전문점', 'eemobile', '공차명일역점', '카페달다', '팔공티상암점', '멜슨하우스', '토프레소구로구청점', '스타벅스사당로데오점', '언노운커피17', '민스슬라임', 'JUICY내방역', '카페바리스타케이에피소드2', '스터디카페애플트리', '타이거에스프레소', '마운틴뷰', '카페스타', '카페봉봉', '펄', '파비욘드갤러리카페', '마실카페', '파리크라상파스쿠찌홍', '수커피', '긱커피', '다온커피', '단순', '욜로케이크', '선길', '이앤지커피카리부이대', '에프씨서울팬카페', '공부차', '로고스카페', '가무', '굿데이커피', '고웨스트', '슈르르까', '오스코네', '커피빈코리아MBC경영센터', 'COMPLETE6.8', '일리카페지엔코점', '커피드러그', '푸드카페보메', '봉트랩', '코나커피', '카페산다', '아티제강남점', '비사이드', '파인트리커피', '봄카페', '카페모나티', '티시스식음본부', '테일팟', '이즈번', '화음', '탐앤탐스안국역점', '커피빈코리아수유역점', '도깨비커피', '바꿈카페', '초대', '맥심플랜트', '모코커피', '커피콩깍지', '예설스페이스카페', '크라우드커피', '투썸플레이스동서울터미널', '에스프레소코코', '카페트윈즈', '북카페공간', '이따르뜨사당점', '사주카페갤러리', 'WETRUSTCOFFEE', '트립커피', '쥬씨강동역점', '더치공방휴', '카페폰스', '커피빈코리아현대자동차강남오토스퀘어점', '커피헌터', '라이프커피컴퍼니', '나무카페NAMUCAFE', '정커피2', '유니콘팩토리', '핵커피이대엘', '엠엠티에이치006', '콩밭커피로스터', '모짜르트', '해밀', '까페', '연필1/3', '카페그루', '은성커피숍', '티라레미수성수에스팩토리점', '커피아나벨', '헤이마커피로스터스', '샐프레소', '코코호도왕십리뉴타운점', '카페오스', '베이크샵701', '바오밥', '제일', '갤러리판', '헐리우드연세대점', '카페조', '카페다카포', '쥬빌리', '상아탑', '비알코리아베스킨라빈스', '스무디킹코리아', '멍멍이다방', '철도공익복지재단', '안단단맛', '비오는가을아침', 'CAFE봄날', '드링크펀펀크레페', '까페디아떼상계역점', '알토베네', '투썸플레이스사가정역', '테이스티커피', '백다방', '노란손수건', '상상아트홀카페', '카페쎄리오', '샌드위치&커피', '클류치', \"엄's김밥카페\", '어메리칸에스프레소', '쑤앤쑤', '웨일즈커피', '붉은산다화', 'SNOWFOX', '펙그로서리,커피', '마이시크릿메이트', '스위트번스', 'CARIBOUCOFFEE', '커피코트공덕롯데캐슬', '투핸즈커피엔타스', '5월5일', '스터디카페위드유오륜', '실버카페', '스타벅스구로하이엔드점', '커피마글', '할리스도심공항점2', '이노패밀리', 'seevary', '투썸플레이스선정릉역', '면화빙', '버블유', '커피퐁당', '보문', '퀵클리', '성북동연우재', 'Jelly', '까페하늘빛', '카페여유', '세컨클락', '빌리엔젤강남', '씨케이코앤루소랩', '토아빈커피', '카페트S.N', '링고요고', '하나미즈키', '솔트카페', '카페2001', '할리스커피마곡퀸즈파크나인점', '카페레니', '로터리다방', '세븐몽키스', '가배연', '명커피', '노닥거리', '닐스', '히루요루', '매머드커피본사', '카페앙코르', '이스턴', '오뚜기상조회오뚜기센터점', '카페믹스앤베이크', '커피.3', 'COFFEELAB', '커피카파', '무드포커피', '커피메이킹', '이디야커피문정현대시티몰점', '로지핀치', '더치레이디', '카페시율', '꽃을바치는시간', '매머드커피강남대로점', '커피0503', '슈퍼리치', '카페글렌공덕점', '어바웃커피', '페나비', '띵크커피', '와플반트신총현대점', '아티온', '캐리마켓가로수길지점', '달콤한홍콩', '카페두드림', '티모시스코리아', '말로야', '반지만들기홍대1호점', '제임스베리', 'LAK25', '빈스&멍', '연남동239-20cafe', '일바리스타', '갤러리아토아트', '앤트러사이트', '금충초', '에스프레소비비안', '아프리카커피', '북카페타셴', '스톤커피', 'IMTEA', '카페이즈보르', '수힐링센터', '할리스커피회현SK리더스뷰', '카페아래', '커피와생과일주스', '다반', '얼스어스', '콘레드커피영등포', '갤러리안길', '맥널티커피팩토리', '바랑커피', '블랙홀', '스칸디나', '센트코리아띠아모한양대HK점', '파코', '송진평커피', 'siscoffee', '해브커피', '미카페토코리아', 'Dogcafebulldozer', '요거트맨', '케이375', '떼루와본사', '홀릭', '오늘커피', '카페드콜롬비아', '코나코모', '토즈비즈니스센터홍대점', '가든', '카페연', '벌스가든', '플문', '스타벅스구로에이스트윈타워1점', '피디가커피를내리는이유', '와플플러스', '파스쿠찌동대문APM점', '세가프레도', 'COFFEE', 'ZZYZX', '병만이생코코넛', '단미커피', '유티비커피', '더리터영등포점', '쥬씨구일역점', 'COFFEEDAYS&와-뻑', '칸커피', '밀크홀1937', '앤드류스에그타르트앤커피', '더하다커피칵데일학원', '코스믹라떼', '카페0691', '세븐브릭스', '카페누', '카페롯지201', 'cafe멍', '아워홈디카페', '쉬라이크스커피', '탐앤탐스신도림테크노마트', '아름다운카페', '호박', '카페메사키', '스타벅스구산역점', '동강에프앤비엔제리너커', '레이니어', '투썸플레이스송파CGV점', '엘림스토리', '산다미아노', '리얼빈', '소셜테이블', '빈스앤베리즈', '곰브라더스용산아이파크몰점', '일리카페', '커피와문화', '카페르메이에르', '디노월드', '커피스토어네모', '커피뿅', '공짜바', '투썸플레이스광장힐스테이스점', '청운동콩집', '카페더램프', '커피메이드', '까페라운지', '이디야커피김안과점', 'dollacorte', '클라우드나인', '터미널다방', '쥬씨왕십리역점', '파크279', '카페슈바빙', '카페글렌발산점', '퍼니플러스멀티방', '커피베이행당점', '카페베이루트', '꿈꾸는씨앗', '스타벅스커피가산브이타워', '커피코드', '홍지문카페', 'moonji', '블루오파스타카페', '모데나커피', '씨루씨1', '카페바니1995', '까마르도', '커피그래피티연남', '카페퍼슨비', '데어카페', '바른커피', '콩설기카페', '체리브라운', '투썸플레이스왕십리역', '와일드커피', '스타벅스마포이마트점', '카페드미욜', '파스쿠찌', '카페시소', '앤레커피', '북카페초록', '커피역', '하늘유리', '연극보다가만화', '가고시포', '대무', '첨밀', 'coffeebread', '도노커피푸른수목원점', '탐앤탐스탐스커버리아셈타', '레스카페비앤케이', '작은커피숍', '키웨스트커피', '샵일사오', '해나헬시카페', 'CAFEMIN', '송파나루빈스토리', 'SDS커피&', '커피볶는집바오밥나무', '만화카페벌툰', '매직샵', '카페피노사', '카페르뮤즈', '쥬씨덕성여대점', '영화커피숍', '올인커피', '바디쉐프시그니쳐점', '즐거운찻집', '진커피숍', '무로', '놀숲강남역점', '남양유업', '아르케', '유성커피숍', '르포즈한남점', '레이크라떼', '포스유', '써니데이커피', '295st', '이씨엠디천재교육R&D', '르브레드랩건대커먼그라운드점', '내마음속의미니벨로', 'SUBMEDIA9너스커피', '89헤르츠', '스타벅스신림점', '자오나카페엘브로떼', '카페안녕', '뷰코', '쉐어티', '황생가', '오리진키친과일카페', '파크카페', '헤비로테이트', '커피에반하다신림역점신림역점', 'CF커피숍', '빈투스커피', '토즈신촌15센터', '티나모우', '커피하우스비', '폴링인스노우', '로렌스테이블', 'PROJECT℃', '스타벅스커피여의도IFC1F', '대만며느리', '까페에소르', '커피점빵', '스타벅스을지로센타', '힐링카페멘토', '보그너커피상도동점', '또아', '감성커피', 'cafethemuzzz', '마이크로', 'JULENG', '물바람이야기', '지니어스커피', '더파빌리온', '카페헐리우드', '쥬씨88', '네츄럴웨이브카페', '쥬씨방이시장점', '쿵짝쿵짝공작소', '올웨이즈온', '맥다방', '카페유어스', '아티제중앙일보점', '갤러시앤카페ONUE', '토프레소신논현점', '백다방커피', '커피주네', '카페그랜드볼룸', '커피알렉스', '토기장이집', '세인트빈', '만쥬앤커피', '카카오독애견카페', '알라딘중고서점커피합정점', '아트인커피', '만화카페산장', '컨테인커피', '빌리', '아로마리즈허브티하우스', '토프레소양평동사거리점', '만화카페콩툰', 'FineThankyou', '카페바이한성', '와플마녀', 'CAFENO37', '노아스', '투썸플레이스상도해링턴플레이스', '위넌스터디카페', '퓨로주스', '카페두두', '토마토커피숍', '까페이튼', '스위츠켓', '541CAFE', '헬카페', '웨잇어미닛', '씨즈캔디', '해커피아', 'misreum', '커피앤스위트', '카페큐브', '클라소피', '엠케이이디야마곡나루역점', '파시당', '스타벅스오목교역점', '커피코트마곡사이언', '워너커피구로', '빈스빈스커피이대점', '태재커피', '슬로우잼', '사이카페', '디어브레드', '커핀그루나루성동문화원점', '날쌘카페', '성호', '필름37.2카페', '샌드앤커피', '캔카페', '아이엠카페', 'BHF&B', '답십리커피숍', '차타임', '서울특별시다방구', '카페카리스&베이비카페', 'Coffeeis...커피이즈', '롯데칠성음료', '언더그라운드커피웍스', '알커피', '이즈', '브라운하우스커피', '카페화실', '스타캐슬카페아띠', '토프레스', '아브릴커피', '스타벅스가든파이브', '더나눔커피', '블랙PC카페', '놀술', '달달하늬', '수사주까페', '스타벅스커피홍대역', '카페글렌은평뉴타운', '커피그레이드', '오프로드커피', 'CafeLAOU카페라오', '해피하리', 'GRANGERIE', '전통찻집들꽃', '시애이', '더플라잉팬블루', '카페비쎄븐', '로뎀카페', '집커피', '푸어스테디인뉴욕', '까페uuup', '치즈빵야', '소통과공감센터', '보성테크', '커피인', '카페쉘', '이디야커피신도림테크노마트', '별1호점용기', '그린마일커피', 'CNNBIZ', '유투', 'THANKYOUCOFFEE', '그라찌에경기대학생회관점', '빽다방한양대점', '카페엔드', '지임커피', '플라시보', '스위트커피', '스윗스트로우', '명동커피숍', 'TaimDish', '카페누라', '쥬씨신풍역점', '에스씨에프엔비이수역DI', '티앤톡', '커피나라', '커피이슈', '리필&빈', '욜로욜리', '키스', 'Coffee&Bakery', '쿠카쿠', '젬블리스', '카페베네서남병원점', '카푸치노카페', '휘드까페', '스타벅스월드컵경기장점', '마리웨일마카롱수유점', '커피빈남부터미널점', '카페핑크데이지', '커피더캠프KBS스포츠월드컵', '따스한차한잔', '슈가연', '무지개', '카페디어빈', '라라브레드', '카페베이', 'TAETEA대익보이차', '고전갤러리옥션', '카페로뎀바이예다움', '디초콜릿커피앤드고대중앙광장점', '스타커피', '탐앤탐스난곡사거리점', 'STARBUCKSCOFFEE', '소담떡방', '커피알라', '카페윤언니네', 'HUTCH', 'chosecoffee', '커피난다', '더카페서울숲SKV1점', '오래된미래', '팬도로시세종대학교행복기숙사점', '더욱커피', '오롯이정성', '배스킨라빈스청량리역사점', '투썸플레이스용산트윈시티점', '이디야커피창신중앙점', '망원마중', '커피빈문래동점', '열린사회엉클호', '워너빈', '카페좋은공간', '카페원룸', '파이빌카페', '플라워카페', '카페12PM', '더칼라', '더맘', '대학로와플', '삼무곡', '더카페밀알아트센터점', '커피빈코리아고대참살이길점', '홍콩반점&빽다방', '라쿤카페꾸꾸네', 'EAT', '커피더소울', '샐리스타임', 'TOMAMOMS커피', '이디아역삼시장점', 'ONESUGARDAY', '그리다', '위너스커피', '투엑스커피숍', '수카페&쿠킹스튜디오', '보나비아티제뱅뱅사거리점', '카페꽃피는집', '아마스빈코리아목동파리공원점', '카페구름', '티가렛올림픽공원점', 'Cafe문달', '이츠이매지컬', '거북이벗', '아티제상암드림타워점', '더카페역삼이마트점', 'DEEPCOFFEE', '파스구찌', 'OvenDays', '한양대그라찌에', '커피홍', '카페더라몽떼', '스타벅스뱅뱅사거리점', '경문', 'deldoge', '토즈아트레온점', '현미마을', '트레블카페', '마운틴에프엔드비', '지아이카페', '쥬씨전농사거리점', '카페레인', '신림곰미커피', '커피현상소', '카페빙빙빙', '쉴만한물가', '마카다', '카페서울숲', '아소프로아Ⅰ', '여의도KBS오가다', '카페네스카페베스트웨스턴호텔', '구다시십', '발음북카페', '엘팔알레이터', '투썸플레이즈', '커피네언니', '김화자카페', '청마루', '선다방', '커피에반젤린', '이디아커피역점', '더오색', '더마실', '두근두근쿠키야', '위드아티스트앤컴퍼니', '커피앤바닐라', '아리스타커피다동점', '바네스플라워', '카페케로', 'KIUM#', '파이하우스', '골드버튼커피', '이브다방', '달콤한일상', '카페아이엠티금천시흥점', '아라코스타에스프레소', '석커피숍', '동그라미놀이터', '석굴암다방', '파라다이스블루', '컴포즈커피마포점', '말리커피', '라바짜블루코리아', '비카페비비디바비디부', 'TOM&TOMS', '폴바셋롯데마트', '한꼬집', '나에게주는달콤한시간', '여름커피로스터즈', '빈티지팩토리', '이룸푸드시스템', '목카페', '영사미', '상파울로', '2Z커피', '사라의정원', 'K.SCAFE', '민물다방', '사당커피s', '우리동네분식카페', '퍼블리카', '엔타스카페테리아', '캐스카페', '카페제네', '역삼커피로스터스', '카페씨내', '다쓰커피', '21C&CLUNCHGIFT', '스타벅스신압구정점', '커피&', '다래사우나내매점', '장수커피', '카페칼디', 'cafe.달보드레', '롯데리아엔제리너스커피잠실롯데월드타워B1', '클럽바리스타', '라붐카페', 'BrownBag', '카페:인', '더불어숲', '메이듀', '미쓰리손다방', 'ELLE커피숍', '호우', 'THEMEKA', '셜록홈즈강남점', '샬레', '카페티모르', '정글커피로스터', '손탁커피YG점', '카페1993', '프리즈커피', '커피베이경복궁역점', 'glt젤라또', '카페테지움', '윌리스바', '땡스커피', '기념일프로젝트', '발리', '친절한현석씨네', '손탁커피공방', '이화동', '원두커피', '바리스타마르코악쓰는하마', '미미커피', 'EDIYACOFFEESHOP', '나무플라워카페', 'CNNCAFE한양대역점', '야노아', '라일락', '루나루즈', '우면동다방', 'CoffeeBreak공간', '호감카페', '어플렌티오브', '카페바우하우스', '우이동커피가게', '소소커피', '커피비상구', '네오베네하우스', '카페파스쿠치', '씨키스커피', '닥터로빈', '공릉다방', '바랑커피숍', '봉봉다방', '고디바광화문점', '아임유', '프랑지파니플라워아뜰리에', '커피동행', '스탠딩커피5', '엔젤리스', '다희연가', '파리커피숍', '슈퍼커피', '카페데일리에디션', '탐앤탐스매점', '3샘파트너스', '타임TIME', '커피향이좋아서', '버자야에이치알카페코리아', '세븐브릭스커피교대', '킹스커피', '카페블리스', '아티제동부이촌점', '브이커피', 'STABLE', '이레커피', 'coffeemadame', '미스터아메리카노', '스무디킹키자니아', '올어바웃미', '학술정보관카페', '카페디디다', '카페폰타나', '커피볶는김여사', '커피마마양재우리집점', 'cafemani', '비트포비아', '우주라이크합정역점', '까페에스피', '이디야커피망우점', '눈', '두손', '반미팩토리', '206COFFEE', '맥썸커피', '카페씨에스', '보고타', '요거프레소길음뉴타운점', '오곰커피', '커피베이구로디지털점', '라일', '프린세스', '커피향머무는빈스토리', '카페두', '알뮤트1917', '카페플레이버', '바니빈스커피숍', '카오COFFEE', 'paulbassett', '베이지', '다향만당', '카페드메이', '쿠벅', 'SWEETBean', '울디', '서울에서첫번째로잘하는한방찻집문래점', '스베아', '깜빡깜바', '커먼유즈', '리스펙트커피랩', '프레세르커피로스터스', '현다방', '렉탱글618커피', '라퀴송', '카페러블리', '코이노니아', '카페톡톡', '미스터브리즈커피강서구청점', '브루다숙명여대', '빽다방반포고투몰2호점', '소스페소', '동부다방', '베이', '롤앤브래드리퀴드', '란스', '엔조이', 'Iambarista', '카페프리아스', 'cafePERA', '카페쉐이드트리', '핸디엄', '카페프리다', '모리나', '빽다방중앙대병원점', '아름다운차갤러리', '엔제리너스커피롯데시네마', '탐앤탐스아카데미', '프렌즈', '알틴', '메머드커피', '아이스베리', 'test', '카페홈즈', '토프레소까치산점', '에이블', '곱창카페', '곰미커피', '방콕카페', '카페자우', '나루213', '커피마마망원우리집점', 'e-그린PC&푸드카페', '디케이커피앤로스터리', '모모의간식', '탐앤탐스', '데일리카페', '크레센도', '파파스토리키즈카페', '아마스빈구로점', '쥬쥬바', '카페순이', 'SGH한방차보감', '에벤에이치할리스', '툴스커피', '커피볶는파티쉐', '카페쿠모', '현커피', '바리스타마르코로프트', '카페DHMC', '오리엔탈스푼', 'LILT', '투썸플레이스포스코사거리점', '계동13', '공차경찰병원역점', '그라놀로지여의도IFC점', '삼청동에그롤', '해빛', '마크앤프랭크', '탐앤탐스강남관광센터점', '엑스골프카페테리아', '놀숲사당역점', '카페자작나무', '데쏘', '베네토', '까페스텔라', '라파미', '하룻고양이', '빈플라워', '제퍼빈스', '카페보테가', '카페7그람', '청자다방', '몰리바', '리나앤세실', '마을과마디', '파스쿠치커피숍', '드레스카페', '할리스', '카페데플뢰르방이본점', '엔제리너스커피롯데시네마강동', '카페네꼬', '스타벅스홍대갤러리점', '브라운핸즈도곡점', '스타벅스공릉역점', '아로하아이스앤커피', '더브라운네스카페', '커피캣츠웰', '밀희', '소월길커피', '일오공', '카페아드리아', 'coffee&kitchen', '광화문커피', '카페파시오네', '미스터패니신세계영등포점', '카페달썸', '빵굽는카페케이', '후니드서울치대병원카페', '쥬씨도깨비', '정원의온도', 'CAFECHACHALAMO', '라온커피인터내셔날', '닉', '제이앤와이카페', '카페벨라노이', '카페더케익', '마랭고', '배스킨라빈스동대문홈플러스', 'Mrbkcoffee', '해사랑', '카페아프리카', '비마이까페', '앤드하리', '잉글블럭&카페', '더불여', '더진스커피', '스타벅스송파구청점', '쥬스드', '츄이팩토리', '카페커피상상', 'TOBIAH', '더플레이스', '더블류피', '티파니', '어지', '엠엠티에이치062', '라페스타', '예건', '애니', '커피트레인', '아이프', '세가프레도목동SMT점', '향수', '메가커피서울대입구점', '라테라세', 'Evergreen', '키노빈스', '카페예지', '힐링앤카페', '떼루와떼루와답십리점', '바네스', '조이커피', '카페포즈', 'CNNCafe서울대', '카페페비어리', '카페브이', '신세계푸드넥슨아펙스타워', '커피코트가산그레이트밸리점', '인생이야기', '명보다방', '카페아트', '카페아모렘', '음미커피', '라떼곰', '칸타타', '현대그린푸드현대글로비스카페', '커피린', '라팡', '이지웨이', '엠엠티에이치005', '아망떼커피점', '귀빈', '쁘띠렌', '소피아', '카페모니에', '카페체인지', 'GOOTAO', '컴포즈', '놀숲신림역점', '로뎀나무아래서', '카페두루', '종점', '카페르퓌제', '오혜', '카페베네숭의여대점', '타임커피', '피아이지에이', '대학로흑백다방CAFE', '카페벤티', '투썸플레이스상암씨지브이', '미쓰리별다방', '오손도손', '이상한커피', '카페로비', '크럼브', '커피빈코리아삼성오크우드', '미미당', '아이에게디디피', '레몬카페', '파스텔드나따', '커피엠비에이아카데미학원', '꽃다방미스김&마리왕+', '카페디오믈렛', '프리퍼커피', '프로포즈', 'Cafe-In', '데니스커피남강점', '바그다드카페', '드롭탑서여의도점', '메이크업베네', '소담한풍경', '마조앤새디', '오피스알파', '핸즈업', '커피프렌즈', '헬로빈스', '조각커피', '지져스커피', '엘씨엘로', '빈스로드', '유어플래닛', '커피양탕국', '할리스커피장승배기역점', '앨리', '이디아신방화중앙점', '라콤커피', 'CAFE4가13번지', '디저트39서초법원점', '쥬씨노량진점', '라끌레도르', '띠아모', '카페모스트', '카페이드라', '커피엔드붕붕', 'Theoddcat', '투썸플레이스국립중앙박물관1호점', '잇.', '블럭하우스', 'SOODA', '에피소드', '플레이도키즈라운지', '소호', '메일라드커피랩', '뉴욕핫도그앤커피안암', '에싸임', '문립커피', '쎄리오', '유수커피숍', '까페모닝', '카페COMETE', '빽다방', '투데이커피클럽', '코이스터디카페', '라떼야커피', '킴메이드', '커피와츄러스', '유달리아', '인타임카페', '까페이탈리아북서울미술관점', '할리스에프앤비할리스커피학원', '지니는이쁘다', '탐앤탐스1호', '동신다방', '할리스커피교통회관', '휘도르', '1988coffee종로점', '대하', '텀브커피강동성심병원점', '후니커피', '신세계푸드넥슨아이타워', '카페라네', '그리다꿈미술', '스타벅스길동사거리점', '블루미시티', 'MUNCHBEANS', '티몬스', '삼삼한청춘', '스타벅스소공로북창점', '메인즈MAINS', '크러쉬온유', '쿠조코커피', '사회적협동조합동방', '쥬씨역삼상록회관점', '더로비', 'SOFT425', '카페구디', '원츄', '카페드람브르', '남양유업백미당천호점', '24h스터디모임카페', '쥬스식스구로디지털점', '메모리스', '롤리팝신림점', '고려대학교교육관쎄리오점', '더담쟁이', 'CAFEPAUSE', '르카페효온켐', '다시스31호점', '스타벅스송파사거리점', '향기있는카페', '비스토핑Bistopping', '간단하지만특별한화피디Cafe안젤로여의도성모점', '루츠커피로스터스', '커피빈코리아구로디지털단지점', '난플라워카페', '카페베네등촌역점', '팔이커피', '카페가또CAFEGATTO', '데미타스', 'TOMNTOMSCOFFEE', '3POP', 'BOSSCOFFEE', '701호', '애드립', 'espelle', '달콤한나의커피', '토브서브', '더착한커피남부터미널점', '레어로우', '레스빠스', '에이프릴.05', '쥬씨명보사거리점', '오~방가', 'OVENDAY&CAFE', '더컵스토리', '소적두압구정본가', '까페뉴', '붐커피', '카페엔유', '강남다방', '파트원나이스', '매일이기념일', '카페디비베스일리', '함께커피팜투컵응암', '놀이터커피', '빈터커피로스터스', '빵사부식빵공장', '꼬마빌리지', '파운드로컬', 'STREETCOFFEE', '비틀쥬스', '더파이홀', 'EPT커피', '초이에스프레소', '커피마시는인형', '세번걸이카페', '투썸서초비씨카드사옥', '카페하얀', '플라', '퓨로쥬스', '빌리지온', '커피홀', '카페다인', '그린커피호프', '퓨전2', '준', '비커피', '쏘나이스커피', '일젤라또', '고양이카페', '책다방위숨', '더블에프앤시', '비베이글', '마카롱스퀘어', '아티젠', '스타벅스잠실대교남단점', '스타벅스광화문역점', '카페보니또', '영화에빠진커피', '고촌카페', '콜드브루만영등포점', '분나', '아인', '카페빈', '루이14세', '그룬트커피', '커피베이종암점', '에이림', '아라마크제중관카페베네', '용궁', '케사미고', '제이콥스테이블', 'cafedyna', '알랑가', '후pc', '뉴욕핫도그앤커피서울이대점', '키즈카페몽', '카페느림', '혼디커피로스터', '카페포제이', '라인', '샘', '키즈팡팡', 'Wells', '바나프레소', '오네스토커피', '쥬씨증미역점', '베짱이COFFEEZIP', '포담티하우스', '1%리버티커피', '카페어나더', '스타벅스마포일진빌딩점', '커피폴리', '달콤커피삼성', '카페래빗', 'YOURCOFFEE', '카페베네마포도화점', '카페락앤락', '투썸플레이스종각역점', '하늘빛푸르다', '카페샌앤디', 'cafehoyacooks카페호야쿡스', '카페더뮤즈', '스위티', '자양커피앤맥주', '다과상사', 'cafe,끌림', '가능프라자', '욤토브', '단조', '세븐빈즈', '마녀늑대의발톱에빨간매니큐어를칠하다', '오늘성수맑음', '트리니다드코리아', '카페지애', '수무디킹명동메트로점', '700요트클럽', '시즌', '더킹', '커피하우스', '러쉬', '카페스윗', '꽃샘커피', '몽바커피', '플러스카페마로니에공원점', '커피코마', '커피클라우드', '동', '포에버', '스마트카페', '더스터디카페', '205도씨', '커피테이크', '엘피스카페', '까페미네', '꼬지짱', '슬로우가든', 'CAFEMERCI', '갤러리하이', '디리베', '벼리스타', '커피수작', '카페다디오', 'STARDUST', '라노비아', '카페함크', '공차트윈시티점', '카페제이홀릭', 'Cafeit', '이디야커피등촌동점', '즐거운커피', '할러스커피', 'PB산림욕힐링카페', '쥬씨가양대교점', '아틀리에송', '백미당', '라비커피', '보타닉커피', '원두막', '딤테크', '카페더스노우', '스타벅스숙대입구역점', 'placeJ', '돌코롬', '스터디카페S', '샤띨리옹', '갤러리콘서트카페시가연', '알바', '가고싶은카페오름', '미노르', '카페어반', '서른커피', '카페리CafeRe합정점', '커피빈코리아낙성대역점', 'JK잉글리쉬하와이안카페', 'TWOSOMEPLACE', '프랭크', '센티모르커피', '탐앤탐스문정로데오점', '스플래쉬블랙', '서룡씨앤케이코와핀강변역', '뚜스뚜스', '빈앤클랑대치점', '까', '시월의곰커피공장', '키커피코리아', '씨케이유통', '아잉커피', '버블리', '카페더레드', '팔공티대치역점', '티-타임푸드', '레가타커피', '카페스카이앤라이브러리', '닷', '커피인커피', '코코빙압구정점', '예감', '카툰앤북카페놀숲', '아라코북카페지점', '지유가오카핫초메청담점', '카페만월', '커피앤챗', '퍼넬스페셜티커피하우스', '스타벅스서강광흥창역점', '까페코이노스', '투썸플레이스연신내점', '카페빈토스', '쥬씨무학여고점', '에버그린', '20온즈커피', '쉼터올래', '카페902', '베네핏카페', '363바이아이디어그룹', '고구려갤러리', '허슬버슬', '인사동', '플라스크', '아마스빈버블티', '1one커피가게', '보니떼', '사군자커피숍', '그리움', '카페쉼표', '고메카페', '카페타루', '36.5바이키', '쉬어가는페이지', 'albero', '오케이라이브카페', '정드림', '에이투지카페', '티케스', '누쿠이커피팩토리', '꿈터로뎀카페', '행운당', '메이앤토니', '검프', '레이오버', '카페콜롬버스', '카페르뷰', '멀리가는향기', '공차신촌연세로점', '테이블나인', '토즈모임센터강남토즈타워점', '카페아레아', '아지트', '코칭', '보통커피', '커피와사람들', '코페아커피서울충정로점', '도시선언', '워커스에디션', '엔트런스', '댓라인', 'COFFEEBAY', '수제상점행복담아', '엘마르', '카페라이언', '캐리스커피', '큐브이스케이프', '이브릭커피', '마리아커피', '굴림', 'MAINZCOFFEE', '예뜨레', '킹콩쥬스엔커피', '까페동화나라', '망원동티라미수', '폴바셋신세계본점2호점', '보아인터렉티브', '카페네스카페이화여대국제기숙사', '소풍가는날', '크린카페', '빙빙빙월드타워점', '카페데리오', 'SAM', '제임스보드카페', '커피모리', '세븐몽키스목동점', '카페달토끼', '명동커피I명동커피II', '할리스신림역점', '고이커피', '카페큐', '믹스', '카페림', '아가랑키즈클럽', '까페린', '이디야커피가좌역점', '쥬씨명일동점', '카페언더바', '엔월52', '공간산마루', '라스베이글재화스퀘어점', '지인', '나무늘보북카페', '경북궁앞무드리카페', '달달보드레', '카페안토니오', '콩자루', 'choicechurros', '이디야커피점', '오드리까페', '화이트브릿지커피', '낙엽커피', '닥터스', '스타벅스경복아파트점', '커피플리즈', '엔뉴까페', '스페이스엠', '아라비카커피', '제너럴커피코디네이터', '커피식스', '커피공화국', '카페N258', '고이서촌', '아람앤아델라', '워커스커피로스터스', '심플카페', '바나다', '탐앤탐스중랑구청점', '끌리앙', '카페테리아', '금호커피맥주', '엔제리스커피', '하빈', '커피메이플', '비비민트', '비에스케이코퍼레이션', 'arco', '카페GLAD', '르로프드', '저스트리슨', '으뜸', '리원', '더만듦데코덴카페내맘케', '청구성심병원', '티모시스커피코리아', '소소한', '커피상점이심', '럭키스타커피로스터스', 'CNN카페한양대서울캠퍼스점', 'cafe.C', '오렌지힐', '쥬쥬스', '광전다방', '스타벅스둔촌동점', '할리스남영점', '베스터디', '올리버브라운여의도점', '맑음', '블룸앤구떼반포리체점', '카페마에스트로', '경성팥집옥루몽', '커피202', '영단기라운지', '카페에일린', '엔제리너스커피연신내역', '엠디오', '영우명지전문대편의점', '카페제이더블유', '열두바구니창작공예', '있소커피', 'Take#1-1', '디케이174-4', '카페칸타타', 'cafehan', '프리모커피', '카페가비', '투썸플레이스사가정역점', '주커피압구정로데오', '팍스커피', '카페본', '24시프리카페', '카페라부에노', '까페울랄라', '아키커피', '브라운핸즈카페', '디터틀', '우리동네엄마학교', '싱글오:커피저장소', '커피본', '커피컬처', '아르디카페', '반달곰커피전문점', '공차코리아대치점', '에이그레이트카페구로직영점', '카페사뚜', '엄마손슈퍼', '쉼표', '참호도과자', '벨띠에다빈치카페', '엠엠티에이치123', '꿀바른단호박', '커피천국', '은하수다방', '베스트빈커피', '비안', '백련다방', '커피랩', '카페제이콥', '카페잼므', '우물가상사.커피넷,HOF이사', '엉클롱', '베거백', '우정다방', '강남오토스퀘어', '세컨스텝', '일야에스프레소', '위트러스트커피', '앤드커피', '카페리세', '커피림', '메쎄', 'JS커피', '장미맨숀', '카페블랙드럼', '카페그린', 'cafevent', '달근프라페', '카페커피수', '퍼넬케익앤커피', '다시스', '101커피컨테이너', '향', '카페헤바', '카페빠숑', '경慶', '카우하이드', '브레머석촌호수점', '쥬씨휘경점', '그랑베네', '카페틔움', '트루디', '커피나무카페', '만동제과', '멜트커피', '마일드', '카페치타', '생두', '낙랑파라', '가비', 'DCOFFE', '카페래이', '카페홍뜰', 'JAHA커피', '곰스603', '그램', '카페시그널', '신스커피', 'YUMTHAI', '어반라이프', '본까스미니스텐드', '파파앤번', '빽다방중계은행사거리점', '굴리엘모', '정우에스프레소', '종로서적휴게실', '우리라운지', '카페앳', '위드까페', '뽀르뚜아', '브루테크네', '레인보우6', '커피식스주스식스', '쥬씨시범단지점', '밥까페', 'Toocoolforschool', '커피데이', '두젠틀', '대화다방', '스타라이트', '위키드스노우', '주커피영등포지하상가점', '인트로', '레어그루브', '디노월드전쟁기념관점', '우리카페', '리틀제이콥스역삼리안점', '우드사이드커피랩', '마타', '동서화랑', '프로즌빈', 'MANCAVE', '자몬', '까페원', '카페루이스', '커피공간', '전광수커피랩', '메쉬커피', '커먼디자인스튜디오', '커피커피플리즈', '카페57', '자담치킨호프&까페', 'fiat피앗', '레뚜라', '버터럼', '봄이', '커피니', '꽃올림', '브이알커피다', '주스탐', '투썸플레이스가산대륭18차점', '쇼콜라봉봉', '다크브라운', '유올', '베데스다', '카페젤라', '챗베이커', '프랄린', '카페클라츠', 'Hannyhouse', '아마폴라델리', '카페쇼파르', '커피식스쥬스식스장한평점', '빈스데이', '떼루와신림점', '벨루토커피', '청년다방', '카페크림', '캐츠카페', '감나무집까페', '125coffee', '좋은씨앗', 'REPUBLICOFCOFFEE', '까페플라워', '옻칠갤러리카페', '라비또', '수묵채카페', '현대다방', '카페마타리', '올드뮤직카페', '카페레이니데이', '아임일리터', '미스터브리즈커피가양점', '스터디카페더퍼스트', '평범한카페', '고디바코엑스점', '추억속의그다방', '카페더뉴', 'VIP커피숍', '카페올', '원앤하프', 'COFFEECOURT', '커피즐겨찾기', '쥬씨방화역점', 'BABAYETU', '커피디지왕십리뉴타운점', '스타벅스외대점', '커피시드', '콩커피하우스', '로시망고', '씨제이엔시티카페비즈코즈', 'Butterfly', '동아커피호프', '동부', '아자라마', '케이원커피', '2dot', '커피바이커피', '인디고', '커피나무이수로스팅하우스', '오롯이카페', '할리스커피종로본점', '엠티시스템코리아', '투데이스커피', '에스파냐', '벨가카페', '온온커피', '에이티게임', '엔터타로', '더네이버스커피', '차민정씨', '카페마마스강남역점', '탐앤탐스회기역점', '화이트하우스', '탐앤탐스반포디스커버리', '브링미커피컴퍼니', '문정역점', '샌드프레소', '왕의커피', '바니', 'COFFEEDOOO', '카페드파리', '정원', '느티마을사회적협동조합', '원원나인', '라운지리포즈', '에델리아카페', '탐앤탐스대한항공서소문점', '커핀그루나무', '썬다방', '스무디킹도심공항터미널점', '와플대학노원역캠퍼스', '애니커피', '쥬씨화곡시장점', '카페더플란트', '두레차', '까페75', '세이세이세이', '탑커피숍', '극단배우다방', '티니워니', 'BILLCOSBY', '푸조', '커피플', '쁘띠꼬모', '2080더커피숍', '카페라푼젤', '올림픽커피', '비단콤마', '서울에소프레소', 'MMTH양재시민의숲', '까페두', '커피파츠', '까페본동', '바리스타엘리', '피티카페', '에피세리꼴라주', '설빙신림3호점', '봉샌드', '커피니종합운동장역점', '베리후레쉬', '언더루프', '카페소로', '코코브루니사당점사당점', 'Paganini', '지베르니정원', '카페미르', '셀렉토커피개봉점', '스타일', '카페사투', 'FRUITSPOP외대점', '쥬스팩토리개봉역점', '데니스커피신림역점', '자바시티커피', '운봉사주카페', '푸르츠젤라떼리아', '코코브루니', '내카페', '크리에이티브맥셀', '렛츠빈', '스테이모어', '올리브카페', '카페쎄리오한양대병원점', '투썸플레이스쌍문중앙점', '카페모모', '정카페', '청춘124', '베베커피로스터즈', '카페정', '라인프렌즈가로수길점', '카페아르떼', 'THEVENTI', '루브앤카페', 'BrownHouse커피', '노란코끼리', '호즈', '웨이크업커피', '수연라이브메들리', '커피마마신내3지구점', '카페오리', '소문난사주카페', '오렌지까페', '커피베이방학성원점', 'CremaDoro', '버드', 'StoryCafe', '파스쿠찌종각알파빌딩점', '카페라끄리마', '커피킹', '카페베네가양역점', '맹쿤', '기명전통찻집', '파넬카페', '딥다이브', '포엠하우스', '쪼마', '놀숲종로점', '매머드커피중앙대점', '토닉', '정동다방', '버거307', '세렌디피티', '벨로치노개화점', '커피인더스터디', '떼', '커피사랑', '페라커피숍', '카페제이', 'CABANA', '착한커피구로동지점', '떡다방', '토스트카페', '인사동풍경이있는찻집', '칸타트', '베니키아호텔까페', '아모제카페아모제', '투썸플레이스서울스퀘', '현경개발', '예일', '킹조지', 'The김밥cafe', '스마일멀티방', '공차가산디지털단지점', '소설카페', '콩깍지카페', '크림사주카페', '브런치가', '리틀제이콥스프리미엄서머셋', '아리스타', '탑프레소', '구스토', '코나퀸즈석촌호수점', '스텔라커피', '보야커피', '라온컨설팅그룹', '달.달커피', '카페위드', '커피빈코리아삼청동점', '씨알', '벌떼카페', '상록', '몰루카', '커피앤모어', '나무자전거', '아마추어', '키친미미미', '이연에프엔씨지점카페씨엘', '쥬씨자양로점', '삼거리', '예그리나카페', '릴리온커피', '스팅', '쥬씨동부시장점', '보꼬네', '탐앤탐스망원점', '애플바리스타', '알베로', '토브카페', '꿈너머', '쥬씨도깨비시장점', '커반', '루미카페', '위에', '카페벨로주', 'Theorderbeans', '카페베네', '명금탕', '양과자상점', '세운나', '스타벅스한성대입구역점', '더랩', '콩부인', '카페네스트', '카페더블', '커피시네마', '마왕카스테라', '로팸', '매뉴팩처', '블루오파스타', '스피드립', '아르떼미오', '투썸플레이스선릉ING점', '할리스커피베네시티점', '디스이즈커피', 'SaintPaul', '독스PC방', '오로라커피', '커피,한송이', '수에무와', '잉큼', '떡카페미소재', '로뎀북카페', '스태픽스', '두드림씨앤엠', '석원재', '떡담까페', 'coffeesong', '동광커피숍', '미스라라coffeeshop', '지하실', '에이쓰리커피집', '카페앤드', '투썸플레이스묵동자이점', 'waffle&coffee', 'CLUB1d1m', '한국커피바리스타협회', 'Cafeearnest', 'cafeorange', '카페베네역점', '커피볶는곤이네집', '카페오가닉', '카페하네', '상수동까페', '스터디카페위드유', '금고양이카페', '그랜파키친', '고디바_', '버블퐁', '굿럭커피', '바리스타마르코디아티스티', 'coffeesharp#', 'DALSSA', '지튼', '코레일유통커피엔스위트', '카페34WALTZ', '마피아커피', '아이비커피', '애프터커피숍', '어나더커피로스터스', '밀리타전시장', '아리스타커피서여의', '본전', '휘경1동작은도서관', '홈플러스어라운드홈', '골목', '차끓이는곰자씨', '빈투커피', '커피투고로스팅팩토리', '도그비잉펫카페', '카페스페이스', '카페24창업센터청신점', '카페마로', 'EllysCoffeeN', '슬로비생활', '꽃피는책', '어로우즈카페', '동그라미카페', '컴플렉스2', '진이', 'PRANERNcoffee', '두커피', '벌스', '오캄앤티', '서나커피앤타르트', '블라썸컴패니언', '아모르카페', '브라바아트뮤즈엄Bravaartmuseum', '라이트미', '씨네스타커피', '아미엘리소호앤노호', '카페마조앤새디중계점', '구세군엔젤스토리', '더브라운카페네스카페', '쥬씨삼양점', 'CF230커피', '빅파운드커피', '커피앳웍스이대', '카페컴온광화문점', '안나비니카페', 'G7커피코리아', 'G카페PC', '떼오도', 'liikecoffee', '카페에벤', '이디야커피애오개역점', '슈가링스화랑대점', '카페라빈', '뷰티플건강&coffee', '만랩커피', '이디야충무로3가', '로그커피로스터스', '망우다방&일상맥주', '놀숲숙대입구점', 'HansCoffee', '베이스커피전문점', '더카페교대역점', '행복한커피', '스타벅스신촌명물거리점', '쥬스토어', '하이힐', '탐앤탐스구로점', '종점다방', '커피로드463', '에이더블유커피', '노랑카페', '버블살롱', '백미당엔터식스', '카페도도', '메리핀', '카페테루아', '칼리', '더치폴커피', '훌리리', '신사곰', '젯스디앤디헬로키티카페신촌점', '아이케어와사람들', '커피게이트', '그린프루츠', '경이로운', '투텐', 'Cafegran', '에스프레사멘테일리', '커피블러썸', '구엄품', '바리스파티움', 'bluetable', '나진카페', 'CAFEBLOG', '커피지원센터', '스타벅스신도림점', '진커피', '커피빈코리아보라매공원', '카페리비', '선인장', '브로일링커피컴퍼니', '통인길커피점', '이야기보따리', '포도나무', '브레드앳홈', '맑', '네스카페청담알로프트호텔점', '테라로사여의도지점', '이대리커피', '고도', '티피에스커피', '고이북촌', '현명커피', '포인포카페', '카페홀릭', '타르트팜', '카페데코믹스', '부동산카페', '트레프푼크트', '공차석계역점', 'SG스터디카페', '카페까밥', 'DESEO', '까페쁠레쟝', 'ThirdIam', '슬로윗카페구로구청지점', '산옥커피로스터스', '투썸플레이스옥수리버젠점', '데니스', '플레인', 'Dancindolphin', '쥬씨가양역점', '카페구마리온', '3.15타이완카페', '서울강서지역자활센터-카페', '초원다방', '지중해커피숍', '마미스카페', '카페라쿤', '루시', '엘비엔또커피', '딩그루', 'caffeprima', '북카페사가', '퀴클리강남점', '뒤주르', '커피만컴퍼니', '밀르몽', '크라스플러스스터디컴플렉스', 'Coffe소', '디어마더', '포트오브모카문정점', '카페브론즈', '프라자커피숍', '둘세', '커피만중앙대점', 'cafedeJura', '탐앤탐스천호로데오점', '커피앳웍스트윈시티남산점', '롯데시네마김포공항엔제리너스', '카페더젠틀', '다시스1', '탐앤탐스길동점', '도티', '스타벅스석촌서호점', '카페무이', '빽다방둔촌동역점', '홀릭카페', '쥬씨잠실학원사거리점', '카페에클레시아', '천기누설사주카페', '카페야미', '브라운홀릭', '카페105', '웰빙전통차', 'AZUR아쥐르', '제이니씨', '북카페J-story', '꿈꾸는리틀피플', 'JANTIQUE', '베네팩토리', '더블유빈코리아', '투제이커피', '쥬씨신촌점', '카페더래빗', '카페테니어', '커피앤브레드', '파리크라상파스쿠찌신촌연', '이상', '리베르떼COFFEE', '카페마노핀', '카페이야기', '더비', 'TOPRESSO교대역점', '오렌지', '보드게임까페오즈', '알바트로스', '엔비오브더빈', '매머드커피역삼GFC점', '언커먼그라운드', '카페그랑', '땡쓰네이쳐', '가배팩토리', '별별상회', '단코', '카페마루니', '경다방', 'olentio', '맘모커피&펍', '카페브러리에어', '강정이넘치는집', '나비스타', '하늘향기', '디저트팩토리', '릴리데이지', '헤어네이쳐스케커피', '삼성웰스토리SDS커피&', '후니드', '커피원', '커피로만', '백송다방', 'coffee&beer', '써브웨이언주역점', '나눔카페', '고고카페', '커피리', '카페드앙떼띠', '앤하우스', '설화', '단빙각', '하재네커피', '아이스샌드', '로스팅반커피', '알서림', '라스', '커피앤제이', '커피집연남동풍경', '더블랙더치커피', '백인대장카페', '카페잠실다방', '빈어홀릭', 'CAFE영등포역점', '쁘띠올리브', '카페한보리', '비에스마르첼로', '생활커피위례', '탐앤탐스탐스커버리광진화양점탐스커버리광진화양점', '주빈커피로스팅', '왜이렇게즐거운거지', '카페하비', '마다가스카르', '파티세리', '보나비', '당산댁', '나의작은라임나무', '베네피츠플러스', '이호다방', '엠지투게더카페', '화이트커피', '안녕', '개미지옥', '보스톤커피코리아', '퍼즈카페보라매점', '플루토', '르미엘커피', '더드림', 'creativebox', 'GESSO', '프레시홀릭', '쿼츠커피', 'The드림', '더치빈', '리제', '오스타커피', '허니빙스', '더벤티노량진점', '예스디자인', '피카노르딕', '오픈키친', '코레일유통바날', '카페블랙', '카페웨스트브릿지', '카페리에또', '아름나라', 'Confezione', '커피하우스원', '골드브라운', '보스톤킹', '행복플러스카페', '라이코스스테이션TIC', '커피베이강남삼성2동점', '로얄커피숍', '커피마리', 'Wesous', '커피홀커피홀녹번역점', 'urbantable', '로즈pc카페', '23홈즈', '행복한수플레', '디토', '킹콩쥬스앤커피', '여전히달달해', '제프리스아카데미', '와이힐', '존에프커피', '레더앤카페디', '디드릭로스터스커피', '스타벅스약수역점', '탭플레이강동성심병원점', '바닐라블룸', '파티오', '오티움커피랩', '콜롬비아스페셜티커피', 'Bella-Bellocafe', '커피N빙수', '커피레이', '글로우', '92C', '가온누리', '연진다방', '포포리POPORI', '잭팟잉글리쉬', '동우네커피집', '일점육일팔', '남산학사카페', '엔646', '복다방', '나폴리다방', '와플대학', '간쥬와플', '카페안나', '스타벅스화곡동점', '카페라지엘', '우이천커피', '카페테르', '투썸플레이스현대', '한국커피연구원', '아미가라이브메들리', '쥬스에게청혼한과일', '란다방', '크레페드림노량진점', '이광수별장춘원헌', '라떼나인', '브이플렉스', '엘카페커피로스터스', 'RORI', '나인헤르츠', '달숲', '피프티', '데이앤데이', '카페곳', '한다솜복지회강동꿈드래마켓', '커피올로지', 'EspressoJin', '사주&타로', '융', '커피다락방', '티라레미수한양대엔터식스점', '만죠즉석커피점', '마노핀어린이대공원역점', '하우스터디', '백상갤러리카페', '주경자구름떡카페', '요거프레소장위동방점', '더메디라운지', '번스', '슈퍼보드', '새라가비', '브레드랩연남점', '다연커피숍', '연다방', '쥬뜨', '몽당', '데이지', '29-77카페', '카펜크레', '보보찰리', '카페돌', '카페임', '커피앤썸', '카페테라', '오설록티하우스삼청동점', '요거프레소태릉입구역점', '미스터브리즈커피신정푸른마을점', '張家', '컴포즈커피선유도점', '앤드류스에그타르트이대점', '베네데프', '뉴욕핫도그앤커피', '비아몬스', '사계절커피', '떡카페아리랑', '소나무길삼무곡', '라스베이글', '혼노베', '랜드커피숍', '카페로플라대치천사점', 'CNNTHEBIZ', '투썸플레이스강남수서점', '랫미커피', '슬로윗카페', '커피빈코리아국기원사거', '스타벅스천호로데오점', '핑크스토리', '약속다방', '쁘띠렌대학로점', '엔제리너스시립대', '연티앤커피', '압구정로데오공차', '8st', '아리랑', '우분트커피룸', '이랜드파크외식카페명', '보이유통', '지니어스커피바', '그리고카페', '빈브라더스카페', '해피레몬', '스노우볼카페', '더가든커피', '스타벅스대치점', '마이베네핏', '킹', '둥지', '따몽', '카페라샤워', '엠오리진', '미스티블루', 'COFFEEBYSOO', '제비다방', '스타벅스화곡DT점', '코니버거앤브런치', '스타벅스신세계본점', '카브', '더마이트', '세인트존스', '이디야커피한성대역점2층', '이디야잠실', '브라운하우스', '돌다방', '도깨비커피집', '해방촌이야기', '금경에프엔비', '카페필로네', '퀸즈브라운', '이어진플레이스', '컵희', '길리안초콜릿카페롯데월드몰점', '안녕,반가워', '여의디지털도서관', '이브커피숍', '카페테라스', '뚜요', '레인바우', '킹콩커피', '빈사이드', '쥬빌리쇼콜라띠에', '카페드스페셜티스', '김대기커피스쿨', '씨네마포', '카페그램', '희망플라워카페', '피카소', 'M빌딩J카페', '테크네', '카페투샷', '커피볶는집낙타', '중앙', '원제이카페', '카페아드망', '에페', '클로리스티룸신논현점', '다온카페', '투썸플레이스창동이마트점', '장마리의커피공방', '디초콜렛커피', '에듀윌역', '카페아이덴티티', '공간이북', '씨엔엔카페', '그린커피', 'Salondetearoom미스홍자', '카페호메이', '10센치', '비틀주스홍씨내', '카페아삽', '놀숲고척점', '마곡타로마님아카데미', '아마스빈', '까페16번지', '빨라쪼델프레도', '단하나케이크', '카페인버스', '카페말로덕성', '블뤼테', 'Anscoffee', '아이엠씨', 'dogzone', '제이카페', '마이페스트카페', '이디야커피사당역점', '탐앤탐스디엠씨탐스커버리', '대한다업필동티카페연구소', '오다방', '어쨌거나1MM', '죠샌드위치선릉점', '이디야커피돈암아리랑점', '다물', '카페사이좋은', '빽다방강동역헤르셔점', '핑크도그핑크다방', '카페인디', '슈퍼커피문정엠스테이트점', '커피맬러드', '아티제잠원파스텔점', 'Pebble&RockCoffee', '카페온더문', 'G아르체', '뉴천지커피숍', '커피어시스트', 'B.B.Q카페은평뉴타운', '지인앤컴퍼니', 'TEALOFT', '카페플로우', '세인트아이브스', '마리S케이크', '홍익미인석류연구소', '몬스트룸커피', '쏠레커피숍', '델커피', 'Beetlejice', '미스터팥집', '뚜또에스프레소', '카페AA삼청동점', '카페와이', '원기산삼다시스', '책과커피가있네몽당', '커피피플', '탐앤탐스삼성오라클점', '키키앤리', '방방키즈카페', '영잘아북카페', '커핀그루나루대학로점', '쵸이스커피숍', 'CAFEGL', '비공이', '레트로나파이', '들국화', '비워크', '알리바바', '카페컴온학동점', '커피그래피티', '콩샌', 'LEBEAUTEMPS르보땅', '이디야커피신림문화교점', '다쿠아랑', '보드스토리', 'PERPET', 'JULIETTE', '쥬씨순천향병원점', '여기인가', '더스텐딩101', '커피공장2010', '르반베이커리카페', '커피니중계점', '히로커피', '폴바셋여의도롯데캐슬점', '유니콘', 'coppercoffee', '헬스바', '동양방앗간', '92욜로', '모모', '밀케이커피', '카페원두마크CAFEWONDUMARK', '카페루', '커피앤솔티', '카페곰퀼트', '동구전자티타임', '커피IT수다', '모스버거종각역점', '카페라엘스', '아침이성저녁감성', '진영', '카페파이나무', '베아뚜스카페', '베네선릉점', '카페커먼띵스', '분카샤', 'WOULDYOU', '길', '자로커피', '후르츠팝', '유오디아', '파스쿠치여의도점아이리스', '융드립커피', '나들목카페', 'THEBRIDGE', '카페무티', '커피지오', '카페카자드지나', '카페브링', '카페오아시아사회적협동조합', '디스프루따', '커피지아', '폴바셋서울세관사거리', '커피이레', '못잊어', '어반코트', '랄랄라커피', '꿈앤카페다솜', '일육공도씨', '웨이크컵', '쥬씨건대역점', '영우국민대학교', '어퍼스트로피에스굿테이스트', '스푼즈카페', '썬빌인사이드', '커피29', '카페점보', '스타벅스합정메세나몰점', '커피오름', '쟈우스', '이디야커피신길썬프라자점', '오설록가로수길점', '리치망고', '엔제리너스', '아이크스커피더퍼스트', '커피팩토리쏘', '일이COFFEESHOP', '어투썸프레이스', '스타벅스서울대입구역점', '유후카페', '빠뜨릭스와플아일렉스점', '행복사랑방', '카페알베르게', '커피빈코리아강변테크노마트점', '랑', '수선카페', '탕화쿵푸', '카페베네미아사거리역점', '카페문라이트', 'Coffee:D1', '그립지카페', '테이큰커피', '까페레블', '허유산코리아', '빽다방강남소망점', '더베네푸드', '카페트렌디', '커피빈코리아압구정에스점', '카페레아', '이스트덜위치', '카페인시애틀', 'AgreatCafe', '탐엠탐스', '커피오카', '클로리스티앤씨', '대박이네', '스타벅스숭실대점', '스타벅스동교삼거리점', '라콜롬보코리아', '카페다니엘', '타르트마망', '쥬씨성수아이티점', '고고스찹쌀떡', '와츄홀릭', '오씨타임', '커피첼리나', '프렌즈커피컴퍼니', '카페에스파니', '지오캣', '이후', '찬합', 'CAFE6269', '빽다방동대문역점', '로뎅커피숍', '커피누리', 'Coffee3Times', '다경향실', '카페중원', '커피상호작용', '커피스미스점', '요거프레소당산에스케이', '킴스코퍼레이션', '넬쿠오레델카페커피로스터즈', '더치드림', '카페,클리닝데이', '74시즌으로', '요거프레소문래점', '마더쥬스', '커피더캠프남성역점', '카페알펜로제', '레드컨테이너', '카페파로', '60STCOFFEE', '디노마드진', '핀카페', 'CAFENOA', '꽃이핀다coffee', '카페하루', '금성다방', '우즈오븐', '철도공익복지재단영', '버블트리', 'Sarah&Chois', '카페깔리아리', '투썸플레이스역삼르네상스점', '카페드아야', '연운당', '토프레소개봉점', '롯데칠성음료커피청량리점칸타타', '엘시아커피', '엠디레몬트리달루가', '로맨틱커피', '에나꼬레', '은마루나눔카페', 'INTRO', '띠아모강변점', 'Fruittogo', '프쉬케', '엘림클래식뮤직아트리움', 'Cafe잉거독산점', '더키즈프리미엄키즈카페', '쥬씨굽은다리역점', '모리', '에스프레소인뉴욕', '커피빈장안점', 'Ka', '스트라다146', '제이제이카페', 'coffee공간', '토프레소방이시장점', '카페모넬린', '카페2도씨', '봄봄커피숍', '아마스빈대치은마점', '캐시아커피하우스', '셜록홈즈', '카페더스토리이점영', '카페마노아', '카페베네논현역', '나눔공간', '망고식스2.0', 'BE', '난달라커피', '아꼬떼', '학산테라로사커피', '희망나눔카페하랑', '도티카페', '세가토', 'DETOXI', '나이스인프라', '카페얘기', '나이로비', '크레마181', 'REALROASTING', '애궁카페', '카페미유', 'FluffyMountain', '까페위드', '참좋다', '송파커피', '엘에스씨푸드티타임동아', '더나우커피', '한지야', '비트윈카페', '구름카페', '티즈데이', '커피홀릭', '엘브로커피', '세원다방', 'KIMSCoffee', '슈만드젠', '블럭캠퍼스', '서울역', 'A3CHIVECOFFEE', '41ST', '현대커피숍', '오!베리굿', '동네목수의작은카페', '카페투칸', '카페350', '썸씽겟', '퀸', 'RABBITHOLE', '놀숲', '커피골목', '커피엔수다', '노빈', 'onda109', '마이분주스바', '허니비와플까페', '서룡씨앤케이코와핀종합운', '카페애티', '리더커피', '더모스트커피', '24시만화카페', '까페유', '앤스카페', '투썸플레이스신사세로수길점', '카페아이엠', '큐브', '카페동네', 'TABLE88-2', 'HERE카페', '작은섬', '브이아이피커피', '카페와사진관', '커피다올', '터보힐링', '카페카파', '롯데리아엔제리너스연대', '카페팟', '빈투빈', '그레이스케일', '달콤커피광화문점', '카페아늑', 'MOSOCOFFEE', '림스커피', '커피코트문정H비지니', '룩아워티WITH한삼인', '올빛', '꽁뜨', '앳홈', '마실', '벌툰', '쥬씨사당역2호점', '테라로사커피', '제이에스커피', '도피오커피한양대', '다원전통찻집', 'W커피바', '몽쥬르COFFEE', 'cafeheaven', '캔디미나우', '엉클빈스커피', '카페소싸이어티', '더리틀베어', '최가커피', '효창104', '쥬스로', 'COFFEEFARM', '사주카페가네샤', '크런치오븐', '틈새커피', '노아더네임', '디에이치앤카페테리아', '밀리언비즈', '모데프', '숙다방', '모노치즈연신내역점', 'CafeAne', '밀크엠앤에스', '존스샌드위치카페', '스타벅스영등포신길DT점', '한강클래스', '수호깨비카페하우스', '슈어슈어리커피', 'PHILCOFFEE', '초퍼', '웜블루', '띠아모한양대학교점', '앤티앤스', '놀숲홍대입구점', '에스프레소플러스', '하늘정원', 'KIRAKIRA', '토키오', '윈디시카고', '에프엔제이커피', '에잇어클락', '와플에반한커피', '롤링크레페', '공차보라매점', '라심', '커피베이마포용강점', '제이루스커피', '디저트,지안', '국화', '투썸플레이스삼성중앙역점', '라페트', '빈스앤와플', '라치나타', '디초콜릿커피엔드', 'Lento', '비8-2커피', '놀다가개', '클렌치', '영락사회복지재단', '은지다방', '손탁', '카페베네건대역사거리점', '마리', 'CafeONNA', '타니아카페', '티하우스', '인디카페', '보스커피숍', '카페더도어', '초코와커피', '제이쿡카페', '강남고양이', '카페모퉁이', '휴머니스트카페', '카페진정성', '엣지', '뮤즈', '카페리필', '여성건강카페화음', '지소현커피나무', '주부리', '스타벅스상일동점', '맥켄지커피역점', 'TAMMYCOFFEE', '카페05:59', '사주카페다락방', '대루커피', '일상다반사', '쥬씨망원점', '가회동177', '태양커피', '더카페가양홈플러스점', '팬더커피숍', '에스베네핏', '에클레시아', 'DIXMILLIONS', '예스커피', '이디야커피강남역지하상가점', '펭귄마카롱', '커피베이시립대점', '쌔씨커피', '권자Kwonja', '로리콘', '바이네츄럴', '카페파쉬노', '아이디어팩토리', '스타벅스목동5단지점', '이디야커피한국수출입은행점', '동산손만두', '에이티21', '런던바니', '유아히어합정교보문고점', '미스에이드카페', '바까날레커피전문점', '모모카페', '퍼블릭맨션', '포스빌미카사카페', '키커랜드', '카페드롭탑', '에나꼬레커피', '손다방', '카페마호우', '쥬스와커피', '커피런', '커피스테이션', '가비1896', '미도심', 'ZIP', '중앙다방', '을지茶움', '아름드리카페', '카페솜씨', '테라스위트', '롯데씨티호텔김포공항점씨카페', '커피501', '행복다방', '십자수&커피이야기', '디저트삼십구', '스타벅스논현힐탑', '메가엠지씨커피', '함께하는문화', '구대회커피', '커피와그림', 'STYLECOFFEE', 'Thecornercoffee', '카페센티모르', '동병상련', 'NPS카페테리아Cate36.5℃', '발코니', '보성전통찻집', '진보공인중개사GangsParadise', '봄봄테이크아웃', '그라운드오리진', '일리카페잠실아이파크점', '공짜카페', '크랙', '곰커피캠퍼스', '블루펄호텔', 'BERKELEYCOFFEEE', '노르웨이숲', '성북청소년문화의집', '카페윈스타', '더블유카페', '나무향기', '도투루커피', '달리는커피', '커피볶는영다방', '공차남부터미널점', '노란코끼리커피로스터스', '고담2015', '에이엔', 'LODGE', '카페미아미고', '쓰리팝', '백남준카페', '자바씨티커피', '마시모', 'STAGE9', '언약커피하우스', '안티공짜카페', 'Gueren', '카페데이', '베네펫', '커피생각', '바운스트램폴린파크', '커피보이', '아트앤크래프트', '커피빈코리아테헤란로비', '땅뜨', '쥬스식스이수역점', '카페마운틴', '림벅와플', '셀렉토커피돌곶이역스타점', '재미로테이크아웃', '카페호빈', '스타벅스W-MALL점', '카페인클럽', '커피나무먹골역점', '브래드앤빈', '요리까페식땅', '아이엠커피', '세븐스프링스카페', '모노레일에스프레소잠실삼성생명점', '광화문내커피', '위드모리Withmorrie', '와플반트남부터미널', '쩡S92℃', '프롬하츠커피하왕십리점', '이코복스커피', '카페크로리스', 'LUVOCO카페', '타미하우스', '카페비원', '쥬씨영', '킹스커피동양미래대학교점', '이젠', '샐리s키친', '테카', '카페다리', '22펠로톤', '운주문고BOOKCAFE', '스타벅스동교점', '닛시카페', '커피점방', '토프레소상도점', '풍뎅이의숲', '크리미몰랑', '커피농장', '카페진락', '허니크림', '투썸플레이스화랑대역점', 'Cafe요거프레소', 'EJ', 'CAFEDURIP', '탐앤탐스가로수길', '전광수coffeehouse', '아틀리에', '랭스터디카페', '랄랄라350', '민들레커피숍', '카페넬비코로', '미노스', '일상커피컴패니', '아워홈', '엠엠티에이치010', '카페까사데', '앤드그레이', '루프테라스', '피에로커피', '커피앤드디스트리뷰션오브코리아', '케냐키암부', '더요거트샵', '츄로101삼청점', 'COFFEEBOBROASTINGFACTORY', '에코라이프카페', '카페프라터', '하임', '빽다방신림역1호점', '로즈버드', '오가닉파이앤코', '스마트글로벌', '한스텝씨즈캔디', '보나비아티제미래와희망병원점', 'mug공대', '에이치파이브-117', '리즈카페', '카파', 'CREMADORO', '카페플리츠미', '앙쥬', '프레지아', '쥬씨영일고점', '지하로카페', '브로', '부팔라커피', '카페브릭', '아티제', '333', '매머드익스프레스', '카페베네2', 'PSCAFE', '갤러리아트다림', '아임바리스타', '큐커피', 'onceuponamilkshake', '마체베트정글키즈파미', '브런치팩토리', '마들까페클럽', '다브앙', 'biwon', '스타벅스명동중앙로', 'EDEN', '대동다방', '빈즈메이드', '10스퀘어커피랩', '쥬씨역삼사거리점', '타요키즈카페', '상상다방', '더라임', '다르다카페', '디앤드커피', '콩툰만화카페신천점', '파크커피숍', '풍경달다', '다산카페', '올다커피', '오가다대치점', '까페햇츠', '루앤로', 'CafeDD', '커피니양재점', '사사이프로젝트', '공차현대천호점팝업스토어', '파이나누기', '까페폴로라', '스윗트가든', '독립문커피', '모나코다방', '엔제리너스라붐아울렛', '로맨티카', '42', '요거프레소상계점', '커피디저트', '카페솔리데오', '올어바웃카페', 'Barista', '아라바카뜰', '바나나하루키', '리트웨이', '카페D55', '라임팝COFFEE', '빽다방천호역로데오점', '장미다방', '가화', '카페더블컵', '카페사월', '오땅비어신논현점', '카페다온', '루미에르', '시드투커피고', '갤러리홈즈', 'inkcoffee', '고디바MBC', '카페미미미', '케이티그룹희망나눔재단광화문east', 'Coffeebay', '단수이대왕카스테라', '마리웨일마카롱봉천현대시장점', '라에스키모', '베타엔커피', '선릉마실길', '카페데스티니', '탭플레이', '떼루와떼루와반포점', '매머드커피한티역점', '요이5', 'CGV', '미소디', '블루포트', '토즈', '그레이스커피', 'cafe사월', '띵크커피코리아THINK', 'ASHCOFFEEHOUSE', '카페아루밍', '왓츠업PC방', '까페마또', '카페온', '갤러리카페레스토랑아델라베일', '온수밀밭', '쁠로13', '로타리다방', '카페유', '더치앤빈대치역점', '카페곁', '카페방학', '카페베네이노시티', '커피과학', '1층커피숍', 'MANOFFIN', 'CAFE201', '까페따옴', '부일이디야커피', '토리노', '욜로', '카페NODAZI', '벨라빈스커피길음뉴타운점', '구대회커피마포', '카페마스터', '3업플래너', '성곽마을삼층까페', '쎄븐', '쥬씨송정역점', '평창동전통찻집', 'Juicy', '봄날', '빽다방공덕새창로점', '카페리움', '카페피오레', '필링', '카페레알빈', '시화담카페', '커피빈코리아서초우성아파트앞점', '노리앤', '까페마당', '콩셔틀', '공차광화문점', '카페그라치아', '메디아', '아스트로노머스커피', '스타벅스광화문점', '팬도로시', '포엑스', '아뜰리에에마미', '리프패럿', '동인당베이커리카페', '착한카페', '킹스톤커피', '빙빙빙', '다올북카페', '조이', '구멍가게', '델라보보1', 'CNNCAFE', '일리컴퍼니', '아티제여의도롯데캐슬점', '고메', '주빈커피마에스더', '골드버튼커피로스터스', '카페반', '샵브이알', '엔제리너스강남역사거리점', '리틀비틀', '오늘도하나롱', '플로아', '안테스', '리디아', '무드벨벳', '목동커피', '해피플레이스', '트루커피', '커피빈코리아상암동SBS', 'CAFE담쟁이107', '레이어스다동점', '아리가또', '이야기카페', '베로키오커피', '팡뜰리에', '원인어밀리언', '카페베네영등포구청점', '커피빈코리아합정푸르지오점', '어느날오늘', '카페언더24', '어쉐프컴퍼니', '까페시모', '폴바셋현대백화점디큐브시티점', '핑크젠틀맨', '컵오브커피논현', 'flowercafetiffany', '심온사회적협동조합', '메종프랭크', 'FX스윙', '아아폴리델리', '스타벅스낙성대DT점', '티샵NO.1', '신진커피숍', '데이즈커피', '슬로우스트림커피컴퍼니', '카페656', '가을커피', '테이크아웃드로잉카페', '영동다방', '회화나무로스터스', '카페리빈강남', 'Perhaps', '자몽카페', 'STREAT연세', '사랑채', '라콜롬브코리아', '카페피아트121', '커피빈코리아명동성당앞', '신세계베이킹카페연세대학교제중학사점', '미쓰퐁당', '용다방', 'STX', '보보스', '기센코리아', '사주카페큐', '까페블랑', '스테이지9더치커피', '코코커피', '카페한여름밤의꿈', '티맑은커피전문점', '카페동희', 'TicToc게임클럽', 'chewychewy', '이기야커피숍', '지얼라이언스', '비치s커피집', 'CafeDen', '점폴린파크', 'Rcoron', '오토카페', '로즈버드디저트카페', '엉클두', '카페딩동', '까소엔더카페', '어반스테이', '카페라노떼', '빽다방명동중앙우체', '뮤커피', '신계커피', '홈우드커피', '해남커피숍', '47stCafe#', '리틀제이콥스', '오설록현대백화점목동점', 'coffeemama', '미스쇼콜라', '쥬씨위례트랜짓몰2호점', '하늘카페', '아워홈카페그랑', '블랙커', '카페도하', '세븐몽키스커피', '마체베트', '스테아', '이디야커피정릉아리랑점', '공상CAFE', 'CafeHIAZO', '쥬스리', 'TRAUMCOFFEE', '행복떡방&카페', '공차현대백화점신촌점', '커피붕붕커피볶는집', 'cafeFelice', '꼼지락커피하우스', '스무디킹코엑스2호점', '경향', 'cafedeM', '정희커피카페', '아방가르드카페', '도기푸', '티투데이', '까르페디엠', '베르노', '마체베트어린이대공원점꿈', '츄로비아', '욜로스커피', '키커피숍', '크라스플러스', '까페워크샵', '까치산커피', '앨리스앤코', '에덴다방', '퍼핀카페', '마호가니커피', '카페고고스', '드림하우스', '사주카페미즈', '라보카', '베버리힐스', '노들직녀카페', '곰식스커피', '투텍스처', '구름뜬하늘', '언덕위에카파', '김밥카페', '커피한', 'COFFEEONLY', '커피공방/에이치엔씨아이', '몽루', '치치라보', '더빅스터디', '안다미로종합관점', 'At', '카페빌', '브라운필투', '빅브라더문라이트', '카페앤라씨', '카페드온', '요거프레소신도림푸르지오점', '미칠비루디져트아뜰리에', '미즈스타커피', '베세토', '커피공장', 'DEAR카페', '아소프로아', '바엔카페앤드', '한손에커피', '두소카페', '카페테바', '아트79', '루크테이블', '스타벅스금천독산점', 'ARISTACOFFEE', 'Eliot', '로얄1번가커피타운', '매일봄카페', '그린바이크커피', '코지허브카페', '카페라리방이점', '데라스카페', 'CAFEJUICY', '짠커피숍', '프로퍼커피바', '프라비다커피', '카페플로리', '룸카페', '바내', '데코르', '카페올레', '라페뜨', '더카페한남점', '스타벅스석촌호수점', '스피키지인모네', '카페뿌우', '스타벅스압구정로데오역점', '맛차차', '더베럴스커피', '듀이', '솔다방', '엔젤나루라떼', '은하수', '탐앤탐스한남점', '맛카롱', '주연커피숍', '로빈', '커피를사랑한소믈리애', '방배동커피볶는집일리', '비쥬블랑쉐', '카페옹끌', '투썸커피고려대법학관', '카페상베르', '406THSTOVES', '소라커피숍', '이름없음', '카페미카야', '위딤', '떼루와', '행복한커피상점커피정', '하나커피', '카페루앤비방학점', '해인아트', '카페베네독산역점', '엔피에스카페365', '아이비', '리앤베이크', '캡슐팩토리', '카페네스', '케이신나뚜루청량리롯데백화점', '원더빌더커피', '티하임', '카페쉼', '카페효제눅', 'DUDART', '사주명가', '스노우볼', '베이루트', 'Igoteverything강동구청', '커피메이', '아메리칸트레일러홍대타임스퀘어점', '카페화이브', 'CFOUR문정점', '제이엠제이브로스', '카페도담', '내찬기and카페', '벙커1', '까페부오노', '엠부띠크', '삼성웰스토리리아체생명', '에피그램커피', '탠저린', '친절한커피집', '마리아칼라스.아름다운구멍가게', '판다쥬스', '디비스토리카페', '직녀까페', '난만', '애쉴리즈', '피티카페비엠에스점', '가락동커피', '카페품다', '까페강남방', '오렌지타이거커피', '커피빈코리아강남역먹자', '공차바로', '카페비쥬', '전광수커피하우스', 'SEMOCAFE', '코코부코', '커피박스', '맨즈비커피', 'Cafeyogi', '라운드커피', '쉐이크', '제니스까페', '프레스카투', '삼각카페', '더스토리', '아이니드팩토리', '스위트몬스터', '빽다방노량진학원점', '굿커피', '카페엘루체', '청년다방명품즉석떡볶이', '이지인스', '카페베네암사', '리앤홍', '더리버로드카페', '벤투라커피', '스탠딩커피3', 'FLORAVELLO', '미작', '뜰가든', '커피마마창동우리집점', '비갠', '스타벅스송파방이DT점', '키커피', '카페달삼청점', '비원커피', '로비', '한빛선교교회', 'AURAcafe', '커플팔찌만들기STAY', '카페스텔라', '카페153', '폴바셋역삼점', '허스', '체크인', 'Mandy', '빽다방PAIKSCOFFEE', '허바허바사장', 'AMAPOLACAFE', '파르코커피', '이립스', '카페오세요', '캐쉬플로우커뮤니케이션즈', '영우한양대학교커피점', 'cafeJoe', '다인투', '스타타로', '커피그리머', '그레피스', 'ANTTA', '도원유치원', '상봉맞이방커피', 'NJPark', '딴지카페', '커피파일럿', '라로즈플라워앤스쿨', '이디야커피신당중앙점', '사주카페세일', '쥬씨삼성점', '콜드브루디어더치', '수정다방', '홍s커피', '라스커피', '돌커피숍', '업타운카페', '스타벅스역삼럭키', '역전우동구로디지털역점', '도무스커피점', '부다페이스', 'CafeLouisvis', '카페일소뇨', '커피32', '알프레도', '커피칼라', '뉴부림커피숍', '고고즉석떡볶이', '제이제이커피', '미남커피', 'Murmurdemargem', '엠즈씨드', '셀렉토커피압구정점', '스타벅스방배카페입구점', '커피볶는女子', '송정뜨락', '빈트리커피', '에스프레소살롱', '인텃매니아휴계실', '투썸플레이스종로구청점', '플러드엠', '시너리', '엔젤리너스미아삼거리', '범스커피', '커피빈코리아방배역점', '88브레드', '마포구고용복지지원센터', '카페그물코', '석란카페', '카페드미에', '그라피', 'JUNCOFFEE', '요거프레소대치사거리점', '공차영등포구청점', '킹스빈구로디지털점', '카페필아떼', '신흥커피숍', '부미', '보타니크', '미어합정점', 'Gmono', '스터디101', '사프라', '크런치오븐개포점', '사랑이뭐길래', '차고카페', '카페로', '에무', '카페보니또코레일본사점', '벨코와플', '무궁화꽃이피었습니다', '커피베이상도파크자이점', '단잠', '카카듀', '언더크레마', '트라이바', '갤러리카페브레송', '갤러리에스피', '카페하파라이', '닐리스커피', 'ALICAFE', '에르마노키즈카페', '숲속식사', '북카페다락', '카페르보땅', '더벤티커피전문점', '명물다방', '갓볶은커피보그너커피', '카페ONDA', '커피드', '소소한일상', 'CAFEVERONA', '카페오즈', '아쿠아플라넷63카페', '미스터프랭크', '스텀필즈커피', '슬로우', '카페원두마크', 'SGARDEN', '파랑가by콩두', '블랙포트', 'cafe2892', '금강F&B광희문', 'FromtheBean', '우후루', '파스커니', 'OAK', '20온스', 'WAFFINGCOFFEE', '차칸커피', '카페드림브런치플러스', '백산가', '와플에셋파트너', '목요일커피', '임비스', '카페원더스', '헤리스', '닥터오빈', '오케이커피', '원남가베', '배재란의coffeecalass', '카페필름포럼', '구타오쥬스', '도토리카페', '커피투마로우', '예담겔러리카페', '플라워카페활짝', '주스킹위례', '아티제잠실타워730점', '오르페오', '허니와', '펭귄카페', '러블리커피', '블랙그라운드커피랩', 'AEDA', '언더그라운드커피', '헐리우드코리아', '디저트연구소', 'CAFEDELCIELO', '일에레델젤라또', '스타벅스황학사거리점', '언제나커피', '송파경찰서송파카페', '한잎', '반지놀이터신사가로수길점', '투싸이드', '베라커피', '스타벅스서울교대점', '스타벅스종로2가점', '카페솟대', '커피브레이크', '세브웰', 'Coffeewith', '상가', '삼성웰스토리대우접견실웰스토리카페', '카페아페토', 'THEM', '부림커피숍', '카페브로디', '터치주스샐러드', '잡동산', '에이케이에스앤디카페드마티네', '카페4776', '코지', '무비스타', '카페씨', '스타벅스서소문배재점', '서드팩토리', 'BUKU', '더리얼', '카페테리아누벨', '키즈팡팡구산점', '카페샤빌레', '달달', '정성담음', '에파타', '스타벅스차병원사거리', '투썸커피세종로점', '원더커피', '할리스커피용산더프라임점', '수메이트', '카페키플링', '커피큐브', '그냥커피', '투썸플레이스한양대학생복지관', '갤러리카페커피집', '카페꼰띠고', 'HELMUT', '석란커피.엔.티', '나너다방', '달콤한커피방앗간', '카페샹베르공덕코어점', '눈꽃여우대흥점', '벨젬', '자바카페', '은혜카페', '달달한오후의잼', '듀크렘', '커피지', '예술담소', '여기는카페다', '빽다방중랑역동부시장점', 'Cafe잇서울의료원점', '지구커피', '플라페', 'COFFEE&TEE', 'Thecoffeehouse비오는가을아침', '이태원더블샷W', '창조의샘', '카페베네홍은사거리점', '신라스테이서대문까페', '커피DZ', '세레스홈', '장띠', '망명정부', '테라스', '저스트브루드', '모서리에커피집', '테일리', '카페모', '카페코알라', '더로스터리샵', '플러스골드', '첫만남', '공차현대아울렛가산점', '대치휴게소', '카페판타지오', '더프렌즈카페', '커피그루나무', '커피세도나', '바람', '핑크레빗', '러스트', '페더커피', '브라질다방', '카페피움', '카페샤인', '에네스', '비티엔카페', '카페디15', '쥬씨군자역점', '버블마닐', '달나라고양이', '파이브포인츠', '숑디', '카페올소', '커피프린지', '파트너스', '언니쓰다방', '띵킹커피', '상상카페', '빈트리', '할리스에프앤비신촌점', '골목카페일구공', '히코코', '디초콜릿앤드고대구로병원', '셰프커피', '카페토이스토리', '엘가', '카페이노', '젬스커피', '히읗카페', '플랫빈', '커피더', '토아', '커피베이방배한샘앞점', '카페성수', '쪼꼬커피', '우리동네노리터', '커피플랜트', '카페와일리', '커넥트투', '숙이카페', '서울커피', '다빈커피', '에셀카페', '커피주아', '깡통카페', '헬로방방', '까치다방', '8온스', 'NorwegianWood', '드플로허', '주스에비뉴', '스타벅스한남동점', '스텔라', '써브웨이', '시발점', '볼라벤커피', '피터프루츠', '가배두림', '우리행성', '과수당', '커피팡', '심쿵달콩만화카페', '펄스에이트카페', '하니하우스', '강남푸드마켓미소', 'COFFEESHOLIC', '발롱카페', '반머이', '빈스앤코퍼레이션', '아리스커피', '최신마미', '커피가버먼트', '스킨디빌리지점프카페', '투달러스커피', '규s커피', '커피사', '금산인삼집', '스몰하우스카페', '커피그라프', '아뜰리에안연희', 'IF커피전문점', '카페킹', '커피좀비', '카페구로', '서울창업카페', '커피zip', '카페팔레트', 'cafeCREAM카페크림', '행복나무', '베이글팩토리', '프라빈', '킴스롱도그', '더수다카페', '고츄러스', '더빈21', '던모스Dawnmoss', '마할로', '아리스타커피선릉2호점', '쉬어가는모퉁이커피한잔', '카페메죠', '드림키퍼즈협동조합', '슬로스텝IN홍대', '제이스티하우스', '빽다방압구정로데오점', 'BREWNINE', '로직커피', '민들레영토그신대점', 'thecafe36.5', '코미코미', 'cafeleA', '씨앤오코리아', '셀렉토커피동묘역점', '땅콩', '샤빌레', '자니로켓카페', '커피컵', '카스쿠르트', '빽다방서울과기대점', 'LPMUSICCAFE', '유어커피', '카페게이트', '커피온', '바실레이아쇼콜라', '남산커피집', '커핀그루나루서초플레티넘점', '카페해밀', '나이스', '크라운', '아이비사주카페', '할리스커피올림픽프라자점', '단팥집', '카페디차', '카페아모제', '드노피', '퍼블리카.PUBLICA', '투썸플레이스송파위례트랜짓몰점', '도본', '모찌청', '자바씨티', '커피모네', '마망베베키즈카페&킨더레고팡', '카페작은마을', '다톡다톡카페협동조합', '베리베리생과일', '카페베네송파구청점', '마을사랑방솜씨', '핑크블라섬', '조스샌드위치앤커피', 'KT', '동작구름카페', '파시야', '빵사부식빵공방마들점', '주희스커피', '코지사주카페', '사주카페자미', '후니드브로드카페', '커피가게', '카페모브', '도프커피로스팅랩', '수다커피', '인테스커피', '스폰지북카페', '요거프레소구일역점', '까사미아', '커피러브', '더치프레소Dutchpresso', '까페부에노', '질리', '카페디아떼', '라리커피전문점', '플라워에이일공오', 'cafe2350', '모노레일에스프레소잠실삼성생', '엔커피', '모카하마', '커피마마왕십리역점', '공차글라스타워점', '허니비케이크', '스무디팅', '설나루', '역전우동&빽다방', '엔티커피', '소양다방', '카페엘', '카페컵', '카페아모카', '메트로', '레미콘', '해피데이도봉구민회관점', '그레이커피', '커피산책', '카페트인터내셔날코리아', '카페모자이크교회', '아하브', '슈팅스타', '카페미빌', '고디바롯데잠실', '커피판다', '갤럭시펫강남점', '만돌다방', '타르타르', '커피스트', '라포레', '빽다방종로관철점', '벤', '카페다이렉트', '젠틀콩커피', '카페안커피', '카페마레', '휘카페', '카페앤샌드위치', '게이트31', 'ESTO', '카페치따', '잠바주스용산미군기지점', '스노잉합정점', '베버리지랩', '투썸플레이스세관사거리점', '독수리', '아름다운콩커피', '더플레이그라운드', '원다방', '프라한PRAHRAN', '제로커피', '한강다방', '유진다방', '클레시아', '506커피하우스재미갤러리', '댓커피', '커피빈코리아대치사거리점', '메디찌커피숍', '프롬비', '커피스미스신촌점', '홍콤바인', '용휴게소', '해머스미스로스터리', '인카페', '카페로찌', '홍커피', 'bonneidee', '공차롯데미아점', '카페론다', '탐앤탐', 'CoffeeDNA', '북카페산책인턴십센터', 'Clucy', '파란달의커피볶는집', '스타벅스방이역점', '민화랑', '현커피숍', '티모커피', '카페몽스', '브로스버블티', '라이언컴퍼니', '앳오피셜', '리엘베이킹', '르보', 'ELCAFECOFFEEROASTERS', '행복플러스가게하이천사', '커피빈코리아방배카페골목', '커피네이처', '카페앤아더', '리즈앤틱', '커피만역점', '엔학고레', '라떼엔퐁당', '코피커피', '에이티폭스', '덕수궁전통차전문', '커피매니아', '카페그리다', '카페아이', '샌드밥', '삼청동4차원', '별이다섯개', '카페73', '카페차뜨', '아티제여의동점', '달콤커피역삼에클라트점', '이누', '코나익스프레스', '희차', '언벌스', '탐진씨앤씨딜라이트커피', '커피나무필동점', '난곡제과', '아더', '지구별고양이', 'deomelette', '놀숲신사가로수길점', '더좋은생각', '커피로', '커피로드스타', '목련다방', '플립팝', 'MODOcoffee', '파리크라상파스쿠찌도', '유어마이커피브루어스', '이디야커피가든파이브', '플로디', '쥬씨안국역점', '사랑커피숍', '카페에뚜', '카페돌담콩', '에이치큐브', '카페쎄리오동국대원흥관점', '커피빈코리아외대앞점', '코이코히', '쥬씨상도역점', '슈퍼오아시스케이티앤지', '픽셀카페', '닥터주스', '쥬스식스노량진행복점', 'CafeNamoo', '더베이직커피서울본점', 'EERT', 'Craftbeerhouse', '클로리스', '로스팅카페', '금커피숍', '두카티카페', '샤론꽃방', '뿌리플라워카페', '커멍', '도노한남', '트립티커피', '차뜨라므', '스타벅스명일이마트점', '티22233', '커피볶', 'COFFEE1899', '도화타워까페', '카페다다', '파스쿠찌테크노마트점', '카페드투칸', '고디바삼청점', '그라찌에김안과2호점', '다움', '해리스', '팡뜰리에대치점', '꾸까카페', '청소년휴카페꽃다방', '등촌아리스타', 'CUP&COFFEE', '갓볶은커피', '투썸플레이스개화산역점', '롯데리아엔제리너스건대시네마', '이디야커피마포KCC점', '엘카페', '로제타1890', '파우치커피', '앤제리너스커피', '마먕갸또', '로스터리', 'CELSIUS', '베러댄와플협동조합', '제비꽃다방', '카마노커피', '디케이컴퍼니커피휠coffeewheel', '들꽃누리', '카페예랑', '이나디토', '벨로치노', '선인', 'KOTSUNI', '에이블커피그룹', '미소누리나눔복지센터', '카페브람스2층', '산토리니커피', '굿모닝커피', '패션5제이미하우스', '스커피', '쥬씨신도림디큐브점', '우지커피', '텅', '리치커피숍', '오하나카페', '행복마루', '공작은가비', '양재천커피볶는집', '코너로스터스', '서촌음료연구소', '미어상봉점', '아미띠에카페', '태성다방', '파쪼카페', '카페퍼블리크', '포카치노', '드마린카페', '을지사거리이디야커피숍', 'CafeRoyalNature', '마크레인커피', '루헨', 'JASS', '도로시앤', '프리젠트', '엘비씨카페', 'faithcoffee', '줄리에타', '살롱드떼벨로', '아마폴라델리선릉점', '하이드아웃', '차타임라운지', '필로커피', '앤드히어', '로디오븐', 'BOLACOFFEE', '빅컵커피', '쥬씨양재점', '투웰브바스캣', '갤러리전통찻집', '언더텐커피', 'Ph6.5flower', '카페샬롬', '브렌다플라워', '나라씨카페', '일층카페', '커피마드레', '미트프레쉬', '카페쿠스토', '카리스', '미스터빈커피', '알라딘중고서점커피', '스타벅스문정역점', '엔제리너스커피수서환승통로점', '카페아모제롯데미아점', '레이너드커피', 'MAYLIN', '연수커피', 'COFFEEAVENUEPUB', '에슬로우커피', '파스쿠찌삼성역점', '그라찌에총신대학교점', '브알라누아르', '카페인갤러리에', '카페큐브하우스', '죠셉의커피나무', '커피테라스', '신촌시크릿', '소나기', '해피트리', '카페담', '제이에이치거국', '원제커피전문점', '매머드익스프레스교', '마키아티', '카페루이석촌호수점', '멤피스', '요요도산대로점', '꿈', '투썸플레이스앤드콜드스톤크리머리', 'ANOPLA', '예솔', '다사랑까페', '진주커피호프', '토프레소원효로점', '티츄리카페', '조히하루', '엔에스파트너스', '샵에이블록', '해피니스디저트', '쎄렌디피티', '브릭라이브월드', '블랙모티브', '스타일커피', '셀렉토삼성역점', 'DININGBOX', '카페도란도란', '로켓커피', '디드릭노원점', '커피가먹고싶다', '돼지다방', '마망레브', '우분투', '제이시커피', '카페아비오', '포트오브모카독산점', 'OwinSmartCarCafe', '도담갤러리', '오작교', '원효로', '행운의집', '꼬메노', '트루어스', '브리즈브이알까페잠실새내점', 'FRESHKING', '어느,예쁜날', '우스블랑', '바리스타리코카페', '상티비투썸플레이스가산대', 'Coldstone', '투맨커피스토어', '커피지인', '안녕,도화동.', '카페플랜', '마이빈', '엠커피&칵테일', '월드오브보드게임', '행복다온', '퍼피커피', '이더블', '커피낫유얼스', '커피블랑', '갤러리커피하우스', '테지움', '푸르너가든서울숲점', 'JACOM', '안다즈커피', '고궁', 'CAFELEWIS', '코코브루니한남점', '커피오즈', '카페띠모아', '티테라피행랑', '연다라', '투썸플레이스금호하이리버점금호하이리버점', '매머드익스프레스문정SKV1', '닥터쥬스강남점', '커피와쟁이', '더치앤빈신도림점', 'HotelDouce오뗄두스', '까페뀌에르', 'BANJO', '카페1997', '벤센느', 'DONCAFE', '투썸플레이스카페', '메가커피왕십리점', '파리크라상', '가가린철우사주카페', '마더앤도터', '한국커피문화진흥원', '엔제리너스커피영등포점', '저스투고', 'W카페', '카페라임', '킹콩쥬스&커피이대점', '사랑옵다', '서대문커피공장', 'Lindas', '스타벅스교대역점', '안다미로', '베리언스', '오슬로', 'JJY카페', '망고스틴', '오츠커피', '아자리아', '훈남', '바리스타카페', '말리', '커피빈코리아위례2차아이파크점', '종로교회커피', 'MMTH', '제이아', '우결사주카페', '스타벅스커피가산그레이트', '구스비어', '자바트래커', '굿앤굿커피', '커피야', '엘빈', '아이스바써브제로', '올댓커피', '만담', 'TheWitch', '커피셀러515', '골목길다방', '스마일머그커피', '쥬씨국사봉점', '아프리칸쵸이스카페', '사튀로스', '슈슈컵', '놀숲둔촌역점', '마미카롱&건대케이크', '폴스카페협동조합', '블리스커피', '메이린카페', '카페장쌤', '성산커피숍', '아티제올림픽공원점', '잠바주스', '카페봄이', '타베쟈', '카페서로', '로지커피', '소반', '마이미미다방', '산토리니의아침', '아르카디아커피컴퍼니', '블루펄호텔커피숍', '오설록티하우스명동점', '바움스타커피', '방탈출제로', '톡앤톡커피앤티', '메디칼드림', '로컬커피', '까페이삭', '소담까페', '베어', '마이도시카페', '카페탱크식스', 'Comportcoffee', '브람스', '커피라운지55', '마리몬드라운지', '모임센터', '가까운카페', '카페테리아스테이션', '호수', '설빙문화방송지점', '올라카페', '디초콜릿', '카페모인', '죠샌드위치', '제이엠커피', 'DODRIP', 'Twosomeplace', '에이미스커피', '엔피에스카페테리아카페삼십육점', '북스프레소', 'Breeze', '베이커스보이', '드링크박스', '슬러프커피', '모노치츠', '이디야역삼플래티넘', '로즈버드테그아웃', '행복카페하늘', '카페썬', '카페블라썸', '커피빈삼성역글라스타워뒷점', 'KCOFFEE', '투썸플레이스충정로역점', '카페글렌', '을지싸롱', '솔뱅대치점', '더봄', '비엔나커피하우스협동조합', '카페다', '넝쿨', 'CERULEANcoffee', '엘보르다도', '홍익고수보이차', '이디야커피전농뉴타운점', '호수다방', '얌얌브레드', '카페4M', '델리롱', '커피그리고', '카페리화인', '우리동네일등가양커피집', '두블르쥬', '투썸플레이스대한통운사옥', '리스트레또', '엘가커피', '주다르', '일커피', '히어이즈유어커피', '카페부라노', '페르에피스', '카페오주스', '맥카이하우스', '고양이다락방강남점', '해피콩', '매머드커피서일대점', '열매다방', '엠뷰티크', '이디야커피텐즈힐점', '어반앨리스', '커피랑쥬스랑', '그래버커피', '양카페', 'STORYCOFFEE', '언니카페', '더카페야THECAFEYA', '이디아커피', '카페엔젤', '스타벅스명동메트로', '토리커피', '커피에반하다행당점', '74번지커피하우스', '카페라파미', 'MMMGCAFE', '마노스커피', '더플레이트', 'Coffeetreeya', '헬리팜커피', '로코랩', 'TOBIAS커피', '마플리MAFLI', 'CUCINA', '은이네커피', '키오스크', '윌러스', '카페루치아', '글로와', '해성', 'HN카페', '나누미', '핏', '피치그레이', 'ediyacoffee', '넵타임커피', '연희커피', '블렌드13', '쥬스방', '커피니공릉테마공원', '도통사주카페', '달콤커피논현점', '페이퍼북', '타미하우스선릉점', '부머스', '오페뜨이수점', '로지카스터디카페', '키친5217', '스터디카페북킹', 'FUNCITY', '광개토관스카이레스토랑찬', '강동빈스토리', '라조', '라메종드플레', '커피베이정릉아리랑점', '목', 'CCAFE', '킹콩쥬스&커피', '또바기', '그라찌에스트라다', '글로보', '싸가지', '라운드브릭', 'CAFECO', '위드파오', 'Bean tree coffee', '에코커피', '까페보니또', 'Andgrey', '지금의세상', '이코복스커피삼성', '커피는사랑', '로비커피숍', '이디야커피세광교회점', '수분', '엠케이투', '카페자우랩', '모스트', '라운지카페', '공차신림역점', 'PICTURESTAY', '신세계과일쥬스베지테리안', '쥬씨가락점', '법향', '명인명촌마심', '카페베네고려대중앙광장점', '조샌드위치카페', '예향', '커피의기준', '폴바셋', 'IBeanCoffee', '쥬씨삼성중앙역점', '꽃', '초코비니', '보그너커피종암동점', '피움카페', '나이스데이', '동진커피', '정인카페로뎀', '홀릭앳홈', 'cafeHero', '커피프린스1호점&칵테일', '스무디킹중계롯데마트점', 'CafeJUN', '송스커피', '제이스', '커피만성신여대점', '할리스커피세종로점', 'POTTERSCOFFEE', '카페란스', '허니네카페', '카페위안', '닥터커피', '에이쓰리바우트커피', '더치앤빈스', '카페소소공방', '삼성웰스토리세스코카페', '커피나무랩', '우리동네커피집', '덥스텝비', '카페홍', '루앤비까페', '삼성테스코홈플러스월곡점포토', '자리자바', '빈스토리', '커피지애', '타임스퀘어', '츄잉쥬스양재점', '카페코스마이', '카페파스쿠찌', 'Mr,Breeze커피', '지베르니', '카페키이로', '베이커리카페데쏘', '츄로킹', '애논', '카페리쉐', '재미길', '이앤지커피', 'EPISODE85', '이디야커피삼성봉은사로점', '소프레소', '예일커피숍', '바르바커피', '카페코바', '플라이디어', 'lex', '모리나리까페', '다소다', '커피베스코', '에덴커피', 'SELECTO', 'ATTIORE커피나무', '디얼브라운', '카페메종드한', '커피나무방배역점', '명지대빽다방', '동작대교전망쉼터', '왓더독', '카페클로버', '카페에그쁘', '이디야커피연구소', '테디베어주롯데월드몰점', '타이티카페', '주모', 'SUDA커피전문점', 'CRACK', 'ARISTA', '슈퍼커피팩토리', '컵인더스튜디오', '카페마루', '마르하바', '노유민카페', 'M.R빈', '커피스위트', '카페에이치', '세븐스웨이브성균관대점', '커피앤스모킹', '맘스카페', '이디야커피마곡역점', '다르다', '포호커피', '요거프레소서울여대점', '블루나일트레이딩', '까페로마', '브런치업', '드롭탑', '바빈스커피문래점', '조엘커피', '커피지아카페1호점', '카페에이엠730', '군인공제회관카페', '빈스스토리', '수카페', '비엘에이커피', '더마실카페', '카페앤갤러리', '커피빈코리아트레이드타', '이디야커피봉천역점', '안다', '스타벅스커피마포염리', '비씨팔백', '머랭아뜰리에', '휠링', '커피테리어', '파리크라상파스쿠찌서', '모노키친', '떼루와가산', '그리다꿈강남구청역점', '요거프레소화곡푸르지오점', '스타벅스중구저동점', '벨루토커피숍', '이상한나라의엘리스', '엄지카페', '원팩토리커피', '서울통닭', '홀빈커피', '리루하', '까페콩', '오늘도좋은날', '큰나무', '카페봄날', '전통찻집이담', '디초콜릿커피앤드', '까페올리브+1', '드웰러스', '비자비카페', '블루노트', '커피그리기', '두렵지않은사랑라이브카페', '도토루커피오스', '더치앤빈', '훈스커피랩', 'JUSTGUINNESS', '서점카페책과삶', '브루잉웰', '오페라빈커피공방', '빠넷빠베', '메가커피.에이치비지니', 'RuLuLaRA', '새날스토리', '활짝핀', '유니버셜커피', '빈공간', '피스북스', '둔촌동카페', '구일', 'CU', '뉴달콤', '루앤비', '주얼리카페세림', '잠실빈스토리', '궁전', '엘리스토리커피볶는집', '마이북카페', '쥬씨방배역점', '영등포', '민들레영토장신대점', '카페라끌레', '선', '폼앤드후릇트리', '카페말로', '로저스타임', '스타벅스을지로입구', '티제이', '알로카시아인더테라스', '익스페리멘탈커피바', '카페타라', '가한', '카페공방해밀', '칼레오커피', '비츠앤바이츠', '스타벅스신천역점', '존화이트', '셀란세종문화회관', '루이스대디커피고야', '하비비', '헤리티지', '컨시어지커피', '도레도레', '스모킹카페', '콩카페', '커피솔브즈에브리띵', '엠엠티에이치055', '썸카페', '폴바셋롯데강남점', 'SICILY', '상록수커피숍', '까페모나티', '아르디카페방배지점', '제이커피', '썩커피', '리브스커피', '카페원웨이', '카페문화', '스타벅스압구정점', '카페호리', '톡카페', '카페죠꽁드', '뽕다방뽕커피', '아리스타커피강동구청점', '커피작업실CODEAZ', '새천년', '디에떼에스프레소명동점', '말리커피삼성로점', '커피커피', '투고커피', '이리온', '카페플라티', '고마', '에스프레소0039', '베키아에누보', '카페드까사', '할리스커피합정역점', '일마레', '쥬시동서울터미널점', '위치커피중랑망우점', '키스더티라미수신당R&D센터점', '프라시아커피', '휴카페', '스타벅스노원케이티점', '갤러리카페도야골', '산머리차방', 'DALDAL-HI', '테라스나인', '이라운지', '만쥬하나', '더즌', '삼성에버랜드검찰청웰스토리카페', '카페크롤링', 'Cafeair', '콩툰만화카페', '파이브센스', '설빙홍대점', '쥬씨도화점', '리얼메이드카페', '서울다방', '재쿠와커피콩나무', '꼬마BY블룸앤구떼', '코레일유통할리스', '남산테디베어갤러리', '커피내음', '곰발커피', '누아네', 'cafscoffee', '로모커피', '모어댄덕', '잇츠', '카페진', '슈니트매점', '폰앤카페', '카페런드리', '탐앤탐스송파위례점', '카페빈둥', '파나마', '라퓨타', '스타벅스송파위례점', '커피빈코리아서울대입구', '할리스커피광나루역점', 'MMTH커피', '꽃카페JE', '갤러리힐링카페', 'chefscafe', '토즈모임센터강남2호점', '수다방', '153커피앤해피', '고디바아모레타워', '코어커피', '쇼콜라', '스노우폭스플라워스', '달콤커피발산역점', '빅핑거', '펄세이플라워', '카페에스더커피', '구카페', '커피주전자', '마마스커피전문점', '쿠와', 'laac', '고양이다락방', '잉카', '콘크리트108', '강철개나리', 'FSAS', '엘쥬쥬디저트', 'COFFEEGAGE', '커피볶는여자', '청주오믈렛', '카페이트', '벨라빈스커피', '카페시프트', '나폴레옹키오스크', '카페코이', '그라나다', '음큼커피', '카페어린왕자', '더치앤빈황학', '코코마커피', 'CafeHUB', '카페마실', '씬커피전문점', '만쥬커피', '벨포스토', '카페숨', '지에스엘앤씨', '매머드커피', 'snack&coffee', '브레머', '굿모닝커피숍', '도피오커피', '폴바셋현대모터스튜디오서울점서울점', '라마노', '메종카페', '미피커피', '와플샵', '쉘터', '알토란', '경복궁버들마루', 'MERCIBONBON메르시봉봉', '퍼블리크라움점', '카페쁠레노', 'HOTELTHEARTIST', '다람쥐소나타', '더벤티숙대점', '바르도아이스크림', '엠엠티에이치095', '카카오썸', '커피빈건대스타시티점', '쥬씨서일대점', '기빙카페', '올코코', '망고차차', '카이저커피', '다쿠아라', '체리블러썸', '자바씨티코리아', '커피가좋아', '스타벅스가산디지털단지점', '쥬씨뚝섬역점', '더차', '스타벅스합정점', '빽다방구로디지털역점', '달콤스타', '승일푸드', '케롯', '토프레소태평로점', '카페베네거여역점', '브라운팩토리', '커피유', '스타벅스서교동사거리점', '삼화', '커피나무낙성대점', '산풀잎', '키미', '커피빈코리아양천향교역점', '2라운드', '들다방', '삼청각다원', 'JACKTTSBAR', '바스크', '소호디자인르미엘커피교', '오목눈이', '카페베네무교사거리점', '다트프린스', '롯데리아자바커피잠실교보', '카페다스티', '레브', '카페오로시', 'CafeSopia커피볶는집', '카페뮤', '프로방스', '커핀그루나루리미티드버티고', '북악관커피점', '오렌지빈', '만땅커피', '초우다방', '커피벨', '브리즈', 'ARAROASTERS', '더치스카페', '믹스앤베이크', '카페Moon', '마치래빗샐러드가로수길본점', '옥토끼더카페', '차밍커피숍', '명성인터내셔널던킨', '커피코트', '삼양푸드다이닝까페믹스엔', '커피십오일', '마당', '이디야커피광산사거리점', '마포다방', '뉘블랑쉬', '카페지밥삼청동점', '로직커피로스터스', '퍼즐카페', '호미빙', '몽쁘티', '러브수', '오초록', '와플대학미아사거리점', 'ISOMCOFFEE', '카페가가', '커피락', '카페레오', '청소년카페OHO', 'xoxo', '피자인카페', '퀸까페', '이화행복', '스튜디오27', '보나비아티제SBTM점', '아카데미카페', '카페루트나인서교점', '오드리헵번카페티엠', 'ANTCAFE', '프레즌트스퀘어커피', '카페마리오', '뒤뜰', '커피바이', '아라비카빈커피', '커피필그리마쥬', '본까스댈리카페', '커피하우스반달', '커피에반하다구로디지털단지점', '더치랩', '프레즐메이커', '에코로하스', '스터디카페나무앤', '카페로떼', '코와핀', 'Cafeumplate', '숲속카페', '미카페토', '하심', '카페스콘', '지비와이컨설팅', '필레오', '칠요일의케이크', '밍구케이크', '나', '커피5.1', '밀탑', '젠제로', '테이크아웃', '마일스톤커피로스터스', '에스카페', '밀키웨이', '맷차', '씨티즌커피', '대한체육회공제회팀코리아', '쥬씨압구정2호점', '커피앤우', '놀숲압구정역점', '파스쿠찌한강자이타워점', '우성커피숍', '커핀그루나루평창동점', '카페아마떼', '샤인커피숍', '빽다방역삼테헤란로점', '토크인커피', '희커피숍', '할리스에프앤비르네상스', '시드누아노원본점', '빌리엔젤', '강현지앤씨스무디킹홍', '프라우스타', '카페블릭', 'CAFE甫', '이디야커피봉천중앙점', '스타벅스대치은마사거리점', '카라', '블루노트커피', '더카페동작구청점', '안까페', '태평커피숍', '전통찻집', '커피샵', '카페하이몬드', '이디야커피도봉산역사점', '탐스커피앤푸드', '엔제리너스커피잠실롯데월드타워19F', 'melmelrefresh멜멜리프레쉬', '나비드', '머미', 'IQ84CHURROS', '로우커피스탠드', '나의작은카페', '란커피', '보틀살롱', '커피향깊은한옥', '크레이저커피', '캔모아플러스', '꿔다논커피자루', '카페비마이프렌드', '카페토다', '쥬씨종로종묘점', '파스쿠찌LG트윈타워점', '룸포커피', '주빈', '콩블랑제리', '배스킨라빈스불광', '커피앤', '트리커피', '우성', 'M플레이카페구의점', '아름다운가게아름다운커', '보나비아티제상암', '캐리키즈카페', '작업실', '구카페종로1점', '나인카페', '팬더', '초콜렛콘츄러스', '설화랑', '그린문', '감초다방', '엣모스피어', '커피나라매일유업', '앨빈커피', '수커피볶는집', '비쇼네', '드림베티', '카페코보스', '노원1', '갤러리나인티', '커피샤워', '빙달눈꽃빙수', '에이블스터디카페', '줄리스커피', '제노PC카페', '메리하하', '갓프레소', '바리스타마르코북성교회점', '카페파티오', '세븐일레븐', 'ABRI', '아마스빈행당점', '반지마을커플링반지만들기카페', '모데라토', '카페아쿠아', '리트웨이커피연구소', '희다방', '인투커피', '마룸', '아메리카노스', 'cafem', '타피올레', '헤븐', '비터스윗', 'caffeforesta카페포레스타', '라바짜', '더니커피', '루트커피숍', '문라이팅', '맨즈커피', '베러덴와플', '펭귄드링스커피', '커피볶는이야기두번째공간', '카페모로', '커피파인즈', '로나', 'HOUSECAFERESTAURANT', 'J&J로스팅샵', '샤론화원', '크린베네', '제이씨제이푸드', '에이스커피', '카페미뇽', '이디야커피마곡엠밸리점', '카페비엔에스', '2시의테이블by메종드꾸숑', '프롬하츠커피서울역센트럴', '동그림', 'CACAOCLOCK카카오클락', '모캄보', '쥬시생과일', '홍반장커피', '모나코플라워', '오색티카페', '구로구다문화북카페', '키즈카페디보랜드', '예그리나', '카페피렌체', '파스쿠찌서울대병원점', '오롯이', '투더디프런트', '새들깃든겨자나무', '핑크마운틴커피', '주스탐서소문점', '본푸드서비스조달청카페일마지오점', '플랜브이', 'Magnumseoul', '한울다방', '플러스타임카페', 'BUBBLETREE', '리엔제이', '와플앤커피타임', '쥬씨난곡점', '카페플래닝스쿨', '카페반할라', '시노', '써니주분', 'TBCAFE', '떼루와종로3가점', '맑은상회에프앤비', '후니드SK플래닛서울스퀘어카페점', '카페이브닝', '카스타운', '동건스', '한국우편사업진흥원카페', '대익보이차', '카페플로린', '카페801', '디저트카페골드맘', '커피베이불광점', '커피코트문정테라타워1점', '달콤달달', '리네아의가게', '할리스커피굽은다리점', '그린클라우드커피', '카페라유', '커피마루', '홈스테드', '싸가지삼촌', '공사', '메종드허밍', '맛남다방', '한누리', 'ave커피', '다락방고양이', '사다리커피', '효다방', '코히', '가마빈', '디딤돌2018', '다빈치커피', '바빈스커피', '878coffee', '천사애견카페', '후아나', '모퉁2', '더착한커피서울시청점', '카페알베로', '카페다미', '영자클럽club석관점', '헬로우커피', '공차중앙대점', '세컨드페이지', '요거프레소응암역점', '제뉴어리피크닉', '카페하이유', '간단하지만특별한화피디Cafe오아시아동부여성발전센터점', '케이비피', '우희다방', '팜코트', '위너커피', '빈스밀', '몽마르뜨언덕위은하수다방', '커피한약방', '독일카페', '투썸플레이스강남역중앙점', '공간도시', '맘마미아파이', '커피가좋아3S', '커피미업', '카페무스토', '할리스커피청계1가점', '카페더블유', '카페통인', '문화공간북악하늘', '부암동언니네', '일리', '투썸플레이스서대문KT&G타', '요그릭', '커피커넥션', '식스뷰리팁스', '카페빅스케일', '길다방', '은성커피', '카페소피,콕스앤드탭스', '에블린', '토노토커피와인', '아로이커피', '카페427', '화이트엔젤', '슈퍼문', '할리스커피북가좌점', '체리블리', '로즈버드고려대점', '웨이즈오브씽', '왕실', 'WhatsCoffee', '플레이그라운드', '커피아이덴티티', '카페봉', '하품', '스타벅스압구정로데오역', '망원,그커피', '복인당', '디촐콜릿커피앤드상암YTN점', '제니스카페', '런카페', '카페라몬', '커피스테이지', '비에스마르첼로삼성점', '친절한성진씨', '탐앤탐스수유역점', '마이카페위드티에이블', '엠카페', '제이쓰리글로벌', '아름다운꽃', '디오델커피', '할리스커피노원문화의거리점', '코코브루리', '다미가한방카페', '만모커피', '자작나무이야기', '커피베이강남역삼점', '커피의신', '산도이치&커피', '주스앤', '크리미티', '꽃뜨락', '어투썸플레이스', '커피디지독바위점', '메이드인카페런던', '낯선카페', '커피해밀', '카페시모', '바리스타마르코엔아르케점', '까패앳코너', '아이앤맘영어카페', 'Swich카페', 'BORDADO', '지올리띠강남직영점', '카페에스투', '예하카페', '커피몽크', '카페까사', '까페렐리', '브레쉬에비뉴', '테디베어주', '도토루커피숍수유지점', '허문담', '바우', '카페엠플러스', '아이씨지', '스노우무무', '커피베이강서힐스테이트', '카페팔롬바니', '이디야커피논골사거리점', '할리스커피문정테라타워점', '마시그레이', '킹스빈커피', '프렌치밀크티', '졸리앗커피', '골드바틀센터플레이스점', '허밍벨라', '썬휴게실', '2카페', '노는카페자리', '콩아의카페공간', '덤스', '빽다방구로시장점', '유후와친구들', '허바허바', '카페별달밤', '레이지마마스파이', 'cafeASILL', '트리밍807', '이오의아침', '베르타플라워&카페', 'onechu', '티티까페', '고티카페', '카페시크릿가든', '투썸강서', '카페더크레마', '빙설헌', '블랙앤트리', '경찰청복지관', '엔237카페앤베이커리', '아케랩', '푸른달', 'jangel', '달콤한카페', '빈스브루', 'WonderBuilder', 'SECRETCOFFEELAB', '커피빈코리아올림픽공원북', '베스킨라빈스', '펠리체가토', '커피브릿지', '커피아로마', 'cafeEIGHT.TON', '쥬씨양천향교역점', '스타벅스성신여대정문', '코지카페', '더내츄럴카페', '심포니커피숍', '디핀커피', '호야커피로스터스', '투썸플레이스숭실대점', '아티굿띵', '윈디', '헬로티강남', '스윗윤', '공차고대안암병원점', '컬러리빙', '소셜카페', '케이팟커피', '제이에스커피랩', '카페랠리', '카페오븐', '바리스타마르코공간', '봄', '민트프랜트', '핀치카페', '하므케이크', '이디야커피한강공원로점', '그럼피커피', '편한커피', '신사장', '빈스브라운', '몽슈슈도지마롤', '슈거링', '카페OL', '토프레소연신', '커피깡패연구소', 'X·D팩토리', '눈꽃마녀', '장로회신학대학교그라찌에소양주기철기념관점', '죠스샌드위치앤커피', '카페엔스토어이끌리오', '달콤커피위례중앙푸르지오점', '바나나유', '까페T43', '르땅커피점', '엔제리너스커피사당역점', '그리다꿈', '쥬씨독산역점', '코리아나호텔캐터링지점법', '카페흰돌&U주스', '아임커피', '카페하나비', 'COFFeeNchu', '캥스커피집', '카페루엔비', '홉슈크림', '구름정원커피집', '카페디토리노', '퍼블릭캠프', '공방163', '블랙빈', '홈데코아티제', '이디애', '카페POC', 'PaPaCoffee', '라에스키모코엑스점', '따호카스테라', '스타벅스커피강남대로신사', '스타벅스커피신도림디큐브시티B2', '카페에스크', '베리머치', '부암야생화카페', '카페코튼', '카페비움', 'ATwosomPlace', '커피빈코리아홍대주차장길', '마이더스', '헤븐카페', '셀그린농산킹콩쥬스엔커피', '카페131', '커피언리미티드', '카페푸릇', '바글', '카페그림과꽃', '까페띠아모', '보드게임카페클루', '오떼르카페', '키나카페', '수수가든카페', '후레쉬주스', '헤븐리가든', '커피빈', '주택커피', '도봉주르', '왕다방', '유아마니아', '공간PC방', '신양커피', '마빈스커피', '행복공장', '카페드람브로종로점', '코스모스커피볶는집', '미선이BAR', '제이씨엑스커피', '경동다방', '커피앤북스', '커피집', '원스메이', '리쇼드남서울점', '엘림', '착한커피구로디지털역점', '카페뉴트리', '문정카페', '카페아이스베리', '데일리', '이즘', '퍼블리크LF동관점', '르카페디스', 'Cafedomodirvine', 'CAFE-in', '일육커피', '마이쥬카페', '커피카포', '앙코코', '아이엠.카페아이', '타미하우스커피', '커피가', '카페H', '수', '거북이의기적', '군산카페', '라보이떼', '웰유카페', '10꼬르소꼬모카페', '실로암커피숍', '따거', '호프브로이하우스', '카페아임', '칠이까페', '섬만화카페', '콩깍지', '카페인터뷰', 'FIDES', '굿푸드앤카페', '그린웨이브', '할리스대림역점', 'VOGUM', '희와래커피로스터스', '보그너커피응봉동점', '한스커피', '탑카페', '이디아커피세종대', '타로카페드뷔시산장', '9DCAFE', '라운지', '후식상봉직영점', '컷팅엣지+', '부에노커피로스팅', '행복한타로사주', '툰앤존', '커피앤키', '래포커피', '토프레소방학역점', '로미오아저씨커피', '토굽스커피', '한나식빵', '언노운커피', '토끼와거북이', '커피향', '에이유', '인디커피푸드트럭', '까페호', '까페274', '카페크레아팜', '이랜드파크외식', '카페골목', '폴바셋강남구청역점', '징검다리북까페', '카페주주', '만랩커피문정', '허니스트', '100코코넛카페', '카페블록', '코에보컬쳐앤카페', '커피식스도봉역점', '카페피베리', '크레이지초코', '골든라이언', '폴바셋신세계본점', '몽탄이네M&THOUSE엠엔티하우스', '카페원더', 'cafe74℉', '스터디나우한티역점', '할리스커피강남역점', '달콤커피삼성점', '커피노마드', '카페씨드니', 'CAFEBOM카페봄', '리시오', '몽키바나나', '주시브로스GFC점', 'EDIYACOFFEE', 'CAFEMIE', 'Wecafe', '에버피씨카페', '탐앤탐스트레블', '베이크스토리', '킹콩쥬스', '리히트', '오미커피', '고릴라유아체육카페', '코너빈', '카페미니', '오가다롯데마트중계점', '라온커피숍', '띠아모이대점', '카페보다', '레빵뺑', '탬버린즈신사점', 'B', '페라', '이디야커피중곡대원점', '예다원', '치즈케이크', '일리커피데이콤점701704', '아띠제이', '라잇미', '배스킨라빈스', '그라제난닥스', '러브낚시카페', '스타벅스커피신도림디큐브시티2F', '커피교습소', '아트큐브', '커피빈코리아대치포스코', '로', '클라우드9', '영상다방황금단추', '카페콤마', '버터핑거팬케이크', 'EPICCOFFEE', '더카페월곡2호점', '스타', '커피앤소울', '제일전통찻집및커피', '프리미엄커피', '잉겔스', '사주카페리', '여우뜰에는', '피데스', '프롬나드', '서울올림픽파크텔커피숍', '프리미엄에스프레소', 'YEOGIYA커피', '카페라떼르', '55커피로스터스', '지스바이', '네스카페베르누이호텔오류동점', '코코모', '카페빈스트', '길숲', '토토카페', '디오즈캣', '몬트', '델리', '호까이도밀크팩토리', '도눔데오엑스커피', '센티모르대치점', '모리티아', '빽다방잠실장미상가', '카페트리니티', '카페마나갤러리', '몰리스펫샵', '엔젤인어스커피숍', '바움', '로스푼티노', '서교동모형다방', '아델로가든', '라온MultiCafeteria', '커피갤러리', '투썸플레이스신촌점', '까페자스민', '카페드세라', '릴리움', '카페사켈라', 'MSCCOFFEE', '커피아마토르', '빈스앤베리즈갤러리아포레점', '준스빈', '케틀커피', '민스빈', '커피마마예술의전당우리집', '사이드테이블', '더프레쉬', '엠케이커피', '메론커피', '카페아미치', '카페래', 'T.HILL14ST', '미제', '옥다방', '셀렉토커피성수하이엔드점', '아리따움', '혜성', '사랑방', '안다미료', '시즈더데이seizetheday', '래빗스디저트카페', '와우카페', '언더커피', '당근카페', 'LaundryProject', '한남대교전망쉼터', '꼬꼬마', '림스커피혜화', '숨&쉼coffee', '봉봉cafe', '카페도쎄', '모닝모닝', '씨제이푸드빌', 'Lafuma북한산점', '쥬씨신목중점', '아띠오레', '스탠스커피', '골든라티오', '로타리커피숍', '겟잇커피', '건대포토카페프린세스', '붐베이직', '카페자스', '이유콜렉션', '프라하', '까페오블리끄', '이리카페', '브라운카페', '앳더블랑', '프라이데이무브먼트', '셀렉토커피마포구청점', '단비', '나비', '이디야커피신림남부초교점', '화이트카멜레온', '바리스타하우스', '인테리어디자인수다', '미스터브리즈커피아현점', '동양다방', '이디야커피전문점', 'coffee13oz', '밀알카페', '뉴서울', '떼루와떼루와자양2호점', '탐앤탐스화랑대점', '민영', '나무아래', '엘에이보바커피전문점', '샵coffee', '커피팜', '지오북카페', '삼성OK공인중개사사무소', '커피투고', 'MANGOIXACADEMY', '커피쟁이', '커피베이', '신일다방', 'PASU', '카페솔져', '개러지커피', '카페402', '동원홈푸드서울고등검찰청샌드프레소', '본솔커피연희점', '커플', '스트라다로스터스', '커피빈코리아CBTL서울', '비가톤코리아압구정볶는커', '슬로우스텝', '투썸플레이스압구정51케이', '카페루카코리아', '엘에스씨푸드', '카페라떼', '학다방', '악스카페테리아', '투썸플레이스광화문', '카페준', '커피식스쥬스식스', '부두아', '화성다도', '브이알스퀘어', '브레댄코', '카페마마스', '우진커피숍', '온뜨레', '투썸', '더타르트', '감나무아래', '카페본주르', '슈퍼커피마포점', '도이창', '코르소코모카페', '압구정볶는커피강남터미널점', '기빙트리', '하이디하우스', '쥬씨경복궁역점', '젤라리소', '카페멜로우', '슬리퍼456', '스타벅스역삼역점', '시퀀스커피', '거기coffee', '델리바이쉐라톤', '카페범CAFEBEOM', '경봉다방', '맛샘커피농장', '카페블라섬', '삼청동커피', '퓨', '연희카페', '맥켄지', '카멜롯', '힐링카페에코맘', '공차홈플러스영등포점', '이네카페', '연미', 'RJPOT', '카페디키미', '한여름밤의꿀계동점', '쥬시버블낙엽점', 'B.ratio', '벨벳문', '카페샌드앤푸드', '카페휴', '아리스타커피마포2호점', '36.5도여름동쪽점', '이니빈', '무진장', '슬로시티', 'Mea:l', 'Tobean', '잠바주스한남더힐', '동아다방', '메가커피수색자이', '이디야역삼역', '그린고메', '깍지다방', '빽다방을지로입구역점', '비비앤줄리', '세븐몽키즈', '플러스카페종로노인종합복지관', '더느림까페', '보물창고', '다라온', '앤마리플라워', 'cafe이레', '미스터힐링', '스타벅스이수역점', '삼청', '카페24창업센터보라매점', 'UBLOSSOM', '55커피', '레전드PC카페', '노을카페', '버블톡', '원펀치쓰리강냉이', '카페라비다', '팬', '에데니스', '블루하임', 'Petfriendlycafe', '카페코지', '애플트리', '점보카페', '카페몽타주', '카페홀썸', '카페더블링', '야고비네', '플리트비체', '에브리데이챠', '힐링앳티파니스', '커피웰', '디쉬룸바이도레도레', '아로마틱커피브루어스', '통인동커피공방신촌로스팅라이브러리', '수하루', '오스커피', '투론', '힐탑키즈카페', '혜진스커피', 'CACAOBEAN', '메이슨드기기합정교보문고점', '카페가인', '카페올리브', '이안', '이씨씨스무디킹', '주커피고척점', '커피마리오', '커피마마신공덕점', '스타벅스충정타워', '열정공장', '아침디자인그룹삼삼오오커피공작소', '이디야삼성', '카페노킹온', 'BOCCAZONE', '에이블힐', '공차교대점', '빈티지204', '카페감', '인덱스카라멜', '티카페', '바리스타마르코스토피아점', '크라스플러스독서실', 'BOY사주카페', '커피앤샌드', '프랜즈디자인', '꼬르소산도', '백미당현대천호점', '브레들리', 'TheRedCOFFEE', '해피커피', '미스터카페', '쥬스스타방학역점', '홍카페', '엠즈씨드폴바셋이대점', '까페일루시온', '대한불교조계종유지재단템플스테이지점', '커피할루카', '궁전커피숍', '탐앤탐스3호', '카페서드에비뉴', '더카페하임즈', '투썸플레이스쌍문역점', '티라레미수', '20스페이스', '마고카페', '793플라워팩토리', '슈퍼커피종로점', '카페세컨드홈', '메핏커피숍', '러브커피', '떼루와우면2호점', '리베흐떼', '메고지고', '동작노을카페', '목타르트레이딩', '팩토리카페', '카페in중독', '까페데미타스', '피나포어25', '써니사이드커피', '스트렝스커피', '지유명차종로점', '갤러리카페', '알카페', '주니시스블라썸', '빈스코리아', '아프리카스퀘어', '꿀단지디저트', '커피드슈', '펠어커피초코강남', '커피봄봄', 'KOPITREE', '매머드익스프레스건대역점', '모모랑', '고종의뜰굼터/더듀얼로스터즈', '카야커피랩CHAYAHcoffeelab', '반스커피', '쿠드커피', '호호당홍콩빵태국커피', '루마앤차사랑카페', '팩토리커피', '어반커피', '까메오', '카페514', '에이그레이트카페', '봉플라워케익공방', '커피토스피아하월곡점', 'cafehill', '빌리엔젤신촌', '슈퍼커피신도림푸르지오점', '카페욜로', 'M카페', '아스팔트커피로스터스', '벨가', '토프레소', '카페져스트', '오너스', '아웃트로', '커피기술', '끼니와끼니', '로즈버드렌탈서비스', '몬토하베', '카페바운스', '미스터브리즈커피', '라떼처럼', '쌍문동맥주다방', '더와플', 'ARTMAJOR', '카페아쉐르', '스타벅스상암DMC센트럴몰점', '쿠키보이커피걸', '카페개네', '장동민의옹피씨', '아자부', '꿀다방', '아시카페', 'LOTTYSCAFE', 'CAFET', '옷다방', '호반', '7080라이브이락', '피디스', '빽다방망원시장점', '엠케이에스행복제작소', '카페꿈틀', '커피중심', '옷다방델리아', '야쿤커피앤토스트', '카페정색', '콩두', '파니니카페', '산도', '랑상텐', '칸', '커피볶는고양이', '빅밤', '서현플라워&카페', '자상한시간', '나드리커피숍', 'SELECTOCOFFEE', '라이스&카페씨', '은혜커피숍', '로얄호스트', '절묘한커피', '공주의향기나는카페', '커피플라이', '림벅와플북촌점', '러츠', '달콤커피범산구로디지털단지점', '까페골든컵올림픽공원점', '런던티', '더주스박스', '새싹까페', '공상카페삼성점', '143그린라인커피로스터스', '반지캠퍼스카페', '아티제상일GEC점', '카리부커피', '해브언아이스데이', '익스트림커피', '카사빈', '아름다운세상(쉴만한물가)', '카페고릴라', 'BOXCOFFEE박스커피', '커피베이서울의료원점', 'Myven마이븐', '투썸플레이스파인애비뉴점', '커피와이', 'OFete', '카페아이스빈', '카페노이', '소울푸드', '까눌레드꼬레', '마음', '카페엘림', '커피스미스석촌호수점', 'MAFIACOFFEE', '남', '터치카페', '카페촉', '끼리끼리', '커피빈코리아뉴교보타워옆', '카페도라토', '카페사부작', '커피운', '히포커피서울대점', '네아이가먹는강정', '현이커피숍', '라퓨마보드게임', 'VONDOM', '오프셋커피', '로스팅포인트', '원효로커피', '까페덴', '타피오스커피브루어', '루트세븐틴', '카페작은나무', '화이트카멜레온카페', '카페소피', '커피컴', 'espero', '모눈', '카페비전', '스타벅스건국클래식점', '플로잉원', '스윗블랙', '루소커피랩학원', '웨이타미하우스', '쉬헤즈커피', '리틀파파포', '공차구로디지털2호점', '카페미엘', '커피나무', '작은커피집', '커핀그루나루', '오커피', '주커피', '녹스커피숍', 'Dalkommcoffee', '그린머그', '보나비아티제대신파이낸스센터점', '팡또아', '카페포유', '우종호커피', '썸띵에스프레소', 'PALCOFFEE', '공쌤커피', '코코무드', '스카이라인', '애플블러썸커피', '초코츄츄', 'COFFEEDECO', '열두시이십분', 'US', '카사란', '카페,델리아티제파티세리', '10카페', '커피명가', 'BLACKPEARL', '익동다방', '팀베리', '일커피앤띵', '잡카페피플', '올리브', '브리즈피씨카페', '라운지93', '코리아에스프레소', '정만빙수', '에스프레소진', '에아미스커피', '프린세스다이어리', '원기산삼다시스2', '카페토도르', '카페마마', '소마커피', '망고식스강남롯데', '커피베이동서울터미널', '함께커피팜투컵', '설빙약수역점', '제이', '스타벅스세종로점', '보드카페오즈', '커피노키오', '셀렉토커피개봉동점', '과일다방', '라로즈플라워커피', '커피인칼라세븐', '갓구운커피7', '오가다안국점', '빅', '커피볶는곰', '카페원두마크CAFEWON', '사원카페', '루나모디카', '그루', '달콩', '커피,생각날때', 'CAFEIMT', '엣홈', '오픈카페', '반지다방', '프레소커피디자이너마천점', '이리야에스프레소커피', '커피에반하다중계점', '카페잼잼', '크레마도르', '타로카페', '알엔비스커피', '카페메이빈', '월드컵공원별자리카페테리아', '하정빈스토리', '아이엔씨풀서비스', '피어커피로스터스', '커피빈코리아신사점', '커피볶는집시다모', '에스쁘아커피', 'AcKiss', '아르봉봉', '모나미커피', '고스트커피', '콥스', '쿠벅커피', '메그리즈', '나무의시간', '카페띠아모제기점', '모카향', '바른차생활', '위치스커피', '제이스커피나', '커피양탄국', '퓨엘앳센티넬IFC', '에이미스커피코리아', '방실방실이', 'MOONCAFE', '쥬스식스커피식스', '보헤미안박이추커피공장', '우쥬라이크카페', '크라운커피', '올리버스윗', '알레투어앤카페', '카페BRANDSSU', '하야로비커피숍', '메가엠지씨커피금천롯데캐슬', '커피체리', '핸디커피', '송화의카페', '카페루이스테이블석촌점', 'MONSTERSCAFE', 'JEJUICE', '카페필림밸런스', '수목티', '파스쿠찌선릉이노센스점', '캔디델리노래방', '카페마메', '마마쥬스중계점', '판게아', '원효로COFFEE', '쥬씨한신대교차로점', '에띠임프리미엄라운지', '에고트립', '쉐어드테이블', '25프로', '갈마루', '보그너커피신금호동점', '섬씽엘스', '카페아폴로', 'PaulBassett', 'Asar로스터리카페', '김종영미술관카페', '스모킹카페신림점', '쥬트커피숍', '카페아파시아나또', '빽스커피', '카페더라온', '디저트39군자역점', '더블하모니', '54계단커피', '스타벅스청계산입구역점', '커피홀릭강정', '디스커버커피남산', '톤즈커피Tonzcoffee', '살레시오수녀회카페마인', '아이닛시/공차시', '모도리', '스타벅스중랑역점', '한입원바이트', '카페오르막', '스테이지', '스타벅스청담사거리점', '풀하우스', '제프리카벤디쉬카페', '티지이카페', '엠앤디', '내까페', '애견까페', '쥬씨문정엠스테이트점', '공차양재본점', 'J카페', '키다방', '반지대학', '마앤나', '스타벅스방화DT', '엘림카페&스낵쉼터', 'GENERUSCOFFEE', '해누리카페', '폴바셋롯데본점', '율리아청', '이마트24시논현진성점', '차오름', '비욘드커피', '커피소사이어티', '팔공티', '청소년카페마니또', 'Surp', '지에스25명일중앙', '위드커피', '투썸플레이스골든서울호텔점', 'TUTTOOK', '우리애그린', '소소한즐거음', '헤세드커피공방', '맨인블랙', '스타벅스충정타워점', '부부커피', 'CAFE가끔', '수커피숍', '카페루앤비화곡점', '3pop', 'one멀티커피', '에코하우스커피기프트', '카페2977', '스페이스PC까페', '투썸플레이스콜드스톤크리머리반포래미안퍼스', '천호977', '프레쉬컵', '봄보다,너', '카페50', '앙마떡뽀끼&카페빅', '두잉나띵DOINGNOTHING', '콩스커피', '매뉴팩트커피', '종로커피집', '카페지니', '차이카페', '오얏꽃', '바른찻집그리고바른맥주집', '반지앤디저트카페', '커피앤버블', '스타벅스잠실점', '쥬씨녹번역점', '모란', 'CAFEYBEANS카페와이빈스', '이웃집바리스타', '뉴욕다방', '이디아커피합정엘아이지점', '히읗', '스타벅스가락시장역점', '나무네요프롤아트커피', 'GOURMETdeCOFFEE', '포레포레', '카페에스토', '부띠끄호텔엑스와이엠', '헝그리덩키', '카페아리에따', '오하이오옥수', '커피콩콩', '어반팟', '밀크공방', '호밀밭의호두꾼합정점', '프라빈커피앤데일리브레드', '셀렉토', '미스터패니', '카페오호', '스타벅스방배카페입구', '베네브바이오랩', '느티나무', '퍼스트클래스', '커피하우저', '카페에스비', '카페10PM', '미즈컨테이너', '스타벅스선정릉역점', '시나몬', '꾸아', '마노핀익스프레스압구정역점', '커피힐스', '카페123길', '마이스터디카페', '카페디자인', '더피아노', 'cafe에스프레소', '하루샐러드', '카페라리목동점', 'BREAKFAST', '스타벅스외대정문점', '기술자들커피랩', '삼성웰스토리고려대신의학관Coffee&', '뚜르비옹', '플라워커피', '다뉴브', '그레트힐란', '이디야커피선정릉역점', '카페10THAVE', '블루포토케이씨대학교점', '디앤비', '체크페이먼트', '블루웨일', '삼천리커피', '톡앤티', '매머드커피잠실루터회관점', 'enter', '삼도커피숍', '5500012Caffe', '셜록홈즈잠실점', '나이브', '에셀나무', '블루', '쥬시상명대점', '주연다방', '힐링카페심신프리', '에뚜디아', '스타벅스명동입구점', '배오개', '다니엘커피숍', '소딜리셔스카페', '클로리스티앤커피', '위드비', '라우렐', '수애뇨339', '이디야IBK고객센터', '고푸다', '파치먼트', '카페다임', 'Quilterscoffee커피를누비다', '커피가맛있는집', '스타벅스연세백양로점', '과일파는덕이언니', '카페비플러스', '태양커피숍', '장수부띠끄', '무민앤미', 'JOESBASCKET', '에이블커피', '도노커피', '커피브리스톳', '카페도즈', '이트앤토크', '더스테이크카페', '쥬씨사당역점', 'CAFE,The1stCare카페,더퍼스트케어', '빽다방종암사거리점', '고디바눈스퀘어', '네임리스', '낭', '통툰만화까페', '보까', '오블리비아테', 'DreamHouse', '커피더주다', '카페이마', '달프루토역삼점', '에어건빵건대점', '청담음', '카페반디앤루니스', '가노커피코리아', '삼호커피숍', '카페동선', '공방', '24시프리카페신림점', '코코라', '옐로우트리', '커피델라', '베뉴지커피숍', '후르츠판다', '이스팀', '안젤루스플라워', '훗닭피자카페', '세라&로스터리카페', '코레일유통공차코리아', '어린농부딸기가좋아타임스', '카페어느날', '라이브홀리데이7080', '씨즈앤베리', '제이콥스레더', '선아커피', '커피닙스', '아쎄두', '떼오도르', '연꽃커피숍', '캣츠커피', '대림창고', '언더그라운드', '고로케데이', '커피더캠프서소문점', '더마하', '카페보자르', '더카페마룬에프청담', '마더스커피', '커피하우스페이지원', '반달곰', '다린갤러리', '커피나눔', '마소커피', '이층까페', '오봉팽', '카페가든', '더투웰브그로우', 'LemonMeringue', '이디야커피용두점', '파리다방', '라마레따', '카페긴고랑길', '덤', '카페비긴', '사랑나눔카페', '도이창카페은평', '네이밍카페커피고', '정간', '공차어린이대공원역점', '베리베리', '한국보바랜드커피', '담아', '아라비카클럽', '커피베이용두점', 'Cafedecen', '커피빈코리아강남역랭기지', '그라찌에', '앤트스텔라', '모찌이야기', '스타벅스조선호텔후문', '카페히릿', '95도CCOFFEE&생과일쥬스', '식빵은여기메가커피', '커피엔샐러드', '카페라파스', '동백양과점', '카페라또', '아띠랑스', '커피폴', 'CJ투썸플레이스', '코스트코코리아아이스크림스무디코너', '카페앤블라썸', 'BNHRCOFFEE', '카페우리다', '투썸플레이스중계은행사거리점', '사진창고', '카페블라블라', '그래스하퍼인터내셔널', '동네카페하하하', '자작나무카페', '커피스튜디오팍종이', '제네카페', '24.7카페', '오설록', '스노잉', '디저트올마이티', '피플', '카페노냥', 'AND', '카페숲', '종로다방', '커피스마일', '도도리다방', '우리동네라운지', '비젼카페', '티오티', '생각나니', '피터패트', '걸리버여행기', '아메리카노커피', '쥬씨오류동역점', '투썸플레이스공덕헤링턴스퀘어점', '손끝세상', '카페드브리쉘', '요거프레소', '쥬씨강남구청역점', '카페비즈', '쥬씨현대시장점', '더공드리', 'HILLSCOFFEE', '과수원길에피는꽃', '달콤커피신대방점', '헬로카페에듀', '허슬블렌딩', '끽다거', '더연카페', '삼단변신신미쓰흥', '홈앤라이프부동산카페', '모아아트', '갸또마마', '디아트', '앙상블커피', '메드커피', '더느린카페', '스타벅스여의도점', '153스터디카페', '사내카페푸른수목원가든카페', 'MOMOIRO', '달커피하우스', '탐앤탐스온수역점', '엔터브이알', '퀸즈커피', 'Q카페', '기린다방', '카페루앤비', '띠아모둔촌점', '자연드림건강드림', '죠샌드위치와커피', '지파시', '티티카카', '띵크커피압구정점', '에떼라이브카페', '커피스미스군자', '씨제이푸드빌콜드스톤크리', '9카페', '카페베네서울대역점', '커피더캠프', '가스펠', '드립앤더치', '모베러블루스', '로이즈', '아카펠라', '에잇플러스', '그린잎카페두레대치점', '카페보스', '커피빈코리아선릉로93길점', 'Reve', '커피콤마', '카페다커피', '셜록홈즈신림점', '버블티킹신촌점', 'REYNARD', '티드빗', '카페고다', '이송카페포차', '토마토', 'METASTUDYCENTER', '주스솔루션', '엔티나카페', '커피향창고', '에스메랄다', '바닐라베리', '키즈카페어린왕자', '카페아모르', '투썸플레이스압구정로데오역점', '브라보커피', '주미', '돌리팝', '조은쥬스앤밀크티', 'MINOSCOFFEECULT미노스커피', '커피안', '플로라떼', '김종욱커피', '베브릿지', '조니뎁스럽게', '모노치즈', '요거프레소보문동점', '허니빙수', '숏컷익스프레스', '도쿄빙수익선동', '쥬비스플라워', '이디야에스프레소', '곰달래커피맥주', '카페91플러스', '빙빙', '봉숙이네커피볶는집', '수제모찌', '양지커피전통한방차', '남양유업양천2분유커피전문점', '디카페아날로그', '작은콩', '마로니에커피앤와플', '카포라보로', '참빛카페', '롯지', '카페엔', '더테라스다화', '르푸', '카페선데이런드리', '어드림오브시드', '손수다', '달달해', '플라워앤티크', '준스와플', '유아히어명동본점', '더벤티삼성점', '카페더루쓰', '파르나스코엑스카페', '낭띠', '트루비커피', '커피정원', '로내펠트티하우스', '디초콜릿커피앤드남영점', '스타벅스목동점', '세컨더리', '요거프레스', '카페엘리스라운지', '썰쓰티', '커피코트구로e스페이스점', '플젠24', '할리스커피신정네거리역점', 'Itscoffee', '커피인트로', '할리스커피불광역', 'HERESURCOFFEE', '까페미루나무', '보드게임', '빈볼', '카페까망', '타이니팀벌스', '메종르베이지', '아브라소', '사뜨바', '라떼야', '카페케이', '스타벅스종로평창', '커피정거장', '투썸플레이스서울대입구역점', '빽다방명일역점', '형광커피', '파워플랜트디저트', 'CATEGORYA고양이카페', '코나카페', '달달한오후', '커피마시는사람들', '뉴욕택시디저트', '사사', '케미스트리비트윈어스', '에쉬본', '오다가다', '카미노커피로스터스', '커피볶는미스킴', '커피식스쥬스식스천호역점', '메르시투데이', '704에비뉴', '카페슈몽', '인공위성', '카페M', '말리커피이태원점말리씨앤', 'Cafe79Rang친구랑', '바리스타마르코마곡엠벨리점', '랑데부', 'MILL', '베이글카페', '원모어바이트', '백호만신당', '빽다방노원역북부점', 'TRUECOFFEE', 'CAFEW', '가네샤사주카페', '한강', '커피Ghouse', '들꽃카페', '서울서부범죄피해자지원센터사업', '만화카페툰', '모히또바인오션', '소정공방', '카흐베하네', '긱스커피', '컴온', '빽다방-목동사거리점', '플라워카페에일린', '스위밍풀', '티라레미수강남아이파크타워점', '토프레소신설동점', '쓰임', 'Malacca', '힐링카페오', '카페위', '우리마포시니어클럽', '레즐리컵LESELYCUP', '제이커피하우스', '김주삼커피로스터스', '스타벅스가산디지털단지역점', '카페바우', '모스트커피', '제2북카페', '위카페', '카페분나마프라트', '루네쌍스다방', '커피디셈버', 'CAFEFLOFFEE', '차타임강남점', '콩스', '커피잔속에테르', '어슬렁정거장', '보이차사랑방', '카페클럽', '카페나무', '업타운카페세브란스병원점', '샵1129-1커피', '나무', '포비베이직', '커피랑', '라온', '카페지붕아래', '만다그레커피2', '호수커피', 'TODAYCAFE', '올리브나무', '이화다방', '더치앤빈공덕역점', '카페이니그마', '바리스타마르코영등포경찰서점', '커피메디컬팀', '카페책속의한줄', '만남', '나리당', '커피리퍼블릭', '장일커피숍', '라무어Lamour', '효이다방', '커피를만드는사람들', '조은카페', '커피휴', '커피썸', '한독', '조나골드B', '비타민', '빠리스타에스프레소', '스카이보드', '코레일유통할리스커피', '애견카페바우하우스', '언노운커피7', '빈스바네스청량리점', '아우트커피', '다락방', '플랫', '카페제피러스', 'LOCK&LOCKPLUS', '홍다방', '카페더블루스', '할리스커피남부터미널', '로도덴드론', '만리헬스카페', '맘스빈', '아이크스커피THEGARD', '카페로얄', '호디박스가락점', '샌드위치카페테리아', '마노리치', '메가커피홍대입구역점', '부티커리미엘르', '스타벅스새문안로점', 'CafeS', '커피101', '지혜의공간', '눈꽃마녀동대문점', '카페벗티', '카페디모멘토', '쉬즈리빙갤러리까페', '타르타르송파점', 'CONERBE코너비종로점', '매머드익스프레스외대점', '비스트플래닛', '피초코', '커픽처스', '용호야채곱창', '떼루와떼루와자양3호점', 'WL맥주커피', '올핸즈투게더', '커피코트용산아스테리움점', '한강아라', '원추', '초록달', '월든커피', '우주라이크커피', '더체어', '에쏘드립', '프라넬', '수아베', '스피티', '카페알레', '토즈모임센터건대점', '쉼힐링카페', '견블리', '카페스토리', '호두파이이야기', '쿠보커피', '투썸플레이스대학로씨지브이', '아티제송파아이파크점', '커피중독', '라미으리커피볶는집', '이디야노원사거리', '틈', '로찌커피', '커피램프', '데이지공방', '카페민', '에브리커피', '두루두루베이비카페', '카페바이쏭', '티블랙', '카페세라', '마이하우스카페', '커피마마이대점', '스타벅스신설동역점', '페이지원', '플라타너스', '커피뚜깡', '렐라', '카페밀크콩', '플래이그라운드', '학화호도과자', '지카페', '카페고조', '컴앤드씨카페', '오월의커피', 'GOMMICOFFEE', '카페보라', 'KOIcafe', '카페모빈', '라떼떼관악신사점', '카페타타', 'MINIM', '카페포르자', '이즈까페', '쿄즈카페', '어썸차드', '판테온커피', '아마스빈여의도2호점', '케이탑', '푸에르', '착형커피역삼점', '머피커피해피', '마노핀', '까망PC', '패트릭스와플', '커피스모키', '폴스일레븐', '식품명인체험관', 'R카페', '팔롬비니카페테리아', '애플원두커피점', '루하커피', '소프트리가양점', '디에고젤라또', '커피에반하다', '여기커피', '커피연구소', '제이스커피', '조광', '페어리스트리', '라나이카페', 'CAFE.W', 'AREACOFFEE', '카페하비토모', '준커피', 'Crumb', '버니빙스', '카페베네양천문화회관점', '보틀팩토리', '소보COFFE&DRINK', '투썸플레이스우장산역점', '젝키살롱', '인터카페', '자키야', '아프리카', '카페하이', '카페이든', '제이스킹커피대치점', '탐앤탐스일원점', '커피미', '디어플라잉팬', '소울클럽', '커피빈코리아강남역먹자골목점', '성공을도와주는카페', '커피크루', '카페먼스', '카페온도', '투고커피박스', '트리스트', '네스카페디엠씨상암', '이퍼스', '비안빈신설동점', 'MANE', '크리스마스자몽', '이코복스', '밀앤빈서초직영점', '스타벅스서소문배재', '고프리', '까페IMA', '더크레마', '콜마커피', '나비컴퍼니', '에쯔', 'espressamente', '타임', '할리스커피에벤에셀점', '카페풀립', '이혈건강카페', '카페알롱제', '셜록홈즈영등포점', '에스프레소부티크', '까미오', '커피빈치', '카페레즈로스팅하우스', '베네딕트영', '커피앨리스', '커피어라운드', '커피빈코리아건대스타시티', '컵안에버블', '몽글몽글', '리본카페', '지혜나무', '카페베네사당역점', '쥬씨고대점', '로스트제임스커피', '에코브릿지커피', '띵크인커피', '원데이브레드', '커피에반하다신대방역점', '플러피마운틴', '빈스벤치커피&부페', '카페플러스', '카페바인', '밤부', '커피빈코리아강남역142', '소소한빈스토리', '북카페리비', '우연', 'SE', '한우리보호작업장', '세루리안앤드팩토리', '카페잇츠어바웃', '야미요밀', '카페리시오', 'coffeeplus+', '커피토리노', '미진', '마루마리', '사카', '칠그램', '스타벅스구파발역점', '셀렉토커피', '별하', '와플스토어', '끄레마', 'COFFEE&WAFFLE', '메카커피숍', '커피립몬스터', '칸트의시간', '꿈더하기카페', '윤빈커피', '까페까마르도', '이디야커피천호현대점', '디졸브', '그린하우스', '커농', '커피와대장장이', '보스크커피', 'COFFEEZIP', '숨앤쉼커피', '와우이레카페', '안느시카페', 'MEGACOFFEE', '카페루카', '메이준', '돌담커피', '카페하나', '요거프레소대방성애병원점', '카페793', '다향전통차', '환기미술관휴게실', '신맥', '비쥬블랑쉐앤올리비아하슬러', '난다', '할리스포이사거리', '랩', '빽다방청담영동고점', '서교예술실험센터무인카페', '라떼킹고덕점', '하루젤라', '마이커피스토리', '르마들렝', '매스커피역삼점', '카페포엠', '앨리스토리커피볶는집', '볶아커피', '지향커피', '스타벅스중랑구청점', '성공커피숍', '에이드립까페', '은경', '도우넛카페', '모로가도소울', '컵오브티', '동서울호텔 커피숍', '타요더카페청량리점', '오가다문화일보점', '고대북카페', '시티보울', 'TheAkoffee', '스타벅스종로3가점', '랍슨', '커피빌리지', '소격동37번지KITCHE', '토닥토닥', '잠실마루쉼터', '모과나무집', 'SEE2카페', '카페싱그러워', '커피구멍가게', '킹콩조아커피', 'Hi키즈카페', '카페LN', '고디바홍대점', '뽀스뜨레', '코나베리', '커피랩세아점', '온기경', '샤갈의눈내리는마을', '옹헤야', '도로시', '스튜디오잇', '카페제이비블루', '정다운커피집', '카페버즈앤벅스', '빽다방방화사거리점', '테이크아웃커피', '에잇디카페', '카페트리', '베이커스필드파미에스테이션점', '투썸플레이스잠실역점', '진심코리아', '카페더원', '빽다방태평로점', '가회', '커피스크립트', '쏭다방', '카페메모리', '존스몰커피로스터리', '마셔봄', 'CAFELULU', '해다방', '공차성수성원점', '커먼테이블', 'TOPBAR', '슬로우리', '안개', '만랩커피묵동점', '동원다방', '현대', '생활커피학동점', '플레이스425', '커피잉', '보나비아티제상일GEC', '설기향기앙금플라워떡케이크', '푸디스트카페퀸즈아모르', '아멜리아', '일레븐시스', '커피티쳐', 'cafeHoo', '딥블루레이크커피&로스터스', '노란코끼리은행사거리점', '커피인류', '95도CCoffee&버블티', '이디야커피건대스타시티점', '끌레르봉봉', '매직큐브카페', '뽕뜨락카페', '국제강화유리문전동샷다방범창방충망', '커피업', '뽀빠숙대점', '폴바셋양재점', '몽프레슈', '엔제리너스잠실롯데월드몰', '북파크카페', '굿', '엘레이지', '카페요이', '커피팝', '카페395', '대익인터내셔날코리아대익', 'Clatage', '한국플러스그린스테이션', '조이스', '도란도란카페', '양천맘카페', '할리스로스터스스페셜티커피', '커피앤쿠키', '더싸가커피', '루소랩', '325카페', '카페하임', '원더우먼', 'GABO', '디카페', '제이디비스퀘어', '스타벅스양천향교역', 'CoffeeMong', '에스알피커피', '주스솔루션여의도IFC몰점', '남촌', '서울강동경찰서복지회', '야니', '이튼104', '모노커피', '더착한커피신촌점', '굿피플앤커피', '105카페이태원점', '그냥플라워앤드까페', '애플파이', '한방애차', '플리즈커피추계', '카페앤', '퀸커피숍', '카페노마드', '화이트베일', '8스탭스', '설빙인사점', '컨템포', '카페플래너', '샹티브아르,그런커피', '이디아에스프레소', '스마일빈', '그린커피코리아', '알랙산더501', '꿈꾸는다락방', '우리바둑까페', 'Cafeespani', '씨앗카페느티', '미홍', '커피다', '커피소', '사층빵집', '나이로비커피', '까페봄', '청실다방', '카페이룸대치점', '카페라리대치점', '블링엔젤', '요미다방', '착한커피공장', '씨앤씨', 'CJ푸드빌투썸플레이스', '노남갤러리앤드커피', '카페비스타', '커피온리', '카페아델라', '쥬빠', '레드머그', '하얀다방', '카페티모아', 'JUICY', '나시타까페', '류케이웨이브커피', '맹꽁이노리터', '커피밥', '디보빌리지', '벨루카테이블', '엔젤디오커피', '마라나타', '매머드커피여의도S점', '인디에프갤러리카페쉐누', '클레어플레이스', '하이', '커피코트문정테라타워2점', '카로치아아차산점', '커피소리', '카페룸1024', '할리스커피테크노마트점', '더삼겹카페', '라벨르', '커피좋아', '카페캠퍼', '드림커피', '긱스타피씨카페', 'OZ의마법카페', '공린가', '쟈드커피숍', 'FlatWhite', '카페잡스', '퍼즈카페커피농장', '작은사치', '케키하우스', '무티', '커피나우', '달콤커피명지대점', '카페인프라', '편백나무', '윙크르네상스북&아트갤러리', '모듈팟', '체리블로썸', '빈스마일', '파크15', '할리스커피이수역점', '선COFFEE', '행복추풍령카페베네직영점', '봉제산아래커피집', '경성', '카페코나퀸즈', '대청토스트', '아가페', '와플클라우드', '투썸플레이스명동역점', '잠바주스김포스카이파크점', '별빛', '호텔볼커피숍', '경성커피', '신규커피숍', '집중소', '프랜트', '연주다방', '커피숍프롤로그', '더브레드블루', '카페유노', '할리스에프앤비마이컵오브', '국회의원식당카페', '또와플러스', '카페아이엠티', '귀빈커피숍', 'THANKsCOFFEE', '포터스커피', 'CAFENEATO', '청솔', '폴바셋서울세관사거리점', '이디야커피낙원동점', 'CafeThe9', '인투고', 'CafeAn449', '베네라이프', '드롭탑방이사거리점', '에꼴드마카롱', '커피앤커피', '메이랩', '솔', '엔테이블', 'IMT호텔', '카페울림', '후츄', '스페인클럽', '커피레터', '꽃밭에서', '자문밖커피문', '까페뷸라', '까페나인', '베네시아코리아', '커피온도', '세븐몽키스커피중곡점', '카페타우', '누베이크서대문점', '토프레소홍대점', '에이카페', '피어나', 'oneweek', '라시쓰커피', '한복카페', '카페삼삼', '푸드카페앤그릴', '투썸플레이스서울대역중앙점', '커피머그루', '엔제리너스여의도잡지회관', '커피야석촌점', '더로스터리카페데베르', '서연리얼티앤카페', 'CAFERE:', '업.사이드', '아보', 'jlnljolie', '쥬씨명지대점', '네추럴티어스', '마가렛', '빈트리200.25', '오시정삼청점', 'PROMENADE', '유어퍼블릭오아시스', '빈스빈스커피', '헐리우스연세대점', '커피빈코리아상봉역점', '카페이너스', '보드게임카페', '요거프레소대림우성사거리점', '커피트리', '카페피파포', 'S-카페', '킹콩디저트', '핑크도그', '소나카페테라', '이카페', '떼루와종각점', 'CAFEASHER', '베리빈스', '스몰커피', '아이센스PC', 'LSY', '탭플레이홈플러스', '문카페', '카페토크', 'CNC', 'Cancafe', '빽다방사가정역점', 'CafeSerre', '투썸플레이스CGV상봉점', '연소바', '바리스타마르코지니24', '할리스커피화양점', 'OSEVENS엠솔루션콥', '군바리스타', '와겐커피', '포방터카페', '커피루왁', '바이림', '까페어쿠스틱', '카페라맘마', '삼선차', '커피낙타', '부엉이빈커피', '커피앤컬쳐', '두잉나띵', '오로오로보드게임카페', '네추럴카페진락서초아르누보점', '아삽', '매드폭스커피', '쥬씨독산점', '도시보감', '스모', '미리보기', '성곽마루', '책발전소위례', '아르티시카페', '강쇠네카페타운', '팡세', 'Thegreycoffee', '전광수커피', 'lcm', '감성다방', '포인트힐', '소리마을까페', '라따뚜이', '모다기비', '쥬씨불광로데오점', '이비엠', '커피블루', '헤븐스타', '아름뜰FOOD&COFFEE', '코오롱찻집', '토정방', '윤s커피', '호이차', '종이비행기', '파스쿠찌메세나폴리스점', '커피노트', '커피가있는라멘집', '커피브로', '빽다방신림역2호점', '더빅', '화유플라워앤커피', '그라시아커피', '진공안드로메다스튜디오카페', '하우스칼라', '메가커피미아', '카페라포레올레', '낭띠발아까페', '카페몰리', '카르페디엠', '커피니덕성여대점', '로뎅', '더퍼즐', 'LEMIELCOFFEE교대역점', '지니스빈', 'Cafe12', '폴바셋뉴코아강남점', 'CAFE95', '마피아커피동평화상가점', '센티미터스페이스', '소금다방', '리둔주식카페', '지커피', '리버스로스터', '만화카페냐몽', '베네치아', '코스빈', '손탁스커피', '스타쿠빙커피전문점', '메가커피수락산역점', '커피전문점DZ', '본돔', '엔제이파크', '대만락카스테라', 'NEIGHBORHOOD', '동아쏘시오그룹공제회', '시장길커피', '다솜이야기', '빽다방커피', '할리스커피답십리역점', '비스위트', '아인즈커피', '훔볼트', '디파이닝모먼트', '화곡동커피', '정우연', '만화까페콩툰', '오투오카페', '산책', '구찌', '커피인코나', '워너커피', '미미갸또', '공차광운대점', '자양다방', '컴플렉스', '차유', 'TUICAF고려대점', '씨걸', '블럭아트', '엔제리너스커피카페앤다이닝석촌호수D/I', '마노아', '카페코지또', '품어주는카페', '백스커피', '탭플레이FNC점', '커피씨', '밀당', '레벨업', '데일리브라운', '베르띠체커피전문점', 'CAFEONES', '카페멍스', '띵똥와플본사', '사이앤코', '몰브레드', 'SMC', '카페제니', '더치앤빈가산디폴리스점', '돌샘', '스타벅스서울대역점', '스타벅스사당점', '카페줄', '키스엔커피', '이디야커피약수점', '모노치즈북촌점', '후엠아이', '시간이흘러', '체리커피', '까페10그램', '스타벅스강남오거리점', '카페브와송', '꽃꿈', '휴세코', '까페로프트', '바리스타마르코YES24', '비알코리아베스킨라빈스양', '8팩토리', '일등커피', '85번가', '라오상하이고운찻집', '에어패스', '쿠카쿠커피', '엠알광고기획', '복고다방', '젤라리소경희궁자이점', '방초', '착형', '쪽방커피', '피스커피', '프로푸모', '스타벅스양천향교역점', '카페라미떼', '빈스바네스논현점', '서루당', '스타벅스강북구청사거리점', 'G커피샵', '아티제삼청점', '카페더브릿지', '마리웨일마카롱', '탐앤탐스도산사거리점', '할리스커피고덕리앤파크점', '커피나무아래', '제이미쉬키친', '도란도란', '올리버브라운카페', '카페룽고', '하울까페', '메구스아로마', '식스스트링스', '마빈스탠드', '커피를들다', '더나무', '카페다빈', '양궁카페로빈훗', '우리동네그림가게', '세븐투텐', 'CafeMusto', 'dal.komm', '카페브로딩', '8stcoffee', '돌스커피', '바토커피점', '블리커167', '브룬', '본디', '비정상카페', '까페다', '까페로드', '알라딘중고서점커피수유점중고서점커피수유점', '티마인드', 'ESPRESSOJIN', '카페라제스', '쥬씨등촌역점', '헬로커피', '라카페갤러리', '백미당강남358', '닥터로빈목동점', '티포투', '토파즈', '맥아카데미카페105', '성원', '카페희다', '카페지', '내일은청춘바리스타', 'Brick', '애프터유', '엔제리너스잠실1점', '폴바셋롯데마트양평점', '까페고센', '스타벅스광운대점', '피켄스커피', '고센클래식', '커피클래식', '제너시스에프앤비스위트빈', '레드엘리펀트', '옐로우브릭스', '풍각당', '쁘띠아르브르잠실한신점', '니트', 'COFFEE&BREAK', '와플빈', '도쿄밀크치즈팩토리', '플레져디', '셀렉토광운대점', '커피레벨52구로점', '커피티', '멜로워', '커피하오', '커피의향기', '2ro2ro', '카페로드', 'P268', '밀키밀키', '라니작업실', '곰', '카페에치Cafe-H', '북카페', '아름다운고궁', '퍼니펑키슬라임&폰데코&초콜릿만들기-', 'REALCOFFEE', '뚜또베네트라토리아', '아리스타커피영등포구청점', '커피앤슈', '에이비씨커피', '도리스커피', 'cocobruni', '카페소파', '비씨800서서울모터리움점', '더북이대점', '노유민코페', '할리스커피구로디지털단지점', '키라키라히카루', '이글루크리머리', '카페하바나', '서울여성공예센터더아리움', '삼거리커피숍', '미스핏츠', '쥬씨장승배기점', 'MARIEMARC', '가영', '마피아디저트', '밤밤슈가', '토프레소엔터식스한양대점', '일레븐라운지', '커피앰비언스', '한강대교전망쉼터', '리안', '부르다커피', '커피빈코리아강동경희대병원앞점', 'cafe구석', '모조커피', '카페가비애', '스타벅스종암점', '플래그쉽', 'CafeH', '커피하우스101', 'cafe453키친', '어벤더치', '행복담은반찬카페', '우리동네구로커피집', '글래드위드커피용산', '카페두다트', '엠엠티에이치048', '블랙벤자민', '세컨드브레스', 'Riacoffee', '커피해바', '김.COFFEE', '플리즈커피', '한강커피숍', '스완', 'Newyorkbagelcafe', '공차건대점', '카페512', '우종호의커피볶는집', '커피자리', '갈릴리까페', '카페쟈스', '스타벅스신세계본점5F', '탐앤탐스트래블', '씨투', '니나스', '선샤인커피', '카페정민', '메가바이트', '인더랩', '강남70플러스라운지', '커피베이구의점', 'coffee122-6', '코드크레인', '에스트로', '엘크레', '부쿠', '일공오카페장충점', '디커피', '카페쏘도베', '비전스토리문화까페', '프리츠커피컴퍼니', '원두파파', '쥬씨이대점', '떼르드글라스', '빈스앤베리스', '점핑파크마곡점', '엔젤리러스', '다기전', '커피플레이스', '오설록현대백화점무역점무역점무역점', '지유가오카핫쵸메', '몽마르뜨이대로라이브카페', '에이치에스커피', '씨132', '모카향기', '클래시파이드555', '데코아발림', '세스니', '곰브라더스', '카페랩', '탭플레이롯데월드어드벤처점', '홍림통산진락', '크레프트카페라온', 'TOAST&COFFEE', '인피니티피씨카페', '커피마마답십리역점', '애견카페서울리버티벨', '레미제라블', '도담도담', '망우산자락', '토즈모임센터신천점', '윤커피', '카페22', '엔제리너스강남역점', '카페1001', '10페이지한양대점', '스트릿마블러스', '커피콩', 'Aboutespreso', '상구다방', '요거프레소광산사거리점', '오가닉커피', '커피상사', '셀렉토미아점', '힐링초이스', 'cafe연', '이팡홍대', '그린비', 'JAVATREKKERCOFFEE', '이상한나라의앨리스', '베키아에누보PNP커피스테이션', '하루에', '스타벅스차병원사거리점', '띵낑커피', '카페오디너리', '오플로-서울커피', '동백', '야카모즈로스팅', 'lamp', '카페느티', '히어로', '머스타시', '나무그늘', '슬로웨이', '씸플십커피', '또또커피숍호프', '더치앤빈신수점', '올바른커피', '커피공감', '플로블랑', '보일스커피', 'COFFEEN', '라푸르타', '카페타세', '봄꽃스토어', '산유화카페', '미스터닥터빈스', '앤틱박스', '카페오아시아', '셀카페', '카페26', '카페오아시아떡찌니', '와플앨리', '스타벅스마포아크로타워점', '그렇게카페가된다', '오로니아', '매카이', '4˚C커피', '카페T', '학산', '쿵푸티', '벨로샵', '카페마마스타임스퀘어점', '피그말리온', 'CNN카페', '코믹토토만화방', '토스피아군포화목토', '포트오브모카장안2호점', '마이웨일', '카페베네장평점', '쥬스식스', '카페수', '커피문화원', '라이프커피', '캣카페', '버블커피', '반포동커피', '뉴코피커피', 'ELLOroasters', '요크', '메이티엔콘레드커피', '플로워', '이스팀커피', '유후인', 'osevens', '코코버블티여의도점', '향기', '5BONG', '카페띠아모고대경영관점', '미니말레커피', '페니커피로스터스', '화동커피', '카페토르토니', '가만히숨은찻집', '셀렉토커피강동구청역점', '우리동네마곡일등커피집', '메가커피신도림역점', '네이밍카페커피GO!#20', '참스큐', '카페잇', '키티스까페', '더테이스트빈커피', '생활커피마곡나루역점', '발리커피숍', '진서의정원', '에르메스카페마당', 'olleh', '토브커피', '닥터스커피', '큐베리', '파스쿠찌커피', '커피볶는그랑', '다니엘미카엘', '아이원', '이니스프리', '프랑스에다녀온붕어빵', '엘리스스픈케익&커피', '차오름인사동점', '카페소소', '울어비웃카페', '일공일커피', '토프레소상계백병원점', '더카페이랜드레저비스더카페네티션닷', '아모르데헬렌', '힐링커피', '카페아이엠티숭실대점', '카페그라우', '카페속작은가게', '슬로우커피1012', '프레쉬컵커피', '푸른수목원가든카폐', '쇼위플로라', '카페.사부작', '로뎀나무숲', '커피테크', '카페정이든', '스윗솔', '올인어컵', '해리피아', '탐앤탐스공릉역점', '참스카페', '말리카', '재회', '웨슬리커피앤티', '커피프린스', '포이트리', '느루커피', '커피보니또', '조앤더주스교보', '미래월드', '카페스튜디오', '가빈커피로스터', '클라우즈비', '카페원두', '호밀호두', '불독커피건대점', 'BMMcafe', '지구정복을꿈꾸는고양이', '샤론', '퓨로커피', '카페파스타', '셀렉토커피방이초교점', '커피에이엠', '카페바리스타아카데미', '보헤미안타운카페', '북카페옹기종기', '카페모우', '카페5', '카페벨루토', '아리스타커피', '피어라희망카페', '커피오쩜일', '커피엔드에이', '펠리체', 'CGVARTHOUSE', '케이마트Kmart', '차나무', '카페218', '카페903', '엘리커피', '세븐그램', '빽다방신사역점', '좋아해,커피', '라스미어', '마체베트카페노량진점', '브로스', 'MH메튜스하우스', '지노', '스타벅스문정하비오점', '카페아네', 'FORLOVE', '카페트루칠로', '덕카페', '빈스앤베리즈태평로점', '오리지널빈스', '샐러브001', '나이스커피시스템', '대왕통카스테라', 'cafe내자리', '투썸플레이스굽은다리역점', 'Quinto', '우리마포시니어클럽마포주민편익시설점', '빽다방성신여대점', '두리하나다울', '콩장카페', '2CAFE', '우주토끼', '까페이탈리아코리아', '프렌치마켓', '매머드익스프레스강서한강자이타워16호', 'COFFEETO', '한국커피협동조합', 'e-갤러리사주까페', '청춘고양이카페', 'cafe새벽', '레트로카페', 'COFFEEPOST', '미니다방', 'Theorder', '스타벅스홍대삼거리점', '미트프레쉬MEETFRESH', '한남동함바그또카레', 'CafeAlice', 'PEBBLE&ROCKCOFFEE', '정동클럽', '커피바실리아', '하이버', '온앤온', '컴포즈커피구로디지털2호점', '토크엔', '작은도시', '폴바셋코엑스몰점', '부암동와플샵', '투썸플레이스커피경희대점', '와이블랙', '델트렌', '맘모스', '플라보', '커피섬', '하겐다즈', 'tea.n', '카페쿤', '여유당둘라이브카페', '소현초콜릿공방', '젤라떼리아에따', '예쁘다포토카페', 'SuperCoffee', '좁은문까페', '카페식스틴', '카페1883', '요거프레소용산한강로점', '모어댄레스', '이디아', '오렌지향기는바람에날리고', '더앨리', '프리카페', 'CAFEBLESSING', '아이에스아비시니카', '할리스커피노량진역점노량진역점', '투비샵', '별과꽃', '간단하지만특별한화피디Cafe', '파인힐', '드림스페이스', '매그놀리아', '신호등', '콩툰', '투썸커피씨지브이대학로', '엔제리너스서울대입구', '칼도카페', '발아정신', '공차여의도순복음점', '더퍼스트클래스', '나라카페', '그레이트버거앤커피', '35커피', '던킨도넛', '커피팬', '밀탑빙수,커피', 'CAFEWONDER카페원더', 'CAFE302', 'pitstop', '루이루스SFC몰점', '필즈커피', '용두다방', '카페이루카', '커피반하다', '예다손', '유어페이보릿', '하나원병과', '오페라빈로스터스', '푸드까페다와', '카페디오', '보드스쿨', '가장좋은커피', 'ZOO커피전문점', '더카페중계홈플러스2층점', '메이딘리', '자작나무', '페넥아트토스트', '쥬씨돌곶이역점', '카페암스테르담', '메이드커피', '샵VR', '투썸플레이스답십리사거리', '아티제강남역점', '524', '세잔', '나뚜루타임스퀘어', '캐빈커피숍', '카페로움', '하늘커피', '카페이스턴사랑의열매점', 'CNNCafe세빛둥둥섬점', '쥬씨동여의도점', '카페오페라', 'COFFEEJAMAE', '초코렛카페', '스타벅스공덕', '카페드롭탑송파가락', '성유엔터프라이즈', '오복다방', '재미난조각가사주카페', '고로케카페', '노스페이스', '스페셜데이한강용산본점', '커피아이', '마카롱팝', '고디바', '웅이네', '핸즈온캠퍼스', '커피탄타라', '수커피하우스', '아재커피', 'CAFEGUMAREON까페구마리온', '텀브커피', '커피나무상도2호점', '메인', '야쿤카야', '콘하스', '지트', '애니그린', '더착한커피', '노스페이스카페MYEONGDONG', '애니타임커피', '그릴드치즈', '앨리스케이크부티크', '쥬씨고덕역점', '요모조모', '아람', '카페라오라오', '시얀', '흑화당', '까페목요일', '스타벅스명동길점', '청년다방가락점', '키즈카페', '케이에스케이공인중개사사무소카페', '광희마루', 'PASENG', '오프더그라운드', '카페러빈', '스타벅스종로수송점', '범이준이', '커피에반하다<가든파이브점>', 'COFFEEBEAN영동2교사거리점', '카페24창업센터', '카페마리', '탐앤탐스삼모타워신림역점', '카페크레마', '주스솔루션CJ오쇼핑사옥점', '온도씨', '우리동네빵순이', '로즈버드인정병원점', '에트리움카페', '경복비즈니스고등학교학교기업', '커피스트림', '예랑떡카페', '더비스킷카페', '어바웃에스프레소', '황제커피', 'JAM', '청다방', '상록수', 'Dutch&bean', '카페르마들렝', '팬더리아', '할리스커피한양대시티빌점', '카페868', 'CAFEFEEL', '떼루와떼루와을지로점', '카페디저트', '아이스프링커피', '다카페', '메가커피앤디바이스', '북카페산책', '랠리까페', '행복창조산아래카페', '롯데칠성음료카페칸타타화', '카페라플로르', '까페슬로비', '공차압구정로데오점', 'cantocoffee', '호시', '커피24시', '카페리빈스', '모짜르트카페', '새소망', '달별해커피공방', '세븐데이즈', 'PARRACAFE파라카페', '이다', '일리노', '제이스카페', '호원당', '스타벅스역삼럭키점', '아더커피', '에스프레소디또리노', '알콜카페', '연남다방', '칼라커피숍', 'CoffeeBIG굿', '맥애덤스커피코리아', '선한이웃', '지엠유', 'AristaCoffee', '하비', '아이스빌', '어반테라스', '자리', '코스트코코리아푸드코트커피코너', '송상수커피', '예쁜커피', '투썸플레이스남산트라팰리스점', '트루비커피숍', '커피더캠프로스터스&마카롱', '더올리브', '웍스프레소', '노아스부티크', '더치커피', '이니그마', '카르포스', '셀렉토커피마곡나루역점', '헤브어바이트', '코코브루니압구정점', '곳간', '000간', '할리스커피노량진', 'TIME', '스타벅스대치사거리점', '미인단팥빵', '카페인', '포르테커피', '피콜로', '요거프레소대치아이파크점', '푸드까페', 'coffeeblossom', '램스1979', '카페뚜니', '플러터커피로스터스', '커피토스피아월계점', '그리운꼬마', '클로버보드게임카페', '비엔나커피하우스', '브로트가쎄율리', '힐링사주카페', '푸른풀밭', '이승커피펙토리', '공차', '아모르', '카페소나타', '미네르바', '뉴욕47번가', '까페마켓', '와우크림', '스타벅스미아역점', '신빙고', '바나나다방', '더커피빈앤티리프', '더빠니니', 'SANDYLANE', '희와래커피로스터', 'hundred11', '첼로', '비틀주스가산디지털단지점', '스타벅스남부터미널2점', '소복소복', '신성다방', '에프앤비', '착한커피2호점', '카페베네마인츠돔강남', 'COFFEEY', '느린내림', '커피버넷', 'C27', '자바시티코리아삼성CC', '베리트커피', '세나', '카페포우', '카페오작교', '완나카페', '까페팰리스', '한국플러스말차팥차', '에이난카페', '차콜로스터커피', '다정다감', '입땀', '주카페', '영플랜츠&갤러리영', 'PRiNK&DRiNK', '베네테크', 'mill', '체리시', '이가커피', '까페2000', '이윤신', '썬투커피', '데이비드쥬스', '장수차생활', '왓어블랭크', '투썸플레이스발산역점', '커피공방오페라빈', '아담채카페', '에쎄레젤라또', '커피로스팅', '카페톨릭스', '아이월드', '뚜르드카페', '카페포르', '라이트닝커피', '달콤커피여의도더디자이너스호텔점', '토즈모임센터신촌본점', '커피볶는피루니', '비알라커피', '커피앨리', '오늘상점', '커피온리&팔공티', '카페서우', '매스커피', '퍼즈카페', '바리스타마르코', '하늘을걷는고양이카페', '카페노니다', '카페199-1', '앤스', '그린라이트브이알씨씨', '요크커피', '커피볶는중카페김쌤', '뜨레', '올넥스트', '모즈', '엄마가만든파이', '공정무역평화다방', '다정한오후', '휴cafe', '에스프레사멘테일리보라매점', '세시셀라도산공원점', 'CAFE57', '커피클럽', '자바씨티커피코리아', '샘터', '누리정', '브릿지', '씨엔엔카페한양대서울캠퍼스', 'MEGACOFFEE메가커피', '블랙라인커피', '예빈당', '부틀렉', '홍콩다방팩토리', '미스터브리즈커피성산점', '별별다방', '카페베네방이사거리점25일', '바빈스커피홍대역점', '58도C', '도르체비타', '츄잉타임', '까망콩', '떼오도르한남', '킹카페', '꿀콩커피팩토리', '한스', '클립에스프레소', '커피펄쓴김판다', '시에나블루', '엔제리너스홍대YZPAR', '카페네스카페', '영자클럽서울', '에도', '커피마마', '카페인더집', '그다방', '우향다원', '카페마세리아', '백씨네콩다방', '랄랄라김반장', '별관커피숍', '까페화덕', '스카이라운지', '장르', '지아뜰리에', '인비트원', '카페453키친', '카페그라운드', '투썸플레이스콜드스톤크리머리', '카페S프레소', '더라이프갤러리', '굴리엘모커피', '피오나가가져다준행운', '그릴오', '미어캣프랜즈', '에이에프히치콕', '커피애드립', '서울푸드앤씨', '한스제과공덕점', '노들견우카페', '커피랑파이랑', '만다향', '에떼', '코니써', '혁이다방', 'Coffeezip', 'G선상의커피', '청계다방', '공간여유', '커피인동', '무인양품', '머그포래빗', '로로커피', '래핀', '참스프링', 'manna', '카페빌리', '카페네', '푸드파이터', '코레일유통비타민한끼', '수퍼커피', '스타벅스회현역점', '새콩커피', '할리스커피방배점세리', '스타벅스강변역점', '에오스', 'CAFEG', '스터디카페', '쩨', '책마을커피점', '두두퐁', '베네핏', '커핀그루나루신도림역점', '니드카페', '스타벅스종각점', '북카페찬샘', '앤드커피랩', '커피파는고양이변경전', '랭귀지랩', '커피빈코리아선릉로86', '도미넌트', '캠토', '제이엠커피하우스', '미카페', '굿띵커피', '카페헤세', '에드로쿰', '리투팜', '샌드카피노', '카페나무야', '모토라운지', '혜화카페', '디지털놀이터', '니블리', '카페다소', '저스트어모먼트', '헤일리스카페', '엔제리너스명동L7호텔점', '현스티', '에스프레소북', 'Croo:n', '에스프레소로이', '쥬씨강남역세무서점', '키라커피', '까치', '카페지브린엠', '커피&옐로우', '아름라떼', '바모스시청점', 'SOL', '피아노카페', '꼼지락꼼지락', '고양이똥커피상점', '커피만', '와하하커피', '카페비엠엠', '엠케이세븐', '라운드어바웃', '브라운커피', '원커피', '노아이', '카페베키오', '음성골만두카페', '프린세스카페', '티키티키', '강북청소년드림센터움카페', '삼성에버랜드그레이스타워웰스토리카페', '이디야커피을지로역점', '환다방', '힐링카페테라하우스', 'SOFTTREE', '차휴', '비긴', 'N카페보라매점', '이화장', '승룡이네집', '카페놀이터', '이디야커피청계천점', '쁘띠크', '투썸커피여의도IFC몰', '에프터눈커피', '앤티앤스프레즐', '118커피', '익.coffee', '밀크앤프룻츠버블티', '아이스팩트리', '갤러리카페나팔', '샌프란시스코플라워', '필앤럭', '오엠지도넛', '92도씨', '카페컬리넌', '빠아빠', '스타벅스석촌역', '스탠다드커피바', '우리하늘에서만나요카페', '까페봉주르마담', '여기쯤', 'RANA', '디캡슐', '카페셀란', '블랙컵', '카페커피로', '예일타운커피랩', '그라놀로지', '이디야커피은행나무사거리점', '허유산', 'AHC플레이존신사점카페테리아', '카페쉐마', '폴바셋디타워점', '헤어라떼', '로드앤스토리', '카페나인', '선주카페', '슬로우인디오븐', 'DUK커피', '동네카페', '컴포즈커피', '샐:미', '매머드커피삼성역점', '케이스카이엔터테인먼트카', '카페멘테', '투오브어스', '리치빈스', '씨앤지풀서비스흥국제선점', '롤링스톤즈', '85ST', '카페드림', '앤트러사이트커피', '케미커피', 'Cafe622', '밤차', 'St.1549', '커피라디오', '약수터', '라바토리카페N03', '드립', '커피드림', '프레지에', '스포애니불광역커피마마', '스테이블커피로스터스', '염리동커피가게', '대용이네호두과자', '스타벅스황학캐슬점', '스무디킹이대기숙사점', '가비아노피우', 'Cafe몽', '단골커피', '투썸플레이스옥수역점', '요거프레소신풍역점', '더카페상봉이마트점', '까페올리브', '비라운지', '루쏘커피', 'W2', '와플반트', '록원다방', '타미하우스가산에이스', '매산인터내셔날투썸플레이스삼성동우리점', '문커피', 'cafeIYA', '옹심이', '커피디즈구로삼성IT점', '개러지107', '에스프레소코아', '카페포트', '카페미토', '엘본그랑카페', '탐앤탐스은마사거리', '카페베리타스', '카사블랑카', '스타벅스숙대점', 'CODE101', '카페이안', '대지다방', '반지만들기반지대학', '슈가링스', '빌로우BELOW', '일팔공커피', '만만한장어', '카페프로기', '쿠즈베리얼반', '부에노커피로스팅CO', '아덜스타임', 'DAILYDEE', '스타벅스숭실대입구역점', '딘앤델루카', '카페아트리움', '스타벅스경희대삼거리점', '카페핸섬', '샹제리제', '놀숲북카페', '큐비틀주스', '모리나리', '구름나무콩', '알지비지구맛', '천리마살롱', '어라운드독', '엔제리너스건대스타시티', '이디야커피자양사거리점', '둘리뮤지엄카페', '청소코끼리', '커피볶는Mr.김영다방', '홍남다방', '모찌크림카페명동롯데백화점', '갤러리카페900', '달조각', '진포토,진cafe', '커피향기', '커피앳웍스', '사이판', '요거프레소서여의도정우빌딩점', '엔제리너스커피구로디', 'MARU', '모범시민카페', '코나퀸즈', '시카사주카페', '커피디자인', '발코니가든', '미스신커피', '알라카르테', 'TAETEA대익차', '아침해가떠오르는땅', '허니브레드카페', '빽다방청량리역점', 'cafe.U카페.유', '프리아스', '남스카페', '헤일빈스', '까페라고', '커피빈코리아신림점', '카린', '카페MJ19.4', '에그에그커피', '스타벅스서울중앙우체국점', '이디야커피', '판화사랑방', '자올카페', '알레소커피', '카페질리', '작심커피', '미스터힐링명동인터네셔널점', '청담사주앤카페', '까페낮잠', '티아트', '조은하루', 'Groundcoffee', '드롭오가닉커피', '시트론오피스', '왕관커피숍', '카페젬', '카페크레타', '엘스토리', '라떼킹', '행복한이야기', '캔디드샷커피앤브레드', '카페1046', '더카페피씨존', 'MADCOFFEE삼성점', '카페안젤로', '윙스커피', '드림스토리', '카페데로얄', '쿠스톰커피여의도점', '디저트39중계은행사거리점', '보그너커피', '프라우스타상암월드컵1호점', '스탠딩커피4', '오케키', 'COFFEE&SNACK', '원빈', '커피볶는김판다', '달콤커피송파중교사거리점', '이디야커피자양동점', '더카페굿윌송파점', '비스토핑', '카페그레뱅', '앤탑PC방', '이삭토스트', '헤쉬', '디저트39합정점', '보니에', '그루비', '쥬스팝', '커피알', '더베이크', '까만콩나무', '명동사주카페', '달리는커피노량진점', '커피,와+,버블티', '파라다이스커피', '갬성', '율리커피', '롯데리아엔제리너스잡지회관', '베네또', '커피베이당산하늘점', '커피링거', '아모제푸드잠실야구장점실외카페아모제', '헤르츠', '미담전통찻집', '우유속에원두퐁', '사주타로', '커피베이강서공항점', '2&3FRESH', '바리스타마르코강서경찰서점', '쥬고', '엘리펀트스페이스', '티눈', '한보커피숍', '요리카페쿠치나', '커피디지랩', '마빙', '메가진카페', '쉐프스카페테리아', '미오베네', '사루비아다방', '명동커피Ⅰ', 'Sen', '투썸커피', '커피롯', '테라커피머신', '카페뜨란', 'BC800COFFEETEA', '카페인프래넷', '페이벡커피', '로얄네이쳐카페', '커피빈코리아역삼점', '자연의길경복궁역점', '카페노아', '이레카페', '커피나루', '예랑', '요거프레소구로구청점', '투썸플레이스개봉역점', '투고', '슈퍼말차', '카페띠아모송파거여점', '카페무세띠', '하루', '쥬씨먹골역점', '카페인바이티드', '카페인스페이스', '커피브루어', '다방오크', '커피애비뉴평창동점', '카페수다', '보뚜슈퍼푸드까페건대', '마이카페', '유로와플', '스트레토', '원두볶는사람들', '베네타', '컬쳐트리', '카페드빈티지', '쥬씨마포구청역점', '247커피', '마이파티룸', '궁', '카페토스피아', '오스카다방', '에이원커피', '카페더케냐', '카페꼬미', '아뜰리에101', '아리스타커피서여의도점', '엔젤리너스롯데피트인동대문', '카이스트', '더코너', '고이', '북카페마을과마디', '외계인싱글족house', '헤르아', '틱텍톡', '김수연의인생한방', '스타벅스연신내역점', '카페모노블럭', '9HERTZ고려', '스타벅스강남점', '엔제리너스롯데캐슬잠실교보', '킹콩쥬스양재', '주빈커피', '빈트리망원점', '예화', '케이엠법률카페', '강동역커피베이', '유기농커피공동체', '레이크', '카페단편집', '아이스크림에듀', '삼성웰스토리SDS서관커피&', 'mr.black', '카페베네마포용강팰리스', '제르보', '차향기', '어느하루', '망고식스코엑스사거리점', '카페델리카토', '카페38도씨', '그랜트', '어까페', '에이디HOCCOFFEE', '무민샵', '열매는달다', 'Bro.COFFEE&JUICE', '빈트리이백이십오', '후르츠마마', '성북동커피', '한국커피연합회', '룸카페쁠레쟝신림', '더커피하이소', '커피미아', '커피이즘', '나인원라이브카페', '호박방커피', '까페거기', '갤러리도희', '구동커피', '엔티스', '스피드커피숍', '스타벅스구로디지털로점', '라임스트리트커피일기', '에스프레소', '옹달샘', '맨투롱', '평창동북카페소담원', '더착한커피&쿠키', '바이탈', '더반카페앤드홈베이커리', '카페유유얼셀프', '스타벅스연대동문', '오늘의커피', '다같이카페', '도렐', '섬섬옥수', '리파인드', '샘커피숍', '포플러', '카페유니', '요거프레소동교점', '키키노카페', '커피투어', 'PitaPat', '마더구즈', '커피바운드', '카페옴니버스', '파스쿠찌대학로점', '카페에피톤', '커피옹녀', '더치즈케익', '카페드롭탑위더스영등포점', '이디야커피신림중앙점', '카페곱게', '부름', '헤븐거피숍', '아몬드블루', '카페마론', 'acafe', '스마일커피', '닥스까페', '프로시트쿠헨', '리틀브라운', '에이치카페', '삼성웰스토리연합뉴스커피&', '커피502', 'PAIKSCOFFEE', '비플라워카페', '언제나맑은커피', '토크하우스', 'Mmth', '디저트39', '카페넷', '리앙빈', '스프링블룸카페커피수점', '카페테인', '샤크플레이카페', '커피당4310', '아이드라이브공차', '멜로우왈츠', '카페세향', '플로릭카페', '라리', '오설록티하우스동대문점', '카페드아마폴라델리', '할리스씨앤아이', '카피시모서비스', '갤러리라운지카페', '커피에이비', 'CAFEKOHI', '조스타커피', 'CAFFE-LEAH', '커피더쿠', '카페마리오네', 'THEBOTTLEPLACE', '싱', '아라커피', '커피에설레다', '동림커피숍', '카페리맨즈', 'IDCAFE', '커피원두도소매', '투썸플레이스올리브영본점', '도형창작', '커피빈코리아구의삼성쉐르빌점', '라벤다플라워', '비발디', '카페콜론', '카페더그레이', '가재울지혜마루', '미스랄라', '더카페/서울숲SKV1', '케이아이디코리아', '커피코트상암', '할리스커피금천점', 'LITTLEBYLITTLE', '중심가', '카페데베르선릉점', '뮤랭', '워너커피포스코센터점', '텐퍼센트스페셜티커피', '티마', '커피인뉴욕', '커피박스커피전문점', '금보성아트센터', '덕수궁리에제와플', '핑크파이', '미미의카페', '얀', '원효로커피점', '밀크카우', '가예커피', '쥬씨서울시립대점', '디아트카페', '남산카페', '커피패트릭', '카페베네강동구청점', '쟈뎅커피타운', '폴링커피허리우드점', '빈스투커피', '매카', '커피하이', '키즈카페어린왕자서울대입구역점', '미스터제이디', '이타르트', '오롤리데이숍앤카페', '르돌치1946', '데얼즈커피', '커피에반하다잠실고분로점', '클럽핸즈', '카페소고', '디디드립드림커피', '리브스', '언덕위에커피집', '음대카페', '3안', '파스쿠찌국악고점', '커피사회', '머꼬머꼬', '카페빈스', '옛날그다방', '까페데베르', '정우커피', '빈.티.지', '달보살롱', 'CAFEJ카페제이', '엔제리너스커피에스알수서역사', 'cafe라이스', '연세대JK베리너리', '다빈', '카페아이엠티을지로유안타증권점엔브이알', '스타벅스커피여의도호성', '이너모스트', '몽인도풍좌식카페', '쉐르본1973', '벨라지오', '글로리아진스커피', '투썸플레이스홍대테디점', '카페아일랜드', '동호', '빈틈', 'FNCWOW', '라이브카페7080삼태기메들리', 'coffee봄', '좀비커피', '카페자스광화문', '더치터치', 'DILUTE', '예설', '하이페리온커피', '제이미커피', '규젤', '도봉산커피', '베이크럽보라매래미안점', 'COMET', '쥬씨봉천역점', '쥬씨상봉역점', '과수원', '카페아토제이드', '바리스타', '통인동커피공방', '프레피', '한스카페', '카페코나', '팝콘트리', '엉클로', '검과흙손', '엘스', 'boutcoffee', '소라다방', 'Manna', '유어마이커피', '빚은', '서울숲공원', '말랑말랑슬라임앤폰데코카페', '엘팡', '서울식품랩', '카페오', '나임북카페', 'COFFEEDATE커피데이트', '카페벨로마노', '스타벅스광장점', '라운드어바웃커피', 'THECOFFEEHOUSE', '사당로159', '김밥까페', 'Wakemeup', '스타벅스신사가로수점', '카페5017', '만화카페통툰안암점', 'softcoffee', '달콤바스켓', '카페이스턴', '더스토리지', '서울만남의광장휴게소TOMNTOMS', '카페아로파', '까페사이공', '커피블라썸', '씨엔엔카페세빛둥둥섬점', '지엔피인터네셔널', 'KAFFE#', '털리스커피', '카페eliot', '시그니처커피', '썬리취치즈카페', '스타벅스이수역사거리점', '에이치에스', '호나s플로리안', '제이비커피', '로렐', '까페Joyous', '카페두다트-메트로타워', '보나비아티제강남구청', '나따오비까', '최강커피', '스트릿츄러스', '경성커피랩', 'Coffeednaroostingcompany', '시심트리', '멀티까페놀러와', '쁘띠므띠', '커피마니아', '마리웨일마카롱상암SBA점', '스타벅스명지대점', '커피602', '일카페', '까페아스노바', '웨지우드커피숍', '고트레', '롯데리아엔제리너스강', '세인트앤드류스커피', '카페아리보', '슈가크림커피', '카페마미', '멀티하우스카페앤스터디룸', 'MAMAS', '반지만들기대학로본점', '카페지오', '미정커피숍', '마실래', '이노커피', '커피앤십자수', '까페핸드', '테라코타커피', '다사랑실버카페', 'LEE카페', '우림', '카페미스코리아', '카페바움', '카페드마린신문로점', '스타벅스구로디지털타워점', '소소한가', '카페두다트전경련점', '커피빈예술의전당앞점', '아로마까페', '쥬스', '커피포에버', '빈치', '텃골', '팔백이십삼미터', '쥬씨구로깔깔거리점', '502세컨즈카페', '내츄럴드림카페', '위드미청계천점', 'JS카페트', '할리스커피마포역점', 'cafedumiel', '카페데플레르', '소디스', '빈트리225', '제일스터디카페', 'CAFEAZITO', '홈스테드종각SK점', '라떼떼훌랄라', '점프셈교실', '바이헤이데이', '데얼즈프로젝트', '제이스커피랩', '한국문화재보호재단', '달달커피', '홈', '햅시바', '카페드블록', '유당카페', '이루리', '까페누마루', '상도다방', '카페IMT', '사랑방카페', '영푸드', '잇츠리얼타임카페', '키세키', '피에이씨그라운드', '포엘스', '구내다방', '청소년휴카페', '지혜나무카페', '커피에반하다광장시장점', '디인카페', '커피바이러스', '카페쿠치나', '루소커피', '울랄라', '카페다올', 'Coffee#', '수수커피컴퍼니', '스타더스트', '카페24/7', '코코몽', '청담설기', 'CASCADA', '앤드하리한남', '조인커피', 'Cafe곰퀼트', '뽀쪼중계점', '행복한베이커리&카페', '웨이크업굿나잇', '스크롤', '닥터피쉬카페', '칼딘커피', '교보핫트랙스', '카페2POP', '푸드카페퐁당', '레몬추리', '동빙고다방', '커피하루', '에어커피', '북촌협동조합', '공감', 'PUSE', '카페베네연세대학교의료원제중관점연세대학교의료원제중관점', '북카페픔', '지붕', '피어커피1호점', '애니팡팡', '땡큐그린', '키즈카페주', '시다모커피', '더쌍화', 'CAFFEILLYNO', '파스쿠찌화곡역점', '쥬스88.커피88', '탭플레이커피', '이디야커피수유역점', '슬런치팩토리', '커피B.on.D', '커피에반하다공항점', '겟썸커피', '보디가드', '이칠삼', '출구31', '엠커피', '루크위드커피', '고다커피숍', 'IZAKAYA나무', '달다롱', '모토빈', '바닐라라떼', '자연향', '본헤드커피컴퍼니', 'JOHNCOOK', '가비커피', '파브리끄', '긱카페아키', '커피팟', '보헤미안', 'TheCupStory', '스콜라', '에쓰디지광화문지점', '모르비도', '나뚜루카페', '하바나커피', '서울모드', '위플래이스', '카페놀다', '키쏘커피대치점', '한마음맞춤운동센터', '어썸', '아라코', '제노피씨카페', '메가박스', '쥬씨문래점', '에덴커피숍', '지에스25건대시티', '스타벅스신림사거리점', '커피빈코리아논현동팍스타워', '언뜻가게', '티브라우니', '따미커피', '야옹이네책다방', '소로앤노호', '우커피', '원슈가데이', '청량리롯데백화점엔제리너스식당가점', '터방네', '더착한커피신월점', '다방,틈', '커피볶는성군', '커피밀', '씨카페', '커피냅로스터스연남동', '오에스인터내셔널카페데베르', '주스집', 'ceccoBeppe카페', '위지안', '제니스브레드', '커피빈코리아서초역1번출구점', '라프라스', '모카라비아삼성점', '커피제로', '오디', 'COFFEE&BINGSUDESERT', '까루나', 'BOUNTE', '키라키라키친', '아이스마일카페', '카페테라스오늘', '고관한복촬영소', '면목제4동주민자치위원회', '헨델과그레텔장충점', '뮤르뮤르', '경스커피', 'CoffeePOP', '카페레즈', '르와지르', '카페콘디토라이', '혜원갤러리커피숍', 'TEAFORTWO', '커피스미스오기', '커피팩토리', '카페알파', '씨제이프레시웨이', '공차롯데백화점청량리점', '카페리치', '라르고', '더리터', '착형커피', '커피볶아주는남자CAFE끌림', '카페허그', '파스쿠찌연세세브란스2호', '양남', '비타민청춘카페', '팥미옥', '워시타운', '청운보이차', '히든', '경호엑스파일', 'BREADFORYOU', '토토치노', '애니타임ANYTIME', 'TOPRESSO교대점', '마샹스', '리필커피', '위드엘', '셀트리온스킨큐어카페', '르페', '차이니스21.차이니스북카페가경', '아지트카페', '토마조앤김', '녹차원', '무늬공방까페', '나인커피로스터스', '근사한하루merci', '미세스히긴스', '카페공린가', '쥬씨중계브라운스톤점', '엔제리너스강남삼성타운', '바리스타커피', '엔젤이너스', '투썸플레이스등촌로점', '부케', '북한산둘레길까페', '까페비아', '카페클래시', '문화커피숍', '멋있는커피', '만랩커피나미브', '클레오', '테라로사', 'CG5', '보바타임', '코코버블티', '커피헤븐', '파넬커피', '토프레소선릉역', '공원있는카페', '카페다오', '양선생커피', '쥬씨서울대입구역점', '오직그대만', '작약', '엉클빈', 'LOOKANDEAT', '녹NOK', '교대애니메클럽', '까페마로니에', '이디야서대문점2호', '커피를찾는사람들', '설매화', '커피만나', '스시마이우강남역빽다방', '리빈코리아갤러이아포레점', '카페수에르떼', '스타벅스월계이마트점', '지유명차반포점', '라뜰리에', '커피빈코리아도곡동지오빌딩점', '더즙', '커피볶는집빈스브라운', '앨리스', '작은별카페', '세운커피숍', '카페비바', '커피서랍', '하늘을마시다망원동점', '3.3.3.커피', '쥬씨강동구청역점', '제퍼커피', '빈스빈스가로수길점', '더카페샤빌레', 'CafeB', '폴바셋신세계백화점본점', '카페0', '정글주스', '에스엠발아커피', '뉴웨이브커피로스터스', '원달러커피클럽', '씨에스타커피', '드롭탑송파가락점', '홀리페페', '카페플라밍고', '커피그라피', '아마스빈은행사거리점', '카페아눅', '콜드스톤', '애스토리까페', '사주카페연', '카페뮤제오커피박물관', '커피탕', '제프리카벤디쉬런던', '호아드', 'cafecurve', '전한에프앤씨라바짜', '커피인류고덕아르테온점', '코즈모갤러리', '슈엣', '야경', '바운트커피', 'BULLDOGCOFFEELAB61', '자연꽃카페', '예전에살던집', '옐로우트리커피구로디지탈단지점', '어짜다버블티', '스몰커피로스터스', 'Rio:후아', '가화다방', '투썸플레이스가든파이브점', '테이블스', '커피향기비어', '언노운커피13', '유로스타커피', '카페리엔', '친구네놀이터', '크리스커피', '애크로리소스카페드투칸', '카페토스피아대학로점', '홈스테드커피삼청점', '투앤쓰리카페', '커피', '카페작', '사주카페프라임', '그리다꿈구로점', '카페걸리버', '커피빈코리아CBTL잠실홈플러스점', '카페홀린', '커피이야기', '코즈모갤러리서초', '백림사주카페', '홍루이젠', '까페파비노', '1번출구COFFEE', '일쁠루수빠리', '본죽', '더플롯', '이엔지카리브커피', '지간테커피', '캣카페양이양이', '제임스', '제이시', '하비에르카페', '고또카페GOTTO', '까페엉클', '분더킨트', '쁘띠아르브르', 'CAFEHEIM', '5번출구', '투썸플레이스금호하이리버점', '빅뱅', '해초공차6.0', '자카페', '성북동콩집', '성곡미술관카페', '카페알', '가인시루', '잠바주스디큐브시티점', '로사우니카', '커피스퀘어', '칼디하우스', '스케네브라운', '시럽', '삼성에버랜드삼성화재웰스토리카페', '다그린', '카페델씨엘로', '통쌀카페쌀리다', '놀자', '타야커피', 'CAFEPLUTO', '맘앤차일드', '스타럭스캐스카페', '썰스티', 'cafeohhappyday', '까페베르떼', '양재커피집', '골드라떼', '폴바셋청담점', '리버파크커피숍', 'Bally', '꽃이피움', '바니카페', '오밀앤조밀', '커피빈파크에비뉴엔터식스한양대점', '제레미아이디어연구소', '스웨이하우스', '블랙홀커피로스터즈', '트윈275', '콜렉티보커피컴퍼니', 'BEANSBARNES빈스바네스', '커피베이궁동유펄스점', '홈스테드커피마포점', '케이츠랩', 'V45뷰티라운지', '임포스타', '카페조율소', '커피몽', '로비라운지&델리', '테르미니', '에피소드3', '어셈블리커피', '세르비찌오카페', '카페라로', 'CAFE곰다방', '디에이치커피', '체리카페', '까페더블해피니스', '카페모차르트', '카페령', '주스팩토리', '까페블랙펄', '커피볶는농부의자연이준다', '인문까페엣꿈', '브릭스', '브라하', '카페라떼떼', '띠아모커피강서구청사거리점', '오후카페', '대건상회', '카페라리', '부엌이있는카페', '비앤시', '라메어', '커피아리', '카페527', '제일커피', '알뜰포차케익까페', '디저트39역점', '카페173', 'EGCOFFEE', '테이크온미커피', '크눌프커피', '커피이너스', 'B.BAUM', '커피볶는집아띠', '용창산업영동관광호텔', '녹스', 'Cafe도로시', '폴바셋여의도', '더더다다퀸마마마켓', '그카페', '카페테이크알', 'Cafebliss', '홀리원코리아', '개구쟁이7080', '몬스터카페', '베네딘', '마차', '대니의전봇대', '캐스팅', '카페a/ma', '올몰', '꽃카페프리플로', '스마일꽈배기', '카페이노이드', '라바짜SHOP', '가루', '하니비카페', '허브드림', '이랜드레저비스외식더카페', '카페위로', '한방좌훈카페', '이디야사러가', 'GE4ECOFFEE', '할리스커피여의도', '금란', '스타벅스강남삼성타운점', '카페보니떼마들점', '커피볶는미스터김영다방', '엘본그랑까페', '쿠즈코커피', '미스터빈', '버지니아커피숍', '자바', '허브미', '온링유', '한샘다방', '금호아시아나본관커피숍', '카페문', 'Roiyu쥬스', '오미커피OHMI', '마노핀카페', '칸카페', '하우스까페', '멀티카페', '이디야을지로3가', '블랙king콩', '더라운드', '테이믈A이대점', '지북카페', '스타벅스신촌오거리점', '행복식빵', '티테디오스', '킹콩점프우면점', '공릉행복발전소북카페수다', '명가원', '수화다방', '지오갤러리&카페', '파란행복', '까페지유', '아마스빈코리아', '잠바주스합정메세나폴리스점', '투썸플레이스사당역', '카페제르보', '커피팩토리쏘다방점', '다미스토리', '서린다방', '커피인더블랙', 'AVECMOI', '어반레빗', '연립커피', '요거프레소금호동점', '카페모에드', '드림스테이', '하우스브란트', 'cafedozen', '오주꾸몽', '현미더치커피', '뛰노리방방', '커피기업', '솔사주카페', '산다방', '커픽', '아주나무', '카페초코빈', '에버롱런던', '루트28', '마틸다엔와이', '이디아신촌역점', '엔트로피커피', '씨타델커피', 'DIEDRICH역삼점', '커피프럼', '윤희커피', 'wildmulbluecha', '헤이쥬', '숲속도서관카페', '쇼앤톡카페', '카페루소캣', '커피아일랜드', '카페이담', '이안커피', '곰다방', '엔제리너스푸드앤다이닝', '키즈커피', '승화산업동국대점', '킹콩이', '메르씨', '아랑', '공주밤빵프렌치카페성내점', '풀길', '파리크라상잠바주스디큐브', '사는동안', '카페펀코', '카페메이카', '탄젠트', '모노치즈이대점', '캔모아', '매머드커피익스프레스', '카페AM', '르씨엘', '카페밀브리지', '플로바리스', '프롬하츠', 'CafeMODERN', '탐엔탐스', '인디스에프앤디할리스커피', 'CafeCivet', '커피빈코리아역삼동태광타워점', '샌드프레소강남세브란스병원', '스타벅스중계역점', '라그리마커피', '카페베네천재교육점', '파티나', 'POCOPOCO', '뮤즈서울', '까페더트리', '디스프루따커피', '호야커피', '코끼리아', '스타벅스연신내역', '커빙', '슈퍼사이즈커피', '메이커스', '커피버스', '하늘꿈', '그릿시냇가까페', 'Lowergarden', '코믹베어', '바미', '원희다방', '하늘정원이야기', '카페보리', '종로abc', '에그셀런트', '래빗', '캠프다비드', '투썸플레이스코엑스메가박스점', '스타벅스삼청동점', '눈내리는집', '쥬스바', '아모제푸드잠실야구장점1루카페아모제,레드스푼', '커핀그루나루한솔병원점', '하트츄중계점', '러빙헛카페', '아마스빈안국역점', '윤커피숍', '커피공작소', '힐', '꼼떼커피', '엠엠티에이치089', '꿀잠', '벨뷰', '북카페레벤', '등촌빈스토리', '티렉스', 'omnibuscoffee', '자모크커피', '맑은물카페', '헤이커피', '황칠가힐링샵', '앤믹스', '마스터키이디야마곡나루역점', '드립하우스', '더블루라운지', '허', '죠샌드위치&커피', 'Coffeeonly', 'CafeHiJenny', '키웨스트커피화랑대역점', 'NARINO', '엑소엑소', '카페띠아모', '삼백커피오륜점', '오크라', '옛찻집', '브런치커피', '카페제스트', '코너힐카페', '엘지사이언스파크지카페', '빵마담콜맨커피', '더베이커스테이블', '테이블비', '압구정볶는커피', '국수카페', '닥터쥬스', '스티븐목장중앙대점', '커피베이온수역점', '공원', '뚜또오케이', 'LUMINO', '나른한순간IDLEMOME', '함께커피', '스테이플392', '카페띤', '카페더파크', '스타벅스선릉로점', '커피타조', '올리볼렌', '작은카페', 'COMMONROOM', '리퍼블릭', '블레스카페테리아', '카페소', '헬로우슬라임', '홉아이카페', '레이블커피', 'imtcafe', '카페샤론', '차밍디쉬', '카페띠아모교육장', '보스톤킹휴게실', '커피부스', '커피빈대치동나무병원점대치동나무병원점', '카페끌림', '마므레', '오븐앤', '디디스고프레', '와이샐러드카페', '레드카페', '리얼크레마', 'coffeethyme', '이디도커피코리아', '사주카페', '제이엘디저트바', '카페BONBON', '원두우먼', '카페꽃집', '아이스빈', '오후', '꿈을담은커피콩', '꿀스커피', '팥이재', '비닐하우스', '카페306', '멜로우그린', '1983떡볶이다방', '콘레드커피', '착한커피', '뎀셀브즈', 'Bingo', '커피빈코리아역삼역4', '더테라스', '비전스트롤', '심리카페COM', '카페톡', '에스프레사멘테일리부띠크모나코점', '트라이어게인커피', '평택쌀빵', 'TAIMDISH', '카페프레스카', '탐앤탐스홈플러스강서점', '더블딥커피', '카페드위드샨', '피아이이알39', '엘리펀트커피', '지오커피', '요리프레소', '헬로아린', '카페다미안', '삼봉-빠', '아데네', '탐앤탐스커피숍', '카페라모엘', '신라다방', '서울만남의광장휴게소할리스매장', '까페올렌스', '테크엔원', '카페하우스', '스무디킹이마트가든파이브점', '스타벅스학여울점', '나쿠펜다', '제일커피숍', '와이즈커피', '아이스크림천국', '청춘까페', '삼거리다방', '올유니드면목점', '다온죽카페', '미싱노리터', '카페나루', 'hervecafe', '칸타타커피', 'Studioyilee', '잇커피', '바리스타마리코스티오브', '1인1잔', '나의작은식탁', '노리', '데일리브라운여의도점한국예탁결제원신용', '커피테르미니', '더델리', '퓨로쥬스퇴계로점', '커피밴드', '토프레소고척점', '데니보이', '더함', '공부카페다행', '커피에그리다', '별난만두까페', '엔젤리또', '리틀제이콥스프리미엄', '노아스로스팅', '크레디오스', '휘스커', '투썸플레이스,콜드스톤크리머리반포래미안퍼스티지점', '커피니미래와희망산부인과라운지카페', '까페스토리웨이', '스타벅스강남우성점', '키다리커피', '슬로우브릭', '미도반반찬까페', '마을북카페행복한이야기', '오가다대륭1차점', '커피핑크', '커피아저씨', '카페게이트신라스테', '쥬앤비', '카페데플뢰르', '펀비어킹', '빌리엔젤마리오아울렛', '카페공감', '아마존슈라스카리아', '스타벅스명동역', '미니까페', '이에스티디2017', '래그랜느에스알티점', '태양다밥', '커피인프라하', '요거프레소마곡나루점', '증가로커피공방', '쥬씨숙대입구역점', '예술의전당카페마티스', '오빠', '버블베어', '빨강커피앤', '세레니티커피', '오엠지엔터프라이즈', '핑크도그,핑크다방', '남산커피', '하운스스터디카페', '동도카페트', '이도카페', '카페낢진', '그린오븐', '양이양이', '더브라운', '아이코드델리카페', '보스케베이커리카페', '빨간지붕coffee', '공리로스팅팩토리방이점', '셀렉토커피안국역점', '루소주얼리커플링만들기', '디렉터스커피', 'D카페', '커피휘엘', '엠엠티에이치015', '커피빈코리아강남구청앞점', '아웃스탠딩커피지향', '9cafe', '엔존', '아리스타커피등촌점', '오늘도,내일도', '카페칼라풀', '커피376', '아이스팩토리', '레이디엠', '엘앤에스와이', '커피쿠즈코', '사주까페예지몽', '피치트리', '카페imt', '카페아띠지아노', '헬스케어카페', 'Cafe-H', '문리버', '보사노바', '샌드비', '북해빙수', '마노핀압구정역점', '도넛플랜트뉴욕시티', '에이아이디카페롯데월드몰', '솔고바이오메디칼', '르보땅', '더쏠쏠한카페', '그라찌에경희대행복기숙사점', '더커피', '알프스', '북까페산책', '윤스', 'AtoZcafe', '미스터브리즈', '노란손수건2호점', '카페마마스코엑스점', '라운드렉탱글RoundRectangle', '이디아커피선릉아이빌점', '베어스덴', '희망카페', '누스바움', '클로즈앤커피', '아이손쿠킹클래스', '카페더힐링', '쥬씨양천구청점', '이랜드레저비스더카페웰츠밸리점', '긱라이브하우스', '굿브랜치카페', '스칼라티움', '마체베트어린이대공원꿈마', '도피오후레쉬', '모모공방&카페', 'FRESHJOY', '브릿지11', '큐카페', '초코바리스타', '다실리', '글로리아진스커피코리아강', '스타벅스엔터식스한양대점', '커피드코리아', '휘카페노원', '필라멘트카페', 'Foicoffee', '벨롱에스프레소', '내생애에스프레소', '림벅와플서촌점', '굴리엘모역삼역점', '카페옐로우', '브릿지앤드', '초이', '비마이플라워', '스탠딩커피', '서울청소년수련관coffeeshop', '플라밍고', '코나빈스', '커피크리닉', 'kt광화문빌딩웨스트카페', 'monceau', '지오반니', '바닐라스위트', '작은풀씨의꿈', '아이스크림', '카페플라워', '커피더쏠광나루562점', '코코엔허', '앤써커피로스터스', '티나가든', '커피정', '커피빈코리아노원역점', '커피작업실codeA-Z', '더마실까페', '버즈에스프레소', '카페류', 'Thursdaycoffe', '커피만랩', '커피베이노원하계점', '까페리채소', '씨엔엔카페세빛섬점', '커피볶는카페', '올데이브런치', '카페토이즌', '커피하바나', '카페마망', '길보드커피', '바오밥나무', '네일수다', '온새미로cafe', 'CounterCultureCoffe', '미커피', '할리스커피신림고시촌점', '카페오아시아피앤에스', '두공간', '카페랑스', '성덕정길', '고양이당', '포춘', '씨27', '귀향', '그레또', '라떼', 'COFFINEGRUNARU', '마노핀면목역점', '파오파오차', '카페97', '천년초와전통차', '도피오국립국악원점', '화수목', '셀위', '아도나이', '샤론꽃방.', '린다린다린다', 'SUNOCOFFEE', 'berry', '멜팅', '제너러스커피', '카페더메드', '카페마약', '리퍼블릭오브커피', '노리터', '엘루체카페', '라온커피', '드림스페이스버드', '노팅힐가든', '아다모Coffee', '언니네커피', '아트토이', '좋은하루', '디자인이알', '더로바이트윈스', '와플앤베어', '또아식빵', '꽃물', '카페즐거움', '커피홀엔터식스한양대점', '카페마마스상암MBC점', '커피앤그릴', '7月1日', '달콤커피상암팬엔터점', '제스트', '에스에스푸드마켓에스에스지커피하우스', '카페베네천호역점', 'BETWINS', '네스카페대학로이음센터', '백두강산', '윤', '커피타는고양이', '고가다방', '이화', '커피베이한국관광공사서울센터점', '바란초커피', '레몬트리', '카페7그램', '커피로153', '카페산보', '서울이스케이프룸', '카페유원', '벨라빈스', '퍼킨카페', '앨리스커피하우스', 'Parlorm', '까사델리', '이야기', '테라하우스', '카페밀콩', '푸드카페', 'CAFE호우', '짱커피', '별나라콩다방', '헨델과그레텔미니', '쥬뗑뷔뜨', '오하이오', '커피스튜디오엘', '더설', 'Chally&Coffee', '아현동쓰리룸', '페미닌', '설빙청담공원점', '커피온리건대', '달과6펜스', '커피스테이션삼전점', '씨제이투썸플레이스', '쥬씨천호점', '에제르커피하우스', '이디야커피디지털미디어시티역사점', '카페블레스', '마을가족카페너른마루', '울트라커피', '나눔', '카페IN', '디초콜릿커피', 'CNN카페명지대서울캠퍼스점', '랠리', '커피볶는야곱', '윈보드게임', '쥬씨상일동점', '카페티포트', '에딸프', 'RAGDADCAFE', '아리디', '샌프란시스코', '티니위니카페', '투썸플레이스상왕십리역점', '레드망고', '까사밍고', 'Cafeflat', '리오', '토이셔', 'Bear-presso', '아이언', 'BeansGarden', '노아커피', '스타빈', '4도씨더치커피', '에이아이커피', '그레이에스프레소', '커피볶는나무', '카페드림고려대학교점', '셀렉토커피양재극동점', '주스킹', '혜윰', 'CNNtheBiz', '나이스투밋츄', 'COFFEEAMICO', 'EASTSIDEMARIOS', '파머스빈', '커피볶는이유', '우정', '센트럴커피', '스코프', '잇파이', 'CNNCAFE한양대2호점', 'Wannacoffee', '감로수커피', '에셀나무카페', '커피에비뉴', '이디야커피동소문동점', 'CAFECODE', '라온tree', '더카페서울산업대점', '안암다방', '늘커피', '에스키모하와이', '카페피티', '세웅물산_커피', '모스앤몰리', '씨엔티코리아', '포라인스커피', '예노', '키즈방방', '블랑', '틴패낼리', '모이슨', '파이브에비뉴', '커피빈삼성로점', '거석', '10G', '춘화당', '몽듀', '훌랄라치킨카페&천족', '씨위드커피', '서울테크커피', '카페그레이스', '덕수다방', '미드센츄리무드', '태미스', '라노떼', '델리뉴스', '헤엄', '카페꼰띠고배봉사거리점', '카페우디', '열다방', '카페리앙', '복합문화공간까페가화', '누코코리아', '압구정커피볶는집', '몽크르스커피', '스터디룸인', '송아지커피숍', 'MU커피', '유씨씨커피', '드러머', '갈비씨발산역점,에벤카페', '채트', '커피집오후2시', '카페쉐누', '셀렉토커피잠실시그마타워점', '강릉산토리니', '팡오르방', '쥬씨송파역점', '카페양화', '반지만들기카페', '디저트월드', '한나공방', '천재교육원Rnd까페', '빽다방논현본점', '아시아나타운커피숍', '나눔문화', '드링크7', '79THELAB', '8마일츄러스', '아데나', '시월의곰', '2막', '세움카페지점', '서울가톨릭청소년회카페다', '설빙', '블랙앤브라운', '노랑커피콩', '커피에반하다난곡점', '브런치뷰', '중촌가는길', '애로우팩토리양궁카페', '레드브릭스', '업타운카페LG', '스타벅스포스코사거리점', '다사랑다방', '보아스', '카페처음', '로얄네이쳐', '숲', '오늘은좋은날', '퍼스트클래스롯데청량리점', '카페낀디오', '카페아크', '커피광', '카페드마린', '큐풀러스', '라떼뜨', '우리커피숍', '슈비두비', '오다', '종로강남한의원식품사업부더쌍화', '라이크잇커피앤북스', '이디야커피개봉북부점', '카페티아모', '10TAN', '참된커피', '브루브로스커피', '2.9샌또다방', '카페수프레모', '니어마이비카페', '베네디체레', 'CAFEH', '쥬씨천호초교암사점', '리베카이', '카페바보', '커피빈코리아매헌역점', '카페미플', '사루비아', '새얀', '정커피숍', '민속집카페랑', '썬플레이하우스카페', '작심스터디카페', '카페드리옹케이크부띠끄면목점', '모닝에스프레소', '데미타스커피', '커피체리까페', '금호문화재단', '엣코너', '르브레드랩', '노블카페', '요고요고', '카페씨어터', '플로렛', '밑업', '카페홉슈', '달콤', '영인성', 'SGS영재키즈카페', '민카인드커피', '쥬씨금남시장점', '백송커피숍', '커피볶는카페지팡', '카페에티오', '카페니드', '말리커피강남점말리씨앤브', '프레코티', '엘리앤펀', '에비뉴', '리스커피생각', '뺨이샵', '무상킹코리아', '카페인인', '가루가루', '카페비기닝', '아이리쉬', 'GS25연대서문', '첼바', '어울림카페', '알레그리아커피로스터스', '커피다다', '커피방앗간', '카페퍼블릭', '서드포지션카페', '럭셔리라임PC카페BIN', '에이엠쓰리', '노엘', '카페LUKE', '카페내이처', '아리스타커피압구정점', '베스트슬립힐링카페', '마고이어라', '빠레트', '안에', '카페에스프레소', '킹콩쥬스대치학원가점', '크리스마스자몽목동점', 'kinfolkscoffee', '카페데베르', '커피스튜디오', '코레일유통커피앤스위트', '카페커피씨', '학', 'CAFEIMAGO', '쥬씨창동점', '뚜또', '커피가르텐', '마도', '이치카커피', '코코써니', '카페알토', '수제달달', '북카페다독다독多讀茶讀', '매머드커피묵동자이점', '카페툰', 'e갤러리사주카페', '레인보울45도', '메가커피대학점', '푸른바다', '카페로빈', '커피하우스융', '우리함께', '카페데뮤지까', '지하다방', '하모니앤발란스', '카페그랑아', '라인업PC방', '이수커피', '커피빈코리아동대문두타', '안단테', '마노핀군자역점', '보나비아티제신라', '밀로커피로스터스', '드립하우스커피', '명온열앤힐링', '디톡시', '수레', 'CASABEAN', '올리브42', '웰위치아', '카페보쿠', '개인공간', '아사녀', '카페마노', '커피베리', '아난티', '판다', 'B+', '세인티앤엘', '공간을만드는사람들', '브이알지카페', '커피디엔에이로스팅컴퍼니여의도점', 'MEISTERCOFFEE', '역촌동,카페', '다몽헌', '정이정', '코네카페', '호두사랑', '플로바리스커피', 'sec커피', '한경헌', '헤이리103커피', '마쿤키친카페', '홍대더브릿지', '밀라노', '에르보리앙', '카페눈코입', '핸드드립드로우커피콩', '지유명차청담점', '금화당', '카페기린CAFEKIRIN', 'Artofcoffee', '킹스독', '카페아띠끄', 'Lcafe', '원킨450그람', '스무디킹송파파크하비오점', '럭키스터디까페', '볼룸', '쿠오레에스프레소', '렐란디', '빅머그커피', '플란다스개', '백설공주', '드쿠스커피', '명', '커피클릭', 'Boyacoffee', '카페시우', '빽다방서초우성점', '커피커플', 'Dropp', 'THEBAKE', '다락', '달콩커피', '까페라함', '이코복스커피로스터스', '투썸플레이스충정로역', '콩당콩당', '라온커피앤브래드', 'THECAFESHEENBANG', '꿈북카페', '꽃담', '칠성다방', '사미루', 'caferainbow', '씨앤앤카페영풍문고', '우쥬커피', '작은갤러리', '크리스앤제이든', '백조다방', '아리아', '브라운펄', '기혼COCKTAILBAR', '원기찻집', '커피브루', '백악관', '신세계푸드건국대까페에델리아', '카페드렌', '카페에이룸', '휘카페동부시장점', '카페홈', '스넬스커피전', '예카', '커피빈코리아포스코옆삼성로86길점', '우리다방커피맥주', '북카페자유다', '오늘도커피', '매일유업', '스타벅스종로관수점', '카페슬로우', '카페디프', '공차고척스카이돔점', 'NEO', '크레마', '카페미소', '제이디커피', '커피공방날', '삭제_커피베이', '카페에이전시', '별라카페'}\n"
          ]
        }
      ]
    },
    {
      "cell_type": "code",
      "source": [
        "df_coffee.loc[df_coffee['상호명'].str.contains('스타벅스|starbuks|STARBUCKS'), '상호명'].shape"
      ],
      "metadata": {
        "colab": {
          "base_uri": "https://localhost:8080/"
        },
        "id": "gFhYK3Dq-kHJ",
        "outputId": "d787e0e5-218e-49d7-fb00-410195ee0f9d"
      },
      "execution_count": 32,
      "outputs": [
        {
          "output_type": "execute_result",
          "data": {
            "text/plain": [
              "(506,)"
            ]
          },
          "metadata": {},
          "execution_count": 32
        }
      ]
    },
    {
      "cell_type": "code",
      "source": [
        "df_coffee.loc[df_coffee['상호명'].str.contains('이디야|ediya|EDIYA'), '상호명'].shape"
      ],
      "metadata": {
        "colab": {
          "base_uri": "https://localhost:8080/"
        },
        "id": "gQfBmwCL_d9Z",
        "outputId": "811e9450-fa22-4d91-e3e2-b78ede0f221f"
      },
      "execution_count": 33,
      "outputs": [
        {
          "output_type": "execute_result",
          "data": {
            "text/plain": [
              "(432,)"
            ]
          },
          "metadata": {},
          "execution_count": 33
        }
      ]
    },
    {
      "cell_type": "code",
      "source": [
        "df_coffee.loc[df_coffee['상호명'].str.contains('스타벅스|starbuks|STARBUCKS'), '상호명'].unique()"
      ],
      "metadata": {
        "colab": {
          "base_uri": "https://localhost:8080/"
        },
        "id": "3Y2m9Z3g_qmy",
        "outputId": "81b31f51-c347-4663-aea3-a3a70a031d27"
      },
      "execution_count": 34,
      "outputs": [
        {
          "output_type": "execute_result",
          "data": {
            "text/plain": [
              "array(['스타벅스', '스타벅스종로3가점', '스타벅스커피여의도IFC1F', '스타벅스신림사거리점', '스타벅스커피홍대역',\n",
              "       '스타벅스새문안로점', '스타벅스올림픽평화의문점', '스타벅스가락시장역점', '스타벅스외대점', '스타벅스연신내역',\n",
              "       '스타벅스연세백양로점', '스타벅스석촌역', '스타벅스연대동문', '스타벅스명지대점', '스타벅스압구정로데오역',\n",
              "       '스타벅스신림점', '스타벅스사당점', '스타벅스강남삼성타운점', '스타벅스서울대입구역점', '스타벅스명동미래',\n",
              "       '스타벅스건국클래식점', '스타벅스신촌명물거리점', '스타벅스광장점', '스타벅스커피여의도호성',\n",
              "       '스타벅스올림픽공원북문점', '스타벅스삼선교점', '스타벅스연희DT점', '스타벅스충정타워', '스타벅스종각점',\n",
              "       '스타벅스이수역점', '스타벅스방배카페입구', '스타벅스W-MALL점', '스타벅스마포일진빌딩점',\n",
              "       '스타벅스천호로데오점', '스타벅스용산역점', '스타벅스중계역점', '스타벅스명동메트로', '스타벅스마포아크로타워점',\n",
              "       '스타벅스중랑구청점', '스타벅스남부터미널2점', '스타벅스구로디지털로점', '스타벅스종로관수점', '스타벅스논현힐탑',\n",
              "       '스타벅스삼성도심공항점', '스타벅스선정릉역점', '스타벅스종로2가점', '스타벅스미아역점', '스타벅스선릉로점',\n",
              "       '스타벅스명동역', '스타벅스역삼럭키', '스타벅스커피신도림디큐브시티B2', '스타벅스이태원거리점',\n",
              "       '스타벅스구로에이스트윈타워1점', '스타벅스교대역점', '스타벅스을지로입구', '스타벅스서울중앙우체국점',\n",
              "       '스타벅스명일이마트점', '스타벅스조선호텔후문', '스타벅스목동점', '스타벅스구로하이엔드점', '스타벅스삼성교점',\n",
              "       '스타벅스남산스테이트', '스타벅스서울교대점', '스타벅스커리학동사거리점', '스타벅스강북구청사거리점',\n",
              "       '스타벅스방이역점', '스타벅스청담사거리점', '스타벅스서초파라곤점', '스타벅스종로평창', '스타벅스신압구정점',\n",
              "       '스타벅스명동중앙로', '스타벅스올림픽공원남문점', '스타벅스강변역점', '스타벅스광화문역점', '스타벅스세종로점',\n",
              "       '스타벅스서소문배재', '스타벅스커피가산그레이트', '스타벅스여의도점', '스타벅스경복궁역', '스타벅스차병원사거리',\n",
              "       '스타벅스예술의전당점', '스타벅스을지로센타', '스타벅스중랑역점', '스타벅스학여울점', '스타벅스사당로데오점',\n",
              "       '스타벅스상봉역점', '스타벅스구파발역점', '스타벅스신천역점', '스타벅스숙대입구역점', '스타벅스가든파이브',\n",
              "       '스타벅스동교삼거리점', '스타벅스커피가산브이타워', '스타벅스커피신도림디큐브시티2F', '스타벅스차병원사거리점',\n",
              "       '스타벅스뱅뱅사거리점', '스타벅스석촌서호점', '스타벅스경복아파트점', '스타벅스동교점',\n",
              "       'STARBUCKSCOFFEE', '스타벅스월계이마트점', '스타벅스신촌점', '스타벅스광화문점', '스타벅스구산역점',\n",
              "       '스타벅스숭실대점', '스타벅스상일동점', '스타벅스대치점', '스타벅스광운대점', '스타벅스합정메세나몰점',\n",
              "       '스타벅스목동5단지점', '스타벅스역삼역점', '스타벅스석촌호수점', '스타벅스상암DMC센트럴몰점',\n",
              "       '스타벅스청량리역점', '스타벅스홍대갤러리점', '스타벅스홍대삼거리점', '스타벅스삼청동점', '스타벅스서소문배재점',\n",
              "       '스타벅스숙대점', '스타벅스송파사거리점', '스타벅스길동사거리점', '스타벅스한성대입구역점', '스타벅스잠실점',\n",
              "       '스타벅스가산디지털단지점', '스타벅스오목교역점', '스타벅스금천독산점', '스타벅스노원케이티점',\n",
              "       '스타벅스고대프라자점', '스타벅스황학캐슬점', '스타벅스코엑스사거리점', '스타벅스명동역점',\n",
              "       '스타벅스압구정로데오역점', '스타벅스월드컵경기장점', '스타벅스강남에비뉴점', '스타벅스연신내역점',\n",
              "       '스타벅스상암디지털큐브점상암디지털큐브점', '스타벅스명동길점', '스타벅스방배카페입구점', '스타벅스마포트라팰점',\n",
              "       '스타벅스엔터식스한양대점', '스타벅스종로수송점', '스타벅스미아사거리역점', '스타벅스소공로북창점',\n",
              "       '스타벅스포스코사거리점', '스타벅스신설동역점', '스타벅스화곡동점', '스타벅스종암점', '스타벅스서교동사거리점',\n",
              "       '스타벅스역삼럭키점', '스타벅스동묘앞역점동묘앞역점', '스타벅스둔촌동점', '스타벅스청계산입구역점',\n",
              "       '스타벅스송파방이DT점', '스타벅스숭실대입구역점', '스타벅스염창역점', '스타벅스마포이마트점', '스타벅스약수역점',\n",
              "       '스타벅스회현역점', '스타벅스명동입구점', '스타벅스대치은마사거리점', '스타벅스대치사거리점',\n",
              "       '스타벅스영등포신길DT점', '스타벅스충정타워점', '스타벅스중구저동점', '스타벅스신촌오거리점', '스타벅스강동역점',\n",
              "       '스타벅스합정점', '스타벅스압구정점', '스타벅스가산디지털단지역점', '스타벅스낙성대DT점', '스타벅스성신여대정문',\n",
              "       '스타벅스한남동점', '스타벅스커피마포염리', '스타벅스화곡DT점', '스타벅스강남우성점', '스타벅스양천향교역점',\n",
              "       '스타벅스송파구청점', '스타벅스양천향교역', '스타벅스신사가로수점', '스타벅스신세계본점', '스타벅스청담영동대로점',\n",
              "       '스타벅스서울대역점', '스타벅스서강광흥창역점', '스타벅스경희대삼거리점', '스타벅스신세계본점5F',\n",
              "       '스타벅스문정역점', '스타벅스황학사거리점', '스타벅스문정하비오점', '스타벅스송파위례점',\n",
              "       '스타벅스구로디지털타워점', '스타벅스외대정문점', '스타벅스공릉역점', '스타벅스이수역사거리점',\n",
              "       '스타벅스잠실대교남단점', '스타벅스커피강남대로신사', '스타벅스강남점', '스타벅스신도림점', '스타벅스역점',\n",
              "       '스타벅스강남오거리점', '스타벅스마곡나루역점', '스타벅스노원마들역점', '스타벅스신대방삼거리역점', '스타벅스공덕',\n",
              "       '스타벅스방화DT'], dtype=object)"
            ]
          },
          "metadata": {},
          "execution_count": 34
        }
      ]
    },
    {
      "cell_type": "code",
      "source": [
        "df_coffee.loc[df_coffee['상호명'].str.contains('이디야|ediya|EDIYA'), '상호명'].unique()"
      ],
      "metadata": {
        "colab": {
          "base_uri": "https://localhost:8080/"
        },
        "id": "572-SE2A_wIB",
        "outputId": "fa13aa97-4b14-423b-a26f-27954c34c867"
      },
      "execution_count": 35,
      "outputs": [
        {
          "output_type": "execute_result",
          "data": {
            "text/plain": [
              "array(['이디야커피', '이디야IBK고객센터', '이디야서대문점2호', 'EDIYA커피', '이디야커피전농뉴타운점',\n",
              "       '이디야커피자양동점', '이디야커피은행나무사거리점', '이디야커피마포KCC점', '이디야커피천호현대점',\n",
              "       '이디야커피연구소', '이디야커피동소문동점', '이디야커피전문점', '이디야커피세광교회점', '이디야마들역',\n",
              "       '이디야커피봉천역점', '이디야커피신도림테크노마트', '이디야커피점', '이디야역삼플래티넘', '이디야커피망우점',\n",
              "       'EDIYACOFFEE', '부일이디야커피', 'EDIYACOFFEESHOP', '이디야에스프레소',\n",
              "       '이디야커피경희대점', '이디야커피청계천점', '이디야커피애오개역점', '이디야커피자양사거리점', '이디야커피용두점',\n",
              "       '이디야커피낙원동점', '이디야커피양재AT점', '이디야커피강남역지하상가점', '이디야커피봉천중앙점',\n",
              "       '이디야커피가든파이브', '이디야카페', '이디야커피신림중앙점', '이디야커피수유역점', '이디야커피약수점',\n",
              "       '이디야커피을지로역점', '이디야커피김안과점', '이디야커피한성대역점2층', '이디야커피삼성봉은사로점',\n",
              "       'EDIYA카페', 'ediyacoffee', '이디야커피정릉아리랑점', '이디야커피한국수출입은행점',\n",
              "       '이디야커피디지털미디어시티역사점', '이디야커피일원동점', '이디야커피신금호역점', '이디야커피영등포본동점',\n",
              "       '이디야커피광산사거리점', '이디야커피신길썬프라자점', '이디야커피도봉산역사점', '이디야커피신당중앙점',\n",
              "       '이디야커피중곡대원점', '이디야커피논골사거리점', '이디야커피개봉북부점', '이디야커피돈암아리랑점',\n",
              "       '이디야커피사당역점', '이디야커피텐즈힐점', '이디야커피마곡역점', '이디야커피마곡엠밸리점',\n",
              "       '이디야커피신림문화교점', '이디야커피창신중앙점', '이디야커피한강공원로점', '이디야커피등촌동점',\n",
              "       '이디야커피건대스타시티점', '이디야커피가좌역점', '이디야커피선정릉역점', '이디야불광역', '이디야을지로3가',\n",
              "       '이디야충무로3가', '서아이디야', '이디야당산', '이디야잠실', '이디야커피신림남부초교점', '이디야역삼역',\n",
              "       '이디야삼성', '을지사거리이디야커피숍', '이디야커피우장산동점', '이디야커피문정현대시티몰점', '이디야노원사거리',\n",
              "       '이디야신사역', '이디야사러가', '엠케이이디야마곡나루역점', '마스터키이디야마곡나루역점'], dtype=object)"
            ]
          },
          "metadata": {},
          "execution_count": 35
        }
      ]
    },
    {
      "cell_type": "code",
      "source": [
        "# 스타벅스 데이터를 뽑아온다.\n",
        "df_seoul_starbucks =  df_coffee.loc[df_coffee['상호명'].str.contains('스타벅스|starbuks|STARBUCKS')]\n",
        "df_seoul_starbucks.shape\n"
      ],
      "metadata": {
        "colab": {
          "base_uri": "https://localhost:8080/"
        },
        "id": "02EbbCGYAH4t",
        "outputId": "a4cc9ee5-5661-4c42-d7d4-6f2ce32932bd"
      },
      "execution_count": 36,
      "outputs": [
        {
          "output_type": "execute_result",
          "data": {
            "text/plain": [
              "(506, 9)"
            ]
          },
          "metadata": {},
          "execution_count": 36
        }
      ]
    },
    {
      "cell_type": "code",
      "source": [
        "df_seoul_starbucks.head()"
      ],
      "metadata": {
        "colab": {
          "base_uri": "https://localhost:8080/",
          "height": 206
        },
        "id": "Eygjz2e2AnAW",
        "outputId": "8c7bd535-f78a-4b50-cd42-e2d40f915c45"
      },
      "execution_count": 37,
      "outputs": [
        {
          "output_type": "execute_result",
          "data": {
            "text/plain": [
              "                 상호명    지점명 상권업종중분류명    시도명  시군구명         행정동명  \\\n",
              "752             스타벅스   이태원점   커피점/카페  서울특별시   용산구        이태원1동   \n",
              "1406       스타벅스종로3가점  종로3가점   커피점/카페  서울특별시   종로구  종로1.2.3.4가동   \n",
              "1875            스타벅스   신사2점   커피점/카페  서울특별시   서초구          잠원동   \n",
              "9952  스타벅스커피여의도IFC1F    NaN   커피점/카페  서울특별시  영등포구          여의동   \n",
              "9957            스타벅스   삼성역점   커피점/카페  서울특별시   강남구         삼성1동   \n",
              "\n",
              "                     도로명          경도         위도  \n",
              "752       서울특별시 용산구 이태원로  126.994781  37.534303  \n",
              "1406        서울특별시 종로구 종로  126.990207  37.570585  \n",
              "1875      서울특별시 서초구 강남대로  127.019763  37.513663  \n",
              "9952    서울특별시 영등포구 국제금융로  126.924863  37.525172  \n",
              "9957  서울특별시 강남구 테헤란로103길  127.063878  37.510038  "
            ],
            "text/html": [
              "\n",
              "  <div id=\"df-93c4b94a-e8cd-4bda-9fa6-88deb9ee3d4b\">\n",
              "    <div class=\"colab-df-container\">\n",
              "      <div>\n",
              "<style scoped>\n",
              "    .dataframe tbody tr th:only-of-type {\n",
              "        vertical-align: middle;\n",
              "    }\n",
              "\n",
              "    .dataframe tbody tr th {\n",
              "        vertical-align: top;\n",
              "    }\n",
              "\n",
              "    .dataframe thead th {\n",
              "        text-align: right;\n",
              "    }\n",
              "</style>\n",
              "<table border=\"1\" class=\"dataframe\">\n",
              "  <thead>\n",
              "    <tr style=\"text-align: right;\">\n",
              "      <th></th>\n",
              "      <th>상호명</th>\n",
              "      <th>지점명</th>\n",
              "      <th>상권업종중분류명</th>\n",
              "      <th>시도명</th>\n",
              "      <th>시군구명</th>\n",
              "      <th>행정동명</th>\n",
              "      <th>도로명</th>\n",
              "      <th>경도</th>\n",
              "      <th>위도</th>\n",
              "    </tr>\n",
              "  </thead>\n",
              "  <tbody>\n",
              "    <tr>\n",
              "      <th>752</th>\n",
              "      <td>스타벅스</td>\n",
              "      <td>이태원점</td>\n",
              "      <td>커피점/카페</td>\n",
              "      <td>서울특별시</td>\n",
              "      <td>용산구</td>\n",
              "      <td>이태원1동</td>\n",
              "      <td>서울특별시 용산구 이태원로</td>\n",
              "      <td>126.994781</td>\n",
              "      <td>37.534303</td>\n",
              "    </tr>\n",
              "    <tr>\n",
              "      <th>1406</th>\n",
              "      <td>스타벅스종로3가점</td>\n",
              "      <td>종로3가점</td>\n",
              "      <td>커피점/카페</td>\n",
              "      <td>서울특별시</td>\n",
              "      <td>종로구</td>\n",
              "      <td>종로1.2.3.4가동</td>\n",
              "      <td>서울특별시 종로구 종로</td>\n",
              "      <td>126.990207</td>\n",
              "      <td>37.570585</td>\n",
              "    </tr>\n",
              "    <tr>\n",
              "      <th>1875</th>\n",
              "      <td>스타벅스</td>\n",
              "      <td>신사2점</td>\n",
              "      <td>커피점/카페</td>\n",
              "      <td>서울특별시</td>\n",
              "      <td>서초구</td>\n",
              "      <td>잠원동</td>\n",
              "      <td>서울특별시 서초구 강남대로</td>\n",
              "      <td>127.019763</td>\n",
              "      <td>37.513663</td>\n",
              "    </tr>\n",
              "    <tr>\n",
              "      <th>9952</th>\n",
              "      <td>스타벅스커피여의도IFC1F</td>\n",
              "      <td>NaN</td>\n",
              "      <td>커피점/카페</td>\n",
              "      <td>서울특별시</td>\n",
              "      <td>영등포구</td>\n",
              "      <td>여의동</td>\n",
              "      <td>서울특별시 영등포구 국제금융로</td>\n",
              "      <td>126.924863</td>\n",
              "      <td>37.525172</td>\n",
              "    </tr>\n",
              "    <tr>\n",
              "      <th>9957</th>\n",
              "      <td>스타벅스</td>\n",
              "      <td>삼성역점</td>\n",
              "      <td>커피점/카페</td>\n",
              "      <td>서울특별시</td>\n",
              "      <td>강남구</td>\n",
              "      <td>삼성1동</td>\n",
              "      <td>서울특별시 강남구 테헤란로103길</td>\n",
              "      <td>127.063878</td>\n",
              "      <td>37.510038</td>\n",
              "    </tr>\n",
              "  </tbody>\n",
              "</table>\n",
              "</div>\n",
              "      <button class=\"colab-df-convert\" onclick=\"convertToInteractive('df-93c4b94a-e8cd-4bda-9fa6-88deb9ee3d4b')\"\n",
              "              title=\"Convert this dataframe to an interactive table.\"\n",
              "              style=\"display:none;\">\n",
              "        \n",
              "  <svg xmlns=\"http://www.w3.org/2000/svg\" height=\"24px\"viewBox=\"0 0 24 24\"\n",
              "       width=\"24px\">\n",
              "    <path d=\"M0 0h24v24H0V0z\" fill=\"none\"/>\n",
              "    <path d=\"M18.56 5.44l.94 2.06.94-2.06 2.06-.94-2.06-.94-.94-2.06-.94 2.06-2.06.94zm-11 1L8.5 8.5l.94-2.06 2.06-.94-2.06-.94L8.5 2.5l-.94 2.06-2.06.94zm10 10l.94 2.06.94-2.06 2.06-.94-2.06-.94-.94-2.06-.94 2.06-2.06.94z\"/><path d=\"M17.41 7.96l-1.37-1.37c-.4-.4-.92-.59-1.43-.59-.52 0-1.04.2-1.43.59L10.3 9.45l-7.72 7.72c-.78.78-.78 2.05 0 2.83L4 21.41c.39.39.9.59 1.41.59.51 0 1.02-.2 1.41-.59l7.78-7.78 2.81-2.81c.8-.78.8-2.07 0-2.86zM5.41 20L4 18.59l7.72-7.72 1.47 1.35L5.41 20z\"/>\n",
              "  </svg>\n",
              "      </button>\n",
              "      \n",
              "  <style>\n",
              "    .colab-df-container {\n",
              "      display:flex;\n",
              "      flex-wrap:wrap;\n",
              "      gap: 12px;\n",
              "    }\n",
              "\n",
              "    .colab-df-convert {\n",
              "      background-color: #E8F0FE;\n",
              "      border: none;\n",
              "      border-radius: 50%;\n",
              "      cursor: pointer;\n",
              "      display: none;\n",
              "      fill: #1967D2;\n",
              "      height: 32px;\n",
              "      padding: 0 0 0 0;\n",
              "      width: 32px;\n",
              "    }\n",
              "\n",
              "    .colab-df-convert:hover {\n",
              "      background-color: #E2EBFA;\n",
              "      box-shadow: 0px 1px 2px rgba(60, 64, 67, 0.3), 0px 1px 3px 1px rgba(60, 64, 67, 0.15);\n",
              "      fill: #174EA6;\n",
              "    }\n",
              "\n",
              "    [theme=dark] .colab-df-convert {\n",
              "      background-color: #3B4455;\n",
              "      fill: #D2E3FC;\n",
              "    }\n",
              "\n",
              "    [theme=dark] .colab-df-convert:hover {\n",
              "      background-color: #434B5C;\n",
              "      box-shadow: 0px 1px 3px 1px rgba(0, 0, 0, 0.15);\n",
              "      filter: drop-shadow(0px 1px 2px rgba(0, 0, 0, 0.3));\n",
              "      fill: #FFFFFF;\n",
              "    }\n",
              "  </style>\n",
              "\n",
              "      <script>\n",
              "        const buttonEl =\n",
              "          document.querySelector('#df-93c4b94a-e8cd-4bda-9fa6-88deb9ee3d4b button.colab-df-convert');\n",
              "        buttonEl.style.display =\n",
              "          google.colab.kernel.accessAllowed ? 'block' : 'none';\n",
              "\n",
              "        async function convertToInteractive(key) {\n",
              "          const element = document.querySelector('#df-93c4b94a-e8cd-4bda-9fa6-88deb9ee3d4b');\n",
              "          const dataTable =\n",
              "            await google.colab.kernel.invokeFunction('convertToInteractive',\n",
              "                                                     [key], {});\n",
              "          if (!dataTable) return;\n",
              "\n",
              "          const docLinkHtml = 'Like what you see? Visit the ' +\n",
              "            '<a target=\"_blank\" href=https://colab.research.google.com/notebooks/data_table.ipynb>data table notebook</a>'\n",
              "            + ' to learn more about interactive tables.';\n",
              "          element.innerHTML = '';\n",
              "          dataTable['output_type'] = 'display_data';\n",
              "          await google.colab.output.renderOutput(dataTable, element);\n",
              "          const docLink = document.createElement('div');\n",
              "          docLink.innerHTML = docLinkHtml;\n",
              "          element.appendChild(docLink);\n",
              "        }\n",
              "      </script>\n",
              "    </div>\n",
              "  </div>\n",
              "  "
            ]
          },
          "metadata": {},
          "execution_count": 37
        }
      ]
    },
    {
      "cell_type": "code",
      "source": [
        "df_coffee.loc[df_coffee['상호명'].str.contains('이디야|ediya|EDIYA'), '상호명'].shape"
      ],
      "metadata": {
        "colab": {
          "base_uri": "https://localhost:8080/"
        },
        "id": "61oieFjGA7s1",
        "outputId": "e6e50d0d-f251-4015-8aff-97440082b929"
      },
      "execution_count": 38,
      "outputs": [
        {
          "output_type": "execute_result",
          "data": {
            "text/plain": [
              "(432,)"
            ]
          },
          "metadata": {},
          "execution_count": 38
        }
      ]
    },
    {
      "cell_type": "code",
      "source": [
        "#이디야 데이터를 뽑아온다.\n",
        "df_coffee_ediya = df_coffee.loc[df_coffee['상호명'].str.contains('이디야|ediya|EDIYA')]\n",
        "df_coffee_ediya.shape"
      ],
      "metadata": {
        "colab": {
          "base_uri": "https://localhost:8080/"
        },
        "id": "7l1qwjAlDMAo",
        "outputId": "8d12b4b5-e023-47c9-9d57-dd6e9db4c880"
      },
      "execution_count": 39,
      "outputs": [
        {
          "output_type": "execute_result",
          "data": {
            "text/plain": [
              "(432, 9)"
            ]
          },
          "metadata": {},
          "execution_count": 39
        }
      ]
    },
    {
      "cell_type": "code",
      "source": [
        "df_coffee_ediya.head()"
      ],
      "metadata": {
        "colab": {
          "base_uri": "https://localhost:8080/",
          "height": 206
        },
        "id": "wa2fvzZHDiVi",
        "outputId": "39d81ff5-ba48-4134-d7d6-21d28524b5ea"
      },
      "execution_count": 40,
      "outputs": [
        {
          "output_type": "execute_result",
          "data": {
            "text/plain": [
              "         상호명      지점명 상권업종중분류명    시도명  시군구명     행정동명                 도로명  \\\n",
              "1153   이디야커피     신길역점   커피점/카페  서울특별시  영등포구     신길1동     서울특별시 영등포구 영등포로   \n",
              "1981   이디야커피   이마트구로점   커피점/카페  서울특별시   구로구     구로3동   서울특별시 구로구 디지털로32길   \n",
              "5352   이디야커피  중계롯데우성점   커피점/카페  서울특별시   노원구     중계1동    서울특별시 노원구 노원로22길   \n",
              "9359   이디야커피     금호역점   커피점/카페  서울특별시   성동구  금호2.3가동       서울특별시 성동구 장터길   \n",
              "10176  이디야커피      NaN   커피점/카페  서울특별시   강남구     대치2동  서울특별시 강남구 테헤란로104길   \n",
              "\n",
              "               경도         위도  \n",
              "1153   126.918062  37.515118  \n",
              "1981   126.897870  37.484385  \n",
              "5352   127.072754  37.646364  \n",
              "9359   127.017791  37.548427  \n",
              "10176  127.064790  37.508585  "
            ],
            "text/html": [
              "\n",
              "  <div id=\"df-a80c3d66-05bc-4426-a11f-100cca298240\">\n",
              "    <div class=\"colab-df-container\">\n",
              "      <div>\n",
              "<style scoped>\n",
              "    .dataframe tbody tr th:only-of-type {\n",
              "        vertical-align: middle;\n",
              "    }\n",
              "\n",
              "    .dataframe tbody tr th {\n",
              "        vertical-align: top;\n",
              "    }\n",
              "\n",
              "    .dataframe thead th {\n",
              "        text-align: right;\n",
              "    }\n",
              "</style>\n",
              "<table border=\"1\" class=\"dataframe\">\n",
              "  <thead>\n",
              "    <tr style=\"text-align: right;\">\n",
              "      <th></th>\n",
              "      <th>상호명</th>\n",
              "      <th>지점명</th>\n",
              "      <th>상권업종중분류명</th>\n",
              "      <th>시도명</th>\n",
              "      <th>시군구명</th>\n",
              "      <th>행정동명</th>\n",
              "      <th>도로명</th>\n",
              "      <th>경도</th>\n",
              "      <th>위도</th>\n",
              "    </tr>\n",
              "  </thead>\n",
              "  <tbody>\n",
              "    <tr>\n",
              "      <th>1153</th>\n",
              "      <td>이디야커피</td>\n",
              "      <td>신길역점</td>\n",
              "      <td>커피점/카페</td>\n",
              "      <td>서울특별시</td>\n",
              "      <td>영등포구</td>\n",
              "      <td>신길1동</td>\n",
              "      <td>서울특별시 영등포구 영등포로</td>\n",
              "      <td>126.918062</td>\n",
              "      <td>37.515118</td>\n",
              "    </tr>\n",
              "    <tr>\n",
              "      <th>1981</th>\n",
              "      <td>이디야커피</td>\n",
              "      <td>이마트구로점</td>\n",
              "      <td>커피점/카페</td>\n",
              "      <td>서울특별시</td>\n",
              "      <td>구로구</td>\n",
              "      <td>구로3동</td>\n",
              "      <td>서울특별시 구로구 디지털로32길</td>\n",
              "      <td>126.897870</td>\n",
              "      <td>37.484385</td>\n",
              "    </tr>\n",
              "    <tr>\n",
              "      <th>5352</th>\n",
              "      <td>이디야커피</td>\n",
              "      <td>중계롯데우성점</td>\n",
              "      <td>커피점/카페</td>\n",
              "      <td>서울특별시</td>\n",
              "      <td>노원구</td>\n",
              "      <td>중계1동</td>\n",
              "      <td>서울특별시 노원구 노원로22길</td>\n",
              "      <td>127.072754</td>\n",
              "      <td>37.646364</td>\n",
              "    </tr>\n",
              "    <tr>\n",
              "      <th>9359</th>\n",
              "      <td>이디야커피</td>\n",
              "      <td>금호역점</td>\n",
              "      <td>커피점/카페</td>\n",
              "      <td>서울특별시</td>\n",
              "      <td>성동구</td>\n",
              "      <td>금호2.3가동</td>\n",
              "      <td>서울특별시 성동구 장터길</td>\n",
              "      <td>127.017791</td>\n",
              "      <td>37.548427</td>\n",
              "    </tr>\n",
              "    <tr>\n",
              "      <th>10176</th>\n",
              "      <td>이디야커피</td>\n",
              "      <td>NaN</td>\n",
              "      <td>커피점/카페</td>\n",
              "      <td>서울특별시</td>\n",
              "      <td>강남구</td>\n",
              "      <td>대치2동</td>\n",
              "      <td>서울특별시 강남구 테헤란로104길</td>\n",
              "      <td>127.064790</td>\n",
              "      <td>37.508585</td>\n",
              "    </tr>\n",
              "  </tbody>\n",
              "</table>\n",
              "</div>\n",
              "      <button class=\"colab-df-convert\" onclick=\"convertToInteractive('df-a80c3d66-05bc-4426-a11f-100cca298240')\"\n",
              "              title=\"Convert this dataframe to an interactive table.\"\n",
              "              style=\"display:none;\">\n",
              "        \n",
              "  <svg xmlns=\"http://www.w3.org/2000/svg\" height=\"24px\"viewBox=\"0 0 24 24\"\n",
              "       width=\"24px\">\n",
              "    <path d=\"M0 0h24v24H0V0z\" fill=\"none\"/>\n",
              "    <path d=\"M18.56 5.44l.94 2.06.94-2.06 2.06-.94-2.06-.94-.94-2.06-.94 2.06-2.06.94zm-11 1L8.5 8.5l.94-2.06 2.06-.94-2.06-.94L8.5 2.5l-.94 2.06-2.06.94zm10 10l.94 2.06.94-2.06 2.06-.94-2.06-.94-.94-2.06-.94 2.06-2.06.94z\"/><path d=\"M17.41 7.96l-1.37-1.37c-.4-.4-.92-.59-1.43-.59-.52 0-1.04.2-1.43.59L10.3 9.45l-7.72 7.72c-.78.78-.78 2.05 0 2.83L4 21.41c.39.39.9.59 1.41.59.51 0 1.02-.2 1.41-.59l7.78-7.78 2.81-2.81c.8-.78.8-2.07 0-2.86zM5.41 20L4 18.59l7.72-7.72 1.47 1.35L5.41 20z\"/>\n",
              "  </svg>\n",
              "      </button>\n",
              "      \n",
              "  <style>\n",
              "    .colab-df-container {\n",
              "      display:flex;\n",
              "      flex-wrap:wrap;\n",
              "      gap: 12px;\n",
              "    }\n",
              "\n",
              "    .colab-df-convert {\n",
              "      background-color: #E8F0FE;\n",
              "      border: none;\n",
              "      border-radius: 50%;\n",
              "      cursor: pointer;\n",
              "      display: none;\n",
              "      fill: #1967D2;\n",
              "      height: 32px;\n",
              "      padding: 0 0 0 0;\n",
              "      width: 32px;\n",
              "    }\n",
              "\n",
              "    .colab-df-convert:hover {\n",
              "      background-color: #E2EBFA;\n",
              "      box-shadow: 0px 1px 2px rgba(60, 64, 67, 0.3), 0px 1px 3px 1px rgba(60, 64, 67, 0.15);\n",
              "      fill: #174EA6;\n",
              "    }\n",
              "\n",
              "    [theme=dark] .colab-df-convert {\n",
              "      background-color: #3B4455;\n",
              "      fill: #D2E3FC;\n",
              "    }\n",
              "\n",
              "    [theme=dark] .colab-df-convert:hover {\n",
              "      background-color: #434B5C;\n",
              "      box-shadow: 0px 1px 3px 1px rgba(0, 0, 0, 0.15);\n",
              "      filter: drop-shadow(0px 1px 2px rgba(0, 0, 0, 0.3));\n",
              "      fill: #FFFFFF;\n",
              "    }\n",
              "  </style>\n",
              "\n",
              "      <script>\n",
              "        const buttonEl =\n",
              "          document.querySelector('#df-a80c3d66-05bc-4426-a11f-100cca298240 button.colab-df-convert');\n",
              "        buttonEl.style.display =\n",
              "          google.colab.kernel.accessAllowed ? 'block' : 'none';\n",
              "\n",
              "        async function convertToInteractive(key) {\n",
              "          const element = document.querySelector('#df-a80c3d66-05bc-4426-a11f-100cca298240');\n",
              "          const dataTable =\n",
              "            await google.colab.kernel.invokeFunction('convertToInteractive',\n",
              "                                                     [key], {});\n",
              "          if (!dataTable) return;\n",
              "\n",
              "          const docLinkHtml = 'Like what you see? Visit the ' +\n",
              "            '<a target=\"_blank\" href=https://colab.research.google.com/notebooks/data_table.ipynb>data table notebook</a>'\n",
              "            + ' to learn more about interactive tables.';\n",
              "          element.innerHTML = '';\n",
              "          dataTable['output_type'] = 'display_data';\n",
              "          await google.colab.output.renderOutput(dataTable, element);\n",
              "          const docLink = document.createElement('div');\n",
              "          docLink.innerHTML = docLinkHtml;\n",
              "          element.appendChild(docLink);\n",
              "        }\n",
              "      </script>\n",
              "    </div>\n",
              "  </div>\n",
              "  "
            ]
          },
          "metadata": {},
          "execution_count": 40
        }
      ]
    },
    {
      "cell_type": "code",
      "source": [
        "# 스타벅스와 이디야 데이터 뽑아오기\n",
        "df_coffee_star_edi = df_coffee.loc[df_coffee['상호명'].str.contains('이디야|ediya|EDIYA|스타벅스|STARBUCKS|starbucks')].copy()\n",
        "df_coffee_star_edi.shape"
      ],
      "metadata": {
        "colab": {
          "base_uri": "https://localhost:8080/"
        },
        "id": "EOnZPFBRDnUk",
        "outputId": "8f89c9c9-6c21-45fe-897e-1b1f0fa6fcce"
      },
      "execution_count": 41,
      "outputs": [
        {
          "output_type": "execute_result",
          "data": {
            "text/plain": [
              "(938, 9)"
            ]
          },
          "metadata": {},
          "execution_count": 41
        }
      ]
    },
    {
      "cell_type": "code",
      "source": [
        "df_coffee_star_edi.head()"
      ],
      "metadata": {
        "colab": {
          "base_uri": "https://localhost:8080/",
          "height": 206
        },
        "id": "e4QwgkzREcjX",
        "outputId": "12b88ae9-3578-443c-c942-9c21698aff46"
      },
      "execution_count": 42,
      "outputs": [
        {
          "output_type": "execute_result",
          "data": {
            "text/plain": [
              "            상호명     지점명 상권업종중분류명    시도명  시군구명         행정동명                도로명  \\\n",
              "752        스타벅스    이태원점   커피점/카페  서울특별시   용산구        이태원1동     서울특별시 용산구 이태원로   \n",
              "1153      이디야커피    신길역점   커피점/카페  서울특별시  영등포구         신길1동    서울특별시 영등포구 영등포로   \n",
              "1406  스타벅스종로3가점   종로3가점   커피점/카페  서울특별시   종로구  종로1.2.3.4가동       서울특별시 종로구 종로   \n",
              "1875       스타벅스    신사2점   커피점/카페  서울특별시   서초구          잠원동     서울특별시 서초구 강남대로   \n",
              "1981      이디야커피  이마트구로점   커피점/카페  서울특별시   구로구         구로3동  서울특별시 구로구 디지털로32길   \n",
              "\n",
              "              경도         위도  \n",
              "752   126.994781  37.534303  \n",
              "1153  126.918062  37.515118  \n",
              "1406  126.990207  37.570585  \n",
              "1875  127.019763  37.513663  \n",
              "1981  126.897870  37.484385  "
            ],
            "text/html": [
              "\n",
              "  <div id=\"df-102e1966-580e-4afa-8fc4-3cda5a09c8f4\">\n",
              "    <div class=\"colab-df-container\">\n",
              "      <div>\n",
              "<style scoped>\n",
              "    .dataframe tbody tr th:only-of-type {\n",
              "        vertical-align: middle;\n",
              "    }\n",
              "\n",
              "    .dataframe tbody tr th {\n",
              "        vertical-align: top;\n",
              "    }\n",
              "\n",
              "    .dataframe thead th {\n",
              "        text-align: right;\n",
              "    }\n",
              "</style>\n",
              "<table border=\"1\" class=\"dataframe\">\n",
              "  <thead>\n",
              "    <tr style=\"text-align: right;\">\n",
              "      <th></th>\n",
              "      <th>상호명</th>\n",
              "      <th>지점명</th>\n",
              "      <th>상권업종중분류명</th>\n",
              "      <th>시도명</th>\n",
              "      <th>시군구명</th>\n",
              "      <th>행정동명</th>\n",
              "      <th>도로명</th>\n",
              "      <th>경도</th>\n",
              "      <th>위도</th>\n",
              "    </tr>\n",
              "  </thead>\n",
              "  <tbody>\n",
              "    <tr>\n",
              "      <th>752</th>\n",
              "      <td>스타벅스</td>\n",
              "      <td>이태원점</td>\n",
              "      <td>커피점/카페</td>\n",
              "      <td>서울특별시</td>\n",
              "      <td>용산구</td>\n",
              "      <td>이태원1동</td>\n",
              "      <td>서울특별시 용산구 이태원로</td>\n",
              "      <td>126.994781</td>\n",
              "      <td>37.534303</td>\n",
              "    </tr>\n",
              "    <tr>\n",
              "      <th>1153</th>\n",
              "      <td>이디야커피</td>\n",
              "      <td>신길역점</td>\n",
              "      <td>커피점/카페</td>\n",
              "      <td>서울특별시</td>\n",
              "      <td>영등포구</td>\n",
              "      <td>신길1동</td>\n",
              "      <td>서울특별시 영등포구 영등포로</td>\n",
              "      <td>126.918062</td>\n",
              "      <td>37.515118</td>\n",
              "    </tr>\n",
              "    <tr>\n",
              "      <th>1406</th>\n",
              "      <td>스타벅스종로3가점</td>\n",
              "      <td>종로3가점</td>\n",
              "      <td>커피점/카페</td>\n",
              "      <td>서울특별시</td>\n",
              "      <td>종로구</td>\n",
              "      <td>종로1.2.3.4가동</td>\n",
              "      <td>서울특별시 종로구 종로</td>\n",
              "      <td>126.990207</td>\n",
              "      <td>37.570585</td>\n",
              "    </tr>\n",
              "    <tr>\n",
              "      <th>1875</th>\n",
              "      <td>스타벅스</td>\n",
              "      <td>신사2점</td>\n",
              "      <td>커피점/카페</td>\n",
              "      <td>서울특별시</td>\n",
              "      <td>서초구</td>\n",
              "      <td>잠원동</td>\n",
              "      <td>서울특별시 서초구 강남대로</td>\n",
              "      <td>127.019763</td>\n",
              "      <td>37.513663</td>\n",
              "    </tr>\n",
              "    <tr>\n",
              "      <th>1981</th>\n",
              "      <td>이디야커피</td>\n",
              "      <td>이마트구로점</td>\n",
              "      <td>커피점/카페</td>\n",
              "      <td>서울특별시</td>\n",
              "      <td>구로구</td>\n",
              "      <td>구로3동</td>\n",
              "      <td>서울특별시 구로구 디지털로32길</td>\n",
              "      <td>126.897870</td>\n",
              "      <td>37.484385</td>\n",
              "    </tr>\n",
              "  </tbody>\n",
              "</table>\n",
              "</div>\n",
              "      <button class=\"colab-df-convert\" onclick=\"convertToInteractive('df-102e1966-580e-4afa-8fc4-3cda5a09c8f4')\"\n",
              "              title=\"Convert this dataframe to an interactive table.\"\n",
              "              style=\"display:none;\">\n",
              "        \n",
              "  <svg xmlns=\"http://www.w3.org/2000/svg\" height=\"24px\"viewBox=\"0 0 24 24\"\n",
              "       width=\"24px\">\n",
              "    <path d=\"M0 0h24v24H0V0z\" fill=\"none\"/>\n",
              "    <path d=\"M18.56 5.44l.94 2.06.94-2.06 2.06-.94-2.06-.94-.94-2.06-.94 2.06-2.06.94zm-11 1L8.5 8.5l.94-2.06 2.06-.94-2.06-.94L8.5 2.5l-.94 2.06-2.06.94zm10 10l.94 2.06.94-2.06 2.06-.94-2.06-.94-.94-2.06-.94 2.06-2.06.94z\"/><path d=\"M17.41 7.96l-1.37-1.37c-.4-.4-.92-.59-1.43-.59-.52 0-1.04.2-1.43.59L10.3 9.45l-7.72 7.72c-.78.78-.78 2.05 0 2.83L4 21.41c.39.39.9.59 1.41.59.51 0 1.02-.2 1.41-.59l7.78-7.78 2.81-2.81c.8-.78.8-2.07 0-2.86zM5.41 20L4 18.59l7.72-7.72 1.47 1.35L5.41 20z\"/>\n",
              "  </svg>\n",
              "      </button>\n",
              "      \n",
              "  <style>\n",
              "    .colab-df-container {\n",
              "      display:flex;\n",
              "      flex-wrap:wrap;\n",
              "      gap: 12px;\n",
              "    }\n",
              "\n",
              "    .colab-df-convert {\n",
              "      background-color: #E8F0FE;\n",
              "      border: none;\n",
              "      border-radius: 50%;\n",
              "      cursor: pointer;\n",
              "      display: none;\n",
              "      fill: #1967D2;\n",
              "      height: 32px;\n",
              "      padding: 0 0 0 0;\n",
              "      width: 32px;\n",
              "    }\n",
              "\n",
              "    .colab-df-convert:hover {\n",
              "      background-color: #E2EBFA;\n",
              "      box-shadow: 0px 1px 2px rgba(60, 64, 67, 0.3), 0px 1px 3px 1px rgba(60, 64, 67, 0.15);\n",
              "      fill: #174EA6;\n",
              "    }\n",
              "\n",
              "    [theme=dark] .colab-df-convert {\n",
              "      background-color: #3B4455;\n",
              "      fill: #D2E3FC;\n",
              "    }\n",
              "\n",
              "    [theme=dark] .colab-df-convert:hover {\n",
              "      background-color: #434B5C;\n",
              "      box-shadow: 0px 1px 3px 1px rgba(0, 0, 0, 0.15);\n",
              "      filter: drop-shadow(0px 1px 2px rgba(0, 0, 0, 0.3));\n",
              "      fill: #FFFFFF;\n",
              "    }\n",
              "  </style>\n",
              "\n",
              "      <script>\n",
              "        const buttonEl =\n",
              "          document.querySelector('#df-102e1966-580e-4afa-8fc4-3cda5a09c8f4 button.colab-df-convert');\n",
              "        buttonEl.style.display =\n",
              "          google.colab.kernel.accessAllowed ? 'block' : 'none';\n",
              "\n",
              "        async function convertToInteractive(key) {\n",
              "          const element = document.querySelector('#df-102e1966-580e-4afa-8fc4-3cda5a09c8f4');\n",
              "          const dataTable =\n",
              "            await google.colab.kernel.invokeFunction('convertToInteractive',\n",
              "                                                     [key], {});\n",
              "          if (!dataTable) return;\n",
              "\n",
              "          const docLinkHtml = 'Like what you see? Visit the ' +\n",
              "            '<a target=\"_blank\" href=https://colab.research.google.com/notebooks/data_table.ipynb>data table notebook</a>'\n",
              "            + ' to learn more about interactive tables.';\n",
              "          element.innerHTML = '';\n",
              "          dataTable['output_type'] = 'display_data';\n",
              "          await google.colab.output.renderOutput(dataTable, element);\n",
              "          const docLink = document.createElement('div');\n",
              "          docLink.innerHTML = docLinkHtml;\n",
              "          element.appendChild(docLink);\n",
              "        }\n",
              "      </script>\n",
              "    </div>\n",
              "  </div>\n",
              "  "
            ]
          },
          "metadata": {},
          "execution_count": 42
        }
      ]
    },
    {
      "cell_type": "code",
      "source": [
        "df_coffee_star_edi.loc[df_coffee_star_edi['상호명'].str.contains('스타벅스|starbucks|STARBUCKS'),'브랜드명']='스타벅스'"
      ],
      "metadata": {
        "id": "WnHNGBpoEfUx"
      },
      "execution_count": 43,
      "outputs": []
    },
    {
      "cell_type": "code",
      "source": [
        "df_coffee_star_edi.loc[df_coffee_star_edi['상호명'].str.contains('이디야|ediya|EDIYA'),'브랜드명']='이디야'"
      ],
      "metadata": {
        "id": "tBcIXwOuF8UG"
      },
      "execution_count": 44,
      "outputs": []
    },
    {
      "cell_type": "code",
      "source": [
        "df_coffee_star_edi.head()"
      ],
      "metadata": {
        "colab": {
          "base_uri": "https://localhost:8080/",
          "height": 206
        },
        "id": "xyzMCStGE3L5",
        "outputId": "db6e1ddd-77f9-46a0-f78c-0029b34be4c7"
      },
      "execution_count": 45,
      "outputs": [
        {
          "output_type": "execute_result",
          "data": {
            "text/plain": [
              "            상호명     지점명 상권업종중분류명    시도명  시군구명         행정동명                도로명  \\\n",
              "752        스타벅스    이태원점   커피점/카페  서울특별시   용산구        이태원1동     서울특별시 용산구 이태원로   \n",
              "1153      이디야커피    신길역점   커피점/카페  서울특별시  영등포구         신길1동    서울특별시 영등포구 영등포로   \n",
              "1406  스타벅스종로3가점   종로3가점   커피점/카페  서울특별시   종로구  종로1.2.3.4가동       서울특별시 종로구 종로   \n",
              "1875       스타벅스    신사2점   커피점/카페  서울특별시   서초구          잠원동     서울특별시 서초구 강남대로   \n",
              "1981      이디야커피  이마트구로점   커피점/카페  서울특별시   구로구         구로3동  서울특별시 구로구 디지털로32길   \n",
              "\n",
              "              경도         위도  브랜드명  \n",
              "752   126.994781  37.534303  스타벅스  \n",
              "1153  126.918062  37.515118   이디야  \n",
              "1406  126.990207  37.570585  스타벅스  \n",
              "1875  127.019763  37.513663  스타벅스  \n",
              "1981  126.897870  37.484385   이디야  "
            ],
            "text/html": [
              "\n",
              "  <div id=\"df-787fcdea-700b-4c5f-bd80-d9fe0105e709\">\n",
              "    <div class=\"colab-df-container\">\n",
              "      <div>\n",
              "<style scoped>\n",
              "    .dataframe tbody tr th:only-of-type {\n",
              "        vertical-align: middle;\n",
              "    }\n",
              "\n",
              "    .dataframe tbody tr th {\n",
              "        vertical-align: top;\n",
              "    }\n",
              "\n",
              "    .dataframe thead th {\n",
              "        text-align: right;\n",
              "    }\n",
              "</style>\n",
              "<table border=\"1\" class=\"dataframe\">\n",
              "  <thead>\n",
              "    <tr style=\"text-align: right;\">\n",
              "      <th></th>\n",
              "      <th>상호명</th>\n",
              "      <th>지점명</th>\n",
              "      <th>상권업종중분류명</th>\n",
              "      <th>시도명</th>\n",
              "      <th>시군구명</th>\n",
              "      <th>행정동명</th>\n",
              "      <th>도로명</th>\n",
              "      <th>경도</th>\n",
              "      <th>위도</th>\n",
              "      <th>브랜드명</th>\n",
              "    </tr>\n",
              "  </thead>\n",
              "  <tbody>\n",
              "    <tr>\n",
              "      <th>752</th>\n",
              "      <td>스타벅스</td>\n",
              "      <td>이태원점</td>\n",
              "      <td>커피점/카페</td>\n",
              "      <td>서울특별시</td>\n",
              "      <td>용산구</td>\n",
              "      <td>이태원1동</td>\n",
              "      <td>서울특별시 용산구 이태원로</td>\n",
              "      <td>126.994781</td>\n",
              "      <td>37.534303</td>\n",
              "      <td>스타벅스</td>\n",
              "    </tr>\n",
              "    <tr>\n",
              "      <th>1153</th>\n",
              "      <td>이디야커피</td>\n",
              "      <td>신길역점</td>\n",
              "      <td>커피점/카페</td>\n",
              "      <td>서울특별시</td>\n",
              "      <td>영등포구</td>\n",
              "      <td>신길1동</td>\n",
              "      <td>서울특별시 영등포구 영등포로</td>\n",
              "      <td>126.918062</td>\n",
              "      <td>37.515118</td>\n",
              "      <td>이디야</td>\n",
              "    </tr>\n",
              "    <tr>\n",
              "      <th>1406</th>\n",
              "      <td>스타벅스종로3가점</td>\n",
              "      <td>종로3가점</td>\n",
              "      <td>커피점/카페</td>\n",
              "      <td>서울특별시</td>\n",
              "      <td>종로구</td>\n",
              "      <td>종로1.2.3.4가동</td>\n",
              "      <td>서울특별시 종로구 종로</td>\n",
              "      <td>126.990207</td>\n",
              "      <td>37.570585</td>\n",
              "      <td>스타벅스</td>\n",
              "    </tr>\n",
              "    <tr>\n",
              "      <th>1875</th>\n",
              "      <td>스타벅스</td>\n",
              "      <td>신사2점</td>\n",
              "      <td>커피점/카페</td>\n",
              "      <td>서울특별시</td>\n",
              "      <td>서초구</td>\n",
              "      <td>잠원동</td>\n",
              "      <td>서울특별시 서초구 강남대로</td>\n",
              "      <td>127.019763</td>\n",
              "      <td>37.513663</td>\n",
              "      <td>스타벅스</td>\n",
              "    </tr>\n",
              "    <tr>\n",
              "      <th>1981</th>\n",
              "      <td>이디야커피</td>\n",
              "      <td>이마트구로점</td>\n",
              "      <td>커피점/카페</td>\n",
              "      <td>서울특별시</td>\n",
              "      <td>구로구</td>\n",
              "      <td>구로3동</td>\n",
              "      <td>서울특별시 구로구 디지털로32길</td>\n",
              "      <td>126.897870</td>\n",
              "      <td>37.484385</td>\n",
              "      <td>이디야</td>\n",
              "    </tr>\n",
              "  </tbody>\n",
              "</table>\n",
              "</div>\n",
              "      <button class=\"colab-df-convert\" onclick=\"convertToInteractive('df-787fcdea-700b-4c5f-bd80-d9fe0105e709')\"\n",
              "              title=\"Convert this dataframe to an interactive table.\"\n",
              "              style=\"display:none;\">\n",
              "        \n",
              "  <svg xmlns=\"http://www.w3.org/2000/svg\" height=\"24px\"viewBox=\"0 0 24 24\"\n",
              "       width=\"24px\">\n",
              "    <path d=\"M0 0h24v24H0V0z\" fill=\"none\"/>\n",
              "    <path d=\"M18.56 5.44l.94 2.06.94-2.06 2.06-.94-2.06-.94-.94-2.06-.94 2.06-2.06.94zm-11 1L8.5 8.5l.94-2.06 2.06-.94-2.06-.94L8.5 2.5l-.94 2.06-2.06.94zm10 10l.94 2.06.94-2.06 2.06-.94-2.06-.94-.94-2.06-.94 2.06-2.06.94z\"/><path d=\"M17.41 7.96l-1.37-1.37c-.4-.4-.92-.59-1.43-.59-.52 0-1.04.2-1.43.59L10.3 9.45l-7.72 7.72c-.78.78-.78 2.05 0 2.83L4 21.41c.39.39.9.59 1.41.59.51 0 1.02-.2 1.41-.59l7.78-7.78 2.81-2.81c.8-.78.8-2.07 0-2.86zM5.41 20L4 18.59l7.72-7.72 1.47 1.35L5.41 20z\"/>\n",
              "  </svg>\n",
              "      </button>\n",
              "      \n",
              "  <style>\n",
              "    .colab-df-container {\n",
              "      display:flex;\n",
              "      flex-wrap:wrap;\n",
              "      gap: 12px;\n",
              "    }\n",
              "\n",
              "    .colab-df-convert {\n",
              "      background-color: #E8F0FE;\n",
              "      border: none;\n",
              "      border-radius: 50%;\n",
              "      cursor: pointer;\n",
              "      display: none;\n",
              "      fill: #1967D2;\n",
              "      height: 32px;\n",
              "      padding: 0 0 0 0;\n",
              "      width: 32px;\n",
              "    }\n",
              "\n",
              "    .colab-df-convert:hover {\n",
              "      background-color: #E2EBFA;\n",
              "      box-shadow: 0px 1px 2px rgba(60, 64, 67, 0.3), 0px 1px 3px 1px rgba(60, 64, 67, 0.15);\n",
              "      fill: #174EA6;\n",
              "    }\n",
              "\n",
              "    [theme=dark] .colab-df-convert {\n",
              "      background-color: #3B4455;\n",
              "      fill: #D2E3FC;\n",
              "    }\n",
              "\n",
              "    [theme=dark] .colab-df-convert:hover {\n",
              "      background-color: #434B5C;\n",
              "      box-shadow: 0px 1px 3px 1px rgba(0, 0, 0, 0.15);\n",
              "      filter: drop-shadow(0px 1px 2px rgba(0, 0, 0, 0.3));\n",
              "      fill: #FFFFFF;\n",
              "    }\n",
              "  </style>\n",
              "\n",
              "      <script>\n",
              "        const buttonEl =\n",
              "          document.querySelector('#df-787fcdea-700b-4c5f-bd80-d9fe0105e709 button.colab-df-convert');\n",
              "        buttonEl.style.display =\n",
              "          google.colab.kernel.accessAllowed ? 'block' : 'none';\n",
              "\n",
              "        async function convertToInteractive(key) {\n",
              "          const element = document.querySelector('#df-787fcdea-700b-4c5f-bd80-d9fe0105e709');\n",
              "          const dataTable =\n",
              "            await google.colab.kernel.invokeFunction('convertToInteractive',\n",
              "                                                     [key], {});\n",
              "          if (!dataTable) return;\n",
              "\n",
              "          const docLinkHtml = 'Like what you see? Visit the ' +\n",
              "            '<a target=\"_blank\" href=https://colab.research.google.com/notebooks/data_table.ipynb>data table notebook</a>'\n",
              "            + ' to learn more about interactive tables.';\n",
              "          element.innerHTML = '';\n",
              "          dataTable['output_type'] = 'display_data';\n",
              "          await google.colab.output.renderOutput(dataTable, element);\n",
              "          const docLink = document.createElement('div');\n",
              "          docLink.innerHTML = docLinkHtml;\n",
              "          element.appendChild(docLink);\n",
              "        }\n",
              "      </script>\n",
              "    </div>\n",
              "  </div>\n",
              "  "
            ]
          },
          "metadata": {},
          "execution_count": 45
        }
      ]
    },
    {
      "cell_type": "code",
      "source": [
        "df_coffee_star_edi['브랜드명'].value_counts()"
      ],
      "metadata": {
        "colab": {
          "base_uri": "https://localhost:8080/"
        },
        "id": "oGPAnjOUGDtE",
        "outputId": "de5771a6-8545-42e9-d8f6-6fe26bf2c834"
      },
      "execution_count": 46,
      "outputs": [
        {
          "output_type": "execute_result",
          "data": {
            "text/plain": [
              "스타벅스    506\n",
              "이디야     432\n",
              "Name: 브랜드명, dtype: int64"
            ]
          },
          "metadata": {},
          "execution_count": 46
        }
      ]
    },
    {
      "cell_type": "code",
      "source": [
        "geo_df_coffee = df_coffee_star_edi"
      ],
      "metadata": {
        "id": "ADv69lcRGw5a"
      },
      "execution_count": 47,
      "outputs": []
    },
    {
      "cell_type": "code",
      "source": [
        "!pip install folium"
      ],
      "metadata": {
        "colab": {
          "base_uri": "https://localhost:8080/"
        },
        "id": "3a62uo7IHAdb",
        "outputId": "90baaa06-315a-43f5-b986-257a0d621bdc"
      },
      "execution_count": 48,
      "outputs": [
        {
          "output_type": "stream",
          "name": "stdout",
          "text": [
            "Looking in indexes: https://pypi.org/simple, https://us-python.pkg.dev/colab-wheels/public/simple/\n",
            "Requirement already satisfied: folium in /usr/local/lib/python3.8/dist-packages (0.12.1.post1)\n",
            "Requirement already satisfied: branca>=0.3.0 in /usr/local/lib/python3.8/dist-packages (from folium) (0.6.0)\n",
            "Requirement already satisfied: numpy in /usr/local/lib/python3.8/dist-packages (from folium) (1.21.6)\n",
            "Requirement already satisfied: jinja2>=2.9 in /usr/local/lib/python3.8/dist-packages (from folium) (2.11.3)\n",
            "Requirement already satisfied: requests in /usr/local/lib/python3.8/dist-packages (from folium) (2.23.0)\n",
            "Requirement already satisfied: MarkupSafe>=0.23 in /usr/local/lib/python3.8/dist-packages (from jinja2>=2.9->folium) (2.0.1)\n",
            "Requirement already satisfied: urllib3!=1.25.0,!=1.25.1,<1.26,>=1.21.1 in /usr/local/lib/python3.8/dist-packages (from requests->folium) (1.24.3)\n",
            "Requirement already satisfied: idna<3,>=2.5 in /usr/local/lib/python3.8/dist-packages (from requests->folium) (2.10)\n",
            "Requirement already satisfied: certifi>=2017.4.17 in /usr/local/lib/python3.8/dist-packages (from requests->folium) (2022.12.7)\n",
            "Requirement already satisfied: chardet<4,>=3.0.2 in /usr/local/lib/python3.8/dist-packages (from requests->folium) (3.0.4)\n"
          ]
        }
      ]
    },
    {
      "cell_type": "code",
      "source": [
        "import folium"
      ],
      "metadata": {
        "id": "OZULAisEHCk_"
      },
      "execution_count": 49,
      "outputs": []
    },
    {
      "cell_type": "code",
      "source": [
        "map = folium.Map(location = [geo_df_coffee['위도'].mean(), geo_df_coffee['경도'].mean()], zoom_start=12, tiles='Stamen Toner')\n",
        "for n in geo_df_coffee.index :\n",
        "  # 팝업에 들어갈 텍스트를 지정해 준다.\n",
        "  popup_name = geo_df_coffee.loc[n, '상호명'] + ' - ' + geo_df_coffee.loc[n, '도로명']\n",
        "  # 브랜드 명에 따라 아이콘 색상을 다르게 준다.\n",
        "  if geo_df_coffee.loc[n, '브랜드명'] == '스타벅스' :\n",
        "    icon_color = 'green'\n",
        "  else : \n",
        "    icon_color = 'blue'\n",
        "\n",
        "  folium.CircleMarker(location=[geo_df_coffee.loc[n, '위도'], geo_df_coffee.loc[n, '경도']],\n",
        "                      radius = 3,\n",
        "                      popup = popup_name,\n",
        "                      color = icon_color,\n",
        "                      fill = True,\n",
        "                      fill_color = icon_color).add_to(map)"
      ],
      "metadata": {
        "id": "CE7pWamGHRp6"
      },
      "execution_count": 50,
      "outputs": []
    },
    {
      "cell_type": "code",
      "source": [
        "geo_df_coffee.index"
      ],
      "metadata": {
        "colab": {
          "base_uri": "https://localhost:8080/"
        },
        "id": "UnV24Ae6Hxtz",
        "outputId": "9f921613-3088-4aba-bae1-e9520d27ef91"
      },
      "execution_count": 51,
      "outputs": [
        {
          "output_type": "execute_result",
          "data": {
            "text/plain": [
              "Int64Index([   752,   1153,   1406,   1875,   1981,   5352,   9359,   9952,\n",
              "              9957,  10176,\n",
              "            ...\n",
              "            356664, 356930, 357929, 358568, 360014, 361118, 361289, 362115,\n",
              "            365894, 370018],\n",
              "           dtype='int64', length=938)"
            ]
          },
          "metadata": {},
          "execution_count": 51
        }
      ]
    },
    {
      "cell_type": "code",
      "source": [
        "map"
      ],
      "metadata": {
        "id": "BPiNCBy2IATS"
      },
      "execution_count": null,
      "outputs": []
    },
    {
      "cell_type": "code",
      "source": [
        "map.save('./pdsample/df_coffee.html')"
      ],
      "metadata": {
        "id": "Xb84mwdVJpnH"
      },
      "execution_count": 53,
      "outputs": []
    },
    {
      "cell_type": "code",
      "source": [
        "### 서울시 구 별 스타벅스, 이디야 수\n",
        "df_coffee_brand = pd.DataFrame(df_coffee_star_edi.groupby(['시군구명','브랜드명'])['상호명'].count()).reset_index()\n",
        "df_coffee_brand.columns = ['구', '브랜드명', '매장수']\n",
        "df_coffee_brand.head()"
      ],
      "metadata": {
        "colab": {
          "base_uri": "https://localhost:8080/",
          "height": 206
        },
        "id": "fQn3W33JN_z3",
        "outputId": "79ddaa1f-750b-4c36-c33b-edb77ea5c95f"
      },
      "execution_count": 54,
      "outputs": [
        {
          "output_type": "execute_result",
          "data": {
            "text/plain": [
              "     구  브랜드명  매장수\n",
              "0  강남구  스타벅스   85\n",
              "1  강남구   이디야   40\n",
              "2  강동구  스타벅스   12\n",
              "3  강동구   이디야   10\n",
              "4  강북구  스타벅스    5"
            ],
            "text/html": [
              "\n",
              "  <div id=\"df-34c4844a-a742-4b9b-a294-187d228c1fd3\">\n",
              "    <div class=\"colab-df-container\">\n",
              "      <div>\n",
              "<style scoped>\n",
              "    .dataframe tbody tr th:only-of-type {\n",
              "        vertical-align: middle;\n",
              "    }\n",
              "\n",
              "    .dataframe tbody tr th {\n",
              "        vertical-align: top;\n",
              "    }\n",
              "\n",
              "    .dataframe thead th {\n",
              "        text-align: right;\n",
              "    }\n",
              "</style>\n",
              "<table border=\"1\" class=\"dataframe\">\n",
              "  <thead>\n",
              "    <tr style=\"text-align: right;\">\n",
              "      <th></th>\n",
              "      <th>구</th>\n",
              "      <th>브랜드명</th>\n",
              "      <th>매장수</th>\n",
              "    </tr>\n",
              "  </thead>\n",
              "  <tbody>\n",
              "    <tr>\n",
              "      <th>0</th>\n",
              "      <td>강남구</td>\n",
              "      <td>스타벅스</td>\n",
              "      <td>85</td>\n",
              "    </tr>\n",
              "    <tr>\n",
              "      <th>1</th>\n",
              "      <td>강남구</td>\n",
              "      <td>이디야</td>\n",
              "      <td>40</td>\n",
              "    </tr>\n",
              "    <tr>\n",
              "      <th>2</th>\n",
              "      <td>강동구</td>\n",
              "      <td>스타벅스</td>\n",
              "      <td>12</td>\n",
              "    </tr>\n",
              "    <tr>\n",
              "      <th>3</th>\n",
              "      <td>강동구</td>\n",
              "      <td>이디야</td>\n",
              "      <td>10</td>\n",
              "    </tr>\n",
              "    <tr>\n",
              "      <th>4</th>\n",
              "      <td>강북구</td>\n",
              "      <td>스타벅스</td>\n",
              "      <td>5</td>\n",
              "    </tr>\n",
              "  </tbody>\n",
              "</table>\n",
              "</div>\n",
              "      <button class=\"colab-df-convert\" onclick=\"convertToInteractive('df-34c4844a-a742-4b9b-a294-187d228c1fd3')\"\n",
              "              title=\"Convert this dataframe to an interactive table.\"\n",
              "              style=\"display:none;\">\n",
              "        \n",
              "  <svg xmlns=\"http://www.w3.org/2000/svg\" height=\"24px\"viewBox=\"0 0 24 24\"\n",
              "       width=\"24px\">\n",
              "    <path d=\"M0 0h24v24H0V0z\" fill=\"none\"/>\n",
              "    <path d=\"M18.56 5.44l.94 2.06.94-2.06 2.06-.94-2.06-.94-.94-2.06-.94 2.06-2.06.94zm-11 1L8.5 8.5l.94-2.06 2.06-.94-2.06-.94L8.5 2.5l-.94 2.06-2.06.94zm10 10l.94 2.06.94-2.06 2.06-.94-2.06-.94-.94-2.06-.94 2.06-2.06.94z\"/><path d=\"M17.41 7.96l-1.37-1.37c-.4-.4-.92-.59-1.43-.59-.52 0-1.04.2-1.43.59L10.3 9.45l-7.72 7.72c-.78.78-.78 2.05 0 2.83L4 21.41c.39.39.9.59 1.41.59.51 0 1.02-.2 1.41-.59l7.78-7.78 2.81-2.81c.8-.78.8-2.07 0-2.86zM5.41 20L4 18.59l7.72-7.72 1.47 1.35L5.41 20z\"/>\n",
              "  </svg>\n",
              "      </button>\n",
              "      \n",
              "  <style>\n",
              "    .colab-df-container {\n",
              "      display:flex;\n",
              "      flex-wrap:wrap;\n",
              "      gap: 12px;\n",
              "    }\n",
              "\n",
              "    .colab-df-convert {\n",
              "      background-color: #E8F0FE;\n",
              "      border: none;\n",
              "      border-radius: 50%;\n",
              "      cursor: pointer;\n",
              "      display: none;\n",
              "      fill: #1967D2;\n",
              "      height: 32px;\n",
              "      padding: 0 0 0 0;\n",
              "      width: 32px;\n",
              "    }\n",
              "\n",
              "    .colab-df-convert:hover {\n",
              "      background-color: #E2EBFA;\n",
              "      box-shadow: 0px 1px 2px rgba(60, 64, 67, 0.3), 0px 1px 3px 1px rgba(60, 64, 67, 0.15);\n",
              "      fill: #174EA6;\n",
              "    }\n",
              "\n",
              "    [theme=dark] .colab-df-convert {\n",
              "      background-color: #3B4455;\n",
              "      fill: #D2E3FC;\n",
              "    }\n",
              "\n",
              "    [theme=dark] .colab-df-convert:hover {\n",
              "      background-color: #434B5C;\n",
              "      box-shadow: 0px 1px 3px 1px rgba(0, 0, 0, 0.15);\n",
              "      filter: drop-shadow(0px 1px 2px rgba(0, 0, 0, 0.3));\n",
              "      fill: #FFFFFF;\n",
              "    }\n",
              "  </style>\n",
              "\n",
              "      <script>\n",
              "        const buttonEl =\n",
              "          document.querySelector('#df-34c4844a-a742-4b9b-a294-187d228c1fd3 button.colab-df-convert');\n",
              "        buttonEl.style.display =\n",
              "          google.colab.kernel.accessAllowed ? 'block' : 'none';\n",
              "\n",
              "        async function convertToInteractive(key) {\n",
              "          const element = document.querySelector('#df-34c4844a-a742-4b9b-a294-187d228c1fd3');\n",
              "          const dataTable =\n",
              "            await google.colab.kernel.invokeFunction('convertToInteractive',\n",
              "                                                     [key], {});\n",
              "          if (!dataTable) return;\n",
              "\n",
              "          const docLinkHtml = 'Like what you see? Visit the ' +\n",
              "            '<a target=\"_blank\" href=https://colab.research.google.com/notebooks/data_table.ipynb>data table notebook</a>'\n",
              "            + ' to learn more about interactive tables.';\n",
              "          element.innerHTML = '';\n",
              "          dataTable['output_type'] = 'display_data';\n",
              "          await google.colab.output.renderOutput(dataTable, element);\n",
              "          const docLink = document.createElement('div');\n",
              "          docLink.innerHTML = docLinkHtml;\n",
              "          element.appendChild(docLink);\n",
              "        }\n",
              "      </script>\n",
              "    </div>\n",
              "  </div>\n",
              "  "
            ]
          },
          "metadata": {},
          "execution_count": 54
        }
      ]
    },
    {
      "cell_type": "code",
      "source": [
        "plt.figure(figsize=(24,6))\n",
        "sns.barplot(data = df_coffee_brand, x='구', y='매장수', hue='브랜드명')"
      ],
      "metadata": {
        "colab": {
          "base_uri": "https://localhost:8080/",
          "height": 1000
        },
        "id": "7BUAVybHRpcv",
        "outputId": "33bdc780-7470-45a1-bd30-7d3e83173102"
      },
      "execution_count": 55,
      "outputs": [
        {
          "output_type": "execute_result",
          "data": {
            "text/plain": [
              "<matplotlib.axes._subplots.AxesSubplot at 0x7feaa10f7bb0>"
            ]
          },
          "metadata": {},
          "execution_count": 55
        },
        {
          "output_type": "stream",
          "name": "stderr",
          "text": [
            "/usr/local/lib/python3.8/dist-packages/matplotlib/backends/backend_agg.py:214: RuntimeWarning: Glyph 44053 missing from current font.\n",
            "  font.set_text(s, 0.0, flags=flags)\n",
            "/usr/local/lib/python3.8/dist-packages/matplotlib/backends/backend_agg.py:214: RuntimeWarning: Glyph 45224 missing from current font.\n",
            "  font.set_text(s, 0.0, flags=flags)\n",
            "/usr/local/lib/python3.8/dist-packages/matplotlib/backends/backend_agg.py:214: RuntimeWarning: Glyph 44396 missing from current font.\n",
            "  font.set_text(s, 0.0, flags=flags)\n",
            "/usr/local/lib/python3.8/dist-packages/matplotlib/backends/backend_agg.py:214: RuntimeWarning: Glyph 46041 missing from current font.\n",
            "  font.set_text(s, 0.0, flags=flags)\n",
            "/usr/local/lib/python3.8/dist-packages/matplotlib/backends/backend_agg.py:214: RuntimeWarning: Glyph 48513 missing from current font.\n",
            "  font.set_text(s, 0.0, flags=flags)\n",
            "/usr/local/lib/python3.8/dist-packages/matplotlib/backends/backend_agg.py:214: RuntimeWarning: Glyph 49436 missing from current font.\n",
            "  font.set_text(s, 0.0, flags=flags)\n",
            "/usr/local/lib/python3.8/dist-packages/matplotlib/backends/backend_agg.py:214: RuntimeWarning: Glyph 44288 missing from current font.\n",
            "  font.set_text(s, 0.0, flags=flags)\n",
            "/usr/local/lib/python3.8/dist-packages/matplotlib/backends/backend_agg.py:214: RuntimeWarning: Glyph 50501 missing from current font.\n",
            "  font.set_text(s, 0.0, flags=flags)\n",
            "/usr/local/lib/python3.8/dist-packages/matplotlib/backends/backend_agg.py:214: RuntimeWarning: Glyph 44305 missing from current font.\n",
            "  font.set_text(s, 0.0, flags=flags)\n",
            "/usr/local/lib/python3.8/dist-packages/matplotlib/backends/backend_agg.py:214: RuntimeWarning: Glyph 51652 missing from current font.\n",
            "  font.set_text(s, 0.0, flags=flags)\n",
            "/usr/local/lib/python3.8/dist-packages/matplotlib/backends/backend_agg.py:214: RuntimeWarning: Glyph 47196 missing from current font.\n",
            "  font.set_text(s, 0.0, flags=flags)\n",
            "/usr/local/lib/python3.8/dist-packages/matplotlib/backends/backend_agg.py:214: RuntimeWarning: Glyph 44552 missing from current font.\n",
            "  font.set_text(s, 0.0, flags=flags)\n",
            "/usr/local/lib/python3.8/dist-packages/matplotlib/backends/backend_agg.py:214: RuntimeWarning: Glyph 52380 missing from current font.\n",
            "  font.set_text(s, 0.0, flags=flags)\n",
            "/usr/local/lib/python3.8/dist-packages/matplotlib/backends/backend_agg.py:214: RuntimeWarning: Glyph 45432 missing from current font.\n",
            "  font.set_text(s, 0.0, flags=flags)\n",
            "/usr/local/lib/python3.8/dist-packages/matplotlib/backends/backend_agg.py:214: RuntimeWarning: Glyph 50896 missing from current font.\n",
            "  font.set_text(s, 0.0, flags=flags)\n",
            "/usr/local/lib/python3.8/dist-packages/matplotlib/backends/backend_agg.py:214: RuntimeWarning: Glyph 46020 missing from current font.\n",
            "  font.set_text(s, 0.0, flags=flags)\n",
            "/usr/local/lib/python3.8/dist-packages/matplotlib/backends/backend_agg.py:214: RuntimeWarning: Glyph 48393 missing from current font.\n",
            "  font.set_text(s, 0.0, flags=flags)\n",
            "/usr/local/lib/python3.8/dist-packages/matplotlib/backends/backend_agg.py:214: RuntimeWarning: Glyph 45824 missing from current font.\n",
            "  font.set_text(s, 0.0, flags=flags)\n",
            "/usr/local/lib/python3.8/dist-packages/matplotlib/backends/backend_agg.py:214: RuntimeWarning: Glyph 47928 missing from current font.\n",
            "  font.set_text(s, 0.0, flags=flags)\n",
            "/usr/local/lib/python3.8/dist-packages/matplotlib/backends/backend_agg.py:214: RuntimeWarning: Glyph 51089 missing from current font.\n",
            "  font.set_text(s, 0.0, flags=flags)\n",
            "/usr/local/lib/python3.8/dist-packages/matplotlib/backends/backend_agg.py:214: RuntimeWarning: Glyph 47560 missing from current font.\n",
            "  font.set_text(s, 0.0, flags=flags)\n",
            "/usr/local/lib/python3.8/dist-packages/matplotlib/backends/backend_agg.py:214: RuntimeWarning: Glyph 54252 missing from current font.\n",
            "  font.set_text(s, 0.0, flags=flags)\n",
            "/usr/local/lib/python3.8/dist-packages/matplotlib/backends/backend_agg.py:214: RuntimeWarning: Glyph 52488 missing from current font.\n",
            "  font.set_text(s, 0.0, flags=flags)\n",
            "/usr/local/lib/python3.8/dist-packages/matplotlib/backends/backend_agg.py:214: RuntimeWarning: Glyph 49457 missing from current font.\n",
            "  font.set_text(s, 0.0, flags=flags)\n",
            "/usr/local/lib/python3.8/dist-packages/matplotlib/backends/backend_agg.py:214: RuntimeWarning: Glyph 49569 missing from current font.\n",
            "  font.set_text(s, 0.0, flags=flags)\n",
            "/usr/local/lib/python3.8/dist-packages/matplotlib/backends/backend_agg.py:214: RuntimeWarning: Glyph 54028 missing from current font.\n",
            "  font.set_text(s, 0.0, flags=flags)\n",
            "/usr/local/lib/python3.8/dist-packages/matplotlib/backends/backend_agg.py:214: RuntimeWarning: Glyph 50577 missing from current font.\n",
            "  font.set_text(s, 0.0, flags=flags)\n",
            "/usr/local/lib/python3.8/dist-packages/matplotlib/backends/backend_agg.py:214: RuntimeWarning: Glyph 50689 missing from current font.\n",
            "  font.set_text(s, 0.0, flags=flags)\n",
            "/usr/local/lib/python3.8/dist-packages/matplotlib/backends/backend_agg.py:214: RuntimeWarning: Glyph 46321 missing from current font.\n",
            "  font.set_text(s, 0.0, flags=flags)\n",
            "/usr/local/lib/python3.8/dist-packages/matplotlib/backends/backend_agg.py:214: RuntimeWarning: Glyph 50857 missing from current font.\n",
            "  font.set_text(s, 0.0, flags=flags)\n",
            "/usr/local/lib/python3.8/dist-packages/matplotlib/backends/backend_agg.py:214: RuntimeWarning: Glyph 49328 missing from current font.\n",
            "  font.set_text(s, 0.0, flags=flags)\n",
            "/usr/local/lib/python3.8/dist-packages/matplotlib/backends/backend_agg.py:214: RuntimeWarning: Glyph 51008 missing from current font.\n",
            "  font.set_text(s, 0.0, flags=flags)\n",
            "/usr/local/lib/python3.8/dist-packages/matplotlib/backends/backend_agg.py:214: RuntimeWarning: Glyph 54217 missing from current font.\n",
            "  font.set_text(s, 0.0, flags=flags)\n",
            "/usr/local/lib/python3.8/dist-packages/matplotlib/backends/backend_agg.py:214: RuntimeWarning: Glyph 51333 missing from current font.\n",
            "  font.set_text(s, 0.0, flags=flags)\n",
            "/usr/local/lib/python3.8/dist-packages/matplotlib/backends/backend_agg.py:214: RuntimeWarning: Glyph 51473 missing from current font.\n",
            "  font.set_text(s, 0.0, flags=flags)\n",
            "/usr/local/lib/python3.8/dist-packages/matplotlib/backends/backend_agg.py:214: RuntimeWarning: Glyph 46993 missing from current font.\n",
            "  font.set_text(s, 0.0, flags=flags)\n",
            "/usr/local/lib/python3.8/dist-packages/matplotlib/backends/backend_agg.py:183: RuntimeWarning: Glyph 44053 missing from current font.\n",
            "  font.set_text(s, 0, flags=flags)\n",
            "/usr/local/lib/python3.8/dist-packages/matplotlib/backends/backend_agg.py:183: RuntimeWarning: Glyph 45224 missing from current font.\n",
            "  font.set_text(s, 0, flags=flags)\n",
            "/usr/local/lib/python3.8/dist-packages/matplotlib/backends/backend_agg.py:183: RuntimeWarning: Glyph 44396 missing from current font.\n",
            "  font.set_text(s, 0, flags=flags)\n",
            "/usr/local/lib/python3.8/dist-packages/matplotlib/backends/backend_agg.py:183: RuntimeWarning: Glyph 46041 missing from current font.\n",
            "  font.set_text(s, 0, flags=flags)\n",
            "/usr/local/lib/python3.8/dist-packages/matplotlib/backends/backend_agg.py:183: RuntimeWarning: Glyph 48513 missing from current font.\n",
            "  font.set_text(s, 0, flags=flags)\n",
            "/usr/local/lib/python3.8/dist-packages/matplotlib/backends/backend_agg.py:183: RuntimeWarning: Glyph 49436 missing from current font.\n",
            "  font.set_text(s, 0, flags=flags)\n",
            "/usr/local/lib/python3.8/dist-packages/matplotlib/backends/backend_agg.py:183: RuntimeWarning: Glyph 44288 missing from current font.\n",
            "  font.set_text(s, 0, flags=flags)\n",
            "/usr/local/lib/python3.8/dist-packages/matplotlib/backends/backend_agg.py:183: RuntimeWarning: Glyph 50501 missing from current font.\n",
            "  font.set_text(s, 0, flags=flags)\n",
            "/usr/local/lib/python3.8/dist-packages/matplotlib/backends/backend_agg.py:183: RuntimeWarning: Glyph 44305 missing from current font.\n",
            "  font.set_text(s, 0, flags=flags)\n",
            "/usr/local/lib/python3.8/dist-packages/matplotlib/backends/backend_agg.py:183: RuntimeWarning: Glyph 51652 missing from current font.\n",
            "  font.set_text(s, 0, flags=flags)\n",
            "/usr/local/lib/python3.8/dist-packages/matplotlib/backends/backend_agg.py:183: RuntimeWarning: Glyph 47196 missing from current font.\n",
            "  font.set_text(s, 0, flags=flags)\n",
            "/usr/local/lib/python3.8/dist-packages/matplotlib/backends/backend_agg.py:183: RuntimeWarning: Glyph 44552 missing from current font.\n",
            "  font.set_text(s, 0, flags=flags)\n",
            "/usr/local/lib/python3.8/dist-packages/matplotlib/backends/backend_agg.py:183: RuntimeWarning: Glyph 52380 missing from current font.\n",
            "  font.set_text(s, 0, flags=flags)\n",
            "/usr/local/lib/python3.8/dist-packages/matplotlib/backends/backend_agg.py:183: RuntimeWarning: Glyph 45432 missing from current font.\n",
            "  font.set_text(s, 0, flags=flags)\n",
            "/usr/local/lib/python3.8/dist-packages/matplotlib/backends/backend_agg.py:183: RuntimeWarning: Glyph 50896 missing from current font.\n",
            "  font.set_text(s, 0, flags=flags)\n",
            "/usr/local/lib/python3.8/dist-packages/matplotlib/backends/backend_agg.py:183: RuntimeWarning: Glyph 46020 missing from current font.\n",
            "  font.set_text(s, 0, flags=flags)\n",
            "/usr/local/lib/python3.8/dist-packages/matplotlib/backends/backend_agg.py:183: RuntimeWarning: Glyph 48393 missing from current font.\n",
            "  font.set_text(s, 0, flags=flags)\n",
            "/usr/local/lib/python3.8/dist-packages/matplotlib/backends/backend_agg.py:183: RuntimeWarning: Glyph 45824 missing from current font.\n",
            "  font.set_text(s, 0, flags=flags)\n",
            "/usr/local/lib/python3.8/dist-packages/matplotlib/backends/backend_agg.py:183: RuntimeWarning: Glyph 47928 missing from current font.\n",
            "  font.set_text(s, 0, flags=flags)\n",
            "/usr/local/lib/python3.8/dist-packages/matplotlib/backends/backend_agg.py:183: RuntimeWarning: Glyph 51089 missing from current font.\n",
            "  font.set_text(s, 0, flags=flags)\n",
            "/usr/local/lib/python3.8/dist-packages/matplotlib/backends/backend_agg.py:183: RuntimeWarning: Glyph 47560 missing from current font.\n",
            "  font.set_text(s, 0, flags=flags)\n",
            "/usr/local/lib/python3.8/dist-packages/matplotlib/backends/backend_agg.py:183: RuntimeWarning: Glyph 54252 missing from current font.\n",
            "  font.set_text(s, 0, flags=flags)\n",
            "/usr/local/lib/python3.8/dist-packages/matplotlib/backends/backend_agg.py:183: RuntimeWarning: Glyph 52488 missing from current font.\n",
            "  font.set_text(s, 0, flags=flags)\n",
            "/usr/local/lib/python3.8/dist-packages/matplotlib/backends/backend_agg.py:183: RuntimeWarning: Glyph 49457 missing from current font.\n",
            "  font.set_text(s, 0, flags=flags)\n",
            "/usr/local/lib/python3.8/dist-packages/matplotlib/backends/backend_agg.py:183: RuntimeWarning: Glyph 49569 missing from current font.\n",
            "  font.set_text(s, 0, flags=flags)\n",
            "/usr/local/lib/python3.8/dist-packages/matplotlib/backends/backend_agg.py:183: RuntimeWarning: Glyph 54028 missing from current font.\n",
            "  font.set_text(s, 0, flags=flags)\n",
            "/usr/local/lib/python3.8/dist-packages/matplotlib/backends/backend_agg.py:183: RuntimeWarning: Glyph 50577 missing from current font.\n",
            "  font.set_text(s, 0, flags=flags)\n",
            "/usr/local/lib/python3.8/dist-packages/matplotlib/backends/backend_agg.py:183: RuntimeWarning: Glyph 50689 missing from current font.\n",
            "  font.set_text(s, 0, flags=flags)\n",
            "/usr/local/lib/python3.8/dist-packages/matplotlib/backends/backend_agg.py:183: RuntimeWarning: Glyph 46321 missing from current font.\n",
            "  font.set_text(s, 0, flags=flags)\n",
            "/usr/local/lib/python3.8/dist-packages/matplotlib/backends/backend_agg.py:183: RuntimeWarning: Glyph 50857 missing from current font.\n",
            "  font.set_text(s, 0, flags=flags)\n",
            "/usr/local/lib/python3.8/dist-packages/matplotlib/backends/backend_agg.py:183: RuntimeWarning: Glyph 49328 missing from current font.\n",
            "  font.set_text(s, 0, flags=flags)\n",
            "/usr/local/lib/python3.8/dist-packages/matplotlib/backends/backend_agg.py:183: RuntimeWarning: Glyph 51008 missing from current font.\n",
            "  font.set_text(s, 0, flags=flags)\n",
            "/usr/local/lib/python3.8/dist-packages/matplotlib/backends/backend_agg.py:183: RuntimeWarning: Glyph 54217 missing from current font.\n",
            "  font.set_text(s, 0, flags=flags)\n",
            "/usr/local/lib/python3.8/dist-packages/matplotlib/backends/backend_agg.py:183: RuntimeWarning: Glyph 51333 missing from current font.\n",
            "  font.set_text(s, 0, flags=flags)\n",
            "/usr/local/lib/python3.8/dist-packages/matplotlib/backends/backend_agg.py:183: RuntimeWarning: Glyph 51473 missing from current font.\n",
            "  font.set_text(s, 0, flags=flags)\n",
            "/usr/local/lib/python3.8/dist-packages/matplotlib/backends/backend_agg.py:183: RuntimeWarning: Glyph 46993 missing from current font.\n",
            "  font.set_text(s, 0, flags=flags)\n",
            "/usr/local/lib/python3.8/dist-packages/matplotlib/backends/backend_agg.py:214: RuntimeWarning: Glyph 47588 missing from current font.\n",
            "  font.set_text(s, 0.0, flags=flags)\n",
            "/usr/local/lib/python3.8/dist-packages/matplotlib/backends/backend_agg.py:214: RuntimeWarning: Glyph 51109 missing from current font.\n",
            "  font.set_text(s, 0.0, flags=flags)\n",
            "/usr/local/lib/python3.8/dist-packages/matplotlib/backends/backend_agg.py:214: RuntimeWarning: Glyph 49688 missing from current font.\n",
            "  font.set_text(s, 0.0, flags=flags)\n",
            "/usr/local/lib/python3.8/dist-packages/matplotlib/backends/backend_agg.py:183: RuntimeWarning: Glyph 47588 missing from current font.\n",
            "  font.set_text(s, 0, flags=flags)\n",
            "/usr/local/lib/python3.8/dist-packages/matplotlib/backends/backend_agg.py:183: RuntimeWarning: Glyph 51109 missing from current font.\n",
            "  font.set_text(s, 0, flags=flags)\n",
            "/usr/local/lib/python3.8/dist-packages/matplotlib/backends/backend_agg.py:183: RuntimeWarning: Glyph 49688 missing from current font.\n",
            "  font.set_text(s, 0, flags=flags)\n",
            "/usr/local/lib/python3.8/dist-packages/matplotlib/backends/backend_agg.py:214: RuntimeWarning: Glyph 48652 missing from current font.\n",
            "  font.set_text(s, 0.0, flags=flags)\n",
            "/usr/local/lib/python3.8/dist-packages/matplotlib/backends/backend_agg.py:214: RuntimeWarning: Glyph 47004 missing from current font.\n",
            "  font.set_text(s, 0.0, flags=flags)\n",
            "/usr/local/lib/python3.8/dist-packages/matplotlib/backends/backend_agg.py:214: RuntimeWarning: Glyph 46300 missing from current font.\n",
            "  font.set_text(s, 0.0, flags=flags)\n",
            "/usr/local/lib/python3.8/dist-packages/matplotlib/backends/backend_agg.py:214: RuntimeWarning: Glyph 47749 missing from current font.\n",
            "  font.set_text(s, 0.0, flags=flags)\n",
            "/usr/local/lib/python3.8/dist-packages/matplotlib/backends/backend_agg.py:214: RuntimeWarning: Glyph 49828 missing from current font.\n",
            "  font.set_text(s, 0.0, flags=flags)\n",
            "/usr/local/lib/python3.8/dist-packages/matplotlib/backends/backend_agg.py:214: RuntimeWarning: Glyph 53440 missing from current font.\n",
            "  font.set_text(s, 0.0, flags=flags)\n",
            "/usr/local/lib/python3.8/dist-packages/matplotlib/backends/backend_agg.py:214: RuntimeWarning: Glyph 48261 missing from current font.\n",
            "  font.set_text(s, 0.0, flags=flags)\n",
            "/usr/local/lib/python3.8/dist-packages/matplotlib/backends/backend_agg.py:214: RuntimeWarning: Glyph 51060 missing from current font.\n",
            "  font.set_text(s, 0.0, flags=flags)\n",
            "/usr/local/lib/python3.8/dist-packages/matplotlib/backends/backend_agg.py:214: RuntimeWarning: Glyph 46356 missing from current font.\n",
            "  font.set_text(s, 0.0, flags=flags)\n",
            "/usr/local/lib/python3.8/dist-packages/matplotlib/backends/backend_agg.py:214: RuntimeWarning: Glyph 50556 missing from current font.\n",
            "  font.set_text(s, 0.0, flags=flags)\n",
            "/usr/local/lib/python3.8/dist-packages/matplotlib/backends/backend_agg.py:183: RuntimeWarning: Glyph 48652 missing from current font.\n",
            "  font.set_text(s, 0, flags=flags)\n",
            "/usr/local/lib/python3.8/dist-packages/matplotlib/backends/backend_agg.py:183: RuntimeWarning: Glyph 47004 missing from current font.\n",
            "  font.set_text(s, 0, flags=flags)\n",
            "/usr/local/lib/python3.8/dist-packages/matplotlib/backends/backend_agg.py:183: RuntimeWarning: Glyph 46300 missing from current font.\n",
            "  font.set_text(s, 0, flags=flags)\n",
            "/usr/local/lib/python3.8/dist-packages/matplotlib/backends/backend_agg.py:183: RuntimeWarning: Glyph 47749 missing from current font.\n",
            "  font.set_text(s, 0, flags=flags)\n",
            "/usr/local/lib/python3.8/dist-packages/matplotlib/backends/backend_agg.py:183: RuntimeWarning: Glyph 49828 missing from current font.\n",
            "  font.set_text(s, 0, flags=flags)\n",
            "/usr/local/lib/python3.8/dist-packages/matplotlib/backends/backend_agg.py:183: RuntimeWarning: Glyph 53440 missing from current font.\n",
            "  font.set_text(s, 0, flags=flags)\n",
            "/usr/local/lib/python3.8/dist-packages/matplotlib/backends/backend_agg.py:183: RuntimeWarning: Glyph 48261 missing from current font.\n",
            "  font.set_text(s, 0, flags=flags)\n",
            "/usr/local/lib/python3.8/dist-packages/matplotlib/backends/backend_agg.py:183: RuntimeWarning: Glyph 51060 missing from current font.\n",
            "  font.set_text(s, 0, flags=flags)\n",
            "/usr/local/lib/python3.8/dist-packages/matplotlib/backends/backend_agg.py:183: RuntimeWarning: Glyph 46356 missing from current font.\n",
            "  font.set_text(s, 0, flags=flags)\n",
            "/usr/local/lib/python3.8/dist-packages/matplotlib/backends/backend_agg.py:183: RuntimeWarning: Glyph 50556 missing from current font.\n",
            "  font.set_text(s, 0, flags=flags)\n"
          ]
        },
        {
          "output_type": "display_data",
          "data": {
            "text/plain": [
              "<Figure size 1728x432 with 1 Axes>"
            ],
            "image/png": "[encoded data removed]"
          },
          "metadata": {
            "needs_background": "light"
          }
        }
      ]
    },
    {
      "cell_type": "code",
      "source": [
        "df_coffee_star_edi.groupby(['시군구명'])\n",
        "df_coffee_star_edi"
      ],
      "metadata": {
        "colab": {
          "base_uri": "https://localhost:8080/",
          "height": 424
        },
        "id": "rn4wzCelSqar",
        "outputId": "5527223c-9950-400c-fa11-4cd503344b12"
      },
      "execution_count": 56,
      "outputs": [
        {
          "output_type": "execute_result",
          "data": {
            "text/plain": [
              "              상호명       지점명 상권업종중분류명    시도명  시군구명         행정동명  \\\n",
              "752          스타벅스      이태원점   커피점/카페  서울특별시   용산구        이태원1동   \n",
              "1153        이디야커피      신길역점   커피점/카페  서울특별시  영등포구         신길1동   \n",
              "1406    스타벅스종로3가점     종로3가점   커피점/카페  서울특별시   종로구  종로1.2.3.4가동   \n",
              "1875         스타벅스      신사2점   커피점/카페  서울특별시   서초구          잠원동   \n",
              "1981        이디야커피    이마트구로점   커피점/카페  서울특별시   구로구         구로3동   \n",
              "...           ...       ...      ...    ...   ...          ...   \n",
              "361118       스타벅스       NaN   커피점/카페  서울특별시  서대문구        북가좌2동   \n",
              "361289      이디야커피  백련산아이파크점   커피점/카페  서울특별시   은평구         응암2동   \n",
              "362115       스타벅스      아현역점   커피점/카페  서울특별시  서대문구         북아현동   \n",
              "365894       스타벅스     봉은사역점   커피점/카페  서울특별시   강남구         삼성1동   \n",
              "370018      이디야커피       월계점   커피점/카페  서울특별시   노원구         월계3동   \n",
              "\n",
              "                      도로명          경도         위도  브랜드명  \n",
              "752        서울특별시 용산구 이태원로  126.994781  37.534303  스타벅스  \n",
              "1153      서울특별시 영등포구 영등포로  126.918062  37.515118   이디야  \n",
              "1406         서울특별시 종로구 종로  126.990207  37.570585  스타벅스  \n",
              "1875       서울특별시 서초구 강남대로  127.019763  37.513663  스타벅스  \n",
              "1981    서울특별시 구로구 디지털로32길  126.897870  37.484385   이디야  \n",
              "...                   ...         ...        ...   ...  \n",
              "361118  서울특별시 서대문구 증가로29길  126.911859  37.582341  스타벅스  \n",
              "361289      서울특별시 은평구 응암로  126.918861  37.595281   이디야  \n",
              "362115    서울특별시 서대문구 북아현로  126.956144  37.560080  스타벅스  \n",
              "365894     서울특별시 강남구 봉은사로  127.063103  37.515024  스타벅스  \n",
              "370018    서울특별시 노원구 마들로3길  127.061966  37.626501   이디야  \n",
              "\n",
              "[938 rows x 10 columns]"
            ],
            "text/html": [
              "\n",
              "  <div id=\"df-8d57514c-6b88-4665-bda4-f3f344870d52\">\n",
              "    <div class=\"colab-df-container\">\n",
              "      <div>\n",
              "<style scoped>\n",
              "    .dataframe tbody tr th:only-of-type {\n",
              "        vertical-align: middle;\n",
              "    }\n",
              "\n",
              "    .dataframe tbody tr th {\n",
              "        vertical-align: top;\n",
              "    }\n",
              "\n",
              "    .dataframe thead th {\n",
              "        text-align: right;\n",
              "    }\n",
              "</style>\n",
              "<table border=\"1\" class=\"dataframe\">\n",
              "  <thead>\n",
              "    <tr style=\"text-align: right;\">\n",
              "      <th></th>\n",
              "      <th>상호명</th>\n",
              "      <th>지점명</th>\n",
              "      <th>상권업종중분류명</th>\n",
              "      <th>시도명</th>\n",
              "      <th>시군구명</th>\n",
              "      <th>행정동명</th>\n",
              "      <th>도로명</th>\n",
              "      <th>경도</th>\n",
              "      <th>위도</th>\n",
              "      <th>브랜드명</th>\n",
              "    </tr>\n",
              "  </thead>\n",
              "  <tbody>\n",
              "    <tr>\n",
              "      <th>752</th>\n",
              "      <td>스타벅스</td>\n",
              "      <td>이태원점</td>\n",
              "      <td>커피점/카페</td>\n",
              "      <td>서울특별시</td>\n",
              "      <td>용산구</td>\n",
              "      <td>이태원1동</td>\n",
              "      <td>서울특별시 용산구 이태원로</td>\n",
              "      <td>126.994781</td>\n",
              "      <td>37.534303</td>\n",
              "      <td>스타벅스</td>\n",
              "    </tr>\n",
              "    <tr>\n",
              "      <th>1153</th>\n",
              "      <td>이디야커피</td>\n",
              "      <td>신길역점</td>\n",
              "      <td>커피점/카페</td>\n",
              "      <td>서울특별시</td>\n",
              "      <td>영등포구</td>\n",
              "      <td>신길1동</td>\n",
              "      <td>서울특별시 영등포구 영등포로</td>\n",
              "      <td>126.918062</td>\n",
              "      <td>37.515118</td>\n",
              "      <td>이디야</td>\n",
              "    </tr>\n",
              "    <tr>\n",
              "      <th>1406</th>\n",
              "      <td>스타벅스종로3가점</td>\n",
              "      <td>종로3가점</td>\n",
              "      <td>커피점/카페</td>\n",
              "      <td>서울특별시</td>\n",
              "      <td>종로구</td>\n",
              "      <td>종로1.2.3.4가동</td>\n",
              "      <td>서울특별시 종로구 종로</td>\n",
              "      <td>126.990207</td>\n",
              "      <td>37.570585</td>\n",
              "      <td>스타벅스</td>\n",
              "    </tr>\n",
              "    <tr>\n",
              "      <th>1875</th>\n",
              "      <td>스타벅스</td>\n",
              "      <td>신사2점</td>\n",
              "      <td>커피점/카페</td>\n",
              "      <td>서울특별시</td>\n",
              "      <td>서초구</td>\n",
              "      <td>잠원동</td>\n",
              "      <td>서울특별시 서초구 강남대로</td>\n",
              "      <td>127.019763</td>\n",
              "      <td>37.513663</td>\n",
              "      <td>스타벅스</td>\n",
              "    </tr>\n",
              "    <tr>\n",
              "      <th>1981</th>\n",
              "      <td>이디야커피</td>\n",
              "      <td>이마트구로점</td>\n",
              "      <td>커피점/카페</td>\n",
              "      <td>서울특별시</td>\n",
              "      <td>구로구</td>\n",
              "      <td>구로3동</td>\n",
              "      <td>서울특별시 구로구 디지털로32길</td>\n",
              "      <td>126.897870</td>\n",
              "      <td>37.484385</td>\n",
              "      <td>이디야</td>\n",
              "    </tr>\n",
              "    <tr>\n",
              "      <th>...</th>\n",
              "      <td>...</td>\n",
              "      <td>...</td>\n",
              "      <td>...</td>\n",
              "      <td>...</td>\n",
              "      <td>...</td>\n",
              "      <td>...</td>\n",
              "      <td>...</td>\n",
              "      <td>...</td>\n",
              "      <td>...</td>\n",
              "      <td>...</td>\n",
              "    </tr>\n",
              "    <tr>\n",
              "      <th>361118</th>\n",
              "      <td>스타벅스</td>\n",
              "      <td>NaN</td>\n",
              "      <td>커피점/카페</td>\n",
              "      <td>서울특별시</td>\n",
              "      <td>서대문구</td>\n",
              "      <td>북가좌2동</td>\n",
              "      <td>서울특별시 서대문구 증가로29길</td>\n",
              "      <td>126.911859</td>\n",
              "      <td>37.582341</td>\n",
              "      <td>스타벅스</td>\n",
              "    </tr>\n",
              "    <tr>\n",
              "      <th>361289</th>\n",
              "      <td>이디야커피</td>\n",
              "      <td>백련산아이파크점</td>\n",
              "      <td>커피점/카페</td>\n",
              "      <td>서울특별시</td>\n",
              "      <td>은평구</td>\n",
              "      <td>응암2동</td>\n",
              "      <td>서울특별시 은평구 응암로</td>\n",
              "      <td>126.918861</td>\n",
              "      <td>37.595281</td>\n",
              "      <td>이디야</td>\n",
              "    </tr>\n",
              "    <tr>\n",
              "      <th>362115</th>\n",
              "      <td>스타벅스</td>\n",
              "      <td>아현역점</td>\n",
              "      <td>커피점/카페</td>\n",
              "      <td>서울특별시</td>\n",
              "      <td>서대문구</td>\n",
              "      <td>북아현동</td>\n",
              "      <td>서울특별시 서대문구 북아현로</td>\n",
              "      <td>126.956144</td>\n",
              "      <td>37.560080</td>\n",
              "      <td>스타벅스</td>\n",
              "    </tr>\n",
              "    <tr>\n",
              "      <th>365894</th>\n",
              "      <td>스타벅스</td>\n",
              "      <td>봉은사역점</td>\n",
              "      <td>커피점/카페</td>\n",
              "      <td>서울특별시</td>\n",
              "      <td>강남구</td>\n",
              "      <td>삼성1동</td>\n",
              "      <td>서울특별시 강남구 봉은사로</td>\n",
              "      <td>127.063103</td>\n",
              "      <td>37.515024</td>\n",
              "      <td>스타벅스</td>\n",
              "    </tr>\n",
              "    <tr>\n",
              "      <th>370018</th>\n",
              "      <td>이디야커피</td>\n",
              "      <td>월계점</td>\n",
              "      <td>커피점/카페</td>\n",
              "      <td>서울특별시</td>\n",
              "      <td>노원구</td>\n",
              "      <td>월계3동</td>\n",
              "      <td>서울특별시 노원구 마들로3길</td>\n",
              "      <td>127.061966</td>\n",
              "      <td>37.626501</td>\n",
              "      <td>이디야</td>\n",
              "    </tr>\n",
              "  </tbody>\n",
              "</table>\n",
              "<p>938 rows × 10 columns</p>\n",
              "</div>\n",
              "      <button class=\"colab-df-convert\" onclick=\"convertToInteractive('df-8d57514c-6b88-4665-bda4-f3f344870d52')\"\n",
              "              title=\"Convert this dataframe to an interactive table.\"\n",
              "              style=\"display:none;\">\n",
              "        \n",
              "  <svg xmlns=\"http://www.w3.org/2000/svg\" height=\"24px\"viewBox=\"0 0 24 24\"\n",
              "       width=\"24px\">\n",
              "    <path d=\"M0 0h24v24H0V0z\" fill=\"none\"/>\n",
              "    <path d=\"M18.56 5.44l.94 2.06.94-2.06 2.06-.94-2.06-.94-.94-2.06-.94 2.06-2.06.94zm-11 1L8.5 8.5l.94-2.06 2.06-.94-2.06-.94L8.5 2.5l-.94 2.06-2.06.94zm10 10l.94 2.06.94-2.06 2.06-.94-2.06-.94-.94-2.06-.94 2.06-2.06.94z\"/><path d=\"M17.41 7.96l-1.37-1.37c-.4-.4-.92-.59-1.43-.59-.52 0-1.04.2-1.43.59L10.3 9.45l-7.72 7.72c-.78.78-.78 2.05 0 2.83L4 21.41c.39.39.9.59 1.41.59.51 0 1.02-.2 1.41-.59l7.78-7.78 2.81-2.81c.8-.78.8-2.07 0-2.86zM5.41 20L4 18.59l7.72-7.72 1.47 1.35L5.41 20z\"/>\n",
              "  </svg>\n",
              "      </button>\n",
              "      \n",
              "  <style>\n",
              "    .colab-df-container {\n",
              "      display:flex;\n",
              "      flex-wrap:wrap;\n",
              "      gap: 12px;\n",
              "    }\n",
              "\n",
              "    .colab-df-convert {\n",
              "      background-color: #E8F0FE;\n",
              "      border: none;\n",
              "      border-radius: 50%;\n",
              "      cursor: pointer;\n",
              "      display: none;\n",
              "      fill: #1967D2;\n",
              "      height: 32px;\n",
              "      padding: 0 0 0 0;\n",
              "      width: 32px;\n",
              "    }\n",
              "\n",
              "    .colab-df-convert:hover {\n",
              "      background-color: #E2EBFA;\n",
              "      box-shadow: 0px 1px 2px rgba(60, 64, 67, 0.3), 0px 1px 3px 1px rgba(60, 64, 67, 0.15);\n",
              "      fill: #174EA6;\n",
              "    }\n",
              "\n",
              "    [theme=dark] .colab-df-convert {\n",
              "      background-color: #3B4455;\n",
              "      fill: #D2E3FC;\n",
              "    }\n",
              "\n",
              "    [theme=dark] .colab-df-convert:hover {\n",
              "      background-color: #434B5C;\n",
              "      box-shadow: 0px 1px 3px 1px rgba(0, 0, 0, 0.15);\n",
              "      filter: drop-shadow(0px 1px 2px rgba(0, 0, 0, 0.3));\n",
              "      fill: #FFFFFF;\n",
              "    }\n",
              "  </style>\n",
              "\n",
              "      <script>\n",
              "        const buttonEl =\n",
              "          document.querySelector('#df-8d57514c-6b88-4665-bda4-f3f344870d52 button.colab-df-convert');\n",
              "        buttonEl.style.display =\n",
              "          google.colab.kernel.accessAllowed ? 'block' : 'none';\n",
              "\n",
              "        async function convertToInteractive(key) {\n",
              "          const element = document.querySelector('#df-8d57514c-6b88-4665-bda4-f3f344870d52');\n",
              "          const dataTable =\n",
              "            await google.colab.kernel.invokeFunction('convertToInteractive',\n",
              "                                                     [key], {});\n",
              "          if (!dataTable) return;\n",
              "\n",
              "          const docLinkHtml = 'Like what you see? Visit the ' +\n",
              "            '<a target=\"_blank\" href=https://colab.research.google.com/notebooks/data_table.ipynb>data table notebook</a>'\n",
              "            + ' to learn more about interactive tables.';\n",
              "          element.innerHTML = '';\n",
              "          dataTable['output_type'] = 'display_data';\n",
              "          await google.colab.output.renderOutput(dataTable, element);\n",
              "          const docLink = document.createElement('div');\n",
              "          docLink.innerHTML = docLinkHtml;\n",
              "          element.appendChild(docLink);\n",
              "        }\n",
              "      </script>\n",
              "    </div>\n",
              "  </div>\n",
              "  "
            ]
          },
          "metadata": {},
          "execution_count": 56
        }
      ]
    },
    {
      "cell_type": "code",
      "source": [
        "df_coffee_star_edi_gu = pd.DataFrame(df_coffee_star_edi_groupby(['시군구명'])['상호명'].count())"
      ],
      "metadata": {
        "id": "imKzEdrRUL9K",
        "colab": {
          "base_uri": "https://localhost:8080/",
          "height": 172
        },
        "outputId": "094c7f2d-f36d-4baa-cdbe-b52925d8099e"
      },
      "execution_count": 57,
      "outputs": [
        {
          "output_type": "error",
          "ename": "NameError",
          "evalue": "ignored",
          "traceback": [
            "\u001b[0;31m---------------------------------------------------------------------------\u001b[0m",
            "\u001b[0;31mNameError\u001b[0m                                 Traceback (most recent call last)",
            "\u001b[0;32m<ipython-input-57-5b02d044eb09>\u001b[0m in \u001b[0;36m<module>\u001b[0;34m\u001b[0m\n\u001b[0;32m----> 1\u001b[0;31m \u001b[0mdf_coffee_star_edi_gu\u001b[0m \u001b[0;34m=\u001b[0m \u001b[0mpd\u001b[0m\u001b[0;34m.\u001b[0m\u001b[0mDataFrame\u001b[0m\u001b[0;34m(\u001b[0m\u001b[0mdf_coffee_star_edi_groupby\u001b[0m\u001b[0;34m(\u001b[0m\u001b[0;34m[\u001b[0m\u001b[0;34m'시군구명'\u001b[0m\u001b[0;34m]\u001b[0m\u001b[0;34m)\u001b[0m\u001b[0;34m[\u001b[0m\u001b[0;34m'상호명'\u001b[0m\u001b[0;34m]\u001b[0m\u001b[0;34m.\u001b[0m\u001b[0mcount\u001b[0m\u001b[0;34m(\u001b[0m\u001b[0;34m)\u001b[0m\u001b[0;34m)\u001b[0m\u001b[0;34m\u001b[0m\u001b[0;34m\u001b[0m\u001b[0m\n\u001b[0m",
            "\u001b[0;31mNameError\u001b[0m: name 'df_coffee_star_edi_groupby' is not defined"
          ]
        }
      ]
    },
    {
      "cell_type": "code",
      "source": [
        "import json"
      ],
      "metadata": {
        "id": "rKY_z7hHU0hE"
      },
      "execution_count": 6,
      "outputs": []
    },
    {
      "cell_type": "code",
      "source": [
        "geo_path = 'pdsample/skorea-municipalities-2018-geo.json'\n",
        "geo_json = json.head(open(geo_path, encoding='UTF-8'))"
      ],
      "metadata": {
        "colab": {
          "base_uri": "https://localhost:8080/",
          "height": 190
        },
        "id": "Sn1GkQrzVAUd",
        "outputId": "010892c9-284f-4a63-c8d6-63bdb1b21e98"
      },
      "execution_count": 58,
      "outputs": [
        {
          "output_type": "error",
          "ename": "AttributeError",
          "evalue": "ignored",
          "traceback": [
            "\u001b[0;31m---------------------------------------------------------------------------\u001b[0m",
            "\u001b[0;31mAttributeError\u001b[0m                            Traceback (most recent call last)",
            "\u001b[0;32m<ipython-input-58-446adde0dfa2>\u001b[0m in \u001b[0;36m<module>\u001b[0;34m\u001b[0m\n\u001b[1;32m      1\u001b[0m \u001b[0mgeo_path\u001b[0m \u001b[0;34m=\u001b[0m \u001b[0;34m'pdsample/skorea-municipalities-2018-geo.json'\u001b[0m\u001b[0;34m\u001b[0m\u001b[0;34m\u001b[0m\u001b[0m\n\u001b[0;32m----> 2\u001b[0;31m \u001b[0mgeo_json\u001b[0m \u001b[0;34m=\u001b[0m \u001b[0mjson\u001b[0m\u001b[0;34m.\u001b[0m\u001b[0mhead\u001b[0m\u001b[0;34m(\u001b[0m\u001b[0mopen\u001b[0m\u001b[0;34m(\u001b[0m\u001b[0mgeo_path\u001b[0m\u001b[0;34m,\u001b[0m \u001b[0mencoding\u001b[0m\u001b[0;34m=\u001b[0m\u001b[0;34m'UTF-8'\u001b[0m\u001b[0;34m)\u001b[0m\u001b[0;34m)\u001b[0m\u001b[0;34m\u001b[0m\u001b[0;34m\u001b[0m\u001b[0m\n\u001b[0m",
            "\u001b[0;31mAttributeError\u001b[0m: module 'json' has no attribute 'head'"
          ]
        }
      ]
    },
    {
      "cell_type": "code",
      "source": [
        "map = folium.Map(location = [geo_df_coffee['위도'].mean(), geo_df_coffee['경도'].mean()], zoom_start=12, tiles='Stamen Toner')\n",
        "\n",
        "map.choropleth(geo_data = geo_json,\n",
        "               data = df_coffee_star_edi_gu['상호명'],\n",
        "               columns = [df_coffee_brand.index, df_coffee_star_edi_gu['상호명']],\n",
        "               fill_coloe='Purgle',\n",
        "               )\n",
        "for n in geo_df_coffee.index :\n",
        "  # 팝업에 들어갈 텍스트를 지정해 준다.\n",
        "  popup_name = geo_df_coffee.loc[n, '상호명'] + ' - ' + geo_df_coffee.loc[n, '도로명']\n",
        "  # 브랜드 명에 따라 아이콘 색상을 다르게 준다.\n",
        "  if geo_df_coffee.loc[n, '브랜드명'] == '스타벅스' :\n",
        "    icon_color = 'green'\n",
        "  else : \n",
        "    icon_color = 'blue'\n",
        "\n",
        "  folium.CircleMarker(location=[geo_df_coffee.loc[n, '위도'], geo_df_coffee.loc[n, '경도']],\n",
        "                      radius = 3,\n",
        "                      popup = popup_name,\n",
        "                      color = icon_color,\n",
        "                      fill = True,\n",
        "                      fill_color = icon_color).add_to(map)"
      ],
      "metadata": {
        "id": "tenVEyMaVu_f"
      },
      "execution_count": null,
      "outputs": []
    }
  ]
}