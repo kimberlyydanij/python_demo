{
  "nbformat": 4,
  "nbformat_minor": 0,
  "metadata": {
    "colab": {
      "provenance": [],
      "authorship_tag": "ABX9TyOQplqQJFN4SeVjElJ4dRAg",
      "include_colab_link": true
    },
    "kernelspec": {
      "name": "python3",
      "display_name": "Python 3"
    },
    "language_info": {
      "name": "python"
    }
  },
  "cells": [
    {
      "cell_type": "markdown",
      "metadata": {
        "id": "view-in-github",
        "colab_type": "text"
      },
      "source": [
        "<a href=\"https://colab.research.google.com/github/kimberlyydanij/python_demo/blob/master/python_27_%EC%83%81%EA%B6%8C%EB%B6%84%EC%84%9D.ipynb\" target=\"_parent\"><img src=\"https://colab.research.google.com/assets/colab-badge.svg\" alt=\"Open In Colab\"/></a>"
      ]
    },
    {
      "cell_type": "code",
      "execution_count": 1,
      "metadata": {
        "colab": {
          "base_uri": "https://localhost:8080/"
        },
        "id": "jZUAFhz43e69",
        "outputId": "2fa82ea2-7495-4c58-c3aa-c0480b62c613"
      },
      "outputs": [
        {
          "output_type": "stream",
          "name": "stdout",
          "text": [
            "Reading package lists... Done\n",
            "Building dependency tree       \n",
            "Reading state information... Done\n",
            "The following package was automatically installed and is no longer required:\n",
            "  libnvidia-common-460\n",
            "Use 'sudo apt autoremove' to remove it.\n",
            "The following NEW packages will be installed:\n",
            "  fonts-nanum\n",
            "0 upgraded, 1 newly installed, 0 to remove and 20 not upgraded.\n",
            "Need to get 9,604 kB of archives.\n",
            "After this operation, 29.5 MB of additional disk space will be used.\n",
            "Get:1 http://archive.ubuntu.com/ubuntu bionic/universe amd64 fonts-nanum all 20170925-1 [9,604 kB]\n",
            "Fetched 9,604 kB in 1s (11.8 MB/s)\n",
            "debconf: unable to initialize frontend: Dialog\n",
            "debconf: (No usable dialog-like program is installed, so the dialog based frontend cannot be used. at /usr/share/perl5/Debconf/FrontEnd/Dialog.pm line 76, <> line 1.)\n",
            "debconf: falling back to frontend: Readline\n",
            "debconf: unable to initialize frontend: Readline\n",
            "debconf: (This frontend requires a controlling tty.)\n",
            "debconf: falling back to frontend: Teletype\n",
            "dpkg-preconfigure: unable to re-open stdin: \n",
            "Selecting previously unselected package fonts-nanum.\n",
            "(Reading database ... 124016 files and directories currently installed.)\n",
            "Preparing to unpack .../fonts-nanum_20170925-1_all.deb ...\n",
            "Unpacking fonts-nanum (20170925-1) ...\n",
            "Setting up fonts-nanum (20170925-1) ...\n",
            "Processing triggers for fontconfig (2.12.6-0ubuntu2) ...\n",
            "/usr/share/fonts: caching, new cache contents: 0 fonts, 1 dirs\n",
            "/usr/share/fonts/truetype: caching, new cache contents: 0 fonts, 3 dirs\n",
            "/usr/share/fonts/truetype/humor-sans: caching, new cache contents: 1 fonts, 0 dirs\n",
            "/usr/share/fonts/truetype/liberation: caching, new cache contents: 16 fonts, 0 dirs\n",
            "/usr/share/fonts/truetype/nanum: caching, new cache contents: 10 fonts, 0 dirs\n",
            "/usr/local/share/fonts: caching, new cache contents: 0 fonts, 0 dirs\n",
            "/root/.local/share/fonts: skipping, no such directory\n",
            "/root/.fonts: skipping, no such directory\n",
            "/var/cache/fontconfig: cleaning cache directory\n",
            "/root/.cache/fontconfig: not cleaning non-existent cache directory\n",
            "/root/.fontconfig: not cleaning non-existent cache directory\n",
            "fc-cache: succeeded\n",
            "rm: invalid option -- 'j'\n",
            "Try 'rm --help' for more information.\n"
          ]
        }
      ],
      "source": [
        "!sudo apt-get install -y fonts-nanum\n",
        "!sudo fc-cache -fv\n",
        "!rm ~/.cache/matplotlib -rfjnhbgmv ,     "
      ]
    },
    {
      "cell_type": "code",
      "source": [
        "from google.colab import drive\n",
        "drive.mount('/content/drive')\n",
        "\n",
        "%cd /content/drive/MyDrive/python_demo"
      ],
      "metadata": {
        "colab": {
          "base_uri": "https://localhost:8080/"
        },
        "id": "W8mdIQFw3jIo",
        "outputId": "35f47ca5-656f-4867-d7d0-597f2bd21e22"
      },
      "execution_count": 1,
      "outputs": [
        {
          "output_type": "stream",
          "name": "stdout",
          "text": [
            "Mounted at /content/drive\n",
            "/content/drive/MyDrive/python_demo\n"
          ]
        }
      ]
    },
    {
      "cell_type": "code",
      "source": [
        "import numpy as np\n",
        "import pandas as pd\n",
        "import matplotlib as mp\n",
        "import matplotlib.pyplot as plt\n",
        "import seaborn as sns"
      ],
      "metadata": {
        "id": "nKs-YzRA3rju"
      },
      "execution_count": 2,
      "outputs": []
    },
    {
      "cell_type": "code",
      "source": [
        "plt.rc('font', family='NanumBarunGothic')"
      ],
      "metadata": {
        "id": "UYVh-mBv30CA"
      },
      "execution_count": 3,
      "outputs": []
    },
    {
      "cell_type": "code",
      "source": [
        "df = pd.read_csv('pdsample/seoul_20200630.csv', sep='|')\n",
        "df.head()"
      ],
      "metadata": {
        "colab": {
          "base_uri": "https://localhost:8080/",
          "height": 1000
        },
        "id": "_XO42m5W32Qi",
        "outputId": "928ed4db-6c8e-4806-d8d2-1ef6d6181d29"
      },
      "execution_count": 4,
      "outputs": [
        {
          "output_type": "execute_result",
          "data": {
            "text/plain": [
              "     상가업소번호    상호명   지점명 상권업종대분류코드 상권업종대분류명 상권업종중분류코드 상권업종중분류명 상권업종소분류코드  \\\n",
              "0  19964615  석봉토스트   NaN         Q       음식       Q07    패스트푸드    Q07A10   \n",
              "1  19977290   피자마루   약수점         Q       음식       Q07    패스트푸드    Q07A01   \n",
              "2  19979960   홍능갈비   NaN         Q       음식       Q01       한식    Q01A02   \n",
              "3  19983535    초밥왕   NaN         Q       음식       Q03   일식/수산물    Q03A03   \n",
              "4  19969945   에브리돈  북가좌점         Q       음식       Q01       한식    Q01A01   \n",
              "\n",
              "    상권업종소분류명 표준산업분류코드  ...                     건물관리번호      건물명  \\\n",
              "0      토스트전문   I56192  ...  1121510300100770047020647      NaN   \n",
              "1       피자전문   I56192  ...  1114016200103720095000001     현진빌딩   \n",
              "2     갈비/삼겹살   I56111  ...  1150010300110860003013118      NaN   \n",
              "3   음식점-초밥전문   I56113  ...  1171010200100070028000237  현대타워아파트   \n",
              "4  한식/백반/한정식   I56111  ...  1141011900103070003002306      NaN   \n",
              "\n",
              "                                   도로명주소   구우편번호   신우편번호  동정보 층정보  호정보  \\\n",
              "0             서울특별시 광진구 자양로39길 20, (구의동)  143200  4992.0  NaN   1  NaN   \n",
              "1               서울특별시 중구 동호로7길 37, (신당동)  100450  4596.0  NaN   1  NaN   \n",
              "2             서울특별시 강서구 화곡로18길 31, (화곡동)  157010  7718.0  NaN   1  NaN   \n",
              "3  서울특별시 송파구 올림픽로 293-19, (신천동, 현대타워아파트)  138735  5510.0  NaN   1  NaN   \n",
              "4              서울특별시 서대문구 응암로 65, (북가좌동)  120130  3681.0  NaN   1  NaN   \n",
              "\n",
              "           경도         위도  \n",
              "0  127.088387  37.549245  \n",
              "1  127.010861  37.552153  \n",
              "2  126.836078  37.538927  \n",
              "3  127.102490  37.515149  \n",
              "4  126.910288  37.579029  \n",
              "\n",
              "[5 rows x 39 columns]"
            ],
            "text/html": [
              "\n",
              "  <div id=\"df-0a5bcaa5-f56b-4e2e-83d9-f599bcf225d9\">\n",
              "    <div class=\"colab-df-container\">\n",
              "      <div>\n",
              "<style scoped>\n",
              "    .dataframe tbody tr th:only-of-type {\n",
              "        vertical-align: middle;\n",
              "    }\n",
              "\n",
              "    .dataframe tbody tr th {\n",
              "        vertical-align: top;\n",
              "    }\n",
              "\n",
              "    .dataframe thead th {\n",
              "        text-align: right;\n",
              "    }\n",
              "</style>\n",
              "<table border=\"1\" class=\"dataframe\">\n",
              "  <thead>\n",
              "    <tr style=\"text-align: right;\">\n",
              "      <th></th>\n",
              "      <th>상가업소번호</th>\n",
              "      <th>상호명</th>\n",
              "      <th>지점명</th>\n",
              "      <th>상권업종대분류코드</th>\n",
              "      <th>상권업종대분류명</th>\n",
              "      <th>상권업종중분류코드</th>\n",
              "      <th>상권업종중분류명</th>\n",
              "      <th>상권업종소분류코드</th>\n",
              "      <th>상권업종소분류명</th>\n",
              "      <th>표준산업분류코드</th>\n",
              "      <th>...</th>\n",
              "      <th>건물관리번호</th>\n",
              "      <th>건물명</th>\n",
              "      <th>도로명주소</th>\n",
              "      <th>구우편번호</th>\n",
              "      <th>신우편번호</th>\n",
              "      <th>동정보</th>\n",
              "      <th>층정보</th>\n",
              "      <th>호정보</th>\n",
              "      <th>경도</th>\n",
              "      <th>위도</th>\n",
              "    </tr>\n",
              "  </thead>\n",
              "  <tbody>\n",
              "    <tr>\n",
              "      <th>0</th>\n",
              "      <td>19964615</td>\n",
              "      <td>석봉토스트</td>\n",
              "      <td>NaN</td>\n",
              "      <td>Q</td>\n",
              "      <td>음식</td>\n",
              "      <td>Q07</td>\n",
              "      <td>패스트푸드</td>\n",
              "      <td>Q07A10</td>\n",
              "      <td>토스트전문</td>\n",
              "      <td>I56192</td>\n",
              "      <td>...</td>\n",
              "      <td>1121510300100770047020647</td>\n",
              "      <td>NaN</td>\n",
              "      <td>서울특별시 광진구 자양로39길 20, (구의동)</td>\n",
              "      <td>143200</td>\n",
              "      <td>4992.0</td>\n",
              "      <td>NaN</td>\n",
              "      <td>1</td>\n",
              "      <td>NaN</td>\n",
              "      <td>127.088387</td>\n",
              "      <td>37.549245</td>\n",
              "    </tr>\n",
              "    <tr>\n",
              "      <th>1</th>\n",
              "      <td>19977290</td>\n",
              "      <td>피자마루</td>\n",
              "      <td>약수점</td>\n",
              "      <td>Q</td>\n",
              "      <td>음식</td>\n",
              "      <td>Q07</td>\n",
              "      <td>패스트푸드</td>\n",
              "      <td>Q07A01</td>\n",
              "      <td>피자전문</td>\n",
              "      <td>I56192</td>\n",
              "      <td>...</td>\n",
              "      <td>1114016200103720095000001</td>\n",
              "      <td>현진빌딩</td>\n",
              "      <td>서울특별시 중구 동호로7길 37, (신당동)</td>\n",
              "      <td>100450</td>\n",
              "      <td>4596.0</td>\n",
              "      <td>NaN</td>\n",
              "      <td>1</td>\n",
              "      <td>NaN</td>\n",
              "      <td>127.010861</td>\n",
              "      <td>37.552153</td>\n",
              "    </tr>\n",
              "    <tr>\n",
              "      <th>2</th>\n",
              "      <td>19979960</td>\n",
              "      <td>홍능갈비</td>\n",
              "      <td>NaN</td>\n",
              "      <td>Q</td>\n",
              "      <td>음식</td>\n",
              "      <td>Q01</td>\n",
              "      <td>한식</td>\n",
              "      <td>Q01A02</td>\n",
              "      <td>갈비/삼겹살</td>\n",
              "      <td>I56111</td>\n",
              "      <td>...</td>\n",
              "      <td>1150010300110860003013118</td>\n",
              "      <td>NaN</td>\n",
              "      <td>서울특별시 강서구 화곡로18길 31, (화곡동)</td>\n",
              "      <td>157010</td>\n",
              "      <td>7718.0</td>\n",
              "      <td>NaN</td>\n",
              "      <td>1</td>\n",
              "      <td>NaN</td>\n",
              "      <td>126.836078</td>\n",
              "      <td>37.538927</td>\n",
              "    </tr>\n",
              "    <tr>\n",
              "      <th>3</th>\n",
              "      <td>19983535</td>\n",
              "      <td>초밥왕</td>\n",
              "      <td>NaN</td>\n",
              "      <td>Q</td>\n",
              "      <td>음식</td>\n",
              "      <td>Q03</td>\n",
              "      <td>일식/수산물</td>\n",
              "      <td>Q03A03</td>\n",
              "      <td>음식점-초밥전문</td>\n",
              "      <td>I56113</td>\n",
              "      <td>...</td>\n",
              "      <td>1171010200100070028000237</td>\n",
              "      <td>현대타워아파트</td>\n",
              "      <td>서울특별시 송파구 올림픽로 293-19, (신천동, 현대타워아파트)</td>\n",
              "      <td>138735</td>\n",
              "      <td>5510.0</td>\n",
              "      <td>NaN</td>\n",
              "      <td>1</td>\n",
              "      <td>NaN</td>\n",
              "      <td>127.102490</td>\n",
              "      <td>37.515149</td>\n",
              "    </tr>\n",
              "    <tr>\n",
              "      <th>4</th>\n",
              "      <td>19969945</td>\n",
              "      <td>에브리돈</td>\n",
              "      <td>북가좌점</td>\n",
              "      <td>Q</td>\n",
              "      <td>음식</td>\n",
              "      <td>Q01</td>\n",
              "      <td>한식</td>\n",
              "      <td>Q01A01</td>\n",
              "      <td>한식/백반/한정식</td>\n",
              "      <td>I56111</td>\n",
              "      <td>...</td>\n",
              "      <td>1141011900103070003002306</td>\n",
              "      <td>NaN</td>\n",
              "      <td>서울특별시 서대문구 응암로 65, (북가좌동)</td>\n",
              "      <td>120130</td>\n",
              "      <td>3681.0</td>\n",
              "      <td>NaN</td>\n",
              "      <td>1</td>\n",
              "      <td>NaN</td>\n",
              "      <td>126.910288</td>\n",
              "      <td>37.579029</td>\n",
              "    </tr>\n",
              "  </tbody>\n",
              "</table>\n",
              "<p>5 rows × 39 columns</p>\n",
              "</div>\n",
              "      <button class=\"colab-df-convert\" onclick=\"convertToInteractive('df-0a5bcaa5-f56b-4e2e-83d9-f599bcf225d9')\"\n",
              "              title=\"Convert this dataframe to an interactive table.\"\n",
              "              style=\"display:none;\">\n",
              "        \n",
              "  <svg xmlns=\"http://www.w3.org/2000/svg\" height=\"24px\"viewBox=\"0 0 24 24\"\n",
              "       width=\"24px\">\n",
              "    <path d=\"M0 0h24v24H0V0z\" fill=\"none\"/>\n",
              "    <path d=\"M18.56 5.44l.94 2.06.94-2.06 2.06-.94-2.06-.94-.94-2.06-.94 2.06-2.06.94zm-11 1L8.5 8.5l.94-2.06 2.06-.94-2.06-.94L8.5 2.5l-.94 2.06-2.06.94zm10 10l.94 2.06.94-2.06 2.06-.94-2.06-.94-.94-2.06-.94 2.06-2.06.94z\"/><path d=\"M17.41 7.96l-1.37-1.37c-.4-.4-.92-.59-1.43-.59-.52 0-1.04.2-1.43.59L10.3 9.45l-7.72 7.72c-.78.78-.78 2.05 0 2.83L4 21.41c.39.39.9.59 1.41.59.51 0 1.02-.2 1.41-.59l7.78-7.78 2.81-2.81c.8-.78.8-2.07 0-2.86zM5.41 20L4 18.59l7.72-7.72 1.47 1.35L5.41 20z\"/>\n",
              "  </svg>\n",
              "      </button>\n",
              "      \n",
              "  <style>\n",
              "    .colab-df-container {\n",
              "      display:flex;\n",
              "      flex-wrap:wrap;\n",
              "      gap: 12px;\n",
              "    }\n",
              "\n",
              "    .colab-df-convert {\n",
              "      background-color: #E8F0FE;\n",
              "      border: none;\n",
              "      border-radius: 50%;\n",
              "      cursor: pointer;\n",
              "      display: none;\n",
              "      fill: #1967D2;\n",
              "      height: 32px;\n",
              "      padding: 0 0 0 0;\n",
              "      width: 32px;\n",
              "    }\n",
              "\n",
              "    .colab-df-convert:hover {\n",
              "      background-color: #E2EBFA;\n",
              "      box-shadow: 0px 1px 2px rgba(60, 64, 67, 0.3), 0px 1px 3px 1px rgba(60, 64, 67, 0.15);\n",
              "      fill: #174EA6;\n",
              "    }\n",
              "\n",
              "    [theme=dark] .colab-df-convert {\n",
              "      background-color: #3B4455;\n",
              "      fill: #D2E3FC;\n",
              "    }\n",
              "\n",
              "    [theme=dark] .colab-df-convert:hover {\n",
              "      background-color: #434B5C;\n",
              "      box-shadow: 0px 1px 3px 1px rgba(0, 0, 0, 0.15);\n",
              "      filter: drop-shadow(0px 1px 2px rgba(0, 0, 0, 0.3));\n",
              "      fill: #FFFFFF;\n",
              "    }\n",
              "  </style>\n",
              "\n",
              "      <script>\n",
              "        const buttonEl =\n",
              "          document.querySelector('#df-0a5bcaa5-f56b-4e2e-83d9-f599bcf225d9 button.colab-df-convert');\n",
              "        buttonEl.style.display =\n",
              "          google.colab.kernel.accessAllowed ? 'block' : 'none';\n",
              "\n",
              "        async function convertToInteractive(key) {\n",
              "          const element = document.querySelector('#df-0a5bcaa5-f56b-4e2e-83d9-f599bcf225d9');\n",
              "          const dataTable =\n",
              "            await google.colab.kernel.invokeFunction('convertToInteractive',\n",
              "                                                     [key], {});\n",
              "          if (!dataTable) return;\n",
              "\n",
              "          const docLinkHtml = 'Like what you see? Visit the ' +\n",
              "            '<a target=\"_blank\" href=https://colab.research.google.com/notebooks/data_table.ipynb>data table notebook</a>'\n",
              "            + ' to learn more about interactive tables.';\n",
              "          element.innerHTML = '';\n",
              "          dataTable['output_type'] = 'display_data';\n",
              "          await google.colab.output.renderOutput(dataTable, element);\n",
              "          const docLink = document.createElement('div');\n",
              "          docLink.innerHTML = docLinkHtml;\n",
              "          element.appendChild(docLink);\n",
              "        }\n",
              "      </script>\n",
              "    </div>\n",
              "  </div>\n",
              "  "
            ]
          },
          "metadata": {},
          "execution_count": 4
        }
      ]
    },
    {
      "cell_type": "code",
      "source": [
        "df.shape"
      ],
      "metadata": {
        "colab": {
          "base_uri": "https://localhost:8080/"
        },
        "id": "LQQJUXXN4PRN",
        "outputId": "e70f6db8-ff00-42a3-d503-2186f24597ef"
      },
      "execution_count": 6,
      "outputs": [
        {
          "output_type": "execute_result",
          "data": {
            "text/plain": [
              "(370321, 39)"
            ]
          },
          "metadata": {},
          "execution_count": 6
        }
      ]
    },
    {
      "cell_type": "code",
      "source": [
        "df.columns"
      ],
      "metadata": {
        "colab": {
          "base_uri": "https://localhost:8080/"
        },
        "id": "NAqTq0Y56JBe",
        "outputId": "38e21bff-f759-448c-ff82-a8e4b1d496f1"
      },
      "execution_count": 7,
      "outputs": [
        {
          "output_type": "execute_result",
          "data": {
            "text/plain": [
              "Index(['상가업소번호', '상호명', '지점명', '상권업종대분류코드', '상권업종대분류명', '상권업종중분류코드',\n",
              "       '상권업종중분류명', '상권업종소분류코드', '상권업종소분류명', '표준산업분류코드', '표준산업분류명', '시도코드',\n",
              "       '시도명', '시군구코드', '시군구명', '행정동코드', '행정동명', '법정동코드', '법정동명', '지번코드',\n",
              "       '대지구분코드', '대지구분명', '지번본번지', '지번부번지', '지번주소', '도로명코드', '도로명', '건물본번지',\n",
              "       '건물부번지', '건물관리번호', '건물명', '도로명주소', '구우편번호', '신우편번호', '동정보', '층정보',\n",
              "       '호정보', '경도', '위도'],\n",
              "      dtype='object')"
            ]
          },
          "metadata": {},
          "execution_count": 7
        }
      ]
    },
    {
      "cell_type": "code",
      "source": [
        "set(df['상권업종대분류명'])"
      ],
      "metadata": {
        "colab": {
          "base_uri": "https://localhost:8080/"
        },
        "id": "arWHFcPR6LQW",
        "outputId": "d9fe88b6-d12e-4150-f693-ffeb52f0230e"
      },
      "execution_count": 8,
      "outputs": [
        {
          "output_type": "execute_result",
          "data": {
            "text/plain": [
              "{'관광/여가/오락', '부동산', '생활서비스', '소매', '숙박', '스포츠', '음식', '학문/교육'}"
            ]
          },
          "metadata": {},
          "execution_count": 8
        }
      ]
    },
    {
      "cell_type": "code",
      "source": [
        "print(set(df['상권업종중분류명']))"
      ],
      "metadata": {
        "colab": {
          "base_uri": "https://localhost:8080/"
        },
        "id": "VFfBkrNZ6UrF",
        "outputId": "0a87f7ca-188b-40ba-e3e0-b33c143e5188"
      },
      "execution_count": 9,
      "outputs": [
        {
          "output_type": "stream",
          "name": "stdout",
          "text": [
            "{'제과제빵떡케익', '모텔/여관/여인숙', '요가/단전/마사지', '실내운동시설', '운동/경기용품소매', '닭/오리요리', '사무/문구/컴퓨터', '취미/오락관련소매', '별식/퓨전요리', '자동차/이륜차', '개인서비스', '민박/하숙', '의약/의료품소매', '예식/의례/관혼상제', '시계/귀금속소매', '전시/관람', '의복의류', '주유소/충전소', '애견/애완/동물', '호텔/콘도', '사진/광학/정밀기기소매', '학원기타', '무도/유흥/가무', '학원-보습교습입시', '세탁/가사서비스', '종합소매점', '운영관리시설', '부동산중개', '유아교육', '기타음식업', '유흥주점', '법무세무회계', '가방/신발/액세서리', '연극/영화/극장', '학원-창업취업취미', '광고/인쇄', '기타서비스업', '캠프/별장/펜션', '이/미용/건강', '대중목욕탕/휴게', '기타교육기관', '부동산임대', '사진', '학문교육기타', '음/식료품소매', '커피점/카페', '학원-예능취미체육', '연구소', '일식/수산물', '놀이/여가/취미', '한식', '장례/묘지', '대행업', '가전제품소매', '학원-음악미술무용', '도서관/독서실', '패스트푸드', '책/서적/도서', '예술품/골동품/수석/분재', '학원-컴퓨터', '종교용품판매', '부동산관련서비스', '화장품소매', '철물/난방/건설자재소매', '음식배달서비스', '기타판매업', '평가/개발/관리', '운송/배달/택배', '경마/경륜/성인오락', '유스호스텔', '중고품소매/교환', '페인트/유리제품소매', '물품기기대여', '행사/이벤트', '양식', '건강/미용식품', '자동차/자동차용품', '가구소매', '스포츠/운동', '중식', '인력/고용/용역알선', '분식', '학원-자격/국가고시', '분양', '부페', '유아용품', '가정/주방/인테리어', '개인/가정용품수리', '선물/팬시/기념품', 'PC/오락/당구/볼링등', '학원-어학', '실외운동시설', '주택수리', '학교'}\n"
          ]
        }
      ]
    },
    {
      "cell_type": "code",
      "source": [
        "#결측치\n",
        "df.isnull().sum()"
      ],
      "metadata": {
        "colab": {
          "base_uri": "https://localhost:8080/"
        },
        "id": "S8pZOo3u6eZ9",
        "outputId": "e2de10f4-e6b7-42a4-c059-53823e8612b4"
      },
      "execution_count": 10,
      "outputs": [
        {
          "output_type": "execute_result",
          "data": {
            "text/plain": [
              "상가업소번호            0\n",
              "상호명               0\n",
              "지점명          315822\n",
              "상권업종대분류코드         0\n",
              "상권업종대분류명          0\n",
              "상권업종중분류코드         0\n",
              "상권업종중분류명          0\n",
              "상권업종소분류코드         0\n",
              "상권업종소분류명         12\n",
              "표준산업분류코드      25266\n",
              "표준산업분류명       25266\n",
              "시도코드              0\n",
              "시도명               0\n",
              "시군구코드             0\n",
              "시군구명              0\n",
              "행정동코드             0\n",
              "행정동명              1\n",
              "법정동코드             0\n",
              "법정동명              0\n",
              "지번코드              0\n",
              "대지구분코드            0\n",
              "대지구분명             0\n",
              "지번본번지             0\n",
              "지번부번지         70637\n",
              "지번주소              0\n",
              "도로명코드             0\n",
              "도로명               0\n",
              "건물본번지             0\n",
              "건물부번지        325767\n",
              "건물관리번호            0\n",
              "건물명          191777\n",
              "도로명주소             0\n",
              "구우편번호             0\n",
              "신우편번호             2\n",
              "동정보          341396\n",
              "층정보          120053\n",
              "호정보          314429\n",
              "경도                0\n",
              "위도                0\n",
              "dtype: int64"
            ]
          },
          "metadata": {},
          "execution_count": 10
        }
      ]
    },
    {
      "cell_type": "code",
      "source": [
        "# 결측치를 그래프로 확인\n",
        "import missingno as msno"
      ],
      "metadata": {
        "id": "lIgsPPmI6wJ_"
      },
      "execution_count": 13,
      "outputs": []
    },
    {
      "cell_type": "code",
      "source": [
        "msno.matrix(df)"
      ],
      "metadata": {
        "colab": {
          "base_uri": "https://localhost:8080/",
          "height": 1000
        },
        "id": "wp-p0wkJ667C",
        "outputId": "f13dd082-460c-4954-e5a6-8d7240f83b70"
      },
      "execution_count": 12,
      "outputs": [
        {
          "output_type": "execute_result",
          "data": {
            "text/plain": [
              "<matplotlib.axes._subplots.AxesSubplot at 0x7f1f31d54a60>"
            ]
          },
          "metadata": {},
          "execution_count": 12
        },
        {
          "output_type": "stream",
          "name": "stderr",
          "text": [
            "WARNING:matplotlib.font_manager:findfont: Font family ['NanumBarunGothic'] not found. Falling back to DejaVu Sans.\n",
            "WARNING:matplotlib.font_manager:findfont: Font family ['NanumBarunGothic'] not found. Falling back to DejaVu Sans.\n",
            "/usr/local/lib/python3.8/dist-packages/matplotlib/backends/backend_agg.py:214: RuntimeWarning: Glyph 49345 missing from current font.\n",
            "  font.set_text(s, 0.0, flags=flags)\n",
            "/usr/local/lib/python3.8/dist-packages/matplotlib/backends/backend_agg.py:214: RuntimeWarning: Glyph 44032 missing from current font.\n",
            "  font.set_text(s, 0.0, flags=flags)\n",
            "/usr/local/lib/python3.8/dist-packages/matplotlib/backends/backend_agg.py:214: RuntimeWarning: Glyph 50629 missing from current font.\n",
            "  font.set_text(s, 0.0, flags=flags)\n",
            "/usr/local/lib/python3.8/dist-packages/matplotlib/backends/backend_agg.py:214: RuntimeWarning: Glyph 49548 missing from current font.\n",
            "  font.set_text(s, 0.0, flags=flags)\n",
            "/usr/local/lib/python3.8/dist-packages/matplotlib/backends/backend_agg.py:214: RuntimeWarning: Glyph 48264 missing from current font.\n",
            "  font.set_text(s, 0.0, flags=flags)\n",
            "/usr/local/lib/python3.8/dist-packages/matplotlib/backends/backend_agg.py:214: RuntimeWarning: Glyph 54840 missing from current font.\n",
            "  font.set_text(s, 0.0, flags=flags)\n",
            "/usr/local/lib/python3.8/dist-packages/matplotlib/backends/backend_agg.py:214: RuntimeWarning: Glyph 47749 missing from current font.\n",
            "  font.set_text(s, 0.0, flags=flags)\n",
            "/usr/local/lib/python3.8/dist-packages/matplotlib/backends/backend_agg.py:214: RuntimeWarning: Glyph 51648 missing from current font.\n",
            "  font.set_text(s, 0.0, flags=flags)\n",
            "/usr/local/lib/python3.8/dist-packages/matplotlib/backends/backend_agg.py:214: RuntimeWarning: Glyph 51216 missing from current font.\n",
            "  font.set_text(s, 0.0, flags=flags)\n",
            "/usr/local/lib/python3.8/dist-packages/matplotlib/backends/backend_agg.py:214: RuntimeWarning: Glyph 44428 missing from current font.\n",
            "  font.set_text(s, 0.0, flags=flags)\n",
            "/usr/local/lib/python3.8/dist-packages/matplotlib/backends/backend_agg.py:214: RuntimeWarning: Glyph 51333 missing from current font.\n",
            "  font.set_text(s, 0.0, flags=flags)\n",
            "/usr/local/lib/python3.8/dist-packages/matplotlib/backends/backend_agg.py:214: RuntimeWarning: Glyph 45824 missing from current font.\n",
            "  font.set_text(s, 0.0, flags=flags)\n",
            "/usr/local/lib/python3.8/dist-packages/matplotlib/backends/backend_agg.py:214: RuntimeWarning: Glyph 48516 missing from current font.\n",
            "  font.set_text(s, 0.0, flags=flags)\n",
            "/usr/local/lib/python3.8/dist-packages/matplotlib/backends/backend_agg.py:214: RuntimeWarning: Glyph 47448 missing from current font.\n",
            "  font.set_text(s, 0.0, flags=flags)\n",
            "/usr/local/lib/python3.8/dist-packages/matplotlib/backends/backend_agg.py:214: RuntimeWarning: Glyph 53076 missing from current font.\n",
            "  font.set_text(s, 0.0, flags=flags)\n",
            "/usr/local/lib/python3.8/dist-packages/matplotlib/backends/backend_agg.py:214: RuntimeWarning: Glyph 46300 missing from current font.\n",
            "  font.set_text(s, 0.0, flags=flags)\n",
            "/usr/local/lib/python3.8/dist-packages/matplotlib/backends/backend_agg.py:214: RuntimeWarning: Glyph 51473 missing from current font.\n",
            "  font.set_text(s, 0.0, flags=flags)\n",
            "/usr/local/lib/python3.8/dist-packages/matplotlib/backends/backend_agg.py:214: RuntimeWarning: Glyph 54364 missing from current font.\n",
            "  font.set_text(s, 0.0, flags=flags)\n",
            "/usr/local/lib/python3.8/dist-packages/matplotlib/backends/backend_agg.py:214: RuntimeWarning: Glyph 51456 missing from current font.\n",
            "  font.set_text(s, 0.0, flags=flags)\n",
            "/usr/local/lib/python3.8/dist-packages/matplotlib/backends/backend_agg.py:214: RuntimeWarning: Glyph 49328 missing from current font.\n",
            "  font.set_text(s, 0.0, flags=flags)\n",
            "/usr/local/lib/python3.8/dist-packages/matplotlib/backends/backend_agg.py:214: RuntimeWarning: Glyph 49884 missing from current font.\n",
            "  font.set_text(s, 0.0, flags=flags)\n",
            "/usr/local/lib/python3.8/dist-packages/matplotlib/backends/backend_agg.py:214: RuntimeWarning: Glyph 46020 missing from current font.\n",
            "  font.set_text(s, 0.0, flags=flags)\n",
            "/usr/local/lib/python3.8/dist-packages/matplotlib/backends/backend_agg.py:214: RuntimeWarning: Glyph 44400 missing from current font.\n",
            "  font.set_text(s, 0.0, flags=flags)\n",
            "/usr/local/lib/python3.8/dist-packages/matplotlib/backends/backend_agg.py:214: RuntimeWarning: Glyph 44396 missing from current font.\n",
            "  font.set_text(s, 0.0, flags=flags)\n",
            "/usr/local/lib/python3.8/dist-packages/matplotlib/backends/backend_agg.py:214: RuntimeWarning: Glyph 54665 missing from current font.\n",
            "  font.set_text(s, 0.0, flags=flags)\n",
            "/usr/local/lib/python3.8/dist-packages/matplotlib/backends/backend_agg.py:214: RuntimeWarning: Glyph 51221 missing from current font.\n",
            "  font.set_text(s, 0.0, flags=flags)\n",
            "/usr/local/lib/python3.8/dist-packages/matplotlib/backends/backend_agg.py:214: RuntimeWarning: Glyph 46041 missing from current font.\n",
            "  font.set_text(s, 0.0, flags=flags)\n",
            "/usr/local/lib/python3.8/dist-packages/matplotlib/backends/backend_agg.py:214: RuntimeWarning: Glyph 48277 missing from current font.\n",
            "  font.set_text(s, 0.0, flags=flags)\n",
            "/usr/local/lib/python3.8/dist-packages/matplotlib/backends/backend_agg.py:214: RuntimeWarning: Glyph 48376 missing from current font.\n",
            "  font.set_text(s, 0.0, flags=flags)\n",
            "/usr/local/lib/python3.8/dist-packages/matplotlib/backends/backend_agg.py:214: RuntimeWarning: Glyph 48512 missing from current font.\n",
            "  font.set_text(s, 0.0, flags=flags)\n",
            "/usr/local/lib/python3.8/dist-packages/matplotlib/backends/backend_agg.py:214: RuntimeWarning: Glyph 51452 missing from current font.\n",
            "  font.set_text(s, 0.0, flags=flags)\n",
            "/usr/local/lib/python3.8/dist-packages/matplotlib/backends/backend_agg.py:214: RuntimeWarning: Glyph 47196 missing from current font.\n",
            "  font.set_text(s, 0.0, flags=flags)\n",
            "/usr/local/lib/python3.8/dist-packages/matplotlib/backends/backend_agg.py:214: RuntimeWarning: Glyph 44148 missing from current font.\n",
            "  font.set_text(s, 0.0, flags=flags)\n",
            "/usr/local/lib/python3.8/dist-packages/matplotlib/backends/backend_agg.py:214: RuntimeWarning: Glyph 47932 missing from current font.\n",
            "  font.set_text(s, 0.0, flags=flags)\n",
            "/usr/local/lib/python3.8/dist-packages/matplotlib/backends/backend_agg.py:214: RuntimeWarning: Glyph 44288 missing from current font.\n",
            "  font.set_text(s, 0.0, flags=flags)\n",
            "/usr/local/lib/python3.8/dist-packages/matplotlib/backends/backend_agg.py:214: RuntimeWarning: Glyph 47532 missing from current font.\n",
            "  font.set_text(s, 0.0, flags=flags)\n",
            "/usr/local/lib/python3.8/dist-packages/matplotlib/backends/backend_agg.py:214: RuntimeWarning: Glyph 50864 missing from current font.\n",
            "  font.set_text(s, 0.0, flags=flags)\n",
            "/usr/local/lib/python3.8/dist-packages/matplotlib/backends/backend_agg.py:214: RuntimeWarning: Glyph 54200 missing from current font.\n",
            "  font.set_text(s, 0.0, flags=flags)\n",
            "/usr/local/lib/python3.8/dist-packages/matplotlib/backends/backend_agg.py:214: RuntimeWarning: Glyph 49888 missing from current font.\n",
            "  font.set_text(s, 0.0, flags=flags)\n",
            "/usr/local/lib/python3.8/dist-packages/matplotlib/backends/backend_agg.py:214: RuntimeWarning: Glyph 48372 missing from current font.\n",
            "  font.set_text(s, 0.0, flags=flags)\n",
            "/usr/local/lib/python3.8/dist-packages/matplotlib/backends/backend_agg.py:214: RuntimeWarning: Glyph 52789 missing from current font.\n",
            "  font.set_text(s, 0.0, flags=flags)\n",
            "/usr/local/lib/python3.8/dist-packages/matplotlib/backends/backend_agg.py:214: RuntimeWarning: Glyph 44221 missing from current font.\n",
            "  font.set_text(s, 0.0, flags=flags)\n",
            "/usr/local/lib/python3.8/dist-packages/matplotlib/backends/backend_agg.py:214: RuntimeWarning: Glyph 50948 missing from current font.\n",
            "  font.set_text(s, 0.0, flags=flags)\n",
            "/usr/local/lib/python3.8/dist-packages/matplotlib/backends/backend_agg.py:183: RuntimeWarning: Glyph 49345 missing from current font.\n",
            "  font.set_text(s, 0, flags=flags)\n",
            "/usr/local/lib/python3.8/dist-packages/matplotlib/backends/backend_agg.py:183: RuntimeWarning: Glyph 44032 missing from current font.\n",
            "  font.set_text(s, 0, flags=flags)\n",
            "/usr/local/lib/python3.8/dist-packages/matplotlib/backends/backend_agg.py:183: RuntimeWarning: Glyph 50629 missing from current font.\n",
            "  font.set_text(s, 0, flags=flags)\n",
            "/usr/local/lib/python3.8/dist-packages/matplotlib/backends/backend_agg.py:183: RuntimeWarning: Glyph 49548 missing from current font.\n",
            "  font.set_text(s, 0, flags=flags)\n",
            "/usr/local/lib/python3.8/dist-packages/matplotlib/backends/backend_agg.py:183: RuntimeWarning: Glyph 48264 missing from current font.\n",
            "  font.set_text(s, 0, flags=flags)\n",
            "/usr/local/lib/python3.8/dist-packages/matplotlib/backends/backend_agg.py:183: RuntimeWarning: Glyph 54840 missing from current font.\n",
            "  font.set_text(s, 0, flags=flags)\n",
            "/usr/local/lib/python3.8/dist-packages/matplotlib/backends/backend_agg.py:183: RuntimeWarning: Glyph 47749 missing from current font.\n",
            "  font.set_text(s, 0, flags=flags)\n",
            "/usr/local/lib/python3.8/dist-packages/matplotlib/backends/backend_agg.py:183: RuntimeWarning: Glyph 51648 missing from current font.\n",
            "  font.set_text(s, 0, flags=flags)\n",
            "/usr/local/lib/python3.8/dist-packages/matplotlib/backends/backend_agg.py:183: RuntimeWarning: Glyph 51216 missing from current font.\n",
            "  font.set_text(s, 0, flags=flags)\n",
            "/usr/local/lib/python3.8/dist-packages/matplotlib/backends/backend_agg.py:183: RuntimeWarning: Glyph 44428 missing from current font.\n",
            "  font.set_text(s, 0, flags=flags)\n",
            "/usr/local/lib/python3.8/dist-packages/matplotlib/backends/backend_agg.py:183: RuntimeWarning: Glyph 51333 missing from current font.\n",
            "  font.set_text(s, 0, flags=flags)\n",
            "/usr/local/lib/python3.8/dist-packages/matplotlib/backends/backend_agg.py:183: RuntimeWarning: Glyph 45824 missing from current font.\n",
            "  font.set_text(s, 0, flags=flags)\n",
            "/usr/local/lib/python3.8/dist-packages/matplotlib/backends/backend_agg.py:183: RuntimeWarning: Glyph 48516 missing from current font.\n",
            "  font.set_text(s, 0, flags=flags)\n",
            "/usr/local/lib/python3.8/dist-packages/matplotlib/backends/backend_agg.py:183: RuntimeWarning: Glyph 47448 missing from current font.\n",
            "  font.set_text(s, 0, flags=flags)\n",
            "/usr/local/lib/python3.8/dist-packages/matplotlib/backends/backend_agg.py:183: RuntimeWarning: Glyph 53076 missing from current font.\n",
            "  font.set_text(s, 0, flags=flags)\n",
            "/usr/local/lib/python3.8/dist-packages/matplotlib/backends/backend_agg.py:183: RuntimeWarning: Glyph 46300 missing from current font.\n",
            "  font.set_text(s, 0, flags=flags)\n",
            "/usr/local/lib/python3.8/dist-packages/matplotlib/backends/backend_agg.py:183: RuntimeWarning: Glyph 51473 missing from current font.\n",
            "  font.set_text(s, 0, flags=flags)\n",
            "/usr/local/lib/python3.8/dist-packages/matplotlib/backends/backend_agg.py:183: RuntimeWarning: Glyph 54364 missing from current font.\n",
            "  font.set_text(s, 0, flags=flags)\n",
            "/usr/local/lib/python3.8/dist-packages/matplotlib/backends/backend_agg.py:183: RuntimeWarning: Glyph 51456 missing from current font.\n",
            "  font.set_text(s, 0, flags=flags)\n",
            "/usr/local/lib/python3.8/dist-packages/matplotlib/backends/backend_agg.py:183: RuntimeWarning: Glyph 49328 missing from current font.\n",
            "  font.set_text(s, 0, flags=flags)\n",
            "/usr/local/lib/python3.8/dist-packages/matplotlib/backends/backend_agg.py:183: RuntimeWarning: Glyph 49884 missing from current font.\n",
            "  font.set_text(s, 0, flags=flags)\n",
            "/usr/local/lib/python3.8/dist-packages/matplotlib/backends/backend_agg.py:183: RuntimeWarning: Glyph 46020 missing from current font.\n",
            "  font.set_text(s, 0, flags=flags)\n",
            "/usr/local/lib/python3.8/dist-packages/matplotlib/backends/backend_agg.py:183: RuntimeWarning: Glyph 44400 missing from current font.\n",
            "  font.set_text(s, 0, flags=flags)\n",
            "/usr/local/lib/python3.8/dist-packages/matplotlib/backends/backend_agg.py:183: RuntimeWarning: Glyph 44396 missing from current font.\n",
            "  font.set_text(s, 0, flags=flags)\n",
            "/usr/local/lib/python3.8/dist-packages/matplotlib/backends/backend_agg.py:183: RuntimeWarning: Glyph 54665 missing from current font.\n",
            "  font.set_text(s, 0, flags=flags)\n",
            "/usr/local/lib/python3.8/dist-packages/matplotlib/backends/backend_agg.py:183: RuntimeWarning: Glyph 51221 missing from current font.\n",
            "  font.set_text(s, 0, flags=flags)\n",
            "/usr/local/lib/python3.8/dist-packages/matplotlib/backends/backend_agg.py:183: RuntimeWarning: Glyph 46041 missing from current font.\n",
            "  font.set_text(s, 0, flags=flags)\n",
            "/usr/local/lib/python3.8/dist-packages/matplotlib/backends/backend_agg.py:183: RuntimeWarning: Glyph 48277 missing from current font.\n",
            "  font.set_text(s, 0, flags=flags)\n",
            "/usr/local/lib/python3.8/dist-packages/matplotlib/backends/backend_agg.py:183: RuntimeWarning: Glyph 48376 missing from current font.\n",
            "  font.set_text(s, 0, flags=flags)\n",
            "/usr/local/lib/python3.8/dist-packages/matplotlib/backends/backend_agg.py:183: RuntimeWarning: Glyph 48512 missing from current font.\n",
            "  font.set_text(s, 0, flags=flags)\n",
            "/usr/local/lib/python3.8/dist-packages/matplotlib/backends/backend_agg.py:183: RuntimeWarning: Glyph 51452 missing from current font.\n",
            "  font.set_text(s, 0, flags=flags)\n",
            "/usr/local/lib/python3.8/dist-packages/matplotlib/backends/backend_agg.py:183: RuntimeWarning: Glyph 47196 missing from current font.\n",
            "  font.set_text(s, 0, flags=flags)\n",
            "/usr/local/lib/python3.8/dist-packages/matplotlib/backends/backend_agg.py:183: RuntimeWarning: Glyph 44148 missing from current font.\n",
            "  font.set_text(s, 0, flags=flags)\n",
            "/usr/local/lib/python3.8/dist-packages/matplotlib/backends/backend_agg.py:183: RuntimeWarning: Glyph 47932 missing from current font.\n",
            "  font.set_text(s, 0, flags=flags)\n",
            "/usr/local/lib/python3.8/dist-packages/matplotlib/backends/backend_agg.py:183: RuntimeWarning: Glyph 44288 missing from current font.\n",
            "  font.set_text(s, 0, flags=flags)\n",
            "/usr/local/lib/python3.8/dist-packages/matplotlib/backends/backend_agg.py:183: RuntimeWarning: Glyph 47532 missing from current font.\n",
            "  font.set_text(s, 0, flags=flags)\n",
            "/usr/local/lib/python3.8/dist-packages/matplotlib/backends/backend_agg.py:183: RuntimeWarning: Glyph 50864 missing from current font.\n",
            "  font.set_text(s, 0, flags=flags)\n",
            "/usr/local/lib/python3.8/dist-packages/matplotlib/backends/backend_agg.py:183: RuntimeWarning: Glyph 54200 missing from current font.\n",
            "  font.set_text(s, 0, flags=flags)\n",
            "/usr/local/lib/python3.8/dist-packages/matplotlib/backends/backend_agg.py:183: RuntimeWarning: Glyph 49888 missing from current font.\n",
            "  font.set_text(s, 0, flags=flags)\n",
            "/usr/local/lib/python3.8/dist-packages/matplotlib/backends/backend_agg.py:183: RuntimeWarning: Glyph 48372 missing from current font.\n",
            "  font.set_text(s, 0, flags=flags)\n",
            "/usr/local/lib/python3.8/dist-packages/matplotlib/backends/backend_agg.py:183: RuntimeWarning: Glyph 52789 missing from current font.\n",
            "  font.set_text(s, 0, flags=flags)\n",
            "/usr/local/lib/python3.8/dist-packages/matplotlib/backends/backend_agg.py:183: RuntimeWarning: Glyph 44221 missing from current font.\n",
            "  font.set_text(s, 0, flags=flags)\n",
            "/usr/local/lib/python3.8/dist-packages/matplotlib/backends/backend_agg.py:183: RuntimeWarning: Glyph 50948 missing from current font.\n",
            "  font.set_text(s, 0, flags=flags)\n",
            "WARNING:matplotlib.font_manager:findfont: Font family ['NanumBarunGothic'] not found. Falling back to DejaVu Sans.\n"
          ]
        },
        {
          "output_type": "display_data",
          "data": {
            "text/plain": [
              "<Figure size 1800x720 with 2 Axes>"
            ],
            "image/png": "[encoded data removed]"
          },
          "metadata": {
            "needs_background": "light"
          }
        }
      ]
    },
    {
      "cell_type": "code",
      "source": [
        "df['상권업종대분류명'].value_counts()"
      ],
      "metadata": {
        "colab": {
          "base_uri": "https://localhost:8080/"
        },
        "id": "cmFnwySw683j",
        "outputId": "48c1efd7-259e-4d78-f558-5d92f00b0c86"
      },
      "execution_count": 14,
      "outputs": [
        {
          "output_type": "execute_result",
          "data": {
            "text/plain": [
              "음식          124001\n",
              "소매          123003\n",
              "생활서비스        64529\n",
              "학문/교육        29985\n",
              "부동산          14975\n",
              "관광/여가/오락     10454\n",
              "숙박            2971\n",
              "스포츠            403\n",
              "Name: 상권업종대분류명, dtype: int64"
            ]
          },
          "metadata": {},
          "execution_count": 14
        }
      ]
    },
    {
      "cell_type": "code",
      "source": [
        "df['상권업종중분류명'].value_counts()"
      ],
      "metadata": {
        "colab": {
          "base_uri": "https://localhost:8080/"
        },
        "id": "XFbl7LeD7ygu",
        "outputId": "35a9d7d6-1630-4cd8-f3b9-84c3f852a3db"
      },
      "execution_count": 15,
      "outputs": [
        {
          "output_type": "execute_result",
          "data": {
            "text/plain": [
              "한식          38703\n",
              "이/미용/건강     31717\n",
              "종합소매점       25716\n",
              "의복의류        23307\n",
              "커피점/카페      18220\n",
              "            ...  \n",
              "전시/관람          14\n",
              "부동산관련서비스        4\n",
              "기타교육기관          4\n",
              "연구소             3\n",
              "학교              1\n",
              "Name: 상권업종중분류명, Length: 94, dtype: int64"
            ]
          },
          "metadata": {},
          "execution_count": 15
        }
      ]
    },
    {
      "cell_type": "code",
      "source": [
        "sns.countplot(data=df, y='상권업종대분류명')"
      ],
      "metadata": {
        "colab": {
          "base_uri": "https://localhost:8080/",
          "height": 1000
        },
        "id": "o8OqidvB8D1u",
        "outputId": "23b8c796-3314-4673-edf6-ff9b4306c501"
      },
      "execution_count": 16,
      "outputs": [
        {
          "output_type": "execute_result",
          "data": {
            "text/plain": [
              "<matplotlib.axes._subplots.AxesSubplot at 0x7f1f2eeaf8b0>"
            ]
          },
          "metadata": {},
          "execution_count": 16
        },
        {
          "output_type": "stream",
          "name": "stderr",
          "text": [
            "WARNING:matplotlib.font_manager:findfont: Font family ['NanumBarunGothic'] not found. Falling back to DejaVu Sans.\n",
            "/usr/local/lib/python3.8/dist-packages/matplotlib/backends/backend_agg.py:214: RuntimeWarning: Glyph 51020 missing from current font.\n",
            "  font.set_text(s, 0.0, flags=flags)\n",
            "/usr/local/lib/python3.8/dist-packages/matplotlib/backends/backend_agg.py:214: RuntimeWarning: Glyph 49885 missing from current font.\n",
            "  font.set_text(s, 0.0, flags=flags)\n",
            "/usr/local/lib/python3.8/dist-packages/matplotlib/backends/backend_agg.py:214: RuntimeWarning: Glyph 49548 missing from current font.\n",
            "  font.set_text(s, 0.0, flags=flags)\n",
            "/usr/local/lib/python3.8/dist-packages/matplotlib/backends/backend_agg.py:214: RuntimeWarning: Glyph 47588 missing from current font.\n",
            "  font.set_text(s, 0.0, flags=flags)\n",
            "/usr/local/lib/python3.8/dist-packages/matplotlib/backends/backend_agg.py:214: RuntimeWarning: Glyph 49373 missing from current font.\n",
            "  font.set_text(s, 0.0, flags=flags)\n",
            "/usr/local/lib/python3.8/dist-packages/matplotlib/backends/backend_agg.py:214: RuntimeWarning: Glyph 54876 missing from current font.\n",
            "  font.set_text(s, 0.0, flags=flags)\n",
            "/usr/local/lib/python3.8/dist-packages/matplotlib/backends/backend_agg.py:214: RuntimeWarning: Glyph 49436 missing from current font.\n",
            "  font.set_text(s, 0.0, flags=flags)\n",
            "/usr/local/lib/python3.8/dist-packages/matplotlib/backends/backend_agg.py:214: RuntimeWarning: Glyph 48708 missing from current font.\n",
            "  font.set_text(s, 0.0, flags=flags)\n",
            "/usr/local/lib/python3.8/dist-packages/matplotlib/backends/backend_agg.py:214: RuntimeWarning: Glyph 49828 missing from current font.\n",
            "  font.set_text(s, 0.0, flags=flags)\n",
            "/usr/local/lib/python3.8/dist-packages/matplotlib/backends/backend_agg.py:214: RuntimeWarning: Glyph 54617 missing from current font.\n",
            "  font.set_text(s, 0.0, flags=flags)\n",
            "/usr/local/lib/python3.8/dist-packages/matplotlib/backends/backend_agg.py:214: RuntimeWarning: Glyph 47928 missing from current font.\n",
            "  font.set_text(s, 0.0, flags=flags)\n",
            "/usr/local/lib/python3.8/dist-packages/matplotlib/backends/backend_agg.py:214: RuntimeWarning: Glyph 44368 missing from current font.\n",
            "  font.set_text(s, 0.0, flags=flags)\n",
            "/usr/local/lib/python3.8/dist-packages/matplotlib/backends/backend_agg.py:214: RuntimeWarning: Glyph 50977 missing from current font.\n",
            "  font.set_text(s, 0.0, flags=flags)\n",
            "/usr/local/lib/python3.8/dist-packages/matplotlib/backends/backend_agg.py:214: RuntimeWarning: Glyph 44288 missing from current font.\n",
            "  font.set_text(s, 0.0, flags=flags)\n",
            "/usr/local/lib/python3.8/dist-packages/matplotlib/backends/backend_agg.py:214: RuntimeWarning: Glyph 44305 missing from current font.\n",
            "  font.set_text(s, 0.0, flags=flags)\n",
            "/usr/local/lib/python3.8/dist-packages/matplotlib/backends/backend_agg.py:214: RuntimeWarning: Glyph 50668 missing from current font.\n",
            "  font.set_text(s, 0.0, flags=flags)\n",
            "/usr/local/lib/python3.8/dist-packages/matplotlib/backends/backend_agg.py:214: RuntimeWarning: Glyph 44032 missing from current font.\n",
            "  font.set_text(s, 0.0, flags=flags)\n",
            "/usr/local/lib/python3.8/dist-packages/matplotlib/backends/backend_agg.py:214: RuntimeWarning: Glyph 50724 missing from current font.\n",
            "  font.set_text(s, 0.0, flags=flags)\n",
            "/usr/local/lib/python3.8/dist-packages/matplotlib/backends/backend_agg.py:214: RuntimeWarning: Glyph 46973 missing from current font.\n",
            "  font.set_text(s, 0.0, flags=flags)\n",
            "/usr/local/lib/python3.8/dist-packages/matplotlib/backends/backend_agg.py:214: RuntimeWarning: Glyph 48512 missing from current font.\n",
            "  font.set_text(s, 0.0, flags=flags)\n",
            "/usr/local/lib/python3.8/dist-packages/matplotlib/backends/backend_agg.py:214: RuntimeWarning: Glyph 46041 missing from current font.\n",
            "  font.set_text(s, 0.0, flags=flags)\n",
            "/usr/local/lib/python3.8/dist-packages/matplotlib/backends/backend_agg.py:214: RuntimeWarning: Glyph 49328 missing from current font.\n",
            "  font.set_text(s, 0.0, flags=flags)\n",
            "/usr/local/lib/python3.8/dist-packages/matplotlib/backends/backend_agg.py:214: RuntimeWarning: Glyph 49689 missing from current font.\n",
            "  font.set_text(s, 0.0, flags=flags)\n",
            "/usr/local/lib/python3.8/dist-packages/matplotlib/backends/backend_agg.py:214: RuntimeWarning: Glyph 48149 missing from current font.\n",
            "  font.set_text(s, 0.0, flags=flags)\n",
            "/usr/local/lib/python3.8/dist-packages/matplotlib/backends/backend_agg.py:214: RuntimeWarning: Glyph 54252 missing from current font.\n",
            "  font.set_text(s, 0.0, flags=flags)\n",
            "/usr/local/lib/python3.8/dist-packages/matplotlib/backends/backend_agg.py:214: RuntimeWarning: Glyph 52768 missing from current font.\n",
            "  font.set_text(s, 0.0, flags=flags)\n",
            "/usr/local/lib/python3.8/dist-packages/matplotlib/backends/backend_agg.py:183: RuntimeWarning: Glyph 51020 missing from current font.\n",
            "  font.set_text(s, 0, flags=flags)\n",
            "/usr/local/lib/python3.8/dist-packages/matplotlib/backends/backend_agg.py:183: RuntimeWarning: Glyph 49885 missing from current font.\n",
            "  font.set_text(s, 0, flags=flags)\n",
            "/usr/local/lib/python3.8/dist-packages/matplotlib/backends/backend_agg.py:183: RuntimeWarning: Glyph 49548 missing from current font.\n",
            "  font.set_text(s, 0, flags=flags)\n",
            "/usr/local/lib/python3.8/dist-packages/matplotlib/backends/backend_agg.py:183: RuntimeWarning: Glyph 47588 missing from current font.\n",
            "  font.set_text(s, 0, flags=flags)\n",
            "/usr/local/lib/python3.8/dist-packages/matplotlib/backends/backend_agg.py:183: RuntimeWarning: Glyph 49373 missing from current font.\n",
            "  font.set_text(s, 0, flags=flags)\n",
            "/usr/local/lib/python3.8/dist-packages/matplotlib/backends/backend_agg.py:183: RuntimeWarning: Glyph 54876 missing from current font.\n",
            "  font.set_text(s, 0, flags=flags)\n",
            "/usr/local/lib/python3.8/dist-packages/matplotlib/backends/backend_agg.py:183: RuntimeWarning: Glyph 49436 missing from current font.\n",
            "  font.set_text(s, 0, flags=flags)\n",
            "/usr/local/lib/python3.8/dist-packages/matplotlib/backends/backend_agg.py:183: RuntimeWarning: Glyph 48708 missing from current font.\n",
            "  font.set_text(s, 0, flags=flags)\n",
            "/usr/local/lib/python3.8/dist-packages/matplotlib/backends/backend_agg.py:183: RuntimeWarning: Glyph 49828 missing from current font.\n",
            "  font.set_text(s, 0, flags=flags)\n",
            "/usr/local/lib/python3.8/dist-packages/matplotlib/backends/backend_agg.py:183: RuntimeWarning: Glyph 54617 missing from current font.\n",
            "  font.set_text(s, 0, flags=flags)\n",
            "/usr/local/lib/python3.8/dist-packages/matplotlib/backends/backend_agg.py:183: RuntimeWarning: Glyph 47928 missing from current font.\n",
            "  font.set_text(s, 0, flags=flags)\n",
            "/usr/local/lib/python3.8/dist-packages/matplotlib/backends/backend_agg.py:183: RuntimeWarning: Glyph 44368 missing from current font.\n",
            "  font.set_text(s, 0, flags=flags)\n",
            "/usr/local/lib/python3.8/dist-packages/matplotlib/backends/backend_agg.py:183: RuntimeWarning: Glyph 50977 missing from current font.\n",
            "  font.set_text(s, 0, flags=flags)\n",
            "/usr/local/lib/python3.8/dist-packages/matplotlib/backends/backend_agg.py:183: RuntimeWarning: Glyph 44288 missing from current font.\n",
            "  font.set_text(s, 0, flags=flags)\n",
            "/usr/local/lib/python3.8/dist-packages/matplotlib/backends/backend_agg.py:183: RuntimeWarning: Glyph 44305 missing from current font.\n",
            "  font.set_text(s, 0, flags=flags)\n",
            "/usr/local/lib/python3.8/dist-packages/matplotlib/backends/backend_agg.py:183: RuntimeWarning: Glyph 50668 missing from current font.\n",
            "  font.set_text(s, 0, flags=flags)\n",
            "/usr/local/lib/python3.8/dist-packages/matplotlib/backends/backend_agg.py:183: RuntimeWarning: Glyph 44032 missing from current font.\n",
            "  font.set_text(s, 0, flags=flags)\n",
            "/usr/local/lib/python3.8/dist-packages/matplotlib/backends/backend_agg.py:183: RuntimeWarning: Glyph 50724 missing from current font.\n",
            "  font.set_text(s, 0, flags=flags)\n",
            "/usr/local/lib/python3.8/dist-packages/matplotlib/backends/backend_agg.py:183: RuntimeWarning: Glyph 46973 missing from current font.\n",
            "  font.set_text(s, 0, flags=flags)\n",
            "/usr/local/lib/python3.8/dist-packages/matplotlib/backends/backend_agg.py:183: RuntimeWarning: Glyph 48512 missing from current font.\n",
            "  font.set_text(s, 0, flags=flags)\n",
            "/usr/local/lib/python3.8/dist-packages/matplotlib/backends/backend_agg.py:183: RuntimeWarning: Glyph 46041 missing from current font.\n",
            "  font.set_text(s, 0, flags=flags)\n",
            "/usr/local/lib/python3.8/dist-packages/matplotlib/backends/backend_agg.py:183: RuntimeWarning: Glyph 49328 missing from current font.\n",
            "  font.set_text(s, 0, flags=flags)\n",
            "/usr/local/lib/python3.8/dist-packages/matplotlib/backends/backend_agg.py:183: RuntimeWarning: Glyph 49689 missing from current font.\n",
            "  font.set_text(s, 0, flags=flags)\n",
            "/usr/local/lib/python3.8/dist-packages/matplotlib/backends/backend_agg.py:183: RuntimeWarning: Glyph 48149 missing from current font.\n",
            "  font.set_text(s, 0, flags=flags)\n",
            "/usr/local/lib/python3.8/dist-packages/matplotlib/backends/backend_agg.py:183: RuntimeWarning: Glyph 54252 missing from current font.\n",
            "  font.set_text(s, 0, flags=flags)\n",
            "/usr/local/lib/python3.8/dist-packages/matplotlib/backends/backend_agg.py:183: RuntimeWarning: Glyph 52768 missing from current font.\n",
            "  font.set_text(s, 0, flags=flags)\n",
            "/usr/local/lib/python3.8/dist-packages/matplotlib/backends/backend_agg.py:214: RuntimeWarning: Glyph 49345 missing from current font.\n",
            "  font.set_text(s, 0.0, flags=flags)\n",
            "/usr/local/lib/python3.8/dist-packages/matplotlib/backends/backend_agg.py:214: RuntimeWarning: Glyph 44428 missing from current font.\n",
            "  font.set_text(s, 0.0, flags=flags)\n",
            "/usr/local/lib/python3.8/dist-packages/matplotlib/backends/backend_agg.py:214: RuntimeWarning: Glyph 50629 missing from current font.\n",
            "  font.set_text(s, 0.0, flags=flags)\n",
            "/usr/local/lib/python3.8/dist-packages/matplotlib/backends/backend_agg.py:214: RuntimeWarning: Glyph 51333 missing from current font.\n",
            "  font.set_text(s, 0.0, flags=flags)\n",
            "/usr/local/lib/python3.8/dist-packages/matplotlib/backends/backend_agg.py:214: RuntimeWarning: Glyph 45824 missing from current font.\n",
            "  font.set_text(s, 0.0, flags=flags)\n",
            "/usr/local/lib/python3.8/dist-packages/matplotlib/backends/backend_agg.py:214: RuntimeWarning: Glyph 48516 missing from current font.\n",
            "  font.set_text(s, 0.0, flags=flags)\n",
            "/usr/local/lib/python3.8/dist-packages/matplotlib/backends/backend_agg.py:214: RuntimeWarning: Glyph 47448 missing from current font.\n",
            "  font.set_text(s, 0.0, flags=flags)\n",
            "/usr/local/lib/python3.8/dist-packages/matplotlib/backends/backend_agg.py:214: RuntimeWarning: Glyph 47749 missing from current font.\n",
            "  font.set_text(s, 0.0, flags=flags)\n",
            "/usr/local/lib/python3.8/dist-packages/matplotlib/backends/backend_agg.py:183: RuntimeWarning: Glyph 49345 missing from current font.\n",
            "  font.set_text(s, 0, flags=flags)\n",
            "/usr/local/lib/python3.8/dist-packages/matplotlib/backends/backend_agg.py:183: RuntimeWarning: Glyph 44428 missing from current font.\n",
            "  font.set_text(s, 0, flags=flags)\n",
            "/usr/local/lib/python3.8/dist-packages/matplotlib/backends/backend_agg.py:183: RuntimeWarning: Glyph 50629 missing from current font.\n",
            "  font.set_text(s, 0, flags=flags)\n",
            "/usr/local/lib/python3.8/dist-packages/matplotlib/backends/backend_agg.py:183: RuntimeWarning: Glyph 51333 missing from current font.\n",
            "  font.set_text(s, 0, flags=flags)\n",
            "/usr/local/lib/python3.8/dist-packages/matplotlib/backends/backend_agg.py:183: RuntimeWarning: Glyph 45824 missing from current font.\n",
            "  font.set_text(s, 0, flags=flags)\n",
            "/usr/local/lib/python3.8/dist-packages/matplotlib/backends/backend_agg.py:183: RuntimeWarning: Glyph 48516 missing from current font.\n",
            "  font.set_text(s, 0, flags=flags)\n",
            "/usr/local/lib/python3.8/dist-packages/matplotlib/backends/backend_agg.py:183: RuntimeWarning: Glyph 47448 missing from current font.\n",
            "  font.set_text(s, 0, flags=flags)\n",
            "/usr/local/lib/python3.8/dist-packages/matplotlib/backends/backend_agg.py:183: RuntimeWarning: Glyph 47749 missing from current font.\n",
            "  font.set_text(s, 0, flags=flags)\n"
          ]
        },
        {
          "output_type": "display_data",
          "data": {
            "text/plain": [
              "<Figure size 432x288 with 1 Axes>"
            ],
            "image/png": "[encoded data removed]"
          },
          "metadata": {
            "needs_background": "light"
          }
        }
      ]
    },
    {
      "cell_type": "code",
      "source": [
        "df_food = df.loc[df['상권업종대분류명']=='음식']"
      ],
      "metadata": {
        "id": "6nGHVPdX8ONs"
      },
      "execution_count": 20,
      "outputs": []
    },
    {
      "cell_type": "code",
      "source": [
        "df_food.shape"
      ],
      "metadata": {
        "colab": {
          "base_uri": "https://localhost:8080/"
        },
        "id": "6qddfQ1v8kcT",
        "outputId": "b30ea4d9-3c19-45e6-a955-f93272917a98"
      },
      "execution_count": 21,
      "outputs": [
        {
          "output_type": "execute_result",
          "data": {
            "text/plain": [
              "(124001, 39)"
            ]
          },
          "metadata": {},
          "execution_count": 21
        }
      ]
    },
    {
      "cell_type": "markdown",
      "source": [
        "### 스타벅스와 이디야"
      ],
      "metadata": {
        "id": "hsvMpQT18wnh"
      }
    },
    {
      "cell_type": "code",
      "source": [
        "df.columns"
      ],
      "metadata": {
        "colab": {
          "base_uri": "https://localhost:8080/"
        },
        "id": "f5T5PXWh8vea",
        "outputId": "fedd58b2-7438-446b-ff18-d518767bf417"
      },
      "execution_count": 22,
      "outputs": [
        {
          "output_type": "execute_result",
          "data": {
            "text/plain": [
              "Index(['상가업소번호', '상호명', '지점명', '상권업종대분류코드', '상권업종대분류명', '상권업종중분류코드',\n",
              "       '상권업종중분류명', '상권업종소분류코드', '상권업종소분류명', '표준산업분류코드', '표준산업분류명', '시도코드',\n",
              "       '시도명', '시군구코드', '시군구명', '행정동코드', '행정동명', '법정동코드', '법정동명', '지번코드',\n",
              "       '대지구분코드', '대지구분명', '지번본번지', '지번부번지', '지번주소', '도로명코드', '도로명', '건물본번지',\n",
              "       '건물부번지', '건물관리번호', '건물명', '도로명주소', '구우편번호', '신우편번호', '동정보', '층정보',\n",
              "       '호정보', '경도', '위도'],\n",
              "      dtype='object')"
            ]
          },
          "metadata": {},
          "execution_count": 22
        }
      ]
    },
    {
      "cell_type": "code",
      "source": [
        "dataset = df[['상호명','지점명','상권업종중분류명','시도명','시군구명','행정동명','도로명','경도','위도']]\n",
        "dataset.head()"
      ],
      "metadata": {
        "colab": {
          "base_uri": "https://localhost:8080/",
          "height": 206
        },
        "id": "MS8oq-Tr80gf",
        "outputId": "8c62f446-7d23-4f2d-f511-ec2e79bb6e72"
      },
      "execution_count": 24,
      "outputs": [
        {
          "output_type": "execute_result",
          "data": {
            "text/plain": [
              "     상호명   지점명 상권업종중분류명    시도명  시군구명   행정동명               도로명          경도  \\\n",
              "0  석봉토스트   NaN    패스트푸드  서울특별시   광진구   구의2동  서울특별시 광진구 자양로39길  127.088387   \n",
              "1   피자마루   약수점    패스트푸드  서울특별시    중구    약수동    서울특별시 중구 동호로7길  127.010861   \n",
              "2   홍능갈비   NaN       한식  서울특별시   강서구   화곡1동  서울특별시 강서구 화곡로18길  126.836078   \n",
              "3    초밥왕   NaN   일식/수산물  서울특별시   송파구   잠실6동    서울특별시 송파구 올림픽로  127.102490   \n",
              "4   에브리돈  북가좌점       한식  서울특별시  서대문구  북가좌2동    서울특별시 서대문구 응암로  126.910288   \n",
              "\n",
              "          위도  \n",
              "0  37.549245  \n",
              "1  37.552153  \n",
              "2  37.538927  \n",
              "3  37.515149  \n",
              "4  37.579029  "
            ],
            "text/html": [
              "\n",
              "  <div id=\"df-c8d2e665-d2bf-4dfe-aa2a-ea4463239341\">\n",
              "    <div class=\"colab-df-container\">\n",
              "      <div>\n",
              "<style scoped>\n",
              "    .dataframe tbody tr th:only-of-type {\n",
              "        vertical-align: middle;\n",
              "    }\n",
              "\n",
              "    .dataframe tbody tr th {\n",
              "        vertical-align: top;\n",
              "    }\n",
              "\n",
              "    .dataframe thead th {\n",
              "        text-align: right;\n",
              "    }\n",
              "</style>\n",
              "<table border=\"1\" class=\"dataframe\">\n",
              "  <thead>\n",
              "    <tr style=\"text-align: right;\">\n",
              "      <th></th>\n",
              "      <th>상호명</th>\n",
              "      <th>지점명</th>\n",
              "      <th>상권업종중분류명</th>\n",
              "      <th>시도명</th>\n",
              "      <th>시군구명</th>\n",
              "      <th>행정동명</th>\n",
              "      <th>도로명</th>\n",
              "      <th>경도</th>\n",
              "      <th>위도</th>\n",
              "    </tr>\n",
              "  </thead>\n",
              "  <tbody>\n",
              "    <tr>\n",
              "      <th>0</th>\n",
              "      <td>석봉토스트</td>\n",
              "      <td>NaN</td>\n",
              "      <td>패스트푸드</td>\n",
              "      <td>서울특별시</td>\n",
              "      <td>광진구</td>\n",
              "      <td>구의2동</td>\n",
              "      <td>서울특별시 광진구 자양로39길</td>\n",
              "      <td>127.088387</td>\n",
              "      <td>37.549245</td>\n",
              "    </tr>\n",
              "    <tr>\n",
              "      <th>1</th>\n",
              "      <td>피자마루</td>\n",
              "      <td>약수점</td>\n",
              "      <td>패스트푸드</td>\n",
              "      <td>서울특별시</td>\n",
              "      <td>중구</td>\n",
              "      <td>약수동</td>\n",
              "      <td>서울특별시 중구 동호로7길</td>\n",
              "      <td>127.010861</td>\n",
              "      <td>37.552153</td>\n",
              "    </tr>\n",
              "    <tr>\n",
              "      <th>2</th>\n",
              "      <td>홍능갈비</td>\n",
              "      <td>NaN</td>\n",
              "      <td>한식</td>\n",
              "      <td>서울특별시</td>\n",
              "      <td>강서구</td>\n",
              "      <td>화곡1동</td>\n",
              "      <td>서울특별시 강서구 화곡로18길</td>\n",
              "      <td>126.836078</td>\n",
              "      <td>37.538927</td>\n",
              "    </tr>\n",
              "    <tr>\n",
              "      <th>3</th>\n",
              "      <td>초밥왕</td>\n",
              "      <td>NaN</td>\n",
              "      <td>일식/수산물</td>\n",
              "      <td>서울특별시</td>\n",
              "      <td>송파구</td>\n",
              "      <td>잠실6동</td>\n",
              "      <td>서울특별시 송파구 올림픽로</td>\n",
              "      <td>127.102490</td>\n",
              "      <td>37.515149</td>\n",
              "    </tr>\n",
              "    <tr>\n",
              "      <th>4</th>\n",
              "      <td>에브리돈</td>\n",
              "      <td>북가좌점</td>\n",
              "      <td>한식</td>\n",
              "      <td>서울특별시</td>\n",
              "      <td>서대문구</td>\n",
              "      <td>북가좌2동</td>\n",
              "      <td>서울특별시 서대문구 응암로</td>\n",
              "      <td>126.910288</td>\n",
              "      <td>37.579029</td>\n",
              "    </tr>\n",
              "  </tbody>\n",
              "</table>\n",
              "</div>\n",
              "      <button class=\"colab-df-convert\" onclick=\"convertToInteractive('df-c8d2e665-d2bf-4dfe-aa2a-ea4463239341')\"\n",
              "              title=\"Convert this dataframe to an interactive table.\"\n",
              "              style=\"display:none;\">\n",
              "        \n",
              "  <svg xmlns=\"http://www.w3.org/2000/svg\" height=\"24px\"viewBox=\"0 0 24 24\"\n",
              "       width=\"24px\">\n",
              "    <path d=\"M0 0h24v24H0V0z\" fill=\"none\"/>\n",
              "    <path d=\"M18.56 5.44l.94 2.06.94-2.06 2.06-.94-2.06-.94-.94-2.06-.94 2.06-2.06.94zm-11 1L8.5 8.5l.94-2.06 2.06-.94-2.06-.94L8.5 2.5l-.94 2.06-2.06.94zm10 10l.94 2.06.94-2.06 2.06-.94-2.06-.94-.94-2.06-.94 2.06-2.06.94z\"/><path d=\"M17.41 7.96l-1.37-1.37c-.4-.4-.92-.59-1.43-.59-.52 0-1.04.2-1.43.59L10.3 9.45l-7.72 7.72c-.78.78-.78 2.05 0 2.83L4 21.41c.39.39.9.59 1.41.59.51 0 1.02-.2 1.41-.59l7.78-7.78 2.81-2.81c.8-.78.8-2.07 0-2.86zM5.41 20L4 18.59l7.72-7.72 1.47 1.35L5.41 20z\"/>\n",
              "  </svg>\n",
              "      </button>\n",
              "      \n",
              "  <style>\n",
              "    .colab-df-container {\n",
              "      display:flex;\n",
              "      flex-wrap:wrap;\n",
              "      gap: 12px;\n",
              "    }\n",
              "\n",
              "    .colab-df-convert {\n",
              "      background-color: #E8F0FE;\n",
              "      border: none;\n",
              "      border-radius: 50%;\n",
              "      cursor: pointer;\n",
              "      display: none;\n",
              "      fill: #1967D2;\n",
              "      height: 32px;\n",
              "      padding: 0 0 0 0;\n",
              "      width: 32px;\n",
              "    }\n",
              "\n",
              "    .colab-df-convert:hover {\n",
              "      background-color: #E2EBFA;\n",
              "      box-shadow: 0px 1px 2px rgba(60, 64, 67, 0.3), 0px 1px 3px 1px rgba(60, 64, 67, 0.15);\n",
              "      fill: #174EA6;\n",
              "    }\n",
              "\n",
              "    [theme=dark] .colab-df-convert {\n",
              "      background-color: #3B4455;\n",
              "      fill: #D2E3FC;\n",
              "    }\n",
              "\n",
              "    [theme=dark] .colab-df-convert:hover {\n",
              "      background-color: #434B5C;\n",
              "      box-shadow: 0px 1px 3px 1px rgba(0, 0, 0, 0.15);\n",
              "      filter: drop-shadow(0px 1px 2px rgba(0, 0, 0, 0.3));\n",
              "      fill: #FFFFFF;\n",
              "    }\n",
              "  </style>\n",
              "\n",
              "      <script>\n",
              "        const buttonEl =\n",
              "          document.querySelector('#df-c8d2e665-d2bf-4dfe-aa2a-ea4463239341 button.colab-df-convert');\n",
              "        buttonEl.style.display =\n",
              "          google.colab.kernel.accessAllowed ? 'block' : 'none';\n",
              "\n",
              "        async function convertToInteractive(key) {\n",
              "          const element = document.querySelector('#df-c8d2e665-d2bf-4dfe-aa2a-ea4463239341');\n",
              "          const dataTable =\n",
              "            await google.colab.kernel.invokeFunction('convertToInteractive',\n",
              "                                                     [key], {});\n",
              "          if (!dataTable) return;\n",
              "\n",
              "          const docLinkHtml = 'Like what you see? Visit the ' +\n",
              "            '<a target=\"_blank\" href=https://colab.research.google.com/notebooks/data_table.ipynb>data table notebook</a>'\n",
              "            + ' to learn more about interactive tables.';\n",
              "          element.innerHTML = '';\n",
              "          dataTable['output_type'] = 'display_data';\n",
              "          await google.colab.output.renderOutput(dataTable, element);\n",
              "          const docLink = document.createElement('div');\n",
              "          docLink.innerHTML = docLinkHtml;\n",
              "          element.appendChild(docLink);\n",
              "        }\n",
              "      </script>\n",
              "    </div>\n",
              "  </div>\n",
              "  "
            ]
          },
          "metadata": {},
          "execution_count": 24
        }
      ]
    },
    {
      "cell_type": "code",
      "source": [
        "df_coffee = dataset[dataset['상권업종중분류명']=='커피점/카페']\n",
        "df_coffee.head()"
      ],
      "metadata": {
        "colab": {
          "base_uri": "https://localhost:8080/",
          "height": 354
        },
        "id": "HFRin0Xx9K4x",
        "outputId": "f58fed7b-2e34-4402-84d7-3355d2c46d56"
      },
      "execution_count": 25,
      "outputs": [
        {
          "output_type": "execute_result",
          "data": {
            "text/plain": [
              "              상호명         지점명 상권업종중분류명    시도명  시군구명  행정동명                 도로명  \\\n",
              "9              왕실         NaN   커피점/카페  서울특별시    중구    명동       서울특별시 중구 남대문로   \n",
              "13            커피빈      코리아교대점   커피점/카페  서울특별시   서초구  서초1동     서울특별시 서초구 서초중앙로   \n",
              "15   고려대학교교육관쎄리오점         NaN   커피점/카페  서울특별시   성북구   안암동       서울특별시 성북구 안암로   \n",
              "18          스완카페트         NaN   커피점/카페  서울특별시  영등포구  대림3동  서울특별시 영등포구 도신로10가길   \n",
              "26  커피빈코리아선릉로93길점  코리아선릉로93길점   커피점/카페  서울특별시   강남구  역삼1동    서울특별시 강남구 선릉로93길   \n",
              "\n",
              "            경도         위도  \n",
              "9   126.982419  37.562274  \n",
              "13  127.014217  37.492388  \n",
              "15  127.031702  37.588485  \n",
              "18  126.897710  37.503693  \n",
              "26  127.047883  37.505675  "
            ],
            "text/html": [
              "\n",
              "  <div id=\"df-466d35d4-5772-416e-9101-11296b9a439c\">\n",
              "    <div class=\"colab-df-container\">\n",
              "      <div>\n",
              "<style scoped>\n",
              "    .dataframe tbody tr th:only-of-type {\n",
              "        vertical-align: middle;\n",
              "    }\n",
              "\n",
              "    .dataframe tbody tr th {\n",
              "        vertical-align: top;\n",
              "    }\n",
              "\n",
              "    .dataframe thead th {\n",
              "        text-align: right;\n",
              "    }\n",
              "</style>\n",
              "<table border=\"1\" class=\"dataframe\">\n",
              "  <thead>\n",
              "    <tr style=\"text-align: right;\">\n",
              "      <th></th>\n",
              "      <th>상호명</th>\n",
              "      <th>지점명</th>\n",
              "      <th>상권업종중분류명</th>\n",
              "      <th>시도명</th>\n",
              "      <th>시군구명</th>\n",
              "      <th>행정동명</th>\n",
              "      <th>도로명</th>\n",
              "      <th>경도</th>\n",
              "      <th>위도</th>\n",
              "    </tr>\n",
              "  </thead>\n",
              "  <tbody>\n",
              "    <tr>\n",
              "      <th>9</th>\n",
              "      <td>왕실</td>\n",
              "      <td>NaN</td>\n",
              "      <td>커피점/카페</td>\n",
              "      <td>서울특별시</td>\n",
              "      <td>중구</td>\n",
              "      <td>명동</td>\n",
              "      <td>서울특별시 중구 남대문로</td>\n",
              "      <td>126.982419</td>\n",
              "      <td>37.562274</td>\n",
              "    </tr>\n",
              "    <tr>\n",
              "      <th>13</th>\n",
              "      <td>커피빈</td>\n",
              "      <td>코리아교대점</td>\n",
              "      <td>커피점/카페</td>\n",
              "      <td>서울특별시</td>\n",
              "      <td>서초구</td>\n",
              "      <td>서초1동</td>\n",
              "      <td>서울특별시 서초구 서초중앙로</td>\n",
              "      <td>127.014217</td>\n",
              "      <td>37.492388</td>\n",
              "    </tr>\n",
              "    <tr>\n",
              "      <th>15</th>\n",
              "      <td>고려대학교교육관쎄리오점</td>\n",
              "      <td>NaN</td>\n",
              "      <td>커피점/카페</td>\n",
              "      <td>서울특별시</td>\n",
              "      <td>성북구</td>\n",
              "      <td>안암동</td>\n",
              "      <td>서울특별시 성북구 안암로</td>\n",
              "      <td>127.031702</td>\n",
              "      <td>37.588485</td>\n",
              "    </tr>\n",
              "    <tr>\n",
              "      <th>18</th>\n",
              "      <td>스완카페트</td>\n",
              "      <td>NaN</td>\n",
              "      <td>커피점/카페</td>\n",
              "      <td>서울특별시</td>\n",
              "      <td>영등포구</td>\n",
              "      <td>대림3동</td>\n",
              "      <td>서울특별시 영등포구 도신로10가길</td>\n",
              "      <td>126.897710</td>\n",
              "      <td>37.503693</td>\n",
              "    </tr>\n",
              "    <tr>\n",
              "      <th>26</th>\n",
              "      <td>커피빈코리아선릉로93길점</td>\n",
              "      <td>코리아선릉로93길점</td>\n",
              "      <td>커피점/카페</td>\n",
              "      <td>서울특별시</td>\n",
              "      <td>강남구</td>\n",
              "      <td>역삼1동</td>\n",
              "      <td>서울특별시 강남구 선릉로93길</td>\n",
              "      <td>127.047883</td>\n",
              "      <td>37.505675</td>\n",
              "    </tr>\n",
              "  </tbody>\n",
              "</table>\n",
              "</div>\n",
              "      <button class=\"colab-df-convert\" onclick=\"convertToInteractive('df-466d35d4-5772-416e-9101-11296b9a439c')\"\n",
              "              title=\"Convert this dataframe to an interactive table.\"\n",
              "              style=\"display:none;\">\n",
              "        \n",
              "  <svg xmlns=\"http://www.w3.org/2000/svg\" height=\"24px\"viewBox=\"0 0 24 24\"\n",
              "       width=\"24px\">\n",
              "    <path d=\"M0 0h24v24H0V0z\" fill=\"none\"/>\n",
              "    <path d=\"M18.56 5.44l.94 2.06.94-2.06 2.06-.94-2.06-.94-.94-2.06-.94 2.06-2.06.94zm-11 1L8.5 8.5l.94-2.06 2.06-.94-2.06-.94L8.5 2.5l-.94 2.06-2.06.94zm10 10l.94 2.06.94-2.06 2.06-.94-2.06-.94-.94-2.06-.94 2.06-2.06.94z\"/><path d=\"M17.41 7.96l-1.37-1.37c-.4-.4-.92-.59-1.43-.59-.52 0-1.04.2-1.43.59L10.3 9.45l-7.72 7.72c-.78.78-.78 2.05 0 2.83L4 21.41c.39.39.9.59 1.41.59.51 0 1.02-.2 1.41-.59l7.78-7.78 2.81-2.81c.8-.78.8-2.07 0-2.86zM5.41 20L4 18.59l7.72-7.72 1.47 1.35L5.41 20z\"/>\n",
              "  </svg>\n",
              "      </button>\n",
              "      \n",
              "  <style>\n",
              "    .colab-df-container {\n",
              "      display:flex;\n",
              "      flex-wrap:wrap;\n",
              "      gap: 12px;\n",
              "    }\n",
              "\n",
              "    .colab-df-convert {\n",
              "      background-color: #E8F0FE;\n",
              "      border: none;\n",
              "      border-radius: 50%;\n",
              "      cursor: pointer;\n",
              "      display: none;\n",
              "      fill: #1967D2;\n",
              "      height: 32px;\n",
              "      padding: 0 0 0 0;\n",
              "      width: 32px;\n",
              "    }\n",
              "\n",
              "    .colab-df-convert:hover {\n",
              "      background-color: #E2EBFA;\n",
              "      box-shadow: 0px 1px 2px rgba(60, 64, 67, 0.3), 0px 1px 3px 1px rgba(60, 64, 67, 0.15);\n",
              "      fill: #174EA6;\n",
              "    }\n",
              "\n",
              "    [theme=dark] .colab-df-convert {\n",
              "      background-color: #3B4455;\n",
              "      fill: #D2E3FC;\n",
              "    }\n",
              "\n",
              "    [theme=dark] .colab-df-convert:hover {\n",
              "      background-color: #434B5C;\n",
              "      box-shadow: 0px 1px 3px 1px rgba(0, 0, 0, 0.15);\n",
              "      filter: drop-shadow(0px 1px 2px rgba(0, 0, 0, 0.3));\n",
              "      fill: #FFFFFF;\n",
              "    }\n",
              "  </style>\n",
              "\n",
              "      <script>\n",
              "        const buttonEl =\n",
              "          document.querySelector('#df-466d35d4-5772-416e-9101-11296b9a439c button.colab-df-convert');\n",
              "        buttonEl.style.display =\n",
              "          google.colab.kernel.accessAllowed ? 'block' : 'none';\n",
              "\n",
              "        async function convertToInteractive(key) {\n",
              "          const element = document.querySelector('#df-466d35d4-5772-416e-9101-11296b9a439c');\n",
              "          const dataTable =\n",
              "            await google.colab.kernel.invokeFunction('convertToInteractive',\n",
              "                                                     [key], {});\n",
              "          if (!dataTable) return;\n",
              "\n",
              "          const docLinkHtml = 'Like what you see? Visit the ' +\n",
              "            '<a target=\"_blank\" href=https://colab.research.google.com/notebooks/data_table.ipynb>data table notebook</a>'\n",
              "            + ' to learn more about interactive tables.';\n",
              "          element.innerHTML = '';\n",
              "          dataTable['output_type'] = 'display_data';\n",
              "          await google.colab.output.renderOutput(dataTable, element);\n",
              "          const docLink = document.createElement('div');\n",
              "          docLink.innerHTML = docLinkHtml;\n",
              "          element.appendChild(docLink);\n",
              "        }\n",
              "      </script>\n",
              "    </div>\n",
              "  </div>\n",
              "  "
            ]
          },
          "metadata": {},
          "execution_count": 25
        }
      ]
    },
    {
      "cell_type": "code",
      "source": [
        "df_coffee.columns"
      ],
      "metadata": {
        "colab": {
          "base_uri": "https://localhost:8080/"
        },
        "id": "q_hfn0UO9rQ6",
        "outputId": "ed2a86c4-164f-4356-ba17-b8b45746c811"
      },
      "execution_count": 26,
      "outputs": [
        {
          "output_type": "execute_result",
          "data": {
            "text/plain": [
              "Index(['상호명', '지점명', '상권업종중분류명', '시도명', '시군구명', '행정동명', '도로명', '경도', '위도'], dtype='object')"
            ]
          },
          "metadata": {},
          "execution_count": 26
        }
      ]
    },
    {
      "cell_type": "code",
      "source": [
        "print(df_coffee['상호명'].unique().shape)\n",
        "df_coffee['상호명'].unique()"
      ],
      "metadata": {
        "colab": {
          "base_uri": "https://localhost:8080/"
        },
        "id": "AnTZWZep-CnI",
        "outputId": "2859cf26-c8be-4281-bc17-f91382757335"
      },
      "execution_count": 30,
      "outputs": [
        {
          "output_type": "stream",
          "name": "stdout",
          "text": [
            "(12426,)\n"
          ]
        },
        {
          "output_type": "execute_result",
          "data": {
            "text/plain": [
              "array(['왕실', '커피빈', '고려대학교교육관쎄리오점', ..., '커피인류고덕아르테온점', '삼청동에그롤', '밀스톤'],\n",
              "      dtype=object)"
            ]
          },
          "metadata": {},
          "execution_count": 30
        }
      ]
    },
    {
      "cell_type": "code",
      "source": [
        "df_coffee['상호명'].value_counts()"
      ],
      "metadata": {
        "colab": {
          "base_uri": "https://localhost:8080/"
        },
        "id": "kEBea-Eg-HWX",
        "outputId": "a98a63ee-9ed8-4141-ed7b-b86a7bed5996"
      },
      "execution_count": 31,
      "outputs": [
        {
          "output_type": "execute_result",
          "data": {
            "text/plain": [
              "간단하지만특별한화피디Cafe    1198\n",
              "이디야커피               338\n",
              "스타벅스                303\n",
              "커피빈                 146\n",
              "투썸플레이스              119\n",
              "                   ... \n",
              "허니비와플까페               1\n",
              "토즈신촌15센터              1\n",
              "탑커피숍                  1\n",
              "행복다방                  1\n",
              "밀스톤                   1\n",
              "Name: 상호명, Length: 12426, dtype: int64"
            ]
          },
          "metadata": {},
          "execution_count": 31
        }
      ]
    },
    {
      "cell_type": "code",
      "source": [
        "print(set(df_coffee['상호명'].unique()))"
      ],
      "metadata": {
        "colab": {
          "base_uri": "https://localhost:8080/"
        },
        "id": "kmNfqDQE-Y05",
        "outputId": "fdd8b014-82f1-481b-f2cd-dd2d3d4c8ce8"
      },
      "execution_count": 33,
      "outputs": [
        {
          "output_type": "stream",
          "name": "stdout",
          "text": [
            "{'카페치노', '닥터오빈', '카페데이트팜', '다뉴브', '깡통속별별이야기', '카페골목', 'BHF&B', '썬휴게실', '스타벅스이수역사거리점', '4˚C커피', '카페소나타', 'ANTCAFE', '블루커피', '사주카페프라임', '피자인카페', '일레븐라운지', '비비민트', '봉샌드', '매직큐브카페', '트루비커피', 'COFFEELABROASTERS', '코와핀', '빈트리225', '커피그라프', '카페미플', '공감', '더라떼', '군산카페', '디톡시', '카페노냥', '닥터주스', '도로시앤', '공차GONGCHA', '이리야에스프레소커피', '쁘띠크', '루소랩', '매머드익스프레스', '스트라다146', '컴포즈커피구로디지털2호점', '커피림', '더로스터리샵', '모두의커피', 'Mea:l', '빵마담콜맨커피', '답십리커피숍', 'LEBEAUTEMPS르보땅', '스위티', '두카티카페', '키즈카페주', '파리크라상파스쿠찌홍', '탐앤탐스구로점', '앤하우스', '프린세스카페', '토프레소', '전통찻집', 'CAFEBLOG', '더로스팅', '카페포르자', '드립하우스커피', 'CAFE-in', '레이디해더스룸', '꽃동산까페', '양궁카페로빈훗', '투썸플레이스선정릉역', '브릿지11', '별다방미스리', '곰브라더스용산아이파크몰점', '요거프레소', '커피마마예술의전당우리집', '카페라떼르', '까페본동', '코레일유통바날', '오밀', '카페바움', '메쉬커피', '카페온', '삼청', '빽다방서울과기대점', '커피니공릉테마공원', '글로와', '커피프로젝트', '콜롬비아퍼펙토', '천사애견카페', '빽다방PAIKSCOFFEE', '515티룸', '모노커피', '앨리스토리커피볶는집', '난곡제과', '카페엔스토어이끌리오', '카페포트', '스타벅스대치사거리점', '에델리아카페', '송상수커피', '카페세컨드홈', '수정', '동', '카페이드라', '코니버거앤브런치', 'Asar로스터리카페', '핀치카페', '주스팩토리', '베리베리생과일', '쥬씨중계브라운스톤점', '스미스바니스페셜티커피', '커피공작소', '더카페역삼이마트점', '백미당엔터식스', 'TODAYCAFE', '레이앤크림', '더베네푸드', '더퍼즐', '쎄리오', '대루커피', '현대다방', '아름라떼', '더만듦데코덴카페내맘케', '카페본주르', '네추럴카페진락서초아르누보점', '카페더블루스', '메이듀', '퓨', '매일봄카페', '짱커피', '굿모닝커피숍', 'eemobile', '마카롱팝', '커피콩', '라떼엔퐁당', '카페베네건대역사거리점', '한아름커피숍', '연세대JK베리너리', '더엠디저트카페', '에이탭', '카페알럽라떼', '티가렛올림픽공원점', '마먕갸또', 'CREMADORO', 'Juicy', '핸즈업', '엔', '브이엑스메이트카페', '커피빈코리아압구정에스점', '전광수커피숍', '엘리의초콜릿', 'STAGE9', '솔뱅대치점', '마일스톤커피로스터스', 'KCOFFEE', '블랙커피', '마셔봄', '네스카페디엠씨상암', '카페숨', '더카페마룬에프청담', '커피빈코리아동대문두타', '바움', '커피13온스', '희와래커피로스터스', '와플빈', '제이제이카페', '52랩', '엘브로커피', '콩볶는고양이똥', '반지다방', '플라시보', '라이코스스테이션TIC', '아이디어팩토리', 'GESSO', '카페룽고', '에프엠에스', '왕의커피', '화수목', '동인당베이커리카페', '커피이즈', '카페베네치아', '예쉬카페', '레스빠스', '과수원', '퍼센트', 'CAFFE-LEAH', '갤러리카페레스토랑아델라베일', '쥬씨가락점', '토프레소연신', '카페풀립', '셀렉토삼성역점', '매산인터내셔날투썸플레이스삼성동우리점', '여유당둘라이브카페', '배냇', '까페오블리끄', 'GOOTAO', '카페에치Cafe-H', '카페에쏘', 'CAFE담쟁이107', '커피원', '커피앤샌드', '카페시카고', '그냥커피', '커피볶는집빈스브라운', 'Cafe-In', '카페다올', '50/7', '도본', '바른찻집그리고바른맥주집', '노란손수건', '평창동북카페소담원', '아씨뜰', '카페벨라노이', '고양이카페', '해피니스디저트', '어투썸프레이스', '인공위성', 'Roi:후아', '킹콩커피', '카페인시애틀', '백인대장카페', '공린가', '마마스커피전문점', '일에레델젤라또', '킹콩쥬스엔커피', '잎과콩', '다래사우나내매점', '홍스파이', '르돌치1946', '더핏불푸드카페', 'G선상의커피', '투썸커피', '왓어블랭크', '카페베네방이사거리점25일', 'cafeeasthills', '카페라또', '샤넬', 'DODRIP', '언니쓰다방', '깜빡깜바', '트라이어게인커피', '지얼라이언스', '탭플레이', '커피마마성내점', '카페뮤제오커피박물관', '커피스트', '올유니드면목점', '어플렌티오브', 'cafemani', '꿀다방', 'MAYLIN', '세븐스헤븐커피', '달보살롱', 'CAFEG', '더베이직커피서울본점', '미카페토', '위드미청계천점', '비에뜨반미합정교보점', '탭플레이FNC점', 'CAFEEEPHUS', '마당', '카페드스페셜티스', '슈퍼보드', '금산인삼집', '이튼104', 'PAIKSCOFFEE', '꿈', 'cafe2892', '29.5', '칼리', '커피하이컵', '부팔라커피', '시다모커피', '은지다방', '팔이커피', '알라딘중고서점커피합정점', 'REALROASTING', '커피샵', '다나인터내셔널', '카페브로딩', '다방,틈', '바이네츄럴', '그린클라우드커피', '커피야석촌점', '망우다방&일상맥주', '아티제강남역점', '당산댁', '카페드파리', '꿈터로뎀카페', '토프레소까치산점', '꼬르소산도', '셀위', '에그셀런트', 'BrownBag', '티앤티라이프', '블렌드13', '더치앤빈대치역점', '커피패트릭', '쥬쥬바', '애견카페', '정만빙수', '구로구다문화북카페', '세시셀라도산공원점', '북카페공간', '팬', 'Lafuma북한산점', '미오베네', '레가타커피', '세븐빈즈', '커피와쟁이', '토파즈', '카페온고', '토프레소개봉점', '쥬씨신목중점', '커피큐브', '커피블러썸', '더플롯커피', 'MMTH커피', '피에이치오커피', '광장커피', '카페시모', 'CAFEMIE', 'CU', '본전', '시장길커피', '헤븐카페', '카페디오믈렛', '쿠마커피', '카밀라의놀이터', '10센치', '굿앤굿커피', '카페프레스카', '커피향이좋아서', '커피베이동서울터미널', '할리스커피방배점세리', '숙이카페', '백미당현대천호점', '커픽', '공차롯데백화점청량리점', '영화에빠진커피', '현다방', '카페와플스토리', 'CAFEGL', '디자인커피', '브루테크네', '나일카페SO', '동백', '애플커피호프', '스타벅스경복아파트점', '벨로치노개화점', '레이블커피', 'THE봄', '카페놀다', '저스트리슨', '더삼겹카페', 'Cafe잇서울의료원점', '안티공짜카페', '다브앙', '엔제리너스잠실1점', '스윗트가든', '골드브라운', '카페라루라루', '2막', '미스터제이디', '바닐라스위트', '카페엠플러스', '로뎅커피숍', '카페오월', '우리동네노리터', '폴바셋롯데몰', '아티제잠원파스텔점', 'florowsandcafe', '돌리팝', '커피.3', '오롤리데이숍앤카페', '카페플래닝스쿨', 'MOSOCOFFEE', '커피24시', '다솜이야기', '카페네스카페', '카페클로버', '핀카페', '마노스커피', '카페IMT', '도렐', '제이미쉬키친', '카페코알라', '킹콩쥬스&커피이대점', '카페홀린', 'sec커피', '카페바른생활', 'PUSE', '크리스마스자몽광운대점', '아주나무', '아자리아', '르카페', '더마실카페', '카페1001', '코레일유통할리스', '카페1993', '슈르르까', '콩툰중화점', '톨릭스', '오엠지엔터프라이즈', '카페네스', '인사동', '아리스타커피선릉2호점', '카페하우스', '은혜커피숍', 'IROOM', '시애이', '아리디', '숏컷익스프레스', '아시아나타운커피숍', '해누리카페', '제르보', '까페데미타스', '윙크르네상스북&아트갤러리', '오커피', '메고지고', '허바허바사장', '한다솜복지회강동꿈드래마켓', '카페순이', '주스솔루션여의도IFC몰점', '펠리스', '커피빈코리아테헤란로비', '비엔비엔', '주스식스금천독산로점', '쥬씨난곡점', '그린커피코리아', '모데라토', 'DUTCH&COMPANY', '도원유치원', '마리아테라스', '예커피', '더브리제', '베이커리카페데쏘', '35커피', 'bluement', '스노우볼', '커피랑파이랑', '삼단변신신미쓰흥', '엘피스카페', '밑업', '카페본스', '커피방앗간', '셜록홈즈영등포점', '카페아라', '커피중독', '가베5225', '카페쏭', '비라운지', '빨강커피앤', '심리카페.COM', '카페라파미', '닥터스커피', '코리아에스프레소', '어메리칸에스프레소', '이랜드파크외식', '메그리즈', '유성커피숍', 'OVENDAY&CAFE', '크레디오스', '이디아커피선릉아이빌점', '라에스키모코엑스점', '카페로찌', '까페2000', '그린라이트브이알씨씨', '래포커피', '메이드커피', '연다라', '카페쉼표', '커피빈코리아포스코옆삼성로86길점', '요크', '부띠끄호텔엑스와이엠', '벨포스토', '행복다방', '숙커피숍', '투싸이드', '이디아역삼시장점', '쥬씨신풍역점', '그릿시냇가까페', '쪽방커피', '쥬씨금남시장점', '여전히달달해', '청실다방', '스테아', '더카페서울숲SKV1점', '일쁠루수빠리', '카페래이', '한우리보호작업장', '팡세', '어드림오브시드', '블룸앤구떼반포리체점', '커피베리', '슈퍼커피종로점', '아리스커피', '샵일사오', '톡앤톡커피앤티', '오설록가로수길점', '더델리', '아마스빈버블티', '토굽스커피', 'TheCupStory', '모스트커피', '스위밍풀', '카페느티', '카페커피상상', '허브미', '망고식스2.0', '프라한PRAHRAN', '카페더블컵', '인덱스카라멜', '더더다다퀸마마마켓', '장미라운지', '씨네스타커피', '어쉐프컴퍼니', '커피알라', '커피가좋아', '고스트커피', '나의작은라임나무', '엉클로', '청구성심병원', '피티카페', '안테스', '빈스마일', 'ANTTA', '이니스프리', '찬찬커피로스터스', '미스터힐링명동인터네셔널점', '까페IMA', '카페가든', '이디도커피코리아', '굿데이커피', '커피앤', '케미커피', 'Cafe12', '집쥬스', '커피91스토리', '커피에반하다광장시장점', '파란달의커피볶는집', '예빈당', '석커피숍', '커피헌터', '카페베네청담역점', '에스프레사멘테일리보라매점', '스타벅스청담사거리점', '데코르', '보데이셔스', '커피향기비어', '그레피스', '로얄카페', '책발전소위례', '엔제리너스커피영등포점', '스타벅스올림픽공원북문점', 'mill', '아소프로아Ⅰ', '키티스까페', '원두막', '앤트러사이트커피', '커피탕', '카페테리아누벨', '에스트로', '존스샌드위치카페', '마크레인커피', 'WHATUWANNA', '비엔나커피하우스협동조합', 'THANKYOUCOFFEE', '예담겔러리카페', '도티', '카페쟈스', '팥미옥', 'EASTSIDEMARIOS', '와츄홀릭', '마이베네핏', '토프레소원효로점', '투고커피', '보야커피', '카페아이', 'misreum', '디지털놀이터', '클래식', '단팥집', '카페글렌', '아브릴커피', '베뉴지커피숍', '세레스홈', '카페달썸', '콩자루', '여우뜰에는', '떼루와가산', '썸띵에스프레소', '더마하', '서울고로케앤커피', '9카페구로점', '커피그래피티', '카페분나마프라트', '벡도어', '프라자커피숍', '카페드앙떼띠', '엔월52', '카미노커피로스터스', '푸디스트카페퀸즈아모르', '알리바바', '카페레인', 'Riacoffee', '제임스베리', '슬로우가든', '라인업PC방', '그레이트버거앤커피', '커피빈코리아테헤란로하이', '핑크도그', '예전에살던집', '고다방', '투썸', '필립앤노아', '리틀비틀', '빙설헌', '더퍼치', '쉬어가는페이지', '블랙PC카페', '공차명동점', 'Cafe622', '3POP', '스트레토', '스타벅스마포일진빌딩점', '프롬하츠커피하왕십리점', '커피베이서울의료원점', '힐링사주카페', '쿠즈코커피', '쥬씨국사봉점', '카페소설', '브레드랩연남점', '카페점보', '마실래', '에네스', '라파미', '보그너커피상도동점', '토프레소태평로점', '꿈더하기카페', '들국화', '카페넷', '카페베네양천문화회관점', 'SEMOCAFE', '700요트클럽', '카페필림밸런스', '우성커피숍', '카페시크릿가든', '이다', '문라이팅', '겟썸커피', '카페더뉴', '쥬씨배명사거리점', '수다방', '은평뉴타운여성행복북카페', '동작대교전망쉼터', '야고비네', '갤러리라운지카페', '행복한타로사주', '카페토이즌', '쥬씨용두역점', '커피빈코리아여의도교보증', '투썸플레이스송파CGV점', '송화의카페', '85ST', '북카페', '비쥬블랑쉐앤올리비아하슬러', '오에스인터내셔널카페데베르', '핏', '부에노커피로스팅', '커피잔속에테르', '테라이그니스', '신호등', '달콤한홍콩', '카페테라스', '사랑방카페', '퀴클리강남점', '데미타스커피', '공사', '샌드카피노', '맥다방', '바빈스커피', 'BILLCOSBY', '달근프라페', '티드빗', '동진커피', '소디스', '커피력', '커피코트마곡사이언', '슬로우스텝', '플레이도키즈라운지', '신사장', '별별다방', '더스토리지', '마이분주스바', '카페파이드', '디스프루따커피', '스타벅스가산디지털단지점', '달팽이카페', '커피앤브레드', '카페베네숭의여대점', '존스몰커피로스터리', 'T.HILL14ST', '에이더블유커피', '드노피', '더착한커피&쿠키', '빽다방공덕새창로점', '공차롯데미아점', '코코라', '더벤티커피전문점', '성곽마을삼층까페', '탐앤탐스가재울뉴타운점', '프롬하츠커피서울역센트럴', '마실카페', '삼성웰스토리SDS커피&', 'COFFEE&TEE', '파치먼트', '피아노카페', '행복한커피', '커피나우', '바스크', '라온커피앤브래드', 'TOMAMOMS커피', '쥬씨명지대점', '토프레소양평동사거리점', '커피스테이션삼전점', '포엠하우스', '플라이디어', '스타빈', '스타벅스둔촌동점', '탐앤탐스문정로데오점', '카페크림', '르반베이커리카페', '라이크잇커피앤북스', '커피그래피티연남', '파인힐', '달콤커피광화문점', '카페COMETE', '요거프레소당산에스케이', '맛샘커피농장', 'cafeJoe', '스팅', '공상CAFE', '가장좋은커피', '코코부코', '브라운핸즈카페', '줄리에타', '푸드파이터', '예건', '카페이퍼스', '빽다방중계은행사거리점', '카페빈토스', '가비', '칠그램', '신세계푸드성신여대까페에델리아', '원남가베', '스타벅스상암디지털큐브점상암디지털큐브점', '스타벅스송파방이DT점', '커피브루어', '카페데스티니', '다온카페', '요거프레소동교점', '카페하나', '피카소', '이마트24시논현진성점', '커피DZ', '츄이팩토리', '스타벅스중계역점', '보아인터렉티브', '벨루카테이블', '알틴', '스타벅스선정릉역점', '쥬씨하계점', '비틀쥬스', '커피빈코리아역삼점', '다다', '크레센도', '스타벅스청계산입구역점', 'Wecafe', '실버카페', '커피제로', '투썸플레이스옥수리버젠점', 'keep커피', '카페블라섬', '달숲', '라온tree', '잠바주스한남더힐', '세운커피숍', '아리아', '모던까페', '아이스팩토리', '커피뿅', 'FRESHKING', '커피홀', '커피502', '청담음', '커피그루나루', '카페어린왕자', '커피토아', '카페a/ma', '쉬헤즈커피', '라떼나인', '금호문화재단', '카페톨릭스', '더메디라운지', 'STREETCOFFEE', '공쌤커피', '카페302', '커피하바나', '커핀그루나루서초플레티넘점', '메르씨', '커피랑도서관', '아틀리에', '매일유업', '하비', '카페필아떼', 'ESTO', '민스빈', '어반앨리스', '라스베이글재화스퀘어점', 'berry', '2080더커피숍', '컴바이', '지베르니정원', '브런치커피', '만다향', '카페다카포', '카페콘디토라이', '구름뜬하늘', 'SELECTOCOFFEE', '할리스커피광나루역점', '야쿤카야', 'DAILY3', '몬스타커피클럽', '카페베키오', '공방163', '더니커피', 'HERE카페', 'Perhaps', '도쿄밀크치즈팩토리', '산유화카페', '베네또', '도란도란카페', '애플트리', '원두파파', '커피빈코리아강동경희대병원앞점', '카페하이유', '알뤼르', '레더앤카페디', '카페모아', '일육커피', '2ro2ro', '심리카페COM', '카페메사키', '빚은', '커피노트', '투썸플레이스앤드콜드스톤크리머리', '까페플라워', '산도이치&커피', '씨네마포', '지유가오카핫초메청담점', '할러스커피', '쥬씨창동점', '까페뷰', '올리브카페', '부티커리미엘르', '보드스쿨', '해사랑', '팡오르방', '패트릭스와플', '스크롤', '여성건강카페화음', '마리웨일마카롱', '고고카페', '알프레도', '이어진플레이스', '카페데일리에디션', '프렌즈', '스시오가다', '띵킹커피', '빠삐에', '씨케이코앤루소랩', '제이스커피나무', '빠레트', '스타벅스잠실대교남단점', '카페에프티', '커피에반하다행당점', '경다방', '제퍼빈스', '소금다방', '화이트엔젤', '치치라보', '이디야커피우장산동점', '커피볶는남자', '스타벅스동교삼거리점', '아리스타커피', '욤토브', '어썸', '몬스트룸커피', '생활커피위례', '난달라커피', '비스트플래닛', '닥터피쉬카페', '파트너스', 'Anne', 'Wannacoffee', '누커피기업', 'IBeanCoffee', '제일전통찻집및커피', '커피이너스', '상도다방', '하이힐', '플리즈커피', '주스집', '카페와일리', '루이루스교보문고', '시즌', '카페리에또', '카페350', '혜원갤러리커피숍', '오후카페', '오롯이카페', '스마트글로벌', '테디베어주', '수커피숍', '빙빙', '커피마리', '간단하지만특별한화피디Cafe오아시아동부여성발전센터점', '카페팔레트', '투웰브바스캣', '비라티오', '도니바니애견카페', '맥아카데미카페105', 'CARIBOUCOFFEE신촌점', '테이크온미커피', '카페누라', 'HIPPO커피', '카페이룸대치점', 'coffeesong', '갈마루', 'SAM', '카페씨내', '아스트로노머스커피', '키즈카페몽', '벨띠에다빈치카페', '카페라미떼', '와이블랙', '카페앤드', '쥬씨잠실역지하상가점', '샤인커피숍', '스타벅스외대점', 'faithcoffee', '체크페이먼트', '지구촌카페', '카페다', '킴스코퍼레이션', '그레이에스프레소', '이후', '청솔', '카페imt', '더카페샤빌레', '뎀셀브즈', '뉴욕택시디저트', '해바라기', '커피애드립', '카페파이', '스마트카라더카페', '드립', '로터리다방', '커피101', '투캅스', '아프리칸쵸이스카페', '카페칼디', '이디야커피정릉아리랑점', '루소주얼리커플링만들기', '미어캣프랜즈', '띠아모둔촌점', '씨카페', '진심코리아', '카페드리옹케이크부띠끄면목점', '쿠즈베리얼반', '한강커피숍', 'YX2', '카페아이덴티티', '갤러리힐링카페', '오!베리굿', '헬카페', '행복플러스가게하이천사', '휴cafe', '꿈꾸는다락방', 'CASCADA', '굿푸드앤카페', '까페미네', '오네스토커피', '학화호도과자', '헤픈커피', '뿌리플라워카페', '옐로우트리커피구로디지탈단지점', '에이유', '카페예스플러스', '커피미아', '현명커피', '카페반색', '모노치츠', '카페세향', '젬스커피', '감나무아래', 'BREWNINE', '길모퉁이커피', '더루', '쥬씨방배역점', '브이플렉스', 'FrenchBakeryCafe', '카페오가닉', 'Crumb', '원커피숍', '제노PC카페', '247커피', '스타벅스중랑역점', '차끓이는곰자씨', '꽃을바치는시간', '남산', '원원나인', '카페베이루트', '달콤커피범산구로디지털단지점', '파리크라상', '슈퍼사이즈커피', '배스킨라빈스청량리역사점', '팥이재', '한여름밤의꿀계동점', '나폴리다방', '마을가족카페너른마루', '카페톡톡', '진보공인중개사GangsParadise', '아리스타커피압구정점', '호원당', '앤트러사이트', '한울다방', '조이', '구엄품', '바움스타커피', '바리스타마르코스토피아점', '투사이드카페', '어지', '안녕', '센티모르', '곰식스커피', '엔피에스카페365', '랑꼬뉴', '보까', '까메오', '카페집', '아임커피', '까치산커피', '라온컨설팅그룹', '카페이브닝', '여의도KBS오가다', '카페랩', '물오름달', '요거프레소한성대점', '메모리스', '호텔볼커피숍', '공차광화문점', '이디야커피논골사거리점', '까페스텔라', '베이직하우스', '컵오브커피동소문동4가점', '매머드익스프레스교', '카페호빈', '거성카페테리아', '공차보라매점', '에피세리꼴라주', '더치앤빈공덕역점', '리스카페엔엔', '본돔', '꼬메노', '스카이', '커피플레이버', '커피즐겨찾기', '공방', '밀리언비즈', '시그니처커피', '오베리굿', '키라키라히카루', '유엠영어', '카르포스', '카페델리카토', '카페커피씨', '윌리스바', '숑디', '커피인프라하', '167', '커피향기', '미소누리나눔복지센터', '닥터로빈', '온뜨레', '리틀제이콥스프리미엄서머셋', '커피빈코리아합정푸르지오점', '숨&쉼coffee', '쉐프스카페테리아', '프리퍼커피', '샹티브아르,그런커피', '카페에스비', '커피몽크', '더치앤빈', '카페굿뉴스', '카페블록', '매머드익스프레스문정SKV1', '반이홀릭', '노벨티', '삼봉-빠', '스타벅스을지로센타', '일공오카페장충점', '데코아발림', '셀렉토커피마곡나루역점', '로찌', '프라넬', '이디야커피텐즈힐점', '88브레드', '비알라커피', '프라시아커피', 'Coldstone', '재쿠와커피콩나무', '커피501', '프레세르커피로스터스', '카페38도씨', '브라운팰리스커피숍', '전광수커피하우스', '룸카페', '도피오국립국악원점', '압구정볶는커피강남터미널점', '1983떡볶이다방', '카페진', '청구성심병원점', 'SOL', 'CoffeeDNA', '카페218', '솔고바이오메디칼', '카페글렌은평뉴타운', '이디야커피영등포본동점', '다르다카페', '팔공티대치역점', 'Wakemeup', '마랭고', '치즈빵야', '삼각카페', '두나미스커피', '커피인뉴옥', '제이씨제이푸드', '로직커피로스터스', '길리안초콜릿카페롯데월드몰점', '달콩', '이디야불광역', '엠엠티에이치048', '티모시스코리아', '카페플랜', '크리미몰랑', '윤s커피', '카페봉봉', '스톤커피', '쥬씨고덕역점', '스타벅스신촌명물거리점', '조스타커피', '도그비잉펫카페', '커피빈삼성역글라스타워뒷점', '애플블러썸', '카페속작은가게', '린다린다린다', 'SE', '유명다방', '작은섬', '보바타임', '필레오', '음미커피', '삼청각다원', '카페다디오', '까페라고', '마로니에커피앤와플', '스터디카페북킹', '공원카페', '가온누리', '이디야커피전문점', '카페라모엘', 'CafeONNA', '롤링스톤즈', '짠커피숍', '아트엘', '카페더케냐', '블랙라인커피', '투썸플레이스여의도금융투자협회', '포인트힐', 'Rio:후아', '오프로드커피', '데일리', '마이빈', '신세계푸드건국대까페에델리아', '아더카페', '카페퍼블리크', '스터디카페S', '엘앤에스와이', '사사', '재회', '오로니아', '파스쿠찌국악고점', '샐리스타임', 'ZAKOC&W', '쥬시', '갈비씨발산역점,에벤카페', '밍구케이크', '우주라이크커피메드렉스', '소망글로벌베네', '우커피', '문리버', '매일이기념일', 'CUP&COFFEE', '아리스타', '텐퍼센트스페셜티커피', '나이로비커피', '루소커피', '열다방', '바람', '루이루스SFC몰점', '설매화', '칸타트', '사진창고', '롯데시네마김포공항엔제리너스', '한국플러스그린스테이션', '카페글렌공덕점', '제너럴커피코디네이터', '시즈더데이seizetheday', '허스', '오르페블랙', '로비라운지&델리', '엔제리너스건대스타시티', '커피빈치', '커피콤마', 'Aristacoffee', '슬로시티', '카페마타리', '마카다', '웍스프레소', '이디야커피건대스타시티점', 'honeycomb로스터리카페', '코코마커피', '번스', '스케네브라운', '2시의테이블by메종드꾸숑', '로뎀나무까페', '홈플러스어라운드홈', '컵오브티', '탐앤탐스커피숍', '아리스타커피숍', '커피스테이션', '그래버커피', '토리커피', '카페엘리', '르브레드랩건대커먼그라운드점', '카페잇츠어바웃', '아시카페', '까페T43', '페라', '이디야카페', '대익보이차', '봉봉다방', '헬스케어카페', '오하나카페', '본헤드커피컴퍼니', '사뜨바', '밀크앤프룻츠버블티', '왕관커피숍', '와우이레카페', '본커피', 'SGH한방차보감', '에이쓰리커피집', 'Cafe곰퀼트', '스타벅스염창역점', '슈가링스화랑대점', '파리크라상파스쿠찌서', 'EspressoJin', '카페감', '예다원', '커피베이불광점', '원보드게임방', '대지커피숍', 'TEALOFT', '무로', '요거트맨', '금성', '커피나무신상도점', '생각나니', '오설록팩토리', '주빈커피', 'Sen', 'FRUITSPOP', '떼', '북스프레소', '빽다방잠실장미상가', '다움', '월촌', '아이비', '십자수&커피이야기', '커피천국', '카포라보로', '도통사주카페', '면목제4동주민자치위원회', '카페핑크데이지', '커피101스트릿', '점보카페', '주젤리', '미어상봉점', '스타벅스구산역점', '희망카페', '스타벅스숙대입구역점', '행복사랑방', '에잇어클락', '비거커피', '커피하우스', '혜진스커피', '언덕위에커피집', '더앨리', '카페동동', '푸드카페', '라운지리포즈', '다인투', '모모커피', '몽슈슈도지마롤', '시에나블루', '카페공감', '다기전', '여자커피', '신길헤븐카페', '카페낢진', '콜레츠', '대한불교조계종유지재단템플스테이지점', '행복한베이커리&카페', '바랑커피', '일리커피데이콤점701704', '맘모스커피', '카페쉐누', '명보다방', '라떼플로라', '타임TIME', '하품', '쥬씨강남역세무서점', '랑', '스테이지9더치커피', '히든', '메드커피', '카페에스크', '골목길다방', '바리스타엘리', '까페부에노', '더팥', '파워플랜트디저트', '제이씨엑스커피', '베이루트', '셀카페', 'The드림', '잠실마루쉼터', '비엔나커피하우스', '오토카페', '아다모Coffee', '엔제리너스커피에스알수서역사', '피티카페비엠에스점', '쥬씨동여의도점', '업타운카페', '아가랑키즈클럽', '닥스까페', '글로리아진스커피코리아강', '고양이다락방', '엘빈커피', '카페비플러스', '나무아래', 'KIUM#', '카페곱게', '티움카페앤토스트', '구나길구', '코레일유통커피앤스위트', '투썸플레이스종로구청점', '마노핀수서역점', '분더킨트', '회화나무로스터스', '카페조', '카페드림', '디밀리옹', '죠셉의커피나무', '카페베네고려대중앙광장점', '커피마마', '폴바셋롯데마트', '한강다방', '이코복스커피삼성', '메쎄', 'mug공대', 'TheRedCOFFEE', '티샵NO.1', '카페톡', '포트오브모카독산점', '투썸플레이스한양대학생복지관', '205도씨', '투엑스커피숍', '하늘정원이야기', '베어스덴', '커피코트서초애비뉴점', 'THEBAKE', 'SELECTO', '소프레소', '야옹이네책다방', '카페아지토', '드롭탑방이사거리점', '커피작업실codeA-Z', '다방구', '시월의곰', '경성커피', '따몽', '저스투고', '델리바이쉐라톤', '나너다방', '피카노르딕', 'Malacca', '덥스텝비', '컬러리빙', 'OSEVENS엠솔루션콥', '카페무스토', '커피쿠즈코', '카페희다', '종로교회커피', '사다리커피', '아마존슈라스카리아', '커피만컴퍼니', '카페루트나인서교점', '꿀바른단호박', '테라로사', '세가토', '커피앰비언스', '2CAFE', '카페마들렌카CAFFEMA', 'MMTH', '헬로방방', '세가프레도목동SMT점', '투썸플레이스충정로역', '앤크레마', '봄빵', '안드레아', '커피빌리지', '카페제이홀릭', '우리애그린', '윈디시카고', '소격동37번지KITCHE', '모코커피', '카페베네영등포구청점', '루트세븐틴', '카페원웨이', '라르고', '뒤뜰', '도토리카페', '이디야커피김안과점', '위너스커피', '드링크펀펀크레페', '탐앤탐스강남관광센터점', '조샌드위치카페', '아르디카페방배지점', '밀크엠앤에스', '카페마레', '카페눈', '스테이지28카페', '애니타임커피', '와플에반한커피', '커피낫유얼스', '클레시아', '카페피파포', '은성커피숍', '청춘124', '꽃물', '우향다원', '커피드코리아', '비츠앤바이츠', '커피베이', '숨앤쉼커피', '허니비와플까페', '번앤펀', '풍각당', 'SUNOCOFFEE', '밀리타전시장', '샵VR', '빈플라워', '이디아신방화중앙점', '공주의향기나는카페', '구대회커피', '마리웨일', '엠아이씨', '에스엠', '까소엔더카페', '블랙컵', '마타', '보타닉커피', '대니의전봇대', '스타벅스황학캐슬점', '엠엠티에이치123', '커피웰', '빽다방', '토프레소상계백병원점', '일등커피', '커피마마신공덕점', '카페BRANDSSU', '메카커피숍', '보나비', '파트원나이스', '카페엘리홍대점', '카페5017', '상티비투썸플레이스가산대', '엔제리너스둔촌D/i', '커피브리스톳', '블루노트커피', '두두퐁', '벨코와플', '카페브링', '베네피츠플러스', '까치다방', '데니보이', '스타벅스용산역점', '랩정다방프로잭트', '이스트덜위치', '마앤나', '스타벅스동묘앞역점동묘앞역점', '체리카페', '산도', '出國', '카페구름', '빽다방신림역1호점', '사주타로', '탐앤탐스디엠씨탐스커버리', '핑크마운틴커피', 'Eliot', '카페즐거움', '고디바', '커피B.on.D', '조이커피', 'LAK25', '앤드커피랩', '브라질커피숍', '탐앤탐스반포디스커버리', '커피핑크', '런던티', '루하커피', '스타벅스노원케이티점', '카페더원', '스몰하우스카페', '벨로라테', '왕실', '누아르블랑', '카페언더24', '꿔다논커피자루', '애논', '커피베이행당점', '발롱카페', '안까페', '할리스커피낙성대역점', '우쥬커피', 'IMT호텔', 'Solcafe', '카페트인터내셔날코리아', '단미커피', '방방키즈카페', '카페트루칠로', '플라밍고', '구카페', '꽃다락', '요거프레소대방성애병원점', '까페시모', '라루', '프레스카투', '일육공도씨', '커피가', '림스커피', '키다리커피', '파란상자', '스포애니불광역커피마마', '그린문', '포이트리', '카페868', '모어댄레스', '페이벡커피', '카페고고스', '달콤커피신대방점', '카페곳', '카페허그', '슬런치팩토리', '탑프레소', '여의디지털도서관', '드롭탑송파가락점', '딘앤델루카', '할리스커피세종로점', '파랑가by콩두', '선아커피', 'enter', '엠커피&칵테일', '맨케이브커피', '요거프레소화곡푸르지오점', '더치레이디', '희망플라워카페', '커피빈코리아낙성대역점', '네이밍카페커피GO!#20', '퍼블리크라움점', '24시만화카페', '더나우커피', '다쿠아라', '맥카이하우스', '오롯이', '카페유유얼셀프', '카페옴니버스', '벨라지오', '허니카페', '스타벅스중구저동점', '커피만성신여대점', '투썸플레이스금호하이리버점', '쥬스로', '스타벅스이수역점', '석란카페', '더빅스터디', '레어로우', '유토피아카페', '한일', '커피그리고', '티즈데이', '로비', '커피의향기', '동아쏘시오그룹공제회', '엔제리너스커피동강에프앤', '훌랄라치킨카페&천족', '코지', 'coffeeplanet', '바리스타마르코북성교회점', '아워홈카페클라시코', '이코복스', '카페포제이', '커피컬처', '마시모', '용궁', '카페아띠끄', '킹스커피동양미래대학교점', '지하철', '카페홍', '카페오아시아사회적협동조합포', '카페몽스', '카페멍스', '블라블라', '코지카페', '라나이카페', '카페프리아스', '북바위쉼터', '스커피', '에쓰디지광화문지점', '연주다방', '씨앤씨', '고로케데이', '카카오썸', '팔공', '커피브루', '보니에', '토크인커피', '두근두근쿠키야', '디카페', '에버그린', '에이치카페', '요거프레스', '커피식구', '바닐라베리', '마노핀군자역점', 'JACOM', '비공이', '카페리화인', '본까스댈리카페', '리본', '아트앤크래프트', '빙달', '아더', '루소커피랩학원', '카마노커피', '모노키친', '송파다방', '잇츠리얼타임카페', '헬리팜커피', '시퀀스커피', '팡뜰리에', '조엘커피', '스타벅스명동길점', '헐리우드코리아', '시너리', '원웨이', '아담채카페', '커피보니또', 'JAZZ', '투썸플레이스양재역점', 'CafeLouisvis', '르와지르', '카페웨스트브릿지', '하룻고양이', '만남', '밀크홀1937', '셀렉토커피동묘역점', '소소한일상', '차타임', '오스커피', '생활커피', '카페썬', '스타라이트', '달콤커피삼성점', '허니크림', '비알코리아베스킨라빈스', '초이에스프레소', '연희카페', '디드릭노원점', '터치카페', '카페라끌레', '백림사주카페', '퓨전2', '엘림', '그리다', 'CLUB1d1m', '마리웨일마카롱봉천현대시장점', 'Lchfcafe', '곰달래커피맥주', '압구정볶는커피', '카페427', 'laac', '백호만신당', '까페뉴', '이즘', '킹', 'VICC', '프레지아', '카페일소뇨', '삼청동에그롤', '엘리앤펀', '엔젤디오커피', '이브릭커피', 'MMTH양재시민의숲', '24h스터디모임카페', '굴림', '커피클럽', '세븐브릭스', '펭귄드링스커피', '크라스플러스', '토마토커피숍', '에블린', '어반팟', '키커피코리아', '민티', '카페리엔', '작은갤러리', '컴포즈', '영우국민대학교', '테오의1.5층', '네오베네하우스', '해빛', '오늘커피', '로이스', 'Beetlejice', '무민샵', '앤탑PC방', '카페아프리카', '더달달', '나인원라이브카페', '와플앨리', '칸', '브레머', '카페오아시아피앤에스', '카페더뮤즈', '단잠', '제이스커피', '카페모노블럭', '아델로가든', '스타벅스종로2가점', '데라스카페', '쥬스리', '샤론꽃방.', '잠실빈스토리', '탑커피숍', '알카페', '케이스카이엔터테인먼트카', '글라세라떼', '쥬씨화곡시장점', '동부', '클레어플레이스', '카페져스트', '카페MJ19.4', '지에스25건대시티', '북카페다락', '오까페', '종이비행기', '킹콩쥬스앤커피', 'STARDUST', '더모스트커피', '하이페리온커피', '주커피', '아름나라', '카페엔드', '살레시오수녀회카페마인', '까사밍고', '카페르뺑', '쑤앤쑤', '원펀치쓰리강냉이', '아이우애오', '오밀앤조밀', '카페마리오네', '모두다가치카페', '미스터아메리카노', '스타쿠빙커피전문점', '콩깍지카페', '블루웨일', '키다리아저씨', '이디야커피삼성봉은사로점', '카페더램프', '카페보스', '4CDUTCHCOFFEE4도씨더치커피', '투썸플레이스사가정역점', '스타벅스금천독산점', '디딤돌2018', '이엔지카리브커피', '커피코드', '오가다문화일보점', '공차글라스타워점', '커피파일럿', '커피안바우', '스타벅스미아역점', '레드브릭스', '카페스튜디오', 'SUBMEDIA9너스커피', 'AfterCoffee', '빈치', '말로야', '달달커피', '원기산삼다시스', '리브스', '은마루나눔카페', '고양이다락방강남점', '카페피노사', '커피파드', '샌프란시스코', '비온후', 'flowercafetiffany', '경찰청복지관', '한복카페', '카페드람브로종로점', 'Coffeezip', '카페테니어', '25프로', 'Bingo', '카페울림', '크레마', '달콤커피서래마을점', 'paulbassett', '현미더치커피', '홍콩반점&빽다방', '카페타세', '더베이커스테이블', '하늘정원', '키즈방방', '아모제푸드잠실야구장점실외카페아모제', '미스랄라', '보드게임카페', '첨밀', '모과나무집', '모나코플라워', '커피킹', '린도', '커피피플', 'Mr,Breeze커피', '요거프레소서여의도정우빌딩점', '카페지', '디앤드커피', '오설록티하우스', '핑크레빗', '젠제로', '스타벅스강변역점', '엠엠티에이치010', 'KAFFE#', '티블랙', '떼루와떼루와을지로점', '카페별달밤', '일층카페', 'COFFEEDAYS&와-뻑', '카페클라라', '카페봄이', '비자비카페', '고가다방', '나눔', '까페이탈리아코리아', '카페사부작', 'Coffeeis...커피이즈', '쥬씨도화점', '나이스', '오흐뒤구떼', '초콜렛콘츄러스', '천호977', '토마토', '해피플레이스', '원효로', '진영', '디저트삼십구', '포비아명동', '카페더레드', '라페뜨', 'CUCINA', '아리스타커피강동구청점', '미스터패니', '모조커피', '블루나일트레이딩', '커피바실리아', '콩설기카페', '까페이튼', '까페앨리스', '심플카페', 'JS카페트', '카페만나', '커피가르텐', 'ISOMCOFFEE', '카페투샷', '소복소복', '제이디커피', '오떼르카페', '소풍', '존에프커피', '카페베네사당역점', '빽다방청량리역점', '프랜트', 'Chally&Coffee', '오다', '그린', '카페성수', 'FLORAVELLO', '벤투라커피', 'CERULEANcoffee', '놀숲압구정역점', '앤제리너스커피', '홈스테드종각SK점', '카페트리', '카페베네암사', '뚜르드카페', '투썸플레이스대한통운사옥', '스타벅스월계이마트점', '아가페', '연희커피', '페나슈발', '아마폴라델리', '폴리카페앤티', '메리하하', '디어마더', '까페바소', '쿵푸티', '에프이26', '간단하지만특별한화피디Cafe', '나뚜루카페', '오피스알파', '화이트하우스', '카페마호우', 'G-CAFE', '루노커피코어', '오땅비어신논현점', '경성팥집옥루몽', '스칸디나', 'Reve', '행복떡방&카페', 'Cafedomodirvine', '까페거기', '스타벅스신촌오거리점', '한국보바랜드커피', '커피앤베이커리', '카페베네천호역점', '에스프레소비비안', '카페원더', '안다미로', '커피인더스터디', '소울클럽', '아티제여의도롯데캐슬점', '아람앤아델라', '까페75', '다락방고양이', '카페홈', '역풍', 'COFFeeNchu', '커피앤티', '부엉이빈커피', '디에고젤라또', '스타벅스커피강남대로신사', '설빙', '교보핫트랙스', '타요더카페청량리점', '카페BONBON', '나이스데이', '룸포커피', '커피머그루', '프리지어', 'Lento', '풍전에프엔비', '카페22', '퍼플피씨', '카페다독립문점', '알프스', '커피빈코리아세종문화회', '코즈모갤러리서초', '이코복스커피로스터스', '카페더단골', '비니웨이', '커피냅로스터스연남동', '수커피볶는집', '카페호미', '카페어나더', '눈', '카페얘기', '카페빅스케일', '지샘', '미미의카페', '후니드SK플래닛서울스퀘어카페점', '알바트로스', '에이블커피그룹', 'Theorder', 'cafeZygo', '남산학사카페', '동우네커피집', '디자인에스프레소', '만화카페통툰', '칼디하우스', '밀당', '카페베네이노시티점', '올라카페', '제이디비스퀘어', '버블살롱', '떼루와종로3가점', '한스제과공덕점', '카페긴고랑길', '이코복스커피', '투썸플레이스대학로씨지브이', '퍼피앤커피', '리틀제이콥스역삼리안점', '파스쿠치여의도점아이리스', '張家', '더나더나', '카페동희', '브이알지카페', '아스팔트커피로스터스', '카페샹베르공덕코어점', '리오', '블랙그라운드커피랩', '강남퀴클리', '에스카페', '까페에소르', '이타르트', '페이지그린', '할리스커피용산더프라임점', '카페잇', '에데니스', '착형커피', '에프엔제이커피', '카페노아', '뉴서울', '제이스카페', '커피코트구로e스페이스점', '히포커피서울대점', '동백양과점', '소스페소', '오렌지향기는바람에날리고', '세라앤커피랩', '카페쎄리오', 'TIME', '페넥아트토스트', '어퍼스트로피에스굿테이스트', '커피하우스페이지원', '강남70플러스라운지', '토브서브', '엠알광고기획', '지에스25명일중앙', '윤', '참호도과자', '카페레이니데이', '쥬씨방화역점', '토프레소홍대점', '오미커피', '지유명차청담점', '효선당', 'CAFEGEN123', '티케스', 'Clucy', '드링크박스', '지베르니', '애니', '까페올리브', '젯스디앤디헬로키티카페신촌점', '카펜크레', '더플롯', '컴플렉스2', '원제이카페', '카페리쉐', '이디야역삼플래티넘', '삼청동4차원', 'PRiNK&DRiNK', 'cafe이레', '이노커피', 'cafecurve', 'FineThankyou', '내마음속의미니벨로', '노원1', 'SOFTTREE', '브릿지앤드', '금충초', '도노커피푸른수목원점', '하정빈스토리', '보꼬네', 'Coffee#', '3poppc카페', '플레이그라운드', '윤커피', '마노핀면목역점', '찬PLUS반찬카페', 'Cancafe', '히읗', '동네카페하하하', '웰빙전통차', '커피', '쥬씨명보사거리점', '카페쉼', '크린카페', '이즈번', '손수다', '쿠조코커피', '애프터커피숍', '모서리에커피집', '욜로케이크', '아티제삼청점', 'cafedozen', '비즈카페', '귀천', '커피프럼', '강현지앤씨스무디킹홍', '카페라브리', '케키하우스', '카페고조', '이화다방', '로로커피', '투썸플레이즈', '바내', '나이스투밋츄', '스마일꽈배기', 'cafe내자리', '제이커피하우스', '킹콩쥬스대치학원가점', '스타벅스삼청동점', '커피미', '테이블비', '제이스커피나', '담아', '카페수', 'AgreatCafe', '순카페', '스타벅스서강광흥창역점', '삼거리', '카페파스타', '커피교습소', '정글주스', '달콤커피송파중교사거리점', '소담떡방', '아이스빈', '유한테크노스커피프린스종', '뷰티플건강&coffee', '모아아트', 'cafedumiel', '미스에이드카페', 'monceau', '티지이카페', '쿼츠커피', '동네카페', '카페펀코', '별과꽃', 'kinfolkscoffee', 'BABEANSCOFFEE', '커피376', '보스톤더카페델리강', '카페로이', '봉봉cafe', '아이비사주카페', '앤드', '더본코리아_빽다방등촌', '카페타우', '누코코리아', '카페미니', '윤커피숍', '쥬씨강동역점', '어바웃에스프레소', 'Mammothcoffee', '토노토커피와인', '커피202', '뉴욕47번가', '커피로스팅', '키키노카페', '브레머석촌호수점', '에뚜디아', '연립커피', '브라운필투', '드쿠스커피', '알레데이아커피', '라이트닝커피', '호박방커피', '렛잇고', '망원,그커피', '카페작은자리', '티빠', '누아네', '아르디카페', '청소코끼리', '카페치따', '토프레소역삼점', '탐앤탐스트레블', 'seevary', '연미', '서울가톨릭청소년회카페다', 'WonderBuilder', 'test', '레미제라블', 'G카페PC', '착한카페', '카페모브', '크레이저커피', '지에스그래픽스북카페마루', 'Hi키즈카페', '인도풍좌식카페', '손스커피', '낯선카페', '카페빈', '카페진정성', 'CoffeeGongBang', '앤드그레이', '위키드스노우', '레인보울45도', '카페원두마크', '프렌치앤틱', '카페바우', '대화다방', '애니그린', '르카페디스', '카페죠꽁드', '커피가게', '네츄럴웨이브카페', '반고흐카페', '베짱이COFFEEZIP', '피스커피', '소울푸드', 'one멀티커피', '이디야역삼역', '깔루아', '단골커피', '앤스마일', '카페말로', '쥬씨건대역점', '카페민', '보나르떼', 'Gmono', '스타벅스을지로입구', '카페솜씨', '잠바주스', '히어이즈유어커피', '아웃트로', 'NEIGHBORHOOD', '까페디아떼상계역점', '토프레소구로구청점', '콩카페', '말차팥차', '슈니트매점', 'LUMINO', '랜드커피숍', '희커피숍', '카페랑스', '나들목카페', '커피라인', '판게아', '틴패낼리', '브리지데이커피', '네아이가먹는강정', '밥까페', '더맘', '더스토리', '아미엘리소호앤노호', '카페티', 'KOIcafe', '헤리스', '가고싶은카페오름', '커피메이드', '공부카페다행', '포룸', '커피러브', '라팡', '르보', '강북청소년드림센터움카페', '카페데이', '카페티엔', '비아몬스', '차타임라운지', '챗베이커', '비스토핑', '현경개발릴리움커피', '카페버즈앤벅스', '예하카페', '엔제리너스커피연신내역', '베네라이프', '성북동연우재', '사루비아다방', '헤븐스타', '라온', '가고시포', '빈즈메이드', '그레또', '다쓰커피', '베네팩토리', '카페헤바', '얼스어스', '그린비', '카페마운틴', '커핀그루나무', '보이유통', '카페부라노', '원팩토리커피', '커피비상구', '카페고릴라', '카페와사진관', '성공커피숍', '씨제이엔시티카페비즈코즈', '로제타1890', '울어비웃카페', '일상커피컴패니', '민영', '세미다방', '카페라플로르', '홍콩다방팩토리', '제이에스커피랩', '성원', '멀티카페', '쉼스토리', '아로이커피', '라노비아', '몽인도풍좌식카페', '스마일커피', 'STARBUCKSCOFFEE', '커피좋아', '빅파운드커피', '하비에르카페', '에르메스카페마당', '카페서울숲', '지소현커피나무', '미리보기', '704에비뉴', '설렌다방', '디졸브', '스타벅스연신내역', '까페유', '쥬씨순천향병원점', '키오스크', '삼호커피숍', '스텔라커피', '더차린', '이츠이매지컬', '지임커피', '레떼', '스타벅스교대역점', '리스커피생각', '라따뚜이', '커피빈코리아상암동SBS', '씨티즌커피', '토프레소상도점', 'espelle', '카페폰스', '꿈커피', 'MODOcoffee', '셀렉토커피방이초교점', '바이헤이데이', '간단하지만특별한화피디Cafe안젤로여의도성모점', '보아스', '커피볶는고양이', '미스라라coffeeshop', '까페마음', '자바', '제이스커피랩', 'coffeeFill', '구름카페', '제임스보드카페', '티나가든', '폴바셋강남구청역점', '폴스카페협동조합', 'G7커피코리아', '파우치커피', '커피앤틱', '카페플라워', '팔로미노', '카페사월', '애드커피', '부머스', '카페잼잼', '토크엔', '거북이의기적', '셰프리', '빽다방노량진학원점', '라니작업실', '에페커피', '커피베이금호래미안하이리버점', 'CAFE곰다방', '더크림', '카페모에드', 'cafeleA', '마가렛', '콩장카페', '카페드투칸', '리틀파파포', '카페르뮤즈', '커피베이한국관광공사서울센터점', 'Wells', '버터럼', '커피코코스무디코코', '커피와그림', '셰프커피', 'CAFEMERCI', '에듀윌역', '테이크온미', '카페902', '클래시파이드555', '이타', '행복식빵', '바실레이아쇼콜라', '커피아이덴티티', '커피인류', '이디야커피양재AT점', '카페폰타나', '아사녀', 'ABRI', '커피에비뉴', '컴포즈커피', 'EAT', '시모커피', '커피아나벨', '고려대학교교육관로즈버드커피전문점', 'TOM&TOMS', '카페씨에스', '에세스커피', '플라', 'COFFEE1899', '라메종드플레', '기빙카페', '보사노바', '웨지우드커피숍', '아재커피', '장로회신학대학교그라찌에소양주기철기념관점', '자연꽃카페', '커피콩깍지', '스페샬coffee', '삭제_커피베이', '씨애틀즈베스트커피대사관점', '핵커피이대엘', '엘팡', '커피집연남동풍경', '까마르도', '나이스인프라', '까페보니또', '공감커피전문점', '스타벅스숙대점', '동작구름카페', 'JJY카페', '까페누마루', '위드미', '제이카페', '카페아트리움', '영플랜츠&갤러리영', '카페단편집', '슬로우커피1012', '이디야커피', '카페원두마크CAFEWON', '북카페사가', '더칼라', '블레스카페테리아', '모범시민카페', '커피크리닉', '투썸플레이스삼성중앙역점', '허브드림', '카페앤블라썸', '베네타', '커피공방/에이치엔씨아이', '커피더쏠광나루562점', '돌체라쎄라', '수노의작은커피집', '신세계커피숍', '댓라인', '삼성웰스토리SDS서관커피&', '에스비', '놀숲숙대입구점', '더나눔커피', '커피를찾는사람들', '직녀까페', 'Groundcoffee', '스무디킹이대기숙사점', 'X·D팩토리', '리틀마라캐쉬', '놀숲노원역점', '블링엔젤', '카페로움', '투썸플레이스가산대륭18차점', '피에로커피', '몽모리아', '소나카페테라', '미스터닥터빈스', '우리바둑까페', '카페크로리스', '쥬씨서울역점', '카페쿠치나', '지유명차반포점', '쥬씨신월이마트점', '강남다방', '까페콩', '카페에이룸', '배스킨라빈스동대문홈플러스', '골드바틀센터플레이스점', '청자다바', '비마이까페', '카페문', '엘보르다도', '예그리나', '에이그레이트카페', '커피브릿지', 'cafethemuzzz', '망개떡', '와우카페', '피프티', '팔선녀아기보살', '티츄리카페', '라치나타', '카페스트리트', '키나카페', '커피볶는집와플에숍', '투썸플레이스남산트라팰리스점', '투썸플레이스상도해링턴플레이스', '커피문화원', '승룡이네집', '퓨로주스', 'METASTUDYCENTER', '카페D55', '워즈', '카페중원', '디어달링', '매머드익스프레스강서한강자이타워16호', '아메리칸트레일러홍대타임스퀘어점', '가락동커피', '신성다방', '우리동네마곡일등커피집', '카페띠아모고대경영관점', '까페동화나라', '톡카페', '굿윌스토어', '오가다롯데마트중계점', '엠플러스멀티방I', 'cocobruni', '투썸플레이스상왕십리역점', '재미길', '쥬씨남성역점', '쥬스88.커피88', '킹콩이', '카페시트러스페이퍼', '견블리', '복고다방', '온도씨', '물댄동산', '하늘다원', '커피마루', '티키티키', '카페라몬', '해방촌카페으흐흐', '맨투롱', '카페로로', '빈공간', '아이엠씨', '카페다다', '3업플래너', 'RORI', '카페그라운드', '커피빈코리아CBTL잠실홈플러스점', '92도씨', '카페루소캣', '차오름와이에스', '커피투어', 'LILT', '맥켄지', '보나파이드커피', '도무스커피점', 'cafePINKHALL', '세컨드페이지', '토기장이집', 'coffeeroasting', '카페베이트리', '아고라커피', '훔볼트', '졸리앗커피', '55커피', '힐링앳티파니스', '북까페산책', 'CAFEDELCIELO', '파이브센스', '꿈북카페', '커피앳웍스이대', '커피유', '에스파냐', '스타벅스양천향교역점', '모리나리까페', '이디야커피디지털미디어시티역사점', '이디야커피도봉산역사점', '페니커피로스터스', 'CoffeePOP', '이연에프엔씨지점카페씨엘', '쥬씨동덕여대점', '스타벅스명동미래', '커피테크', '웨슬리커피앤티', '브라운하우스', '오설록', '쥬씨먹골역점', '비-사이드', '르씨엘', '홀릭앳홈', '다쿠아랑', '투썸플레이스서대문KT&G타', '권자Kwonja', '머꼬머꼬', '커피바운드', '폴바셋커피', '빅머그커피', '스타벅스세종로점', 'dab', '카페595', '시트론오피스', '메가진카페', '샤띨리옹', '더착한커피신촌점', '아이원', '최강커피', '스타벅스학여울점', '등촌아리스타', '붐베이직', '카페힐', '커피공방', '호야커피', '모던바이츠', '홍익미인석류연구소', '카페안토니오', '오색티카페', '탐앤탐스1호', '포도나무', '엔젤리너스미아삼거리', '카페데로얄', 'INTRO', '카페블레싱', '커피인커피', '클럽핸즈', '비전스토리문화까페', 'GE4ECOFFEE', '고관한복촬영소', 'CafeCivet', '랩', '7月1日', '스타벅스삼성교점', '쁘띠올리브', '커피식스주스식스', '카페라떼떼', '카페자작나무', '정인카페로뎀', 'Mrbkcoffee', '카페낀디오', '크리서스커피', '또아', 'CAFEGUMAREON까페구마리온', '난만', '쉐이크', '더빠니니', 'Coffee&Bakery', '벨뷰', '카페루루', '탐스커피앤푸드', '엠커피', '구대회커피마포', '코나카페', '메가커피서울대입구점', '카페바운스', '스탠딩커피4', '스탠다드플로우', '하루', '365차버블티', '스타벅스월드컵경기장점', '카페프렌즈', '바이림', '발코니가든', '카페브론즈', '커피현상소', '카페옹끌', '고디바아모레타워', '커피썸', '가루', '빵사부식빵공장', '태양다밥', '꽃카페프리플로', '원더커피', '베아뚜스카페', '카페초코빈', '멜로워', '벨젬', '카페심플리굿', '카페바니1995', '블루오파스타카페', '카페쿠모', '폴바셋구로G밸리몰점', '작심스터디카페', '허유산', '군바리스타', '다락', '밀르몽', '플랫빈', '소월길커피', '동빙고다방', '카페포유', '커피몽', '하니하우스', '해피콩', '마소커피', '착형', '어반커피', '커피앤제이', '키스더티라미수신당R&D센터점', '나진카페', '코나커피', '카페토스피아', '카페에', '모모카페', '바빈스커피문래점', '레드엘리펀트', '할리스커피종로본점', '머린', '커피씨', '카페위드', '더오색', '대건상회', 'PRANERNcoffee', '오슬로', '플라보', '스타벅스가산디지털단지역점', '카페더블유', '아꼬떼', '해머스미스로스터리', '밀스톤', '더착한커피신월점', '루브앤카페', '카페알로', '삼맛호오떡', '금호아시아나본관커피숍', '젤라떼리아에따', '이브다방', 'acafe', '투썸플레이스,콜드스톤크리머리반포래미안퍼스티지점', '금호커피맥주', '아모르', '스타벅스양천향교역', '새얀', 'EGCOFFEE', '에피소드', '로타리다방', 'SaintPaul', '20스페이스', '커피드리즐', '투썸플레이스공덕헤링턴스퀘어점', '호밀밭의호두꾼합정점', '바르바커피', '원희다방', '레인보우6', '언더그라운드', '이랜드파크외식카페명', '카페라비다', '카페마마', '청소년휴카페꽃다방', '놀숲북카페', '카페라푼젤', 'cafedeJura', '까페다', '오플로-서울커피', '금경에프엔비', '탐앤탐스난곡사거리점', 'NARINO', '투썸플레이스코엑스메가박스점', '보나비아티제일원로비점', '커피숍', '커피가좋아3S', '주스솔루션', '휴카페', '달달보드레', '작은카페', '커피니덕성여대점', '쥬씨송파역점', '까사델리', '하이제씨', '커피클릭', '카린', '베르타플라워&카페', '커피,한송이', '스타벅스종로평창', '투고커피박스', '폴라커피', '바리스타마르코로프트', '타맥', '고츄러스', '홍남다방', 'CAFEDURIP', '공간PC방', '벌스가든', '커피기술', '밀앤빈서초직영점', '이디야커피점', '세컨스텝', '다같이카페', '카페베네서울대역점', '미니까페', 'GABO', 'ESPRESSOJIN', '병만이생코코넛', '알에이치카페', '데일리그라운드', '유니버셜커피', '스타벅스신천역점', '웨잇어미닛', '앤스카페', '스타벅스커피신도림디큐브시티2F', '닛시카페', '카페단지', '카페라쿤', '펙그로서리,커피', '앤드하리한남', '커피랑쥬스랑', '엔제리너스푸드앤다이닝', '지하로카페', '오페라빈커피공방', '칼라커피숍', '엔제리스커피', '쿠오레에스프레소', '엔제리너스강남역사거리점', '허바허바', '이호다방', '언클후니스', '레몽즈', '탐앤탐스송파위례점', '자연의길경복궁역점', '히읗카페', '이카페', '소문난사주카페', '맹쿤', '커피볶는카페지팡', '카페그라우', '두커피', '스타벅스구로디지털타워점', '커피빈코리아방배역점', 'Murmurdemargem', '가배두림', '오복다방', '일리카페지엔코점', '드마린카페', '스탠딩커피3', '본푸드서비스조달청카페일마지오점', '티앤톡', '킹조지', '경향다방', '커피보스', '지간테커피', '브라바아트뮤즈엄Bravaartmuseum', '커피여기!', '카페싱그러워', '위넌스터디카페', '두레차', '열두바구니창작공예', '크레이지초코', '데이트카페', '비늘', '초대', '놀술', '리디아', '씨132', '더올리브', '해피데이도봉구민회관점', '디어파인', '영앤핀치', '커피립몬스터', '스윗레시피', '쓰임', 'M플레이카페구의점', '씨엔티코리아', '작업실', '스킨디빌리지점프카페', '카페자스광화문', '카페오아시아떡찌니', '지니스빈', '언노운커피9', '샌드위치&커피', '씨케이유통', '그라노반디', '카페타타', '카페컴온', '커넥트투', '동산손만두', '손탁커피공방', '로즈버드', '카페알토', '카페앳', '스피드커피숍', '쥬씨신대방삼거리역점', '핑크도그핑크다방', '카페오스', 'HotelDouce오뗄두스', '카페투니온', '스타벅스올림픽공원남문점', '커피볶는집낙타', '밀집', '선릉마실길', '베네딕트영', '노아더네임', '커피베이강서공항점', '마더스커피', '파르나스코엑스카페', '밤부', '모노치즈북촌점', '덕수궁리에제와플', '모카향기', '와플앤커피타임', '쥬씨신도림디큐브점', '대한다업필동티카페연구소', '동네카페고커피', 'CRACK', '플라페', '폴라리스', '공간만화카페', '마르하바', '종로서적휴게실', '랫미커피', 'cafehill', '커피조', '파운드로컬', '맥애덤스커피코리아', '스시마이우강남역빽다방', '바오밥나무', '스타벅스낙성대DT점', '달달해', '에셀카페', '카페더파크', '할리스애프앤비', '버클리쿠키', '엔제리너스라붐아울렛T/O', '소호디자인르미엘커피교', '플러스카페종로노인종합복지관', '커피빈코리아서초역1번출구점', '커피베이용두점', '위드모리Withmorrie', '엔에스파트너스', '소셜테이블', '현대', '나무카페NAMUCAFE', '리쇼드남서울점', '드림키퍼즈협동조합', '카베하네커피공방', '일이COFFEESHOP', '경스커피', '펭귄카페', '카페와플대학명일캠퍼스', '에덴커피', '이니그마', '용호야채곱창', '샤론', '커피사피엔스', '카페다이렉트', '삼선차', '역전우동&빽다방', '스타벅스서울교대점', '카페처음', '티마', '황생가', '메머드커피', '리즈카페', 'COFFEEDECO', '탐앤탐스대한항공서소문점', '쥬씨마포구청역점', '이디야커피한강공원로점', '카페러빈', '커피코트구로벽산7차점', '자작나무이야기', '텅', '파스텔드나따', '곰스603', '카페코지또', '감초다방', '아이드라이브공차', '알라딘중고서점커피', '디노월드전쟁기념관점', '커피퐁당', '용휴게소', '매머드커피강남대로점', '카페라제스', '카페설기', '윤스', '언노운커피7', '스카이래빗', '카페사뚜', 'cafedeM', '너나들이', 'LaundryProject', '바니', '캐스카페', '우리커피숍', '초코바리스타', '스모킹카페', '카페쥬빌리', '커피모네', '로즈버드고려대점', '이디아에스프레소', '마을사랑방솜씨', '롯지', '브링미커피컴퍼니', '빈브라더스', '카페돌', '애로우팩토리양궁카페', '아소프로아', '모모공방&카페', '달콤커피여의도더디자이너스호텔점', '도프커피로스팅랩', '청복보이차', 'MOONCAFE', '아로마까페', '카페꼬미', '카페락앤락', '제뉴어리피크닉', '카페피렌체', '카페인중독도림점', '빈스앤코퍼레이션', '창조의샘', '제일커피숍', '카페베네독산역점', '까페뷸라', '폴바셋디타워점', 'caffeforesta카페포레스타', '소셜카페', '떼루와본사', 'PARRACAFE파라카페', '플러드엠', '강남오토스퀘어', '프루토선릉점', '카페모빈', '스타벅스강남우성점', 'Boyacoffee', 'cafeFelice', '제이미커피', '제이스', '팩토리커피', '오설록현대백화점목동점', '브로스', '카페쏘도베', '커피나무아래', '주스라이프', '헤일빈스', '후식상봉직영점', '그랜파키친', '역전우동구로디지털역점', '에벤에이치할리스', '카페베네마인츠돔강남', '딤테크', 'CNNTHEBIZ', '카페그라치아', 'Aboutespreso', '르땅커피점', '카페키플링', '카페구로', '민트레빗', '커피빈코리아삼성오크우드', '세븐스웨이브성균관대점', '카페알롱제', '비치s커피집', '프리모커피', '카페틔움', '어라운드독', '요리카페쿠치나', '씨타델커피', '비터스윗', '데일리쥬스', '방배동커피볶는집一梨', '작은커피숍', '폴바셋코엑스몰점', '빈앤클랑대치점', 'Cafe잉거독산점', '랭스터디카페', '브라보커피', '나비', '매머드커피잠실루터회관점', '해리피아', '커피앤솔티', '커피빈코리아국기원사거', '에이티게임', '몰리바', '카페테리아스테이션', '카툰앤북카페놀숲', '다솜채', '카페하이몬드', '커피밴드', '까페띠아모', '오스코네', '다과상사', '카페모인', '고대북카페', '할리스커피청계1가점', '소마', '커피락', 'CJ푸드빌투썸플레이스', '블루펄호텔커피숍', '사군자커피숍', '또또커피숍호프', '코코버블티여의도점', '커피와문화', '커피앤스모킹', '자바카페', '정성담음', '써브웨이', '그다방', '카페피티', '동병상련', '연수커피', '카페드비', '와플앤베어', '커피사', '떼루와떼루와답십리점', '카페모퉁이', '포스유', '레트로시티커피로스트', '커피코트문정테라타워2점', '미진', '세븐일레븐', '비티엔카페', '언제나커피', '카페난난', '삼화', '스터디카페', '투썸플레이스종각역점', 'Cf', '장수부띠끄', '허슬블렌딩', '가영', '카페유', '에스프레소6230', 'Foicoffee', '빌리엔젤강남', '현커피', '쥬씨서일대점', '노유민코페', '힐링카페지유', 'JEJUICE', '카페N258', '신일다방', '바운스트램폴린파크', '커피에반하다신림역점신림역점', '까눌레드꼬레', 'PaulBassett', '크런치오븐개포점', 'BlessingHouse', '고이서촌', '카페밀도', '차중의차', '더블에프앤시', '원빈', '코즈모갤러리', '카페레아', '쥬스토어', 'creativebox', '커피나무먹골역점', '아이러브참', 'CAFEBOM카페봄', '카페베네서남병원점', '뉴코피커피', '커피빈코리아상봉역점', '카페앤갤러리', '스타벅스서소문배재', '마고카페', '림벅와플서촌점', 'CAFECODE', 'BORDADO', '나인커피로스터스', 'e-그린PC&푸드카페', '팬도로시서울여대점', '거기coffee', '쥬씨중화역점', '헝그리덩키', '코코엔허', '델리', '치킨라떼', '도투루커피', '더컵스', '까페뀌에르', '태미스', '커피체리까페', '탐엠탐스', '파빙목동파리공원점', '마할로', '컨시어지커피', '아이스크림', '손다방', '커피빈코리아도곡동지오빌딩점', '탐앤탐스서울대입구점', '커피할루카', '커피넘버2COFFEENo.2', '페이퍼북', '카페우디', '카페앤아더', '카페소소', '에싸임', '보나비아티제상암', '까페코이노스', '뽕다방', '브루브로스커피', '메가커피우이동점', 'liikecoffee', '맷차', '카페르프랑', '좀비커피', '카페로올봄', '커피그리다', '소통과공감센터', '귀젤커피', '애플블러썸커피', '플러스골드', '카페비즈', '영상다방황금단추', '굿에스프레소', '그라제난닥스', '중앙', '루앤로', '앤드류스에그타르트이대점', '선길', '리틀브라운', '스타벅스커피가산그레이트', '스타벅스서울대입구역점', '카페화이브', '설화랑', '라떼떼관악신사점', '어느,예쁜날', '카페아네', 'CNN카페세빛섬점', '바글', '코미코미', 'JUNCOFFEE', '미초', '카페칼라풀', '브이아이피커피', '한양대그라찌에', 'imtcafe', '푸드카페보메', '빈스빈스커피이대점', 'MEGACOFFEE', '빽다방강남소망점', '리치망고', '커피볶는Mr.김영다방', '리필커피', '빈트리200.25', '자바시티', '커피8온스', '카페하임', '메핏커피숍', '커피나무길동점', 'CAFEJUICY', '쥬씨종로종묘점', '완나카페', '커피미업', '카페컵', '현미마을', '스타벅스종로관수점', '매머드커피본사', '서룡씨앤케이코와핀종합운', '105카페이태원점', '스칼라티움', '글로리아진스커피', '카페아레아', '두블르쥬', '신림곰미커피', '포르자카페', '고디바눈스퀘어', '커피박스', '바치오커피', '망고식스', 'dal.komm', '포엘스', '카페드세라', '믹스앤베이크', '알렉스더커피', '다빈', '커피빈장안점', '알랙산더501', '믹스', '주다르', '캠프다비드', '라떼', '파리크라상잠바주스디큐브', '서드포지션카페', '그라찌에경기대학생회관점', '명물다방', '시발점', '빽다방종로관철점', '이디야커피개봉북부점', '헨델과그레텔장충점', '카페안다미로', '퓨엘앳센티넬IFC', '술마시는까페', '카페7그람', '조앤더주스교보', '올어바웃카페', '커피원두도소매', '카페IN', '라벤다플라워', '베네디체레', '젤라리소경희궁자이점', '아모레', '쥬스식스', 'CafeDD', '5BONG', '아더커피', '카페아트', '서울커피', '휘드까페', '가배연', '해리스커피', '르푸', 'tea.n', '커피볶는카페수다', '컴앤드씨카페', '빽다방명동중앙우체', 'PEBBLE&ROCKCOFFEE', '경계선', '카페래빗', '양이양이', '탑클래스커피', '베버리지랩', '코네카페', '카페디자인', '랄라', '떡다방', '공상카페', '올다커피', '카페오기', '뮤르뮤르', '베러덴와플', 'coffeeplus+', '아티제중앙일보점', '경문', '로코민트', '커피랑', '길', '보그너커피', 'EPICCOFFEE', '폴바셋신세계본점', '명인명촌마심', '쥬씨강남구청역점', '투썸플레이스광화문점', '서정적살롱', '스테이보드게임카페', 'SGARDEN', '마플리MAFLI', '스타벅스W-MALL점', '카페컴온광화문점', '랄랄라커피', '카페베네화곡중앙점', '아프리카스퀘어', '매머드익스프레스외대점', '카페줄', '커피커피플리즈', '커피팡', '탐앤탐스목동예술인센터', '탭플레이커피', '버블티킹신촌점', '지브릭커피', '아이커피샵', '세븐몽키스커피', '메이랩', '노아스', '쥬스에게청혼한과일', '카페샌드앤푸드', '로나', '고티카페', '쁘띠아르브르잠실한신점', '빈틈', '아이니드팩토리', '커피코트상암', '크라스플러스독서실', '스테이모어', '씨앤지풀서비스흥국제선점', '올리비아커피', '식빵은여기메가커피', '메가박스', '샤빌레', '카페두센트레', '탐앤탐스화랑대점', '못잊어', '헬로티강남', '이에스티디2017', '키노빈스', 'DCOFFE', 'SWEETBean', 'EllysCoffeeN', '맑은상회에프앤비', '카페쿠헨', '노유민카페', '테크엔원', '멜팅팟', '더빅', '카페베네금호점', '카페플라티', '커피주전자', '제노피씨카페', '커피어라운드', '카페딜리노', '더착한커피서울시청점', '레드캣', '커피맬러드', '아이리쉬', '문래동의커피향기', '비플라워카페', '카페모우', '그리다꿈숭실대점', '커피온리&팔공티', '파크카페', 'coffee34thST.', '티모시스커피코리아', '낙엽커피', '프리젠트', '카페디어빈', '79THELAB', '위플래이스', '압구정북카페', '금고양이카페', '율리커피', '커피타임즈', '본까스', '비에이블스터디카페', '카페피움', '고고스카페', '쥬씨영', '디자이너스라운지', '로팸', '목카페', '커피스테이지', '커피나무필동점', '반머이', '공장', '네스카페', '카페노킹온', '벨롱에스프레소', '도기푸', '시얀', '541CAFE', '카페팰리스', 'TOBIAH', '푸드카페퐁당', '카페보자르', '이디야커피경희대점', '해리스', 'COFFEEUS', '마리몬드라운지', 'NorwegianWood', '스미스바니스페셜티커피1호', '아리스타커피영등포구청점', '쥬씨송정역점', '카페비쎄븐', '카페이니그마', '마고이어라', '206COFFEE', '엔제리너스강남역점', '셀렉토커피성수하이엔드점', '포춘', '카페514', '카린홍대라운지', '카페카자드지나', '프로포즈', '할리스커피여의도', '화곡동커피', '스타벅스삼선교점', '장르', '무민앤미', '카페판타지오', '롯데리아엔제리너스건대시네마', '카페포르', '고마켓', '피스북스', '롯데리아엔제리너스연대', '홈우드커피', '하루카페', 'caferainbow', '한누리', '케이원커피', '로뎀북카페', '카페더샌드위치', '히코코서울역점', '그라피', '욜로스커피', '오가닉라운지', '롯데푸드파스퇴르밀크바', '비전스트롤', '파이하우스', '왓더독', '헤세드커피공방', '갤럭시펫강남점', '프레시홀릭', '아티제송파아이파크점', '엘로이', '슬리퍼456', '오늘도고양이', '커피휴', '에이카페', '백스커피', '우성', '서울푸드앤씨', '매스커피', '스타벅스명동역점', '롯데리아엔제리너스강', '폰앤카페', '지유명차', '아체커피', '까사커피', '모토빈', '마실ing', '칼레오커피', '카페갤러리원', '대만락카스테라', '생명나무', '동그라미카페', '오케이커피', '우주카페스텔라16', '리얼메이드카페', '마체베트카페노량진점', '미도심', '커피카파', '야쿤커피앤토스트', 'MAMAS', '카페그레뱅', '카페란스', '크레페드림노량진점', '카페꽃집', '스코프', '에스프레소0039', '엠티시스템코리아', '두잉나띵DOINGNOTHING', '커피빈코리아오목교역사거리점', '카페인디', '키쏘커피대치점', '비엘에이커피', '낭', '제이쿡카페', '오마이팟', '아로이', '까페렐리', '까페데베르', '영우한양대학교커피점', '경봉다방', 'Craftbeerhouse', 'coffeemadame', '끄레마', '낙랑파라', '떡담까페', '백산가', '까페고센', '커피공화국', '체리블로썸', '콩스', '말리카', '아벨라', '더빈스11', 'ave커피', 'CAFECHACHALAMO', '달달', '데일리3커피', '디앤비', '굿모닝커피', '오설록티하우스시그니쳐타워점', '광전다방', '스타벅스약수역점', '라이브카페7080삼태기메들리', '92욜로', '카페50', '갤러리카페', '은성', '카페브와송', '로즈버드디저트카페', '엠케이투', '할리스커피베네시티점', 'JLDessertBar', '카페하나비', '컵앤커피', '커피볶', '878coffee', '송스커피', '꿈을담은커피콩', '픽셀카페', '오페라빈', '자모크커피', '로즈버드테그아웃', '량원카페', '달콤스타', '코코써니', '라우렐', '북카페산책연남점', '동건스', '커피박스커피전문점', '다온', '펠리체가토', '영등포', '대왕통카스테라', '쥬씨냉천동점', '카페하비', '콩툰', '몰로컴퍼니', '쥬씨사당역점', '카페윤언니네', '휘카페노원', 'VIP커피숍', '꽃샘커피', '모던팩토리', '디저트올마이티', '까페자스민', '투썸플레이스굽은다리역점', '커피몽드', '보떼가젤라또', '카페마마스코엑스점', '석굴암다방', '커피앤컬쳐', '굴리엘모커피', '온기경', '카페마마스강남역점', '에어건빵건대점', '망원동티라미수', '커피디지독바위점', '추억속의그다방', '쥬씨', '커피앤썸', '카페GLAD', '엔터타로', '도우넛카페', '노아이', '스타벅스남부터미널2점', '프티페티', '미스터힐링', '한꼬집', '테라하우스', '디얼브라운', '마마커피', '카페오아시아', '에쉬본', 'CAFERE:', '마이웨일', '쉬라이크스커피', '퓨로커피', '팜코트', '홀릭카페', 'Teastory', '더쌍화', '투썸플레이스국립중앙박물관1호점', '영우홍익대학교매점', '롯데리아엔제리너스잡지회관', '일바리스타', '콩아의카페공간', '바까날레커피전문점', '커피주아', '쥬씨압구정2호점', '비에스마르첼로', '까페워크샵', 'Roiyu쥬스', 'JOESBASCKET', '세번걸이카페', '카페LN', '카페스콘', '김종욱커피', '필로커피', '보일스커피', '원제커피', '스타벅스이태원거리점', '카페씨어터', '토프레소고척점', '우희다방', '러블리커피', 'TUICAF고려대점', '나따오비까', '카페미아미고', '카페비엠엠', '카페몽', '커피빈코리아트레이드타', '디저트39역점', '파머스빈', '엠앤디', '올리버브라운카페', '대박이네', '커피데이', '카페보카', 'dollacorte', '할리스씨앤아이', '카페밀리그램', '카페슬로우', '아르케', 'W카페', '탐앤탐스길동점', '추억의7080&다방', '카페브릭스', '톡앤티', '오가다', '바리스타마르코영등포경찰서점', '돌커피숍', '빈스&멍', '커피집오후2시', '갓볶은커피', '카페언더바', '즐거운찻집', '카페데베르선릉점', '카페로비', '카페오븐', '마피아커피동평화상가점', '티파니', '한일다방', '퍼스트클래스롯데청량리점', '꼬꼬마', '피러팻', '쥬씨역삼사거리점', '매머드커피익스프레스', '다라온', '406THSTOVES', '공간을만드는사람들', '베리트커피', '인디커피푸드트럭', '크리스마스자몽목동점', '이름없음', '커핀그루나루대학로점', '일오공', '바이탈', '커피갤러리', '후르츠마마', '아리스타커피등촌점', '승화산업동국대점', '홈스테드커피', '라라브레드', '망우산자락', '일리노', '커피생각', '뷰코', '지비와이컨설팅', '다향', '카페젤라', '벨루토커피숍', '청춘고양이카페', '빅다방', '그릴드치즈', '하나커피', '고푸다', 'HELMUT', '카페데베르', '카페토크', '커피볶는집시다모', '카페곰퀼트', '전광수커피랩', 'CJ투썸플레이스', '한방좌훈카페', '자양커피앤맥주', '카페아로파', '올리버브라운여의도점', '선다방', '돌샘', '카페메죠', '쥬시버블낙엽점', '커피오즈', '커피코트문정H비지니', 'coffeethyme', 'COFFEEPOST', '커피코트가산그레이트밸리점', '할리스커피에벤에셀점', '스타벅스신촌점', 'SANDYLANE', '플랜브이', '모토라운지', '쥬씨문정엠스테이트점', '소극장', '정커피숍', 'w카페', 'ALICAFE', '다희연가', '북카페서원', '굴리엘모역삼역점', '프로젝트얼스', '우리동네라운지', '카페2977', '쥬시생과일', '센티모르커피', '펠리체', 'Thegreycoffee', '라이트미', '커피니역삼점', '포트오브모카장안2호점', '세라&로스터리카페', '고고스찹쌀떡', '플로워', '지디패밀리', '부엌이있는카페', '유한테크노스커피프린스', '코코브루니사당점사당점', '카페아드망', '마주보기', '타르타르송파점', '말랑말랑슬라임앤폰데코카페', 'GOURMETdeCOFFEE', 'CAFENOA', '노스페이스', '월드컵공원별자리카페테리아', '잡동산', '카페마조앤새디중계점', '세인트존스', 'cafeEIGHT.TON', '아지트카페', '커피빈코리아양천향교역점', '이퍼스', '아름다운커피', '콩스커피', '블루하임', '아랑', '프렌치마켓', '미어합정점', '커피빈코리아위례2차아이파크점', '카페시벳', '일공일커피', '신성', '푸드까페다와', '리앤베이크', '수', '타르타르', '몽당', 'CAFEIN', '투썸플레이스서울대역중앙점', '메종카페', '까페린', '투썸플레이스개봉역점', '도피오카페', '카페더블', '킹카페', '커피더맨', '라미으리커피볶는집', '나의작은식탁', '아티제잠실타워730점', 'DILUTE', '커피엠비에이아카데미학원', '카페작은마을', '품어주는카페', '아이스프링커피', 'SEE2카페', '524', '커피라움', '언니네다락방', '클래식플라워까페', 'REALCOFFEE', '뉴푸드유통', '까페10그램', 'coffeeblossom', '모노치즈연신내역점', '카페도담', '5번출구', '리스펙트커피랩', '카페엘', '브룩스빌커피앤티', '마곡타로마님아카데미', '아메리카노', '카페티라수', '36.5도여름동쪽점', '앤츠', '오르페오', '셜록홈즈', '아이엠카페', '헤르아', '통인동커피공방신촌로스팅라이브러리', '펀비어킹', '카페다미안', '갓구운커피7', '카페드비반트', '리빈코리아갤러이아포레점', '모눈', '마일드', '60STCOFFEE', '카페소고', '대학로흑백다방CAFE', '양과자상점', '금요일다섯시', '만모커피', '삼성웰스토리대우접견실웰스토리카페', '서울에서첫번째로잘하는한방찻집문래점', '캐시아커피하우스', 'coppercoffee', '에스프레소로이', '비욘드커피', '매머드커피익스프레스노량진점', 'Sarah&Chois', '디스프루따', '그라놀로지', '웨이타미하우스', '엉클빈', '옷다방델리아', '익스트림커피', '생생과일', '위드아티스트앤컴퍼니', '까페팰리스', '큐브', '왜이렇게즐거운거지', '달달한오후', '커피앤바닐라', '카페필름포럼', '리베카이', '앨빈커피', '스타벅스건국클래식점', '부일이디야커피', 'SIMPLE', '까페블랙펄', '주커피고척점', '카페4925', '카페미스코리아', '카페게이트', 'BC800COFFEETEA', '피어커피1호점', '중앙다방', 'EDIYACOFFEESHOP', '스터디101', '커피테이크', '동궁다방', '우이동커피가게', '맥심플랜트', '밀탑빙수,커피', '마리S케이크', '카페오도르', '에스프레소', '요거프레소길음뉴타운점', '블럭캠퍼스마곡', '허유산코리아', '브라운카페', '레즐리컵LESELYCUP', '에떼라이브카페', '일상다반사', '커피더쿠', '엘림스토리', 'BUBBLETREE', '하루에', '슈가링스', '세브웰', '밥스타', '커피인트로', '카르페디엠', '요거프레소신도림푸르지오점', '대청토스트', '이안커피', '카페10PM', '카페73', 'SECRETCOFFEELAB', '카페유어스', '타이거에스프레소', '커피빈코리아선릉로93길점', '드림스페이스', '오블리비아테', '니들누들', '미즈스타커피', '슬로우', '카페보쿠', '카페도란도란', '카페ONDA', '스타벅스신설동역점', '렛츠빈', '아르떼', '프랑스에다녀온붕어빵', '예뜨레', 'COFFEETHE.R', '투썸플레이스답십리사거리', 'WETRUSTCOFFEE', '소반', '놀숲고척점', '반포동커피', '투썸플레이스묵동자이점', '옹달샘', '카페티모르', '르마들렝', '나비스타', '더커피', '자양다방', '커피마을', '영잘아북카페', '카페리시오', '쁘띠꼬모', '을지로사이', '토리노', '라보이떼', '토토카페', 'JS커피', '커피빈코리아올림픽공원북', '빽다방방화사거리점', '달.달커피', '스트라다로스터스', '탭플레이롯데월드어드벤처점', '커피나무학교', '커피체리빈', '스타벅스역삼역점', '카페로얄', '비마이플라워', '이디야커피마포KCC점', '브레드앳홈', 'onechu', '카페공방해밀', 'coffee&kitchen', '쥬고', '유니콘', '목련다방', '파이브에비뉴', '엔제리너스', '무티', '지트', '호감카페', '미선이BAR', 'TABLE88-2', '카페식스틴', '캐리키즈카페', '쥬씨서울대입구역점', '보뚜슈퍼푸드까페건대', '세잔', '노아커피', '예감', '커피더', '산다방', '이삭토스트', '트레프푼크트', '트리밍807', '노스페이스카페MYEONGDONG', '인컴솔루션', '하우스칼라', '파스쿠찌테크노마트점', '스프링블룸카페커피수점', 'Bella-Bellocafe', '카페오아시아사회적협동조합', '클로리스티앤씨', '카페리맨즈', '스타벅스커피신도림디큐브시티B2', '메가커피', '에이엠쓰리', 'bluetable', '캠토', '꽃커피', 'OvenDays', '이지인스', '약다방봄동', '커빙', '누쿠이커피팩토리', '다향전통차', '인광로스팅커피', '서울다방', 'BOY사주카페', '더카페36.5', '카페레니', '상파울로', '카페앰핑', '깡통카페', '마이파티룸', '탐앤탐스중랑구청점', 'cafe.달보드레', 'THECOFFEEHOUSE', '오직그대만', '갤러리83', '반지만들기대학로본점', '투썸플레이스삼성', 'B.ratio', '아멜라떼', '쥬씨광장점', '파스쿠찌커피', '비니비니', '투썸플레이스CGV상봉점', '3안', '리치빈스커피', '아워홈서울의료원점업타운', '다올', '앳오피셜', 'Gueren', '카페베네마포도화점', '카페빈스', '카페에마미', '독립문커피', 'cafeVIACE', '미커피', '다크브라운', 'CAFEVERONA', '꽃카페JE', 'CafeHIAZO', '이리카페', '퀴클리', 'LOTTYSCAFE', '엠오리진', '원효로커피', '컵안에버블', '스튜디오27', '노란코끼리', '몽마르뜨이대로라이브카페', '카페원두', '라운드브릭', '크눌프커피', '까페3.14', '카페아눅', 'BNHRCOFFEE', '내생애에스프레소', '죽앤카페', '모모랑', '행복추풍령카페베네직영점', '씨투', '커피부스', '카페.사부작', '카페제르보', '요이5', '그레이커피', '더즌', '희차코리아', '구할구', 'JACKTTSBAR', '카페담', '셀렉토커피마포구청점', '콘크리트108', '이디야커피자양사거리점', '강정이넘치는집', 'COFFEEBAY', '시티보울', '커피인류고덕아르테온점', '케이375', '아이엠.카페아이', '스타벅스공릉역점', '333', '떡카페아리랑', '웨일즈커피', '말리', '커피에반하다잠실고분로점', '커피당4310', '취영루', '더테이스트빈커피', '쥬씨굽은다리역점', '마이시크릿메이트', '힐', '디쉬룸바이도레도레', '라운드렉탱글RoundRectangle', '키즈카페폭스맘', '바리스타마르코마곡엠벨리점', '3샘파트너스', '셀렉토커피양재극동점', '나비컴퍼니', '크림사주카페', '커피마시는인형', '폴바셋현대모터스튜디오서울점서울점', '작은별카페', '카페S프레소', '노리터', '프랭크', '삼성웰스토리그레이스타워웰스토리카페', '바나나토크2', '카페아루밍', '치즈케이크', '브로스버블티', '로컬카페', '카페호메이', 'CAFEKOHI', '카페그램', '양재천커피볶는집', '카페모니에', '카페솟대', '씨위드커피', '로타리커피숍', '콜롬비아스페셜티커피', '투썸플레이스동서울터미널', 'CAFE.W', '셀렉토커피안국역점', '다몽헌', '쇼앤톡카페', '베로키오커피', '소양다방', '커피나무이수로스팅하우스', '서나커피앤타르트', '그레이스커피', '바리스타마르코엔아르케점', '앨리스커피하우스', '카페리빈', '메이제이카페', '스타벅스종로3가점', '대학로와플', '만돌다방', '커피벨', '가스펠', '피어커피로스터스', '어반레빗', '이씨엠디천재교육R&D', '커피스누퍼즈', '알레소커피', '율리아청', '아이언', '엄마손슈퍼', '프랑켄모노카페FRANKENMONOCAFE', '뚜또', '에셀나무', '끼룩', '세르비찌오카페', '커피빈대치동나무병원점대치동나무병원점', '디디스고프레', '씨앤오코리아', '비비엘프로젝트', 'TOBIAS커피', '아이스바써브제로', '누죤떼루와', '제이시', 'albero', '로지카스터디카페', '헬로커피', '폴링인스노우', '타피오스커피브루어', '125coffee', '잉글블럭&카페', '하심', '오로라커피', '라푼젤', '소망다방', '카페뚜니', '벨가카페', '달콤한나의커피', '란커피', '블럭아트', '단코', '카페이유', 'cafeHoo', '포비베이직', '성북동콩집', '명동고로케32그램', '에도', '드웰러스', '카페900', '수커피', '한마음맞춤운동센터', '카페소피,콕스앤드탭스', '커피빈코리아대치포스코', '디아트', '브이알커피다', '원모어바이트', 'CJ푸드빌투썸플레이스퀘', '카페디비베스일리', '미라쥬양과점', 'BOLACOFFEE', '롤링크레페', '스타벅스대치은마사거리점', '타니아카페', 'CNN카페', '이씨씨스무디킹', '그라시아커피', '토아', '크라운커피', '닻별', '가한', '핸디커피', '이디야커피등촌동점', '오혜', '쩨', '이안', '진이', '사이앤코', '카페M', '엠즈씨드폴바셋이대점', '스트릿마블러스', '미스터브리즈커피', '예쁘다포토카페', '한앤둘', '모란', '카페요거프레소', '수무디킹롯데몰', '3.15타이완카페', '카페양화', '카페엘리스라운지', '오케이라이브카페', '싸가지', '스타벅스석촌역', '토프레소방학역점', '그린웨이브', '커피201', '카페레즈로스팅하우스', 'Dogcafebulldozer', '아리스타커피서여의', '조은카페', '아라코', '바나나다방', '후르츠판다', '엘가커피', '안에', '리부트CTC', '케이에스케이공인중개사사무소카페', '터치주스샐러드', '인터카페', '커피볶는파티쉐', '아로하', 'JULIETTE', '카페방학', 'M빌딩J카페', 'The김밥cafe', '고려대학교교육관쎄리오점', 'CafeSerre', '그린프루츠', '쉘터', '카페홀썸', '노엘', 'COFFEEAMICO', '버블티킹', '도깨비커피집', '커피를부탁해', '세인티앤엘', '에프앤비', '까페라운지', '카페빌', '리루하', 'AURAcafe', '스넬스커피전', '아마스빈행당점', '셀란세종문화회관', '스타벅스가락시장역점', '클로리스티앤커피', '카페달다', '스마일빈', '콩블랑제리', '카페효제눅', 'CAFEPAUSE', '블랙king콩', '로직커피', '도노도노제이', '카페박마담', '쇼콜라봉봉', '서서카페', '뽕뜨락카페', '커피볶는곰', '커피공방오페라빈', '카페아리에따', '마노핀어린이대공원역점', '김밥까페', '북카페리비', 'COFFEEAVENUEPUB', '커피와사람들', '열린사회엉클호', '더느림까페', '더치폴커피', '공주밤빵프렌치카페성내점', '프렌드커피숍', '엔제리너스삼성백암아트홀점', '카페정색', '라퀴송', '카페보라', '디케이컴퍼니커피휠coffeewheel', '달리는커피노량진점', '할리스', '커피비에이', '커피앤커피', '콜드스톤크리머리', '사주카페리', '장미', '모리티아', '숙녀미용실카페&펍', '카페키이로', '라운지', '매머드커피한티역점', '카페원룸', 'cafe제페토', '나인스트리트', '커피앤스위트', '티제이', '설나루', 'CAFEFLOFFEE', '사루비아', '샌드플러스', '스타벅스역삼럭키', '미카페', '엔젤인어스커피숍', '카페마나갤러리', '베네딘', '명온열앤힐링', '동아다방', '블라썸컴패니언', '롯데제이티비', '카페모모', '커피정거장', '크라스플러스스터디컴플렉스', '뉴욕핫도그앤커피', '달마이어', '닷', '약속', '이광수별장춘원헌', '에스메랄다', '케이젤라또톡', '스타럭스', '까페사이공', '덕수궁전통차전문', '코너힐카페', '미트프레쉬MEETFRESH', '커피스위트', 'RAGDADCAFE', '카페아이엠티금천시흥점', '세원다방', '스트릿츄러스', '지오반니', '토즈', '미즈컨테이너', '카페보리', '마노커피숍', '슈커피', '엔뉴까페', '카페예인', '철도공익복지재단영', '찰리스카페삼성점', 'KIMSCoffee', '아리미디저트', '대동다방', '쁠로13', '쥬씨역삼상록회관점', '마체베트', '떼오도르', '아웃스탠딩커피지향', '트루어스', '우물가상사.커피넷,HOF이사', '마노핀카페', '커피버넷', '에이엔', '로우커피스탠드', '학산테라로사커피', '쿠카쿠커피', '후아나', '라잇미', '앤마리플라워', '이디야커피약수점', '보나비아티제여의도', '커피나무방배역점', '파크15', '바리스타', '영푸드', '인테스커피', '쥬씨경복궁역점', '씽크어바웃커피', '나라씨카페', '카페엔', '셀렉토커피마곡점', '2.9샌또다방', '스위스워터커피', '까페호', '커피포에버', 'cafehan', '댓커피', '테크네', '공차어린이대공원역점', '카페런드리', '할리스커피북가좌점', '청과다방', '카사빈', 'THEVENTI', 'CATEGORYA고양이카페', '수노', '카페38애견카페', '떼루와우면2호점', '8stcoffee', '아띠제이', '파코', '까페리옌', '이상', '향수', '반지만들기홍대1호점', '휘카페', '더블랙더치커피', '요크커피', '커피에반하다중계점', '스타커피', '할리스커피굽은다리점', '빈스앤베리즈갤러리아포레점', '커피테이크아웃공장', '카페두루', '몽키바나나', '밀크공방', '메이드인카페런던', '위드커피', '커피리브레', '9cafe', '스타벅스압구정로데오역점', '할리스커피신림고시촌점', '카페드아야', '방초', '카페베네무교사거리점', '도미넌트', '라벨르', '도봉산커피', 'Andgrey', '커피만랩', '범스커피', '누스바움', '이젠', '나인어클락커피광운대점', '스타캐슬카페아띠', '그린하우스', '스타벅스홍대갤러리점', '뽀빠숙대점', '주커피개포점', '노미널', '헤쉬', '더베이크', '페라커피숍', '커피빈코리아신림점', '혜화카페', '올인어컵', '벼리스타', '커피온리건대', '무비스타', '긱스커피', '달콤', '모닝모닝', '갤러리나인티', '리트웨이', '위치커피', '빈스코리아', '인터뷰', '큐카페', '에드로쿰', '까페마또', 'BABAYETU', '푸른바다', '옥토끼더카페', '끌리앙', '호수', '까만콩나무', '이디야커피애오개역점', '블랙벤자민', '빽다방신림역2호점', '산풀잎', '제이쓰리글로벌', '카페빈둥', '커피빈코리아강남역먹자골목점', '맛남다방', 'POCOPOCO', '그라찌에스트라다', '빽다방한양대점', '커피를들다', '편백나무', '더진스커피', '김밥카페', '엔에프에어커피라운지', '컬쳐트리', '라떼떼훌랄라', '포샤인', '요모조모', '아티굿띵', '카페모넬린', 'Hannyhouse', '라페트', '에스프레소인', '금남', '큐베리', '인사동풍경이있는찻집', '쥬씨오류동역점', '귀빈커피숍', '어울림카페', '베거백', '바리스타마르코YES24', '나무늘보북카페', '코나퀸즈석촌호수점', '브루잉웰', '커피운', '카페자우랩', 'A-BRAICK', '투썸플레이스골든서울호텔점', '김수연의인생한방', '그리다꿈구로점', '커피램프', '커피과학', '카페로브', '와이힐', '착형커피역삼점', '장일커피숍', '경동커피숍', 'SuperCoffee', '부틀렉', '양지커피전통한방차', '엔제리너스커피잠실롯데월드타워19F', '아마추어', 'Y.M커피프로젝트', '라일락', 'COFFEEDOOO', '선비카페', '카페에스파니', '아름다운차갤러리', '콥스', '커피앤십자수', 'KOTSUNI', 'CONERBE코너비종로점', '루크위드커피', '지팡이아이스크림', '비스위트', '까페하늘빛', '카페하랑', '에스프레소디또리노', '쉼힐링카페', '굴리엘모', '카페안녕', '카페드림브런치플러스', '커피드슈', '비비앤줄리', '다시스', '끼니와끼니', '수카페&쿠킹스튜디오', '카페서드에비뉴', '더요거트샵', '에이케이에스앤디카페드마티네', '브리즈브이알까페잠실새내점', '테라스', '키미', '카페아이엠티숭실대점', '노박주스', '카페보니또압구정점', '자리어린이대공원점1층', '라테라세', '커피나무랩', '피오나가가져다준행운', '새천년', '검프', '모퉁2', '더퍼스트클래스', '오멘사', '스타벅스한남동점', '콩샌', '세움카페지점', '커피닙스', 'JUICY내방역', '스타더스트', '쥬쥬스', '에이치큐브', '빈스밀', '카페라파스', 'REYNARD', '이디야커피한국수출입은행점', '모카라비아삼성점', '커피베스코', '자바트래커', '청소년휴카페', 'Take#1-1', '아라바카뜰', '라티커피숍', '커피베이경복궁역점', 'Manna', '작은풀씨의꿈', '사프라', 'Cafedecen', '쟈뎅커피타운', '워커스커피로스터스', '캐츠카페', '주빈커피마에스더', 'TRAUMCOFFEE', '나무그늘', '더블루스', 'Toocoolforschool', 'DESEO', '골든라티오', '민스슬라임', '달콤커피상암팬엔터점', '에스프레사멘테일리부띠크모나코점', '카페마마스상암MBC점', '커피리퍼블릭', '아메리카노커피', '할리스커피이수역점', '제이엠커피하우스', '위트러스트커피', '민카인드커피', '그레이스케일', '애견카페바우하우스', '커피앤그릴', '돌담커피', '덤', '핸드드립리얼커피', '카페모로', '우결사주카페', '커피네이처', '카페마스터', '퍼킨카페', '정드림', '카페리빈스', '카페앤라씨', '363바이아이디어그룹', '스타벅스오목교역점', '단수이대왕카스테라', '페더커피', '투달러스커피', '카페위로', '스무디킹송파파크하비오점', '컨템포', '아뜰리에101', '카페밀콩', 'Thecoffeehouse비오는가을아침', 'DogISLAND독도', '고로케카페', '포트오브모카보광점', '바리스타마르코악쓰는하마', '에이투지카페', '로렐', '쥬씨명일동점', '커피N빙수', '컵투', '슈가크림커피', '힐링카페멘토', '아름다운세상(쉴만한물가)', '이디야커피중곡대원점', '로얄커피숍', '시월의곰커피공장', '한국커피연구원', '판다', '이디야커피신도림테크노마트', '달나라고양이', '멀리가는향기', '카페아미', '우분투', '나리당', '까페올리브+1', '스타벅스송파위례점', '쥬씨구로깔깔거리점', '우이천커피', '티렉스', '쏭다방', '홍지문카페', '카페쉘', '베러댄와플', '인투고', '배롱나무', '네이밍카페커피고', 'coffeemama', '카페데코믹스', '더블하모니', '천기누설사주카페', '카페땡스', '할리스커피테크노마트점', '몰리스펫샵', '엘리스토리커피볶는집', '카페옐로우', '폴씬플레이스', '지유명차종로점', '소현초콜릿공방', '58도C', '투썸플레이스구로디지털단지역점', '킹스커피', '스타벅스신림사거리점', '커피숍프롤로그', '보니떼', 'placeJ', '커피로드', '비쥬블랑쉐', '메가바이트', '카페블랙', '비커피', '아이코드델리카페', '보헤미안', '잭카페', '소나무길삼무곡', '카페이스턴사랑의열매점', '테라스위트', 'LEE카페', 'LSY', '카페디키미', '팔레트서울더커피플러스', '제일커피', '티라레미수과학기술대학교점', '동아커피호프', '두들커피로스터리', '쌍문동맥주다방', '더리틀베어', '카페아임', '아우트커피', 'CoffeeMAMA', '카페793', '지져스커피', '카페플라밍고', '자카페', '더플라잉팬레드', '카스쿠르트', '라심', '씨엔엔카페세빛섬점', '달팽이', '스무디킹', '브알라누아르', '카페장쌤', '감로수커피', '투썸플레이스용산트윈시티점', '콜드브루만영등포점', '새날스토리', '차유', '티티카카', '슈퍼사이즈', '커피컵', '커피가맛있는집', '지북카페', '에이지커피', '리플라이커피', '자몽카페', '1층커피숍', '카페벨로마노', '빈스투커피', 'cafscoffee', '파티세리', '와플루이', '마빙', '매카', '카페토도르', '어느하루', '크라운', '퀸', '커피만서울시립대점', '파티오', '목화다방', '어반라이프', '육.구', '라리', '그랑베네', '원효로COFFEE', '베스킨라빈스', '오렌지블러썸', '밀탑', '브람스', '크리스앤제이든', '세나', '개러지107', '주스킹', '로사퍼시픽생명연장', '이디야커피돈암아리랑점', '더쏠쏠한카페', '안젤루스플라워', '굿피플앤커피', '탬버린즈신사점', '씨즈앤베리', '쉐르본1973', 'Petfriendlycafe', '정이정', '카페촉', '스탠딩커피5', '호까이도밀크팩토리', '이디야커피신림문화교점', '스타벅스신도림점', '카페제니', '언덕위에카파', '카멜롯', '카페샤론', '카페라리목동점', '엔제리너스명동L7호텔점', '2라운드', '제이스킹커피대치점', '더라이프갤러리', '카페801', '커피체리', '더크레마', '돼지다방', '에덴다방', '스타벅스화곡동점', '용창산업영동관광호텔', '코히', '헬로카페에듀', '로켓커피', '아뜰리에에마미', '마녀늑대의발톱에빨간매니큐어를칠하다', '프랑지파니플라워아뜰리에', '원풀키즈카페', '커피뚜깡', '시드투커피고', '선유도커피집은마', '라떼밀레', '공부차', '리퍼블릭', '오롯이정성', '언더그라운드커피웍스', '이화행복', '보드게임까페오즈', 'CGV', 'MAINZCOFFEE', '엔제리너스서울스카이', '그린커피호프', '이화', '10G', '공차트윈시티점', '지인앤컴퍼니', '동호', '푸르너가든서울숲점', '스타벅스외대정문점', '메인즈MAINS', '허형만의압구정커피집', 'CF230커피', '보보찰리', '탐앤탐스한남점', '카페드루와', '아티제강남점', '커피인코나', 'CafeAn449', '구카페선릉1호점', '투썸플레이스콜드스톤크리머리', '타피올레', '고다커피숍', '커피가버먼트', '에이블커피', '쥬씨88', '이디야서대문점2호', '카페0', '테이스티커피', '참된커피', '팡또아', '이대리커피', 'MU커피', '카페오페라', '교토베네토', '마빈스탠드', 'imp', '곰발커피', '경동다방', '카페베네가양역점', '세븐몽키스목동점', '쉬즈리빙갤러리까페', '카페드렌', '요거프레소구일역점', '커피골목', '평창동전통찻집', '바엔카페앤드', '빌리엔젤신라스테이점', 'CafeDen', '쥬뗑뷔뜨', '카페멘테', '커피다이어리', '씨앗카페느티', '더느린카페', '웰유카페', '더킹', '투더디프런트', '푸르츠젤라떼리아', '오늘의커피', '스타벅스차병원사거리', '인투커피', '요거프레소마곡나루점', '행복한커피상점커피정', '지오커피', '동양다방', '투썸서초비씨카드사옥', '토프레소엔터식스한양대점', '스타벅스명동메트로', '까페마조앤새디', '플로바리스', '쥬씨잠실학원사거리점', 'AND', '현커피숍', '할리스에프앤비르네상스', 'PASENG', '커피나눔', '딥블루레이크커피&로스터스', '애프터유', '웨이크컵', '투썸커피여의도IFC몰', '맥켄지커피역점', '카페꼰띠고배봉사거리점', '류케이웨이브커피', '커피이즘', '더플레이그라운드', '마인드디저트', '작은콩', '에프씨서울팬카페', '제비카페', '도그원카페', '하겐다즈', '디자인이알', '전통찻집이담', '카페지붕아래', '설곡랩커피로스터스', '카페느림', '중촌가는길', '금농', '카페걸리버', '커피빈코리아강남역먹자', '25카츠', '잇커피', '에오스', '10카페', '나눔카페', '코코빙압구정점', '보드게임카페클루', '송진평커피', '브리즈피씨카페', '스트릿츄러스홍대영풍문고점', '엘씨엘로', '리치빈스', '쥬빌리', '호수커피', '엠엠티에이치055', '빌로우BELOW', '우리동네엄마학교', '포터스커피', '카페위', '크린베네', '판화사랑방', '브라질다방', '일야에스프레소', '트루로맨스', '스타벅스명동중앙로', '수카페', '카페류', '스타벅스올림픽평화의문점', '디초콜렛커피', '남스카페', '메가커피수색자이', '커피더주다', '콩깍지', 'JUICY', '제일스터디카페', '원킨450그람', '꾸아', '카페플레인', '아워홈카페그랑', '겸스커피', '카페꼰띠고', '22펠로톤', '카페토르토니', '오페라빈로스터스', '과수원길에피는꽃', '팬도로시세종대학교행복기숙사점', '카페나무/중곡제일시장아리청정협동조합', '알콜카페', '레드컨테이너', '황제커피', '이디야커피창신중앙점', '커피프린스1호점&칵테일', 'ZZYZX', '분식카페얌얌', '쿠드커피', '위드비', '카페필로네', '스타벅스가든파이브', '10꼬르소꼬모카페', 'YourCoffee', '뚜르비옹', '키즈카페어린왕자', '카페아리보', '그랜트', '커피베이정릉아리랑점', '카페다오', '어투썸플레이스', 'cafedyna', '더욱커피', '파나마', '로', '티나모우', '큐비틀주스', '디스이즈커피', '진포토,진cafe', 'LOOKANDEAT', '세레니티커피', '2Z커피', '커피점방', '커피라', '엔제리너스커피사당역점', '삼성웰스토리리아체생명', '블리스', '밀크앤허니마포공덕', '로내펠트티하우스', '공차석계역점', '테라코타커피', '셀렉토커피개봉동점', '95도CCOFFEE&생과일쥬스', '듀이', '광화문커피', '라바토리카페N03', '블루', 'ASHCOFFEEHOUSE', '핑크스토리', '카페넬비코로', '예당전통찻집', '리프패럿', '스페인클럽', '씨루씨1', '빈트리망원점', '스테이플392', '돌코롬', '오드리까페', 'MSCCOFFEE', '빌리', '커피829', '민속찻집', '스타벅스커피홍대역', 'Cafeit', '이디야커피문정현대시티몰점', '본솔커피연희점', '씨걸', '카페브이', '꿈꾸는씨앗', '로도덴드론', '쥬스식스이수역점', '오캄앤티', '커피빈', '낭띠발아까페', 'VRAVO', '고메베이글', '까페라함', '카페오주스', '그라찌에총신대학교점', '아울커피', '홀릭', '카페비마이프렌드', '앤커피프랑크', '카페머물다', '카페우리다', '카페라떼', '커피펄쓴김판다', '방탈출제로', '쥬시빈', '맛카롱', '할리스커피마포역점', '레이어드', '버블베어', '비스토핑Bistopping', '파니니', '영수야놀자COFFEE', '카페앤', '커피에반젤린', '카페에이엠730', 'boutcoffee', '차고카페', '카페더도어', '카페더그레이', '오목눈이', '동구전자티타임', '카페24창업센터청신점', '레몬카페', '카페하파라이', '골목카페', '남', '스타벅스연신내역점', '예술담소', '다경향실', '카카오프렌즈라이언카페', '트윈275', '메이앤토니', '나', 'Cafeespani', '공차현대백화점신촌점', '다사랑까페', '공차경찰병원역점', '카페셀란', '국회의원식당카페', '디에이치앤카페테리아', '커피다락방', '메종르베이지', 'TWOSME+', '새들깃든겨자나무', 'COFFEEONLY', '그럼피커피', '더치앤드립', '텃골', '티하우스', '카페E.M.S', '엠엠티에이치089', 'Pebble&RockCoffee', '비갠', 'Wesous', '블랙홀커피로스터즈', '편한커피', '무자커피', '언노운커피17', '카페아쉐르동여의도점', '민화랑', '커농커피', '커플팔찌만들기STAY', '송아지커피숍', '카페DHMC', '카페말로덕성', '커피프린지', '도형창작', '쁘띠므띠', '카페소싸이어티', '마이페스트카페', '핑크도그,핑크다방', '파파스토리키즈카페', '쁘띠하우스', '컴플렉스', '카페라로', '요거프레소대치사거리점', '카페안뜰', '커피스크립트', '더리터', '경성', '스터디카페애플트리', '위드까페', '샤또쇼콜라이태원점', '에이원커피', '후니드브로드카페', '숲속도서관카페', '서룡씨앤케이코와핀청량리', '시스터커피', '후니드서울치대병원카페', '에스프레소코코', '카페다바인그라이드', '베네피트', '더스터디카페', '맘모커피&펍', '모노레일에스프레소잠실삼성생명점', 'CoffeeBreak공간', '히어로', '빽다방반포고투몰2호점', '커피인', '라떼곰', '홍대더브릿지', '그립지카페', '커피볶는집바오밥나무', 'MANGOIXACADEMY', '허니네커피', '카페늘봄', '컴포즈커피마포점', '녹차원', 'Bean tree coffee', '할리스커피남부터미널', '사푼사푼', '커피파인즈', '카페다리', '서울여성공예센터더아리움', '도시보감', '클라우드9', '커피스토어네모', '아트79', '카페그린', '커피공장', '대림창고', '오로오로보드게임카페', '에떼', '중심', 'R&RCoffee', '사층빵집', '더플라잉팬블루', '서드팩토리', '슬로우가든삼청점', '까페위드', '피콜로', '카페네스카페베스트웨스턴호텔', 'cafeASILL', '콘레드커피영등포', '카마르kamar', '카페05:59', '카페칸타타', '아키커피', '원효로커피점', '로컬커피', '부미', '프레피', '드림베티', 'CAFFESOSPESO', '카페루카코리아', '램스1979', '커피시크릿', '토즈모임센터강남2호점', '이도카페', '세인트앤드류스커피', '버즈에스프레소', '문정카페', '비에스마르첼로삼성점', '커피디엔에이로스팅컴퍼니여의도점', 'TAIMDISH', 'STX', 'xoxo', '컴온', '카페로빈', '신빙고', '엔제리너스잠실롯데월드타워1층', '드롭오가닉커피', '다르다', '호반', '코코커피', '커피코트공덕롯데캐슬', '커피지애', '헤이커피', '동네목수의작은카페', '커피빈코리아보라매공원', '청마루', '할리스도심공항점2', '비8-2커피', '레이지나인', '힐탑키즈카페', '바리스타마르코공간', '청년다방명품즉석떡볶이', '얌얌브레드', '커피집', '커피소', '카페아크', '커피더캠프서소문점', '별관커피숍', 'biwon', '투썸플레이스화랑대역점', '와플클라우드', '154SooDa', '빽다방중앙대병원점', '핑크블라섬', '85번가', '까페밀로', '공원', '노르웨이숲', '코코무드', '란다방', '테이블스', '코어커피', '스타벅스상일동점', '컨테인커피', '그리다꿈미술', '카페인프래넷', '경복비즈니스고등학교학교기업', '방실방실이', '노남갤러리앤드커피', '커피몬', '토끼네부엌', 'CG5', '스타벅스명동역', '루아흐', '커피팝', '카페씨', 'CafeHUB', '신진커피숍', '카로치아아차산점', '쥬씨상봉역점', 'COFFEEDATE커피데이트', '카페하이', '코칭', '포카치노', '코레일유통커피엔스위트', '탐앤탐스한성대점', 'CANDYFLOSS캔디플로스', 'CNNCAFE한양대2호점', '이송카페포차', '1one커피가게', '노란코끼리은행사거리점', 'IL카페', '나무', '카페솔로', '호즈', '동서화랑', '베이글카페', '마이커피스토리', '풍뎅이의숲', '카페솔져', '로모커피', '메그놀리아디자인카페', '카페달토끼', 'lamp', '밀라노', '엉클빈스커피', '차타임강남점', '도노커피', '토프레소선릉역', '롯데씨티호텔김포공항점씨카페', '비안빈신설동점', '엔646', '예향', '포래빗', '행복카페하늘', '만화카페콩툰', '카페비긴', '활짝핀', '카페매화', '카페에스투', '스타벅스강남에비뉴점', 'ARISTACOFFEE', '씨즈캔디', 'ARAROASTERS', '라푸르타', '산옥커피로스터스', '커피플라넷츠', '지카페', '호밀호두', 'coffee13oz', '커피아리', '게이트31', '울랄라', '렉탱글618커피', '티마인드', '투썸플레이스광장힐스테이스점', '모노치즈카폐', 'cafeorange', '일커피앤띵', '예노', '달조각', '까페드비반트', '하와유카페104', '보틀살롱', '에클레시아', '가비1896', '중앙커피숍', '빽다방구로시장점', '스타벅스압구정로데오역', '카페품다', 'cafeIYA', '카페어반', '카페미르', 'AristaCoffee', 'thecafe36.5', '커피홀릭강정', '카페이노', '거석', '츄로101삼청점', '이윤신', '허문담', '이혈건강카페', '요거프레소건국대점', 'ELLOroasters', '플립팝', '호수다방', '문립커피', '카페파이나무', '스완', '지오캣', '커피스미스석촌호수점', '카페아모르', '뉘블랑쉬', '초록달', 'BMMcafe', '카페뮤', 'Cofeeniecafe', '히코코', '가마빈', '책읽는마을북카페', '아티제', '커피스튜디오', '지커피', '기빙트리', '떼루와중랑점', '차뜨라므', '커피29', '카페드아마폴라델리', '청운보이차', '주스솔루션CJ오쇼핑사옥점', '심리치유카페멘토건대', '다향만당', '우스블랑', '소공까페', '세븐데이즈', 'Parlorm', '그라찌에', '커피앤모어', '리더스스터디카페', 'Bear-presso', '티니위니카페', '커피드림', '티모커피', '엘카페', '애플파이', 'V45뷰티라운지', '커피하이', '프라빈커피앤데일리브레드', '빠리스타에스프레소', '신트라커피', '레드망고', '디오토스테이션', '차밍커피숍', '카페잠실다방', '커피상사', '커피베이당산하늘점', '공차명일역점', '언제나맑은커피', '라리커피전문점', '커피마마왕십리역점', '더브라운카페네스카페', '차오름', '어쨌거나1MM', '국제강화유리문전동샷다방범창방충망', '마체베트어린이대공원꿈마', 'CafeLAVIE', '메트로', 'DESSERT39', '윌리엄카페', '카페아비오', '보나비아티제신용산역점', '카페데플뢰르방이본점', '나쿠펜다', '샌드프레소', '위지안', '오늘도하나롱', '이야기', '프레드릭', '위치커피중랑망우점', 'REPUBLICOFCOFFEE', '맨인블랙', '안암다방', 'CODE101', '목', '로즈pc카페', '카페봉쥬르', '카페두립', '오엠지도넛', '그린바이크커피', '퍼블릭맨션', '까페햇츠', '베타엔커피', '비젼카페', '업타운카페세브란스병원점', '한스텝씨즈캔디', '유후와친구들', '커피프린스', '153스터디카페', '메디찌커피숍', '커피투마로우', '엣코너', '떼루와떼루와반포점', '슈퍼리치', '허니스트', '정우커피', '카페제피러스', '개미지옥', 'Cafe-H', '문스트럭', '컵', '카페브람스2층', '꽃이피움', '다원전통찻집', '레트로카페', '스무디킹이마트가든파이브점', '하니비카페', '사이베리아', '쥬씨도깨비시장점', '올몰', 'FOGHAT', '카페파쉬노', '투썸플레이스가든파이브점', 'ZOO커피전문점', '로즈버드인정병원점', 'cafelereve', '아이스크림에듀', '티테디오스', 'CAFEIMT', '로맨티카', '피켄스커피', '몽듀', 'Bro.COFFEE&JUICE', '한경헌', '오렌지힐', '모노치즈', '천재교육원Rnd까페', 'Dutch&Bean', '봉제산아래커피집', '세미콜론커피', '빵굽는카페케이', '점폴린파크', '커피볶는집COFFEEIT수', '잇파이', '개인공간', '원두커피', '홈앤라이프부동산카페', '인디오븐', '판다쥬스', '가인시루', '카작', '카페프라터', '루프테라스', '배오개', '오늘상점', '통인길커피점', '푸드까페', '어린농부딸기가좋아타임스', '비트윈카페', '카페디15', '킹스빈구로디지털점', '민트프랜트', '열정공장', '비베이글', '스타벅스신대방삼거리역점', '한나공방', '바른찻집', '놀숲성균관대점', '커피에반하다양천목3동점', '커피베이강서힐스테이트', '미싱노리터', '에스프레소부티크', '포라인스커피', '솔트카페', '쟈우스', '로그커피로스터스', '가능프라자', '하울까페', '커피&옐로우', 'SHINY', '공차구로디지털2호점', '안단단맛', '카페드브리쉘', '쥬씨녹번역점', 'EDIYACOFFEE', '아브라소', '미스터브리즈커피성산점', '후니드', '우유속에원두퐁', '에브리커피', '에나꼬레', '다인', '에스알피커피', '카페에일린', '파크279', '우리동네분식카페', '요고요고', '커피런', '유기농커피공동체', '아티제동부이촌점', '노블카페', '모나코', '푸드카페앤그릴', 'jangel', '카페안나', '델리롱', '카페글렌발산점', '딩그루', '꼬지짱', '투썸플레이스등촌로점', '엘스토리', '유니온커피마켓', '역촌동커피', '코이스터디카페', '반달곰커피전문점', '르로프드', '칼딘커피', '룩아워티WITH한삼인', '카페꿈틀', '스타벅스방화DT', '세븐몽키스', '나에게주는달콤한시간', '커피앤드힐', '일리', '까페엉클', '멜로우왈츠', 'JYCOFFEEROASTERS', '키세키', '2&3FRESH', '8팩토리', 'PitaPat', '이디야커피은행나무사거리점', '영화카페', '도담도담', '탐앤탐스회기역점', '소라다방', '더리버로드카페', '자마이카', '오늘도커피', '캔모아대학로', '스타벅스여의도점', '빽다방압구정로데오점', '엠키친앤카페', 'TBCAFE', '카페in중독', 'ARTMAJOR', '커피홍', '커피앤드향', '버즈', '명가원', '국수카페', '전광수커피', 'CAFEBOBO', '어슬렁정거장', '에이스커피', '보다카페', '모어댄덕', '스탠스커피', '도란도란', '스타벅스조선호텔후문', '카페올소', 'JAVACITY', '빽다방강남스시마이우점', '미스쇼콜라', '에스키모하와이', '펀비어킹송파구청점', 'CafeB', '라임팝COFFEE', '그라운드오리진', '투톤', '제이비커피', '커피,생각날때', '참스프링', '훗닭피자카페', '제니스브레드', '꽃피는책', '카페스윗', '빽다방이태원점', '구타오쥬스', '웨이즈오브씽', '길보드커피', '이브커피숍', '주연다방', '버블유', '프리아스', 'R카페', '더블유빈코리아', '해브언아이스데이', '보드스토리', '시럽', '이디야을지로3가', '커피마니아', '카페자리', '위너커피', '악스카페테리아', '플랜씨커피하우스', '찬스브로스', 'LENTE', '노란손수건2호점', '캡슐팩토리', '셀렉토미아점', '학', '카페더라온', '배스칸라빈스이대캠퍼스점', 'COFFEECOURT', 'cafeCREAM카페크림', '호호당홍콩빵태국커피', '뒤주르', '투쓰리프레시커피', '몽쁘티', 'Murmur', '카페알베르게', '청운동콩집', '터방네', '카페안젤로', '할리스커피한양대시티빌점', '메가커피미아', '전한에프앤씨라바짜', '실로암커피숍', '우연', '커피이슈', '라쿤카페꾸꾸네', '허', '동그림', '크리미티', '카페알', '리필&빈', '샬레', 'MokoCoffee', '늘봄카페', '봄', '민들레영토장신대점', '커먼테이블', '카페토니', '스타벅스서울중앙우체국점', '홈스테드커피삼청점', '커피나루', '폼앤드후릇트리', '카페벗티', '셀렉토커피', '플로렛', '덕카페', '니트', '고담2015', '카페프로기', '가회동177', '카페팔롬바니', '커피플라이', '이디야당산', '118커피', '레이크라떼', '카페281', '카페아띠', '조선커피FACTORY', '굿커피', '파스쿠찌카페', '곰다방', '매뉴팩트커피', '커피쉼', '와겐커피', '헬로아린', '이더블', '안다', 'Dropp', '백상갤러리카페', 'ENVIE앙비', '카페몽타주', '라노떼', '더랩', '글로보', '코스트코코리아아이스크림스무디코너', '컵오브커피논현', '엘빈', '카페베네거여역점', '평범한카페', '아자라마', '더커피빈앤티리프', '홀리페페', '카페루이스테이블석촌점', '몽크로스', '스마일커피숍', '드레스카페', '현이커피숍', '마을북카페행복한이야기', '북한산둘레길까페', '카페베네장평점', '공차교대점', '핵커피', '가회한경헌', '단순', '상록수커피숍', '시티오브에스프레소', '동네커피', '저니', '메종드허밍', '메일라드커피랩', '까페까마르도', '빈둥백수네빙수', '아트인커피', '탭플레이홈플러스', 'GENUSCOFFEE', 'ceccoBeppe카페', '에프엑스커피', '빈스빈스커피', '엉클샘팬케이크', '정글커피로스터', '카페빅컵', '아메리카노스', '커피붕붕커피볶는집', '카페291-2', '빠넷빠베', '플문', '캔디드샷커피앤브레드', '미니스카페', '궁전커피숍', '라떼야커피', '테이크아웃', '클로즈앤커피', 'CafeAne', '커피하루', '까페아모제', '쓰리팝', '비발디', '훈스커피랩', 'cafe커피콩', '삼거리커피숍', '리이슈커피로스터스', '카페디토리노', 'DUDART', '에스프레소인뉴욕', '코피발리', '스타벅스사당점', '발음북카페', '저스트커피로스터스', 'oneweek', '올리브42', '커피팩토리', '달별해커피공방', '보나비아티제', '숲속식사', '떼루와떼루와자양2호점', '커피베이구의점', '트라이바', '카페데미', '화유플라워앤커피', '스타벅스커피마포염리', '카페줌인', '커피점빵', '엠디오', '커피섬', '요거프레소문래점', '유진다방', '카페케로', '에스프레소코아', '카페엔유', '빽다방종암사거리점', '업.사이드', '플레져디', '아침이성저녁감성', '백두강산', '커피테리어', '스타벅스마포이마트점', '카페무이', '신양커피', '스타벅스청량리역점', '아이앤맘영어카페', '도도세라믹카페', '빌리엔젤', '카페커피로', '쥬씨양재점', '씨제이푸드빌', '맑음', '울디', '어바웃커피', '마조앤새디', '한강', '지하다방', '인트로', '고마워요.오늘도', '커피는기억의끌림', '룸카페쁠레쟝신림', '태평커피숍', '에무', '커피옹녀', '뚜또오케이고대점', '설빙신림3호점', '바네스', '들꽃카페', '서울대학교자하연카페', '토즈비즈니스센터홍대점', '종로abc', '세라띠에커피공방', '종로다방', '카페예담', '던모스Dawnmoss', '스타벅스합정점', '테이블나인', '마리웨일237', '빵사부식빵공방마들점', '카페빈스트', 'hervecafe', '더카페', '달콤퐁당', '행운의집', '커피시드', '카페비기닝', '작은사치', '원슈가데이', '부동산카페', '커피네언니', '커피마시는사람들', '커피다올', '카페먼스', '카페비바', '투썸플레이스서울대입구역점', '투썸플레이스숭실대점', '엘리펀트스페이스', '퍼핀카페', '튤립코리아', '스타벅스경희대삼거리점', '서른커피', '커피휘엘', '유메미루', '카페T', '키즈커피', '엔제이커피', '프롬나드', '빈즈에비뉴넘버원', '카페이든', '릴리온커피', '심포니커피숍', '스피키지인모네', 'STYLECOFFEE', '죠샌드위치&커피', '싱', '애궁카페', '카페예지', 'Cafe.The', '케냐키암부', '헤브어바이트', '하모니앤발란스', '후pc', '루쏘커피', '캣카페양이양이', '삼성웰스토리연합뉴스커피&', '뜨락', 'COFFEEGAGE', '제일', '이비엠', '카페로플라대치천사점', '143그린라인커피로스터스', '브리진', '찬차마요커피', '사과나무', '커피이야기헬로웨일', '명선우S', 'SGS영재키즈카페', '그라나다', '샌프란시스코플라워', '애크로리소스카페드투칸', '세인트아이브스', '모로가도소울', '더설', '그린오븐', '커피빈예술의전당앞점', '랄랄라350', '더싸가커피', '그래스하퍼인터내셔널', '커피티쳐', '지노', '화이트베일', '커피에반하다<가든파이브점>', '꼼쑨', '제이앤와이카페', '문정역점', '커피베이온수역점', '커피복음', '카페57', '비피커머스', '클라소피', '내일은청춘바리스타', 'CounterCultureCoffe', '리원', '카페큐브하우스', '젤라또랩', 'HILLSCOFFEE', '쥬씨무학여고점', '까페올렌스', '카페범CAFEBEOM', '카페도쎄', '카페시크릿', '버블트리', '카사레쵸', '카페레몬테이블', '쥬트커피숍', '카페드마린신문로점', '체크인', '온오프', '백미당', '주미', '엑소엑소', '뽕커피', '카카오독애견카페', '커피보노', '커피마글', '노리앤', '탠저린', '오초록', '블루오파스타', '아라비카커피', '커피모리', '머랭아뜰리에', '안개', '커피바이', '카페마메', '더마이트', '제노까페', '렐라', '더테라스다화', '카페903', '낙성대커피집', '잇.', '라시쓰커피', '카페보니또', '이디야커피가좌역점', '할리스커피신정네거리역점', '카페드까사', '이츠굿베이커리카페신내점', '카페0691', '카페캠퍼', '와플반트신총현대점', '커피프렌즈', '김종영미술관카페', '럭셔리라임PC카페BIN', '컵오브컴포트', '아름다운꽃', '토끼의지혜', '레이어스다동점', '카페시우', '비쇼네', '우정', '카페엘림', '카페두', '카페드메이', '놀숲신사가로수길점', '드림스페이스버드', '그라찌에덕성학생회관점', '탐진씨앤씨딜라이트커피', '커피에반하다공항점', '윤빈커피', '쥬스팝', '요거프레소신풍역점', '플로디', '보헤미안타운카페', '꽃이핀다coffee', '알커피', '커피좀비', '커피정원', '할리스에프앤비할리스커피학원', '홈스테드커피마포점', '탄젠트', '카페홍뜰', '디에이치커피', '제이커피', '커피파츠', '벌스', '제니스카페', '커피알', '파브리끄', '강동역커피베이', 'COMPLETE6.8', '카페스토리', '놀숲강남역점', '우분트커피룸', '둘세', '토즈모임센터강남토즈타워점', '맘스빈', 'CAFEWONDER카페원더', '에쏘드립', 'e갤러리사주카페', '공작은가비', '혼노베', '어반스테이', '커피하우스원', '이나디토', '더쉼카페', '카페스트라다', '도담갤러리', '부암야생화카페', '프로메싸강남역점', '와이투커피', '영화커피숍', '커피빈코리아뉴교보타워옆', '전통찻집인사동', '보스크커피', '단델리온', '커피소년', '매스커피역삼점', '무비빈스토리', '9HERTZ고려', '나폴레옹키오스크', '디보빌리지', '콜렉티보커피컴퍼니', '파스쿠찌한강자이타워점', '이디아커피', 'UNKNOWN', '리엘베이킹', 'CELSIUS', '이유콜렉션', '미미갸또', '스타벅스사당로데오점', '마리웨일마카롱상암SBA점', 'CAFEBLESSING', '라떼킹고덕점', '체리시', '보나비아티제뱅뱅사거리점', '파파앤번', '위드파오', '이디야신사역', '첼로', '입땀', '브런치업', '공차성수성원점', '커피바이셉템버', '슈퍼커피마포점', '탐앤탐스일원점', '삼무곡', '소소한', '더치터치', '카페뉴트리', '헤이마커피로스터스', '띵크커피', '카페솔리데오', '리앙빈', '카페방방', '마이북카페', '글래드위드커피용산', '스타벅스고대프라자점', '비에스케이코퍼레이션', '카페그물코', '스마일머그커피', '커피판다', '카페클럽', 'Mandy', '효다방', '런닝독애견카페', '해바라기카페', '쥬스와커피', '김대기커피스쿨', '카페주주', '후니커피', '카페리치', '커피에반하다난곡점', '커피로스팅원두공장', '카페제스트', '컵오브커피', '커피에이엠', '고이커피', '커피레오', '화이트커피', '루앤비까페', '라이브홀리데이7080', '만화카페산장', '커피에그리다', '프레즐메이커', '퀸즈', '커피바이커피', '카페라리방이점', '따거', 'caffeprima', '4도씨더치커피', '공짜카페', '스타벅스광화문역점', '크레마181', '커피빈코리아여의도순복음교회옆점', '커피만외대점', '케이마트Kmart', 'Itscoffee', '카페소로', '성곡미술관카페', '카피시모서비스', '불독커피건대점', '카페라인', 'MAINS', '르카페효온켐', 'Coffeetreeya', '이디야커피신길썬프라자점', '할리스커피화양점', '55커피로스터스', '루시', '어까페', '디렉터스커피', '스노잉', '커피레벨52구로점', '오픈카페', '예일타운커피랩', '지혜나무카페', '몽쥬르COFFEE', '티라레미수한양대엔터식스점', '커피볶는집아띠', '커피나라매일유업', '스피티', '위에', '반지만들기카페커반', '디저트39거여역점', '태양', '롯데칠성음료커피청량리점칸타타', '블루포토케이씨대학교점', 'BM카페', '씨키스커피', '헤엄', '코나빈스신월동점', '노빈', '카페이트', '성명다방', 'coffeebread', '맘마미아파이', '빽다방명일역점', '명동사주카페', '쥬씨돌곶이역점', '더드림', 'Artofcoffee', '카페더크레마', '별이다섯개', '카페오즈', '퀸즈브라운종로5가점', '더카페가양홈플러스점', 'TOPRESSO교대점', '탐엔탐스', '카페르뷰', '커피앨리스', '개구쟁이7080', '마리웨일마카롱수유점', '카페앙코르', '좋아요카페', '커피명가', '포에버', 'Newyorkbagelcafe', '엣홈', '엔테이블', '마카롱원더스목동점', '이룸푸드시스템', '샘커피숍', '떼오도', '티라레미수', '우주라이크합정역점', '아름다운가게아름다운커', '발아정신', '커피로드스타', '별1호점용기', '망고식스코엑스사거리점', '누리정', '주희스커피', 'BOCCAZONE', '워너커피서초점', '다물', '아라비카빈커피', '올리브리사', '가배장이', '프롬비', '베이브', '카페프린세스스토리', '떼루와종각점', '카페올레', 'THEBRIDGE', '굿브랜치카페', '카페에이전시', '히루요루', 'TAETEA대익차', '피에이씨그라운드', '향기있는카페', '사주카페연', 'Dalkommcoffee', '칸트의시간', '카페베네2', '헤이쥬', '베스트빈', '커피빈파크에비뉴엔터식스한양대점', '지니어스커피', '카페아토제이드', '커피앳웍스트윈시티남산점', 'LITTLEBYLITTLE', '제프리카벤디쉬카페', '아인', '비단콤마', '커피오름', '투썸플레이스압구정51케이', 'CASABEAN', '베리프레쉬', '카페코나퀸즈', '카페10THAVE', '봉숙이네커피볶는집', 'cafehoyacooks카페호야쿡스', '오미커피OHMI', '카페드롭탑위더스영등포점', '빈스바네스논현점', '커피마심', '브런치팩토리', '태양커피', '세븐그램', '카페탱크식스', '아이엔씨풀서비스', '달보드레', '평택쌀빵', '한방애차', '빈스빈스', '쥬씨고대점', '뮤지컬카페', '카페드온', '카페메이카', '카페97', '첼바', '두루두루베이비카페', '커피온리', 'DONCAFE', '파넬커피', '버블티코리아', '카페코바', '리코커피', '허밍벨라', '스타벅스강북구청사거리점', '봉명다방', '커피인뉴욕', '커피엔샐러드', '티라레미수비트플렉스왕십리역점', '킹커피코리아', '플라워카페활짝', '오티움커피랩', '행복나무', '카페엠', '미쓰리손다방', '케롯', '카페로니', '굿럭커피', '폴바셋서울세관사거리', '까페에스피', '제레미아이디어연구소', '카페제이더블유', '행복한하루의커피', '베브릿지', '꾸까카페', '카페눈코입', '도이창', '오가닉파이앤코', '폴바셋청담점', '베데스다', '한샘다방', '띠아모쌍문동점', '퍼넬스페셜티커피하우스', '마노아', '신세계푸드넥슨아펙스타워', '프로퍼커피바', '록원다방', '임비스', '나무향기', '매머드커피여의도S점', '플라스크', '연극보다가만화', 'Coffee3Times', '공차홈플러스영등포점', '스타벅스서교동사거리점', '카페마로', '오리지널빈스', '디에떼에스프레소명동점', '선샤인커피', '아띠오레', '서울올림픽파크텔커피숍', '단조', '빽다방중랑역동부시장점', '스터디카페위드유', '카페인버스', '아이손쿠킹클래스', '네스카페대학로이음센터', 'CGVARTHOUSE', '토스트카페', 'MERCIBONBON메르시봉봉', '카페마론', '익동다방', '홍반장커피', '메이티엔콘레드커피', '킹콩점프우면점', '잉카', '커피인동', '매머드커피중앙대점', '리베흐떼', '모나미커피', '라인보드카페', '카페온더문', '자리자바', '공상카페삼성점', '스타벅스구로디지털로점', '코나베리', '오늘성수맑음', '랭귀지랩', '커피올로지', '커피롯', '세븐브릭스커피교대', '북촌협동조합', '커피빈코리아강남구청앞점', '동원다방', '아름다운카페', '사주&타로', '아보', '호박이좋은카페', '더벤티노량진점', '남산스퀘어약국', '카페105', '카페플레이버', '타니아', '더카페굿윌송파점', '디초콜렛커피앤드', '토끼와거북이', '음악다방', '롯데리아엔제리너스커피', '카페휴', '오월의커피', '동자희망나눔센터', '비틀주스홍씨내', '서울이스케이프룸', '커피향머무는빈스토리', '북해빙수', '케이티그룹희망나눔재단광화문east', '에이림', '하늘꿈', 'P268', '가을타는여자', '탐앤탐스매점', '손탁스커피', '밀크다방', '기술자들커피랩', '커피하오', 'StoryCafe', '디핀커피', '벨라빈스커피길음뉴타운점', '레이오버', '바람과나무', '대만며느리', '팬도로시', '위카페', '띠아모강변점', '비툰', '카페수프레모', '이디야커피선정릉역점', '23홈즈', '카페에벤', '유아히어명동본점', '랠리까페', '커피클래식', '투데이스커피', 'CNN카페한양대서울캠퍼스점', '마노핀카페창동점', '서울에소프레소', '선남선녀', '차이니스21.차이니스북카페가경', '동신다방', '다미가한방카페', '카페까사', '커피나무', 'BOUNTE', '모스트', '니즈유', '케이팟커피', '을지茶움', '앨리스앤코', '커피중심', '우리동네구로커피집', '스타벅스커피여의도호성', '수아베', '원기산삼다시스2', '에페', '에이블스터디카페', '빈트리', '미칠비루디져트아뜰리에', '원다방', '테카', '커피빈코리아명동성당앞', '커피집숍', '미카페토코리아', '카페완츄', '카페글렌천왕역점', '카페두다트', '티아라쥬얼리카페', '이디야잠실', '오래된미래', '이디애', '팀베리', '바나프레소', '소나기', '커피인더문', '슈타인보크', '레이니어', '레몬추리', '쿠키보이커피걸', '빙빙빙월드타워점', '콜드브루디어더치', '티오티', '베리머치', '주스킹위례', '지중해커피숍', 'THANKsCOFFEE', '세븐몽키스커피중곡점', '벨벳문', 'CafeClara', '로뎅', '커피해밀', '뉴욕핫도그앤커피서울마포대흥역점', '커피그루나무', '식스플로어', '만다그레커피2', '워너커피구로', '프로시트쿠헨', '카페하네', '카페피베리', '카페미소', 'EDIYA커피', '선주카페', '카페레네', 'allfresh', '투썸플레이스쌍문중앙점', '트립티', '더치앤빈황학', '글로리아진스커피여의도점', '아트토이', '41ST', '홉아이카페', '마왕카스테라', '쿡', '물바람이야기', '엔제리너스커피롯데시네마', '동강에프앤비엔제리너커', '앨리', '프로방스', 'Barista', '카페서우', '미트프레쉬', '공간도시', '마더쥬스', '빈투스커피', '철도공익복지재단', '커피스테이', '에잇플러스', '카페오로미아', '문화커피숍', '카페트S.N', '쥬씨자양로점', '로스팅포인트', '커피베네', '드림스토리', '바리스타커피', '사주까페예지몽', '로얄1번가커피타운', '모듈팟', 'CafeSopia커피볶는집', '달콤바스켓', '페미닌', '피치트리', '더카페교대역점', 'Asthoughlhadwings..', '한국우편사업진흥원카페', '투데이커피클럽', '클라시코', '발코니', 'FIDES', '카페아늑', 'CAFET', '커피다', '갤러리카페나팔', '곰', '커피한잔', '위드엘', '과일파는덕이언니', '티브라우니', '일커피', '집커피', '다카페', '하므케이크', '드롭탑서여의도점', '마호가니커피', '썰스티', '에딸프', '이팡홍대', '카페르메이에르', '쁘띠렌대학로점', '얀', '이상한나라의엘리스', '카페레가토', '메이', '올웨이즈온', '우리하늘에서만나요카페', '셀렉토커피강동구청역점', '나른한순간IDLEMOME', '로시망고', '카페더케익', '피치그레이', '만쥬카페', '제로커피', '해리스커피파크', '언더텐커피', '꽃밭에서', '더마실까페', '산드라', 'COFFEETO', '갬성', '마운틴에프엔드비', '커피스미스신촌점', 'ELCAFECOFFEEROASTERS', '사조직판장', '헤비로테이트', '프라우스타', '도르체비타', 'IMTEA', '금성다방', '커피스튜디오엘', '카페크레타', '로씨', '라로즈플라워앤스쿨', '지붕', '루이14세', '에이프릴.05', '뉴천지커피숍', '더네이버스커피', '주부리', '디자인스토리', '멀티하우스카페앤스터디룸', '커피빈코리아논현2015번지점', '지그재그', '우주토끼', '버지니아커피숍', '갤러리카페커피집', '놀이터커피', '북카페픔', '마스터키이디야마곡나루역점', '영자클럽서울', 'BeansGarden', '스타벅스신세계본점', '김화자카페', '쥬씨JUICY', '빌리프커피로스터스', '빽다방둔촌동역점', '마망베베키즈카페&킨더레고팡', '데니스커피신림역점', '제이씨엑스', '티22233', '핑크젠틀맨', '카페까망', 'N카페보라매점', '트리니다드코리아', '데일리카페', '카페시소', '베어', '행운당', 'Dutch&bean', '커피볶는김여사', '스무디킹키자니아', '커피를사랑한소믈리애', '언더크레마', 'FUNCITY', '카페올리브', '타미하우스커피', '카페까사데', '커피엔드에이', '땅콩', '커핀그루나루리미티드버티고', '이디야에스프레소', '랑데부', '스타벅스방배카페입구점', '레어그루브', 'GRANGERIE', '이디야노원사거리', '마미스카페', '카페173', '명동커피숍', '만화까페콩툰', '엘리스', '한강클래스', '카페바우하우스', '크리스커피', '쥬스스타', '더카페피씨존', '봄카페', '커피이야기', '리베르떼COFFEE', '명성인터내셔널던킨', '더블루라운지', '차향기', '코이코히', '카페상베르', '커피베이경희궁자이점', '만랩커피마곡LG사이언', 'cafem', 'CAFE201', '툰앤존', '네임리스', '바디프랜드파크', '슈어슈어리커피', '엘가', '쪼마', '더북이대점', '커피광', '빈트리커피', '아리스타커피마포2호점', '베이크럽보라매래미안점', '백송커피숍', '우진커피숍', 'CAFEMIN', '길다방', '카페브로디', '커피홀송파석촌점', '케이아이디코리아', '탐앤탐스신도림테크노마트', '홍익고수보이차', '틱텍톡', \"엄's김밥카페\", '히코코커피', '케이비피', '후엠아이', '유니크스윗', '포레포레', '웰런커피', 'COFFINEGRUNARU', '이앤지커피카리부이대', '커피스푼', '알서림', '네스카페청담알로프트호텔점', '카페에이치', '요거프레소보문동점', '이디야커피용두점', '그린커피', '토즈모임센터신촌본점', '카페라네', '피플', '잠바주스김포스카이파크점', '스타벅스공덕', '카페블릭', '키커피', '커피디즈구로삼성IT점', '공차', '데일리브라운여의도점한국예탁결제원신용', '가비커피', '카페굴리엘모', '공원있는카페', '밀로커피로스터스', '베이', '알레그리아커피로스터스', '식품명인체험관', 'FRUITSPOP외대점', '카페한보리', '투썸커피세종로점', '투텐', '커핀그루나루한솔병원점', '정희커피카페', '엔제리너스홍대YZPAR', '닉', '플란다스개', '투썸플레이스충정로역점', '시드누아노원본점', '보틀팩토리', '소커피암사점', '샐프레소', '준', '카페시그널', '이지웨이', '피어까페', '하나커피점', '행복공장', 'THEMEKA', '커피나무낙성대점', '커피점본본', '카페제이콥', '카페이루카', '타로카페', '카페정이든', '카페453키친', '모아', '뚜스뚜스', '주얼리카페세림', '닥터커피', '메이준', '커피향', '루츠커피로스터스', '스타벅스뱅뱅사거리점', '산이', '블링블링', '바늘노리', '지구정복을꿈꾸는고양이', '범이준이', '카페,클리닝데이', '더백설기', '윈디', '파파클레멘스', '카페연', '라이프커피숍', '커피깡패연구소', '커피파는고양이변경전', '칠이까페', '카페디아떼', '커피토리노', '셜록홈즈신림점', '청계다방', '이디야커피사당역점', '로지커피', '털리스커피', '커피향깊은한옥', '기명전통찻집', '커피빈코리아방배카페골목', '오프더그라운드', '할리스커피교통회관', '스타벅스청담영동대로점', '토프레소대림점', '카페비쥬', 'COFFEEBYSOO', '놀숲종로점', '슈가연', '플러터커피로스터스', '버니빙스', '더블유카페송파점', '카페OL', '빈어홀릭', '리히트', 'kt광화문빌딩웨스트카페', '필앤럭', '쿄즈카페', '라바짜', '커피정', '커피식스쥬스식스', '구일', '에이에프히치콕', '띵똥와플본사', '샘터', '야카모즈로스팅', '모스앤몰리', '더치프레소Dutchpresso', '스타벅스차병원사거리점', '카페벨로주', '레드머그', '할리스커피발산역점', '커피그리기', '커피볶는여자', '나인카페', '고디바_', '요미다방', '쥬씨시범단지점', '츄로킹', '카페베네이노시티', '썸씽겟', '까페폴로라', '자연향', '루트28', '제너러스커피', '이디야커피수유역점', '카페가또CAFEGATTO', '리틀제이콥스프리미엄', '카페블리스', '슬로윗카페구로구청지점', '캐리마켓가로수길지점', '더피아노', '세컨드홈', '더블유더블유더블유', '에이티폭스', '카페마조앤새디', '테르프로미즈', '민속집카페랑', '놀숲신림역점', '더라임', '진주커피호프', '블랙커', '놀숲둔촌역점', '서울숲공원', '누베이크서대문점', '커피볶는고양이커피', '공짜바', '공차여의도순복음점', '천리마살롱', '애니커피', '두잉나띵', '그레이', '스피드립', '카페12PM', '화이트카멜레온카페', '블랙모티브', '파스쿠찌선릉이노센스점', '커피스트림', '아비앙또', '클류치', '띵크커피압구정점', '화이트', '에이치커피쥬스', '잠바주스용산미군기지점', '만화카페냐몽', '메론커피', '피디스', '쥬씨안국역점', '마체베트어린이대공원점꿈', '아망떼커피점', '가가린철우사주카페', '커피베이마포용강점', '북카페초록', 'EDEN', '라라감자탕', '카페라지엘', '바오밥', '필라멘트카페', '헬스바', '드링크7', '다반', '커피플랜트', '홍루이젠', '카페이안', '달콤한일상', '카페조이', '카페두드림', '융', '카페이노이드', '리리움커피', '카페베네연세대학교의료원제중관점연세대학교의료원제중관점', '떼루와떼루와구로디지털단지점', '사쿠라커피로스터스', '아미띠에카페', '투썸플레이스역삼르네상스점', '더공드리', 'WhatsCoffee', '카페카와', '플로라떼', '우리동네일등가양커피집', 'Rcoron', '엔젤리스', '다시스31호점', '로디오븐', '넝쿨', '닐리스커피', '아이스샌드', '여기는카페다', '더브라운네스카페', '비니치', '랠리', '해커피아', '디초콜릿커피앤', '참빛카페', '앤드류스에그타르트앤커피', '아모르데헬렌', '야미요밀', '라콤커피', '꿀스커피', 'Ph6.5flower', '할리스커피장승배기역점', '1인1잔', '디저트연구소', '데쏘', 'NY커피아울렛논현점', '프레쉬샵팔레트', '매머드익스프레스건대역점', '다정다감', '겟잇커피', '까망PC', 'M.R빈', '차민정씨', '한마음커피숍', '주시브로스GFC점', '메가커피수락산역점', '목동커피', '더벤티', '벨루토커피', '카페바보', '카페욜로', '레전드PC카페', '별하', '스노우볼카페', '카페드블록', '카페포즈', '명', '언벌스', '미도다방', 'Bally', '커피3타임즈', 'Theoddcat', '커피홀릭', '라일', '써브웨이언주역점', '카페아모렘', '이야기카페', '더카페야THECAFEYA', '3pop', '커피레터', '솟대사주까페', '그리운꼬마', '쥬씨문래점', '플라워앤티크', '소운빔', '3.3.3.커피', '아이크스커피숍', '아이엠커피', '여름소나무', '미제', '딴지카페', '카페베네미아사거리역점', 'COMET', '림벅와플', 'US', '고이북촌', '카페끌림', '랍슨', '빙달눈꽃빙수', '케미스트리비트윈어스', '이디야커피세광교회점', '자바씨티', 'Paganini', '만동제과', '더치빈', '엄지카페', '카페바인', '징검다리북까페', '모드뜨레', 'OAK', '카페스카이앤라이브러리', '카페인디블루', '키스', '커피빈코리아현대자동차강남오토스퀘어점', '스타벅스포스코사거리점', '스폰지북카페', '바운트커피', '로뎀카페', '스노잉스위트', '커피하우스융', '헐리우스연세대점', '카페eliot', '모즈', '카페퍼블릭', '온링유', '무지개', '워너커피포스코센터점', '에이드립까페', '체리블리', '튠업카페', '멤피스', '카페노니다', '커피야', '커피베이종암점', '마들까페클럽', '큐커피향', '모리나', '로저스타임', '사이판', '릴리데이지', '고양이당', '잡카페피플', '준커피', '카페마리오', '카페노이', '힐링카페오', '더마실', '카페토스피아대학로점', '바리스타카페', '오스카다방', 'Coffeebay', '델트렌', '나의작은카페', '쥬씨이대점', '다연커피숍', '카페룸1024', '더치공방휴', '프리즈커피', '콩커피하우스', '카페비원', '라인프렌즈가로수길점', '코이노니아', '카페푸릇', '아몬드블루', '도봉주르', '아마스빈대치은마점', '카페투칸', '커피공감', '유티비커피', '커피더캠프남성역점', '에코라이프카페', 'TRUECOFFEE', '잠바주스디큐브시티점', '슬로우스트림커피컴퍼니', '쥬시동서울터미널점', '컵희', '센트럴커피', '아라커피', '커피마켓', '보스톤킹', '로이즈', '샹제리제', '만랩커피묵동점', '내찬기and카페', 'MARIEMARC', '커피공간', '마차', '페어리스트리', '약수터', '슬로우인디오븐', '삼청동커피', '매머드커피서일대점', '샌드프레소강남세브란스병원', '디커피', '와이샐러드카페', '더스테이크카페', '점프셈교실', '세븐몽키스스위츠캣목동점', '탐앤탐스안국역점', '오버더레인보우', '더카페한남점', '앤레커피', '서울특별시다방구', '라포르뜨', '기린다방', '카페단테', '아라비카클럽', 'Dancindolphin', '슈퍼말차', '카페더스토리이점영', '주카페', '그라놀로지여의도IFC점', '쥬씨천호점', '커피스모키', '아카데미카페', '시화담카페', '애정다방', '제이스티하우스', '카페도라토', '체리브라운', '블랑', '더블유카페', '가화', '섬섬옥수', '유아히어합정교보문고점', '재미로테이크아웃', '르샤카페', '서울테크커피', '와플반트', '잠바주스합정메세나폴리스점', '빙스퐁', '베이커스보이', '카페클라츠', 'wildmulbluecha', '삼천리커피', '지니는이쁘다', '라오상하이고운찻집', '카페91플러스', '유투', '카페프리다', '인디에프갤러리카페쉐누', '원데이브레드', 'WOODBRICK', '마듀', '에덴커피숍', '스모', '끽다거', '카페히릿', '카페그랑', '미스터브리즈커피신정푸른마을점', '라운지93', '전광수coffeehouse', '아도나이', '아티온', '바리스타마르코', '강쇠네카페타운', '빠아빠', '카페플래너', '주스탐서소문점', '케이탑', '투썸플레이스강남수서점', '스탠딩커피', '한스', '양선생커피집', '탐앤탐스은마사거리', '담톨', '폴바셋여의도', '디초콜릿커피앤드고대중앙광장점', '커피마마이대점', '떼일로사업본부', '마마쥬스중계점', '카페퓨리티', '티시스식음본부', '카페야미', '정다방', 'KOPITREE', '올포유키즈카페', 'HUTCH', 'OFete', '오마뎅', '부암동와플샵', '이디야커피자양동점', '카페코지', '빈프로젝트', '래그랜느에스알티점', '빈스앤와플', 'BR', '정원의온도', '소망풍경', '디초콜릿커피앤드남영점', '궁', '문커피', 'COFFEE&SNACK', '비알코리아베스킨라빈스양', '우종호의커피볶는집', '라붐카페', '핸디엄', '우리카페', 'NEWYORKSUB', '메이슨드기기합정교보문고점', '카페론다', '브이알존', 'FSAS', '빨간지붕coffee', '마을과마디', '아트센터나비미술관', '포인포카페', '리버스로스터', '여기커피', '유아마니아', '타이니팀벌스', '고트레', '베스트빈커피', '커피프롬', '디오델커피', '어짜다버블티', '조히하루', '썬투커피', '쥬씨봉천역점', '토이셔', '포담티하우스', '도로시인더커피', '커피지아카페', '몬트', '85도씨아띠', '엠엠티에이치006', '라떼떼성대시장점', '소정공방', '8마일츄러스', '국화', '으뜸', '캔디커피문정법조단지점', '스마트카페', '코코호도왕십리뉴타운점', '카오COFFEE', '모카향', '초코와커피', '제이에이치거국', '로얄호스트', '바랑커피숍', '푸에르', '까페스토리웨이', '이화동', '퀵클리', '100코코넛카페', '러브컵', '쥬씨증미역점', '탐앤탐스천호로데오점', '신세계', '달달한오후의잼', '스타벅스광운대점', '커피앤우', '긱라이브하우스', '이디야커피신당중앙점', '스타벅스서울대역점', '내까페', '브루다숙명여대', '고구마', '더함', '청소년카페마니또', '맥켄지커피', '대한체육회공제회팀코리아', '카페콜론', '쥬씨삼호가든사거리점', '카페밀크콩', '엣모스피어', '제2북카페', '카페툰', '카페베네천재교육점', 'CafeDudart', '베세토', '카페비엔에스', '벨라빈스', '더치앤빈신도림점', '커피품격', '스타벅스동교점', '엔제리너스커피롯데시네마강동', '해성', '눈내리는집', '도피오후레쉬', '로미오와줄리엣', '카페통인', '투론', '쿠벅', '커피오카', '자몬', '렐란디', '커피공방날', '카페벨루토', '쥬씨도깨비', 'CCAFE', '카페잼므', '떼루와신림점', '우리다방커피맥주', '골든라이언', '에스엠발아커피', '제이에스앤씨카페죠', '탐앤탐스아카데미', 'mr.black', '커피하우스반달', '주스앤', '에그타르트', '루스티끄', '덤스', '루체에살레', '모찌이야기', '오설록현대백화점무역점무역점무역점', '커피나무K', '루헨', '행복플러스카페', '달과6펜스', '카페곁', '러쉬', '갤러리에스피', '쥬스식스구로디지털점', '롯데칠성음료카페칸타타화', '미스터빈커피', '하늘커피', '카페퍼슨비', '롯데리아엔제리너스커피잠실롯데월드타워B1', '카페포엠', '메구스아로마', '명금탕', '카페게이트신라스테', '익스페리멘탈커피바', '리스트레또', '까페', '아마스빈여의도2호점', '커피마드레', '아이씨지', '백미당강남358', '카페402', '새라가비', 'PSCAFE', '갤러리아토아트', '쥬시상명대점', '길건너커피', '조이스', 'STORYCOFFEE', '수목티', '파스구찌', '허슬버슬', '홈이디저트', '커피나무카페', '식스스트링스', '쩡S92℃', '커피베이궁동유펄스점', '디디드립드림커피', '카페인클럽', '매카이', '보문', '커피밀', '아이엠바리스타', '이지커피', '파스쿠찌신촌연세대점', '엑스골프카페테리아', '스타벅스엔터식스한양대점', '카페책속의한줄', '블루미시티', '카페마노핀', '카페구디', '투썸플레이스사당역', '엔제리너스잠실롯데월드몰', '카페와이', '삼양커피숍', '시카사주카페', '미스터디저트', '구동커피', '식스뷰리팁스', '커피볶는그랑', '비타민', '슬로윗카페', '카페내이처', '화이트카멜레온', '네일수다', '할리스에프앤비마이컵오브', '스타벅스황학사거리점', '카페7그램', '넬쿠오레델카페커피로스터즈', '커피에반하다', '더치스카페', '수제달달', 'BLACKPEARL', '디저트,지안', '엘리커피', '더하다커피칵데일학원', '에이아이커피', '화음', '면화빙', '카페드마린', '친구네놀이터', '비워크', '글로벌라운지커피점', '도깨비커피', '본까스미니스텐드', '카페디엠', '매머드커피삼성역점', '커피베리티', '아이센스PC', '까페로마', 'Cafeumplate', '쥬씨독산점', '세컨더리', '커피앳웍스', '솔다방', '캔카페', 'MINIM', '장미맨숀', '카페체칠SU', '한국커피바리스타협회', '카페작', '행복한수플레', '모히또바인오션', '까페미루나무', 'MEGACOFFEE메가커피', '까페강남방', '36.5바이키', '하늘유리', '카페다임', '이디야커피일원동점', '모모', '킴메이드', '세가프레도', '바빈스커피홍대역점', '저스트블루', '커피빈코리아올림픽공원', '스위트커피', '커피앤드디스트리뷰션오브코리아', '레인바우', '바우', '슈퍼오아시스케이티앤지', '베네토', '꿀단지디저트', '미래안사주카페', '에피그램커피', '카페그랑아', '나무자전거', '멜슨하우스', '플리트비체', '쥬앤비', '애기똥풀카페', '샵coffee', 'CaffeAttico', '압구정로데오공차', '떼루와', 'Brick', '커피티', '쥬씨가양대교점', '수다쟁이', 'CoffeeMong', '로스팅카페', '아메리칸트레일러', 'glt젤라또', '투썸플레이스압구정로데오역점', '크레센도휴게음식점', '세스니', '칸타타커피', '카페나루', '태성다방', '커피0503', '만쥬하나', 'ELLE커피숍', '까페꼬모', '디오즈캣', '나와나타샤와흰당나귀', '커먼유즈', '토토치노', '수분', 'Cafe도로시', '카페29', '카페사투', '카페아이엠티마곡점', '오프셋커피', '카페띠아모교육장', '로리콘', '서아이디야', '스탠다드커피바', '캥스커피집', '라마레따', '할리스커피금천점', '보물창고', '7080라이브이락', '정', '로뎀나무아래서', '커피메카닉[최윤태]', '몽크르스커피', '말리커피이태원점말리씨앤', '커피밥', 'MOMOIRO', '예술의전당카페마티스', '카페블라블라', '카페드롭탑금천은행나무점', '카페서로', '빽다방논현본점', '커피오터스', '까페따옴', '이디야커피한성대역점2층', '난플라워카페', '빙하라떼', '쵸이스커피숍', '엘마르', '아침디자인그룹삼삼오오커피공작소', '유씨씨커피', '간쥬와플', 'Ka', '멜트커피', '카페1883', '코벳블랑', '세컨드브레스', '밤밤슈가', '복', '모데나커피', '블루빈', '스마일멀티방', '은성커피', '로우커피스텐드', '프렌치밀크티', '이디야커피마곡엠밸리점', '계화커피숍', '제이니씨', '부르다커피', '정이네커피상점', '스노우폭스플라워스', '미스터브리즈', '주커피압구정로데오', '카페자마이카', '토브카페', '남산상점', '쥬씨망원점', '녹스', '스타벅스', '목요일커피', '양지커피', 'STREAT연세', 'KIRAKIRA', '오다방', '한남동함바그또카레', '하비비', '라이스&카페씨', '과수당', '포방터카페', 'onda109', '코페아커피서울충정로점', '커피빈코리아압구정로데오점', '달콩커피', '북카페산책인턴십센터', 'HOTELTHEARTIST', '커피베이방학성원점', '창문카페', '최신마미', '쉠락에프앤비', '츄로비아', '모리', 'JASS', '민들레영토그신대점', '뚜또베네트라토리아', '커피앤챗', '콜드스톤', '캣카페', 'HolythecafeCenacle', 'BOXCOFFEE박스커피', '사계절커피', '제스트', '커피누리', '카리부커피', '카페만월', '스터디카페위드유오륜', '오엠', '초퍼', '식물학커피로스터스', '미스터빈', '혜성', '쏘뇨', '무드포커피', '406번째스토브', '제이', '10TAN', '커피린', '호두사랑', '자키야', '테라스나인', '카페아쿠아', '보노보나마포합정점마포합정점', '베베르커피', '카사블랑카', '소소커피', '제이엘디저트바', '카페아래', '오손도손', '제프리카벤디쉬런던', '비타민청춘카페', '거북이벗', '커피동행', '라에스키모', '스푼즈카페', '더리터영등포점', '카페레알빈', '원더월커피로스터스', '헤어라떼', '올림픽커피', '1988coffee종로점', '커피로153', '애쉴리즈', '카페아일랜드', '스노우스푼', '커피나무향기', '홍s커피', 'Camtotoast&juice', '올댓커피', '마이카페', '센티미터스페이스', '까루나', '허니네카페', '야경', '그린머그', '제퍼커피', '돌스커피', '통인동커피공방', '청소년카페OHO', '플루토', '고디바홍대점', '카페베네강동구청점', '카페POC', '카페랠리', '귀향', '카페호리', 'CAFE57', '슬로비생활', '개성평통보쌈', '위고에빅토르', '언노운커피13', '사내카페푸른수목원가든카페', '옐로우브릭스', '알베로', '희와래커피로스터', 'B.BAUM', '커피에반하다구로디지털단지점', '씨제이프레시웨이', '에셀나무카페', '지금의세상', '올리브나무', '심온사회적협동조합', 'LEMIELCOFFEE교대역점', '키키앤리', '애드리안윤', '쥬씨구일역점', '미스티블루', '한나식빵', '토스피아', '호프브로이하우스', '리나앤세실', '가회', '소마커피', '브릿지', '매머드익스프레스영등포우체국점', '공리로스팅팩토리방이점', '구내다방', '카페,델리아티제파티세리', 'melmelrefresh멜멜리프레쉬', '어벤더치', '쥬씨금천가산점', '트리스트', 'Quinto', '최고야커피랩', '카페여유', '고구려갤러리', '백씨네콩다방', '타미하우스', '아이에게디디피', '무드벨벳', '스페셜티커피', '카페모자이크교회', '수메이트', '유당카페', '사르르녹다', '카페라리', '헤리티지', '브라하', 'bonneidee', '할리스대림역점', '카페수다', 'CAFEHERE', '엔티스', '죠스샌드위치앤커피', '썸카페', '까페목요일', '스몰커피', '데일리브라운', '나눔공간', '카페Moon', '까페일루시온', '셀렉토커피개봉점', '라스커피', '터미널다방', '잇츠', '샤론화원', '둥지', '메가커피앤디바이스', '마더앤도터', '쉼터올래', '카페마당', '뽀스뜨레', '자바시티커피', '토즈신촌15센터', '도도리다방', '테이큰', '나눔문화', '후레쉬주스', 'EXR쉼터', '라윤갤러리', '있소커피', '카페사켈라', '북카페자유다', '공차신림역점', '빽다방역삼테헤란로점', '도피오', '단비', '주모', '카페마미', '코스믹라떼', '요거프레소상계점', '라스', '오늘은좋은날', '카페깔리아리', '엠부띠크', '카페벤티', '비가톤코리아압구정볶는커', '라부에노', '엠즈씨드폴바셋', '커피하우스101', '상수동까페', '희망나눔카페하랑', '오가다대륭1차점', '카페이너스', '투썸플레이스선유도역점', '루나모디카', '모노레일', '삼성테스코홈플러스월곡점포토', '자작나무', '붐커피', '보다더카페', '설빙차이나', 'lcm', '요거프레소장위동방점', '땡쓰네이쳐', '카페로이스', '빈스브루', '아마폴라델리선릉점', '트윈커피', '스타벅스커피여의도IFC1F', '평생직장커피', '커피더소울', '토즈모임센터신천점', '만화카페툰', '12사주카페', '퍼즈카페보라매점', '502커피', '올핸즈투게더', 'At', '코너로스터스', 'TOPRESSO교대역점', '달씨', '몽글몽글', '민물다방', '멍프린세스', '예화', '위치스커피', '커피지오', '이엔갤러리', '올코코', 'cafe.C', '벨스킨카페', '수에무와', '맑', '에이치에스커피', '이디야커피전농뉴타운점', '라떼아커피', '꼼떼커피', '더카페/서울숲SKV1', '샐리s키친', '지마요', 'C27', '파빌리온패밀리리틀마라케쉬', '테이크아웃커피', '곱창카페', '할리스커피노량진역점노량진역점', '약속커피숍', '에스프레소살롱', '덕수다방', '마포구고용복지지원센터', '나뚜루', '푸른달', '안다즈커피', '리엔제이', '월드컵공원연못카페테리아', '남양유업', '투썸플레이스선릉ING점', '이기야커피숍', '보나비아티제강남구청', '카페브레아', '스타벅스미아사거리역점', '기혼COCKTAILBAR', '딥다이브', 'FORLOVE', '카페바리스타아카데미', '카페띠아모송파거여점', '커피닷', '위미', '차이카페', '멍멍이다방', 'CAFEYBEANS카페와이빈스', '파넬카페', '남촌', '카페르마들렝', '커피게이트', '펄스에이트카페', '삼성에버랜드검찰청웰스토리카페', '아워홈', '도시선언', '송파나루빈스토리', '10페이지한양대점', 'Thursdaycoffe', 'Cacaoboom', '달콤한카페', 'cafe연', '카페제이', '북카페찬샘', '코나익스프레스', '카페령', '예설', '카페미오', '카페믹스앤베이크', '카페잡스', '오늘도,내일도', '멜팅', 'PaPaCoffee', '카페고마워', '호디박스가락점', '커피에스페란토', '더블류피', '카페쿤', '카페그래서', '온앤온', '카페아모카', '광화문내커피', '제이독', '연다방', '스타벅스숭실대입구역점', '스무디킹코엑스2호점', '따호카스테라', '프레즌트스퀘어커피', '엔트로피커피', '더불여', '카페밀크', '커피드아시아', '숙다방', '감성유리다방', '카페바리스타케이에피소드2', '엔젤리너스롯데피트인동대문', 'SUDA커피전문점', '해나헬시카페', '봉봉트리대학로점', '카페26', '로얄네이쳐카페', '인피니티피씨카페', '죠샌드위치', '콘서트마루홀', '와플대학노원역캠퍼스', '칼도카페', '카페비전', '커피온', '오츠커피', '라운지카페', '플리즈커피서강대점', '샌드비', '엘림클래식뮤직아트리움', '카페인스페이스', '에고트립', '라고샤', '요리까페식땅', '카페마루니', '더빈21', '카페더메드', '샵1129-1커피', '자문밖커피문', '카페쿠스토', '서현플라워&카페', '콩당콩당', '카페조율소', '별나라콩다방', '로맨틱커피', '카페래', 'CAFEEBEN삼성R&D점', '투핸즈커피엔타스', '더플레이스', '와플샵', '타야커피', '카페루앤비방학점', '제이제이커피', 'Swich카페', '설빙신촌점', 'JK잉글리쉬하와이안카페', '풀하우스', '커피만홍대점', '세운나', '커피랩세아점', '샤르트르커피', '커피스노우', 'COFFEEBOBROASTINGFACTORY', '치즈카페썬리치', '신사곰', '수하루', 'VOGUM', '파크커피숍', 'MMMGCAFE', '일민미술관', '리앤홍', '카페가비애', '스타벅스명지대점', 'Clatage', '모던양갱집', '베리주스', '이디야커피신금호역점', '커피빈코리아구로디지털단지점', '엔조이', '9DCAFE', '미어켓파크', '테이믈A이대점', '광개토관스카이레스토랑찬', '파리크라상파스쿠찌신촌연', '성산커피숍', '커피드러그', '리본카페', '카페코스마이', '카페에뚜', '커피농장', '산토리니커피', '카페소소공방', '보드게임', '까르페디엠', '뽕다방뽕커피', 'Chooseyourcoffee', '사주카페큐', '이태원더블샷W', '참스카페', '인텃매니아휴계실', '제이엠제이브로스', '카스타운', '동양방앗간', '소피아', '갤러리도희', '루미카페', '오설록티하우스명동점', '빈트리이백이십오', '원달러커피클럽', '로드앤커피2.5', '저스트어모먼트', '남양유업양천2분유커피전문점', '조각커피', '오~방가', '스노잉합정점', '젠틀콩커피', '포플러', '아모제푸드잠실야구장점1루카페아모제,레드스푼', 'ANDO', '모나코다방', 'ONESUGARDAY', '하늘향기', 'Thecornercoffee', '성유엔터프라이즈', '뉴욕카페', '미스퐁듀', '카페임', '컷팅엣지+', '화성다도', '연남동239-20cafe', '리버파크커피숍', '우지커피', '겨울나그네', '카페엘루체', '화이트브릿지커피', '포르테커피', '하늘을마시다망원동점', '헤일리스카페', '콩부인', '엘비엔또커피', '카페512', '카푸치노카페', '빠뜨릭스와플아일렉스점', '크레프트카페라온', '은경', '키즈팡팡', '윈보드게임', 'AZUR아쥐르', '스타벅스합정메세나몰점', '브이알스퀘어', 'Evergreen', '까페화덕', '키라커피', '커피볶는집', '이디야마들역', '더컵스토리', '인문까페엣꿈', '놀다가개', 'CAFE,The1stCare카페,더퍼스트케어', '카페디저트', '커피지원센터', '에쎈', '안녕,반가워', '와플대학미아사거리점', '만만한장어', '보스톤킹휴게실', '레스카페비앤케이', '한국커피연합회', '더내츄럴카페', '에스프레소플러스', '다아는커피', '에이블힐', '러츠', '라콜롬브코리아', '카페24/7', '자바시티코리아삼성CC', '커피마마창동우리집점', '호우', '이칠삼', '까페모나티', '와플에셋파트너', '리안', '만쥬앤커피', '선인장', 'Lowergarden', '카페에스토', '라뜰리에', '우리행성', '벙커1', '프린세스다이어리', 'urbantable', '우후루', '에슬로우커피', 'CafeLAOU카페라오', 'LODGE', '재미난조각가', '용두다방', '라떼야', '옹심이', '빈브라더스카페', '테이크아웃커피전문점', '카페테라', '보타니크', 'SOFT425', '카페메모리', 'DETOXI', '삼거리다방', '카페바이한성', '주커피영등포지하상가점', '꽁뜨', '파이브플로어', 'Magnumseoul', '파리크라상파스쿠찌도', '달커피하우스', '현대그린푸드현대글로비스카페', '원커피', '은하수', '초우다방', '카페디모멘토', '투썸플레이스쌍문역', '순수커피', '땡큐그린', '쥬씨신촌점', '커피디엔에이', '더베럴스커피', '커반', '테이크아웃샵', '카페라리대치점', 'Tobean', '10000LABCOFFEE', '카페로뎀바이예다움', '토크하우스', 'KITTYCAFE', '하루젤라', '부림커피숍', '에이치에스', '동작노을카페', '질리', '셀렉토', '아티제역삼역점', '민들레커피숍', '카페2도씨', '아현동쓰리룸', '웨이크업커피', '강철개나리', '경향', '피움카페', '눈꽃마녀동대문점', '사주카페가네샤', '카페아마떼', '아피커피', '띠아모', '할리스커피문정테라타워점', '예랑', '카페199-1', '하바나커피', '미세스히긴스', '림벅와플북촌점', '한입원바이트', '청담설기', '실라커피', '휘카페동부시장점', '카페네스카페이화여대국제기숙사', '커피Ghouse', '카페드미에', '슈만드젠', 'cafe멍', '커피소사이어티', '희차', '티니워니', '에프터눈커피', '더수다카페', 'deomelette', '몰루카', '안녕강아지와고양이', '썬빌인사이드', '고마', '교대애니메클럽', '투썸대륭18차', '서울강서지역자활센터-카페', '위', '마체베트정글키즈파미', 'GOMMICOFFEE', '카라', '갤러시앤카페ONUE', '코나퀸즈', '닥터쥬스강남점', '노닥거리', '카페원두마크CAFEWONDUMARK', '브레댄코', '폴바셋양재점', '커피링거', '커피코트용산아스테리움점', '카페두두', '티엘시에프앤비엘뽀요학동', 'DUTCH&BEAN', '지구커피', '와플플러스', '블랑블랑카페', '커피32', '탐앤탐스탐스커버리아셈타', '카페루카', '가루가루', '구스토', '커피셀러515', '커피연구소', 'cafeheaven', '커피팩토리쏘다방점', '카페클라시코', '산책', '애플바리스타', '투썸플레이스올리브영본점', '페이지원', '푸른수목원가든카폐', '요요도산대로점', '카페무세띠', 'H본부', '함께커피', '자바씨티코리아', '샵에이블록', '베니커피', '하임', '싱글오커피', '서점카페책과삶', '카페위안', '마루마리', '퍼블리크LF동관점', '아틀리에송', '아이스마일카페', '별별상회', '휴앤안', '이스팀커피', '워시타운', '까페리채소', '플래이그라운드', '옐로우문', '하이', '줄리스커피', '블라썸', '책과커피가있네몽당', '카페첼시', '군인공제회관카페', '위드카페', 'AMAPOLACAFE', '지유가오카핫쵸메', '그라찌에커피', '카페치타', '코믹베어', '장마리의커피공방', '셜록홈즈강남점', '카페오디너리', '투썸커피씨지브이대학로', '탐앤탐', '등대만화카페', '빽다방태평로점', '바스킷423', '투썸플레이스연신내점', '디아트카페', '고이', '투썸플레이스구로', '카페이마', '카페반디앤루니스', '눈꽃마녀', '카페아쉐르', '아임일리터', '카페투', '투맨커피스토어', 'Myven마이븐', '커피빈코리아강남역랭기지', '카페플로우', '카페아모제', '아라마크제중관카페베네', '더카페상봉이마트점', '드립앤더치', '좋은씨앗', '카페이즈보르', '커피셀러', '생두', '더커피하이소', '해피블럭카페신도림점', '카페에그쁘', '투썸플레이스논현역사거리점', '스타벅스연세백양로점', '시심트리', '제이콥스레더', '절묘한커피', 'DEEPCOFFEE', '더카페하임즈', '가비아노피우', '연필1/3', '에이티21', '욜로욜리', '그룬트커피', '양카페', '이디야커피강남역지하상가점', '카우하이드', '마니커피', '이디아커피세종대', '복합문화공간까페가화', '몬토하베', '씨엔엔카페이화여대솔베이점', '바디쉐프시그니쳐점', '지인', '유수커피숍', '사이드테이블', 'Theorderbeans', '카페암스테르담', '텀브커피', '커피양탄국', '쥬씨상일동점', '맛차차', '레미콘', '올넥스트', 'Iambarista', '쥬씨천호초교암사점', 'LUVOCO카페', '베키아에누보PNP커피스테이션', '메가커피고대점', '수정다방', '압구정커피볶는집', '더치앤빈신수점', '카페도하', '까페울랄라', '북촌그길로그길에', '랑상텐', '쿼츠브루', '풍경달다', '도토루커피오스', '카페빙빙빙', '미작', '소로앤노호', '에이미스커피', '카페플로린', '꽃', '카페다인', '내가좋아하는카페다', '히로커피', '코드크레인', '자작나무카페', '매머드커피마포', '꿀콩커피팩토리', '발리커피숍', '공차고척스카이돔점', '카페트윈즈', '카페겸', '와이즈커피', '트루비커피숍', '이레카페', 'dogzone', '빌라드깜빠뉴', '공차신촌연세로점', '그리다꿈', '청담웰컴센터', '본죽', '레트로나파이', '피초코', '경복궁박광일갤러리카페', '올인커피', '커피폴리', '루미에르', '카페다스티', '망고스틴', '킹콩쥬스&커피', '뿌리온더플레이트', '휴온', '라바짜SHOP', '에파타', '솔', '구름나무콩', '할리스로스터스스페셜티커피', '에피소드3', '더착한커피', '대치본쌍화탕', '노들직녀카페', '몽루', '플럼파이', '캣츠커피', '원빈-Onebean', '디저트팩토리', '망고식스강남롯데', '드림하우스', '카페일치프리아니', '라메어', '엔제리너스여의도잡지회관', '서울창업카페', '커피온도', '할리스커피고덕리앤파크점', '오시정삼청점', '뜰가든', 'Confezione', '지혜의공간', '카페테바', '수제모찌', '블링블링커피숍', '오스타커피', '쥬씨대림역점', '나드리커피숍', '카페델씨엘로', '염리동커피가게', '맘모스', '요거프레소개봉2호점', '빅컵커피', '갤러리사진창고', '커먼디자인스튜디오', '연남다방', '펠어커피초코강남', '폴링커피허리우드점', '뛰노리방방', '멀티까페커스', '만땅커피', '라떼뜨', '옹헤야', '벌떼카페', '청량리롯데백화점엔제리너스식당가점', '스타벅스강남오거리점', '조나골드B', '감성커피', '동림커피숍', '대흥다방', '커피안', '오늘도좋은날', '연진다방', '디자인60', '모찌크림카페명동롯데백화점', '옐로우트리', '앨리스케이크부티크', 'coffee봄', '더벤티숙대점', '미스터팥집', '루나루즈', '을지싸롱', '봄날', '알라딘중고서점커피수유점중고서점커피수유점', 'TALESPINNERCO', '마심', '디초콜릿앤드고대구로병원', '작은도시', '깍지다방', '올어바웃미', '나임북카페', 'GS25연대서문', '비아엠', '에떼616', '이디야IBK고객센터', '에나꼬레커피', '카페더롤', '클로리스', '앙코코', '자연물들이기', '이디야사러가', 'MILL', '블뤼테', '로드앤스토리', '이노패밀리', '폴바셋뉴코아강남점', '오봉팽', '석원재', '디에떼에스프레소', '이랜드레저비스외식더카페', '올바른커피', '마이도시카페', '정원', '명지대빽다방', '카페슈바빙', '카페티아모', '자오나카페엘브로떼', '티라레미수강남아이파크타워점', '티몬스', '한국문화재재단', '카페그림과꽃', '다온죽카페', '마노핀익스프레스압구정역점', '티스', '프린세스', '더카페서울산업대점', '기념일프로젝트', '퓨로쥬스', '드롭탑', '카페데뮤지까', '이디야커피천호현대점', '양재커피집', '793플라워팩토리', '고궁', 'Mmth', '클로리스티룸신논현점', 'onceuponamilkshake', '수지스', '카페오가다', '설화', '서촌음료연구소', '썬플레이하우스카페', '애견까페', '카페샬롬', 'DreamHouse', '선', '꿈앤카페다솜', '베스트슬립힐링카페', '다사랑실버카페', '오드리헵번카페티엠', 'TicToc게임클럽', '스타벅스서초파라곤점', '밀키웨이', '환기미술관휴게실', '마더구즈', '올리볼렌', '보통커피', '희다방', '카페개네', '약속다방', '카페차뜨', '타로카페드뷔시산장', '카페알레', '만화카페벌툰', '브릭라이브월드', '마키아티', 'PICTURESTAY', '카페뜨란', '쥬씨현대시장점', '띵똥와플', '아름다운고궁', '장수커피', '그린하우스이펙트', '한스카페', '윤희커피', '스윗스트로우', '커피식스쥬스식스천호역점', '세븐스프링스카페', '헬로빈스', '인테리어디자인수다', '엔티커피', '탐앤탐스', '자유시간', '뉴달콤', '언더커피', '버자야에이치알카페코리아', '이디야커피마곡역점', '스타벅스성신여대정문', '마리아커피', '탐앤탐스수유역점', '수호깨비카페하우스', '슈퍼커피', '디노마드진', '브릭스', '커피언리미티드', '헤이리103커피', '후츄', '베리후레쉬', '프로푸모', '카페파로', '작은거리커피', '캔디미나우', '마실', '커피라디오', '어셈블리커피', '소풍가는날', '벨로샵', '엘시아커피', 'CoffeeBIG굿', '카라&엘리사', '벤저민', 'DIXMILLIONS', '벤센느', '카페보니또코레일본사점', '공차바로', '귀빈', '학림', '로얄네이쳐', '쥬씨삼양점', '플리즈커피추계', '카페SN', '갓볶은커피보그너커피', '고센클래식', '리더커피', '퍼블리카', 'Twosomeplace', '남산테디베어갤러리', '양천맘카페', '옛날그다방', '그랑카페', '현스티', '해피하리', '알뜰포차케익까페', 'FRESHJOY', '카페더라몽떼', '에이쓰리아카이브', '생활커피마곡나루역점', '베베커피로스터즈', '할리스커피노량진', '종점다방', '투앤쓰리카페', '스타벅스구로하이엔드점', '링고요고', '떼오도르한남', '자바씨티커피코리아', '스타벅스종암점', '하우스커피', '카페준', '까페호빈', '카페그랜드볼룸', 'siscoffee', '클로버보드게임카페', '예설스페이스카페', '커피플', '카페인시애틀구산점', '스터디나우한티역점', '커플', '카페마리', '할리스포이사거리', '스타벅스상봉역점', '더스텐딩101', '더더모어', '카페코튼', '커피타조', '커피볶는야곱', '브로일링커피컴퍼니', '유로', '뭉치치카페', '올스톤커피하우스', '스타일커피', 'Cafe몽', '로코랩', '카페에스더커피', '행복떡방&Cafe', '쥬스식스커피식스', 'CafeP', '카페미카야', '싱글오:커피저장소', '욜로', '커피zip', '바리스타마리코스티오브', '홀리원코리아', '봉플라워케익공방', '디저트39', 'AcKiss', '커피는사랑', '카페테이크알', 'ARISTA', '세컨클락', '마포다방', 'BMM카페', '커피가먹고싶다', '이즈까페', '언더루프', '킹콩디저트', '자바씨티커피', 'LUMBERJACK', '까페로프트', '송파커피', '연티앤커피', '원앤하프', '유달리아', '카페뚜또', '카페컴온학동점', '카페더루쓰', 'snack&coffee', '필링', 'CAFEHEIM', '한남대교전망쉼터', 'fiat피앗', '서대문커피공장', '북카페로뎀', '요거프레소대림우성사거리점', '꼬마빌리지', '슬로스텝IN홍대', '까페이탈리아북서울미술관점', '스타벅스명일이마트점', '넥스테이블메종드크레페', '멜로우그린', '커피토스피아하월곡점', '쥬씨전농사거리점', '에이블', '커피온정', '투고', '더케익', '내츄럴드림카페', '세인트빈', '바니빈스커피숍', '금강F&B광희문', '책마을커피점', '엠케이커피', '서울모드', '베네핏카페', '크리스마스자몽', '공차가산디지털단지점', '스타벅스서소문배재점', '남양', '스타벅스상암DMC센트럴몰점', '코코모', '카페쎄리오한양대병원점', '콘하스', '갸또마마', '사이카페', 'NJPark', '테라커피머신', '만담', '카페돌담콩', '긱카페아키', '아드라나눔카페', '한독', '스타벅스충정타워', '카페이담', '커피빈코리아서초우성아파트앞점', '다트프린스', '9카페', '투제이커피', '오렌지빈', '커피엔수다', '커피보이', '플로잉원', '프라빈', 'Breeze', '엔터브이알', '카페더젠틀', '세루리안앤드팩토리', '한국커피문화진흥원', '오렌지타이거커피', '도화타워까페', '바네스플라워', '스타', 'inkcoffee', '블리스커피', '원제커피전문점', '커피타는고양이', '닥터쥬스', '아로마리즈허브티하우스', '카미에커피', '카페클래시', '물놀이까페', '까페베르떼', 'MONSTERSCAFE', '스타벅스명동입구점', '뮤즈서울', '모이카롱', '스타벅스선릉로점', '펄', '행복플러스가게', '리시오', '르페', '정커피2', '자상한시간', '이앤지커피', '연', 'IDCAFE', '이디야충무로3가', '미스핏츠', '소프트리', '카페일루오고', '카페5', '휴', '다미스토리', '카멜커피', '재미난조각가사주카페', '로지핀치', '카페카파', '폴스일레븐', '프레소커피디자이너마천점', '아마스빈', '소프트리가양점', '에쎄레젤라또', '아지트', '오리엔탈구내', '커피숲', '앳홈', 'EPT커피', '코레일유통비타민한끼', '에제르커피하우스', '투썸플레이스옥수역점', '빽다방동대문역점', '애니타임ANYTIME', '상상카페', 'RABBITHOLE', '베버리힐스', '할리스커피가산디지털단지점', '놀숲', '카카듀', '우리마포시니어클럽마포주민편익시설점', '마이톡스', '스타벅스신림점', '어로우즈카페', '그냥플라워앤드까페', '퍼니플러스멀티방', '아인즈커피', 'TUTTOOK', '림스커피혜화', '밀희', '글로우', '러브낚시카페', '하늘을걷는고양이카페', '카페쉐이드트리', 'Cafebliss', '고종의뜰굼터/더듀얼로스터즈', '예랑떡카페', '커피팜', '수피아', '제비꽃다방', '카페153', '까페274', '설빙약수역점', '헤븐거피숍', '커피컴', '탕화쿵푸', '비원커피', '로미오아저씨커피', '더치앤빈스', '에이난카페', 'PROJECT℃', '티투데이', '카페레스트리', '킴스커피', '8스탭스', 'ZIP', '틈새커피', '아침해가떠오르는땅', '만남커피숍', '프레코티', 'Cafeair', '화동커피', '카페2POP', '커피나무상도2호점', '데니스커피남강점', '레뚜라', '보디가드', '모베러블루스', '꼼지락커피하우스', '커핀그루나루성동문화원점', 'softcoffee', '두리하나다울', '투썸플레이스콜드스톤크리머리반포래미안퍼스', '벨라빈스커피', '카페띠아모', '은하수다방', '커피수기', '구찌', '카페러블리', 'CACAOCLOCK카카오클락', '이스턴', 'cafe새벽', 'Coffeewith', '슈퍼커피팩토리', '감성다방', '카페인갤러리에', '노는카페자리', '슈거링', '카페395', '난다', 'W2', '샌드밥', '오투', '카페이지', '카페비움', '레이지마마스파이', '연지다방', '반디랩', '스타벅스방이역점', '쁘띠크로아상', '계희커피', '아마스빈안국역점', '새소망', '조광', '고디바MBC', '카페인사이드', '빈스스토리', '까페블랑', '카페크롤링', '코코몽', '핑키즈업', '투썸플레이스차병원사거리', '록키마운틴초콜릿팩토리', '미홍', 'NPS카페테리아Cate36.5℃', '미정커피숍', '커피논현로', '리프커피', '둘리뮤지엄카페', '커핀그루나루신천점', '이츠굿베이커리카페', '메이크업베네', '커피본', '엠디레몬트리달루가', '카페1997', '카페오픈키친', '세렌디피티', '라퓨타', '더블딥커피', '카페알파', '봄봄색동두번째이야기', '외계인싱글족house', '바리스타하우스', 'TARECoffeeRoasters', '팬더커피숍', '달콤달달', '삼성에버랜드삼성화재웰스토리카페', '카페마노', '커멍', '뚜요', '레이디엠', '캔모아', '메인', '플라워에이일공오', '청년다방', '그럼블커피', '사튀로스', '들꽃누리', 'EPISODE85', '74번지커피하우스', '카페크레아팜', '빈스로드', '블랙포트', '포엑스', '베이글팩토리', 'WOULDYOU', '아리따움', '마샹스', '카페본', '커피볶는미스터김영다방', '에버피씨카페', '빽다방서초우성점', '커피지아카페1호점', 'waffle&coffee', '커피베이구로디지털점', '노팅힐가든', '투썸플레이스사가정역', '스페셜데이한강용산본점', '더스키&커피', 'CafeThe9', '가을커피', '동그라미놀이터', '망원마중', '동화', '와플', '도리스커피', 'CF커피숍', '스타벅스소공로북창점', '까페uuup', 'Supercoffee', '마시그래이', '커피랜드코리아', '꽃담', '케이엠법률카페', '을지사거리이디야커피숍', '진', '스노우무무', '빽다방천호역로데오점', '무인양품', '커피빈코리아서울대입구', '커피기업', '투썸플레이스카페', '까페어쿠스틱', '코너빈', '강동꿈드래마켓', '카페큐', 'Butterfly', '빽다방이대정문점', '폴바셋롯데강남점', '빈스바네스청량리점', '카페그린빈', '감각', '곳간', '법향', '스윗솔', '고도', '커피타임', '봄봄커피숍', '커피빈코리아논현동팍스타워', '영사미', '커피블라썸', '참스큐', '그루비', 'Quilterscoffee커피를누비다', '스타벅스삼성도심공항점', '소울36.6', '서울만남의광장휴게소할리스매장', '디피엔커피', '커피투고로스팅팩토리', '운봉사주카페', '북카페J-story', '오후', '김주삼커피로스터스', '작약', '할리스에프앤비신촌점', '학술정보관카페', 'PROMENADE', '미드나잇카페', '엔제리너스커피카페앤다이닝석촌호수D/I', '커피델라', '잠원커피', '노리', '커피두', '애플카페', '출구31', '카페라이언', '퍼즈카페', '더봄', '커피상호작용', '디초콜릿커피엔드', '타르트마망', '사당로159', '주스에비뉴', '쥬빌리쇼콜라띠에', 'PB산림욕힐링카페', '까페나인', 'COFFEEFARM', '인디스에프앤디할리스커피', '이웃집바리스타', '엠케이에스행복제작소', '킹콩쥬스양재', '훈고링고브레드', '쉬어가는모퉁이커피한잔', '파라다이스블루', '사임당카페', '명동커피Ⅰ', '제니스까페', '카페띠아모제기점', '러브커피', '데얼즈커피', '호아드', '다소다', '스타벅스숭실대점', '42', '이랜드레저비스더카페웰츠밸리점', 'coffee122-6', '이라운지', '디초콜릿', '커피난다', '투썸플레이스가재울뉴타운점', '커피앤북스', 'COFFEE&BREAK', '까페아스노바', '스타벅스강동역점', '아티제상암드림타워점', '현대커피숍', '샤크플레이카페', '서루당', 'CafeRoyalNature', '스타벅스커리학동사거리점', 'espero', '로비커피숍', '프라하', '언더그라운드커피', '벌툰', '책읽는카페', '파란행복', '갤러리판', '한강대교전망쉼터', '쥬씨구로역남부점', '벤', '할리스에프앤비', '아로하아이스앤커피', '그릴오', 'WL맥주커피', '투썸플레이스상암E&M점', '수제상점행복담아', '피나포어25', '커피베이강북인수점', '스타벅스코엑스사거리점', '피디가커피를내리는이유', '미엘', '하루샐러드', '하이드아웃', '툴스커피', '삼도커피숍', '엠지투게더카페', '곰브라더스', '뉴욕다방', '베브릿지중앙대점', '스타타로', '데얼즈프로젝트', '꼼지락꼼지락', 'YOURCOFFEE', '놀숲홍대입구점', '분나', '쥬씨사당역2호점', '까페이삭', '커피식스도봉역점', '카페지밥삼청동점', '더카페중계홈플러스2층점', '카페네', '유어마이커피브루어스', '투썸플레이스현대', '모노치즈이대점', '블럭하우스', '아티제청담제일점', '플레인', '엔포커피', '태재커피', '커피팟', 'CAFEHWARIM', '카페미토', '사주카페미즈', '엔학고레', '엔터하트카페', '브레드미', '모짜르트', '카페글래드', '리즈다이닝', '커피5.1', '공차남부터미널점', '엉클두', '도레도레', '코지사주카페', '조인커피', '땡스네이처카페', '베르노', '커피홀커피홀녹번역점', '빽다방커피', '아프리카', '플로아', '듀크렘', '샌드앤커피', '브런치가', '커피앤라이프', '신세계푸드', '카페세이버본점', '뚜또에스프레소', 'BUKU', '세븐투텐', '에트리움카페', '플라타너스', '파인트리커피', '밀알카페', '커피빈코리아역삼역4', '저스트브루드', '12H', '코코버블티', '방배동커피볶는집일리', '모노치즈여의도아일렉스점', '카페플러스', '미스터브리즈커피아현점', '엔제리너스커피구로디', 'K.SCAFE', '광희마루', '투썸플레이스홍대테디점', '오가닉커피', '카페마세리아', '메르시투데이', '카페멜로우', '무상킹코리아', '스타벅스구파발역점', '플러스타임카페', '커피베이강남역삼점', '세웅물산_커피', '커피빈코리아천호현대백화점옆', '떼루아', '북카페레벤', '다그린', 'COFFEEZIP', '공차광운대점', '티아트', '카페다빈', '꼬앙드파리', '김군COFFEE', '헐리우드연세대점', 'Croo:n', '모모의간식', '스트렝스커피', '달콤커피명지대점', '파스쿠찌', '고디바롯데잠실', '뉴욕핫도그앤커피서울이대점', '달콤커피위례중앙푸르지오점', '슬로우잼', 'CAFENEATO', 'CARIBOUCOFFEE', '콜마커피', '할리스커피명동2호점', '수커피하우스', '카페지니', '카페고다', '카페드미욜', '프롬하츠커피', '따미커피', '까페모임', '디저트39중계은행사거리점', '오하이오', '토프레소방이시장점', '이디야커피동소문동점', '공차고대안암병원점', '석란커피.엔.티', '미쓰리별다방', '환다방', '파리다방', '카페157', '떡카페미소재', '라스베이글', '카페NODAZI', '카브', '코레일유통대방카페', '버드', '빈볼', '까페더트리', '일리카페', 'jlnljolie', '카페더힐링', '바른차생활', '위딤', '반지카페8그램', '빽다방을지로입구역점', '알지카페', 'J커피', '컵인더스튜디오', '카페아삽', '죠샌드위치선릉점', '아티제서초우성점', '사사이프로젝트', '북카페타셴', '즐거운커피', '카페킹', '하루커피', '빈스데이', '아티제여의도공원점', '더비', '스무디팅', '다온커피', 'MANOFFIN', '보사노바커피로스터스', '사주카페다락방', '카페34WALTZ', '만화카페통툰안암점', '카페드롭탑', '금성커피숍', '에비뉴', '카페토이스토리', '백송다방', '청춘까페', '별까페', '영락사회복지재단', '20온스', '간단하지만특별한화피디Cafe잇올림픽공원소마점', '아프리카커피', '8st', '다시스1', '러브수', '인카페', '카페더래빗', '로찌커피', '음큼커피', '유후카페', '키웨스트', '미드센츄리무드', '카페데플레르', '원기찻집', '자담치킨호프&까페', '앳더블랑', '커피인칼라세븐', 'Coffee', '판테온커피', '코르소코모카페', '할리스커피강남역점', '컴포즈커피선유도점', '슬러프커피', '커피빈문래동점', '까페부오노', '까페16번지', '커피스퀘어', '퀸즈커피', '코스모스커피볶는집', '월드오브보드게임', '독일카페', '아이크스커피더퍼스트', '배고픈사자', '코리아나호텔캐터링지점법', '커피빈코리아이태원점', '머미', '이디야커피신림중앙점', '오작교', '키커피숍', 'COFFEE&WAFFLE', '까페슬로비', '커피코트', 'cafePERA', '봄꽃스토어', 'Q카페', '고양이똥커피상점', '테지움', '이리온', '이상한커피', '나루213', '신맥', '홍scoffee', '커피디저트', '더카페월곡2호점', '보나비아티제SBTM점', '삼백커피오륜점', '투썸플레이스서울스퀘', '스위츠켓', '닥터로빈목동점', 'TEAFORTWO', 'choicechurros', '놀숲사당역점', '엔제리너스서울대입구', '카페루엔비', '이디야커피낙원동점', '메가엠지씨커피금천롯데캐슬', '공간이북', '커피한약방', '차나무', '프레지에', '스위트번스', '라운드커피', '커피바이러스', '아이스빌', '수제와플바리', '더연카페', '미쓰퐁당', '서울식품랩', '커농', '카페문라이트', '카페정', '이층까페', '클라우즈비', '행복다온', '팔롬비니카페테리아', '네모', '카페보바타임', '쇼위플로라', '위너보드게임', '커피스튜디오팍종이', '아니스', '대하', '쥬씨독산역점', '다문화벨트큰집살림', 'CafeJUN', '카페그란데', '에스프레사멘테일리', '소리마을까페', '티박스', '와이플레이스', '앙쥬', '커피첼리나', '옷다방', '카페라맘마', '본스커피', '카페코이', 'JAM', '로스터리', '스몰커피로스터스', '오씨타임', '쥬스식스대륭2차점', '지스바이', '브이커피', '커피그레이드', '폴락커피로스터리', '신바람LIVE카페', '백련다방', '공차압구정로데오점', '커피솔브즈에브리띵', '보고타', '일점육일팔', '오가다대치점', '엘레이지', '쥬스팩토리개봉역점', '카페피오레', '코끼리아', '몽프레슈', '고디바강남점', 'St.1549', 'NINEoCLOCK', '스터디카페더퍼스트', '인생이야기', '캐빈커피숍', '케이츠랩', '달콤커피라이브라운지', 'CAFEPLUTO', '정간', '카페라부에노', '반지마을커플링반지만들기카페', '탐앤탐스공릉역점', '북파크카페', '제이시커피', '친절한성진씨', '카페니드', '카페더플란트', '카페오호', '장사찻집', 'BLOOM', 'Anscoffee', 'MARU', '스타벅스대치점', '열매는달다', '디어브레드', '쥬씨뚝섬역점', 'Surp', '츄잉쥬스양재점', '더착한커피남부터미널점', '에스쁘아커피', '삼성웰스토리고려대신의학관Coffee&', '까페지유', '인디고', '꾸까', '달콤커피', '커피에반하다월곡역점', '롤리팝신림점', '일마레', '커피향창고', '리둔주식카페', '투썸커피고려대법학관', '쉼표', '투썸플레이스개화산역점', '스테이블커피로스터스', '카페유니', '커피매니아', '스페이스M', '썩커피', '공차영등포구청점', '라운드어바웃커피', '스윗번스커피', '미담전통찻집', '라온커피', '본투비블루', 'AREACOFFEE', '공차코리아대치점', '쥬씨노량진점', 'ISSUE', '카페비', '엔제리너스라붐아울렛', '문카페', '무인카페', '클라우드나인', '카페달삼청점', '사라의정원', '올드뮤직카페', '띠아모커피강서구청사거리점', 'CAFE6269', '더치커피', '쥬스드', '에스프레소북', '을지', '델커피', '빽다방노원역북부점', '나누미', '스텀필즈커피', '코렐원두커피', '힐링차이', '녹스커피숍', '카페디프', '폴바셋현대백화점디큐브시티점', '카페딩동', '츄잉타임', '커피똥', 'TOAST&COFFEE', '허니브레드카페', '골드버튼커피', '빈스앤베리즈', '일루전이스케이프', '메가커피왕십리점', '블럭캠퍼스', '카페윈스타', '수노커피', '모스버거종각역점', '카페브릭', '그린마일커피', '목타르트레이딩', '그라찌에김안과2호점', '커피더캠프KBS스포츠월드컵', '카페두다트-메트로타워', '퍼블리카.PUBLICA', '스타벅스길동사거리점', '언노운커피', '502세컨즈카페', 'CNNBIZ', '블루노트', '또바기', '엘지사이언스파크지카페', '슈퍼문', '에르마노키즈카페', '디저트월드', '스무디킹도심공항터미널점', '마크툽카페앤펌', '더프레쉬', '잠바주스청량리역사점', '예카', '하나원병과', '착한커피공장', '커피지', '필그림', '갤러리안길', '커피만중앙대점', '노을카페', '낙랑파라망원', '빈스브라운', '일리컴퍼니', '라인', 'CNNCafe세빛둥둥섬점', '디촐콜릿커피앤드상암YTN점', '아덜스타임', '꼬마BY블룸앤구떼', '엣지', '예솔', '알프레도커피엔와인', '빽다방월계광운대점', 'CAFELEWIS', '카페AM', '커핀그루나루평창동점', '스타럭스캐스카페', '만랩커피나미브', '머피커피해피', '보보커피', '카페더즌', 'ThirdIam', '커피스토리', 'AEDA', '커피커넥션', '앤드커피', '까페베니시모', '카페반', '아르떼미오', '카페아모제롯데미아점', '카페해밀', '포비', '수선카페', 'CAFE甫', '슈엣', '카페다소', '쥬씨불광로데오점', '카페루앤비', '커피커피', '프로즌빈', '웰위치아', '칸카페', '우자매', '토닉', '카페네스트', '89헤르츠', '디저트39군자역점', '파비욘드갤러리카페', '투썸플레이스신사세로수길점', '로사우니카', '들다방', '큐브이스케이프', '카페토다', 'OwinSmartCarCafe', '카페헤세', '카툰공감성신여대점', '커피스미스오기', '연꽃커피숍', '엔제리너스커피수서환승통로점', '백다방', '아카펠라', '파르코카페', '한잎', '비닐하우스', '사주명가', '그리다꿈강남구청역점', '운주문고BOOKCAFE', '스타벅스논현힐탑', '더치즈케익', '레이너드커피', '리퍼블릭오브커피', '더차', '뜨레', 'DALDAL-HI', '티피에스커피', '콩두', '원두볶는사람들', 'BREAKFAST', '놀숲강남대성학원점', '카페테리아', '엠엠티에이치015', '토브커피', '투썸플레이스상암씨지브이', '정카페', '할리스커피불광역', '코코브루니압구정점', '커피사랑', '오보코갤러리카페', '마망레브', '바른커피', '소소한가', '애플원두커피점', '커피인더카툰', '까페레블', '카페앤샌드위치', '데얼커피', 'VONDOM', '투썸플레이스송파위례트랜짓몰점', '양남', '아케랩', '모르비도', '백미당뉴코아', '솔채카페', '베이커스필드파미에스테이션점', '썬', '스타벅스목동5단지점', '미도반반찬까페', '카페지오', '앙마떡뽀끼&카페빅', '로스푼티노', '나뚜루타임스퀘어', '커피구멍가게', '메리어트카페', '갤러리인카페', '에스프레소진', '백악관', '행복창조산아래카페', '카페문화', '아뜰리에안연희', '북아현마을북까페', '빈사이드', '스몰카페', 'cafe453키친', '그린잎카페두레대치점', '커피그리머', '서울청소년수련관coffeeshop', '헬로우슬라임', '마크커피', '스타벅스중랑구청점', '로스트제임스커피', '스타벅스잠실점', '굿', '투오브어스', '카페요이', '설빙홍대점', '파티시에', 'chefscafe', '알토베네', '제이엠커피', '빽다방구로디지털역점', '두렵지않은사랑라이브카페', '맥널티커피팩토리', '달콤한커피방앗간', '10스퀘어커피랩', '타임스퀘어', '다니엘미카엘', '블리커167', '란스', '하빈', '리파인드', '브리즈', '조니뎁스럽게', '트레블카페', '엘씨포유', '다방오크', '디어플라잉팬', '카페빠숑', 'CafeAlice', '아임바리스타', '카페코드', '지에스엘앤씨', '엠카페', '드플로허', '디초콜릿커피', '하늘빛푸르다', '카페라포레올레', '스웨이하우스', '커피빈건대스타시티점', '시나몬', '이디야커피신림남부초교점', '프랄린', '탐앤탐스삼성오라클점', '커피앤두리', '다실리', '더치랩', '카페베네', '자바커피', '카페젬', '그루', '금란', '정동클럽', '돌다방', '가비애커피테이크아웃공장', '황다방', '스타벅스천호로데오점', '아이엔유카페사랑', '나이로비', 'MONCAFEGREGORY', '꽃뜨락', '원더풀데이', '메이커스', '폴바셋', 'J카페', '리브스커피', 'Viennacoffeehouse', '또와플러스', '브라운하우스커피', '해다방', '라비커피', '루네쌍스다방', '홍카페', '커피팩토리쏘', '카페아미치', 'COFFEELAB', '아방가르드카페', '5500012Caffe', 'COFFEE&BINGSUDESERT', '더파이홀', '하우스까페', '카페제네', 'coffee공간', '쥬씨가인초교점', '헨델과그레텔미니', '카페누', '모모웨이', '신세계과일쥬스베지테리안', '달프루토역삼점', '한손에커피', '미스신커피', '달달하늬', '더프렌즈카페', '노들견우카페', '대치휴게소', '탐앤탐스도산사거리점', '커피볶는나무', '오다가다', '쿠스톰커피여의도점', '산토리니의아침', '스타벅스경복궁역', '다정한오후', '폴바셋롯데마트양평점', '토정방', '더벤티삼성점', '에이비씨커피', '20온즈커피', '구멍가게', '카페티포트', '엘에스씨푸드', '멀티까페놀러와', '퍼즐카페', '앤티앤스', '쎄렌디피티', '까페로드', '코지허브카페', '오주꾸몽', '아마스빈코리아목동파리공원점', '피어나', '하트츄중계점', '카페이월로스터스', '검과흙손', '카페모차르트', '무궁화꽃이피었습니다', '마룸', 'MANE', '컬러미마인카페', '스타벅스연희DT점', '라카페', '구스띠모', '유로와플', '베라커피', '베니키아호텔까페', '트루커피', '빽다방강동역헤르셔점', 'FNCWOW', '가무', '클럽바리스타', '갤러리카페도야골', '커피볶는이유', '커피역', '나비드', '휘경1동작은도서관', '할리스남영점', '카페2001', '조은하루', '타베쟈', '스플래쉬블랙', '카페체인지', '비정상카페', '스윗드림카페SWEETDREAM', '소라커피숍', '천년초와전통차', 'COFFEEJAMAE', '커피블루', 'HOTDOGCOFFEE', '커피602', '긱커피', '바리스타마르코디아티스티', 'omnibuscoffee', '카페소금다방', '카페림', '커피테르미니', '띵크커피코리아THINK', '볶아커피', '커피빈코리아고대안암역', '신세계베이킹카페연세대학교제중학사점', '폴바셋캠퍼스타운점', '24시프리카페신림점', '멋있는커피', '투텍스처', '페나비', '구름정원커피집', '아름뜰FOOD&COFFEE', '커피클라우드', '카페아지트', '그대를위한커피', '어드벤처스튜디오', '탑카페', '코드이스케이프', '홀리더카페세나클', '캔디델리노래방', '그라데이션커피', '루마앤차사랑카페', '고촌카페', '엠엠티에이치커피', '헤르츠', '올림픽', 'QUASTACOFFEE', '베네브바이오랩', '삼성웰스토리세스코카페', '커피메이', '미남커피', '밀랑스', '아티제올림픽공원점', '송스키친', '최가커피', '이브케어', '행운로또복권판매점', '원추', '행복담은반찬카페', '5월5일', '말리커피삼성로점', '키친5217', '펄세이플라워', '필즈커피', '라보카', '퍼스트클래스', '빈스앤베리스', '커피볶아주는남자CAFE끌림', '신세계푸드넥슨아이타워', '하야로비커피숍', '앙상블커피', '스텔라', '경복궁버들마루', '엔피에스카페테리아카페삼십육점', '커피후', '초이', 'B', '샌드위치카페테리아', '카페윤', '까패앳코너', '인디카페', '종점', '베리언스', '애스토리까페', '엘크레', '안단테', '테르미니', '제이아', '소담까페', '커피블랑', '디인카페', '카페루이스', '카페알펜로제', '커피내음', '성곽마루', '보나비아티제대신파이낸스센터점', '오픈키친', '아르고커피', '만죠즉석커피점', '써니사이드커피', '부케', '녹NOK', '까페파비노', '래빗', '대왕커피', '커피지인', '카페라끄리마', '커피식탁', '프리미엄에스프레소', '카페선데이런드리', '띵크인커피', '탐앤탐스탐스커버리광진화양점탐스커버리광진화양점', '풀길', '오투오카페', '로뎀나무숲', '공릉행복발전소북카페수다', 'JUSTGUINNESS', '로이스홈카페', '고디바코엑스점', 'CNNCAFE', '애견카페서울리버티벨', '빈스벤치커피&부페', '지니어스커피바', '유달리', '해방촌이야기', '아라코북카페지점', '김.COFFEE', '커피빈코리아외대앞점', '카페두다트전경련점', '모뉴먼트', '카페커피수', 'Cafeyogi', 'PLE', '태양커피숍', '까페봉주르마담', '잉클링', '카페527', '카페하비토모', '휴세코', '팬더리아', '빈터커피로스터스', '우주라이크커피', '수힐링센터', '웻커피', '에스씨에프엔비이수역DI', '요거프레소서울여대점', '애플짐주스바', '서울역', '프리츠커피컴퍼니', '카페더스노우', '늘커피', 'FromtheBean', '디파이닝모먼트', '톤즈커피Tonzcoffee', '브라운커피', '카페하루', '개러지커피', 'arco', '투썸플레이스신촌점', '까미오', '빽다방사가정역점', '아미가라이브메들리', '더베스트커피', '구스비어', 'ediyacoffee', '미스터패니신세계영등포점', '위메이크커피', '올리브', '비카페비비디바비디부', '꿈꾸는리틀피플', '홈데코아티제', 'cafeohhappyday', '래핀', '스타벅스석촌호수점', 'FlatWhite', '한빛선교교회', '몰브레드', '엘본그랑카페', '주니시스블라썸', '백조다방', '몽샹디저트', '카리부', '칸타타', '젤라리소', 'POPBAR', '장띠', '샤갈의눈내리는마을', '커피빈코리아노원역점', '제트오오COFFEE', '커피해바', '푸조', '델리뉴스', '우드우드', '탭플레이강동성심병원점', '브루잉부라더스상왕십리점', '토아빈커피', '델라보보1', '효창104', 'JAVATREKKERCOFFEE', '공부찻집', 'THEBOTTLEPLACE', '커피필그리마쥬', '바그다드카페', '카페좋은공간', '카페아이엠', '예일커피숍', '이디야커피가든파이브', '투썸플레이스명동역점', '페르에피스', '스티븐목장중앙대점', '카페리비', '보그너커피응봉동점', '랄랄라', '우리동네커피집', '블루펄호텔', '요거프레소금호동점', '설빙문화방송지점', '루트커피', 'IZAKAYA나무', '스페이스PC까페', '커피의품격', '더테라스', '까사미아', '스타벅스신세계본점5F', '홍다방', '커피십오일', '올프리마카페', '쪼꼬커피', '이디야커피망우점', '커피마마답십리역점', '가든', '카페유노', '스완카페트', '방콕카페', '부부커피', '탐앤탐스3호', '문화공간북악하늘', '고고즉석떡볶이', '비앤시', '오설록티하우스동대문점', '유어커피', '스타벅스홍대삼거리점', '시에스타', '레빈커피', '키웨스트커피화랑대역점', 'MH메튜스하우스', '대용이네호두과자', 'CafeHiJenny', '아이스패키지', '커피코트문정테라타워1점', '왕궁다방', '센티모르대치점', '엘비씨카페', '퍼즈카페커피농장', '쿠벅커피', '도로시', '카이스트', '카페수에르떼', '나이스커피시스템', '뽀르뚜아', '공차화곡역점', '엔티나카페', '스윗블랙', '핸즈온캠퍼스', '아리가또', '데이지공방', '이디아신촌역점', 'CACAOBEAN', '엔젤나루라떼', 'CremaDoro', 'PERPET', '롯데리아자바커피잠실교보', '카페306', '카페공린가', '에그에그커피', '런카페', '데어카페', '한국커피협동조합', '모도리', '이가커피', '수묵채카페', 'BE', '솔사주카페', '카페하얀', '빅밤', '커피한', '라떼처럼', '모다기비', '와리터경희대점', '카페센티모르', '피아이이알39', '커피봄봄', '심플커피', '퀸커피숍', '커피만', '고메', 'moonji', '한지야', '모노레일에스프레소', '스노우스토리송파점', '생활커피학동점', '안녕,도화동.', '갤러리콘서트카페시가연', '한스커피', '달콤커피삼성', '카페자스', '안나비니카페', '카페데플뢰르', '띠아모한양대학교점', '카페드콜롬비아', '끼리끼리', '요거프레소방학2호점', '뉴욕핫도그앤커피수유점', '우드사이드커피랩', '오크라', '더카페밀알아트센터점', '리트웨이커피연구소', '임포스타', '카페로떼', '커피인하우스', '마이더스', '카페마노아', '2dot', '마이카페위드티에이블', '소적두압구정본가', '라로즈플라워커피', '호두파이이야기', '북카페마을과마디', '더코너', '브레쉬에비뉴', '장미다방', '본솔카페', '메이크타임', '키커랜드', '떼르드글라스', '쥬씨숙대입구역점', '스타벅스신사가로수점', '리얼커피', '땡스커피', 'cafe라이스', '터보힐링', '라콜롬보코리아', '행복커피', '이디야커피봉천중앙점', '로티', '카페봉', '상구다방', '쥬씨가양역점', '드림스테이', '다람쥐소나타', '르포즈한남점', 'coffee&beer', '커피아로마', '애니팡팡', 'SOODA', '빈스토리', '파스쿠찌서울대병원점', '씨엔엔카페한양대서울캠퍼스', '팔공티상암점', 'UBLOSSOM', '콩밭커피로스터', '더키즈프리미엄키즈카페', '2*3COFFEE', '유어마이커피', '더타르트', '럭키스타커피로스터스', 'CNC', '커피빈코리아홍대주차장길', '투썸강서', '큐커피', '알지비지구맛', '케이티링커스롯데강남점라바짜', '로고스카페', '학다방', '오리진키친과일카페', '아쁘레', '근사한하루merci', '달콤커피논현점', '스튜디오잇', '하드록카페', 'OZ의마법카페', '언커먼그라운드', '커피의신', '스타벅스종로수송점', '바리스타리코카페', '라온커피숍', '투비샵', '키친미미미', '봄보다,너', '카페아폴로', 'CHOIBREWERSCOFFEE', '다올북카페', '쥬스킹', '플라워커피', '피그말리온', '릴리캣고양이카페', '커피식스쥬스식스장한평점', '궁전', '디케이174-4', '제네카페', '쥬씨방이시장점', '업타운카페LG', '뉴욕핫도그앤커피잠실롯데월드점', 'STABLE', '착한커피2호점', '1번출구COFFEE', 'RuLuLaRA', '제이루스커피', '라임', '마라나타', '카페다커피', '커핀그루나루신도림역점', '베키아에누보', '엔비오브더빈', '더로스터리카페데베르', '스타벅스광장점', '미미커피', '카페파티오', '피터프루츠', '해피커피', '세라비', '커피하우스비', '커피코마', '리믹스앤더쥬스', '카페크레마', '코코브루니한남점', '토프레소신논현점', '작은커피집', '루이스대디커피고야', '진공안드로메다스튜디오카페', '사주카페', '빈스빈스가로수길점', '마노리치', '심쿵달콩만화카페', '미루카페', '할리스커피회현SK리더스뷰', '향', '더플레이트', '더비스킷카페', '삼삼한청춘', '카페가비', '아일랜드', '카사란', '마리아칼라스.아름다운구멍가게', '카페마마스', '커핀그루나루', '커피베이시립대점', '스카이라인', '카페리앙', '프리카페', '요거프레소용산한강로점', '자연드림건강드림', '29-77카페', '커피볶는미스킴', '엘루체카페', '샘', '카페메종드한', '팩토리카페', '규젤', '자올카페', '마이쥬스', '커피세도나', '베이지', 'CafeS', '카페아이스베리', 'COFFEEN', '성호', 'BILLYANGEL', '소소한즐거음', '별난만두까페', '커피빈코리아고대참살이길점', '컴포스커피수서점', '앤써커피로스터스', '할리스커피구로디지털단지점', 'VAN', '카페미유', '홍커피', '칠성다방', '쥬스', '쥬씨영일고점', '에르보리앙', '모찌청', '카페24창업센터', '명커피', '아이스크림천국', '아워홈디카페', '월든커피', '햅시바', '요거프레소태릉입구역점', 'DEAR카페', '프랜즈디자인', '커피커플', '카페제이비블루', '올빛', '썬다방', 'CAFEIMAGO', '디저트39합정점', '서연리얼티앤카페', '마운틴뷰', '앤스', '엔트런스', '카페유원', '오디', '일레븐시스', 'DAILYDEE', 'RichMango', 'COFFEEBOX', '325카페', '아멜리아', '소소한빈스토리', '커피디자인', '하우스브란트', '미스터퀵다방', '카페리CafeRe합정점', '디저트39서초법원점', '인타임카페', '데이지', 'NINECOFFEE', '오곰커피', '케사미고', '에꼴드마카롱', '타미하우스선릉점', 'SDS커피&', '101커피컨테이너', '콩툰만화카페신천점', '타임', '엔존', '카페루', '행복마루', '탐앤탐스가로수길', '레브', '노아스부티크', '우종호커피', 'WAFFINGCOFFEE', '빅핑거', '안느시카페', '그레트힐란', 'IF커피전문점', '꼼작', '타미하우스가산에이스', '커피투고', 'TaimDish', '아이닛시/공차시', '메가커피.에이치비지니', 'CAFFEILLYNO', '블랙홀', '이트앤토크', '소보COFFE&DRINK', '주스탐', '커피로', '푸른풀밭', '엄마가만든파이', '사주카페갤러리', '면곡당', 'CoCoRo', 'CAFEONES', '샐러브001', 'THECAFESHEENBANG', '자리', '바닐라라떼', '카페블레스', '카페예랑', '일리카페잠실아이파크점', '폴바셋신세계백화점본점', '롯데리아', '그카페', '테이큰커피', '시노', '테라로사여의도지점', '커피볶는성군', '예스커피', 'COFFEEBEAN영동2교사거리점', '쌔씨커피', '썬리취치즈카페', '쇼콜라', '은이네커피', 'TheAkoffee', '증가로커피공방', '경이로운', '다락방', '쥬비스플라워', '베네데프', '보스코쿠치나', '바르도아이스크림', '복다방', '메이딘리', '빈티지204', '휘스커', '커피마켓어스', '홍콤바인', '카페네꼬', '라온커피인터내셔날', '에잇디카페', '언약커피하우스', '버터핑거팬케이크', '카페인', '곰미커피', '인비트원', '사랑채', '빽다방청담영동고점', '커피의기준', 'PAULSCOFFEE', '라일락다방', '벨가', '도피오커피한양대', '커피스미스', '엘림카페&스낵쉼터', '칠요일의케이크', '커피브레이크', '예스투탐', '수사주까페', '커피앤슈', '무늬공방까페', '리얼크레마', '삼성에버랜드그레이스타워웰스토리카페', '투썸플레이스커피경희대점', '오가다안국점', '스타벅스회현역점', '커피베이강남삼성2동점', '루트커피숍', '버블톡', '반지대학', '백포티', '쏠레커피숍', '커피빈코리아CBTL서울', '초코렛카페', '디카페아날로그', '카페홀릭', '갤러리커피하우스', '엔제리너스롯데캐슬잠실교보', '달다롱', '이네카페', '뮤커피', '17그램', '카페띠아모답십리점', '오렌지', '에코하우스커피기프트', '차콜로스터커피', '아리랑', '앤티앤스프레즐', '셀렉토커피압구정점', '주연커피숍', '말리커피', '후루츠젤라떼리아', '플래그쉽', '커피칼라', '브룬', '느티나무', '미스터브리즈커피강서구청점', '그린토마토', '커피빈코리아역삼동태광타워점', '카페H', '레이크', '카페안커피', '프렌즈커피컴퍼니', '샌드위치카페', '보그너커피신금호동점', '언니카페', '골드버튼커피로스터스', '청자다방', '커피앤버블', '커피마리오', '동부다방', '엘카페커피로스터스', '아자부', '이찌고', '카페스페이스', '피데스', '커피앤드', '다린갤러리', '쎄븐스퀘어', '아르봉봉', '파파오가닉', '오뚜기상조회오뚜기센터점', '디비스토리카페', '다빈치', '쉐어드테이블', '스타벅스광화문점', '엔237카페앤베이커리', '또봄', '카페미빌', '카페에피톤', '낭띠', '카페포우', '카페플리츠미', 'CafeNamoo', '파스쿠찌동대문APM점', '북카페다독다독多讀茶讀', '카페사이좋은', '카페홈즈', '카페비스타', '카페있떼', '에이치파이브-117', '웨이크업굿나잇', '도란도란학습카페', '파스커니', '커피기타', 'TovCoffee', '커피를만드는사람들', '소소', '상상다방', '스타벅스역삼럭키점', '파스쿠찌종각알파빌딩점', '롯데칠성음료', '잉겔스', '셀렉토광운대점', '캐쉬플로우커뮤니케이션즈', '카페스타', '카페쉐마', '더체어', 'CafeMODERN', '바란초커피', '브런치뷰', '모데프', '카페리노', '카페테지움', 'wheypoint', '르와조브레', '주경자구름떡카페', '클레오', '랄랄라김반장', '카페도로시', '진커피', '까페오시정', '더불어숲', '테일러커피', '빙빙빙', '카페씨드니', '그리움', '모나티', '커피에반하다신대방역점', '티눈', '카페656', '모니카', '앨스트릿커피', '드립하우스', '플러스카페마로니에공원점', '카페리빈강남', '쟈드커피숍', '카페다온', '홍림통산진락', '까페핸드', '긱스타피씨카페', '권농동커피플레이스', '퓨로쥬스퇴계로점', '푸어스테디인뉴욕', '메리핀', '탐앤탐스영등포', '카페디오', '엠뷰티크', '사회적협동조합동방', '스테이지', '샐:미', '에코커피', '커피볶는중카페김쌤', '카페리세', '매직샵', '망명정부', '삼성웰스토리커피앤', '한강아라', '닥터스', '커피볶는女子', '엔제리너스시립대', '지올리띠강남직영점', '커피앤콤마', '브로트가쎄율리', '원인어밀리언', '이립스', '커피폴', '커피빈코리아대치사거리점', '존화이트', '카페홉슈', '조스샌드위치앤커피', '고디바광화문점', '까페덴', '바토커피점', '코피에반하다', '춘화당', '힐링카페심신프리', '카페마루', '카페코보스', '착한커피구로동지점', '퍼니펑키슬라임&폰데코&초콜릿만들기-', '카페쎄리오동국대원흥관점', '아마스빈버블티잠실장미상가점', '커피공장2010', '점핑파크마곡점', '다빈치커피', '워킹타이틀', '공차현대아울렛가산점', '카페반할라', '홍어와탁주', '카페산다', '할리스커피노원문화의거리점', '카페시프트', '기센코리아', '힐링초이스', '플로블랑', '로프트스터디카페', '카페삼삼', '리즈앤틱', '서교동모형다방', 'JAHA커피', '쥬씨덕성여대점', '엔젤이너스', 'Salondetearoom미스홍자', '카페베네등촌역점', '호나s플로리안', '케이신나뚜루청량리롯데백화점', '공차한양대점', '카페아파시아나또', '타요키즈카페', '주택커피', 'CAFE영등포역점', 'CAFE302', '생활창작가게키', '우리함께', '아름다운사람들의공간', '나시타까페', '야니', 'AtoZcafe', '마이도시국민전산', '파르코커피', '투썸플레이스세관사거리점', '하나빈', 'HN카페', '티티까페', '양지다방', '커피빈코리아신사점', '씨앤앤카페영풍문고', '도티카페', '카페미미미', '리제', '아삽', 'CAFENO37', '브레드피트', 'RJPOT', '라티노', '강남면세점커피', '수수가든카페', '쉴만한물가', 'CAFE가끔', '강남푸드마켓미소', '어거스트준', '하나미즈키', '킹콩조아커피', '키노키노', '소원나무', '커피메이플', '담쟁이북카페', 'COFFEESHOLIC', '언뜻가게', '참좋다', '커피에이비', '규s커피', '프롬하츠', '차칸커피', '이디아커피역점', 'cafe,끌림', '프레쉬컵커피', '커피니미래와희망산부인과라운지카페', '스타벅스영등포신길DT점', 'Qulznos', '빈투빈', '피터패트', '카페까밥', '이디야커피광산사거리점', '사랑해디저트', '수무디킹명동메트로점', '엘쥬쥬디저트', '사원카페', '이지카페', '꽃올림', 'Cafe요거프레소', '손탁커피YG점', '스타벅스한성대입구역점', '카페라샤워', '빅', '조은쥬스앤밀크티', 'Jelly', '커피트리', '샤론꽃방', '또또', '공차현대천호점팝업스토어', '카페함크', '커피엔드붕붕', '미소디', '파오파오차', '카페리움', '커피나무서울대입구역점', '쥬뜨', '지구별고양이', '하얀다방', '아모제카페아모제', 'chewychewy', '로스터스커피', '마시그레이', '라조', '공감락까페', 'BANJO', '커피랩', 'Cafe문달', '카페아페토', '수애뇨339', '스타벅스남산스테이트', '그램', '지혜나무', '커피베이노원하계점', '카페스텔라', '쿠카쿠', '이즈', '필름37.2카페', '브라운핸즈도곡점', '투썸플레이스판교SK', '하우스터디', 'CAFEAZITO', '커피,와+,버블티', '쥬스식스노량진행복점', '밀로커피', '갤러리카페900', '제이에스커피', '또아식빵', '보나비아티제신라', 'SMC', '사미루', '베리빈스', '볼라벤커피', '레빵뺑', '플랫', '아마스빈코리아', '할리스커피답십리역점', '씨알', '전통찻집들꽃', '롤앤브래드리퀴드', '열매다방', '팔칠', '매머드커피묵동자이점', '음대카페', '두소카페', '도토루커피숍수유지점', '비긴', '예다손', '카페지애', '도이창카페은평', '앵글러빈', '폴바셋여의도롯데캐슬점', '느릿느릿', '콩툰만화카페', '폴바셋롯데영등포점', '예스디자인', '찬합', '하늘카페', '갤러리아트다림', '카페리사', '카페작은나무', 'Lcafe', '카페콜롬버스', '아하브', '파스쿠찌LG트윈타워점', '라프라스', '카페소피', '카페자우', '레몬트리', '파이브포인츠', '마도', '폴바셋신세계본점2호점', '남양유업백미당천호점', '서울서부범죄피해자지원센터사업', '커피와대장장이', 'COFFEEY', '남산커피', '키다방', '혜윰', '카페온도', 'ROBERTHARRIS', '디저트카페골드맘', 'Coffee:D1', '굿띵커피', '베러댄와플협동조합', '커피자리', 'JOHNCOOK', '바리스파티움', '엘오에이커피', 'CaffeLaterre', '카페더브릿지합정점', '프라우스타상암월드컵1호점', '이화동애', '트립커피', '봄이', '더라운드', '카페그림', '92C', '카페131', '커피마스', '카페디차', '커피반하다', '네추럴티어스', '메가커피대학점', '카페베네마포용강팰리스', '반스커피', '파스쿠치커피숍', '씨엔엔카페', '카페동네', '위드유시흥카페', '미스터카페', '영단기라운지', '8온스', '바꿈카페', '카페오작교', '앤드히어', '탐앤탐스홈플러스강서점', '비알브에노스페이스', '디스커버커피남산', '다솔', '2카페', '볼룸', '서울에서첫번째전통찻집', '좁은문까페', '할리스커피올림픽프라자점', '카페오카', '뉴부림커피숍', '커피리', 'D카페', '스타벅스송파사거리점', '중심가', '연꽃향기', '라이스팩토리', '정우에스프레소', '아이케어와사람들', '커피앤키', '153커피앤해피', 'TURTLELIBRARY', 'cafe구석', '마치래빗샐러드가로수길본점', '설빙인사점', '블랙빈', '쥬씨성수아이티점', '리얼빈', '카툰바이커피', '어나더커피로스터스', '24.7카페', '까망콩', 'J빌딩J카페', '볶은콩에피는꽃카페모카', '카페블랙드럼', '카페띤', '라이프커피', '에어패스', 'JANTIQUE', '디드릭로스터스커피', '셀렉토커피돌곶이역스타점', '카이저커피', '커피산책', '후르츠팜', 'RANA', '시스템', '커피아일랜드', '노랑카페', '원더빌더커피', '유니콘팩토리', '카페트렌디', '잉큼', '동서울호텔 커피숍', '모짜르트카페', '아쎄두', '쥬씨장승배기점', '모뜨', '몽바커피', '커피상점이심', '나이브', '니블리', '뉴욕핫도그앤커피안암', '코나빈스', '도깨비', '두젠틀', '산중다원', '왕다방', '클렌치', 'BARISTA', '카페라오라오', '해피레몬', '명일커피숍', 'EJ', '카흐베하네', '손끝세상', '카페베네송파구청점', '카페나무', '부두아', '코레일유통공차코리아', '프레도&토스트', '앨리스', '쥬스방', '커피디셈버', '쥬씨등촌역점', 'CAFEH', '워너빈', '블루포트', '공릉다방', '더나무', '스타벅스석촌서호점', '캔모아플러스', '크럼브', '커피빈코리아한티역디마크빌딩점', 'HansCoffee', '커피어게인', '티라레미수성수에스팩토리점', '카페4776', '남산커피집', '옛찻집', '카페띠모아', '폴바셋역삼점', '카페르보땅', '커피꼬모', '아모르카페', '런던바니', '카페애티', '파라다이스커피', '엉클롱', '라카페갤러리', '청다방', '상아탑', '익.coffee', '왓츠업PC방', '백죠다방', '마쿤키친카페', 'TAETEA대익보이차', '토리돌코리아라나이카페', '파스쿠찌연세세브란스2호', '디터틀', '쥬스바', '뽀쪼중계점', '복인당', '배스킨라빈스', '맹커피숍', '카페인터뷰', '커피앤소울', '알토란', '스타일', '수련찻집', '상봉맞이방커피', '성공을도와주는카페', '라스미어', '카페진락', '커피플레이스', '허니빙스', '버블마닐', '라임스트리트커피일기', '카페티모아', 'SOMETEA', '아이월드', '데이비드쥬스', '까페쁠레쟝', '상가', '우리', '할리스커피합정역점', '더반카페앤드홈베이커리', '커피빈코리아강남역142', '밤차', '유올', '커피플리즈', '맑은물카페', '커피식스', '진솔커피코리아', '릴리움', '곰커피캠퍼스', 'TODAH', '커피빈코리아구의삼성쉐르빌점', '카페콤마', 'A3CHIVECOFFEE', '커피루왁', '365-T', '할리스커피', '아이스팩트리', '보나비아티제잠실롯데월드몰점', '바나나유', '우쥬라이크카페', '커피하우저', '해밀', '소딜리셔스카페', '상록수', '토닥토닥', '베누스타', '커피주네', 'BETWINS', '베르띠체커피전문점', '금호커피숍', '카페LUKE', '초코츄츄', '트립티커피', '메이린카페', '506커피하우스재미갤러리', '카페에쏠로지', '토프레소신설동점', '커피빈코리아건대스타시티', '윌러스', '오렌', '이화장', '커피&', '스타벅스노원마들역점', '더리얼', '커피베이상도파크자이점', '카페숲', '프라이데이무브먼트', '아이크스커피THEGARD', '카페에클레시아', '신스커피', '반지앤디저트카페', '스카이보드', '요요프레쉬티바', '썸주스', '와일드커피', '별콩다방', '루고', '버블리', '로스팅반커피', '디저트카페A음암점', '정지애', '쥬스스타방학역점', '윙스커피', '호야커피로스터스', '나무플라워카페', '가빈커피로스터', '차밍디쉬', '스무디킹중계롯데마트점', '카페테르', '카페보니떼마들점', '쥬씨삼성점', '브라운브레드커피', 'cafeHero', '카페레', '아이스베리', '신라다방', '럭키스터디까페', 'CAFE95', '퍼피커피', '구세군엔젤스토리', '커피낙타', '진커피숍', '보스케베이커리카페', '토즈아트레온점', '카페소', '커피나무노량진3호점', '카페케이', '커피크루', '빈스앤베리즈태평로점', '카페드람브르', 'DUK커피', '하울팟', '허니와', '쥬씨동부시장점', '스타벅스문정역점', '빽다방망원시장점', '카페하바나', '집중소', '카페아이엠티을지로유안타증권점엔브이알', '카페아르떼', '투썸플레이스광화문', '남문찻집', '미스터투고', 'CAFECO', '쥬씨양천구청점', '스타벅스마곡나루역점', '버스커', '목화', '투썸플레이스신논현역점1', '카페쇼파르', '1999카페', '헬로우커피', '그렇게카페가된다', '카페꽃피는집', '블루리본', '카페타라', '숲속카페', '커피레벨52대륭점', '인더랩', '호박', '미인단팥빵', 'osevens', '씨엔엔카페고려대서울캠퍼스', '비어카페길양', '메디아', '애견카페개그멍', '제비다방', '단하나케이크', '세렝게티', '자니로켓카페', '투썸플레이스강남역중앙점', '카페르퓌제', '커피빈코리아MBC경영센터', '카페마에스트로', '커피볶는피루니', '휠링', '키즈북까페', '써니데이커피', '스타벅스문정하비오점', '카페원더스', '카페타임플라이스', '요거프레소응암역점', '보나비아티제미래와희망병원점', '정우연', '우면동다방', 'olleh', '커피스마일', '삼양푸드다이닝까페믹스엔', '스페이스엠', '커피알렉스', '티맑은커피전문점', '소설카페', 'CNN카페명지대서울캠퍼스점', '모리나리', '띵낑커피', '동원홈푸드서울고등검찰청샌드프레소', '카페도도', '허니비케이크', 'CAFE호우', '수다카페', 'cafe2350', '휴머니스트카페', '힐링커피', '이루리', '길동무버즈', '달리는커피', '이디야삼성', '카페빌리', 'DIEDRICH역삼점', '도넛플랜트뉴욕시티', '만남다방', '어썸차드', '고전갤러리옥션', '길숲', '마이미미다방', '가만히숨은찻집', '걸리버여행기', 'Sarr', '오십사계단커피', '커피어시스트', '코믹토토만화방', '작심커피', '사랑옵다', '봉트랩', '카페마마스타임스퀘어점', '가까운카페', '죠샌드위치와커피', '엠즈씨드', '무진장', '카페코나', '청구다방', '디초콜릿커피앤드', '오렌지까페', '카페potential', '리얼리티리플렉션', '이글루크리머리', '일팔공커피', '매뉴팩처', '카베하네', '용다방', '웅이네', '엠케이이디야마곡나루역점', '프라비다커피', '로바토', '오하이오옥수', '홈스테드', '한보커피숍', 'Cafeearnest', '힐링앤카페', '카페베리트', '젬블리스', 'TOPBAR', 'olentio', '델리로티', '라움카페', '비씨800서서울모터리움점', '미네르바', '카페워너비', '차오름인사동점', '스타벅스목동점', '카페보다', '몬무스커피', 'PLAN.Bean', '카페아띠지아노', '티포투', '하니커피', '보이차사랑방', '은혜카페', '폴바셋롯데본점', '까페비아', '산다미아노', '반지캠퍼스카페', '카페테루아', '패션5제이미하우스', 'CABANA', '매머드커피역삼GFC점', '쏘렐라마켓', '여름커피로스터즈', '데미타스', '카페모', '독스PC방', '가재울지혜마루', '카페시율', '플젠24', '카페모스트', '쿵짝쿵짝공작소', '팔백이십삼미터', '수수커피컴퍼니', '아데네', '씨제이푸드빌콜드스톤크리', '카페기린CAFEKIRIN', 'cafevent', '브래드앤빈', '선유도커피', '준스와플', '쥬씨왕십리역점', '쥬씨약수점', '커피인더블랙', '금화당', '콘레드커피', '카페라노떼', '더카페동작구청점', '투썸플레이스포스코사거리점', '아름드리카페', '그린고메', '두더지손', '합동휴게실', 'AHC플레이존신사점카페테리아', '융드립커피', '카페루바토', '친절한커피집', '이앤디', '카페달콩', '반지만들기카페', '세븐몽키즈', '커피드', '퀸즈타운', '등촌빈스토리', '데니스', 'S-카페', '이승커피펙토리', 'BANANATALK', '주빈커피로스팅', '향기', '스타벅스마포아크로타워점', '본초맘죽&coffee', '지스토리', '커피빈순화점', '스타벅스구로에이스트윈타워1점', '세시봉7080', '새임새임', '이레커피', '카페나무야', '커피빈코리아강변테크노마트점', '샵브이알', '카페롯지201', '투썸플레이스발산역점', '커피곳', '쥬씨위례트랜짓몰2호점', '마크앤프랭크', '데미타스커피상암DMC점', '청주오믈렛', '카페커먼띵스', '부암동언니네', '독수리', 'COMMONROOM', '카페베네역점', '커피테라스', '마리', '만리헬스카페', '스타벅스마포트라팰점', '스타벅스화곡DT점', '커피만나', '크리에이티브맥셀', '마론바게트', '54계단커피', '차휴', '한국문화재보호재단', '골목', '이오의아침', '에스베네핏', '대익인터내셔날코리아대익', '커피레이', '1%리버티커피', '두손', '카페루이석촌호수점', '해남커피숍', '캐리스커피', '라비또', '니어마이비카페', '네스카페베르누이호텔오류동점', '74시즌으로', '어라운드썰티', '쥬씨서울시립대점', '파리커피숍', '마노핀압구정역점', '부나빈', '캐스팅', '와하하커피', '티카페', '메종프랭크', '블랙앤브라운', 'W커피바', '구카페종로1점', '카페드빈티지', '날쌘카페', '카페아르코', '커피카포', 'Coffeeonly', '서울대학교병원휴게실', '승일푸드', '셀그린농산킹콩쥬스엔커피', '카페헐리우드', 'DININGBOX', '카페컬리넌', '코에보컬쳐앤카페', '그리고카페', '코레일유통할리스커피', '라무어Lamour', '마노핀', '휘도르', '베이스커피전문점', '정다운커피집', '여기쯤', '아마스빈은행사거리점', '우리동네빵순이', '송정뜨락', '포우어', '디캡슐', '메디칼드림', '아름다운콩커피', '올데이브런치', '라끌레도르', '타로', '밀크카우', '버거307', '에코로하스', '아이에스아비시니카', '카페릴라', '나무의시간', '에쯔', '신촌시크릿', '카페가인', '반지만들기반지대학', '카리스', '함께커피팜투컵', '프리미엄커피', '빽다방신사역점', '카페칸타타태릉입구역', '팍스커피', '서린다방', '카페레오', '동광커피숍', '파이나누기', '엔젤리또', '커피베이장승배기역점', '카페라임', '더로바이트윈스', '카페가가', '바른강정연구소', '커피빈코리아삼청동점', '꽃꿈', '대지다방', '라벨라양재하이브랜드', '로즈버드렌탈서비스', 'cafe사월', '오얏꽃', 'hundred11', '파티나', '티-타임푸드', '카페그루', '니드카페', '서울통닭', '아띠랑스', '소담한풍경', '씬커피전문점', '카페미뇽', '아붕', '예쁜커피', '까페골든컵올림픽공원점', '더커피팰리스', '카페1046', 'DALSSA', '아트큐브', '코코부르니', '빈티지팩토리', 'cantocoffee', '더브레드블루', '코오롱찻집', '카페이야기', '아르티시카페', 'CAFFE모꼬', '아로믹스커피시스템', '코스트코코리아푸드코트커피코너', 'PUESTO', '온온커피', '매드폭스커피', '단빙각', '카페지브린엠', '설기향기앙금플라워떡케이크', 'POTTERSCOFFEE', '커피사회', '블랙빈스커피', '머그포래빗', '스타벅스신압구정점', '사랑커피숍', '한국플러스말차팥차', 'Cafeflat', 'CAFELULU', '커피1498', '오븐앤', '생각이나서', '붉은산다화', '옥다방', '퍼블릭캠프', 'TWOSOMEPLACE', '파스쿠찌화곡역점', '커피잉', 'M카페', '보성테크', 'BrownHouse커피', '쁘띠렌', '바리스타마르코강서경찰서점', 'HERESURCOFFEE', '커피빈삼성로점', '골목카페일구공', '머스타시', '라포레', '카페샌앤디', '르브레드랩', '엠케이세븐', '원츄', '폴바셋상암MBC미디어센터점', '스타벅스방배카페입구', '콩셔틀', '수화다방', '큐풀러스', '수레', '슬로우브릭', '커피나무장안교점', '카페쁠레노', '슈슈컵', '빽다방성신여대점', '호미빙', '손탁', '메가엠지씨커피', '카페구마리온', '메이커스페이스', '투썸플레이스창동이마트점', '공차국악고점', '텀브커피강동성심병원점', 'ANOPLA', '영우명지전문대편의점', '오리엔탈스푼', '쥬씨한신대교차로점', '마피아커피', '커피샤워', '마음', '북악관커피점', '테이크아웃드로잉카페', '베네핏', '모닝에스프레소', '반달곰', '카페마실', '쿠와', '카페오', 'FluffyMountain', '사주카페자미', '카페오가다롯데월드몰', '도쿄빙수익선동', '카페안', '까페마로니에', '피아이지에이', '몬스터카페', '커피니', '카페리코', '이누', '지앤지카페', '센트코리아띠아모한양대HK점', '오너스', '설빙청담공원점', '이디아', '삼형다방', '서울만남의광장휴게소TOMNTOMS', '카페샤인', '마이크로', '공차양재본점', '금보성아트센터', '커피소리', '미피커피', '비오는가을아침', '드러머', '토즈모임센터건대점', '코나코모', '하운스스터디카페', '울트라커피', '빨라쪼델쁘레또', '까페업', '제프리스아카데미', 'CAFEJ카페제이', '알뮤트1917', '유어페이보릿', '쁘띠아르브르', '카페베네홍은사거리점', '담소', '건대포토카페프린세스', '투썸플레이스커피', '쏘나이스커피', '모이슨', '더치스', '카페노리터', '르미엘커피', '크랙', '아리스타커피다동점', '카페타루', '에이디HOCCOFFEE', '테일팟', '에아미스커피', '아임유', '커피앤쿠키', '보나비아티제잠실타워730점', 'MANCAVE', '이따르뜨사당점', '착한커피구로디지털역점', 'Lindas', '카페한여름밤의꿈', '엔제리너스강남삼성타운', '커피트레인', '휘드카페', '커피만역점', '카페아델라', '에이치이에이', '보헤미안박이추커피공장', '카페파스쿠찌', '커피아저씨', '빌리엔젤마리오아울렛', '마이쥬카페', '마이하우스카페', '요리프레소', '리네아의가게', 'pitstop', '홀빈커피', '투썸플레이스', '어반코트', '성북동커피', '카페밀브리지', '탐앤탐스온수역점', '투썸플레이스쌍문역점', '루크테이블', '투썸플레이스금호하이리버점금호하이리버점', '새싹까페', '예그리나카페', '커피IT수다', '두드림씨앤엠', '카페파시오네', '마므레', '스타벅스종각점', '스마트브릭키즈카페', '스타벅스새문안로점', '스타벅스압구정점', '카페더브릿지', '야노아', '헤븐리가든', '해인아트', '카페슈몽', '오설록티하우스삼청동점', '우림', '더파빌리온', '영자클럽club석관점', '비안', '카페질리', '꿈너머', '만쥬커피', '하워드커피', 'espressamente', '종로강남한의원식품사업부더쌍화', '이상한나라의앨리스', '쭈다방NAIL', '대무', '빈.티.지', '팝콘트리', '더안페리스', '작은언덕', '까페원', '미니다방', '카페더SOL', '산머리차방', '커피홀엔터식스한양대점', '커피버스', '새콩커피', '홈', '브라운홀릭', '미노스', '언커먼그라운드커피카페', '라바짜블루코리아', '바모스시청점', '애드립', '커피힐스', '미니말레커피', '래빗스디저트카페', '투썸플레이스중계은행사거리점', '힐링카페테라하우스', '호시', '쉐어티', '셀트리온스킨큐어카페', '양선생커피', '와이파이', '스타벅스연대동문', '키즈팡팡구산점', '하우', '원두우먼', '핸드드립드로우커피콩', '카페AA삼청동점', '경성커피랩', '만델링커피코리아', '노랑커피콩', '카페베리타스', '우리라운지', '마이스터디카페', '청년다방가락점', '소유화', '성덕정길', '보나비아티제상일GEC', '탁앤초이투썸플레이스청담역지점', '오페뜨이수점', '커피빈남부터미널점', '팬더', '제너시스에프앤비스위트빈', 'MADCOFFEE삼성점', '꽃다방', '타이티카페', '코니써', '자로커피', '가배팩토리', '역촌동,카페', '마미카롱&건대케이크', '하재네커피', '리치커피숍', '동도카페트', 'FX스윙', '라퓨마보드게임', 'e-갤러리사주까페', '미스터프랭크', '파스쿠찌삼성역점', '몽탄이네M&THOUSE엠엔티하우스', 'Igoteverything강동구청', '수연라이브메들리', '갤러리전통찻집', '단카스테', '헤븐', 'CNNtheBiz', '신세계푸드이하우스에델리아', '온새미로cafe', '퀸즈브라운', '씨에스타커피', '킹스빈커피', 'YEOGIYA커피', '원더우먼', '신흥커피숍', '카페드위드샨', 'cafenoll', '공간여유', '핑크파이', '디자인카페', '꽃담길', '상록', '커피캣츠웰', '일젤라또', '선COFFEE', '카페이스턴', '끌레르봉봉', '빽다방-목동사거리점', '사랑나눔카페', '과일다방', '라운드어바웃', '해브커피', '안다미료', '극단배우다방', '카페:인', '다톡다톡카페협동조합', '카페테인', '핸더스', '엘리스스픈케익&커피', '커피베이롯데청량리플라자점', '포트오브모카문정점', '틈', '셀렉토커피잠실시그마타워점', '카페라엘스', '에쏠로지구로2호점', '아임유어커피', '커피업', '커피나라', 'lex', '미스터커피로스터리', '이디야커피연구소', '맨즈커피', '펭귄마카롱', '카페페비어리', '띠아모이대점', '유오디아', '숲', 'CAFEB', '뺨이샵', '공차중앙대점', '맹꽁이노리터', '스타벅스커피가산브이타워', '맥썸커피', '까페낮잠', '카페몰리', '스타벅스송파구청점', '카페드롭탑송파가락', '카페노마드', '엘에스씨푸드티타임동아', '카페어느날', '카페보테가', '리코리스커피', '000간', '커뮤니티카페', '사랑이뭐길래', '할리스커피홍대역점', '커피볶는김판다', '청담사주앤카페', '갤러리홈즈', '300420', '사카', '카페루스터', '이디아커피합정엘아이지점', '쥬씨상도역점', 'EERT', '초원', '카페파스쿠치', '학산', '더가든커피', '준스빈', '꿀잠', 'deldoge', '아쿠아플라넷63카페', '퀸까페', '아마스빈구로점', '만랩커피문정', '죠아찌쥬스', '허니빙수', '투썸플레이스뱅뱅사거리점', '헤어네이쳐스케커피', '클립에스프레소', '메가커피신도림역점', '오르앤지드', '스베아', '던킨도넛', '티하임', '온수밀밭', '더치인', '코스빈', '스타벅스강남점', '책다방위숨', 'PHILCOFFEE', '커피앨리', '쥬씨휘경점', '플러피마운틴', '모노레일커피', '커피볶는집르카페', '두공간', '테디베어주롯데월드몰점', 'Cafegran', '파시야', '파스쿠찌대학로점', '별', '벨로치노', '제이콥스테이블', '초코비니', 'CAFE4가13번지', '파시당', '크런치오븐', '로빈', 'KT', '다사랑다방', '카페나인', '함께하는문화', '성북청소년문화의집', '카페팟', '아리스타커피역삼2호점', '땅뜨', '아라코스타에스프레소', '카페데리오', 'Coffeesquare', '아아폴리델리', '유어퍼블릭오아시스', '빌리엔젤신촌', '트루디', '신라스테이서대문까페', 'IQ84CHURROS', '브라운팩토리', '영동다방', '이스팀', 'BULLDOGCOFFEELAB61', '트리니티까페', '카페베네청담사거리', '커피더캠프', '씨27', '커피전문점DZ', '커피에설레다', '힐링카페에코맘', '카페놀이터', '더담쟁이', '카페인더집', 'CafeMusto', '까페마켓', '카페미엘', '커피엠', '더치드림', '레드카페', '카페벤지', '훈남', '라마노', '다니엘커피숍', '오리지널팬케이크하우스이태원점', '고디바삼청점', '고웨스트', '반미팩토리', '아이프', '카페블라썸', '데이앤데이', '쥬빠', '아티젠', '미스타이거', '그라찌에경희대행복기숙사점', '미노르', '케틀커피', '상상아트홀카페', '강남고양이', '주스의신', '커피라운지55', '새우개카페', '레벨업', '별빛', '우리동네그림가게', '썰쓰티', '토프레스', '영인성', '커피마마신내3지구점', '투썸플레이스우장산역점', '카페24창업센터보라매점', '스윗윤', '에어커피', '카페라온꿈', '어반테라스', '지니스', '떼루와떼루와자양3호점', '커피니종합운동장역점', '까', '아카프', '체화당', '갈릴리까페', '토마토키즈카페', '365씨에이치에이', '슈퍼커피신도림푸르지오점', '살롱드떼벨로', '슬로우리', '쥬씨군자역점', 'G아르체', '베이크스토리', '에이미스커피코리아', '카페엔젤', '에이쓰리바우트커피', '카페메이빈', '황칠가힐링샵', '카페트리니티', '별라카페', '브렌다플라워', '삼성웰스토리동국대기숙사', '카페오로시', '와플마녀', '커피탄타라', '포포리POPORI', '웨스트엔드문화카페', '폴바셋서울세관사거리점', '달콤커피발산역점', '잇버블비앤비윗커피', '요거프레소대치아이파크점', '키즈카페', '카페동선', '커피오쩜일', '카페오리', '서룡씨앤케이코와핀강변역', '에브리데이챠', '게이트4', '보그너커피종암동점', '미스터블랙', '워너커피', '비트포비아', '커피헤븐', '히포커피', '웜블루', '더좋은생각', '버블커피', '케이포크', '하이버', '스터디룸인', '뉴욕핫도그&커피', '이수커피', '친절한현석씨네', '밀케이커피', '언니네커피', '연운당', '스콜라', '스퀘어비스트로앤샵', '베네시아코리아', '커피메이킹', '계동13', 'Cafe79Rang친구랑', '파쪼카페', '쥬씨양천향교역점', '에이아이디카페롯데월드몰', '연소바', '스무디킹코리아', '바나나하루키', 'CNNCAFE한양대역점', '카페인바이티드', '밀키밀키', '서교예술실험센터무인카페', '씨제이투썸플레이스', '커피양탕국', '터치까페', '사는동안', '아이센스PC방강남역점', '와플대학', '키스엔커피', '커피콩콩', '카페봄날', 'CafeH', '보스톤커피코리아', '모카하마', 'coffeesharp#', '커피빈코리아선릉로86', '퍼피도그', 'at61', '백다방커피', '블랙앤트리', '반지놀이터신사가로수길점', '아로마틱커피브루어스', '커피스미스점', '요거프레소구로구청점', '소호', '에이그레이트카페구로직영점', '커피멜로우', '맘스카페', '피닉스', '47stCafe#', '투썸플레이스가산대성디폴리스점', '카페인인', '미스터브리즈커피가양점', '까치', '카페레즈', '커피볶는영다방', '물커피', '음성골만두카페', '알랑가', '공정무역평화다방', '카페산보', '카페어니스티', 'HOLLYSCO', '카페라', '사주카페세일', '나무네요프롤아트커피', '더와플', '우정다방', 'ATTIORE커피나무', '허니박스', '남산카페', '카페루앤비화곡점', '라이언컴퍼니', '주빈', '참카페', '카페알베로', '카페아드리아', '사랑방', '봄봄테이크아웃', 'EDIYA카페', '플로릭카페', '제시카', '카페나무영우성균관대', '아난티', '슬로웨이', '더치앤빈가산디폴리스점', '이디야커피을지로역점', '슈비두비', '베네선릉점', '엔타스카페테리아', '몽마르뜨언덕위은하수다방', '도노한남', '까페Joyous', '빈투커피', '혼디커피로스터', '커피지아', '에듀라이브러리까페', '더투웰브그로우', 'cafe74℉', 'Fruittogo', '말리커피강남점말리씨앤브', '커피에반하다길동역점', '미래월드', '더로비', '디토', '토즈모임센터', '써니주분', '현경개발', '까페마당', '고또카페GOTTO', '아람', '배재란의coffeecalass', 'J&J로스팅샵', '커피니양재점', '카페흰돌&U주스', '초원다방', '착한커피', 'Comportcoffee', '투요', '더브라운', '알엔비스커피', '투썸플레이스잠실역점', '좋은하루', '페르마타카페용산점', '포호커피', '엘리펀트커피', '효이다방', '카페큐브', 'CAFEW', '비사이드', '작심커피세종대점', '까페두', '알라카르테', '씨엔엔카페세빛둥둥섬점', '빌리지온', '넵타임커피', '아이비커피', '보스커피숍', 'LOCK&LOCKPLUS', '경북궁앞무드리카페', '통쌀카페쌀리다', '배스킨라빈스불광', '알레투어앤카페', '둔촌동카페', '태종커피숍', '커피볶는곤이네집', '삼성OK공인중개사사무소', '와플반트남부터미널', '베네코드', '란미은', '디저트39강동명일점', '카페화실', '명동커피I명동커피II', '커피빈코리아매헌역점', '예일커피.호프', '커피베이대방현대점', '채트', 'HOUSECAFERESTAURANT', 'Coffeednaroostingcompany', '골드라떼', '챔프커피', '로렌스테이블', '탐앤탐스삼모타워신림역점', '카페세라', '카페오르막', '호이차', '스타벅스강남삼성타운점', 'MAFIACOFFEE', '제임스', '진서의정원', 'G커피샵', '카페모나티', '커피가있는라멘집', '플라워카페에일린', '쥬씨포스코점', '요거프레소광산사거리점', '서울강동경찰서복지회', '본디', '카페정민', '지엔피인터네셔널', '스타벅스충정타워점', '열두시이십분', 'ATwosomPlace', '95도CCoffee&버블티', '바나다', '모캄보', '스터디카페나무앤', '크레마도르', '하지커피', '카페브러리에어', '카페올', '까페봄', '프쉬케', '나무와인', '키웨스트커피', '베네', '라떼킹', '브로', '보성전통찻집', '타르트팜', '베리베리', '여기인가', '장수차생활', '커피니중계점', 'cafe.U카페.유', '젝키살롱', '더즙', '카페베네논현역', '해초공차6.0', '브레들리', '뮤랭', '커피디지랩', '갤러리하이', '꽃다방미스김&마리왕+', '와우크림', 'LemonMeringue', '씸플십커피', '아미커피', '커피그라피', '퍼넬케익앤커피', '이너모스트', '지튼', '칸커피', '에버롱런던', '가노커피코리아', '잭팟잉글리쉬', '투썸플레이스왕십리역', '트리커피', 'CAFEASHER', '커피디지왕십리뉴타운점', '프레쉬컵', '통툰만화까페', '후르츠팝', '카페로드', 'COFFEELAMB', '몰입', '지엠유', 'LPMUSICCAFE', '키즈카페디보랜드', '탐앤탐스트래블', '우즈오븐', '엘에이보바커피전문점', '가화다방', '샤크', '할리스신림역점', '까페더블해피니스', '카페더블링', '비나원', '커피아이', '다빈커피', '카페무티', '21C&CLUNCHGIFT', '역삼커피로스터스', 'TOMNTOMSCOFFEE', '까페로움', '카페리브레', '느린내림', '비비디바비디부', '부에노커피로스팅CO', '킴스롱도그', '알로카시아인더테라스', 'AVECMOI', '오하이오커피', '파스쿠찌메세나폴리스점', 'TAMMYCOFFEE', '엔커피', '보보스', '옻칠갤러리카페', '커피빈코리아압구정로데오', '비스트로33', '커피시네마', '공간산마루', '엘팔알레이터', '와플스토어', '카페다미', 'manna', '놀자', '투썸플레이스파인애비뉴점', '할리스커피마곡퀸즈파크나인점', '카페바이쏭', '라페스타', '카파커피', '카페다니엘', '아데나', '리틀제이콥스', '커피플레이트바이베로키오', '카페마망', '부름', '허니콤커피로스터스', '스카이카페', '우리마포시니어클럽', '카페블링컵', '베네치아건설', '피어라희망카페', '커피수작', '니나스', 'NEO', '금커피숍', '빅뱅', '분카샤', '탐앤탐스망원점', '엘스', '모노레일에스프레소잠실삼성생', '북카페옹기종기', '커피세븐', '빽스커피', '카페123길', '커피로만', '카페마약', '아잉커피', '경慶', '쥬씨삼성중앙역점', '갓프레소', '사당커피s', '신규커피숍', '카페아이엠티', '엘본그랑까페', '싸가지삼촌', '엠엠티에이치095', '앤믹스', '블루트리', '카페제제', '러빙헛카페', 'THEM', '드롭탑강남아이파크애비뉴점', '비스듬히', '데이즈커피', '커픽처스', '아티제상일GEC점', '모퉁이', '도눔데오엑스커피', 'YUMTHAI', '마틸다엔와이', '알바', '커피마마양재우리집점', '스카이라운지', '쎄븐', '유어플래닛', '파니니카페', '리투팜', '카페뿌우', '아르카디아커피컴퍼니', '비씨팔백', '드림커피', '가네샤사주카페', '노아스로스팅', '295st', '백설공주', '매머드커피', '마이커피', '라온MultiCafeteria', '섬씽엘스', '엠엠티에이치005', '강아지별애견카페', '킹제임스', '메가커피홍대입구역점', '플라워카페', '엑스퍼트마트', '코피커피', 'SNOWFOX', 'PASU', '세이세이세이', '해피트리', '어느날오늘', '수퍼커피', '셜록홈즈잠실점', '카페에티오', '베네테크', 'cafe에스프레소', '커피와생과일주스', '커피팬', '앤트스텔라', '커피노키오', '부다페이스', 'PALCOFFEE', '카페라유', '나인헤르츠', '카파', '아티제여의동점', '크라우드커피', 'CAFEFEEL', '토키오', '더주스박스', '지아뜰리에', '커피볶는농부의자연이준다', '뉴웨이브커피로스터스', '커피스미스군자', 'B.B.Q카페은평뉴타운', '포스빌미카사카페', '흑화당', 'GENERUSCOFFEE', '감나무집까페', '카페아이스빈', '뚜또오케이', '카페4M', '카페카리스&베이비카페', '89반즈플레이스', '마다가스카르', '카야커피랩CHAYAHcoffeelab', '바미', '카페소파', 'chosecoffee', '스태픽스', '커피더캠프로스터스&마카롱', '커피베이방배한샘앞점', '홉슈크림', '유로스타커피', 'BERKELEYCOFFEEE', '카페오세요', '오빠', '엔젤리러스', '강릉산토리니', '로스팅데이신도림점', '행복한이야기', '안다미로종합관점', '러스트', '카페테라스오늘', '카페그레이스', '킹커피', '앤틱박스', '베이크샵701', '타임커피', '프랑스에다녀온붕어빵강남점', '모로티', '바니카페', '원스메이', '토스피아군포화목토', '비틀주스가산디지털단지점', '킹콩쥬스', '커피쟁이', '카페루치아', '소금카페', '일카페', '베네치아', '커피마마망원우리집점', '갤러리카페브레송', 'MEISTERCOFFEE', '발리', '이디야커피청계천점', '경호엑스파일', '카페디디다', '커피리시버', '카페도즈', '에스에스푸드마켓에스에스지커피하우스', '포레스트카페', '하이디하우스', '카페리필', '형광커피', '커피빈코리아천호역점', '라그리마커피', '701호', '라루라루', '종로커피집', '엔제이파크', '지아이카페', '브로커피앤쥬스', '씨나본', '에스씨커피', '커피이레', '리얼에스프레소', '킹스톤커피', '선인', '토마조앤김', '플레이스425', '로벤', '커피유기농박사', '맘앤차일드', '정동다방', 'CFOUR문정점', '고릴라유아체육카페', '예일타운', '마카롱스퀘어', '느티마을사회적협동조합', '부쿠', '강동빈스토리', '바재커피', '카페샤빌레', '카페피아트121', 'B+', '지오북카페', '브라운펄', '섬만화카페', '르보땅', '커피와츄러스', '망고차차', '커피빈코리아서초우성아', '디노월드', '카페베이', '나라카페', '고구마명가', '이니빈', '카페인프라', '커피애비뉴평창동점', '카페에스프레소', '스타벅스예술의전당점', '카페드림고려대학교점', '옷장속커피', '티테라피행랑', 'SG스터디카페', '쥬씨강동구청역점', '보드카페오즈', '쥬씨강서고점', 'MUNCHBEANS', '바닐라블룸', '이야기보따리', '별다방미스리시즌2', '스타벅스역점', '도피오커피', '마피아디저트', '지향커피', '마빈스커피', '커피브로', '고프리', '그랜드카페', '지오갤러리&카페', '송파경찰서송파카페', '포스트카페', '느루커피', '바람쐬다', '큰나무', '닐스', '까페모닝', '오케키', '훌리리', 'JULENG', '아리스타커피서여의도점', 'Studioyilee', '스위트몬스터', '슈퍼커피문정엠스테이트점', '크러쉬온유', '장동민의옹피씨', 'TERAROSA', '중앙커피숖', '에코브릿지커피', 'BREADFORYOU', '코코브루니', '테일리', '혁이다방', '꿈도미노카페', 'COFFEE', '커피메디컬팀', '워커스에디션', '예일', '에띠임프리미엄라운지', '테라로사커피', 'CAFE봄날', '더카페이랜드레저비스더카페네티션닷', '키라키라키친', '슈팅스타', '커피다다', '팡뜰리에대치점', '함께커피팜투컵응암', '설빙강남역점', '당근카페', '첫만남', '디리베', '공차건대점', '퍼니펑키', '체리블러썸', '카페그리다', 'MINOSCOFFEECULT미노스커피', 'SICILY', '수다커피', '선한이웃', '앤드하리', 'TheWitch', '지하실', '스모킹카페신림점', '내카페', '루앤비', '버블퐁', '24시프리카페', 'J니시', '커피노마드', '매그놀리아', '카페플로리', '대박TEA', '모임센터', '올리버스윗', '고메카페', '플로바리스커피', '커피볶는카페', '백남준카페', '키즈카페어린왕자서울대입구역점', '카페핸섬', '드렁큰독', '구다시십', 'brewercoffee', '알콩커피', '좋아해,커피', '커피서랍', '미미당', '디케이커피앤로스터리', '커피작업실CODEAZ', '탐앤탐스명동중앙우체국점', '신계커피', '맨즈비커피', '리에또', '커피로드463', '엠엠티에이치062', '커피빈코리아수유역점', '팔공티', '바리스타마르코지니24', '지파시', '유후인', '파이빌카페', '눈꽃여우대흥점', '체리커피', '다산카페', '카페로', '라이프커피컴퍼니', 'CNNCafe서울대', '북카페산책', '시간이흘러', 'BEANSBARNES빈스바네스', '베네펫', '노란코끼리커피로스터스', '머스핀', '코코브루리', '이디야커피봉천역점', '르살롱바이메종엠오', '커피토스피아월계점', '빅브라더문라이트', '페이브', '까페플로르', '커피와이', 'BOSSCOFFEE', '더퍼스트무브먼트', 'Coffe소', '커피아마토르', '카페라빈', '달콤커피역삼에클라트점', '요그릭', '베스터디', '킹스독', '따스한차한잔', '뮤즈', '오프로앤커피', '만랩커피', '다향전통찻집', '빨라쪼델프레도', '커피볶는이야기두번째공간', '백만잔의차', '가예커피', '이치카커피', '쿠보커피'}\n"
          ]
        }
      ]
    },
    {
      "cell_type": "code",
      "source": [
        "df_coffee.loc[df_coffee['상호명'].str.contains('스타벅스|starbuks|STARBUCKS'), '상호명'].shape"
      ],
      "metadata": {
        "colab": {
          "base_uri": "https://localhost:8080/"
        },
        "id": "gFhYK3Dq-kHJ",
        "outputId": "158382a8-5a12-48a5-f341-493225da28c5"
      },
      "execution_count": 36,
      "outputs": [
        {
          "output_type": "execute_result",
          "data": {
            "text/plain": [
              "(506,)"
            ]
          },
          "metadata": {},
          "execution_count": 36
        }
      ]
    },
    {
      "cell_type": "code",
      "source": [
        "df_coffee.loc[df_coffee['상호명'].str.contains('이디야|ediya|EDIYA'), '상호명'].shape"
      ],
      "metadata": {
        "colab": {
          "base_uri": "https://localhost:8080/"
        },
        "id": "gQfBmwCL_d9Z",
        "outputId": "8259d031-b9d2-4c12-d0c8-e74701a4d078"
      },
      "execution_count": 37,
      "outputs": [
        {
          "output_type": "execute_result",
          "data": {
            "text/plain": [
              "(432,)"
            ]
          },
          "metadata": {},
          "execution_count": 37
        }
      ]
    },
    {
      "cell_type": "code",
      "source": [
        "df_coffee.loc[df_coffee['상호명'].str.contains('스타벅스|starbuks|STARBUCKS'), '상호명'].unique()"
      ],
      "metadata": {
        "colab": {
          "base_uri": "https://localhost:8080/"
        },
        "id": "3Y2m9Z3g_qmy",
        "outputId": "4946acec-d914-45e0-9b81-7af5044f65d7"
      },
      "execution_count": 38,
      "outputs": [
        {
          "output_type": "execute_result",
          "data": {
            "text/plain": [
              "array(['스타벅스', '스타벅스종로3가점', '스타벅스커피여의도IFC1F', '스타벅스신림사거리점', '스타벅스커피홍대역',\n",
              "       '스타벅스새문안로점', '스타벅스올림픽평화의문점', '스타벅스가락시장역점', '스타벅스외대점', '스타벅스연신내역',\n",
              "       '스타벅스연세백양로점', '스타벅스석촌역', '스타벅스연대동문', '스타벅스명지대점', '스타벅스압구정로데오역',\n",
              "       '스타벅스신림점', '스타벅스사당점', '스타벅스강남삼성타운점', '스타벅스서울대입구역점', '스타벅스명동미래',\n",
              "       '스타벅스건국클래식점', '스타벅스신촌명물거리점', '스타벅스광장점', '스타벅스커피여의도호성',\n",
              "       '스타벅스올림픽공원북문점', '스타벅스삼선교점', '스타벅스연희DT점', '스타벅스충정타워', '스타벅스종각점',\n",
              "       '스타벅스이수역점', '스타벅스방배카페입구', '스타벅스W-MALL점', '스타벅스마포일진빌딩점',\n",
              "       '스타벅스천호로데오점', '스타벅스용산역점', '스타벅스중계역점', '스타벅스명동메트로', '스타벅스마포아크로타워점',\n",
              "       '스타벅스중랑구청점', '스타벅스남부터미널2점', '스타벅스구로디지털로점', '스타벅스종로관수점', '스타벅스논현힐탑',\n",
              "       '스타벅스삼성도심공항점', '스타벅스선정릉역점', '스타벅스종로2가점', '스타벅스미아역점', '스타벅스선릉로점',\n",
              "       '스타벅스명동역', '스타벅스역삼럭키', '스타벅스커피신도림디큐브시티B2', '스타벅스이태원거리점',\n",
              "       '스타벅스구로에이스트윈타워1점', '스타벅스교대역점', '스타벅스을지로입구', '스타벅스서울중앙우체국점',\n",
              "       '스타벅스명일이마트점', '스타벅스조선호텔후문', '스타벅스목동점', '스타벅스구로하이엔드점', '스타벅스삼성교점',\n",
              "       '스타벅스남산스테이트', '스타벅스서울교대점', '스타벅스커리학동사거리점', '스타벅스강북구청사거리점',\n",
              "       '스타벅스방이역점', '스타벅스청담사거리점', '스타벅스서초파라곤점', '스타벅스종로평창', '스타벅스신압구정점',\n",
              "       '스타벅스명동중앙로', '스타벅스올림픽공원남문점', '스타벅스강변역점', '스타벅스광화문역점', '스타벅스세종로점',\n",
              "       '스타벅스서소문배재', '스타벅스커피가산그레이트', '스타벅스여의도점', '스타벅스경복궁역', '스타벅스차병원사거리',\n",
              "       '스타벅스예술의전당점', '스타벅스을지로센타', '스타벅스중랑역점', '스타벅스학여울점', '스타벅스사당로데오점',\n",
              "       '스타벅스상봉역점', '스타벅스구파발역점', '스타벅스신천역점', '스타벅스숙대입구역점', '스타벅스가든파이브',\n",
              "       '스타벅스동교삼거리점', '스타벅스커피가산브이타워', '스타벅스커피신도림디큐브시티2F', '스타벅스차병원사거리점',\n",
              "       '스타벅스뱅뱅사거리점', '스타벅스석촌서호점', '스타벅스경복아파트점', '스타벅스동교점',\n",
              "       'STARBUCKSCOFFEE', '스타벅스월계이마트점', '스타벅스신촌점', '스타벅스광화문점', '스타벅스구산역점',\n",
              "       '스타벅스숭실대점', '스타벅스상일동점', '스타벅스대치점', '스타벅스광운대점', '스타벅스합정메세나몰점',\n",
              "       '스타벅스목동5단지점', '스타벅스역삼역점', '스타벅스석촌호수점', '스타벅스상암DMC센트럴몰점',\n",
              "       '스타벅스청량리역점', '스타벅스홍대갤러리점', '스타벅스홍대삼거리점', '스타벅스삼청동점', '스타벅스서소문배재점',\n",
              "       '스타벅스숙대점', '스타벅스송파사거리점', '스타벅스길동사거리점', '스타벅스한성대입구역점', '스타벅스잠실점',\n",
              "       '스타벅스가산디지털단지점', '스타벅스오목교역점', '스타벅스금천독산점', '스타벅스노원케이티점',\n",
              "       '스타벅스고대프라자점', '스타벅스황학캐슬점', '스타벅스코엑스사거리점', '스타벅스명동역점',\n",
              "       '스타벅스압구정로데오역점', '스타벅스월드컵경기장점', '스타벅스강남에비뉴점', '스타벅스연신내역점',\n",
              "       '스타벅스상암디지털큐브점상암디지털큐브점', '스타벅스명동길점', '스타벅스방배카페입구점', '스타벅스마포트라팰점',\n",
              "       '스타벅스엔터식스한양대점', '스타벅스종로수송점', '스타벅스미아사거리역점', '스타벅스소공로북창점',\n",
              "       '스타벅스포스코사거리점', '스타벅스신설동역점', '스타벅스화곡동점', '스타벅스종암점', '스타벅스서교동사거리점',\n",
              "       '스타벅스역삼럭키점', '스타벅스동묘앞역점동묘앞역점', '스타벅스둔촌동점', '스타벅스청계산입구역점',\n",
              "       '스타벅스송파방이DT점', '스타벅스숭실대입구역점', '스타벅스염창역점', '스타벅스마포이마트점', '스타벅스약수역점',\n",
              "       '스타벅스회현역점', '스타벅스명동입구점', '스타벅스대치은마사거리점', '스타벅스대치사거리점',\n",
              "       '스타벅스영등포신길DT점', '스타벅스충정타워점', '스타벅스중구저동점', '스타벅스신촌오거리점', '스타벅스강동역점',\n",
              "       '스타벅스합정점', '스타벅스압구정점', '스타벅스가산디지털단지역점', '스타벅스낙성대DT점', '스타벅스성신여대정문',\n",
              "       '스타벅스한남동점', '스타벅스커피마포염리', '스타벅스화곡DT점', '스타벅스강남우성점', '스타벅스양천향교역점',\n",
              "       '스타벅스송파구청점', '스타벅스양천향교역', '스타벅스신사가로수점', '스타벅스신세계본점', '스타벅스청담영동대로점',\n",
              "       '스타벅스서울대역점', '스타벅스서강광흥창역점', '스타벅스경희대삼거리점', '스타벅스신세계본점5F',\n",
              "       '스타벅스문정역점', '스타벅스황학사거리점', '스타벅스문정하비오점', '스타벅스송파위례점',\n",
              "       '스타벅스구로디지털타워점', '스타벅스외대정문점', '스타벅스공릉역점', '스타벅스이수역사거리점',\n",
              "       '스타벅스잠실대교남단점', '스타벅스커피강남대로신사', '스타벅스강남점', '스타벅스신도림점', '스타벅스역점',\n",
              "       '스타벅스강남오거리점', '스타벅스마곡나루역점', '스타벅스노원마들역점', '스타벅스신대방삼거리역점', '스타벅스공덕',\n",
              "       '스타벅스방화DT'], dtype=object)"
            ]
          },
          "metadata": {},
          "execution_count": 38
        }
      ]
    },
    {
      "cell_type": "code",
      "source": [
        "df_coffee.loc[df_coffee['상호명'].str.contains('이디야|ediya|EDIYA'), '상호명'].unique()"
      ],
      "metadata": {
        "colab": {
          "base_uri": "https://localhost:8080/"
        },
        "id": "572-SE2A_wIB",
        "outputId": "c2268712-bbbb-42c2-aa32-c5dd7ba03d7d"
      },
      "execution_count": 39,
      "outputs": [
        {
          "output_type": "execute_result",
          "data": {
            "text/plain": [
              "array(['이디야커피', '이디야IBK고객센터', '이디야서대문점2호', 'EDIYA커피', '이디야커피전농뉴타운점',\n",
              "       '이디야커피자양동점', '이디야커피은행나무사거리점', '이디야커피마포KCC점', '이디야커피천호현대점',\n",
              "       '이디야커피연구소', '이디야커피동소문동점', '이디야커피전문점', '이디야커피세광교회점', '이디야마들역',\n",
              "       '이디야커피봉천역점', '이디야커피신도림테크노마트', '이디야커피점', '이디야역삼플래티넘', '이디야커피망우점',\n",
              "       'EDIYACOFFEE', '부일이디야커피', 'EDIYACOFFEESHOP', '이디야에스프레소',\n",
              "       '이디야커피경희대점', '이디야커피청계천점', '이디야커피애오개역점', '이디야커피자양사거리점', '이디야커피용두점',\n",
              "       '이디야커피낙원동점', '이디야커피양재AT점', '이디야커피강남역지하상가점', '이디야커피봉천중앙점',\n",
              "       '이디야커피가든파이브', '이디야카페', '이디야커피신림중앙점', '이디야커피수유역점', '이디야커피약수점',\n",
              "       '이디야커피을지로역점', '이디야커피김안과점', '이디야커피한성대역점2층', '이디야커피삼성봉은사로점',\n",
              "       'EDIYA카페', 'ediyacoffee', '이디야커피정릉아리랑점', '이디야커피한국수출입은행점',\n",
              "       '이디야커피디지털미디어시티역사점', '이디야커피일원동점', '이디야커피신금호역점', '이디야커피영등포본동점',\n",
              "       '이디야커피광산사거리점', '이디야커피신길썬프라자점', '이디야커피도봉산역사점', '이디야커피신당중앙점',\n",
              "       '이디야커피중곡대원점', '이디야커피논골사거리점', '이디야커피개봉북부점', '이디야커피돈암아리랑점',\n",
              "       '이디야커피사당역점', '이디야커피텐즈힐점', '이디야커피마곡역점', '이디야커피마곡엠밸리점',\n",
              "       '이디야커피신림문화교점', '이디야커피창신중앙점', '이디야커피한강공원로점', '이디야커피등촌동점',\n",
              "       '이디야커피건대스타시티점', '이디야커피가좌역점', '이디야커피선정릉역점', '이디야불광역', '이디야을지로3가',\n",
              "       '이디야충무로3가', '서아이디야', '이디야당산', '이디야잠실', '이디야커피신림남부초교점', '이디야역삼역',\n",
              "       '이디야삼성', '을지사거리이디야커피숍', '이디야커피우장산동점', '이디야커피문정현대시티몰점', '이디야노원사거리',\n",
              "       '이디야신사역', '이디야사러가', '엠케이이디야마곡나루역점', '마스터키이디야마곡나루역점'], dtype=object)"
            ]
          },
          "metadata": {},
          "execution_count": 39
        }
      ]
    },
    {
      "cell_type": "code",
      "source": [
        "# 스타벅스 데이터를 뽑아온다.\n",
        "df_seoul_starbucks =  df_coffee.loc[df_coffee['상호명'].str.contains('스타벅스|starbuks|STARBUCKS')]\n",
        "df_seoul_starbucks.shape\n"
      ],
      "metadata": {
        "colab": {
          "base_uri": "https://localhost:8080/"
        },
        "id": "02EbbCGYAH4t",
        "outputId": "91083bc5-b6fb-4263-a83f-a1af2aa28d96"
      },
      "execution_count": 44,
      "outputs": [
        {
          "output_type": "execute_result",
          "data": {
            "text/plain": [
              "(506, 9)"
            ]
          },
          "metadata": {},
          "execution_count": 44
        }
      ]
    },
    {
      "cell_type": "code",
      "source": [
        "df_seoul_starbucks.head()"
      ],
      "metadata": {
        "colab": {
          "base_uri": "https://localhost:8080/",
          "height": 354
        },
        "id": "Eygjz2e2AnAW",
        "outputId": "4bfd3ed3-0206-4f34-e09c-6d50992f9e64"
      },
      "execution_count": 45,
      "outputs": [
        {
          "output_type": "execute_result",
          "data": {
            "text/plain": [
              "                 상호명    지점명 상권업종중분류명    시도명  시군구명         행정동명  \\\n",
              "752             스타벅스   이태원점   커피점/카페  서울특별시   용산구        이태원1동   \n",
              "1406       스타벅스종로3가점  종로3가점   커피점/카페  서울특별시   종로구  종로1.2.3.4가동   \n",
              "1875            스타벅스   신사2점   커피점/카페  서울특별시   서초구          잠원동   \n",
              "9952  스타벅스커피여의도IFC1F    NaN   커피점/카페  서울특별시  영등포구          여의동   \n",
              "9957            스타벅스   삼성역점   커피점/카페  서울특별시   강남구         삼성1동   \n",
              "\n",
              "                     도로명          경도         위도  \n",
              "752       서울특별시 용산구 이태원로  126.994781  37.534303  \n",
              "1406        서울특별시 종로구 종로  126.990207  37.570585  \n",
              "1875      서울특별시 서초구 강남대로  127.019763  37.513663  \n",
              "9952    서울특별시 영등포구 국제금융로  126.924863  37.525172  \n",
              "9957  서울특별시 강남구 테헤란로103길  127.063878  37.510038  "
            ],
            "text/html": [
              "\n",
              "  <div id=\"df-6cc4776b-e9b1-4dc5-9634-78c170660315\">\n",
              "    <div class=\"colab-df-container\">\n",
              "      <div>\n",
              "<style scoped>\n",
              "    .dataframe tbody tr th:only-of-type {\n",
              "        vertical-align: middle;\n",
              "    }\n",
              "\n",
              "    .dataframe tbody tr th {\n",
              "        vertical-align: top;\n",
              "    }\n",
              "\n",
              "    .dataframe thead th {\n",
              "        text-align: right;\n",
              "    }\n",
              "</style>\n",
              "<table border=\"1\" class=\"dataframe\">\n",
              "  <thead>\n",
              "    <tr style=\"text-align: right;\">\n",
              "      <th></th>\n",
              "      <th>상호명</th>\n",
              "      <th>지점명</th>\n",
              "      <th>상권업종중분류명</th>\n",
              "      <th>시도명</th>\n",
              "      <th>시군구명</th>\n",
              "      <th>행정동명</th>\n",
              "      <th>도로명</th>\n",
              "      <th>경도</th>\n",
              "      <th>위도</th>\n",
              "    </tr>\n",
              "  </thead>\n",
              "  <tbody>\n",
              "    <tr>\n",
              "      <th>752</th>\n",
              "      <td>스타벅스</td>\n",
              "      <td>이태원점</td>\n",
              "      <td>커피점/카페</td>\n",
              "      <td>서울특별시</td>\n",
              "      <td>용산구</td>\n",
              "      <td>이태원1동</td>\n",
              "      <td>서울특별시 용산구 이태원로</td>\n",
              "      <td>126.994781</td>\n",
              "      <td>37.534303</td>\n",
              "    </tr>\n",
              "    <tr>\n",
              "      <th>1406</th>\n",
              "      <td>스타벅스종로3가점</td>\n",
              "      <td>종로3가점</td>\n",
              "      <td>커피점/카페</td>\n",
              "      <td>서울특별시</td>\n",
              "      <td>종로구</td>\n",
              "      <td>종로1.2.3.4가동</td>\n",
              "      <td>서울특별시 종로구 종로</td>\n",
              "      <td>126.990207</td>\n",
              "      <td>37.570585</td>\n",
              "    </tr>\n",
              "    <tr>\n",
              "      <th>1875</th>\n",
              "      <td>스타벅스</td>\n",
              "      <td>신사2점</td>\n",
              "      <td>커피점/카페</td>\n",
              "      <td>서울특별시</td>\n",
              "      <td>서초구</td>\n",
              "      <td>잠원동</td>\n",
              "      <td>서울특별시 서초구 강남대로</td>\n",
              "      <td>127.019763</td>\n",
              "      <td>37.513663</td>\n",
              "    </tr>\n",
              "    <tr>\n",
              "      <th>9952</th>\n",
              "      <td>스타벅스커피여의도IFC1F</td>\n",
              "      <td>NaN</td>\n",
              "      <td>커피점/카페</td>\n",
              "      <td>서울특별시</td>\n",
              "      <td>영등포구</td>\n",
              "      <td>여의동</td>\n",
              "      <td>서울특별시 영등포구 국제금융로</td>\n",
              "      <td>126.924863</td>\n",
              "      <td>37.525172</td>\n",
              "    </tr>\n",
              "    <tr>\n",
              "      <th>9957</th>\n",
              "      <td>스타벅스</td>\n",
              "      <td>삼성역점</td>\n",
              "      <td>커피점/카페</td>\n",
              "      <td>서울특별시</td>\n",
              "      <td>강남구</td>\n",
              "      <td>삼성1동</td>\n",
              "      <td>서울특별시 강남구 테헤란로103길</td>\n",
              "      <td>127.063878</td>\n",
              "      <td>37.510038</td>\n",
              "    </tr>\n",
              "  </tbody>\n",
              "</table>\n",
              "</div>\n",
              "      <button class=\"colab-df-convert\" onclick=\"convertToInteractive('df-6cc4776b-e9b1-4dc5-9634-78c170660315')\"\n",
              "              title=\"Convert this dataframe to an interactive table.\"\n",
              "              style=\"display:none;\">\n",
              "        \n",
              "  <svg xmlns=\"http://www.w3.org/2000/svg\" height=\"24px\"viewBox=\"0 0 24 24\"\n",
              "       width=\"24px\">\n",
              "    <path d=\"M0 0h24v24H0V0z\" fill=\"none\"/>\n",
              "    <path d=\"M18.56 5.44l.94 2.06.94-2.06 2.06-.94-2.06-.94-.94-2.06-.94 2.06-2.06.94zm-11 1L8.5 8.5l.94-2.06 2.06-.94-2.06-.94L8.5 2.5l-.94 2.06-2.06.94zm10 10l.94 2.06.94-2.06 2.06-.94-2.06-.94-.94-2.06-.94 2.06-2.06.94z\"/><path d=\"M17.41 7.96l-1.37-1.37c-.4-.4-.92-.59-1.43-.59-.52 0-1.04.2-1.43.59L10.3 9.45l-7.72 7.72c-.78.78-.78 2.05 0 2.83L4 21.41c.39.39.9.59 1.41.59.51 0 1.02-.2 1.41-.59l7.78-7.78 2.81-2.81c.8-.78.8-2.07 0-2.86zM5.41 20L4 18.59l7.72-7.72 1.47 1.35L5.41 20z\"/>\n",
              "  </svg>\n",
              "      </button>\n",
              "      \n",
              "  <style>\n",
              "    .colab-df-container {\n",
              "      display:flex;\n",
              "      flex-wrap:wrap;\n",
              "      gap: 12px;\n",
              "    }\n",
              "\n",
              "    .colab-df-convert {\n",
              "      background-color: #E8F0FE;\n",
              "      border: none;\n",
              "      border-radius: 50%;\n",
              "      cursor: pointer;\n",
              "      display: none;\n",
              "      fill: #1967D2;\n",
              "      height: 32px;\n",
              "      padding: 0 0 0 0;\n",
              "      width: 32px;\n",
              "    }\n",
              "\n",
              "    .colab-df-convert:hover {\n",
              "      background-color: #E2EBFA;\n",
              "      box-shadow: 0px 1px 2px rgba(60, 64, 67, 0.3), 0px 1px 3px 1px rgba(60, 64, 67, 0.15);\n",
              "      fill: #174EA6;\n",
              "    }\n",
              "\n",
              "    [theme=dark] .colab-df-convert {\n",
              "      background-color: #3B4455;\n",
              "      fill: #D2E3FC;\n",
              "    }\n",
              "\n",
              "    [theme=dark] .colab-df-convert:hover {\n",
              "      background-color: #434B5C;\n",
              "      box-shadow: 0px 1px 3px 1px rgba(0, 0, 0, 0.15);\n",
              "      filter: drop-shadow(0px 1px 2px rgba(0, 0, 0, 0.3));\n",
              "      fill: #FFFFFF;\n",
              "    }\n",
              "  </style>\n",
              "\n",
              "      <script>\n",
              "        const buttonEl =\n",
              "          document.querySelector('#df-6cc4776b-e9b1-4dc5-9634-78c170660315 button.colab-df-convert');\n",
              "        buttonEl.style.display =\n",
              "          google.colab.kernel.accessAllowed ? 'block' : 'none';\n",
              "\n",
              "        async function convertToInteractive(key) {\n",
              "          const element = document.querySelector('#df-6cc4776b-e9b1-4dc5-9634-78c170660315');\n",
              "          const dataTable =\n",
              "            await google.colab.kernel.invokeFunction('convertToInteractive',\n",
              "                                                     [key], {});\n",
              "          if (!dataTable) return;\n",
              "\n",
              "          const docLinkHtml = 'Like what you see? Visit the ' +\n",
              "            '<a target=\"_blank\" href=https://colab.research.google.com/notebooks/data_table.ipynb>data table notebook</a>'\n",
              "            + ' to learn more about interactive tables.';\n",
              "          element.innerHTML = '';\n",
              "          dataTable['output_type'] = 'display_data';\n",
              "          await google.colab.output.renderOutput(dataTable, element);\n",
              "          const docLink = document.createElement('div');\n",
              "          docLink.innerHTML = docLinkHtml;\n",
              "          element.appendChild(docLink);\n",
              "        }\n",
              "      </script>\n",
              "    </div>\n",
              "  </div>\n",
              "  "
            ]
          },
          "metadata": {},
          "execution_count": 45
        }
      ]
    },
    {
      "cell_type": "code",
      "source": [
        "df_coffee.loc[df_coffee['상호명'].str.contains('이디야|ediya|EDIYA'), '상호명'].shape"
      ],
      "metadata": {
        "colab": {
          "base_uri": "https://localhost:8080/"
        },
        "id": "61oieFjGA7s1",
        "outputId": "a791e707-d63f-4fe2-f441-a98eb6e1c4e8"
      },
      "execution_count": 47,
      "outputs": [
        {
          "output_type": "execute_result",
          "data": {
            "text/plain": [
              "(432,)"
            ]
          },
          "metadata": {},
          "execution_count": 47
        }
      ]
    },
    {
      "cell_type": "code",
      "source": [
        "#이디야 데이터를 뽑아온다.\n",
        "df_coffee_ediya = df_coffee.loc[df_coffee['상호명'].str.contains('이디야|ediya|EDIYA')]\n",
        "df_coffee_ediya.shape"
      ],
      "metadata": {
        "colab": {
          "base_uri": "https://localhost:8080/"
        },
        "id": "7l1qwjAlDMAo",
        "outputId": "e5fa8587-bef7-4043-b4c1-0ac7932b749c"
      },
      "execution_count": 48,
      "outputs": [
        {
          "output_type": "execute_result",
          "data": {
            "text/plain": [
              "(432, 9)"
            ]
          },
          "metadata": {},
          "execution_count": 48
        }
      ]
    },
    {
      "cell_type": "code",
      "source": [
        "df_coffee_ediya.head()"
      ],
      "metadata": {
        "colab": {
          "base_uri": "https://localhost:8080/",
          "height": 354
        },
        "id": "wa2fvzZHDiVi",
        "outputId": "e3266ad7-023b-4302-d278-05984c2db97a"
      },
      "execution_count": 50,
      "outputs": [
        {
          "output_type": "execute_result",
          "data": {
            "text/plain": [
              "         상호명      지점명 상권업종중분류명    시도명  시군구명     행정동명                 도로명  \\\n",
              "1153   이디야커피     신길역점   커피점/카페  서울특별시  영등포구     신길1동     서울특별시 영등포구 영등포로   \n",
              "1981   이디야커피   이마트구로점   커피점/카페  서울특별시   구로구     구로3동   서울특별시 구로구 디지털로32길   \n",
              "5352   이디야커피  중계롯데우성점   커피점/카페  서울특별시   노원구     중계1동    서울특별시 노원구 노원로22길   \n",
              "9359   이디야커피     금호역점   커피점/카페  서울특별시   성동구  금호2.3가동       서울특별시 성동구 장터길   \n",
              "10176  이디야커피      NaN   커피점/카페  서울특별시   강남구     대치2동  서울특별시 강남구 테헤란로104길   \n",
              "\n",
              "               경도         위도  \n",
              "1153   126.918062  37.515118  \n",
              "1981   126.897870  37.484385  \n",
              "5352   127.072754  37.646364  \n",
              "9359   127.017791  37.548427  \n",
              "10176  127.064790  37.508585  "
            ],
            "text/html": [
              "\n",
              "  <div id=\"df-3b262d28-5c6e-4063-9a5e-56e0c78c9cf0\">\n",
              "    <div class=\"colab-df-container\">\n",
              "      <div>\n",
              "<style scoped>\n",
              "    .dataframe tbody tr th:only-of-type {\n",
              "        vertical-align: middle;\n",
              "    }\n",
              "\n",
              "    .dataframe tbody tr th {\n",
              "        vertical-align: top;\n",
              "    }\n",
              "\n",
              "    .dataframe thead th {\n",
              "        text-align: right;\n",
              "    }\n",
              "</style>\n",
              "<table border=\"1\" class=\"dataframe\">\n",
              "  <thead>\n",
              "    <tr style=\"text-align: right;\">\n",
              "      <th></th>\n",
              "      <th>상호명</th>\n",
              "      <th>지점명</th>\n",
              "      <th>상권업종중분류명</th>\n",
              "      <th>시도명</th>\n",
              "      <th>시군구명</th>\n",
              "      <th>행정동명</th>\n",
              "      <th>도로명</th>\n",
              "      <th>경도</th>\n",
              "      <th>위도</th>\n",
              "    </tr>\n",
              "  </thead>\n",
              "  <tbody>\n",
              "    <tr>\n",
              "      <th>1153</th>\n",
              "      <td>이디야커피</td>\n",
              "      <td>신길역점</td>\n",
              "      <td>커피점/카페</td>\n",
              "      <td>서울특별시</td>\n",
              "      <td>영등포구</td>\n",
              "      <td>신길1동</td>\n",
              "      <td>서울특별시 영등포구 영등포로</td>\n",
              "      <td>126.918062</td>\n",
              "      <td>37.515118</td>\n",
              "    </tr>\n",
              "    <tr>\n",
              "      <th>1981</th>\n",
              "      <td>이디야커피</td>\n",
              "      <td>이마트구로점</td>\n",
              "      <td>커피점/카페</td>\n",
              "      <td>서울특별시</td>\n",
              "      <td>구로구</td>\n",
              "      <td>구로3동</td>\n",
              "      <td>서울특별시 구로구 디지털로32길</td>\n",
              "      <td>126.897870</td>\n",
              "      <td>37.484385</td>\n",
              "    </tr>\n",
              "    <tr>\n",
              "      <th>5352</th>\n",
              "      <td>이디야커피</td>\n",
              "      <td>중계롯데우성점</td>\n",
              "      <td>커피점/카페</td>\n",
              "      <td>서울특별시</td>\n",
              "      <td>노원구</td>\n",
              "      <td>중계1동</td>\n",
              "      <td>서울특별시 노원구 노원로22길</td>\n",
              "      <td>127.072754</td>\n",
              "      <td>37.646364</td>\n",
              "    </tr>\n",
              "    <tr>\n",
              "      <th>9359</th>\n",
              "      <td>이디야커피</td>\n",
              "      <td>금호역점</td>\n",
              "      <td>커피점/카페</td>\n",
              "      <td>서울특별시</td>\n",
              "      <td>성동구</td>\n",
              "      <td>금호2.3가동</td>\n",
              "      <td>서울특별시 성동구 장터길</td>\n",
              "      <td>127.017791</td>\n",
              "      <td>37.548427</td>\n",
              "    </tr>\n",
              "    <tr>\n",
              "      <th>10176</th>\n",
              "      <td>이디야커피</td>\n",
              "      <td>NaN</td>\n",
              "      <td>커피점/카페</td>\n",
              "      <td>서울특별시</td>\n",
              "      <td>강남구</td>\n",
              "      <td>대치2동</td>\n",
              "      <td>서울특별시 강남구 테헤란로104길</td>\n",
              "      <td>127.064790</td>\n",
              "      <td>37.508585</td>\n",
              "    </tr>\n",
              "  </tbody>\n",
              "</table>\n",
              "</div>\n",
              "      <button class=\"colab-df-convert\" onclick=\"convertToInteractive('df-3b262d28-5c6e-4063-9a5e-56e0c78c9cf0')\"\n",
              "              title=\"Convert this dataframe to an interactive table.\"\n",
              "              style=\"display:none;\">\n",
              "        \n",
              "  <svg xmlns=\"http://www.w3.org/2000/svg\" height=\"24px\"viewBox=\"0 0 24 24\"\n",
              "       width=\"24px\">\n",
              "    <path d=\"M0 0h24v24H0V0z\" fill=\"none\"/>\n",
              "    <path d=\"M18.56 5.44l.94 2.06.94-2.06 2.06-.94-2.06-.94-.94-2.06-.94 2.06-2.06.94zm-11 1L8.5 8.5l.94-2.06 2.06-.94-2.06-.94L8.5 2.5l-.94 2.06-2.06.94zm10 10l.94 2.06.94-2.06 2.06-.94-2.06-.94-.94-2.06-.94 2.06-2.06.94z\"/><path d=\"M17.41 7.96l-1.37-1.37c-.4-.4-.92-.59-1.43-.59-.52 0-1.04.2-1.43.59L10.3 9.45l-7.72 7.72c-.78.78-.78 2.05 0 2.83L4 21.41c.39.39.9.59 1.41.59.51 0 1.02-.2 1.41-.59l7.78-7.78 2.81-2.81c.8-.78.8-2.07 0-2.86zM5.41 20L4 18.59l7.72-7.72 1.47 1.35L5.41 20z\"/>\n",
              "  </svg>\n",
              "      </button>\n",
              "      \n",
              "  <style>\n",
              "    .colab-df-container {\n",
              "      display:flex;\n",
              "      flex-wrap:wrap;\n",
              "      gap: 12px;\n",
              "    }\n",
              "\n",
              "    .colab-df-convert {\n",
              "      background-color: #E8F0FE;\n",
              "      border: none;\n",
              "      border-radius: 50%;\n",
              "      cursor: pointer;\n",
              "      display: none;\n",
              "      fill: #1967D2;\n",
              "      height: 32px;\n",
              "      padding: 0 0 0 0;\n",
              "      width: 32px;\n",
              "    }\n",
              "\n",
              "    .colab-df-convert:hover {\n",
              "      background-color: #E2EBFA;\n",
              "      box-shadow: 0px 1px 2px rgba(60, 64, 67, 0.3), 0px 1px 3px 1px rgba(60, 64, 67, 0.15);\n",
              "      fill: #174EA6;\n",
              "    }\n",
              "\n",
              "    [theme=dark] .colab-df-convert {\n",
              "      background-color: #3B4455;\n",
              "      fill: #D2E3FC;\n",
              "    }\n",
              "\n",
              "    [theme=dark] .colab-df-convert:hover {\n",
              "      background-color: #434B5C;\n",
              "      box-shadow: 0px 1px 3px 1px rgba(0, 0, 0, 0.15);\n",
              "      filter: drop-shadow(0px 1px 2px rgba(0, 0, 0, 0.3));\n",
              "      fill: #FFFFFF;\n",
              "    }\n",
              "  </style>\n",
              "\n",
              "      <script>\n",
              "        const buttonEl =\n",
              "          document.querySelector('#df-3b262d28-5c6e-4063-9a5e-56e0c78c9cf0 button.colab-df-convert');\n",
              "        buttonEl.style.display =\n",
              "          google.colab.kernel.accessAllowed ? 'block' : 'none';\n",
              "\n",
              "        async function convertToInteractive(key) {\n",
              "          const element = document.querySelector('#df-3b262d28-5c6e-4063-9a5e-56e0c78c9cf0');\n",
              "          const dataTable =\n",
              "            await google.colab.kernel.invokeFunction('convertToInteractive',\n",
              "                                                     [key], {});\n",
              "          if (!dataTable) return;\n",
              "\n",
              "          const docLinkHtml = 'Like what you see? Visit the ' +\n",
              "            '<a target=\"_blank\" href=https://colab.research.google.com/notebooks/data_table.ipynb>data table notebook</a>'\n",
              "            + ' to learn more about interactive tables.';\n",
              "          element.innerHTML = '';\n",
              "          dataTable['output_type'] = 'display_data';\n",
              "          await google.colab.output.renderOutput(dataTable, element);\n",
              "          const docLink = document.createElement('div');\n",
              "          docLink.innerHTML = docLinkHtml;\n",
              "          element.appendChild(docLink);\n",
              "        }\n",
              "      </script>\n",
              "    </div>\n",
              "  </div>\n",
              "  "
            ]
          },
          "metadata": {},
          "execution_count": 50
        }
      ]
    },
    {
      "cell_type": "code",
      "source": [
        "# 스타벅스와 이디야 데이터 뽑아오기\n",
        "df_coffee_star_edi = df_coffee.loc[df_coffee['상호명'].str.contains('이디야|ediya|EDIYA|스타벅스|STARBUCKS|starbucks')].copy()\n",
        "df_coffee_star_edi.shape"
      ],
      "metadata": {
        "colab": {
          "base_uri": "https://localhost:8080/"
        },
        "id": "EOnZPFBRDnUk",
        "outputId": "294d1ab8-b32d-4154-ba2b-94ce154c1ead"
      },
      "execution_count": 56,
      "outputs": [
        {
          "output_type": "execute_result",
          "data": {
            "text/plain": [
              "(938, 9)"
            ]
          },
          "metadata": {},
          "execution_count": 56
        }
      ]
    },
    {
      "cell_type": "code",
      "source": [
        "df_coffee_star_edi.head()"
      ],
      "metadata": {
        "colab": {
          "base_uri": "https://localhost:8080/",
          "height": 354
        },
        "id": "e4QwgkzREcjX",
        "outputId": "5b118a0c-0199-486e-9a92-8e567c967a8d"
      },
      "execution_count": 57,
      "outputs": [
        {
          "output_type": "execute_result",
          "data": {
            "text/plain": [
              "            상호명     지점명 상권업종중분류명    시도명  시군구명         행정동명                도로명  \\\n",
              "752        스타벅스    이태원점   커피점/카페  서울특별시   용산구        이태원1동     서울특별시 용산구 이태원로   \n",
              "1153      이디야커피    신길역점   커피점/카페  서울특별시  영등포구         신길1동    서울특별시 영등포구 영등포로   \n",
              "1406  스타벅스종로3가점   종로3가점   커피점/카페  서울특별시   종로구  종로1.2.3.4가동       서울특별시 종로구 종로   \n",
              "1875       스타벅스    신사2점   커피점/카페  서울특별시   서초구          잠원동     서울특별시 서초구 강남대로   \n",
              "1981      이디야커피  이마트구로점   커피점/카페  서울특별시   구로구         구로3동  서울특별시 구로구 디지털로32길   \n",
              "\n",
              "              경도         위도  \n",
              "752   126.994781  37.534303  \n",
              "1153  126.918062  37.515118  \n",
              "1406  126.990207  37.570585  \n",
              "1875  127.019763  37.513663  \n",
              "1981  126.897870  37.484385  "
            ],
            "text/html": [
              "\n",
              "  <div id=\"df-abe83ae9-807d-4749-bb76-dd63c274eba0\">\n",
              "    <div class=\"colab-df-container\">\n",
              "      <div>\n",
              "<style scoped>\n",
              "    .dataframe tbody tr th:only-of-type {\n",
              "        vertical-align: middle;\n",
              "    }\n",
              "\n",
              "    .dataframe tbody tr th {\n",
              "        vertical-align: top;\n",
              "    }\n",
              "\n",
              "    .dataframe thead th {\n",
              "        text-align: right;\n",
              "    }\n",
              "</style>\n",
              "<table border=\"1\" class=\"dataframe\">\n",
              "  <thead>\n",
              "    <tr style=\"text-align: right;\">\n",
              "      <th></th>\n",
              "      <th>상호명</th>\n",
              "      <th>지점명</th>\n",
              "      <th>상권업종중분류명</th>\n",
              "      <th>시도명</th>\n",
              "      <th>시군구명</th>\n",
              "      <th>행정동명</th>\n",
              "      <th>도로명</th>\n",
              "      <th>경도</th>\n",
              "      <th>위도</th>\n",
              "    </tr>\n",
              "  </thead>\n",
              "  <tbody>\n",
              "    <tr>\n",
              "      <th>752</th>\n",
              "      <td>스타벅스</td>\n",
              "      <td>이태원점</td>\n",
              "      <td>커피점/카페</td>\n",
              "      <td>서울특별시</td>\n",
              "      <td>용산구</td>\n",
              "      <td>이태원1동</td>\n",
              "      <td>서울특별시 용산구 이태원로</td>\n",
              "      <td>126.994781</td>\n",
              "      <td>37.534303</td>\n",
              "    </tr>\n",
              "    <tr>\n",
              "      <th>1153</th>\n",
              "      <td>이디야커피</td>\n",
              "      <td>신길역점</td>\n",
              "      <td>커피점/카페</td>\n",
              "      <td>서울특별시</td>\n",
              "      <td>영등포구</td>\n",
              "      <td>신길1동</td>\n",
              "      <td>서울특별시 영등포구 영등포로</td>\n",
              "      <td>126.918062</td>\n",
              "      <td>37.515118</td>\n",
              "    </tr>\n",
              "    <tr>\n",
              "      <th>1406</th>\n",
              "      <td>스타벅스종로3가점</td>\n",
              "      <td>종로3가점</td>\n",
              "      <td>커피점/카페</td>\n",
              "      <td>서울특별시</td>\n",
              "      <td>종로구</td>\n",
              "      <td>종로1.2.3.4가동</td>\n",
              "      <td>서울특별시 종로구 종로</td>\n",
              "      <td>126.990207</td>\n",
              "      <td>37.570585</td>\n",
              "    </tr>\n",
              "    <tr>\n",
              "      <th>1875</th>\n",
              "      <td>스타벅스</td>\n",
              "      <td>신사2점</td>\n",
              "      <td>커피점/카페</td>\n",
              "      <td>서울특별시</td>\n",
              "      <td>서초구</td>\n",
              "      <td>잠원동</td>\n",
              "      <td>서울특별시 서초구 강남대로</td>\n",
              "      <td>127.019763</td>\n",
              "      <td>37.513663</td>\n",
              "    </tr>\n",
              "    <tr>\n",
              "      <th>1981</th>\n",
              "      <td>이디야커피</td>\n",
              "      <td>이마트구로점</td>\n",
              "      <td>커피점/카페</td>\n",
              "      <td>서울특별시</td>\n",
              "      <td>구로구</td>\n",
              "      <td>구로3동</td>\n",
              "      <td>서울특별시 구로구 디지털로32길</td>\n",
              "      <td>126.897870</td>\n",
              "      <td>37.484385</td>\n",
              "    </tr>\n",
              "  </tbody>\n",
              "</table>\n",
              "</div>\n",
              "      <button class=\"colab-df-convert\" onclick=\"convertToInteractive('df-abe83ae9-807d-4749-bb76-dd63c274eba0')\"\n",
              "              title=\"Convert this dataframe to an interactive table.\"\n",
              "              style=\"display:none;\">\n",
              "        \n",
              "  <svg xmlns=\"http://www.w3.org/2000/svg\" height=\"24px\"viewBox=\"0 0 24 24\"\n",
              "       width=\"24px\">\n",
              "    <path d=\"M0 0h24v24H0V0z\" fill=\"none\"/>\n",
              "    <path d=\"M18.56 5.44l.94 2.06.94-2.06 2.06-.94-2.06-.94-.94-2.06-.94 2.06-2.06.94zm-11 1L8.5 8.5l.94-2.06 2.06-.94-2.06-.94L8.5 2.5l-.94 2.06-2.06.94zm10 10l.94 2.06.94-2.06 2.06-.94-2.06-.94-.94-2.06-.94 2.06-2.06.94z\"/><path d=\"M17.41 7.96l-1.37-1.37c-.4-.4-.92-.59-1.43-.59-.52 0-1.04.2-1.43.59L10.3 9.45l-7.72 7.72c-.78.78-.78 2.05 0 2.83L4 21.41c.39.39.9.59 1.41.59.51 0 1.02-.2 1.41-.59l7.78-7.78 2.81-2.81c.8-.78.8-2.07 0-2.86zM5.41 20L4 18.59l7.72-7.72 1.47 1.35L5.41 20z\"/>\n",
              "  </svg>\n",
              "      </button>\n",
              "      \n",
              "  <style>\n",
              "    .colab-df-container {\n",
              "      display:flex;\n",
              "      flex-wrap:wrap;\n",
              "      gap: 12px;\n",
              "    }\n",
              "\n",
              "    .colab-df-convert {\n",
              "      background-color: #E8F0FE;\n",
              "      border: none;\n",
              "      border-radius: 50%;\n",
              "      cursor: pointer;\n",
              "      display: none;\n",
              "      fill: #1967D2;\n",
              "      height: 32px;\n",
              "      padding: 0 0 0 0;\n",
              "      width: 32px;\n",
              "    }\n",
              "\n",
              "    .colab-df-convert:hover {\n",
              "      background-color: #E2EBFA;\n",
              "      box-shadow: 0px 1px 2px rgba(60, 64, 67, 0.3), 0px 1px 3px 1px rgba(60, 64, 67, 0.15);\n",
              "      fill: #174EA6;\n",
              "    }\n",
              "\n",
              "    [theme=dark] .colab-df-convert {\n",
              "      background-color: #3B4455;\n",
              "      fill: #D2E3FC;\n",
              "    }\n",
              "\n",
              "    [theme=dark] .colab-df-convert:hover {\n",
              "      background-color: #434B5C;\n",
              "      box-shadow: 0px 1px 3px 1px rgba(0, 0, 0, 0.15);\n",
              "      filter: drop-shadow(0px 1px 2px rgba(0, 0, 0, 0.3));\n",
              "      fill: #FFFFFF;\n",
              "    }\n",
              "  </style>\n",
              "\n",
              "      <script>\n",
              "        const buttonEl =\n",
              "          document.querySelector('#df-abe83ae9-807d-4749-bb76-dd63c274eba0 button.colab-df-convert');\n",
              "        buttonEl.style.display =\n",
              "          google.colab.kernel.accessAllowed ? 'block' : 'none';\n",
              "\n",
              "        async function convertToInteractive(key) {\n",
              "          const element = document.querySelector('#df-abe83ae9-807d-4749-bb76-dd63c274eba0');\n",
              "          const dataTable =\n",
              "            await google.colab.kernel.invokeFunction('convertToInteractive',\n",
              "                                                     [key], {});\n",
              "          if (!dataTable) return;\n",
              "\n",
              "          const docLinkHtml = 'Like what you see? Visit the ' +\n",
              "            '<a target=\"_blank\" href=https://colab.research.google.com/notebooks/data_table.ipynb>data table notebook</a>'\n",
              "            + ' to learn more about interactive tables.';\n",
              "          element.innerHTML = '';\n",
              "          dataTable['output_type'] = 'display_data';\n",
              "          await google.colab.output.renderOutput(dataTable, element);\n",
              "          const docLink = document.createElement('div');\n",
              "          docLink.innerHTML = docLinkHtml;\n",
              "          element.appendChild(docLink);\n",
              "        }\n",
              "      </script>\n",
              "    </div>\n",
              "  </div>\n",
              "  "
            ]
          },
          "metadata": {},
          "execution_count": 57
        }
      ]
    },
    {
      "cell_type": "code",
      "source": [
        "df_coffee_star_edi.loc[df_coffee_star_edi['상호명'].str.contains('스타벅스|starbucks|STARBUCKS'),'브랜드명']='스타벅스'"
      ],
      "metadata": {
        "id": "WnHNGBpoEfUx"
      },
      "execution_count": 58,
      "outputs": []
    },
    {
      "cell_type": "code",
      "source": [
        "df_coffee_star_edi.loc[df_coffee_star_edi['상호명'].str.contains('이디야|ediya|EDIYA'),'브랜드명']='이디야'"
      ],
      "metadata": {
        "id": "tBcIXwOuF8UG"
      },
      "execution_count": 60,
      "outputs": []
    },
    {
      "cell_type": "code",
      "source": [
        "df_coffee_star_edi.head()"
      ],
      "metadata": {
        "colab": {
          "base_uri": "https://localhost:8080/",
          "height": 354
        },
        "id": "xyzMCStGE3L5",
        "outputId": "181762c9-ea4c-4556-d4ce-3c47a16c35af"
      },
      "execution_count": 61,
      "outputs": [
        {
          "output_type": "execute_result",
          "data": {
            "text/plain": [
              "            상호명     지점명 상권업종중분류명    시도명  시군구명         행정동명                도로명  \\\n",
              "752        스타벅스    이태원점   커피점/카페  서울특별시   용산구        이태원1동     서울특별시 용산구 이태원로   \n",
              "1153      이디야커피    신길역점   커피점/카페  서울특별시  영등포구         신길1동    서울특별시 영등포구 영등포로   \n",
              "1406  스타벅스종로3가점   종로3가점   커피점/카페  서울특별시   종로구  종로1.2.3.4가동       서울특별시 종로구 종로   \n",
              "1875       스타벅스    신사2점   커피점/카페  서울특별시   서초구          잠원동     서울특별시 서초구 강남대로   \n",
              "1981      이디야커피  이마트구로점   커피점/카페  서울특별시   구로구         구로3동  서울특별시 구로구 디지털로32길   \n",
              "\n",
              "              경도         위도  브랜드명  \n",
              "752   126.994781  37.534303  스타벅스  \n",
              "1153  126.918062  37.515118   이디야  \n",
              "1406  126.990207  37.570585  스타벅스  \n",
              "1875  127.019763  37.513663  스타벅스  \n",
              "1981  126.897870  37.484385   이디야  "
            ],
            "text/html": [
              "\n",
              "  <div id=\"df-4acec89f-fc8a-4152-9e65-9adb220d15c4\">\n",
              "    <div class=\"colab-df-container\">\n",
              "      <div>\n",
              "<style scoped>\n",
              "    .dataframe tbody tr th:only-of-type {\n",
              "        vertical-align: middle;\n",
              "    }\n",
              "\n",
              "    .dataframe tbody tr th {\n",
              "        vertical-align: top;\n",
              "    }\n",
              "\n",
              "    .dataframe thead th {\n",
              "        text-align: right;\n",
              "    }\n",
              "</style>\n",
              "<table border=\"1\" class=\"dataframe\">\n",
              "  <thead>\n",
              "    <tr style=\"text-align: right;\">\n",
              "      <th></th>\n",
              "      <th>상호명</th>\n",
              "      <th>지점명</th>\n",
              "      <th>상권업종중분류명</th>\n",
              "      <th>시도명</th>\n",
              "      <th>시군구명</th>\n",
              "      <th>행정동명</th>\n",
              "      <th>도로명</th>\n",
              "      <th>경도</th>\n",
              "      <th>위도</th>\n",
              "      <th>브랜드명</th>\n",
              "    </tr>\n",
              "  </thead>\n",
              "  <tbody>\n",
              "    <tr>\n",
              "      <th>752</th>\n",
              "      <td>스타벅스</td>\n",
              "      <td>이태원점</td>\n",
              "      <td>커피점/카페</td>\n",
              "      <td>서울특별시</td>\n",
              "      <td>용산구</td>\n",
              "      <td>이태원1동</td>\n",
              "      <td>서울특별시 용산구 이태원로</td>\n",
              "      <td>126.994781</td>\n",
              "      <td>37.534303</td>\n",
              "      <td>스타벅스</td>\n",
              "    </tr>\n",
              "    <tr>\n",
              "      <th>1153</th>\n",
              "      <td>이디야커피</td>\n",
              "      <td>신길역점</td>\n",
              "      <td>커피점/카페</td>\n",
              "      <td>서울특별시</td>\n",
              "      <td>영등포구</td>\n",
              "      <td>신길1동</td>\n",
              "      <td>서울특별시 영등포구 영등포로</td>\n",
              "      <td>126.918062</td>\n",
              "      <td>37.515118</td>\n",
              "      <td>이디야</td>\n",
              "    </tr>\n",
              "    <tr>\n",
              "      <th>1406</th>\n",
              "      <td>스타벅스종로3가점</td>\n",
              "      <td>종로3가점</td>\n",
              "      <td>커피점/카페</td>\n",
              "      <td>서울특별시</td>\n",
              "      <td>종로구</td>\n",
              "      <td>종로1.2.3.4가동</td>\n",
              "      <td>서울특별시 종로구 종로</td>\n",
              "      <td>126.990207</td>\n",
              "      <td>37.570585</td>\n",
              "      <td>스타벅스</td>\n",
              "    </tr>\n",
              "    <tr>\n",
              "      <th>1875</th>\n",
              "      <td>스타벅스</td>\n",
              "      <td>신사2점</td>\n",
              "      <td>커피점/카페</td>\n",
              "      <td>서울특별시</td>\n",
              "      <td>서초구</td>\n",
              "      <td>잠원동</td>\n",
              "      <td>서울특별시 서초구 강남대로</td>\n",
              "      <td>127.019763</td>\n",
              "      <td>37.513663</td>\n",
              "      <td>스타벅스</td>\n",
              "    </tr>\n",
              "    <tr>\n",
              "      <th>1981</th>\n",
              "      <td>이디야커피</td>\n",
              "      <td>이마트구로점</td>\n",
              "      <td>커피점/카페</td>\n",
              "      <td>서울특별시</td>\n",
              "      <td>구로구</td>\n",
              "      <td>구로3동</td>\n",
              "      <td>서울특별시 구로구 디지털로32길</td>\n",
              "      <td>126.897870</td>\n",
              "      <td>37.484385</td>\n",
              "      <td>이디야</td>\n",
              "    </tr>\n",
              "  </tbody>\n",
              "</table>\n",
              "</div>\n",
              "      <button class=\"colab-df-convert\" onclick=\"convertToInteractive('df-4acec89f-fc8a-4152-9e65-9adb220d15c4')\"\n",
              "              title=\"Convert this dataframe to an interactive table.\"\n",
              "              style=\"display:none;\">\n",
              "        \n",
              "  <svg xmlns=\"http://www.w3.org/2000/svg\" height=\"24px\"viewBox=\"0 0 24 24\"\n",
              "       width=\"24px\">\n",
              "    <path d=\"M0 0h24v24H0V0z\" fill=\"none\"/>\n",
              "    <path d=\"M18.56 5.44l.94 2.06.94-2.06 2.06-.94-2.06-.94-.94-2.06-.94 2.06-2.06.94zm-11 1L8.5 8.5l.94-2.06 2.06-.94-2.06-.94L8.5 2.5l-.94 2.06-2.06.94zm10 10l.94 2.06.94-2.06 2.06-.94-2.06-.94-.94-2.06-.94 2.06-2.06.94z\"/><path d=\"M17.41 7.96l-1.37-1.37c-.4-.4-.92-.59-1.43-.59-.52 0-1.04.2-1.43.59L10.3 9.45l-7.72 7.72c-.78.78-.78 2.05 0 2.83L4 21.41c.39.39.9.59 1.41.59.51 0 1.02-.2 1.41-.59l7.78-7.78 2.81-2.81c.8-.78.8-2.07 0-2.86zM5.41 20L4 18.59l7.72-7.72 1.47 1.35L5.41 20z\"/>\n",
              "  </svg>\n",
              "      </button>\n",
              "      \n",
              "  <style>\n",
              "    .colab-df-container {\n",
              "      display:flex;\n",
              "      flex-wrap:wrap;\n",
              "      gap: 12px;\n",
              "    }\n",
              "\n",
              "    .colab-df-convert {\n",
              "      background-color: #E8F0FE;\n",
              "      border: none;\n",
              "      border-radius: 50%;\n",
              "      cursor: pointer;\n",
              "      display: none;\n",
              "      fill: #1967D2;\n",
              "      height: 32px;\n",
              "      padding: 0 0 0 0;\n",
              "      width: 32px;\n",
              "    }\n",
              "\n",
              "    .colab-df-convert:hover {\n",
              "      background-color: #E2EBFA;\n",
              "      box-shadow: 0px 1px 2px rgba(60, 64, 67, 0.3), 0px 1px 3px 1px rgba(60, 64, 67, 0.15);\n",
              "      fill: #174EA6;\n",
              "    }\n",
              "\n",
              "    [theme=dark] .colab-df-convert {\n",
              "      background-color: #3B4455;\n",
              "      fill: #D2E3FC;\n",
              "    }\n",
              "\n",
              "    [theme=dark] .colab-df-convert:hover {\n",
              "      background-color: #434B5C;\n",
              "      box-shadow: 0px 1px 3px 1px rgba(0, 0, 0, 0.15);\n",
              "      filter: drop-shadow(0px 1px 2px rgba(0, 0, 0, 0.3));\n",
              "      fill: #FFFFFF;\n",
              "    }\n",
              "  </style>\n",
              "\n",
              "      <script>\n",
              "        const buttonEl =\n",
              "          document.querySelector('#df-4acec89f-fc8a-4152-9e65-9adb220d15c4 button.colab-df-convert');\n",
              "        buttonEl.style.display =\n",
              "          google.colab.kernel.accessAllowed ? 'block' : 'none';\n",
              "\n",
              "        async function convertToInteractive(key) {\n",
              "          const element = document.querySelector('#df-4acec89f-fc8a-4152-9e65-9adb220d15c4');\n",
              "          const dataTable =\n",
              "            await google.colab.kernel.invokeFunction('convertToInteractive',\n",
              "                                                     [key], {});\n",
              "          if (!dataTable) return;\n",
              "\n",
              "          const docLinkHtml = 'Like what you see? Visit the ' +\n",
              "            '<a target=\"_blank\" href=https://colab.research.google.com/notebooks/data_table.ipynb>data table notebook</a>'\n",
              "            + ' to learn more about interactive tables.';\n",
              "          element.innerHTML = '';\n",
              "          dataTable['output_type'] = 'display_data';\n",
              "          await google.colab.output.renderOutput(dataTable, element);\n",
              "          const docLink = document.createElement('div');\n",
              "          docLink.innerHTML = docLinkHtml;\n",
              "          element.appendChild(docLink);\n",
              "        }\n",
              "      </script>\n",
              "    </div>\n",
              "  </div>\n",
              "  "
            ]
          },
          "metadata": {},
          "execution_count": 61
        }
      ]
    },
    {
      "cell_type": "code",
      "source": [
        "df_coffee_star_edi['브랜드명'].value_counts()"
      ],
      "metadata": {
        "colab": {
          "base_uri": "https://localhost:8080/"
        },
        "id": "oGPAnjOUGDtE",
        "outputId": "b334faf2-c796-4a7a-bbb2-88de7bbe87dc"
      },
      "execution_count": 62,
      "outputs": [
        {
          "output_type": "execute_result",
          "data": {
            "text/plain": [
              "스타벅스    506\n",
              "이디야     432\n",
              "Name: 브랜드명, dtype: int64"
            ]
          },
          "metadata": {},
          "execution_count": 62
        }
      ]
    },
    {
      "cell_type": "code",
      "source": [
        "geo_df_coffee = df_coffee_star_edi"
      ],
      "metadata": {
        "id": "ADv69lcRGw5a"
      },
      "execution_count": 63,
      "outputs": []
    },
    {
      "cell_type": "code",
      "source": [
        "!pip install folium"
      ],
      "metadata": {
        "colab": {
          "base_uri": "https://localhost:8080/"
        },
        "id": "3a62uo7IHAdb",
        "outputId": "45c0f225-22ec-4a91-ab32-4b8c2a77b3b5"
      },
      "execution_count": 64,
      "outputs": [
        {
          "output_type": "stream",
          "name": "stdout",
          "text": [
            "Looking in indexes: https://pypi.org/simple, https://us-python.pkg.dev/colab-wheels/public/simple/\n",
            "Requirement already satisfied: folium in /usr/local/lib/python3.8/dist-packages (0.12.1.post1)\n",
            "Requirement already satisfied: branca>=0.3.0 in /usr/local/lib/python3.8/dist-packages (from folium) (0.6.0)\n",
            "Requirement already satisfied: jinja2>=2.9 in /usr/local/lib/python3.8/dist-packages (from folium) (2.11.3)\n",
            "Requirement already satisfied: numpy in /usr/local/lib/python3.8/dist-packages (from folium) (1.21.6)\n",
            "Requirement already satisfied: requests in /usr/local/lib/python3.8/dist-packages (from folium) (2.23.0)\n",
            "Requirement already satisfied: MarkupSafe>=0.23 in /usr/local/lib/python3.8/dist-packages (from jinja2>=2.9->folium) (2.0.1)\n",
            "Requirement already satisfied: idna<3,>=2.5 in /usr/local/lib/python3.8/dist-packages (from requests->folium) (2.10)\n",
            "Requirement already satisfied: urllib3!=1.25.0,!=1.25.1,<1.26,>=1.21.1 in /usr/local/lib/python3.8/dist-packages (from requests->folium) (1.24.3)\n",
            "Requirement already satisfied: certifi>=2017.4.17 in /usr/local/lib/python3.8/dist-packages (from requests->folium) (2022.12.7)\n",
            "Requirement already satisfied: chardet<4,>=3.0.2 in /usr/local/lib/python3.8/dist-packages (from requests->folium) (3.0.4)\n"
          ]
        }
      ]
    },
    {
      "cell_type": "code",
      "source": [
        "import folium"
      ],
      "metadata": {
        "id": "OZULAisEHCk_"
      },
      "execution_count": 65,
      "outputs": []
    },
    {
      "cell_type": "code",
      "source": [
        "map = folium.Map(location = [geo_df_coffee['위도'].mean(), geo_df_coffee['경도'].mean()], zoom_start=12, tiles='Stamen Toner')\n",
        "for n in geo_df_coffee.index :\n",
        "  # 팝업에 들어갈 텍스트를 지정해 준다.\n",
        "  popup_name = geo_df_coffee.loc[n, '상호명'] + ' - ' + geo_df_coffee.loc[n, '도로명']\n",
        "  # 브랜드 명에 따라 아이콘 색상을 다르게 준다.\n",
        "  if geo_df_coffee.loc[n, '브랜드명'] == '스타벅스' :\n",
        "    icon_color = 'green'\n",
        "  else : \n",
        "    icon_color = 'blue'\n",
        "\n",
        "  folium.CircleMarker(location=[geo_df_coffee.loc[n, '위도'], geo_df_coffee.loc[n, '경도']],\n",
        "                      radius = 3,\n",
        "                      popup = popup_name,\n",
        "                      color = icon_color,\n",
        "                      fill = True,\n",
        "                      fill_color = icon_color).add_to(map)"
      ],
      "metadata": {
        "id": "CE7pWamGHRp6"
      },
      "execution_count": 77,
      "outputs": []
    },
    {
      "cell_type": "code",
      "source": [
        "geo_df_coffee.index"
      ],
      "metadata": {
        "colab": {
          "base_uri": "https://localhost:8080/"
        },
        "id": "UnV24Ae6Hxtz",
        "outputId": "45677a1f-fd85-4baa-fd18-906ed387dddb"
      },
      "execution_count": 70,
      "outputs": [
        {
          "output_type": "execute_result",
          "data": {
            "text/plain": [
              "Int64Index([   752,   1153,   1406,   1875,   1981,   5352,   9359,   9952,\n",
              "              9957,  10176,\n",
              "            ...\n",
              "            356664, 356930, 357929, 358568, 360014, 361118, 361289, 362115,\n",
              "            365894, 370018],\n",
              "           dtype='int64', length=938)"
            ]
          },
          "metadata": {},
          "execution_count": 70
        }
      ]
    },
    {
      "cell_type": "code",
      "source": [
        "map"
      ],
      "metadata": {
        "id": "BPiNCBy2IATS"
      },
      "execution_count": null,
      "outputs": []
    },
    {
      "cell_type": "code",
      "source": [
        "map.save('./pdsample/df_coffee.html')"
      ],
      "metadata": {
        "id": "Xb84mwdVJpnH"
      },
      "execution_count": 79,
      "outputs": []
    },
    {
      "cell_type": "code",
      "source": [],
      "metadata": {
        "id": "fQn3W33JN_z3"
      },
      "execution_count": null,
      "outputs": []
    }
  ]
}