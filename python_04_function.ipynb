{
  "nbformat": 4,
  "nbformat_minor": 0,
  "metadata": {
    "colab": {
      "provenance": [],
      "authorship_tag": "ABX9TyNLjD2wmi//cx3HpKmEBHOp",
      "include_colab_link": true
    },
    "kernelspec": {
      "name": "python3",
      "display_name": "Python 3"
    },
    "language_info": {
      "name": "python"
    }
  },
  "cells": [
    {
      "cell_type": "markdown",
      "metadata": {
        "id": "view-in-github",
        "colab_type": "text"
      },
      "source": [
        "<a href=\"https://colab.research.google.com/github/kimberlyydanij/python_demo/blob/master/python_04_function.ipynb\" target=\"_parent\"><img src=\"https://colab.research.google.com/assets/colab-badge.svg\" alt=\"Open In Colab\"/></a>"
      ]
    },
    {
      "cell_type": "code",
      "execution_count": null,
      "metadata": {
        "id": "mKse-SM6lBxJ"
      },
      "outputs": [],
      "source": [
        "###function\n",
        "\n",
        "def proc():\n",
        "  pass # pass는 구현을 안할 떄 사용한다.\n",
        "       # 아무것도 안 쓰면 에러가 발생한다.\n",
        "       "
      ]
    },
    {
      "cell_type": "code",
      "source": [
        "def display() :\n",
        "  pass"
      ],
      "metadata": {
        "id": "jS28dn33li1f"
      },
      "execution_count": 1,
      "outputs": []
    },
    {
      "cell_type": "code",
      "source": [
        "display()"
      ],
      "metadata": {
        "id": "lpLb1A7vlqXt"
      },
      "execution_count": 3,
      "outputs": []
    },
    {
      "cell_type": "code",
      "source": [
        "print(display())"
      ],
      "metadata": {
        "colab": {
          "base_uri": "https://localhost:8080/"
        },
        "id": "P3mc740qlviP",
        "outputId": "16fb94c7-e6dc-490c-efb2-b3376f482226"
      },
      "execution_count": 5,
      "outputs": [
        {
          "output_type": "stream",
          "name": "stdout",
          "text": [
            "None\n"
          ]
        }
      ]
    },
    {
      "cell_type": "markdown",
      "source": [
        "#### callbale\n",
        "- 이름뒤에 괄호()를 붙이는 것을 call(호출) 이라고 한다.\n",
        "- 이름뒤에 괄호()를 붙일 수 있는 것을 callable이라고 한다.\n",
        "- 함수는 사용할 때 이름 뒤에 괄호를 붙인다.\n",
        "- python에서 callable인 것이 3가지 유형이 있다.\n",
        "  (1) function\n",
        "  (2) clasS(init가 정의되었을 경우)\n",
        "  (3) object(call가 정의되었을 경우)\n",
        "  "
      ],
      "metadata": {
        "id": "5ewPuouBmBvs"
      }
    },
    {
      "cell_type": "code",
      "source": [
        "a = 3\n",
        "a()"
      ],
      "metadata": {
        "colab": {
          "base_uri": "https://localhost:8080/",
          "height": 193
        },
        "id": "QD3mZ4pGlz77",
        "outputId": "e0efda62-f0c0-4e2a-d59c-0a1fbb20d9c6"
      },
      "execution_count": 6,
      "outputs": [
        {
          "output_type": "error",
          "ename": "TypeError",
          "evalue": "ignored",
          "traceback": [
            "\u001b[0;31m---------------------------------------------------------------------------\u001b[0m",
            "\u001b[0;31mTypeError\u001b[0m                                 Traceback (most recent call last)",
            "\u001b[0;32m<ipython-input-6-0bf2a3b2549b>\u001b[0m in \u001b[0;36m<module>\u001b[0;34m\u001b[0m\n\u001b[1;32m      1\u001b[0m \u001b[0ma\u001b[0m \u001b[0;34m=\u001b[0m \u001b[0;36m3\u001b[0m\u001b[0;34m\u001b[0m\u001b[0;34m\u001b[0m\u001b[0m\n\u001b[0;32m----> 2\u001b[0;31m \u001b[0ma\u001b[0m\u001b[0;34m(\u001b[0m\u001b[0;34m)\u001b[0m\u001b[0;34m\u001b[0m\u001b[0;34m\u001b[0m\u001b[0m\n\u001b[0m",
            "\u001b[0;31mTypeError\u001b[0m: 'int' object is not callable"
          ]
        }
      ]
    },
    {
      "cell_type": "code",
      "source": [
        "list = 3\n",
        "list()"
      ],
      "metadata": {
        "colab": {
          "base_uri": "https://localhost:8080/",
          "height": 193
        },
        "id": "1Orz7WXLmrU6",
        "outputId": "a2716f99-7064-4cfd-fab7-f33df1f1d83e"
      },
      "execution_count": 9,
      "outputs": [
        {
          "output_type": "error",
          "ename": "TypeError",
          "evalue": "ignored",
          "traceback": [
            "\u001b[0;31m---------------------------------------------------------------------------\u001b[0m",
            "\u001b[0;31mTypeError\u001b[0m                                 Traceback (most recent call last)",
            "\u001b[0;32m<ipython-input-9-333a1a86953d>\u001b[0m in \u001b[0;36m<module>\u001b[0;34m\u001b[0m\n\u001b[1;32m      1\u001b[0m \u001b[0mlist\u001b[0m \u001b[0;34m=\u001b[0m \u001b[0;36m3\u001b[0m\u001b[0;34m\u001b[0m\u001b[0;34m\u001b[0m\u001b[0m\n\u001b[0;32m----> 2\u001b[0;31m \u001b[0mlist\u001b[0m\u001b[0;34m(\u001b[0m\u001b[0;34m)\u001b[0m\u001b[0;34m\u001b[0m\u001b[0;34m\u001b[0m\u001b[0m\n\u001b[0m",
            "\u001b[0;31mTypeError\u001b[0m: 'int' object is not callable"
          ]
        }
      ]
    },
    {
      "cell_type": "code",
      "source": [
        "import keyword\n",
        "keyword.kwlist"
      ],
      "metadata": {
        "colab": {
          "base_uri": "https://localhost:8080/"
        },
        "id": "R2LWm_gbnFT1",
        "outputId": "eeebb82a-9bff-4dc9-9be8-24218c45c2fd"
      },
      "execution_count": 10,
      "outputs": [
        {
          "output_type": "execute_result",
          "data": {
            "text/plain": [
              "['False',\n",
              " 'None',\n",
              " 'True',\n",
              " 'and',\n",
              " 'as',\n",
              " 'assert',\n",
              " 'async',\n",
              " 'await',\n",
              " 'break',\n",
              " 'class',\n",
              " 'continue',\n",
              " 'def',\n",
              " 'del',\n",
              " 'elif',\n",
              " 'else',\n",
              " 'except',\n",
              " 'finally',\n",
              " 'for',\n",
              " 'from',\n",
              " 'global',\n",
              " 'if',\n",
              " 'import',\n",
              " 'in',\n",
              " 'is',\n",
              " 'lambda',\n",
              " 'nonlocal',\n",
              " 'not',\n",
              " 'or',\n",
              " 'pass',\n",
              " 'raise',\n",
              " 'return',\n",
              " 'try',\n",
              " 'while',\n",
              " 'with',\n",
              " 'yield']"
            ]
          },
          "metadata": {},
          "execution_count": 10
        }
      ]
    },
    {
      "cell_type": "code",
      "source": [
        "list\n",
        "set"
      ],
      "metadata": {
        "colab": {
          "base_uri": "https://localhost:8080/"
        },
        "id": "pA2ElRu4nUXV",
        "outputId": "ab4c0ba2-9c74-467d-9aa4-3288faed1689"
      },
      "execution_count": 11,
      "outputs": [
        {
          "output_type": "execute_result",
          "data": {
            "text/plain": [
              "set"
            ]
          },
          "metadata": {},
          "execution_count": 11
        }
      ]
    },
    {
      "cell_type": "code",
      "source": [
        "list = 3\n",
        "del list\n",
        "list()"
      ],
      "metadata": {
        "colab": {
          "base_uri": "https://localhost:8080/"
        },
        "id": "saM9mA3Fnh8P",
        "outputId": "1a474c2e-22b9-4a6b-de98-a53a55ab1b89"
      },
      "execution_count": 12,
      "outputs": [
        {
          "output_type": "execute_result",
          "data": {
            "text/plain": [
              "[]"
            ]
          },
          "metadata": {},
          "execution_count": 12
        }
      ]
    },
    {
      "cell_type": "code",
      "source": [
        "def prn():\n",
        "  return 1"
      ],
      "metadata": {
        "id": "4JuKhIQjn7OB"
      },
      "execution_count": 16,
      "outputs": []
    },
    {
      "cell_type": "code",
      "source": [
        "prn()"
      ],
      "metadata": {
        "colab": {
          "base_uri": "https://localhost:8080/"
        },
        "id": "NMARjBMToNqj",
        "outputId": "9e10266f-29f0-4757-c8b0-6e13cb81c0d7"
      },
      "execution_count": 17,
      "outputs": [
        {
          "output_type": "execute_result",
          "data": {
            "text/plain": [
              "1"
            ]
          },
          "metadata": {},
          "execution_count": 17
        }
      ]
    },
    {
      "cell_type": "code",
      "source": [
        "# 괄호를 붙이지 않으면 함수식이다\n",
        "prn"
      ],
      "metadata": {
        "colab": {
          "base_uri": "https://localhost:8080/"
        },
        "id": "utX9kvrYoPOR",
        "outputId": "bf0ee99d-27fe-43e6-907e-5f36e539f606"
      },
      "execution_count": 18,
      "outputs": [
        {
          "output_type": "execute_result",
          "data": {
            "text/plain": [
              "<function __main__.prn()>"
            ]
          },
          "metadata": {},
          "execution_count": 18
        }
      ]
    },
    {
      "cell_type": "code",
      "source": [
        "# 내장함수 callable은 객체가()을 붙여 사용할 수 있는지를 True/False로 알려준다.\n",
        "callable(prn)"
      ],
      "metadata": {
        "colab": {
          "base_uri": "https://localhost:8080/"
        },
        "id": "aayffFsMorHL",
        "outputId": "607a0eb0-a565-46b5-8b21-d9dada42b3c9"
      },
      "execution_count": 20,
      "outputs": [
        {
          "output_type": "execute_result",
          "data": {
            "text/plain": [
              "True"
            ]
          },
          "metadata": {},
          "execution_count": 20
        }
      ]
    },
    {
      "cell_type": "code",
      "source": [
        "a = 3\n",
        "callable(a)"
      ],
      "metadata": {
        "colab": {
          "base_uri": "https://localhost:8080/"
        },
        "id": "P6xdIT3Ho8xN",
        "outputId": "06939d40-f4d4-4157-833e-9c5f0a13e751"
      },
      "execution_count": 22,
      "outputs": [
        {
          "output_type": "execute_result",
          "data": {
            "text/plain": [
              "False"
            ]
          },
          "metadata": {},
          "execution_count": 22
        }
      ]
    },
    {
      "cell_type": "markdown",
      "source": [
        "### 매개변수(parameter) 인자(argument)\n",
        "1. positional\n",
        "2. keyword\n",
        "3. position & keyword\n",
        "4. position only\n",
        "5. keyword only\n",
        "6. \n",
        "7. 가변 keyword"
      ],
      "metadata": {
        "id": "_BsZ7Gh2pyJu"
      }
    },
    {
      "cell_type": "markdown",
      "source": [
        "1. positional\n",
        "   함수 호출 : 선언할 때 파라미터의 순서와 호출할 때 인자의 입력 순서를 그대로 매칭한다."
      ],
      "metadata": {
        "id": "TFSpH9c-p8UM"
      }
    },
    {
      "cell_type": "code",
      "source": [
        "def proc(a,b):\n",
        "  return a,b"
      ],
      "metadata": {
        "id": "Qh2ZqQhbqJaK"
      },
      "execution_count": 23,
      "outputs": []
    },
    {
      "cell_type": "code",
      "source": [
        "proc(2,4)"
      ],
      "metadata": {
        "colab": {
          "base_uri": "https://localhost:8080/"
        },
        "id": "RECI7RSEqNB7",
        "outputId": "e7f7533d-8ea6-4afe-9e92-03fab22e3c33"
      },
      "execution_count": 24,
      "outputs": [
        {
          "output_type": "execute_result",
          "data": {
            "text/plain": [
              "(2, 4)"
            ]
          },
          "metadata": {},
          "execution_count": 24
        }
      ]
    },
    {
      "cell_type": "markdown",
      "source": [
        "2. keyword \n",
        "   keyword 방식을 이용하면 순서와 관계없이 파라미터 이름에 따라 값이 대입된다."
      ],
      "metadata": {
        "id": "-Y7OyxwAqW9J"
      }
    },
    {
      "cell_type": "code",
      "source": [
        "proc(b=4, a=2)"
      ],
      "metadata": {
        "colab": {
          "base_uri": "https://localhost:8080/"
        },
        "id": "ljIGVFF9qd77",
        "outputId": "8e1c1da0-7239-4034-8c50-968aef219bec"
      },
      "execution_count": 25,
      "outputs": [
        {
          "output_type": "execute_result",
          "data": {
            "text/plain": [
              "(2, 4)"
            ]
          },
          "metadata": {},
          "execution_count": 25
        }
      ]
    },
    {
      "cell_type": "markdown",
      "source": [
        "3. position & keyword 혼합"
      ],
      "metadata": {
        "id": "V8FGANN9qlvt"
      }
    },
    {
      "cell_type": "code",
      "source": [
        "def proc(a,b,c):\n",
        "  return a,b,c\n"
      ],
      "metadata": {
        "id": "Cjpsgm3Vq7Oq"
      },
      "execution_count": 26,
      "outputs": []
    },
    {
      "cell_type": "code",
      "source": [
        "proc(2, c=5, b=3)"
      ],
      "metadata": {
        "colab": {
          "base_uri": "https://localhost:8080/"
        },
        "id": "2qPh3DayrA_N",
        "outputId": "d8e6b8fa-3065-4837-aa5e-650244179b63"
      },
      "execution_count": 27,
      "outputs": [
        {
          "output_type": "execute_result",
          "data": {
            "text/plain": [
              "(2, 3, 5)"
            ]
          },
          "metadata": {},
          "execution_count": 27
        }
      ]
    },
    {
      "cell_type": "code",
      "source": [
        "# 한번 keyword 방식을 사용하면, 그 다음부터는 keyword방법만 사용할 수 있다.\n",
        "proc(b=5, a=4, 8)"
      ],
      "metadata": {
        "colab": {
          "base_uri": "https://localhost:8080/",
          "height": 137
        },
        "id": "ezPOp7-9rQlg",
        "outputId": "4ae0a509-cd18-4b9b-8a0e-7cc4e6ccaac1"
      },
      "execution_count": 28,
      "outputs": [
        {
          "output_type": "error",
          "ename": "SyntaxError",
          "evalue": "ignored",
          "traceback": [
            "\u001b[0;36m  File \u001b[0;32m\"<ipython-input-28-b5ea10f1c1ef>\"\u001b[0;36m, line \u001b[0;32m2\u001b[0m\n\u001b[0;31m    proc(b=5, a=4, 8)\u001b[0m\n\u001b[0m                   ^\u001b[0m\n\u001b[0;31mSyntaxError\u001b[0m\u001b[0;31m:\u001b[0m positional argument follows keyword argument\n"
          ]
        }
      ]
    },
    {
      "cell_type": "code",
      "source": [
        "#python 버전확인\n",
        "import sys\n",
        "sys.version"
      ],
      "metadata": {
        "colab": {
          "base_uri": "https://localhost:8080/",
          "height": 35
        },
        "id": "2iXqfMWlrlO7",
        "outputId": "870ba7c5-2625-4ed9-900a-4b53f871d999"
      },
      "execution_count": 29,
      "outputs": [
        {
          "output_type": "execute_result",
          "data": {
            "text/plain": [
              "'3.8.15 (default, Oct 12 2022, 19:14:39) \\n[GCC 7.5.0]'"
            ],
            "application/vnd.google.colaboratory.intrinsic+json": {
              "type": "string"
            }
          },
          "metadata": {},
          "execution_count": 29
        }
      ]
    },
    {
      "cell_type": "markdown",
      "source": [
        "4. position only\n",
        "position only는 함수를 사용할 때 position 방식으로만 인자를 쓸 수 있도록 강제하는 방법이다.\n",
        "/ 의 앞에 오는 인자들은 position 방식으로 입력할 수 있지만, keyword방식으로만 입력할 수 없다. position only함수를 선언하는 것은 phthon 3.8부터 지원한다.\n",
        "이전 버전에서는 사전 정의된 position only함수는 있지만, 사용자가 만들 수는 없었다."
      ],
      "metadata": {
        "id": "0jl4OVOXrtgT"
      }
    }
  ]
}