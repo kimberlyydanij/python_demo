{
  "nbformat": 4,
  "nbformat_minor": 0,
  "metadata": {
    "colab": {
      "provenance": [],
      "include_colab_link": true
    },
    "kernelspec": {
      "name": "python3",
      "display_name": "Python 3"
    },
    "language_info": {
      "name": "python"
    }
  },
  "cells": [
    {
      "cell_type": "markdown",
      "metadata": {
        "id": "view-in-github",
        "colab_type": "text"
      },
      "source": [
        "<a href=\"https://colab.research.google.com/github/kimberlyydanij/python_demo/blob/master/python_32_%EA%B8%B0%EA%B3%84%ED%95%99%EC%8A%B5_%ED%95%98%EC%9D%B4%ED%8D%BC_%ED%8C%8C%EB%9D%BC%EB%AF%B8%ED%84%B0.ipynb\" target=\"_parent\"><img src=\"https://colab.research.google.com/assets/colab-badge.svg\" alt=\"Open In Colab\"/></a>"
      ]
    },
    {
      "cell_type": "code",
      "execution_count": 1,
      "metadata": {
        "colab": {
          "base_uri": "https://localhost:8080/"
        },
        "id": "a7CgELbPt7MR",
        "outputId": "6a04761a-b273-4a59-977a-1639bb78f9fd"
      },
      "outputs": [
        {
          "output_type": "stream",
          "name": "stdout",
          "text": [
            "Drive already mounted at /content/drive; to attempt to forcibly remount, call drive.mount(\"/content/drive\", force_remount=True).\n",
            "/content/drive/MyDrive/python_demo\n"
          ]
        }
      ],
      "source": [
        "from google.colab import drive\n",
        "drive.mount('/content/drive')\n",
        "\n",
        "%cd /content/drive/MyDrive/python_demo"
      ]
    },
    {
      "cell_type": "markdown",
      "source": [
        "### iris dataset"
      ],
      "metadata": {
        "id": "zt_kkNGuu3G_"
      }
    },
    {
      "cell_type": "code",
      "source": [
        "from sklearn.datasets import load_iris"
      ],
      "metadata": {
        "id": "OtLYWzTXubdh"
      },
      "execution_count": 2,
      "outputs": []
    },
    {
      "cell_type": "code",
      "source": [
        "data = load_iris()"
      ],
      "metadata": {
        "id": "_vBgB4qOu52X"
      },
      "execution_count": 3,
      "outputs": []
    },
    {
      "cell_type": "code",
      "source": [
        "import pandas as pd"
      ],
      "metadata": {
        "id": "CYQB1TGZu67f"
      },
      "execution_count": 4,
      "outputs": []
    },
    {
      "cell_type": "code",
      "source": [
        "dir(data)"
      ],
      "metadata": {
        "colab": {
          "base_uri": "https://localhost:8080/"
        },
        "id": "9Qg0I9Hpu6-o",
        "outputId": "aedfd603-6844-41e4-c74e-f924da31dce2"
      },
      "execution_count": 5,
      "outputs": [
        {
          "output_type": "execute_result",
          "data": {
            "text/plain": [
              "['DESCR',\n",
              " 'data',\n",
              " 'data_module',\n",
              " 'feature_names',\n",
              " 'filename',\n",
              " 'frame',\n",
              " 'target',\n",
              " 'target_names']"
            ]
          },
          "metadata": {},
          "execution_count": 5
        }
      ]
    },
    {
      "cell_type": "code",
      "source": [
        "data_pd = pd.DataFrame(data.data, columns=data.feature_names)\n",
        "target_pd =pd.DataFrame(data.target, columns=['target'])\n",
        "iris = pd.concat([data_pd,target_pd], axis=1)"
      ],
      "metadata": {
        "id": "jNcQPufsu7BX"
      },
      "execution_count": 6,
      "outputs": []
    },
    {
      "cell_type": "code",
      "source": [
        "iris.head()"
      ],
      "metadata": {
        "colab": {
          "base_uri": "https://localhost:8080/",
          "height": 206
        },
        "id": "asESOb8bu7EX",
        "outputId": "8327e448-4116-42b4-a906-5cbfa4763a77"
      },
      "execution_count": 7,
      "outputs": [
        {
          "output_type": "execute_result",
          "data": {
            "text/plain": [
              "   sepal length (cm)  sepal width (cm)  petal length (cm)  petal width (cm)  \\\n",
              "0                5.1               3.5                1.4               0.2   \n",
              "1                4.9               3.0                1.4               0.2   \n",
              "2                4.7               3.2                1.3               0.2   \n",
              "3                4.6               3.1                1.5               0.2   \n",
              "4                5.0               3.6                1.4               0.2   \n",
              "\n",
              "   target  \n",
              "0       0  \n",
              "1       0  \n",
              "2       0  \n",
              "3       0  \n",
              "4       0  "
            ],
            "text/html": [
              "\n",
              "  <div id=\"df-acedd656-1b97-4ab6-9543-89568a40796b\">\n",
              "    <div class=\"colab-df-container\">\n",
              "      <div>\n",
              "<style scoped>\n",
              "    .dataframe tbody tr th:only-of-type {\n",
              "        vertical-align: middle;\n",
              "    }\n",
              "\n",
              "    .dataframe tbody tr th {\n",
              "        vertical-align: top;\n",
              "    }\n",
              "\n",
              "    .dataframe thead th {\n",
              "        text-align: right;\n",
              "    }\n",
              "</style>\n",
              "<table border=\"1\" class=\"dataframe\">\n",
              "  <thead>\n",
              "    <tr style=\"text-align: right;\">\n",
              "      <th></th>\n",
              "      <th>sepal length (cm)</th>\n",
              "      <th>sepal width (cm)</th>\n",
              "      <th>petal length (cm)</th>\n",
              "      <th>petal width (cm)</th>\n",
              "      <th>target</th>\n",
              "    </tr>\n",
              "  </thead>\n",
              "  <tbody>\n",
              "    <tr>\n",
              "      <th>0</th>\n",
              "      <td>5.1</td>\n",
              "      <td>3.5</td>\n",
              "      <td>1.4</td>\n",
              "      <td>0.2</td>\n",
              "      <td>0</td>\n",
              "    </tr>\n",
              "    <tr>\n",
              "      <th>1</th>\n",
              "      <td>4.9</td>\n",
              "      <td>3.0</td>\n",
              "      <td>1.4</td>\n",
              "      <td>0.2</td>\n",
              "      <td>0</td>\n",
              "    </tr>\n",
              "    <tr>\n",
              "      <th>2</th>\n",
              "      <td>4.7</td>\n",
              "      <td>3.2</td>\n",
              "      <td>1.3</td>\n",
              "      <td>0.2</td>\n",
              "      <td>0</td>\n",
              "    </tr>\n",
              "    <tr>\n",
              "      <th>3</th>\n",
              "      <td>4.6</td>\n",
              "      <td>3.1</td>\n",
              "      <td>1.5</td>\n",
              "      <td>0.2</td>\n",
              "      <td>0</td>\n",
              "    </tr>\n",
              "    <tr>\n",
              "      <th>4</th>\n",
              "      <td>5.0</td>\n",
              "      <td>3.6</td>\n",
              "      <td>1.4</td>\n",
              "      <td>0.2</td>\n",
              "      <td>0</td>\n",
              "    </tr>\n",
              "  </tbody>\n",
              "</table>\n",
              "</div>\n",
              "      <button class=\"colab-df-convert\" onclick=\"convertToInteractive('df-acedd656-1b97-4ab6-9543-89568a40796b')\"\n",
              "              title=\"Convert this dataframe to an interactive table.\"\n",
              "              style=\"display:none;\">\n",
              "        \n",
              "  <svg xmlns=\"http://www.w3.org/2000/svg\" height=\"24px\"viewBox=\"0 0 24 24\"\n",
              "       width=\"24px\">\n",
              "    <path d=\"M0 0h24v24H0V0z\" fill=\"none\"/>\n",
              "    <path d=\"M18.56 5.44l.94 2.06.94-2.06 2.06-.94-2.06-.94-.94-2.06-.94 2.06-2.06.94zm-11 1L8.5 8.5l.94-2.06 2.06-.94-2.06-.94L8.5 2.5l-.94 2.06-2.06.94zm10 10l.94 2.06.94-2.06 2.06-.94-2.06-.94-.94-2.06-.94 2.06-2.06.94z\"/><path d=\"M17.41 7.96l-1.37-1.37c-.4-.4-.92-.59-1.43-.59-.52 0-1.04.2-1.43.59L10.3 9.45l-7.72 7.72c-.78.78-.78 2.05 0 2.83L4 21.41c.39.39.9.59 1.41.59.51 0 1.02-.2 1.41-.59l7.78-7.78 2.81-2.81c.8-.78.8-2.07 0-2.86zM5.41 20L4 18.59l7.72-7.72 1.47 1.35L5.41 20z\"/>\n",
              "  </svg>\n",
              "      </button>\n",
              "      \n",
              "  <style>\n",
              "    .colab-df-container {\n",
              "      display:flex;\n",
              "      flex-wrap:wrap;\n",
              "      gap: 12px;\n",
              "    }\n",
              "\n",
              "    .colab-df-convert {\n",
              "      background-color: #E8F0FE;\n",
              "      border: none;\n",
              "      border-radius: 50%;\n",
              "      cursor: pointer;\n",
              "      display: none;\n",
              "      fill: #1967D2;\n",
              "      height: 32px;\n",
              "      padding: 0 0 0 0;\n",
              "      width: 32px;\n",
              "    }\n",
              "\n",
              "    .colab-df-convert:hover {\n",
              "      background-color: #E2EBFA;\n",
              "      box-shadow: 0px 1px 2px rgba(60, 64, 67, 0.3), 0px 1px 3px 1px rgba(60, 64, 67, 0.15);\n",
              "      fill: #174EA6;\n",
              "    }\n",
              "\n",
              "    [theme=dark] .colab-df-convert {\n",
              "      background-color: #3B4455;\n",
              "      fill: #D2E3FC;\n",
              "    }\n",
              "\n",
              "    [theme=dark] .colab-df-convert:hover {\n",
              "      background-color: #434B5C;\n",
              "      box-shadow: 0px 1px 3px 1px rgba(0, 0, 0, 0.15);\n",
              "      filter: drop-shadow(0px 1px 2px rgba(0, 0, 0, 0.3));\n",
              "      fill: #FFFFFF;\n",
              "    }\n",
              "  </style>\n",
              "\n",
              "      <script>\n",
              "        const buttonEl =\n",
              "          document.querySelector('#df-acedd656-1b97-4ab6-9543-89568a40796b button.colab-df-convert');\n",
              "        buttonEl.style.display =\n",
              "          google.colab.kernel.accessAllowed ? 'block' : 'none';\n",
              "\n",
              "        async function convertToInteractive(key) {\n",
              "          const element = document.querySelector('#df-acedd656-1b97-4ab6-9543-89568a40796b');\n",
              "          const dataTable =\n",
              "            await google.colab.kernel.invokeFunction('convertToInteractive',\n",
              "                                                     [key], {});\n",
              "          if (!dataTable) return;\n",
              "\n",
              "          const docLinkHtml = 'Like what you see? Visit the ' +\n",
              "            '<a target=\"_blank\" href=https://colab.research.google.com/notebooks/data_table.ipynb>data table notebook</a>'\n",
              "            + ' to learn more about interactive tables.';\n",
              "          element.innerHTML = '';\n",
              "          dataTable['output_type'] = 'display_data';\n",
              "          await google.colab.output.renderOutput(dataTable, element);\n",
              "          const docLink = document.createElement('div');\n",
              "          docLink.innerHTML = docLinkHtml;\n",
              "          element.appendChild(docLink);\n",
              "        }\n",
              "      </script>\n",
              "    </div>\n",
              "  </div>\n",
              "  "
            ]
          },
          "metadata": {},
          "execution_count": 7
        }
      ]
    },
    {
      "cell_type": "code",
      "source": [
        "iris.info()"
      ],
      "metadata": {
        "colab": {
          "base_uri": "https://localhost:8080/"
        },
        "id": "3Jxsu7ZAvV_3",
        "outputId": "c230a3bc-e9b5-4868-b7a5-c565cb94aaaf"
      },
      "execution_count": 8,
      "outputs": [
        {
          "output_type": "stream",
          "name": "stdout",
          "text": [
            "<class 'pandas.core.frame.DataFrame'>\n",
            "RangeIndex: 150 entries, 0 to 149\n",
            "Data columns (total 5 columns):\n",
            " #   Column             Non-Null Count  Dtype  \n",
            "---  ------             --------------  -----  \n",
            " 0   sepal length (cm)  150 non-null    float64\n",
            " 1   sepal width (cm)   150 non-null    float64\n",
            " 2   petal length (cm)  150 non-null    float64\n",
            " 3   petal width (cm)   150 non-null    float64\n",
            " 4   target             150 non-null    int64  \n",
            "dtypes: float64(4), int64(1)\n",
            "memory usage: 6.0 KB\n"
          ]
        }
      ]
    },
    {
      "cell_type": "code",
      "source": [
        "from sklearn.model_selection import train_test_split"
      ],
      "metadata": {
        "id": "a7ucG2h5vWC_"
      },
      "execution_count": 9,
      "outputs": []
    },
    {
      "cell_type": "code",
      "source": [
        "# hold out\n",
        "X_train, X_test, y_train, y_test = train_test_split(iris.iloc[:, :-1], iris.target)"
      ],
      "metadata": {
        "id": "iPr3sXFgvWK_"
      },
      "execution_count": 10,
      "outputs": []
    },
    {
      "cell_type": "code",
      "source": [
        "from sklearn.metrics import confusion_matrix"
      ],
      "metadata": {
        "id": "9YnsDHCVwYUw"
      },
      "execution_count": 11,
      "outputs": []
    },
    {
      "cell_type": "code",
      "source": [
        "from sklearn.neighbors import KNeighborsClassifier"
      ],
      "metadata": {
        "id": "qpw8AMjbwpam"
      },
      "execution_count": 12,
      "outputs": []
    },
    {
      "cell_type": "code",
      "source": [
        "knn = KNeighborsClassifier()"
      ],
      "metadata": {
        "id": "585i9NF7wtw4"
      },
      "execution_count": 13,
      "outputs": []
    },
    {
      "cell_type": "code",
      "source": [
        "knn.fit(X_train, y_train)"
      ],
      "metadata": {
        "colab": {
          "base_uri": "https://localhost:8080/"
        },
        "id": "UxcYRf8bwudG",
        "outputId": "5e9f45ff-1bde-45b4-ef7a-aa2d85bbcd0f"
      },
      "execution_count": 14,
      "outputs": [
        {
          "output_type": "execute_result",
          "data": {
            "text/plain": [
              "KNeighborsClassifier()"
            ]
          },
          "metadata": {},
          "execution_count": 14
        }
      ]
    },
    {
      "cell_type": "code",
      "source": [
        "pred = knn.predict(X_test)\n",
        "pred"
      ],
      "metadata": {
        "colab": {
          "base_uri": "https://localhost:8080/"
        },
        "id": "2-uhAOA3wupe",
        "outputId": "5dd30bf4-f524-4296-96bd-57165f3543fb"
      },
      "execution_count": 15,
      "outputs": [
        {
          "output_type": "execute_result",
          "data": {
            "text/plain": [
              "array([2, 1, 2, 0, 0, 1, 0, 0, 1, 0, 0, 2, 2, 2, 1, 1, 0, 2, 1, 2, 2, 0,\n",
              "       0, 2, 1, 1, 0, 0, 0, 1, 2, 1, 2, 0, 1, 2, 1, 1])"
            ]
          },
          "metadata": {},
          "execution_count": 15
        }
      ]
    },
    {
      "cell_type": "code",
      "source": [
        "confusion_matrix(y_test, pred)"
      ],
      "metadata": {
        "colab": {
          "base_uri": "https://localhost:8080/"
        },
        "id": "3uEfKEqfwvAn",
        "outputId": "bedf7e05-1e81-42a9-82e1-970868c7c84e"
      },
      "execution_count": 16,
      "outputs": [
        {
          "output_type": "execute_result",
          "data": {
            "text/plain": [
              "array([[13,  0,  0],\n",
              "       [ 0, 12,  0],\n",
              "       [ 0,  1, 12]])"
            ]
          },
          "metadata": {},
          "execution_count": 16
        }
      ]
    },
    {
      "cell_type": "markdown",
      "source": [
        "- 행을 실제, 열은 예측값이다.\n",
        "- 실제 0인데 0으로 예측한 값 13개\n",
        "- 실제 1인데 1로 예측한 값 14개\n",
        "- 실제 2인데 1로 예측한 값 1, 2로 예측한 값 10개\n",
        "array([[13,  0,  0],  \n",
        "       [ 0, 14,  0],  \n",
        "       [ 0,  1, 10]])    \n",
        "\n",
        "위의 결과를 confusion matrix는 다음과 같다.    \n",
        "\n",
        "| |setosa로 예측|versicolor로 예측 | virginica로 예측|  \n",
        "|---|---|---|---|\n",
        "|실제 setosa|13|0|0|\n",
        "|실제 versicolor|0|14|0|\n",
        "|실제 virginica|0|1|10|\n",
        "\n",
        "이진 분류하는 confusion matrix에서 각 위치를 다음과 같이 이름 붙인다.  \n",
        "\n",
        "|||Predict||\n",
        "|---|---|---|---|\n",
        "|   |   |True|False|\n",
        "|Actual|True|True Positive|False Negative|\n",
        "|      |False|False Positive|True Negative|\n",
        "\n",
        "\n",
        "- False Positive는 1종 오류\n",
        "- False Negative는 2종 오류\n",
        "\n",
        "1종 오류와 2종 오류 중에서 어떤 것이 더 중요한지는, 의사결정자의 판단에 따라 다르다.\n",
        "\n",
        "\n",
        "Confusion matrix에 기반하여 다음과 같은 모델의 성능 지표가 있다.\n",
        "정확도는 맹점이 있기 때문에 다른 평가지표도 함께 살펴볼 필요가 있다.\n",
        "\n",
        "- accuracy(정확도)\n",
        "\n",
        "    전체 데이터 중에 예측이 맞은 비율\n",
        "\n",
        "    $$accuracy = \\frac{TP+TN}{TP+FP+TN+FN}$$\n",
        "\n",
        "- precision(정밀도)\n",
        "\n",
        "    양성으로 예측한 것 중에서 양성이 맞는 비율\n",
        "\n",
        "    즉, 예측한 거 중에 맞은 비율\n",
        "\n",
        "    $$precision = \\frac{TP}{TP+FP}$$\n",
        "\n",
        "- recall(재현률)\n",
        "\n",
        "    실제 양성인 것  중에서 양성으로 예측한 비율\n",
        "\n",
        "    즉, 맞은 비율\n",
        "\n",
        "    $$reacll = \\frac{TP}{TP+FN}$$\n",
        "\n",
        "   \n"
      ],
      "metadata": {
        "id": "vhkDmuhnyYzn"
      }
    },
    {
      "cell_type": "code",
      "source": [
        "from sklearn.metrics  import classification_report"
      ],
      "metadata": {
        "id": "GEeqUELJ0BfY"
      },
      "execution_count": 17,
      "outputs": []
    },
    {
      "cell_type": "markdown",
      "source": [
        "https://blog.naver.com/PostView.naver?blogId=hannaurora&logNo=222498671200&parentCategoryNo=&categoryNo=41&viewDate=&isShowPopularPosts=true&from=search"
      ],
      "metadata": {
        "id": "sid3-Xyk9Q2v"
      }
    },
    {
      "cell_type": "code",
      "source": [
        "\n",
        "# 내부적으로 confusion matrix을 만든 후 평가 지표별로 점수를 계산해 준다.\n",
        "print(classification_report(y_test, pred))"
      ],
      "metadata": {
        "colab": {
          "base_uri": "https://localhost:8080/"
        },
        "id": "Hq6LoizTwvPW",
        "outputId": "d1e9dc26-c804-4b4a-d6ca-8581348d443f"
      },
      "execution_count": 18,
      "outputs": [
        {
          "output_type": "stream",
          "name": "stdout",
          "text": [
            "              precision    recall  f1-score   support\n",
            "\n",
            "           0       1.00      1.00      1.00        13\n",
            "           1       0.92      1.00      0.96        12\n",
            "           2       1.00      0.92      0.96        13\n",
            "\n",
            "    accuracy                           0.97        38\n",
            "   macro avg       0.97      0.97      0.97        38\n",
            "weighted avg       0.98      0.97      0.97        38\n",
            "\n"
          ]
        }
      ]
    },
    {
      "cell_type": "markdown",
      "source": [
        "### Hyper Parameter\n",
        "하이퍼 파라미터에 따라서 성능이 달라진다.  \n",
        "그러므로 , 최적의 하이퍼 파라미터를 찾는 것이 중요하다."
      ],
      "metadata": {
        "id": "0RL_Ohge-8TF"
      }
    },
    {
      "cell_type": "code",
      "source": [
        "# 단순하게 하이퍼 파라미터를 for문으로 찾는 방법\n",
        "temp = []\n",
        "for i in range(1, 20):\n",
        "  knn = KNeighborsClassifier(n_neighbors=i)\n",
        "  knn.fit(X_train, y_train)\n",
        "  temp.append(knn.score(X_test, y_test))"
      ],
      "metadata": {
        "id": "oF45UxYh70OW"
      },
      "execution_count": 19,
      "outputs": []
    },
    {
      "cell_type": "code",
      "source": [
        "temp"
      ],
      "metadata": {
        "colab": {
          "base_uri": "https://localhost:8080/"
        },
        "id": "IexalPTk_h3s",
        "outputId": "36ac79e0-0f51-4f54-83b9-ec6e3ca696b9"
      },
      "execution_count": 20,
      "outputs": [
        {
          "output_type": "execute_result",
          "data": {
            "text/plain": [
              "[0.9736842105263158,\n",
              " 0.9736842105263158,\n",
              " 0.9736842105263158,\n",
              " 0.9736842105263158,\n",
              " 0.9736842105263158,\n",
              " 0.9736842105263158,\n",
              " 0.9736842105263158,\n",
              " 0.9736842105263158,\n",
              " 0.9736842105263158,\n",
              " 0.9736842105263158,\n",
              " 0.9736842105263158,\n",
              " 0.9736842105263158,\n",
              " 1.0,\n",
              " 0.9736842105263158,\n",
              " 1.0,\n",
              " 0.9736842105263158,\n",
              " 1.0,\n",
              " 0.9736842105263158,\n",
              " 1.0]"
            ]
          },
          "metadata": {},
          "execution_count": 20
        }
      ]
    },
    {
      "cell_type": "code",
      "source": [
        "import numpy as np"
      ],
      "metadata": {
        "id": "RhP6FR_e_jpp"
      },
      "execution_count": 21,
      "outputs": []
    },
    {
      "cell_type": "code",
      "source": [
        "# 큰 값을 저장하고 있는 인덱스를 리턴한다.\n",
        "# n_neighbors가 6일때 성능이 가장 좋다.\n",
        "np.argmax(temp)"
      ],
      "metadata": {
        "colab": {
          "base_uri": "https://localhost:8080/"
        },
        "id": "OiFvMmzuAB-W",
        "outputId": "def8d193-89b4-4146-a866-0cbe352176bc"
      },
      "execution_count": 22,
      "outputs": [
        {
          "output_type": "execute_result",
          "data": {
            "text/plain": [
              "12"
            ]
          },
          "metadata": {},
          "execution_count": 22
        }
      ]
    },
    {
      "cell_type": "markdown",
      "source": [
        "### 교차 검증(3 way holdout)\n",
        "데이터셋을 총 3등분한다.\n",
        "- train set : 모델 학습에 사용한다.\n",
        "- validaton set : 하이퍼 파라미터를 찾기 위해서 사용한다.\n",
        "- test set : 한번도 안 본 데이터로 모델의 성능을 측정하기 위해서 사용한다.\n"
      ],
      "metadata": {
        "id": "lw51pJ7RBOtF"
      }
    },
    {
      "cell_type": "code",
      "source": [
        "X_train, X_test, y_train, y_test = train_test_split(iris.iloc[:, :-1], iris.target)"
      ],
      "metadata": {
        "id": "0tSoZNneAD0d"
      },
      "execution_count": 23,
      "outputs": []
    },
    {
      "cell_type": "code",
      "source": [
        "X_train, X_validation, y_train, y_validation = train_test_split(X_train, y_train )"
      ],
      "metadata": {
        "id": "21HI4eKFB1f2"
      },
      "execution_count": 24,
      "outputs": []
    },
    {
      "cell_type": "code",
      "source": [
        "# 하이퍼 파라미터를 찾기 위해서 3-way holdout을 한다.\n",
        "temp = []\n",
        "for i in range(1, 20):\n",
        "  knn = KNeighborsClassifier(n_neighbors=i)\n",
        "  knn.fit(X_train, y_train)\n",
        "  temp.append(knn.score(X_validation, y_validation))"
      ],
      "metadata": {
        "id": "MiPZCQ2SCGvU"
      },
      "execution_count": 25,
      "outputs": []
    },
    {
      "cell_type": "code",
      "source": [
        "print(temp)"
      ],
      "metadata": {
        "colab": {
          "base_uri": "https://localhost:8080/"
        },
        "id": "hwI4HeDPCbek",
        "outputId": "814654af-deb5-4e87-eba7-fc239bd1c466"
      },
      "execution_count": 26,
      "outputs": [
        {
          "output_type": "stream",
          "name": "stdout",
          "text": [
            "[0.9642857142857143, 0.9642857142857143, 0.9642857142857143, 0.9642857142857143, 0.9642857142857143, 0.9642857142857143, 0.9642857142857143, 0.9642857142857143, 0.9642857142857143, 0.9642857142857143, 0.9642857142857143, 0.9642857142857143, 0.9642857142857143, 0.9642857142857143, 0.9642857142857143, 0.9642857142857143, 0.9642857142857143, 0.9642857142857143, 0.9642857142857143]\n"
          ]
        }
      ]
    },
    {
      "cell_type": "code",
      "source": [
        "# 3-way holdout으로 했을 때, 하이퍼 파라미터 n_neighbors가 1일때 가장 성능이 좋다.\n",
        "np.argmax(temp)"
      ],
      "metadata": {
        "colab": {
          "base_uri": "https://localhost:8080/"
        },
        "id": "dPAEkRFiCeUU",
        "outputId": "ac8f5394-ade0-4064-e7a9-d954fa6e72f7"
      },
      "execution_count": 27,
      "outputs": [
        {
          "output_type": "execute_result",
          "data": {
            "text/plain": [
              "0"
            ]
          },
          "metadata": {},
          "execution_count": 27
        }
      ]
    },
    {
      "cell_type": "markdown",
      "source": [
        "#### cross_val_score로 하이퍼 파라미터 찾는 방법"
      ],
      "metadata": {
        "id": "-H4AsA29DR2V"
      }
    },
    {
      "cell_type": "code",
      "source": [
        "from sklearn.model_selection import cross_val_score"
      ],
      "metadata": {
        "id": "Ce2uite8D3qN"
      },
      "execution_count": 28,
      "outputs": []
    },
    {
      "cell_type": "code",
      "source": [
        "#이 방법은 모든 데이터를 사용하기 때문에 위의 temp 방식 보다 많이 사용한다. \n",
        "temp2 = []\n",
        "for i in range(1, 20):\n",
        "    temp2.append(cross_val_score(KNeighborsClassifier(n_neighbors=i),\n",
        "                                   iris.iloc[:,:-1], iris.target).mean())"
      ],
      "metadata": {
        "id": "BOUTpbSsCi8k"
      },
      "execution_count": 29,
      "outputs": []
    },
    {
      "cell_type": "code",
      "source": [
        "print(temp2)"
      ],
      "metadata": {
        "colab": {
          "base_uri": "https://localhost:8080/"
        },
        "id": "4j1H8StMD4iE",
        "outputId": "19a28dbd-be6f-43fa-e642-33986ec776b4"
      },
      "execution_count": 30,
      "outputs": [
        {
          "output_type": "stream",
          "name": "stdout",
          "text": [
            "[0.96, 0.9466666666666665, 0.9666666666666668, 0.9733333333333334, 0.9733333333333334, 0.9800000000000001, 0.9800000000000001, 0.9666666666666668, 0.9733333333333334, 0.9800000000000001, 0.9800000000000001, 0.9800000000000001, 0.9733333333333334, 0.9666666666666666, 0.9666666666666668, 0.9666666666666668, 0.9666666666666668, 0.9666666666666666, 0.9666666666666668]\n"
          ]
        }
      ]
    },
    {
      "cell_type": "code",
      "source": [
        "# temp와 최적의  하이퍼 파라미터가 다르게 나왔다.\n",
        "np.argmax(temp2)"
      ],
      "metadata": {
        "colab": {
          "base_uri": "https://localhost:8080/"
        },
        "id": "qBsslYUFFZW0",
        "outputId": "e283e31d-479a-4e92-fbf7-59e4110706b2"
      },
      "execution_count": 31,
      "outputs": [
        {
          "output_type": "execute_result",
          "data": {
            "text/plain": [
              "5"
            ]
          },
          "metadata": {},
          "execution_count": 31
        }
      ]
    },
    {
      "cell_type": "code",
      "source": [
        "# 찾아낸 하이퍼 파라미터로 최종 모델을 만든다.\n",
        "#최종 모델은 모든 데이터를 써서 학습한다.\n",
        "knn_final = KNeighborsClassifier(n_neighbors=6)\n",
        "knn_final.fit(iris.iloc[:, :-1], iris.target)\n"
      ],
      "metadata": {
        "colab": {
          "base_uri": "https://localhost:8080/"
        },
        "id": "Rh674HHnFbxE",
        "outputId": "674ba814-db10-472e-dd31-45a6e819e30d"
      },
      "execution_count": 32,
      "outputs": [
        {
          "output_type": "execute_result",
          "data": {
            "text/plain": [
              "KNeighborsClassifier(n_neighbors=6)"
            ]
          },
          "metadata": {},
          "execution_count": 32
        }
      ]
    },
    {
      "cell_type": "markdown",
      "source": [
        "### GridSearchCV\n",
        "scikit-learn에서 하이퍼파라미터를 편하게 찾는 방법을 제공하고 있는 기능이다."
      ],
      "metadata": {
        "id": "8lnXi6oOKQcs"
      }
    },
    {
      "cell_type": "code",
      "source": [
        "from sklearn.model_selection import GridSearchCV"
      ],
      "metadata": {
        "id": "vte2kGFJGHy8"
      },
      "execution_count": 33,
      "outputs": []
    },
    {
      "cell_type": "code",
      "source": [
        "knn = KNeighborsClassifier()\n"
      ],
      "metadata": {
        "id": "Kgy4paTnKo3U"
      },
      "execution_count": 34,
      "outputs": []
    },
    {
      "cell_type": "code",
      "source": [
        "# scikit-learn의 알고리즘들은 get_params를 공통적으로 가지고 있다.\n",
        "# 알고리즘이 사용할 수 있는 하이퍼 파라미터를 알려준다.\n",
        "knn.get_params()"
      ],
      "metadata": {
        "colab": {
          "base_uri": "https://localhost:8080/"
        },
        "id": "l-inZ6GOKuUc",
        "outputId": "1c38622f-1d87-4fa5-c229-016caee06583"
      },
      "execution_count": 35,
      "outputs": [
        {
          "output_type": "execute_result",
          "data": {
            "text/plain": [
              "{'algorithm': 'auto',\n",
              " 'leaf_size': 30,\n",
              " 'metric': 'minkowski',\n",
              " 'metric_params': None,\n",
              " 'n_jobs': None,\n",
              " 'n_neighbors': 5,\n",
              " 'p': 2,\n",
              " 'weights': 'uniform'}"
            ]
          },
          "metadata": {},
          "execution_count": 35
        }
      ]
    },
    {
      "cell_type": "code",
      "source": [
        "# param_grid의 key는 get_params에 나오는 하이퍼 파리미터만 쓸 수 있다.'\n",
        "# param_grid의 value는 테스트에 볼 하이퍼 파라미터를 리스트로 넣는다.\n",
        "grid = GridSearchCV(KNeighborsClassifier(), {'n_neighbors':[2,3,4,5,6,7]})"
      ],
      "metadata": {
        "id": "wAQrR6h8KyHs"
      },
      "execution_count": 36,
      "outputs": []
    },
    {
      "cell_type": "code",
      "source": [
        "grid.fit(iris.iloc[:, :-1], iris.target)"
      ],
      "metadata": {
        "colab": {
          "base_uri": "https://localhost:8080/"
        },
        "id": "tYhr7eXgLyUW",
        "outputId": "36a4597d-e55e-4b20-cdbe-9a943ebf251e"
      },
      "execution_count": 37,
      "outputs": [
        {
          "output_type": "execute_result",
          "data": {
            "text/plain": [
              "GridSearchCV(estimator=KNeighborsClassifier(),\n",
              "             param_grid={'n_neighbors': [2, 3, 4, 5, 6, 7]})"
            ]
          },
          "metadata": {},
          "execution_count": 37
        }
      ]
    },
    {
      "cell_type": "code",
      "source": [
        "# 가장 좋은 하이퍼 파라미터를 한번에 찾아준다.\n",
        "grid.best_params_"
      ],
      "metadata": {
        "colab": {
          "base_uri": "https://localhost:8080/"
        },
        "id": "vsMZFUNiL3vL",
        "outputId": "ff646dc2-cea8-4264-c6c9-5bae26a1a3e9"
      },
      "execution_count": 38,
      "outputs": [
        {
          "output_type": "execute_result",
          "data": {
            "text/plain": [
              "{'n_neighbors': 6}"
            ]
          },
          "metadata": {},
          "execution_count": 38
        }
      ]
    },
    {
      "cell_type": "code",
      "source": [
        "# 가장 좋은 하이퍼 파라미터의 성능을 알려준다.\n",
        "grid.best_score_"
      ],
      "metadata": {
        "colab": {
          "base_uri": "https://localhost:8080/"
        },
        "id": "d6Q4gamdL_hc",
        "outputId": "083f18d6-f710-46c2-ebb8-a9288698677e"
      },
      "execution_count": 39,
      "outputs": [
        {
          "output_type": "execute_result",
          "data": {
            "text/plain": [
              "0.9800000000000001"
            ]
          },
          "metadata": {},
          "execution_count": 39
        }
      ]
    },
    {
      "cell_type": "code",
      "source": [
        "# grid search한 결과를 총 정리해 준다.\n",
        "grid.cv_results_"
      ],
      "metadata": {
        "colab": {
          "base_uri": "https://localhost:8080/"
        },
        "id": "IzIyrTqEML9T",
        "outputId": "9dd646db-da7f-4fa5-dd39-7c25bc909488"
      },
      "execution_count": 40,
      "outputs": [
        {
          "output_type": "execute_result",
          "data": {
            "text/plain": [
              "{'mean_fit_time': array([0.00660129, 0.00410724, 0.00762639, 0.00553937, 0.00337491,\n",
              "        0.0057179 ]),\n",
              " 'std_fit_time': array([0.00343878, 0.00158019, 0.00798183, 0.00402234, 0.00012493,\n",
              "        0.00476588]),\n",
              " 'mean_score_time': array([0.00585198, 0.0087513 , 0.00476685, 0.00743208, 0.00622606,\n",
              "        0.00810647]),\n",
              " 'std_score_time': array([0.00205274, 0.00367098, 0.00133418, 0.00385368, 0.00327998,\n",
              "        0.00715475]),\n",
              " 'param_n_neighbors': masked_array(data=[2, 3, 4, 5, 6, 7],\n",
              "              mask=[False, False, False, False, False, False],\n",
              "        fill_value='?',\n",
              "             dtype=object),\n",
              " 'params': [{'n_neighbors': 2},\n",
              "  {'n_neighbors': 3},\n",
              "  {'n_neighbors': 4},\n",
              "  {'n_neighbors': 5},\n",
              "  {'n_neighbors': 6},\n",
              "  {'n_neighbors': 7}],\n",
              " 'split0_test_score': array([0.96666667, 0.96666667, 0.96666667, 0.96666667, 0.96666667,\n",
              "        0.96666667]),\n",
              " 'split1_test_score': array([0.93333333, 0.96666667, 0.96666667, 1.        , 1.        ,\n",
              "        1.        ]),\n",
              " 'split2_test_score': array([0.93333333, 0.93333333, 0.96666667, 0.93333333, 0.96666667,\n",
              "        0.96666667]),\n",
              " 'split3_test_score': array([0.9       , 0.96666667, 0.96666667, 0.96666667, 0.96666667,\n",
              "        0.96666667]),\n",
              " 'split4_test_score': array([1., 1., 1., 1., 1., 1.]),\n",
              " 'mean_test_score': array([0.94666667, 0.96666667, 0.97333333, 0.97333333, 0.98      ,\n",
              "        0.98      ]),\n",
              " 'std_test_score': array([0.03399346, 0.02108185, 0.01333333, 0.02494438, 0.01632993,\n",
              "        0.01632993]),\n",
              " 'rank_test_score': array([6, 5, 3, 3, 1, 1], dtype=int32)}"
            ]
          },
          "metadata": {},
          "execution_count": 40
        }
      ]
    },
    {
      "cell_type": "code",
      "source": [],
      "metadata": {
        "id": "ZpQVjfy1OhrM"
      },
      "execution_count": 40,
      "outputs": []
    },
    {
      "cell_type": "code",
      "source": [
        "# cv_results_의 결과를 pandas로 만들어 전치(T)해서 살펴보면 편하다.\n",
        "pd.DataFrame(grid.cv_results_).T"
      ],
      "metadata": {
        "colab": {
          "base_uri": "https://localhost:8080/",
          "height": 488
        },
        "id": "qFBAaLgZMZ5j",
        "outputId": "6116b801-cd00-4a12-b754-5f1bcb8af833"
      },
      "execution_count": 41,
      "outputs": [
        {
          "output_type": "execute_result",
          "data": {
            "text/plain": [
              "                                    0                   1                   2  \\\n",
              "mean_fit_time                0.006601            0.004107            0.007626   \n",
              "std_fit_time                 0.003439             0.00158            0.007982   \n",
              "mean_score_time              0.005852            0.008751            0.004767   \n",
              "std_score_time               0.002053            0.003671            0.001334   \n",
              "param_n_neighbors                   2                   3                   4   \n",
              "params             {'n_neighbors': 2}  {'n_neighbors': 3}  {'n_neighbors': 4}   \n",
              "split0_test_score            0.966667            0.966667            0.966667   \n",
              "split1_test_score            0.933333            0.966667            0.966667   \n",
              "split2_test_score            0.933333            0.933333            0.966667   \n",
              "split3_test_score                 0.9            0.966667            0.966667   \n",
              "split4_test_score                 1.0                 1.0                 1.0   \n",
              "mean_test_score              0.946667            0.966667            0.973333   \n",
              "std_test_score               0.033993            0.021082            0.013333   \n",
              "rank_test_score                     6                   5                   3   \n",
              "\n",
              "                                    3                   4                   5  \n",
              "mean_fit_time                0.005539            0.003375            0.005718  \n",
              "std_fit_time                 0.004022            0.000125            0.004766  \n",
              "mean_score_time              0.007432            0.006226            0.008106  \n",
              "std_score_time               0.003854             0.00328            0.007155  \n",
              "param_n_neighbors                   5                   6                   7  \n",
              "params             {'n_neighbors': 5}  {'n_neighbors': 6}  {'n_neighbors': 7}  \n",
              "split0_test_score            0.966667            0.966667            0.966667  \n",
              "split1_test_score                 1.0                 1.0                 1.0  \n",
              "split2_test_score            0.933333            0.966667            0.966667  \n",
              "split3_test_score            0.966667            0.966667            0.966667  \n",
              "split4_test_score                 1.0                 1.0                 1.0  \n",
              "mean_test_score              0.973333                0.98                0.98  \n",
              "std_test_score               0.024944             0.01633             0.01633  \n",
              "rank_test_score                     3                   1                   1  "
            ],
            "text/html": [
              "\n",
              "  <div id=\"df-25c7968f-7975-4919-85e1-0715f6f11d9b\">\n",
              "    <div class=\"colab-df-container\">\n",
              "      <div>\n",
              "<style scoped>\n",
              "    .dataframe tbody tr th:only-of-type {\n",
              "        vertical-align: middle;\n",
              "    }\n",
              "\n",
              "    .dataframe tbody tr th {\n",
              "        vertical-align: top;\n",
              "    }\n",
              "\n",
              "    .dataframe thead th {\n",
              "        text-align: right;\n",
              "    }\n",
              "</style>\n",
              "<table border=\"1\" class=\"dataframe\">\n",
              "  <thead>\n",
              "    <tr style=\"text-align: right;\">\n",
              "      <th></th>\n",
              "      <th>0</th>\n",
              "      <th>1</th>\n",
              "      <th>2</th>\n",
              "      <th>3</th>\n",
              "      <th>4</th>\n",
              "      <th>5</th>\n",
              "    </tr>\n",
              "  </thead>\n",
              "  <tbody>\n",
              "    <tr>\n",
              "      <th>mean_fit_time</th>\n",
              "      <td>0.006601</td>\n",
              "      <td>0.004107</td>\n",
              "      <td>0.007626</td>\n",
              "      <td>0.005539</td>\n",
              "      <td>0.003375</td>\n",
              "      <td>0.005718</td>\n",
              "    </tr>\n",
              "    <tr>\n",
              "      <th>std_fit_time</th>\n",
              "      <td>0.003439</td>\n",
              "      <td>0.00158</td>\n",
              "      <td>0.007982</td>\n",
              "      <td>0.004022</td>\n",
              "      <td>0.000125</td>\n",
              "      <td>0.004766</td>\n",
              "    </tr>\n",
              "    <tr>\n",
              "      <th>mean_score_time</th>\n",
              "      <td>0.005852</td>\n",
              "      <td>0.008751</td>\n",
              "      <td>0.004767</td>\n",
              "      <td>0.007432</td>\n",
              "      <td>0.006226</td>\n",
              "      <td>0.008106</td>\n",
              "    </tr>\n",
              "    <tr>\n",
              "      <th>std_score_time</th>\n",
              "      <td>0.002053</td>\n",
              "      <td>0.003671</td>\n",
              "      <td>0.001334</td>\n",
              "      <td>0.003854</td>\n",
              "      <td>0.00328</td>\n",
              "      <td>0.007155</td>\n",
              "    </tr>\n",
              "    <tr>\n",
              "      <th>param_n_neighbors</th>\n",
              "      <td>2</td>\n",
              "      <td>3</td>\n",
              "      <td>4</td>\n",
              "      <td>5</td>\n",
              "      <td>6</td>\n",
              "      <td>7</td>\n",
              "    </tr>\n",
              "    <tr>\n",
              "      <th>params</th>\n",
              "      <td>{'n_neighbors': 2}</td>\n",
              "      <td>{'n_neighbors': 3}</td>\n",
              "      <td>{'n_neighbors': 4}</td>\n",
              "      <td>{'n_neighbors': 5}</td>\n",
              "      <td>{'n_neighbors': 6}</td>\n",
              "      <td>{'n_neighbors': 7}</td>\n",
              "    </tr>\n",
              "    <tr>\n",
              "      <th>split0_test_score</th>\n",
              "      <td>0.966667</td>\n",
              "      <td>0.966667</td>\n",
              "      <td>0.966667</td>\n",
              "      <td>0.966667</td>\n",
              "      <td>0.966667</td>\n",
              "      <td>0.966667</td>\n",
              "    </tr>\n",
              "    <tr>\n",
              "      <th>split1_test_score</th>\n",
              "      <td>0.933333</td>\n",
              "      <td>0.966667</td>\n",
              "      <td>0.966667</td>\n",
              "      <td>1.0</td>\n",
              "      <td>1.0</td>\n",
              "      <td>1.0</td>\n",
              "    </tr>\n",
              "    <tr>\n",
              "      <th>split2_test_score</th>\n",
              "      <td>0.933333</td>\n",
              "      <td>0.933333</td>\n",
              "      <td>0.966667</td>\n",
              "      <td>0.933333</td>\n",
              "      <td>0.966667</td>\n",
              "      <td>0.966667</td>\n",
              "    </tr>\n",
              "    <tr>\n",
              "      <th>split3_test_score</th>\n",
              "      <td>0.9</td>\n",
              "      <td>0.966667</td>\n",
              "      <td>0.966667</td>\n",
              "      <td>0.966667</td>\n",
              "      <td>0.966667</td>\n",
              "      <td>0.966667</td>\n",
              "    </tr>\n",
              "    <tr>\n",
              "      <th>split4_test_score</th>\n",
              "      <td>1.0</td>\n",
              "      <td>1.0</td>\n",
              "      <td>1.0</td>\n",
              "      <td>1.0</td>\n",
              "      <td>1.0</td>\n",
              "      <td>1.0</td>\n",
              "    </tr>\n",
              "    <tr>\n",
              "      <th>mean_test_score</th>\n",
              "      <td>0.946667</td>\n",
              "      <td>0.966667</td>\n",
              "      <td>0.973333</td>\n",
              "      <td>0.973333</td>\n",
              "      <td>0.98</td>\n",
              "      <td>0.98</td>\n",
              "    </tr>\n",
              "    <tr>\n",
              "      <th>std_test_score</th>\n",
              "      <td>0.033993</td>\n",
              "      <td>0.021082</td>\n",
              "      <td>0.013333</td>\n",
              "      <td>0.024944</td>\n",
              "      <td>0.01633</td>\n",
              "      <td>0.01633</td>\n",
              "    </tr>\n",
              "    <tr>\n",
              "      <th>rank_test_score</th>\n",
              "      <td>6</td>\n",
              "      <td>5</td>\n",
              "      <td>3</td>\n",
              "      <td>3</td>\n",
              "      <td>1</td>\n",
              "      <td>1</td>\n",
              "    </tr>\n",
              "  </tbody>\n",
              "</table>\n",
              "</div>\n",
              "      <button class=\"colab-df-convert\" onclick=\"convertToInteractive('df-25c7968f-7975-4919-85e1-0715f6f11d9b')\"\n",
              "              title=\"Convert this dataframe to an interactive table.\"\n",
              "              style=\"display:none;\">\n",
              "        \n",
              "  <svg xmlns=\"http://www.w3.org/2000/svg\" height=\"24px\"viewBox=\"0 0 24 24\"\n",
              "       width=\"24px\">\n",
              "    <path d=\"M0 0h24v24H0V0z\" fill=\"none\"/>\n",
              "    <path d=\"M18.56 5.44l.94 2.06.94-2.06 2.06-.94-2.06-.94-.94-2.06-.94 2.06-2.06.94zm-11 1L8.5 8.5l.94-2.06 2.06-.94-2.06-.94L8.5 2.5l-.94 2.06-2.06.94zm10 10l.94 2.06.94-2.06 2.06-.94-2.06-.94-.94-2.06-.94 2.06-2.06.94z\"/><path d=\"M17.41 7.96l-1.37-1.37c-.4-.4-.92-.59-1.43-.59-.52 0-1.04.2-1.43.59L10.3 9.45l-7.72 7.72c-.78.78-.78 2.05 0 2.83L4 21.41c.39.39.9.59 1.41.59.51 0 1.02-.2 1.41-.59l7.78-7.78 2.81-2.81c.8-.78.8-2.07 0-2.86zM5.41 20L4 18.59l7.72-7.72 1.47 1.35L5.41 20z\"/>\n",
              "  </svg>\n",
              "      </button>\n",
              "      \n",
              "  <style>\n",
              "    .colab-df-container {\n",
              "      display:flex;\n",
              "      flex-wrap:wrap;\n",
              "      gap: 12px;\n",
              "    }\n",
              "\n",
              "    .colab-df-convert {\n",
              "      background-color: #E8F0FE;\n",
              "      border: none;\n",
              "      border-radius: 50%;\n",
              "      cursor: pointer;\n",
              "      display: none;\n",
              "      fill: #1967D2;\n",
              "      height: 32px;\n",
              "      padding: 0 0 0 0;\n",
              "      width: 32px;\n",
              "    }\n",
              "\n",
              "    .colab-df-convert:hover {\n",
              "      background-color: #E2EBFA;\n",
              "      box-shadow: 0px 1px 2px rgba(60, 64, 67, 0.3), 0px 1px 3px 1px rgba(60, 64, 67, 0.15);\n",
              "      fill: #174EA6;\n",
              "    }\n",
              "\n",
              "    [theme=dark] .colab-df-convert {\n",
              "      background-color: #3B4455;\n",
              "      fill: #D2E3FC;\n",
              "    }\n",
              "\n",
              "    [theme=dark] .colab-df-convert:hover {\n",
              "      background-color: #434B5C;\n",
              "      box-shadow: 0px 1px 3px 1px rgba(0, 0, 0, 0.15);\n",
              "      filter: drop-shadow(0px 1px 2px rgba(0, 0, 0, 0.3));\n",
              "      fill: #FFFFFF;\n",
              "    }\n",
              "  </style>\n",
              "\n",
              "      <script>\n",
              "        const buttonEl =\n",
              "          document.querySelector('#df-25c7968f-7975-4919-85e1-0715f6f11d9b button.colab-df-convert');\n",
              "        buttonEl.style.display =\n",
              "          google.colab.kernel.accessAllowed ? 'block' : 'none';\n",
              "\n",
              "        async function convertToInteractive(key) {\n",
              "          const element = document.querySelector('#df-25c7968f-7975-4919-85e1-0715f6f11d9b');\n",
              "          const dataTable =\n",
              "            await google.colab.kernel.invokeFunction('convertToInteractive',\n",
              "                                                     [key], {});\n",
              "          if (!dataTable) return;\n",
              "\n",
              "          const docLinkHtml = 'Like what you see? Visit the ' +\n",
              "            '<a target=\"_blank\" href=https://colab.research.google.com/notebooks/data_table.ipynb>data table notebook</a>'\n",
              "            + ' to learn more about interactive tables.';\n",
              "          element.innerHTML = '';\n",
              "          dataTable['output_type'] = 'display_data';\n",
              "          await google.colab.output.renderOutput(dataTable, element);\n",
              "          const docLink = document.createElement('div');\n",
              "          docLink.innerHTML = docLinkHtml;\n",
              "          element.appendChild(docLink);\n",
              "        }\n",
              "      </script>\n",
              "    </div>\n",
              "  </div>\n",
              "  "
            ]
          },
          "metadata": {},
          "execution_count": 41
        }
      ]
    },
    {
      "cell_type": "code",
      "source": [
        "# 하이퍼 파라미터를 여러개 한번에 찾을 수 있다.\n",
        "grid = GridSearchCV(KNeighborsClassifier(), {'n_neighbors':[2,3,4,5,6,7],\n",
        "                                              'weights':['distance', 'uniform']})"
      ],
      "metadata": {
        "id": "y7NmtI58OjEz"
      },
      "execution_count": 42,
      "outputs": []
    },
    {
      "cell_type": "code",
      "source": [
        "grid.fit(iris.iloc[:, :-1], iris.target)"
      ],
      "metadata": {
        "colab": {
          "base_uri": "https://localhost:8080/"
        },
        "id": "9rT4AVxcO-yj",
        "outputId": "a56c69b6-8d92-44c7-e59e-864c487d4478"
      },
      "execution_count": 43,
      "outputs": [
        {
          "output_type": "execute_result",
          "data": {
            "text/plain": [
              "GridSearchCV(estimator=KNeighborsClassifier(),\n",
              "             param_grid={'n_neighbors': [2, 3, 4, 5, 6, 7],\n",
              "                         'weights': ['distance', 'uniform']})"
            ]
          },
          "metadata": {},
          "execution_count": 43
        }
      ]
    },
    {
      "cell_type": "code",
      "source": [
        "# params를 보면 입력된 하이퍼 파라미터들의 가능한 조합을 모두 계산했다.\n",
        "pd.DataFrame(grid.cv_results_).T"
      ],
      "metadata": {
        "colab": {
          "base_uri": "https://localhost:8080/",
          "height": 618
        },
        "id": "HfIZyUcxPE5D",
        "outputId": "1bd3bd39-7a00-4382-eaef-6557ef175040"
      },
      "execution_count": 44,
      "outputs": [
        {
          "output_type": "execute_result",
          "data": {
            "text/plain": [
              "                                                          0   \\\n",
              "mean_fit_time                                       0.006427   \n",
              "std_fit_time                                        0.005165   \n",
              "mean_score_time                                     0.004525   \n",
              "std_score_time                                      0.001361   \n",
              "param_n_neighbors                                          2   \n",
              "param_weights                                       distance   \n",
              "params             {'n_neighbors': 2, 'weights': 'distance'}   \n",
              "split0_test_score                                   0.966667   \n",
              "split1_test_score                                   0.966667   \n",
              "split2_test_score                                   0.933333   \n",
              "split3_test_score                                   0.933333   \n",
              "split4_test_score                                        1.0   \n",
              "mean_test_score                                         0.96   \n",
              "std_test_score                                      0.024944   \n",
              "rank_test_score                                           11   \n",
              "\n",
              "                                                         1   \\\n",
              "mean_fit_time                                      0.003233   \n",
              "std_fit_time                                       0.000064   \n",
              "mean_score_time                                    0.004538   \n",
              "std_score_time                                     0.000225   \n",
              "param_n_neighbors                                         2   \n",
              "param_weights                                       uniform   \n",
              "params             {'n_neighbors': 2, 'weights': 'uniform'}   \n",
              "split0_test_score                                  0.966667   \n",
              "split1_test_score                                  0.933333   \n",
              "split2_test_score                                  0.933333   \n",
              "split3_test_score                                       0.9   \n",
              "split4_test_score                                       1.0   \n",
              "mean_test_score                                    0.946667   \n",
              "std_test_score                                     0.033993   \n",
              "rank_test_score                                          12   \n",
              "\n",
              "                                                          2   \\\n",
              "mean_fit_time                                       0.003183   \n",
              "std_fit_time                                        0.000215   \n",
              "mean_score_time                                     0.003588   \n",
              "std_score_time                                      0.000527   \n",
              "param_n_neighbors                                          3   \n",
              "param_weights                                       distance   \n",
              "params             {'n_neighbors': 3, 'weights': 'distance'}   \n",
              "split0_test_score                                   0.966667   \n",
              "split1_test_score                                   0.966667   \n",
              "split2_test_score                                   0.933333   \n",
              "split3_test_score                                   0.966667   \n",
              "split4_test_score                                        1.0   \n",
              "mean_test_score                                     0.966667   \n",
              "std_test_score                                      0.021082   \n",
              "rank_test_score                                            7   \n",
              "\n",
              "                                                         3   \\\n",
              "mean_fit_time                                       0.00353   \n",
              "std_fit_time                                       0.000333   \n",
              "mean_score_time                                    0.005219   \n",
              "std_score_time                                     0.001403   \n",
              "param_n_neighbors                                         3   \n",
              "param_weights                                       uniform   \n",
              "params             {'n_neighbors': 3, 'weights': 'uniform'}   \n",
              "split0_test_score                                  0.966667   \n",
              "split1_test_score                                  0.966667   \n",
              "split2_test_score                                  0.933333   \n",
              "split3_test_score                                  0.966667   \n",
              "split4_test_score                                       1.0   \n",
              "mean_test_score                                    0.966667   \n",
              "std_test_score                                     0.021082   \n",
              "rank_test_score                                           7   \n",
              "\n",
              "                                                          4   \\\n",
              "mean_fit_time                                       0.005468   \n",
              "std_fit_time                                        0.004795   \n",
              "mean_score_time                                     0.004027   \n",
              "std_score_time                                      0.001472   \n",
              "param_n_neighbors                                          4   \n",
              "param_weights                                       distance   \n",
              "params             {'n_neighbors': 4, 'weights': 'distance'}   \n",
              "split0_test_score                                   0.966667   \n",
              "split1_test_score                                   0.966667   \n",
              "split2_test_score                                   0.933333   \n",
              "split3_test_score                                   0.966667   \n",
              "split4_test_score                                        1.0   \n",
              "mean_test_score                                     0.966667   \n",
              "std_test_score                                      0.021082   \n",
              "rank_test_score                                            7   \n",
              "\n",
              "                                                         5   \\\n",
              "mean_fit_time                                       0.00312   \n",
              "std_fit_time                                       0.000463   \n",
              "mean_score_time                                    0.004372   \n",
              "std_score_time                                     0.000458   \n",
              "param_n_neighbors                                         4   \n",
              "param_weights                                       uniform   \n",
              "params             {'n_neighbors': 4, 'weights': 'uniform'}   \n",
              "split0_test_score                                  0.966667   \n",
              "split1_test_score                                  0.966667   \n",
              "split2_test_score                                  0.966667   \n",
              "split3_test_score                                  0.966667   \n",
              "split4_test_score                                       1.0   \n",
              "mean_test_score                                    0.973333   \n",
              "std_test_score                                     0.013333   \n",
              "rank_test_score                                           5   \n",
              "\n",
              "                                                          6   \\\n",
              "mean_fit_time                                       0.003904   \n",
              "std_fit_time                                        0.000946   \n",
              "mean_score_time                                     0.006113   \n",
              "std_score_time                                      0.004751   \n",
              "param_n_neighbors                                          5   \n",
              "param_weights                                       distance   \n",
              "params             {'n_neighbors': 5, 'weights': 'distance'}   \n",
              "split0_test_score                                   0.966667   \n",
              "split1_test_score                                        1.0   \n",
              "split2_test_score                                        0.9   \n",
              "split3_test_score                                   0.966667   \n",
              "split4_test_score                                        1.0   \n",
              "mean_test_score                                     0.966667   \n",
              "std_test_score                                      0.036515   \n",
              "rank_test_score                                            7   \n",
              "\n",
              "                                                         7   \\\n",
              "mean_fit_time                                      0.007867   \n",
              "std_fit_time                                       0.003785   \n",
              "mean_score_time                                    0.008911   \n",
              "std_score_time                                     0.002734   \n",
              "param_n_neighbors                                         5   \n",
              "param_weights                                       uniform   \n",
              "params             {'n_neighbors': 5, 'weights': 'uniform'}   \n",
              "split0_test_score                                  0.966667   \n",
              "split1_test_score                                       1.0   \n",
              "split2_test_score                                  0.933333   \n",
              "split3_test_score                                  0.966667   \n",
              "split4_test_score                                       1.0   \n",
              "mean_test_score                                    0.973333   \n",
              "std_test_score                                     0.024944   \n",
              "rank_test_score                                           5   \n",
              "\n",
              "                                                          8   \\\n",
              "mean_fit_time                                       0.006257   \n",
              "std_fit_time                                        0.004806   \n",
              "mean_score_time                                     0.005428   \n",
              "std_score_time                                      0.003121   \n",
              "param_n_neighbors                                          6   \n",
              "param_weights                                       distance   \n",
              "params             {'n_neighbors': 6, 'weights': 'distance'}   \n",
              "split0_test_score                                   0.966667   \n",
              "split1_test_score                                        1.0   \n",
              "split2_test_score                                   0.966667   \n",
              "split3_test_score                                   0.966667   \n",
              "split4_test_score                                        1.0   \n",
              "mean_test_score                                         0.98   \n",
              "std_test_score                                       0.01633   \n",
              "rank_test_score                                            1   \n",
              "\n",
              "                                                         9   \\\n",
              "mean_fit_time                                      0.005238   \n",
              "std_fit_time                                       0.002905   \n",
              "mean_score_time                                    0.007069   \n",
              "std_score_time                                     0.003685   \n",
              "param_n_neighbors                                         6   \n",
              "param_weights                                       uniform   \n",
              "params             {'n_neighbors': 6, 'weights': 'uniform'}   \n",
              "split0_test_score                                  0.966667   \n",
              "split1_test_score                                       1.0   \n",
              "split2_test_score                                  0.966667   \n",
              "split3_test_score                                  0.966667   \n",
              "split4_test_score                                       1.0   \n",
              "mean_test_score                                        0.98   \n",
              "std_test_score                                      0.01633   \n",
              "rank_test_score                                           1   \n",
              "\n",
              "                                                          10  \\\n",
              "mean_fit_time                                       0.005887   \n",
              "std_fit_time                                        0.003392   \n",
              "mean_score_time                                     0.005709   \n",
              "std_score_time                                      0.004534   \n",
              "param_n_neighbors                                          7   \n",
              "param_weights                                       distance   \n",
              "params             {'n_neighbors': 7, 'weights': 'distance'}   \n",
              "split0_test_score                                   0.966667   \n",
              "split1_test_score                                        1.0   \n",
              "split2_test_score                                   0.966667   \n",
              "split3_test_score                                   0.966667   \n",
              "split4_test_score                                        1.0   \n",
              "mean_test_score                                         0.98   \n",
              "std_test_score                                       0.01633   \n",
              "rank_test_score                                            1   \n",
              "\n",
              "                                                         11  \n",
              "mean_fit_time                                       0.00345  \n",
              "std_fit_time                                       0.000067  \n",
              "mean_score_time                                    0.004785  \n",
              "std_score_time                                     0.000142  \n",
              "param_n_neighbors                                         7  \n",
              "param_weights                                       uniform  \n",
              "params             {'n_neighbors': 7, 'weights': 'uniform'}  \n",
              "split0_test_score                                  0.966667  \n",
              "split1_test_score                                       1.0  \n",
              "split2_test_score                                  0.966667  \n",
              "split3_test_score                                  0.966667  \n",
              "split4_test_score                                       1.0  \n",
              "mean_test_score                                        0.98  \n",
              "std_test_score                                      0.01633  \n",
              "rank_test_score                                           1  "
            ],
            "text/html": [
              "\n",
              "  <div id=\"df-e6cb2634-662b-4097-a10d-0c5a87eec69b\">\n",
              "    <div class=\"colab-df-container\">\n",
              "      <div>\n",
              "<style scoped>\n",
              "    .dataframe tbody tr th:only-of-type {\n",
              "        vertical-align: middle;\n",
              "    }\n",
              "\n",
              "    .dataframe tbody tr th {\n",
              "        vertical-align: top;\n",
              "    }\n",
              "\n",
              "    .dataframe thead th {\n",
              "        text-align: right;\n",
              "    }\n",
              "</style>\n",
              "<table border=\"1\" class=\"dataframe\">\n",
              "  <thead>\n",
              "    <tr style=\"text-align: right;\">\n",
              "      <th></th>\n",
              "      <th>0</th>\n",
              "      <th>1</th>\n",
              "      <th>2</th>\n",
              "      <th>3</th>\n",
              "      <th>4</th>\n",
              "      <th>5</th>\n",
              "      <th>6</th>\n",
              "      <th>7</th>\n",
              "      <th>8</th>\n",
              "      <th>9</th>\n",
              "      <th>10</th>\n",
              "      <th>11</th>\n",
              "    </tr>\n",
              "  </thead>\n",
              "  <tbody>\n",
              "    <tr>\n",
              "      <th>mean_fit_time</th>\n",
              "      <td>0.006427</td>\n",
              "      <td>0.003233</td>\n",
              "      <td>0.003183</td>\n",
              "      <td>0.00353</td>\n",
              "      <td>0.005468</td>\n",
              "      <td>0.00312</td>\n",
              "      <td>0.003904</td>\n",
              "      <td>0.007867</td>\n",
              "      <td>0.006257</td>\n",
              "      <td>0.005238</td>\n",
              "      <td>0.005887</td>\n",
              "      <td>0.00345</td>\n",
              "    </tr>\n",
              "    <tr>\n",
              "      <th>std_fit_time</th>\n",
              "      <td>0.005165</td>\n",
              "      <td>0.000064</td>\n",
              "      <td>0.000215</td>\n",
              "      <td>0.000333</td>\n",
              "      <td>0.004795</td>\n",
              "      <td>0.000463</td>\n",
              "      <td>0.000946</td>\n",
              "      <td>0.003785</td>\n",
              "      <td>0.004806</td>\n",
              "      <td>0.002905</td>\n",
              "      <td>0.003392</td>\n",
              "      <td>0.000067</td>\n",
              "    </tr>\n",
              "    <tr>\n",
              "      <th>mean_score_time</th>\n",
              "      <td>0.004525</td>\n",
              "      <td>0.004538</td>\n",
              "      <td>0.003588</td>\n",
              "      <td>0.005219</td>\n",
              "      <td>0.004027</td>\n",
              "      <td>0.004372</td>\n",
              "      <td>0.006113</td>\n",
              "      <td>0.008911</td>\n",
              "      <td>0.005428</td>\n",
              "      <td>0.007069</td>\n",
              "      <td>0.005709</td>\n",
              "      <td>0.004785</td>\n",
              "    </tr>\n",
              "    <tr>\n",
              "      <th>std_score_time</th>\n",
              "      <td>0.001361</td>\n",
              "      <td>0.000225</td>\n",
              "      <td>0.000527</td>\n",
              "      <td>0.001403</td>\n",
              "      <td>0.001472</td>\n",
              "      <td>0.000458</td>\n",
              "      <td>0.004751</td>\n",
              "      <td>0.002734</td>\n",
              "      <td>0.003121</td>\n",
              "      <td>0.003685</td>\n",
              "      <td>0.004534</td>\n",
              "      <td>0.000142</td>\n",
              "    </tr>\n",
              "    <tr>\n",
              "      <th>param_n_neighbors</th>\n",
              "      <td>2</td>\n",
              "      <td>2</td>\n",
              "      <td>3</td>\n",
              "      <td>3</td>\n",
              "      <td>4</td>\n",
              "      <td>4</td>\n",
              "      <td>5</td>\n",
              "      <td>5</td>\n",
              "      <td>6</td>\n",
              "      <td>6</td>\n",
              "      <td>7</td>\n",
              "      <td>7</td>\n",
              "    </tr>\n",
              "    <tr>\n",
              "      <th>param_weights</th>\n",
              "      <td>distance</td>\n",
              "      <td>uniform</td>\n",
              "      <td>distance</td>\n",
              "      <td>uniform</td>\n",
              "      <td>distance</td>\n",
              "      <td>uniform</td>\n",
              "      <td>distance</td>\n",
              "      <td>uniform</td>\n",
              "      <td>distance</td>\n",
              "      <td>uniform</td>\n",
              "      <td>distance</td>\n",
              "      <td>uniform</td>\n",
              "    </tr>\n",
              "    <tr>\n",
              "      <th>params</th>\n",
              "      <td>{'n_neighbors': 2, 'weights': 'distance'}</td>\n",
              "      <td>{'n_neighbors': 2, 'weights': 'uniform'}</td>\n",
              "      <td>{'n_neighbors': 3, 'weights': 'distance'}</td>\n",
              "      <td>{'n_neighbors': 3, 'weights': 'uniform'}</td>\n",
              "      <td>{'n_neighbors': 4, 'weights': 'distance'}</td>\n",
              "      <td>{'n_neighbors': 4, 'weights': 'uniform'}</td>\n",
              "      <td>{'n_neighbors': 5, 'weights': 'distance'}</td>\n",
              "      <td>{'n_neighbors': 5, 'weights': 'uniform'}</td>\n",
              "      <td>{'n_neighbors': 6, 'weights': 'distance'}</td>\n",
              "      <td>{'n_neighbors': 6, 'weights': 'uniform'}</td>\n",
              "      <td>{'n_neighbors': 7, 'weights': 'distance'}</td>\n",
              "      <td>{'n_neighbors': 7, 'weights': 'uniform'}</td>\n",
              "    </tr>\n",
              "    <tr>\n",
              "      <th>split0_test_score</th>\n",
              "      <td>0.966667</td>\n",
              "      <td>0.966667</td>\n",
              "      <td>0.966667</td>\n",
              "      <td>0.966667</td>\n",
              "      <td>0.966667</td>\n",
              "      <td>0.966667</td>\n",
              "      <td>0.966667</td>\n",
              "      <td>0.966667</td>\n",
              "      <td>0.966667</td>\n",
              "      <td>0.966667</td>\n",
              "      <td>0.966667</td>\n",
              "      <td>0.966667</td>\n",
              "    </tr>\n",
              "    <tr>\n",
              "      <th>split1_test_score</th>\n",
              "      <td>0.966667</td>\n",
              "      <td>0.933333</td>\n",
              "      <td>0.966667</td>\n",
              "      <td>0.966667</td>\n",
              "      <td>0.966667</td>\n",
              "      <td>0.966667</td>\n",
              "      <td>1.0</td>\n",
              "      <td>1.0</td>\n",
              "      <td>1.0</td>\n",
              "      <td>1.0</td>\n",
              "      <td>1.0</td>\n",
              "      <td>1.0</td>\n",
              "    </tr>\n",
              "    <tr>\n",
              "      <th>split2_test_score</th>\n",
              "      <td>0.933333</td>\n",
              "      <td>0.933333</td>\n",
              "      <td>0.933333</td>\n",
              "      <td>0.933333</td>\n",
              "      <td>0.933333</td>\n",
              "      <td>0.966667</td>\n",
              "      <td>0.9</td>\n",
              "      <td>0.933333</td>\n",
              "      <td>0.966667</td>\n",
              "      <td>0.966667</td>\n",
              "      <td>0.966667</td>\n",
              "      <td>0.966667</td>\n",
              "    </tr>\n",
              "    <tr>\n",
              "      <th>split3_test_score</th>\n",
              "      <td>0.933333</td>\n",
              "      <td>0.9</td>\n",
              "      <td>0.966667</td>\n",
              "      <td>0.966667</td>\n",
              "      <td>0.966667</td>\n",
              "      <td>0.966667</td>\n",
              "      <td>0.966667</td>\n",
              "      <td>0.966667</td>\n",
              "      <td>0.966667</td>\n",
              "      <td>0.966667</td>\n",
              "      <td>0.966667</td>\n",
              "      <td>0.966667</td>\n",
              "    </tr>\n",
              "    <tr>\n",
              "      <th>split4_test_score</th>\n",
              "      <td>1.0</td>\n",
              "      <td>1.0</td>\n",
              "      <td>1.0</td>\n",
              "      <td>1.0</td>\n",
              "      <td>1.0</td>\n",
              "      <td>1.0</td>\n",
              "      <td>1.0</td>\n",
              "      <td>1.0</td>\n",
              "      <td>1.0</td>\n",
              "      <td>1.0</td>\n",
              "      <td>1.0</td>\n",
              "      <td>1.0</td>\n",
              "    </tr>\n",
              "    <tr>\n",
              "      <th>mean_test_score</th>\n",
              "      <td>0.96</td>\n",
              "      <td>0.946667</td>\n",
              "      <td>0.966667</td>\n",
              "      <td>0.966667</td>\n",
              "      <td>0.966667</td>\n",
              "      <td>0.973333</td>\n",
              "      <td>0.966667</td>\n",
              "      <td>0.973333</td>\n",
              "      <td>0.98</td>\n",
              "      <td>0.98</td>\n",
              "      <td>0.98</td>\n",
              "      <td>0.98</td>\n",
              "    </tr>\n",
              "    <tr>\n",
              "      <th>std_test_score</th>\n",
              "      <td>0.024944</td>\n",
              "      <td>0.033993</td>\n",
              "      <td>0.021082</td>\n",
              "      <td>0.021082</td>\n",
              "      <td>0.021082</td>\n",
              "      <td>0.013333</td>\n",
              "      <td>0.036515</td>\n",
              "      <td>0.024944</td>\n",
              "      <td>0.01633</td>\n",
              "      <td>0.01633</td>\n",
              "      <td>0.01633</td>\n",
              "      <td>0.01633</td>\n",
              "    </tr>\n",
              "    <tr>\n",
              "      <th>rank_test_score</th>\n",
              "      <td>11</td>\n",
              "      <td>12</td>\n",
              "      <td>7</td>\n",
              "      <td>7</td>\n",
              "      <td>7</td>\n",
              "      <td>5</td>\n",
              "      <td>7</td>\n",
              "      <td>5</td>\n",
              "      <td>1</td>\n",
              "      <td>1</td>\n",
              "      <td>1</td>\n",
              "      <td>1</td>\n",
              "    </tr>\n",
              "  </tbody>\n",
              "</table>\n",
              "</div>\n",
              "      <button class=\"colab-df-convert\" onclick=\"convertToInteractive('df-e6cb2634-662b-4097-a10d-0c5a87eec69b')\"\n",
              "              title=\"Convert this dataframe to an interactive table.\"\n",
              "              style=\"display:none;\">\n",
              "        \n",
              "  <svg xmlns=\"http://www.w3.org/2000/svg\" height=\"24px\"viewBox=\"0 0 24 24\"\n",
              "       width=\"24px\">\n",
              "    <path d=\"M0 0h24v24H0V0z\" fill=\"none\"/>\n",
              "    <path d=\"M18.56 5.44l.94 2.06.94-2.06 2.06-.94-2.06-.94-.94-2.06-.94 2.06-2.06.94zm-11 1L8.5 8.5l.94-2.06 2.06-.94-2.06-.94L8.5 2.5l-.94 2.06-2.06.94zm10 10l.94 2.06.94-2.06 2.06-.94-2.06-.94-.94-2.06-.94 2.06-2.06.94z\"/><path d=\"M17.41 7.96l-1.37-1.37c-.4-.4-.92-.59-1.43-.59-.52 0-1.04.2-1.43.59L10.3 9.45l-7.72 7.72c-.78.78-.78 2.05 0 2.83L4 21.41c.39.39.9.59 1.41.59.51 0 1.02-.2 1.41-.59l7.78-7.78 2.81-2.81c.8-.78.8-2.07 0-2.86zM5.41 20L4 18.59l7.72-7.72 1.47 1.35L5.41 20z\"/>\n",
              "  </svg>\n",
              "      </button>\n",
              "      \n",
              "  <style>\n",
              "    .colab-df-container {\n",
              "      display:flex;\n",
              "      flex-wrap:wrap;\n",
              "      gap: 12px;\n",
              "    }\n",
              "\n",
              "    .colab-df-convert {\n",
              "      background-color: #E8F0FE;\n",
              "      border: none;\n",
              "      border-radius: 50%;\n",
              "      cursor: pointer;\n",
              "      display: none;\n",
              "      fill: #1967D2;\n",
              "      height: 32px;\n",
              "      padding: 0 0 0 0;\n",
              "      width: 32px;\n",
              "    }\n",
              "\n",
              "    .colab-df-convert:hover {\n",
              "      background-color: #E2EBFA;\n",
              "      box-shadow: 0px 1px 2px rgba(60, 64, 67, 0.3), 0px 1px 3px 1px rgba(60, 64, 67, 0.15);\n",
              "      fill: #174EA6;\n",
              "    }\n",
              "\n",
              "    [theme=dark] .colab-df-convert {\n",
              "      background-color: #3B4455;\n",
              "      fill: #D2E3FC;\n",
              "    }\n",
              "\n",
              "    [theme=dark] .colab-df-convert:hover {\n",
              "      background-color: #434B5C;\n",
              "      box-shadow: 0px 1px 3px 1px rgba(0, 0, 0, 0.15);\n",
              "      filter: drop-shadow(0px 1px 2px rgba(0, 0, 0, 0.3));\n",
              "      fill: #FFFFFF;\n",
              "    }\n",
              "  </style>\n",
              "\n",
              "      <script>\n",
              "        const buttonEl =\n",
              "          document.querySelector('#df-e6cb2634-662b-4097-a10d-0c5a87eec69b button.colab-df-convert');\n",
              "        buttonEl.style.display =\n",
              "          google.colab.kernel.accessAllowed ? 'block' : 'none';\n",
              "\n",
              "        async function convertToInteractive(key) {\n",
              "          const element = document.querySelector('#df-e6cb2634-662b-4097-a10d-0c5a87eec69b');\n",
              "          const dataTable =\n",
              "            await google.colab.kernel.invokeFunction('convertToInteractive',\n",
              "                                                     [key], {});\n",
              "          if (!dataTable) return;\n",
              "\n",
              "          const docLinkHtml = 'Like what you see? Visit the ' +\n",
              "            '<a target=\"_blank\" href=https://colab.research.google.com/notebooks/data_table.ipynb>data table notebook</a>'\n",
              "            + ' to learn more about interactive tables.';\n",
              "          element.innerHTML = '';\n",
              "          dataTable['output_type'] = 'display_data';\n",
              "          await google.colab.output.renderOutput(dataTable, element);\n",
              "          const docLink = document.createElement('div');\n",
              "          docLink.innerHTML = docLinkHtml;\n",
              "          element.appendChild(docLink);\n",
              "        }\n",
              "      </script>\n",
              "    </div>\n",
              "  </div>\n",
              "  "
            ]
          },
          "metadata": {},
          "execution_count": 44
        }
      ]
    },
    {
      "cell_type": "markdown",
      "source": [
        "### wine dataset"
      ],
      "metadata": {
        "id": "6sGMYgXZQEpL"
      }
    },
    {
      "cell_type": "code",
      "source": [
        "from sklearn.datasets import load_wine"
      ],
      "metadata": {
        "id": "wmKRFOE6PKgU"
      },
      "execution_count": 45,
      "outputs": []
    },
    {
      "cell_type": "code",
      "source": [
        "data = load_wine()"
      ],
      "metadata": {
        "id": "NaG83WloQMPj"
      },
      "execution_count": 46,
      "outputs": []
    },
    {
      "cell_type": "code",
      "source": [
        "data_pd = pd.DataFrame(data.data, columns=data.feature_names)\n",
        "data_pd['target'] = pd.DataFrame(data.target, columns=['target'])\n"
      ],
      "metadata": {
        "id": "RNGXDtZjQOU7"
      },
      "execution_count": 47,
      "outputs": []
    },
    {
      "cell_type": "code",
      "source": [
        "wine = data_pd.copy()"
      ],
      "metadata": {
        "id": "qoHKdpZgQg3r"
      },
      "execution_count": 48,
      "outputs": []
    },
    {
      "cell_type": "code",
      "source": [
        "wine.head()"
      ],
      "metadata": {
        "colab": {
          "base_uri": "https://localhost:8080/",
          "height": 270
        },
        "id": "k8iHaRHvQjm7",
        "outputId": "76058533-7df2-40bd-d3ed-c41d92cb8916"
      },
      "execution_count": 49,
      "outputs": [
        {
          "output_type": "execute_result",
          "data": {
            "text/plain": [
              "   alcohol  malic_acid   ash  alcalinity_of_ash  magnesium  total_phenols  \\\n",
              "0    14.23        1.71  2.43               15.6      127.0           2.80   \n",
              "1    13.20        1.78  2.14               11.2      100.0           2.65   \n",
              "2    13.16        2.36  2.67               18.6      101.0           2.80   \n",
              "3    14.37        1.95  2.50               16.8      113.0           3.85   \n",
              "4    13.24        2.59  2.87               21.0      118.0           2.80   \n",
              "\n",
              "   flavanoids  nonflavanoid_phenols  proanthocyanins  color_intensity   hue  \\\n",
              "0        3.06                  0.28             2.29             5.64  1.04   \n",
              "1        2.76                  0.26             1.28             4.38  1.05   \n",
              "2        3.24                  0.30             2.81             5.68  1.03   \n",
              "3        3.49                  0.24             2.18             7.80  0.86   \n",
              "4        2.69                  0.39             1.82             4.32  1.04   \n",
              "\n",
              "   od280/od315_of_diluted_wines  proline  target  \n",
              "0                          3.92   1065.0       0  \n",
              "1                          3.40   1050.0       0  \n",
              "2                          3.17   1185.0       0  \n",
              "3                          3.45   1480.0       0  \n",
              "4                          2.93    735.0       0  "
            ],
            "text/html": [
              "\n",
              "  <div id=\"df-967764fa-dc67-46f1-ab31-617b833ca268\">\n",
              "    <div class=\"colab-df-container\">\n",
              "      <div>\n",
              "<style scoped>\n",
              "    .dataframe tbody tr th:only-of-type {\n",
              "        vertical-align: middle;\n",
              "    }\n",
              "\n",
              "    .dataframe tbody tr th {\n",
              "        vertical-align: top;\n",
              "    }\n",
              "\n",
              "    .dataframe thead th {\n",
              "        text-align: right;\n",
              "    }\n",
              "</style>\n",
              "<table border=\"1\" class=\"dataframe\">\n",
              "  <thead>\n",
              "    <tr style=\"text-align: right;\">\n",
              "      <th></th>\n",
              "      <th>alcohol</th>\n",
              "      <th>malic_acid</th>\n",
              "      <th>ash</th>\n",
              "      <th>alcalinity_of_ash</th>\n",
              "      <th>magnesium</th>\n",
              "      <th>total_phenols</th>\n",
              "      <th>flavanoids</th>\n",
              "      <th>nonflavanoid_phenols</th>\n",
              "      <th>proanthocyanins</th>\n",
              "      <th>color_intensity</th>\n",
              "      <th>hue</th>\n",
              "      <th>od280/od315_of_diluted_wines</th>\n",
              "      <th>proline</th>\n",
              "      <th>target</th>\n",
              "    </tr>\n",
              "  </thead>\n",
              "  <tbody>\n",
              "    <tr>\n",
              "      <th>0</th>\n",
              "      <td>14.23</td>\n",
              "      <td>1.71</td>\n",
              "      <td>2.43</td>\n",
              "      <td>15.6</td>\n",
              "      <td>127.0</td>\n",
              "      <td>2.80</td>\n",
              "      <td>3.06</td>\n",
              "      <td>0.28</td>\n",
              "      <td>2.29</td>\n",
              "      <td>5.64</td>\n",
              "      <td>1.04</td>\n",
              "      <td>3.92</td>\n",
              "      <td>1065.0</td>\n",
              "      <td>0</td>\n",
              "    </tr>\n",
              "    <tr>\n",
              "      <th>1</th>\n",
              "      <td>13.20</td>\n",
              "      <td>1.78</td>\n",
              "      <td>2.14</td>\n",
              "      <td>11.2</td>\n",
              "      <td>100.0</td>\n",
              "      <td>2.65</td>\n",
              "      <td>2.76</td>\n",
              "      <td>0.26</td>\n",
              "      <td>1.28</td>\n",
              "      <td>4.38</td>\n",
              "      <td>1.05</td>\n",
              "      <td>3.40</td>\n",
              "      <td>1050.0</td>\n",
              "      <td>0</td>\n",
              "    </tr>\n",
              "    <tr>\n",
              "      <th>2</th>\n",
              "      <td>13.16</td>\n",
              "      <td>2.36</td>\n",
              "      <td>2.67</td>\n",
              "      <td>18.6</td>\n",
              "      <td>101.0</td>\n",
              "      <td>2.80</td>\n",
              "      <td>3.24</td>\n",
              "      <td>0.30</td>\n",
              "      <td>2.81</td>\n",
              "      <td>5.68</td>\n",
              "      <td>1.03</td>\n",
              "      <td>3.17</td>\n",
              "      <td>1185.0</td>\n",
              "      <td>0</td>\n",
              "    </tr>\n",
              "    <tr>\n",
              "      <th>3</th>\n",
              "      <td>14.37</td>\n",
              "      <td>1.95</td>\n",
              "      <td>2.50</td>\n",
              "      <td>16.8</td>\n",
              "      <td>113.0</td>\n",
              "      <td>3.85</td>\n",
              "      <td>3.49</td>\n",
              "      <td>0.24</td>\n",
              "      <td>2.18</td>\n",
              "      <td>7.80</td>\n",
              "      <td>0.86</td>\n",
              "      <td>3.45</td>\n",
              "      <td>1480.0</td>\n",
              "      <td>0</td>\n",
              "    </tr>\n",
              "    <tr>\n",
              "      <th>4</th>\n",
              "      <td>13.24</td>\n",
              "      <td>2.59</td>\n",
              "      <td>2.87</td>\n",
              "      <td>21.0</td>\n",
              "      <td>118.0</td>\n",
              "      <td>2.80</td>\n",
              "      <td>2.69</td>\n",
              "      <td>0.39</td>\n",
              "      <td>1.82</td>\n",
              "      <td>4.32</td>\n",
              "      <td>1.04</td>\n",
              "      <td>2.93</td>\n",
              "      <td>735.0</td>\n",
              "      <td>0</td>\n",
              "    </tr>\n",
              "  </tbody>\n",
              "</table>\n",
              "</div>\n",
              "      <button class=\"colab-df-convert\" onclick=\"convertToInteractive('df-967764fa-dc67-46f1-ab31-617b833ca268')\"\n",
              "              title=\"Convert this dataframe to an interactive table.\"\n",
              "              style=\"display:none;\">\n",
              "        \n",
              "  <svg xmlns=\"http://www.w3.org/2000/svg\" height=\"24px\"viewBox=\"0 0 24 24\"\n",
              "       width=\"24px\">\n",
              "    <path d=\"M0 0h24v24H0V0z\" fill=\"none\"/>\n",
              "    <path d=\"M18.56 5.44l.94 2.06.94-2.06 2.06-.94-2.06-.94-.94-2.06-.94 2.06-2.06.94zm-11 1L8.5 8.5l.94-2.06 2.06-.94-2.06-.94L8.5 2.5l-.94 2.06-2.06.94zm10 10l.94 2.06.94-2.06 2.06-.94-2.06-.94-.94-2.06-.94 2.06-2.06.94z\"/><path d=\"M17.41 7.96l-1.37-1.37c-.4-.4-.92-.59-1.43-.59-.52 0-1.04.2-1.43.59L10.3 9.45l-7.72 7.72c-.78.78-.78 2.05 0 2.83L4 21.41c.39.39.9.59 1.41.59.51 0 1.02-.2 1.41-.59l7.78-7.78 2.81-2.81c.8-.78.8-2.07 0-2.86zM5.41 20L4 18.59l7.72-7.72 1.47 1.35L5.41 20z\"/>\n",
              "  </svg>\n",
              "      </button>\n",
              "      \n",
              "  <style>\n",
              "    .colab-df-container {\n",
              "      display:flex;\n",
              "      flex-wrap:wrap;\n",
              "      gap: 12px;\n",
              "    }\n",
              "\n",
              "    .colab-df-convert {\n",
              "      background-color: #E8F0FE;\n",
              "      border: none;\n",
              "      border-radius: 50%;\n",
              "      cursor: pointer;\n",
              "      display: none;\n",
              "      fill: #1967D2;\n",
              "      height: 32px;\n",
              "      padding: 0 0 0 0;\n",
              "      width: 32px;\n",
              "    }\n",
              "\n",
              "    .colab-df-convert:hover {\n",
              "      background-color: #E2EBFA;\n",
              "      box-shadow: 0px 1px 2px rgba(60, 64, 67, 0.3), 0px 1px 3px 1px rgba(60, 64, 67, 0.15);\n",
              "      fill: #174EA6;\n",
              "    }\n",
              "\n",
              "    [theme=dark] .colab-df-convert {\n",
              "      background-color: #3B4455;\n",
              "      fill: #D2E3FC;\n",
              "    }\n",
              "\n",
              "    [theme=dark] .colab-df-convert:hover {\n",
              "      background-color: #434B5C;\n",
              "      box-shadow: 0px 1px 3px 1px rgba(0, 0, 0, 0.15);\n",
              "      filter: drop-shadow(0px 1px 2px rgba(0, 0, 0, 0.3));\n",
              "      fill: #FFFFFF;\n",
              "    }\n",
              "  </style>\n",
              "\n",
              "      <script>\n",
              "        const buttonEl =\n",
              "          document.querySelector('#df-967764fa-dc67-46f1-ab31-617b833ca268 button.colab-df-convert');\n",
              "        buttonEl.style.display =\n",
              "          google.colab.kernel.accessAllowed ? 'block' : 'none';\n",
              "\n",
              "        async function convertToInteractive(key) {\n",
              "          const element = document.querySelector('#df-967764fa-dc67-46f1-ab31-617b833ca268');\n",
              "          const dataTable =\n",
              "            await google.colab.kernel.invokeFunction('convertToInteractive',\n",
              "                                                     [key], {});\n",
              "          if (!dataTable) return;\n",
              "\n",
              "          const docLinkHtml = 'Like what you see? Visit the ' +\n",
              "            '<a target=\"_blank\" href=https://colab.research.google.com/notebooks/data_table.ipynb>data table notebook</a>'\n",
              "            + ' to learn more about interactive tables.';\n",
              "          element.innerHTML = '';\n",
              "          dataTable['output_type'] = 'display_data';\n",
              "          await google.colab.output.renderOutput(dataTable, element);\n",
              "          const docLink = document.createElement('div');\n",
              "          docLink.innerHTML = docLinkHtml;\n",
              "          element.appendChild(docLink);\n",
              "        }\n",
              "      </script>\n",
              "    </div>\n",
              "  </div>\n",
              "  "
            ]
          },
          "metadata": {},
          "execution_count": 49
        }
      ]
    },
    {
      "cell_type": "code",
      "source": [
        "wine.info()"
      ],
      "metadata": {
        "colab": {
          "base_uri": "https://localhost:8080/"
        },
        "id": "tCHl_JX4QlTL",
        "outputId": "2b6d51ab-4c43-4591-cfc7-70f1e25a1497"
      },
      "execution_count": 50,
      "outputs": [
        {
          "output_type": "stream",
          "name": "stdout",
          "text": [
            "<class 'pandas.core.frame.DataFrame'>\n",
            "RangeIndex: 178 entries, 0 to 177\n",
            "Data columns (total 14 columns):\n",
            " #   Column                        Non-Null Count  Dtype  \n",
            "---  ------                        --------------  -----  \n",
            " 0   alcohol                       178 non-null    float64\n",
            " 1   malic_acid                    178 non-null    float64\n",
            " 2   ash                           178 non-null    float64\n",
            " 3   alcalinity_of_ash             178 non-null    float64\n",
            " 4   magnesium                     178 non-null    float64\n",
            " 5   total_phenols                 178 non-null    float64\n",
            " 6   flavanoids                    178 non-null    float64\n",
            " 7   nonflavanoid_phenols          178 non-null    float64\n",
            " 8   proanthocyanins               178 non-null    float64\n",
            " 9   color_intensity               178 non-null    float64\n",
            " 10  hue                           178 non-null    float64\n",
            " 11  od280/od315_of_diluted_wines  178 non-null    float64\n",
            " 12  proline                       178 non-null    float64\n",
            " 13  target                        178 non-null    int64  \n",
            "dtypes: float64(13), int64(1)\n",
            "memory usage: 19.6 KB\n"
          ]
        }
      ]
    },
    {
      "cell_type": "code",
      "source": [
        "from sklearn.linear_model import LogisticRegression"
      ],
      "metadata": {
        "id": "l7z7OfQxQuSq"
      },
      "execution_count": 51,
      "outputs": []
    },
    {
      "cell_type": "code",
      "source": [
        "from sklearn.model_selection import GridSearchCV"
      ],
      "metadata": {
        "id": "MDXud4CyRAQr"
      },
      "execution_count": 52,
      "outputs": []
    },
    {
      "cell_type": "code",
      "source": [
        "def all_models(X_train, y_train, X_validation, y_validation, cv=10):\n",
        "  ##################################\n",
        "  # 1. Logistic Regression\n",
        "  grid_lr = GridSearchCV(LogisticRegression(), cv=cv)\n",
        "  grid_lr.fit(X_train, y_train)\n",
        "  lr_pd = pd.DataFrame(grid.cv_results_)\n",
        "  \n",
        "  ################################\n",
        "  # 2. KNeighbors\n",
        "  grid_knn = GridSearchCV(KNeighborsClassifier(), cv=cv)\n",
        "  grid_knn.fit(X_train, y_train)\n",
        "  knn_pd = pd.DataFrame(grid_knn.cv_results_)\n",
        "  return pd.concat([lr_pd, knn_pd], axis = 1)"
      ],
      "metadata": {
        "id": "1jhtXtXkRDiy"
      },
      "execution_count": 53,
      "outputs": []
    },
    {
      "cell_type": "markdown",
      "source": [
        "GridSearchCV2"
      ],
      "metadata": {
        "id": "p09v9xJoS8TL"
      }
    },
    {
      "cell_type": "code",
      "source": [
        "#GridSearchCV(estimator, param_grid, *...)\n",
        "\n",
        "# param_grid는 dict 또는 dictionary로 된 list를 인자로 받을 수 있다.\n",
        "grid = GridSearchCV(KNeighborsClassifier(), [{'n_neighbors':[2,3,4,5],\n",
        "                                              'weights':['uniform', 'distance']}])"
      ],
      "metadata": {
        "id": "u8pvr3MMSvAN"
      },
      "execution_count": 54,
      "outputs": []
    },
    {
      "cell_type": "code",
      "source": [
        "# \n",
        "grid.fit(wine.iloc[:, :-1], wine.target)"
      ],
      "metadata": {
        "colab": {
          "base_uri": "https://localhost:8080/"
        },
        "id": "QBpcZYBGTg7-",
        "outputId": "7a0e7219-da65-4ca5-db06-7abe3bd84562"
      },
      "execution_count": 55,
      "outputs": [
        {
          "output_type": "execute_result",
          "data": {
            "text/plain": [
              "GridSearchCV(estimator=KNeighborsClassifier(),\n",
              "             param_grid=[{'n_neighbors': [2, 3, 4, 5],\n",
              "                          'weights': ['uniform', 'distance']}])"
            ]
          },
          "metadata": {},
          "execution_count": 55
        }
      ]
    },
    {
      "cell_type": "code",
      "source": [
        "pd.DataFrame(grid.cv_results_).T"
      ],
      "metadata": {
        "colab": {
          "base_uri": "https://localhost:8080/",
          "height": 598
        },
        "id": "41-X3TAKTz-z",
        "outputId": "011dfbad-f985-4b56-f0cb-e502d362487d"
      },
      "execution_count": 56,
      "outputs": [
        {
          "output_type": "execute_result",
          "data": {
            "text/plain": [
              "                                                          0  \\\n",
              "mean_fit_time                                       0.00544   \n",
              "std_fit_time                                        0.00403   \n",
              "mean_score_time                                    0.005302   \n",
              "std_score_time                                     0.001297   \n",
              "param_n_neighbors                                         2   \n",
              "param_weights                                       uniform   \n",
              "params             {'n_neighbors': 2, 'weights': 'uniform'}   \n",
              "split0_test_score                                  0.611111   \n",
              "split1_test_score                                  0.611111   \n",
              "split2_test_score                                  0.638889   \n",
              "split3_test_score                                  0.657143   \n",
              "split4_test_score                                       0.8   \n",
              "mean_test_score                                    0.663651   \n",
              "std_test_score                                     0.070381   \n",
              "rank_test_score                                           8   \n",
              "\n",
              "                                                           1  \\\n",
              "mean_fit_time                                       0.004389   \n",
              "std_fit_time                                        0.000918   \n",
              "mean_score_time                                     0.006477   \n",
              "std_score_time                                      0.005648   \n",
              "param_n_neighbors                                          2   \n",
              "param_weights                                       distance   \n",
              "params             {'n_neighbors': 2, 'weights': 'distance'}   \n",
              "split0_test_score                                   0.805556   \n",
              "split1_test_score                                   0.638889   \n",
              "split2_test_score                                   0.666667   \n",
              "split3_test_score                                   0.685714   \n",
              "split4_test_score                                   0.828571   \n",
              "mean_test_score                                     0.725079   \n",
              "std_test_score                                      0.076912   \n",
              "rank_test_score                                            1   \n",
              "\n",
              "                                                          2  \\\n",
              "mean_fit_time                                      0.007495   \n",
              "std_fit_time                                       0.003095   \n",
              "mean_score_time                                    0.014607   \n",
              "std_score_time                                     0.011741   \n",
              "param_n_neighbors                                         3   \n",
              "param_weights                                       uniform   \n",
              "params             {'n_neighbors': 3, 'weights': 'uniform'}   \n",
              "split0_test_score                                  0.638889   \n",
              "split1_test_score                                  0.694444   \n",
              "split2_test_score                                  0.666667   \n",
              "split3_test_score                                  0.657143   \n",
              "split4_test_score                                  0.857143   \n",
              "mean_test_score                                    0.702857   \n",
              "std_test_score                                     0.079204   \n",
              "rank_test_score                                           5   \n",
              "\n",
              "                                                           3  \\\n",
              "mean_fit_time                                       0.003593   \n",
              "std_fit_time                                        0.000578   \n",
              "mean_score_time                                     0.004936   \n",
              "std_score_time                                      0.002887   \n",
              "param_n_neighbors                                          3   \n",
              "param_weights                                       distance   \n",
              "params             {'n_neighbors': 3, 'weights': 'distance'}   \n",
              "split0_test_score                                   0.722222   \n",
              "split1_test_score                                   0.722222   \n",
              "split2_test_score                                   0.666667   \n",
              "split3_test_score                                   0.657143   \n",
              "split4_test_score                                   0.857143   \n",
              "mean_test_score                                     0.725079   \n",
              "std_test_score                                      0.071393   \n",
              "rank_test_score                                            1   \n",
              "\n",
              "                                                          4  \\\n",
              "mean_fit_time                                      0.003417   \n",
              "std_fit_time                                       0.000175   \n",
              "mean_score_time                                    0.006041   \n",
              "std_score_time                                     0.002527   \n",
              "param_n_neighbors                                         4   \n",
              "param_weights                                       uniform   \n",
              "params             {'n_neighbors': 4, 'weights': 'uniform'}   \n",
              "split0_test_score                                  0.638889   \n",
              "split1_test_score                                  0.694444   \n",
              "split2_test_score                                  0.638889   \n",
              "split3_test_score                                  0.657143   \n",
              "split4_test_score                                  0.771429   \n",
              "mean_test_score                                    0.680159   \n",
              "std_test_score                                     0.049941   \n",
              "rank_test_score                                           7   \n",
              "\n",
              "                                                           5  \\\n",
              "mean_fit_time                                       0.004829   \n",
              "std_fit_time                                        0.003232   \n",
              "mean_score_time                                     0.004049   \n",
              "std_score_time                                      0.000495   \n",
              "param_n_neighbors                                          4   \n",
              "param_weights                                       distance   \n",
              "params             {'n_neighbors': 4, 'weights': 'distance'}   \n",
              "split0_test_score                                   0.666667   \n",
              "split1_test_score                                   0.694444   \n",
              "split2_test_score                                   0.694444   \n",
              "split3_test_score                                   0.657143   \n",
              "split4_test_score                                   0.857143   \n",
              "mean_test_score                                     0.713968   \n",
              "std_test_score                                      0.073113   \n",
              "rank_test_score                                            4   \n",
              "\n",
              "                                                          6  \\\n",
              "mean_fit_time                                      0.004477   \n",
              "std_fit_time                                       0.001244   \n",
              "mean_score_time                                    0.006806   \n",
              "std_score_time                                     0.003445   \n",
              "param_n_neighbors                                         5   \n",
              "param_weights                                       uniform   \n",
              "params             {'n_neighbors': 5, 'weights': 'uniform'}   \n",
              "split0_test_score                                  0.722222   \n",
              "split1_test_score                                  0.666667   \n",
              "split2_test_score                                  0.638889   \n",
              "split3_test_score                                  0.657143   \n",
              "split4_test_score                                  0.771429   \n",
              "mean_test_score                                     0.69127   \n",
              "std_test_score                                      0.04878   \n",
              "rank_test_score                                           6   \n",
              "\n",
              "                                                           7  \n",
              "mean_fit_time                                       0.004371  \n",
              "std_fit_time                                        0.001284  \n",
              "mean_score_time                                     0.005094  \n",
              "std_score_time                                      0.002528  \n",
              "param_n_neighbors                                          5  \n",
              "param_weights                                       distance  \n",
              "params             {'n_neighbors': 5, 'weights': 'distance'}  \n",
              "split0_test_score                                   0.777778  \n",
              "split1_test_score                                   0.638889  \n",
              "split2_test_score                                   0.666667  \n",
              "split3_test_score                                   0.657143  \n",
              "split4_test_score                                   0.857143  \n",
              "mean_test_score                                     0.719524  \n",
              "std_test_score                                      0.084285  \n",
              "rank_test_score                                            3  "
            ],
            "text/html": [
              "\n",
              "  <div id=\"df-6cae6e95-e948-42c6-b3dc-df656965d70d\">\n",
              "    <div class=\"colab-df-container\">\n",
              "      <div>\n",
              "<style scoped>\n",
              "    .dataframe tbody tr th:only-of-type {\n",
              "        vertical-align: middle;\n",
              "    }\n",
              "\n",
              "    .dataframe tbody tr th {\n",
              "        vertical-align: top;\n",
              "    }\n",
              "\n",
              "    .dataframe thead th {\n",
              "        text-align: right;\n",
              "    }\n",
              "</style>\n",
              "<table border=\"1\" class=\"dataframe\">\n",
              "  <thead>\n",
              "    <tr style=\"text-align: right;\">\n",
              "      <th></th>\n",
              "      <th>0</th>\n",
              "      <th>1</th>\n",
              "      <th>2</th>\n",
              "      <th>3</th>\n",
              "      <th>4</th>\n",
              "      <th>5</th>\n",
              "      <th>6</th>\n",
              "      <th>7</th>\n",
              "    </tr>\n",
              "  </thead>\n",
              "  <tbody>\n",
              "    <tr>\n",
              "      <th>mean_fit_time</th>\n",
              "      <td>0.00544</td>\n",
              "      <td>0.004389</td>\n",
              "      <td>0.007495</td>\n",
              "      <td>0.003593</td>\n",
              "      <td>0.003417</td>\n",
              "      <td>0.004829</td>\n",
              "      <td>0.004477</td>\n",
              "      <td>0.004371</td>\n",
              "    </tr>\n",
              "    <tr>\n",
              "      <th>std_fit_time</th>\n",
              "      <td>0.00403</td>\n",
              "      <td>0.000918</td>\n",
              "      <td>0.003095</td>\n",
              "      <td>0.000578</td>\n",
              "      <td>0.000175</td>\n",
              "      <td>0.003232</td>\n",
              "      <td>0.001244</td>\n",
              "      <td>0.001284</td>\n",
              "    </tr>\n",
              "    <tr>\n",
              "      <th>mean_score_time</th>\n",
              "      <td>0.005302</td>\n",
              "      <td>0.006477</td>\n",
              "      <td>0.014607</td>\n",
              "      <td>0.004936</td>\n",
              "      <td>0.006041</td>\n",
              "      <td>0.004049</td>\n",
              "      <td>0.006806</td>\n",
              "      <td>0.005094</td>\n",
              "    </tr>\n",
              "    <tr>\n",
              "      <th>std_score_time</th>\n",
              "      <td>0.001297</td>\n",
              "      <td>0.005648</td>\n",
              "      <td>0.011741</td>\n",
              "      <td>0.002887</td>\n",
              "      <td>0.002527</td>\n",
              "      <td>0.000495</td>\n",
              "      <td>0.003445</td>\n",
              "      <td>0.002528</td>\n",
              "    </tr>\n",
              "    <tr>\n",
              "      <th>param_n_neighbors</th>\n",
              "      <td>2</td>\n",
              "      <td>2</td>\n",
              "      <td>3</td>\n",
              "      <td>3</td>\n",
              "      <td>4</td>\n",
              "      <td>4</td>\n",
              "      <td>5</td>\n",
              "      <td>5</td>\n",
              "    </tr>\n",
              "    <tr>\n",
              "      <th>param_weights</th>\n",
              "      <td>uniform</td>\n",
              "      <td>distance</td>\n",
              "      <td>uniform</td>\n",
              "      <td>distance</td>\n",
              "      <td>uniform</td>\n",
              "      <td>distance</td>\n",
              "      <td>uniform</td>\n",
              "      <td>distance</td>\n",
              "    </tr>\n",
              "    <tr>\n",
              "      <th>params</th>\n",
              "      <td>{'n_neighbors': 2, 'weights': 'uniform'}</td>\n",
              "      <td>{'n_neighbors': 2, 'weights': 'distance'}</td>\n",
              "      <td>{'n_neighbors': 3, 'weights': 'uniform'}</td>\n",
              "      <td>{'n_neighbors': 3, 'weights': 'distance'}</td>\n",
              "      <td>{'n_neighbors': 4, 'weights': 'uniform'}</td>\n",
              "      <td>{'n_neighbors': 4, 'weights': 'distance'}</td>\n",
              "      <td>{'n_neighbors': 5, 'weights': 'uniform'}</td>\n",
              "      <td>{'n_neighbors': 5, 'weights': 'distance'}</td>\n",
              "    </tr>\n",
              "    <tr>\n",
              "      <th>split0_test_score</th>\n",
              "      <td>0.611111</td>\n",
              "      <td>0.805556</td>\n",
              "      <td>0.638889</td>\n",
              "      <td>0.722222</td>\n",
              "      <td>0.638889</td>\n",
              "      <td>0.666667</td>\n",
              "      <td>0.722222</td>\n",
              "      <td>0.777778</td>\n",
              "    </tr>\n",
              "    <tr>\n",
              "      <th>split1_test_score</th>\n",
              "      <td>0.611111</td>\n",
              "      <td>0.638889</td>\n",
              "      <td>0.694444</td>\n",
              "      <td>0.722222</td>\n",
              "      <td>0.694444</td>\n",
              "      <td>0.694444</td>\n",
              "      <td>0.666667</td>\n",
              "      <td>0.638889</td>\n",
              "    </tr>\n",
              "    <tr>\n",
              "      <th>split2_test_score</th>\n",
              "      <td>0.638889</td>\n",
              "      <td>0.666667</td>\n",
              "      <td>0.666667</td>\n",
              "      <td>0.666667</td>\n",
              "      <td>0.638889</td>\n",
              "      <td>0.694444</td>\n",
              "      <td>0.638889</td>\n",
              "      <td>0.666667</td>\n",
              "    </tr>\n",
              "    <tr>\n",
              "      <th>split3_test_score</th>\n",
              "      <td>0.657143</td>\n",
              "      <td>0.685714</td>\n",
              "      <td>0.657143</td>\n",
              "      <td>0.657143</td>\n",
              "      <td>0.657143</td>\n",
              "      <td>0.657143</td>\n",
              "      <td>0.657143</td>\n",
              "      <td>0.657143</td>\n",
              "    </tr>\n",
              "    <tr>\n",
              "      <th>split4_test_score</th>\n",
              "      <td>0.8</td>\n",
              "      <td>0.828571</td>\n",
              "      <td>0.857143</td>\n",
              "      <td>0.857143</td>\n",
              "      <td>0.771429</td>\n",
              "      <td>0.857143</td>\n",
              "      <td>0.771429</td>\n",
              "      <td>0.857143</td>\n",
              "    </tr>\n",
              "    <tr>\n",
              "      <th>mean_test_score</th>\n",
              "      <td>0.663651</td>\n",
              "      <td>0.725079</td>\n",
              "      <td>0.702857</td>\n",
              "      <td>0.725079</td>\n",
              "      <td>0.680159</td>\n",
              "      <td>0.713968</td>\n",
              "      <td>0.69127</td>\n",
              "      <td>0.719524</td>\n",
              "    </tr>\n",
              "    <tr>\n",
              "      <th>std_test_score</th>\n",
              "      <td>0.070381</td>\n",
              "      <td>0.076912</td>\n",
              "      <td>0.079204</td>\n",
              "      <td>0.071393</td>\n",
              "      <td>0.049941</td>\n",
              "      <td>0.073113</td>\n",
              "      <td>0.04878</td>\n",
              "      <td>0.084285</td>\n",
              "    </tr>\n",
              "    <tr>\n",
              "      <th>rank_test_score</th>\n",
              "      <td>8</td>\n",
              "      <td>1</td>\n",
              "      <td>5</td>\n",
              "      <td>1</td>\n",
              "      <td>7</td>\n",
              "      <td>4</td>\n",
              "      <td>6</td>\n",
              "      <td>3</td>\n",
              "    </tr>\n",
              "  </tbody>\n",
              "</table>\n",
              "</div>\n",
              "      <button class=\"colab-df-convert\" onclick=\"convertToInteractive('df-6cae6e95-e948-42c6-b3dc-df656965d70d')\"\n",
              "              title=\"Convert this dataframe to an interactive table.\"\n",
              "              style=\"display:none;\">\n",
              "        \n",
              "  <svg xmlns=\"http://www.w3.org/2000/svg\" height=\"24px\"viewBox=\"0 0 24 24\"\n",
              "       width=\"24px\">\n",
              "    <path d=\"M0 0h24v24H0V0z\" fill=\"none\"/>\n",
              "    <path d=\"M18.56 5.44l.94 2.06.94-2.06 2.06-.94-2.06-.94-.94-2.06-.94 2.06-2.06.94zm-11 1L8.5 8.5l.94-2.06 2.06-.94-2.06-.94L8.5 2.5l-.94 2.06-2.06.94zm10 10l.94 2.06.94-2.06 2.06-.94-2.06-.94-.94-2.06-.94 2.06-2.06.94z\"/><path d=\"M17.41 7.96l-1.37-1.37c-.4-.4-.92-.59-1.43-.59-.52 0-1.04.2-1.43.59L10.3 9.45l-7.72 7.72c-.78.78-.78 2.05 0 2.83L4 21.41c.39.39.9.59 1.41.59.51 0 1.02-.2 1.41-.59l7.78-7.78 2.81-2.81c.8-.78.8-2.07 0-2.86zM5.41 20L4 18.59l7.72-7.72 1.47 1.35L5.41 20z\"/>\n",
              "  </svg>\n",
              "      </button>\n",
              "      \n",
              "  <style>\n",
              "    .colab-df-container {\n",
              "      display:flex;\n",
              "      flex-wrap:wrap;\n",
              "      gap: 12px;\n",
              "    }\n",
              "\n",
              "    .colab-df-convert {\n",
              "      background-color: #E8F0FE;\n",
              "      border: none;\n",
              "      border-radius: 50%;\n",
              "      cursor: pointer;\n",
              "      display: none;\n",
              "      fill: #1967D2;\n",
              "      height: 32px;\n",
              "      padding: 0 0 0 0;\n",
              "      width: 32px;\n",
              "    }\n",
              "\n",
              "    .colab-df-convert:hover {\n",
              "      background-color: #E2EBFA;\n",
              "      box-shadow: 0px 1px 2px rgba(60, 64, 67, 0.3), 0px 1px 3px 1px rgba(60, 64, 67, 0.15);\n",
              "      fill: #174EA6;\n",
              "    }\n",
              "\n",
              "    [theme=dark] .colab-df-convert {\n",
              "      background-color: #3B4455;\n",
              "      fill: #D2E3FC;\n",
              "    }\n",
              "\n",
              "    [theme=dark] .colab-df-convert:hover {\n",
              "      background-color: #434B5C;\n",
              "      box-shadow: 0px 1px 3px 1px rgba(0, 0, 0, 0.15);\n",
              "      filter: drop-shadow(0px 1px 2px rgba(0, 0, 0, 0.3));\n",
              "      fill: #FFFFFF;\n",
              "    }\n",
              "  </style>\n",
              "\n",
              "      <script>\n",
              "        const buttonEl =\n",
              "          document.querySelector('#df-6cae6e95-e948-42c6-b3dc-df656965d70d button.colab-df-convert');\n",
              "        buttonEl.style.display =\n",
              "          google.colab.kernel.accessAllowed ? 'block' : 'none';\n",
              "\n",
              "        async function convertToInteractive(key) {\n",
              "          const element = document.querySelector('#df-6cae6e95-e948-42c6-b3dc-df656965d70d');\n",
              "          const dataTable =\n",
              "            await google.colab.kernel.invokeFunction('convertToInteractive',\n",
              "                                                     [key], {});\n",
              "          if (!dataTable) return;\n",
              "\n",
              "          const docLinkHtml = 'Like what you see? Visit the ' +\n",
              "            '<a target=\"_blank\" href=https://colab.research.google.com/notebooks/data_table.ipynb>data table notebook</a>'\n",
              "            + ' to learn more about interactive tables.';\n",
              "          element.innerHTML = '';\n",
              "          dataTable['output_type'] = 'display_data';\n",
              "          await google.colab.output.renderOutput(dataTable, element);\n",
              "          const docLink = document.createElement('div');\n",
              "          docLink.innerHTML = docLinkHtml;\n",
              "          element.appendChild(docLink);\n",
              "        }\n",
              "      </script>\n",
              "    </div>\n",
              "  </div>\n",
              "  "
            ]
          },
          "metadata": {},
          "execution_count": 56
        }
      ]
    },
    {
      "cell_type": "markdown",
      "source": [
        "### GridSearchCV + Pipeline"
      ],
      "metadata": {
        "id": "Up5k_PZfce3o"
      }
    },
    {
      "cell_type": "markdown",
      "source": [
        "\n",
        "GridSearchCV와 Pipeline을 연동하기"
      ],
      "metadata": {
        "id": "0QeggmOoczsD"
      }
    },
    {
      "cell_type": "code",
      "source": [
        "from sklearn.pipeline import Pipeline"
      ],
      "metadata": {
        "id": "NhfMyuE1czTt"
      },
      "execution_count": 57,
      "outputs": []
    },
    {
      "cell_type": "code",
      "source": [
        "from sklearn.preprocessing import StandardScaler"
      ],
      "metadata": {
        "id": "yAfh8D_AT8c6"
      },
      "execution_count": 64,
      "outputs": []
    },
    {
      "cell_type": "code",
      "source": [
        "pipe = Pipeline([('ss', StandardScaler()), ('knn', KNeighborsClassifier())])"
      ],
      "metadata": {
        "id": "_SAN6MpCc-aI"
      },
      "execution_count": 66,
      "outputs": []
    },
    {
      "cell_type": "code",
      "source": [
        "grid = GridSearchCV(pipe, {'n_neighbors':[2,3,4,5]})"
      ],
      "metadata": {
        "id": "XKfclnotdVx8"
      },
      "execution_count": 67,
      "outputs": []
    },
    {
      "cell_type": "code",
      "source": [
        "#valueError\n",
        "#\"Check the list of available parameters \" with `estimator.get_params().keys()`.\n",
        "grid.fit(wine.iloc[:, :-1],wine.target)"
      ],
      "metadata": {
        "id": "wHRqo6Mmd47s"
      },
      "execution_count": null,
      "outputs": []
    },
    {
      "cell_type": "code",
      "source": [
        "#pipe의 내부 보기\n",
        "vars(pipe)"
      ],
      "metadata": {
        "colab": {
          "base_uri": "https://localhost:8080/"
        },
        "id": "nVosaRkId6iG",
        "outputId": "fe079e9a-60f2-498f-fc24-661f817e5d7e"
      },
      "execution_count": 72,
      "outputs": [
        {
          "output_type": "execute_result",
          "data": {
            "text/plain": [
              "{'steps': [('ss', StandardScaler()), ('knn', KNeighborsClassifier())],\n",
              " 'memory': None,\n",
              " 'verbose': False}"
            ]
          },
          "metadata": {},
          "execution_count": 72
        }
      ]
    },
    {
      "cell_type": "code",
      "source": [
        "#pipe에서 knn 알고리즘만 꺼내서 get_params를 확인한다\n",
        "#n_neighbors가 맞다다\n",
        "pipe.steps[-1][1].get_params()"
      ],
      "metadata": {
        "colab": {
          "base_uri": "https://localhost:8080/"
        },
        "id": "kCB1RRgRe39g",
        "outputId": "dc12b511-66da-4d00-fae7-4afb49c3d6e9"
      },
      "execution_count": 75,
      "outputs": [
        {
          "output_type": "execute_result",
          "data": {
            "text/plain": [
              "{'algorithm': 'auto',\n",
              " 'leaf_size': 30,\n",
              " 'metric': 'minkowski',\n",
              " 'metric_params': None,\n",
              " 'n_jobs': None,\n",
              " 'n_neighbors': 5,\n",
              " 'p': 2,\n",
              " 'weights': 'uniform'}"
            ]
          },
          "metadata": {},
          "execution_count": 75
        }
      ]
    },
    {
      "cell_type": "code",
      "source": [
        "#pipe 자체의 get_parmas를 확인한다\n",
        "#Pipeline은 알고리즘의 하이퍼 파라미터 이름을 맹글링한다.\n",
        "pipe.get_params()"
      ],
      "metadata": {
        "colab": {
          "base_uri": "https://localhost:8080/"
        },
        "id": "nurHShpVe6JE",
        "outputId": "91c036ff-522e-477b-a645-d5103dc54433"
      },
      "execution_count": 76,
      "outputs": [
        {
          "output_type": "execute_result",
          "data": {
            "text/plain": [
              "{'memory': None,\n",
              " 'steps': [('ss', StandardScaler()), ('knn', KNeighborsClassifier())],\n",
              " 'verbose': False,\n",
              " 'ss': StandardScaler(),\n",
              " 'knn': KNeighborsClassifier(),\n",
              " 'ss__copy': True,\n",
              " 'ss__with_mean': True,\n",
              " 'ss__with_std': True,\n",
              " 'knn__algorithm': 'auto',\n",
              " 'knn__leaf_size': 30,\n",
              " 'knn__metric': 'minkowski',\n",
              " 'knn__metric_params': None,\n",
              " 'knn__n_jobs': None,\n",
              " 'knn__n_neighbors': 5,\n",
              " 'knn__p': 2,\n",
              " 'knn__weights': 'uniform'}"
            ]
          },
          "metadata": {},
          "execution_count": 76
        }
      ]
    },
    {
      "cell_type": "code",
      "source": [
        "#mangling된 이름으로 하이퍼 파라미터 이름을 바꾸었다.\n",
        "grid = GridSearchCV(pipe, {'knn__n_neighbors':[2,3,4,5]})"
      ],
      "metadata": {
        "id": "3gtVayd2foIK"
      },
      "execution_count": 89,
      "outputs": []
    },
    {
      "cell_type": "code",
      "source": [
        "grid.fit(wine.iloc[:, :-1], wine.target)"
      ],
      "metadata": {
        "colab": {
          "base_uri": "https://localhost:8080/"
        },
        "id": "ycDvO37tgZBj",
        "outputId": "9574abd5-37d9-4fc4-ef50-56e1bae4a3d8"
      },
      "execution_count": 90,
      "outputs": [
        {
          "output_type": "execute_result",
          "data": {
            "text/plain": [
              "GridSearchCV(estimator=Pipeline(steps=[('ss', StandardScaler()),\n",
              "                                       ('knn', KNeighborsClassifier())]),\n",
              "             param_grid={'knn__n_neighbors': [2, 3, 4, 5]})"
            ]
          },
          "metadata": {},
          "execution_count": 90
        }
      ]
    },
    {
      "cell_type": "code",
      "source": [
        "grid.cv_results_"
      ],
      "metadata": {
        "colab": {
          "base_uri": "https://localhost:8080/"
        },
        "id": "yUE9tf22gZla",
        "outputId": "61181170-c8e2-4457-a94a-66236ee3fd44"
      },
      "execution_count": 82,
      "outputs": [
        {
          "output_type": "execute_result",
          "data": {
            "text/plain": [
              "{'mean_fit_time': array([0.00836835, 0.00376496, 0.00414238, 0.00375781]),\n",
              " 'std_fit_time': array([5.99865077e-03, 8.03950277e-05, 2.49530238e-04, 2.89218934e-05]),\n",
              " 'mean_score_time': array([0.00393615, 0.0032661 , 0.00341177, 0.00338373]),\n",
              " 'std_score_time': array([0.00077787, 0.00013343, 0.00021317, 0.00011059]),\n",
              " 'param_knn__n_neighbors': masked_array(data=[2, 3, 4, 5],\n",
              "              mask=[False, False, False, False],\n",
              "        fill_value='?',\n",
              "             dtype=object),\n",
              " 'params': [{'knn__n_neighbors': 2},\n",
              "  {'knn__n_neighbors': 3},\n",
              "  {'knn__n_neighbors': 4},\n",
              "  {'knn__n_neighbors': 5}],\n",
              " 'split0_test_score': array([0.91666667, 0.88888889, 0.88888889, 0.94444444]),\n",
              " 'split1_test_score': array([0.94444444, 0.94444444, 0.94444444, 0.94444444]),\n",
              " 'split2_test_score': array([0.94444444, 0.97222222, 0.97222222, 0.97222222]),\n",
              " 'split3_test_score': array([1., 1., 1., 1.]),\n",
              " 'split4_test_score': array([0.91428571, 0.91428571, 0.91428571, 0.88571429]),\n",
              " 'mean_test_score': array([0.94396825, 0.94396825, 0.94396825, 0.94936508]),\n",
              " 'std_test_score': array([0.03087536, 0.03963044, 0.03963044, 0.03791093]),\n",
              " 'rank_test_score': array([2, 2, 2, 1], dtype=int32)}"
            ]
          },
          "metadata": {},
          "execution_count": 82
        }
      ]
    },
    {
      "cell_type": "code",
      "source": [
        "pd.DataFrame(grid.cv_results_).T"
      ],
      "metadata": {
        "colab": {
          "base_uri": "https://localhost:8080/",
          "height": 488
        },
        "id": "X4X3TTsYgsgy",
        "outputId": "b104c100-86c7-412f-b9f8-849b700a903a"
      },
      "execution_count": 91,
      "outputs": [
        {
          "output_type": "execute_result",
          "data": {
            "text/plain": [
              "                                              0                        1  \\\n",
              "mean_fit_time                          0.004063                 0.004126   \n",
              "std_fit_time                           0.000295                 0.000306   \n",
              "mean_score_time                        0.003286                 0.003812   \n",
              "std_score_time                         0.000047                 0.001124   \n",
              "param_knn__n_neighbors                        2                        3   \n",
              "params                  {'knn__n_neighbors': 2}  {'knn__n_neighbors': 3}   \n",
              "split0_test_score                      0.916667                 0.888889   \n",
              "split1_test_score                      0.944444                 0.944444   \n",
              "split2_test_score                      0.944444                 0.972222   \n",
              "split3_test_score                           1.0                      1.0   \n",
              "split4_test_score                      0.914286                 0.914286   \n",
              "mean_test_score                        0.943968                 0.943968   \n",
              "std_test_score                         0.030875                  0.03963   \n",
              "rank_test_score                               2                        2   \n",
              "\n",
              "                                              2                        3  \n",
              "mean_fit_time                          0.004555                 0.004254  \n",
              "std_fit_time                           0.000496                 0.000612  \n",
              "mean_score_time                        0.003589                 0.003834  \n",
              "std_score_time                         0.000248                 0.000918  \n",
              "param_knn__n_neighbors                        4                        5  \n",
              "params                  {'knn__n_neighbors': 4}  {'knn__n_neighbors': 5}  \n",
              "split0_test_score                      0.888889                 0.944444  \n",
              "split1_test_score                      0.944444                 0.944444  \n",
              "split2_test_score                      0.972222                 0.972222  \n",
              "split3_test_score                           1.0                      1.0  \n",
              "split4_test_score                      0.914286                 0.885714  \n",
              "mean_test_score                        0.943968                 0.949365  \n",
              "std_test_score                          0.03963                 0.037911  \n",
              "rank_test_score                               2                        1  "
            ],
            "text/html": [
              "\n",
              "  <div id=\"df-fceda0b8-e395-449f-9f3a-e4db4942db58\">\n",
              "    <div class=\"colab-df-container\">\n",
              "      <div>\n",
              "<style scoped>\n",
              "    .dataframe tbody tr th:only-of-type {\n",
              "        vertical-align: middle;\n",
              "    }\n",
              "\n",
              "    .dataframe tbody tr th {\n",
              "        vertical-align: top;\n",
              "    }\n",
              "\n",
              "    .dataframe thead th {\n",
              "        text-align: right;\n",
              "    }\n",
              "</style>\n",
              "<table border=\"1\" class=\"dataframe\">\n",
              "  <thead>\n",
              "    <tr style=\"text-align: right;\">\n",
              "      <th></th>\n",
              "      <th>0</th>\n",
              "      <th>1</th>\n",
              "      <th>2</th>\n",
              "      <th>3</th>\n",
              "    </tr>\n",
              "  </thead>\n",
              "  <tbody>\n",
              "    <tr>\n",
              "      <th>mean_fit_time</th>\n",
              "      <td>0.004063</td>\n",
              "      <td>0.004126</td>\n",
              "      <td>0.004555</td>\n",
              "      <td>0.004254</td>\n",
              "    </tr>\n",
              "    <tr>\n",
              "      <th>std_fit_time</th>\n",
              "      <td>0.000295</td>\n",
              "      <td>0.000306</td>\n",
              "      <td>0.000496</td>\n",
              "      <td>0.000612</td>\n",
              "    </tr>\n",
              "    <tr>\n",
              "      <th>mean_score_time</th>\n",
              "      <td>0.003286</td>\n",
              "      <td>0.003812</td>\n",
              "      <td>0.003589</td>\n",
              "      <td>0.003834</td>\n",
              "    </tr>\n",
              "    <tr>\n",
              "      <th>std_score_time</th>\n",
              "      <td>0.000047</td>\n",
              "      <td>0.001124</td>\n",
              "      <td>0.000248</td>\n",
              "      <td>0.000918</td>\n",
              "    </tr>\n",
              "    <tr>\n",
              "      <th>param_knn__n_neighbors</th>\n",
              "      <td>2</td>\n",
              "      <td>3</td>\n",
              "      <td>4</td>\n",
              "      <td>5</td>\n",
              "    </tr>\n",
              "    <tr>\n",
              "      <th>params</th>\n",
              "      <td>{'knn__n_neighbors': 2}</td>\n",
              "      <td>{'knn__n_neighbors': 3}</td>\n",
              "      <td>{'knn__n_neighbors': 4}</td>\n",
              "      <td>{'knn__n_neighbors': 5}</td>\n",
              "    </tr>\n",
              "    <tr>\n",
              "      <th>split0_test_score</th>\n",
              "      <td>0.916667</td>\n",
              "      <td>0.888889</td>\n",
              "      <td>0.888889</td>\n",
              "      <td>0.944444</td>\n",
              "    </tr>\n",
              "    <tr>\n",
              "      <th>split1_test_score</th>\n",
              "      <td>0.944444</td>\n",
              "      <td>0.944444</td>\n",
              "      <td>0.944444</td>\n",
              "      <td>0.944444</td>\n",
              "    </tr>\n",
              "    <tr>\n",
              "      <th>split2_test_score</th>\n",
              "      <td>0.944444</td>\n",
              "      <td>0.972222</td>\n",
              "      <td>0.972222</td>\n",
              "      <td>0.972222</td>\n",
              "    </tr>\n",
              "    <tr>\n",
              "      <th>split3_test_score</th>\n",
              "      <td>1.0</td>\n",
              "      <td>1.0</td>\n",
              "      <td>1.0</td>\n",
              "      <td>1.0</td>\n",
              "    </tr>\n",
              "    <tr>\n",
              "      <th>split4_test_score</th>\n",
              "      <td>0.914286</td>\n",
              "      <td>0.914286</td>\n",
              "      <td>0.914286</td>\n",
              "      <td>0.885714</td>\n",
              "    </tr>\n",
              "    <tr>\n",
              "      <th>mean_test_score</th>\n",
              "      <td>0.943968</td>\n",
              "      <td>0.943968</td>\n",
              "      <td>0.943968</td>\n",
              "      <td>0.949365</td>\n",
              "    </tr>\n",
              "    <tr>\n",
              "      <th>std_test_score</th>\n",
              "      <td>0.030875</td>\n",
              "      <td>0.03963</td>\n",
              "      <td>0.03963</td>\n",
              "      <td>0.037911</td>\n",
              "    </tr>\n",
              "    <tr>\n",
              "      <th>rank_test_score</th>\n",
              "      <td>2</td>\n",
              "      <td>2</td>\n",
              "      <td>2</td>\n",
              "      <td>1</td>\n",
              "    </tr>\n",
              "  </tbody>\n",
              "</table>\n",
              "</div>\n",
              "      <button class=\"colab-df-convert\" onclick=\"convertToInteractive('df-fceda0b8-e395-449f-9f3a-e4db4942db58')\"\n",
              "              title=\"Convert this dataframe to an interactive table.\"\n",
              "              style=\"display:none;\">\n",
              "        \n",
              "  <svg xmlns=\"http://www.w3.org/2000/svg\" height=\"24px\"viewBox=\"0 0 24 24\"\n",
              "       width=\"24px\">\n",
              "    <path d=\"M0 0h24v24H0V0z\" fill=\"none\"/>\n",
              "    <path d=\"M18.56 5.44l.94 2.06.94-2.06 2.06-.94-2.06-.94-.94-2.06-.94 2.06-2.06.94zm-11 1L8.5 8.5l.94-2.06 2.06-.94-2.06-.94L8.5 2.5l-.94 2.06-2.06.94zm10 10l.94 2.06.94-2.06 2.06-.94-2.06-.94-.94-2.06-.94 2.06-2.06.94z\"/><path d=\"M17.41 7.96l-1.37-1.37c-.4-.4-.92-.59-1.43-.59-.52 0-1.04.2-1.43.59L10.3 9.45l-7.72 7.72c-.78.78-.78 2.05 0 2.83L4 21.41c.39.39.9.59 1.41.59.51 0 1.02-.2 1.41-.59l7.78-7.78 2.81-2.81c.8-.78.8-2.07 0-2.86zM5.41 20L4 18.59l7.72-7.72 1.47 1.35L5.41 20z\"/>\n",
              "  </svg>\n",
              "      </button>\n",
              "      \n",
              "  <style>\n",
              "    .colab-df-container {\n",
              "      display:flex;\n",
              "      flex-wrap:wrap;\n",
              "      gap: 12px;\n",
              "    }\n",
              "\n",
              "    .colab-df-convert {\n",
              "      background-color: #E8F0FE;\n",
              "      border: none;\n",
              "      border-radius: 50%;\n",
              "      cursor: pointer;\n",
              "      display: none;\n",
              "      fill: #1967D2;\n",
              "      height: 32px;\n",
              "      padding: 0 0 0 0;\n",
              "      width: 32px;\n",
              "    }\n",
              "\n",
              "    .colab-df-convert:hover {\n",
              "      background-color: #E2EBFA;\n",
              "      box-shadow: 0px 1px 2px rgba(60, 64, 67, 0.3), 0px 1px 3px 1px rgba(60, 64, 67, 0.15);\n",
              "      fill: #174EA6;\n",
              "    }\n",
              "\n",
              "    [theme=dark] .colab-df-convert {\n",
              "      background-color: #3B4455;\n",
              "      fill: #D2E3FC;\n",
              "    }\n",
              "\n",
              "    [theme=dark] .colab-df-convert:hover {\n",
              "      background-color: #434B5C;\n",
              "      box-shadow: 0px 1px 3px 1px rgba(0, 0, 0, 0.15);\n",
              "      filter: drop-shadow(0px 1px 2px rgba(0, 0, 0, 0.3));\n",
              "      fill: #FFFFFF;\n",
              "    }\n",
              "  </style>\n",
              "\n",
              "      <script>\n",
              "        const buttonEl =\n",
              "          document.querySelector('#df-fceda0b8-e395-449f-9f3a-e4db4942db58 button.colab-df-convert');\n",
              "        buttonEl.style.display =\n",
              "          google.colab.kernel.accessAllowed ? 'block' : 'none';\n",
              "\n",
              "        async function convertToInteractive(key) {\n",
              "          const element = document.querySelector('#df-fceda0b8-e395-449f-9f3a-e4db4942db58');\n",
              "          const dataTable =\n",
              "            await google.colab.kernel.invokeFunction('convertToInteractive',\n",
              "                                                     [key], {});\n",
              "          if (!dataTable) return;\n",
              "\n",
              "          const docLinkHtml = 'Like what you see? Visit the ' +\n",
              "            '<a target=\"_blank\" href=https://colab.research.google.com/notebooks/data_table.ipynb>data table notebook</a>'\n",
              "            + ' to learn more about interactive tables.';\n",
              "          element.innerHTML = '';\n",
              "          dataTable['output_type'] = 'display_data';\n",
              "          await google.colab.output.renderOutput(dataTable, element);\n",
              "          const docLink = document.createElement('div');\n",
              "          docLink.innerHTML = docLinkHtml;\n",
              "          element.appendChild(docLink);\n",
              "        }\n",
              "      </script>\n",
              "    </div>\n",
              "  </div>\n",
              "  "
            ]
          },
          "metadata": {},
          "execution_count": 91
        }
      ]
    },
    {
      "cell_type": "code",
      "source": [],
      "metadata": {
        "id": "G4_-o0OMg8xq"
      },
      "execution_count": null,
      "outputs": []
    }
  ]
}