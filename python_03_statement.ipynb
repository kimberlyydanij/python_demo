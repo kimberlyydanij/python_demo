{
  "nbformat": 4,
  "nbformat_minor": 0,
  "metadata": {
    "colab": {
      "provenance": [],
      "authorship_tag": "ABX9TyMi9UQXnT8eGQ+9KQGslf0v",
      "include_colab_link": true
    },
    "kernelspec": {
      "name": "python3",
      "display_name": "Python 3"
    },
    "language_info": {
      "name": "python"
    }
  },
  "cells": [
    {
      "cell_type": "markdown",
      "metadata": {
        "id": "view-in-github",
        "colab_type": "text"
      },
      "source": [
        "<a href=\"https://colab.research.google.com/github/kimberlyydanij/python_demo/blob/master/python_03_statement.ipynb\" target=\"_parent\"><img src=\"https://colab.research.google.com/assets/colab-badge.svg\" alt=\"Open In Colab\"/></a>"
      ]
    },
    {
      "cell_type": "code",
      "execution_count": null,
      "metadata": {
        "colab": {
          "base_uri": "https://localhost:8080/"
        },
        "id": "tH_hUrFVr3eD",
        "outputId": "508c92cb-816e-49b8-f8d1-b4493ecdcbca"
      },
      "outputs": [
        {
          "output_type": "stream",
          "name": "stdout",
          "text": [
            "NO\n"
          ]
        }
      ],
      "source": [
        "a=1\n",
        "if a>3 : \n",
        "  print ('YES')\n",
        "else:\n",
        "  print('NO')"
      ]
    },
    {
      "cell_type": "code",
      "source": [
        "if a>0:\n",
        "  print('YES')\n",
        "  print('Ok')\n",
        "else:\n",
        "  print('No')"
      ],
      "metadata": {
        "colab": {
          "base_uri": "https://localhost:8080/"
        },
        "id": "kKWRtSkAsbpb",
        "outputId": "51ea41af-ea87-47d6-9d4a-91d58ad3d34d"
      },
      "execution_count": null,
      "outputs": [
        {
          "output_type": "stream",
          "name": "stdout",
          "text": [
            "YES\n",
            "Ok\n"
          ]
        }
      ]
    },
    {
      "cell_type": "code",
      "source": [
        "#jumsu가 80이상 '상', 80미만~60이상 '중', 60미만 '하\n",
        "jumsu = 55\n",
        "if jumsu >=80:\n",
        "  print(\"상\")\n",
        "elif jumsu >=60:\n",
        "  print(\"중\")\n",
        "else:\n",
        "  print(\"하\")"
      ],
      "metadata": {
        "colab": {
          "base_uri": "https://localhost:8080/"
        },
        "id": "dVhQ40fwsqEI",
        "outputId": "a6022d86-d806-401f-dffd-11fbc1a6d57c"
      },
      "execution_count": null,
      "outputs": [
        {
          "output_type": "stream",
          "name": "stdout",
          "text": [
            "하\n"
          ]
        }
      ]
    },
    {
      "cell_type": "markdown",
      "source": [
        "exixtance\n",
        "python에서 조건은 존재론(existance)적이다 -> truthy, falsy"
      ],
      "metadata": {
        "id": "eCqBXB6utqbu"
      }
    },
    {
      "cell_type": "code",
      "source": [
        "# 0은 숫자가 없는 것과 같음 -> falsy\n",
        "a = 0.0\n",
        "if a:\n",
        "  print('Yes')\n",
        "else:\n",
        "  print('No')\n"
      ],
      "metadata": {
        "colab": {
          "base_uri": "https://localhost:8080/"
        },
        "id": "8X5hUQGitzXD",
        "outputId": "1b466c2e-706f-4253-81c6-d038fd77def1"
      },
      "execution_count": null,
      "outputs": [
        {
          "output_type": "stream",
          "name": "stdout",
          "text": [
            "No\n"
          ]
        }
      ]
    },
    {
      "cell_type": "code",
      "source": [
        "#case of java\n",
        "String data=\"a\";\n",
        "if(data) {\n",
        "    \n",
        "}"
      ],
      "metadata": {
        "id": "qdEbZnnnuYN-"
      },
      "execution_count": null,
      "outputs": []
    },
    {
      "cell_type": "code",
      "source": [
        "#case if Js\n",
        "let data=\"a\";\n",
        "if(data) {\n",
        "    \n",
        "}"
      ],
      "metadata": {
        "id": "CUMnEu5UuNV4"
      },
      "execution_count": null,
      "outputs": []
    },
    {
      "cell_type": "code",
      "source": [
        "# None은 객체가 없는 것과 같음 -> falsy\n",
        "a = None\n",
        "if a:\n",
        "  print('Yes')\n",
        "else:\n",
        "  print('No')"
      ],
      "metadata": {
        "colab": {
          "base_uri": "https://localhost:8080/"
        },
        "id": "DRwxx9VTufOl",
        "outputId": "8baeda88-152d-4c8c-c377-a0b94fd7db13"
      },
      "execution_count": null,
      "outputs": [
        {
          "output_type": "stream",
          "name": "stdout",
          "text": [
            "No\n"
          ]
        }
      ]
    },
    {
      "cell_type": "code",
      "source": [
        "#비어있는 dict은 없는 것과 같음 -> falsy\n",
        "a = {}\n",
        "if a:\n",
        "  print('Yes')\n",
        "else:\n",
        "  print('No')\n",
        "  "
      ],
      "metadata": {
        "colab": {
          "base_uri": "https://localhost:8080/"
        },
        "id": "Hx0LRQyUvNGq",
        "outputId": "d59f1148-d647-492a-9e9e-06b2d18a8e48"
      },
      "execution_count": null,
      "outputs": [
        {
          "output_type": "stream",
          "name": "stdout",
          "text": [
            "No\n"
          ]
        }
      ]
    },
    {
      "cell_type": "code",
      "source": [
        "#인스턴스 방식으로 값을 만들 때 괄호 안이 비어 있으면 비어 있는 값을 만든다.\n",
        "#if 에서 모두 false이다.\n",
        "a = int()\n",
        "b = float()\n",
        "c = complex()\n",
        "d = list()"
      ],
      "metadata": {
        "id": "iaodtFbfvlLU"
      },
      "execution_count": null,
      "outputs": []
    },
    {
      "cell_type": "code",
      "source": [
        "if a:\n",
        "  print(\"yes\")\n",
        "else:\n",
        "  print('no')"
      ],
      "metadata": {
        "colab": {
          "base_uri": "https://localhost:8080/"
        },
        "id": "smVBqK7Rv0UI",
        "outputId": "26a321cf-20e4-4bcd-e3a4-19b53019b7b7"
      },
      "execution_count": null,
      "outputs": [
        {
          "output_type": "stream",
          "name": "stdout",
          "text": [
            "no\n"
          ]
        }
      ]
    },
    {
      "cell_type": "code",
      "source": [
        "3<2 or 4<5"
      ],
      "metadata": {
        "colab": {
          "base_uri": "https://localhost:8080/"
        },
        "id": "-Qh54A9nwFPe",
        "outputId": "a7dd24e5-645b-4ceb-b287-98c0de136c4b"
      },
      "execution_count": null,
      "outputs": [
        {
          "output_type": "execute_result",
          "data": {
            "text/plain": [
              "True"
            ]
          },
          "metadata": {},
          "execution_count": 10
        }
      ]
    },
    {
      "cell_type": "code",
      "source": [
        "# and는 앞이 True 이면 뒤에 값을 반환한다.\n",
        "# 3은 존재론 적으로 True\n",
        "3 and 4"
      ],
      "metadata": {
        "colab": {
          "base_uri": "https://localhost:8080/"
        },
        "id": "z_ldUATfx6e8",
        "outputId": "b736fcff-7d85-40c1-af24-c4bc11f72e83"
      },
      "execution_count": null,
      "outputs": [
        {
          "output_type": "execute_result",
          "data": {
            "text/plain": [
              "4"
            ]
          },
          "metadata": {},
          "execution_count": 11
        }
      ]
    },
    {
      "cell_type": "code",
      "source": [
        "#and는 앞이 False이면 앞의 값을 반환한다.\n",
        "#비어 있는 문자열은 없는 것과 같은 ->  falsy\n",
        "\"\" and 4"
      ],
      "metadata": {
        "colab": {
          "base_uri": "https://localhost:8080/",
          "height": 35
        },
        "id": "H7miAXuoyc5A",
        "outputId": "c315a981-a4b0-43e6-d499-7303dca0323e"
      },
      "execution_count": null,
      "outputs": [
        {
          "output_type": "execute_result",
          "data": {
            "text/plain": [
              "''"
            ],
            "application/vnd.google.colaboratory.intrinsic+json": {
              "type": "string"
            }
          },
          "metadata": {},
          "execution_count": 12
        }
      ]
    },
    {
      "cell_type": "code",
      "source": [
        "# or는 and의 반대\n",
        "# 앞이 true이면 앞, 앞이 false이면 뒤의 값을 반환한다.\n",
        "3 or 4"
      ],
      "metadata": {
        "colab": {
          "base_uri": "https://localhost:8080/"
        },
        "id": "cG1czf9Dypx-",
        "outputId": "2f31cf98-1909-4e7e-d6c0-f94e5f436abd"
      },
      "execution_count": null,
      "outputs": [
        {
          "output_type": "execute_result",
          "data": {
            "text/plain": [
              "3"
            ]
          },
          "metadata": {},
          "execution_count": 14
        }
      ]
    },
    {
      "cell_type": "code",
      "source": [
        "\"\" or 4"
      ],
      "metadata": {
        "colab": {
          "base_uri": "https://localhost:8080/"
        },
        "id": "M3uienRSzH4e",
        "outputId": "bc3a9ba3-3a9b-4e8a-8610-914dafba3037"
      },
      "execution_count": null,
      "outputs": [
        {
          "output_type": "execute_result",
          "data": {
            "text/plain": [
              "4"
            ]
          },
          "metadata": {},
          "execution_count": 15
        }
      ]
    },
    {
      "cell_type": "code",
      "source": [
        "if a=4:\n",
        "  print('yes')"
      ],
      "metadata": {
        "colab": {
          "base_uri": "https://localhost:8080/",
          "height": 137
        },
        "id": "FWvPScFhzKBg",
        "outputId": "82874cde-e3a6-4222-d2c9-cfadca427e2c"
      },
      "execution_count": null,
      "outputs": [
        {
          "output_type": "error",
          "ename": "SyntaxError",
          "evalue": "ignored",
          "traceback": [
            "\u001b[0;36m  File \u001b[0;32m\"<ipython-input-16-c81c48768b36>\"\u001b[0;36m, line \u001b[0;32m1\u001b[0m\n\u001b[0;31m    if a=4:\u001b[0m\n\u001b[0m        ^\u001b[0m\n\u001b[0;31mSyntaxError\u001b[0m\u001b[0;31m:\u001b[0m invalid syntax\n"
          ]
        }
      ]
    },
    {
      "cell_type": "markdown",
      "source": [
        "### 반복문\n",
        "반복문에서 else는 반복문이 완벽하게 끝났을 때 실행된다.\n",
        "대부분의 프로그래밍 언어는  while과 for를 지원한다."
      ],
      "metadata": {
        "id": "fTF-Jlq--pCk"
      }
    },
    {
      "cell_type": "code",
      "source": [
        "#아래는 while문이 완벽히 돌았으므로 end가 출력된다.\n",
        "a = 20;\n",
        "while a>10:\n",
        "  a -= 1\n",
        "  print(a)\n",
        "else:\n",
        "  print('end')"
      ],
      "metadata": {
        "id": "m8xz-HEx3fzd",
        "colab": {
          "base_uri": "https://localhost:8080/"
        },
        "outputId": "ceda4e21-abfe-44fd-e81d-ddaed46c53e1"
      },
      "execution_count": 22,
      "outputs": [
        {
          "output_type": "stream",
          "name": "stdout",
          "text": [
            "19\n",
            "18\n",
            "17\n",
            "16\n",
            "15\n",
            "14\n",
            "13\n",
            "12\n",
            "11\n",
            "10\n",
            "end\n"
          ]
        }
      ]
    },
    {
      "cell_type": "code",
      "source": [
        "#break는 반복문을 중단시킨다.\n",
        "#break가 실행되면 반복문이 완벽하게 실행된 것이 아니므로 else가 실행되지 않는다.\n",
        "a = 10\n",
        "while a>1:\n",
        "  a-=1\n",
        "  if a==5:\n",
        "    break #중단\n",
        "  print(a)\n",
        "else:\n",
        "    print(\"end\")"
      ],
      "metadata": {
        "colab": {
          "base_uri": "https://localhost:8080/"
        },
        "id": "KWjXQSGr-gCe",
        "outputId": "49f0ddc7-8aa5-451f-c417-94a33ffd0b6f"
      },
      "execution_count": 24,
      "outputs": [
        {
          "output_type": "stream",
          "name": "stdout",
          "text": [
            "9\n",
            "8\n",
            "7\n",
            "6\n"
          ]
        }
      ]
    },
    {
      "cell_type": "code",
      "source": [
        "# continue는 다음 루프로 바로 넘어간다.\n",
        "# 반복문을 중단하지는 않으므로 else문이 실행된다.\n",
        "a = 10\n",
        "while a>1:\n",
        "  a -= 1\n",
        "  if a==5:\n",
        "    continue\n",
        "  print(a)\n",
        "else:\n",
        "  print('end')"
      ],
      "metadata": {
        "colab": {
          "base_uri": "https://localhost:8080/"
        },
        "id": "8lkNFR_a_92D",
        "outputId": "044cec52-2fa3-47f3-8db6-2373068dbdf8"
      },
      "execution_count": 25,
      "outputs": [
        {
          "output_type": "stream",
          "name": "stdout",
          "text": [
            "9\n",
            "8\n",
            "7\n",
            "6\n",
            "4\n",
            "3\n",
            "2\n",
            "1\n",
            "end\n"
          ]
        }
      ]
    },
    {
      "cell_type": "code",
      "source": [
        "for k,v in enumerate(['apple','phthon','microsoft']):\n",
        "  print('{0}: {1}'.format(k,v))"
      ],
      "metadata": {
        "colab": {
          "base_uri": "https://localhost:8080/"
        },
        "id": "oOZ5PwxvJaPZ",
        "outputId": "e24ff6d5-1b63-408d-93d3-675970e1118e"
      },
      "execution_count": 27,
      "outputs": [
        {
          "output_type": "stream",
          "name": "stdout",
          "text": [
            "0: apple\n",
            "1: phthon\n",
            "2: microsoft\n"
          ]
        }
      ]
    },
    {
      "cell_type": "code",
      "source": [
        "for j in enumerate(['apple','phthon','microsoft'],1):\n",
        "\n",
        "  print('{0}'.format(j))"
      ],
      "metadata": {
        "colab": {
          "base_uri": "https://localhost:8080/"
        },
        "id": "FPbEosZJLQRF",
        "outputId": "40e4b38a-dd78-49af-8b62-282440c74b30"
      },
      "execution_count": 28,
      "outputs": [
        {
          "output_type": "stream",
          "name": "stdout",
          "text": [
            "(1, 'apple')\n",
            "(2, 'phthon')\n",
            "(3, 'microsoft')\n"
          ]
        }
      ]
    },
    {
      "cell_type": "code",
      "source": [
        "# zip  함수 : 매개 인자로 여러 목록을 받아 각 목록의 요소를 튜플에 담아 목록에 저장한다.\n",
        "a = [1,2,3,4,5]\n",
        "b = ['a','b','c','d','e']\n",
        "\n",
        "for x,y in zip (a,b):\n",
        "  print(x,y)\n",
        "  t=x,y\n",
        "print(type(t))"
      ],
      "metadata": {
        "colab": {
          "base_uri": "https://localhost:8080/"
        },
        "id": "b7mMh2LpLp84",
        "outputId": "b25d1a8e-7583-4aa8-9754-67363f2d4830"
      },
      "execution_count": 29,
      "outputs": [
        {
          "output_type": "stream",
          "name": "stdout",
          "text": [
            "1 a\n",
            "2 b\n",
            "3 c\n",
            "4 d\n",
            "5 e\n",
            "<class 'tuple'>\n"
          ]
        }
      ]
    },
    {
      "cell_type": "markdown",
      "source": [
        "# 예외(Exception)\n",
        "모든 예외는 클래스로 표현되며 최상위 클래스는 BaseException 클래스 이다.\n",
        "### 예외상황 :\n",
        "1.0으로 숫자 나누기\n",
        "2.문자열과 숫자 더하기\n",
        "3.참조 범위를 넘어서 인덱스 참조하기\n",
        "4.등록되어 있지 않은 키로 사전 검색하기\n",
        "\n",
        "\n"
      ],
      "metadata": {
        "id": "V9l1u9faOGgh"
      }
    },
    {
      "cell_type": "code",
      "source": [
        "# 0으로 숫자 나누기\n",
        "a, b = 5,0\n",
        "c = a/ b   #ZeroDivisionError   "
      ],
      "metadata": {
        "colab": {
          "base_uri": "https://localhost:8080/",
          "height": 193
        },
        "id": "M3i9fW88PDtK",
        "outputId": "1f1587c1-6ecf-439f-b37e-cc904d44fa98"
      },
      "execution_count": 34,
      "outputs": [
        {
          "output_type": "error",
          "ename": "ZeroDivisionError",
          "evalue": "ignored",
          "traceback": [
            "\u001b[0;31m---------------------------------------------------------------------------\u001b[0m",
            "\u001b[0;31mZeroDivisionError\u001b[0m                         Traceback (most recent call last)",
            "\u001b[0;32m<ipython-input-34-032518fab761>\u001b[0m in \u001b[0;36m<module>\u001b[0;34m\u001b[0m\n\u001b[1;32m      1\u001b[0m \u001b[0ma\u001b[0m\u001b[0;34m,\u001b[0m \u001b[0mb\u001b[0m \u001b[0;34m=\u001b[0m \u001b[0;36m5\u001b[0m\u001b[0;34m,\u001b[0m\u001b[0;36m0\u001b[0m\u001b[0;34m\u001b[0m\u001b[0;34m\u001b[0m\u001b[0m\n\u001b[0;32m----> 2\u001b[0;31m \u001b[0mc\u001b[0m \u001b[0;34m=\u001b[0m \u001b[0ma\u001b[0m\u001b[0;34m/\u001b[0m \u001b[0mb\u001b[0m\u001b[0;34m\u001b[0m\u001b[0;34m\u001b[0m\u001b[0m\n\u001b[0m",
            "\u001b[0;31mZeroDivisionError\u001b[0m: division by zero"
          ]
        }
      ]
    },
    {
      "cell_type": "code",
      "source": [
        "# 정의되지 않은 변수를 사용하면 NameError 발생\n",
        "4 + spam + 3  #NameError    "
      ],
      "metadata": {
        "colab": {
          "base_uri": "https://localhost:8080/",
          "height": 193
        },
        "id": "HJD0HU6gORoj",
        "outputId": "24742ef1-a944-4f19-ff22-ea5e7acd15d1"
      },
      "execution_count": 35,
      "outputs": [
        {
          "output_type": "error",
          "ename": "NameError",
          "evalue": "ignored",
          "traceback": [
            "\u001b[0;31m---------------------------------------------------------------------------\u001b[0m",
            "\u001b[0;31mNameError\u001b[0m                                 Traceback (most recent call last)",
            "\u001b[0;32m<ipython-input-35-e117b66345a8>\u001b[0m in \u001b[0;36m<module>\u001b[0;34m\u001b[0m\n\u001b[1;32m      1\u001b[0m \u001b[0;31m# 정의되지 않은 변수를 사용하면 NameError 발생\u001b[0m\u001b[0;34m\u001b[0m\u001b[0;34m\u001b[0m\u001b[0;34m\u001b[0m\u001b[0m\n\u001b[0;32m----> 2\u001b[0;31m \u001b[0;36m4\u001b[0m \u001b[0;34m+\u001b[0m \u001b[0mspam\u001b[0m \u001b[0;34m+\u001b[0m \u001b[0;36m3\u001b[0m\u001b[0;34m\u001b[0m\u001b[0;34m\u001b[0m\u001b[0m\n\u001b[0m",
            "\u001b[0;31mNameError\u001b[0m: name 'spam' is not defined"
          ]
        }
      ]
    },
    {
      "cell_type": "code",
      "source": [
        "# 숫자가 아닌 데이터를 int로 변경할때 ValueError 발생\n",
        "# 연산중에 인수의 타입이 맞지 않으면 typeerror 발생\n",
        "\n",
        "'2' + 2  #TypeError   \n"
      ],
      "metadata": {
        "colab": {
          "base_uri": "https://localhost:8080/",
          "height": 211
        },
        "id": "sI1zGpRiP1G8",
        "outputId": "477791e0-d2d6-43c6-9d54-0fa8afe2793e"
      },
      "execution_count": 36,
      "outputs": [
        {
          "output_type": "error",
          "ename": "TypeError",
          "evalue": "ignored",
          "traceback": [
            "\u001b[0;31m---------------------------------------------------------------------------\u001b[0m",
            "\u001b[0;31mTypeError\u001b[0m                                 Traceback (most recent call last)",
            "\u001b[0;32m<ipython-input-36-8f62d089bdc4>\u001b[0m in \u001b[0;36m<module>\u001b[0;34m\u001b[0m\n\u001b[1;32m      2\u001b[0m \u001b[0;31m# 연산중에 인수의 타입이 맞지 않으면 typeerror 발생\u001b[0m\u001b[0;34m\u001b[0m\u001b[0;34m\u001b[0m\u001b[0;34m\u001b[0m\u001b[0m\n\u001b[1;32m      3\u001b[0m \u001b[0;34m\u001b[0m\u001b[0m\n\u001b[0;32m----> 4\u001b[0;31m \u001b[0;34m'2'\u001b[0m \u001b[0;34m+\u001b[0m \u001b[0;36m2\u001b[0m\u001b[0;34m\u001b[0m\u001b[0;34m\u001b[0m\u001b[0m\n\u001b[0m",
            "\u001b[0;31mTypeError\u001b[0m: can only concatenate str (not \"int\") to str"
          ]
        }
      ]
    }
  ]
}