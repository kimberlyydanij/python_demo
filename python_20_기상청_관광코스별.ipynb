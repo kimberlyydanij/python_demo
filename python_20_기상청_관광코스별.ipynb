{
  "nbformat": 4,
  "nbformat_minor": 0,
  "metadata": {
    "colab": {
      "provenance": [],
      "authorship_tag": "ABX9TyN/MsalIEtyPgWzI5KBWvmB",
      "include_colab_link": true
    },
    "kernelspec": {
      "name": "python3",
      "display_name": "Python 3"
    },
    "language_info": {
      "name": "python"
    }
  },
  "cells": [
    {
      "cell_type": "markdown",
      "metadata": {
        "id": "view-in-github",
        "colab_type": "text"
      },
      "source": [
        "<a href=\"https://colab.research.google.com/github/kimberlyydanij/python_demo/blob/master/python_20_%EA%B8%B0%EC%83%81%EC%B2%AD_%EA%B4%80%EA%B4%91%EC%BD%94%EC%8A%A4%EB%B3%84.ipynb\" target=\"_parent\"><img src=\"https://colab.research.google.com/assets/colab-badge.svg\" alt=\"Open In Colab\"/></a>"
      ]
    },
    {
      "cell_type": "code",
      "execution_count": 1,
      "metadata": {
        "colab": {
          "base_uri": "https://localhost:8080/"
        },
        "id": "IieUnug0ahz5",
        "outputId": "990b3937-6b4f-494a-b326-cbc7be6e7168"
      },
      "outputs": [
        {
          "output_type": "stream",
          "name": "stdout",
          "text": [
            "Mounted at /content/drive\n",
            "/content/drive/MyDrive/python_demo\n"
          ]
        }
      ],
      "source": [
        "from google.colab import drive\n",
        "drive.mount('/content/drive')\n",
        "\n",
        "%cd /content/drive/MyDrive/python_demo"
      ]
    },
    {
      "cell_type": "code",
      "source": [
        "!pip install xmltodict"
      ],
      "metadata": {
        "colab": {
          "base_uri": "https://localhost:8080/"
        },
        "id": "ZBiG8_4TcDAp",
        "outputId": "de56389e-1a09-479b-ba25-1c4c56b63f69"
      },
      "execution_count": 32,
      "outputs": [
        {
          "output_type": "stream",
          "name": "stdout",
          "text": [
            "Looking in indexes: https://pypi.org/simple, https://us-python.pkg.dev/colab-wheels/public/simple/\n",
            "Requirement already satisfied: xmltodict in /usr/local/lib/python3.8/dist-packages (0.13.0)\n"
          ]
        }
      ]
    },
    {
      "cell_type": "code",
      "source": [
        "import requests\n",
        "import json\n",
        "import xmltodict\n",
        "\n",
        "key = 'DpaGJWT8z2UB%2B4jpthtXI7wMnAGiKO6l8tAClScAgFca9rZh%2BDoA8kJ2N8fAesPPBV6J5W5yrWftE0wU6sFgWg%3D%3D'\n",
        "#key = 'DpaGJWT8z2UB+4jpthtXI7wMnAGiKO6l8tAClScAgFca9rZh+DoA8kJ2N8fAesPPBV6J5W5yrWftE0wU6sFgWg='\n",
        "\n",
        "url = 'http://apis.data.go.kr/1360000/TourStnInfoService/getTourStnVilageFcst'\n",
        "params ={'serviceKey' : 'key', 'pageNo' : '1', 'numOfRows' : '10', 'dataType' : 'XML', 'CURRENT_DATE' : '2019122010', 'HOUR' : '24', 'COURSE_ID' : '1' }\n",
        "\n",
        "response = requests.get(url, params=params)\n",
        "print(response.content)"
      ],
      "metadata": {
        "colab": {
          "base_uri": "https://localhost:8080/"
        },
        "id": "TmBe4rcpautG",
        "outputId": "5b1a9e64-4610-4cbe-ec45-c6663dcd7504"
      },
      "execution_count": 56,
      "outputs": [
        {
          "output_type": "stream",
          "name": "stdout",
          "text": [
            "b'<?xml version=\"1.0\" encoding=\"UTF-8\"?>\\r\\n<response><header><resultCode>00</resultCode><resultMsg>NORMAL_SERVICE</resultMsg></header><body><dataType>XML</dataType><items><item><tm>2019-12-22 09:00</tm><thema>\\xeb\\xac\\xb8\\xed\\x99\\x94/\\xec\\x98\\x88\\xec\\x88\\xa0</thema><courseId>1</courseId><courseAreaId>4700000000</courseAreaId><courseAreaName>\\xea\\xb2\\xbd\\xec\\x83\\x81\\xeb\\xb6\\x81\\xeb\\x8f\\x84</courseAreaName><courseName>\\xeb\\x82\\xa8\\xed\\x98\\xb8\\xea\\xb3\\xa0\\xed\\x83\\x9d\\xec\\x97\\x90\\xec\\x84\\x9c\\xec\\x9d\\x98 \\xed\\x95\\x98\\xeb\\xa3\\xbb\\xeb\\xb0\\xa4</courseName><spotAreaId>102</spotAreaId><spotAreaName>\\xeb\\xb4\\x89\\xed\\x99\\x94</spotAreaName><spotName>(\\xeb\\xb4\\x89\\xed\\x99\\x94)\\xec\\xb6\\x98\\xec\\x96\\x91\\xeb\\xaa\\xa9 \\xec\\x86\\xa1\\xec\\x9d\\xb4\\xeb\\xa7\\x88\\xec\\x9d\\x84</spotName><th3>-2</th3><wd>297</wd><ws>0</ws><sky>3</sky><rhm>90</rhm><pop>20</pop></item><item><tm>2019-12-22 09:00</tm><thema>\\xec\\xa2\\x85\\xea\\xb5\\x90/\\xec\\x97\\xad\\xec\\x82\\xac/\\xec\\xa0\\x84\\xed\\x86\\xb5</thema><courseId>1</courseId><courseAreaId>4700000000</courseAreaId><courseAreaName>\\xea\\xb2\\xbd\\xec\\x83\\x81\\xeb\\xb6\\x81\\xeb\\x8f\\x84</courseAreaName><courseName>\\xeb\\x82\\xa8\\xed\\x98\\xb8\\xea\\xb3\\xa0\\xed\\x83\\x9d\\xec\\x97\\x90\\xec\\x84\\x9c\\xec\\x9d\\x98 \\xed\\x95\\x98\\xeb\\xa3\\xbb\\xeb\\xb0\\xa4</courseName><spotAreaId>104</spotAreaId><spotAreaName>\\xeb\\xb4\\x89\\xed\\x99\\x94</spotAreaName><spotName>(\\xeb\\xb4\\x89\\xed\\x99\\x94)\\xea\\xb3\\x84\\xec\\x84\\x9c\\xeb\\x8b\\xb9(\\xec\\x84\\xb1\\xec\\x9d\\xb4\\xec\\x84\\xb1 \\xec\\x83\\x9d\\xea\\xb0\\x80)</spotName><th3>0</th3><wd>310</wd><ws>0</ws><sky>3</sky><rhm>85</rhm><pop>20</pop></item><item><tm>2019-12-22 09:00</tm><thema>\\xec\\x9e\\x90\\xec\\x97\\xb0/\\xed\\x9e\\x90\\xeb\\xa7\\x81</thema><courseId>1</courseId><courseAreaId>4700000000</courseAreaId><courseAreaName>\\xea\\xb2\\xbd\\xec\\x83\\x81\\xeb\\xb6\\x81\\xeb\\x8f\\x84</courseAreaName><courseName>\\xeb\\x82\\xa8\\xed\\x98\\xb8\\xea\\xb3\\xa0\\xed\\x83\\x9d\\xec\\x97\\x90\\xec\\x84\\x9c\\xec\\x9d\\x98 \\xed\\x95\\x98\\xeb\\xa3\\xbb\\xeb\\xb0\\xa4</courseName><spotAreaId>104</spotAreaId><spotAreaName>\\xeb\\xb4\\x89\\xed\\x99\\x94</spotAreaName><spotName>(\\xeb\\xb4\\x89\\xed\\x99\\x94)\\xea\\xb3\\x84\\xec\\x84\\x9c\\xeb\\x8b\\xb9(\\xec\\x84\\xb1\\xec\\x9d\\xb4\\xec\\x84\\xb1 \\xec\\x83\\x9d\\xea\\xb0\\x80)</spotName><th3>0</th3><wd>310</wd><ws>0</ws><sky>3</sky><rhm>85</rhm><pop>20</pop></item><item><tm>2019-12-22 09:00</tm><thema>\\xec\\xb2\\xb4\\xed\\x97\\x98/\\xed\\x95\\x99\\xec\\x8a\\xb5/\\xec\\x82\\xb0\\xec\\x97\\x85</thema><courseId>1</courseId><courseAreaId>4700000000</courseAreaId><courseAreaName>\\xea\\xb2\\xbd\\xec\\x83\\x81\\xeb\\xb6\\x81\\xeb\\x8f\\x84</courseAreaName><courseName>\\xeb\\x82\\xa8\\xed\\x98\\xb8\\xea\\xb3\\xa0\\xed\\x83\\x9d\\xec\\x97\\x90\\xec\\x84\\x9c\\xec\\x9d\\x98 \\xed\\x95\\x98\\xeb\\xa3\\xbb\\xeb\\xb0\\xa4</courseName><spotAreaId>104</spotAreaId><spotAreaName>\\xeb\\xb4\\x89\\xed\\x99\\x94</spotAreaName><spotName>(\\xeb\\xb4\\x89\\xed\\x99\\x94)\\xea\\xb3\\x84\\xec\\x84\\x9c\\xeb\\x8b\\xb9(\\xec\\x84\\xb1\\xec\\x9d\\xb4\\xec\\x84\\xb1 \\xec\\x83\\x9d\\xea\\xb0\\x80)</spotName><th3>0</th3><wd>310</wd><ws>0</ws><sky>3</sky><rhm>85</rhm><pop>20</pop></item><item><tm>2019-12-22 09:00</tm><thema>\\xeb\\xac\\xb8\\xed\\x99\\x94/\\xec\\x98\\x88\\xec\\x88\\xa0</thema><courseId>1</courseId><courseAreaId>4700000000</courseAreaId><courseAreaName>\\xea\\xb2\\xbd\\xec\\x83\\x81\\xeb\\xb6\\x81\\xeb\\x8f\\x84</courseAreaName><courseName>\\xeb\\x82\\xa8\\xed\\x98\\xb8\\xea\\xb3\\xa0\\xed\\x83\\x9d\\xec\\x97\\x90\\xec\\x84\\x9c\\xec\\x9d\\x98 \\xed\\x95\\x98\\xeb\\xa3\\xbb\\xeb\\xb0\\xa4</courseName><spotAreaId>103</spotAreaId><spotAreaName>\\xeb\\xb4\\x89\\xed\\x99\\x94</spotAreaName><spotName>(\\xeb\\xb4\\x89\\xed\\x99\\x94)\\xec\\xa7\\x80\\xeb\\xa6\\xbc\\xec\\x82\\xac</spotName><th3>0</th3><wd>309</wd><ws>0</ws><sky>3</sky><rhm>85</rhm><pop>20</pop></item><item><tm>2019-12-22 09:00</tm><thema>\\xec\\xa2\\x85\\xea\\xb5\\x90/\\xec\\x97\\xad\\xec\\x82\\xac/\\xec\\xa0\\x84\\xed\\x86\\xb5</thema><courseId>1</courseId><courseAreaId>4700000000</courseAreaId><courseAreaName>\\xea\\xb2\\xbd\\xec\\x83\\x81\\xeb\\xb6\\x81\\xeb\\x8f\\x84</courseAreaName><courseName>\\xeb\\x82\\xa8\\xed\\x98\\xb8\\xea\\xb3\\xa0\\xed\\x83\\x9d\\xec\\x97\\x90\\xec\\x84\\x9c\\xec\\x9d\\x98 \\xed\\x95\\x98\\xeb\\xa3\\xbb\\xeb\\xb0\\xa4</courseName><spotAreaId>103</spotAreaId><spotAreaName>\\xeb\\xb4\\x89\\xed\\x99\\x94</spotAreaName><spotName>(\\xeb\\xb4\\x89\\xed\\x99\\x94)\\xec\\xa7\\x80\\xeb\\xa6\\xbc\\xec\\x82\\xac</spotName><th3>0</th3><wd>309</wd><ws>0</ws><sky>3</sky><rhm>85</rhm><pop>20</pop></item><item><tm>2019-12-22 09:00</tm><thema>\\xec\\x9e\\x90\\xec\\x97\\xb0/\\xed\\x9e\\x90\\xeb\\xa7\\x81</thema><courseId>1</courseId><courseAreaId>4700000000</courseAreaId><courseAreaName>\\xea\\xb2\\xbd\\xec\\x83\\x81\\xeb\\xb6\\x81\\xeb\\x8f\\x84</courseAreaName><courseName>\\xeb\\x82\\xa8\\xed\\x98\\xb8\\xea\\xb3\\xa0\\xed\\x83\\x9d\\xec\\x97\\x90\\xec\\x84\\x9c\\xec\\x9d\\x98 \\xed\\x95\\x98\\xeb\\xa3\\xbb\\xeb\\xb0\\xa4</courseName><spotAreaId>103</spotAreaId><spotAreaName>\\xeb\\xb4\\x89\\xed\\x99\\x94</spotAreaName><spotName>(\\xeb\\xb4\\x89\\xed\\x99\\x94)\\xec\\xa7\\x80\\xeb\\xa6\\xbc\\xec\\x82\\xac</spotName><th3>0</th3><wd>309</wd><ws>0</ws><sky>3</sky><rhm>85</rhm><pop>20</pop></item><item><tm>2019-12-22 09:00</tm><thema>\\xec\\xb2\\xb4\\xed\\x97\\x98/\\xed\\x95\\x99\\xec\\x8a\\xb5/\\xec\\x82\\xb0\\xec\\x97\\x85</thema><courseId>1</courseId><courseAreaId>4700000000</courseAreaId><courseAreaName>\\xea\\xb2\\xbd\\xec\\x83\\x81\\xeb\\xb6\\x81\\xeb\\x8f\\x84</courseAreaName><courseName>\\xeb\\x82\\xa8\\xed\\x98\\xb8\\xea\\xb3\\xa0\\xed\\x83\\x9d\\xec\\x97\\x90\\xec\\x84\\x9c\\xec\\x9d\\x98 \\xed\\x95\\x98\\xeb\\xa3\\xbb\\xeb\\xb0\\xa4</courseName><spotAreaId>103</spotAreaId><spotAreaName>\\xeb\\xb4\\x89\\xed\\x99\\x94</spotAreaName><spotName>(\\xeb\\xb4\\x89\\xed\\x99\\x94)\\xec\\xa7\\x80\\xeb\\xa6\\xbc\\xec\\x82\\xac</spotName><th3>0</th3><wd>309</wd><ws>0</ws><sky>3</sky><rhm>85</rhm><pop>20</pop></item><item><tm>2019-12-22 09:00</tm><thema>\\xeb\\xac\\xb8\\xed\\x99\\x94/\\xec\\x98\\x88\\xec\\x88\\xa0</thema><courseId>1</courseId><courseAreaId>4700000000</courseAreaId><courseAreaName>\\xea\\xb2\\xbd\\xec\\x83\\x81\\xeb\\xb6\\x81\\xeb\\x8f\\x84</courseAreaName><courseName>\\xeb\\x82\\xa8\\xed\\x98\\xb8\\xea\\xb3\\xa0\\xed\\x83\\x9d\\xec\\x97\\x90\\xec\\x84\\x9c\\xec\\x9d\\x98 \\xed\\x95\\x98\\xeb\\xa3\\xbb\\xeb\\xb0\\xa4</courseName><spotAreaId>104</spotAreaId><spotAreaName>\\xeb\\xb4\\x89\\xed\\x99\\x94</spotAreaName><spotName>(\\xeb\\xb4\\x89\\xed\\x99\\x94)\\xea\\xb3\\x84\\xec\\x84\\x9c\\xeb\\x8b\\xb9(\\xec\\x84\\xb1\\xec\\x9d\\xb4\\xec\\x84\\xb1 \\xec\\x83\\x9d\\xea\\xb0\\x80)</spotName><th3>0</th3><wd>310</wd><ws>0</ws><sky>3</sky><rhm>85</rhm><pop>20</pop></item><item><tm>2019-12-22 09:00</tm><thema>\\xec\\xa2\\x85\\xea\\xb5\\x90/\\xec\\x97\\xad\\xec\\x82\\xac/\\xec\\xa0\\x84\\xed\\x86\\xb5</thema><courseId>1</courseId><courseAreaId>4700000000</courseAreaId><courseAreaName>\\xea\\xb2\\xbd\\xec\\x83\\x81\\xeb\\xb6\\x81\\xeb\\x8f\\x84</courseAreaName><courseName>\\xeb\\x82\\xa8\\xed\\x98\\xb8\\xea\\xb3\\xa0\\xed\\x83\\x9d\\xec\\x97\\x90\\xec\\x84\\x9c\\xec\\x9d\\x98 \\xed\\x95\\x98\\xeb\\xa3\\xbb\\xeb\\xb0\\xa4</courseName><spotAreaId>102</spotAreaId><spotAreaName>\\xeb\\xb4\\x89\\xed\\x99\\x94</spotAreaName><spotName>(\\xeb\\xb4\\x89\\xed\\x99\\x94)\\xec\\xb6\\x98\\xec\\x96\\x91\\xeb\\xaa\\xa9 \\xec\\x86\\xa1\\xec\\x9d\\xb4\\xeb\\xa7\\x88\\xec\\x9d\\x84</spotName><th3>-2</th3><wd>297</wd><ws>0</ws><sky>3</sky><rhm>90</rhm><pop>20</pop></item></items><numOfRows>10</numOfRows><pageNo>1</pageNo><totalCount>256</totalCount></body></response>\\r\\n'\n"
          ]
        }
      ]
    },
    {
      "cell_type": "code",
      "source": [
        "if response.status_code == 200 :\n",
        "  xd = xmltodict.parse(response.text)\n",
        "  print(type(xd))\n",
        "  print(xd)"
      ],
      "metadata": {
        "colab": {
          "base_uri": "https://localhost:8080/"
        },
        "id": "UkvN0GcPbJmn",
        "outputId": "4137148c-5efb-42bf-adcd-9debbc762584"
      },
      "execution_count": 57,
      "outputs": [
        {
          "output_type": "stream",
          "name": "stdout",
          "text": [
            "<class 'dict'>\n",
            "{'response': {'header': {'resultCode': '00', 'resultMsg': 'NORMAL_SERVICE'}, 'body': {'dataType': 'XML', 'items': {'item': [{'tm': '2019-12-22 09:00', 'thema': '문화/예술', 'courseId': '1', 'courseAreaId': '4700000000', 'courseAreaName': '경상북도', 'courseName': '남호고택에서의 하룻밤', 'spotAreaId': '102', 'spotAreaName': '봉화', 'spotName': '(봉화)춘양목 송이마을', 'th3': '-2', 'wd': '297', 'ws': '0', 'sky': '3', 'rhm': '90', 'pop': '20'}, {'tm': '2019-12-22 09:00', 'thema': '종교/역사/전통', 'courseId': '1', 'courseAreaId': '4700000000', 'courseAreaName': '경상북도', 'courseName': '남호고택에서의 하룻밤', 'spotAreaId': '104', 'spotAreaName': '봉화', 'spotName': '(봉화)계서당(성이성 생가)', 'th3': '0', 'wd': '310', 'ws': '0', 'sky': '3', 'rhm': '85', 'pop': '20'}, {'tm': '2019-12-22 09:00', 'thema': '자연/힐링', 'courseId': '1', 'courseAreaId': '4700000000', 'courseAreaName': '경상북도', 'courseName': '남호고택에서의 하룻밤', 'spotAreaId': '104', 'spotAreaName': '봉화', 'spotName': '(봉화)계서당(성이성 생가)', 'th3': '0', 'wd': '310', 'ws': '0', 'sky': '3', 'rhm': '85', 'pop': '20'}, {'tm': '2019-12-22 09:00', 'thema': '체험/학습/산업', 'courseId': '1', 'courseAreaId': '4700000000', 'courseAreaName': '경상북도', 'courseName': '남호고택에서의 하룻밤', 'spotAreaId': '104', 'spotAreaName': '봉화', 'spotName': '(봉화)계서당(성이성 생가)', 'th3': '0', 'wd': '310', 'ws': '0', 'sky': '3', 'rhm': '85', 'pop': '20'}, {'tm': '2019-12-22 09:00', 'thema': '문화/예술', 'courseId': '1', 'courseAreaId': '4700000000', 'courseAreaName': '경상북도', 'courseName': '남호고택에서의 하룻밤', 'spotAreaId': '103', 'spotAreaName': '봉화', 'spotName': '(봉화)지림사', 'th3': '0', 'wd': '309', 'ws': '0', 'sky': '3', 'rhm': '85', 'pop': '20'}, {'tm': '2019-12-22 09:00', 'thema': '종교/역사/전통', 'courseId': '1', 'courseAreaId': '4700000000', 'courseAreaName': '경상북도', 'courseName': '남호고택에서의 하룻밤', 'spotAreaId': '103', 'spotAreaName': '봉화', 'spotName': '(봉화)지림사', 'th3': '0', 'wd': '309', 'ws': '0', 'sky': '3', 'rhm': '85', 'pop': '20'}, {'tm': '2019-12-22 09:00', 'thema': '자연/힐링', 'courseId': '1', 'courseAreaId': '4700000000', 'courseAreaName': '경상북도', 'courseName': '남호고택에서의 하룻밤', 'spotAreaId': '103', 'spotAreaName': '봉화', 'spotName': '(봉화)지림사', 'th3': '0', 'wd': '309', 'ws': '0', 'sky': '3', 'rhm': '85', 'pop': '20'}, {'tm': '2019-12-22 09:00', 'thema': '체험/학습/산업', 'courseId': '1', 'courseAreaId': '4700000000', 'courseAreaName': '경상북도', 'courseName': '남호고택에서의 하룻밤', 'spotAreaId': '103', 'spotAreaName': '봉화', 'spotName': '(봉화)지림사', 'th3': '0', 'wd': '309', 'ws': '0', 'sky': '3', 'rhm': '85', 'pop': '20'}, {'tm': '2019-12-22 09:00', 'thema': '문화/예술', 'courseId': '1', 'courseAreaId': '4700000000', 'courseAreaName': '경상북도', 'courseName': '남호고택에서의 하룻밤', 'spotAreaId': '104', 'spotAreaName': '봉화', 'spotName': '(봉화)계서당(성이성 생가)', 'th3': '0', 'wd': '310', 'ws': '0', 'sky': '3', 'rhm': '85', 'pop': '20'}, {'tm': '2019-12-22 09:00', 'thema': '종교/역사/전통', 'courseId': '1', 'courseAreaId': '4700000000', 'courseAreaName': '경상북도', 'courseName': '남호고택에서의 하룻밤', 'spotAreaId': '102', 'spotAreaName': '봉화', 'spotName': '(봉화)춘양목 송이마을', 'th3': '-2', 'wd': '297', 'ws': '0', 'sky': '3', 'rhm': '90', 'pop': '20'}]}, 'numOfRows': '10', 'pageNo': '1', 'totalCount': '256'}}}\n"
          ]
        }
      ]
    },
    {
      "cell_type": "code",
      "source": [
        "# item 접근\n",
        "w_data = xd['response']['body']['items']['item']\n",
        "print(w_data)"
      ],
      "metadata": {
        "colab": {
          "base_uri": "https://localhost:8080/"
        },
        "id": "KgwGGqqLbxjb",
        "outputId": "079937a7-22bb-4990-adcf-1f2564884ccc"
      },
      "execution_count": 58,
      "outputs": [
        {
          "output_type": "stream",
          "name": "stdout",
          "text": [
            "[{'tm': '2019-12-22 09:00', 'thema': '문화/예술', 'courseId': '1', 'courseAreaId': '4700000000', 'courseAreaName': '경상북도', 'courseName': '남호고택에서의 하룻밤', 'spotAreaId': '102', 'spotAreaName': '봉화', 'spotName': '(봉화)춘양목 송이마을', 'th3': '-2', 'wd': '297', 'ws': '0', 'sky': '3', 'rhm': '90', 'pop': '20'}, {'tm': '2019-12-22 09:00', 'thema': '종교/역사/전통', 'courseId': '1', 'courseAreaId': '4700000000', 'courseAreaName': '경상북도', 'courseName': '남호고택에서의 하룻밤', 'spotAreaId': '104', 'spotAreaName': '봉화', 'spotName': '(봉화)계서당(성이성 생가)', 'th3': '0', 'wd': '310', 'ws': '0', 'sky': '3', 'rhm': '85', 'pop': '20'}, {'tm': '2019-12-22 09:00', 'thema': '자연/힐링', 'courseId': '1', 'courseAreaId': '4700000000', 'courseAreaName': '경상북도', 'courseName': '남호고택에서의 하룻밤', 'spotAreaId': '104', 'spotAreaName': '봉화', 'spotName': '(봉화)계서당(성이성 생가)', 'th3': '0', 'wd': '310', 'ws': '0', 'sky': '3', 'rhm': '85', 'pop': '20'}, {'tm': '2019-12-22 09:00', 'thema': '체험/학습/산업', 'courseId': '1', 'courseAreaId': '4700000000', 'courseAreaName': '경상북도', 'courseName': '남호고택에서의 하룻밤', 'spotAreaId': '104', 'spotAreaName': '봉화', 'spotName': '(봉화)계서당(성이성 생가)', 'th3': '0', 'wd': '310', 'ws': '0', 'sky': '3', 'rhm': '85', 'pop': '20'}, {'tm': '2019-12-22 09:00', 'thema': '문화/예술', 'courseId': '1', 'courseAreaId': '4700000000', 'courseAreaName': '경상북도', 'courseName': '남호고택에서의 하룻밤', 'spotAreaId': '103', 'spotAreaName': '봉화', 'spotName': '(봉화)지림사', 'th3': '0', 'wd': '309', 'ws': '0', 'sky': '3', 'rhm': '85', 'pop': '20'}, {'tm': '2019-12-22 09:00', 'thema': '종교/역사/전통', 'courseId': '1', 'courseAreaId': '4700000000', 'courseAreaName': '경상북도', 'courseName': '남호고택에서의 하룻밤', 'spotAreaId': '103', 'spotAreaName': '봉화', 'spotName': '(봉화)지림사', 'th3': '0', 'wd': '309', 'ws': '0', 'sky': '3', 'rhm': '85', 'pop': '20'}, {'tm': '2019-12-22 09:00', 'thema': '자연/힐링', 'courseId': '1', 'courseAreaId': '4700000000', 'courseAreaName': '경상북도', 'courseName': '남호고택에서의 하룻밤', 'spotAreaId': '103', 'spotAreaName': '봉화', 'spotName': '(봉화)지림사', 'th3': '0', 'wd': '309', 'ws': '0', 'sky': '3', 'rhm': '85', 'pop': '20'}, {'tm': '2019-12-22 09:00', 'thema': '체험/학습/산업', 'courseId': '1', 'courseAreaId': '4700000000', 'courseAreaName': '경상북도', 'courseName': '남호고택에서의 하룻밤', 'spotAreaId': '103', 'spotAreaName': '봉화', 'spotName': '(봉화)지림사', 'th3': '0', 'wd': '309', 'ws': '0', 'sky': '3', 'rhm': '85', 'pop': '20'}, {'tm': '2019-12-22 09:00', 'thema': '문화/예술', 'courseId': '1', 'courseAreaId': '4700000000', 'courseAreaName': '경상북도', 'courseName': '남호고택에서의 하룻밤', 'spotAreaId': '104', 'spotAreaName': '봉화', 'spotName': '(봉화)계서당(성이성 생가)', 'th3': '0', 'wd': '310', 'ws': '0', 'sky': '3', 'rhm': '85', 'pop': '20'}, {'tm': '2019-12-22 09:00', 'thema': '종교/역사/전통', 'courseId': '1', 'courseAreaId': '4700000000', 'courseAreaName': '경상북도', 'courseName': '남호고택에서의 하룻밤', 'spotAreaId': '102', 'spotAreaName': '봉화', 'spotName': '(봉화)춘양목 송이마을', 'th3': '-2', 'wd': '297', 'ws': '0', 'sky': '3', 'rhm': '90', 'pop': '20'}]\n"
          ]
        }
      ]
    },
    {
      "cell_type": "code",
      "source": [
        "# 기상상태 출력\n",
        "dict_sky = {'1':'맑음','2':'구름','3':'흐림','4':'비','5':'소나기','6':'비눈','7':'눈비','8':'눈'}\n",
        "key_sky = w_data[0]['sky']\n",
        "print('기상상태 : ' + dict_sky[key_sky])"
      ],
      "metadata": {
        "colab": {
          "base_uri": "https://localhost:8080/"
        },
        "id": "oORo0nEQfPT_",
        "outputId": "b3e19521-e978-45fe-85a2-a8a073597505"
      },
      "execution_count": 60,
      "outputs": [
        {
          "output_type": "stream",
          "name": "stdout",
          "text": [
            "기상상태 : 흐림\n"
          ]
        }
      ]
    },
    {
      "cell_type": "code",
      "source": [
        "# 필요한 item 출력\n",
        "for i in range(len(w_data)) :\n",
        "  w_data[i]['sky']\n",
        "  print('관광지명 : '+w_data[i]['spotAreaName'])\n",
        "  print('시간 : '+w_data[i]['tm'])\n",
        "  print('기온 : '+w_data[i]['th3'])\n",
        "  print('강수확률 : '+w_data[i]['pop'])\n",
        "  print('기상상태 : '+dict_sky[key_sky])\n",
        "  print('-----------------------------------------------------')\n",
        "\n",
        "  #총 item 수 출력\n",
        "  totalCount = xd['response']['body']['totalCount']\n",
        "  print('totalCount:' + totalCount)\n",
        "  "
      ],
      "metadata": {
        "colab": {
          "base_uri": "https://localhost:8080/"
        },
        "id": "jn5SpjMffq23",
        "outputId": "32292712-7dda-49c8-f10c-a17b18057104"
      },
      "execution_count": 64,
      "outputs": [
        {
          "output_type": "stream",
          "name": "stdout",
          "text": [
            "관광지명 : 봉화\n",
            "시간 : 2019-12-22 09:00\n",
            "기온 : -2\n",
            "강수확률 : 20\n",
            "기상상태 : 흐림\n",
            "-----------------------------------------------------\n",
            "totalCount:256\n",
            "관광지명 : 봉화\n",
            "시간 : 2019-12-22 09:00\n",
            "기온 : 0\n",
            "강수확률 : 20\n",
            "기상상태 : 흐림\n",
            "-----------------------------------------------------\n",
            "totalCount:256\n",
            "관광지명 : 봉화\n",
            "시간 : 2019-12-22 09:00\n",
            "기온 : 0\n",
            "강수확률 : 20\n",
            "기상상태 : 흐림\n",
            "-----------------------------------------------------\n",
            "totalCount:256\n",
            "관광지명 : 봉화\n",
            "시간 : 2019-12-22 09:00\n",
            "기온 : 0\n",
            "강수확률 : 20\n",
            "기상상태 : 흐림\n",
            "-----------------------------------------------------\n",
            "totalCount:256\n",
            "관광지명 : 봉화\n",
            "시간 : 2019-12-22 09:00\n",
            "기온 : 0\n",
            "강수확률 : 20\n",
            "기상상태 : 흐림\n",
            "-----------------------------------------------------\n",
            "totalCount:256\n",
            "관광지명 : 봉화\n",
            "시간 : 2019-12-22 09:00\n",
            "기온 : 0\n",
            "강수확률 : 20\n",
            "기상상태 : 흐림\n",
            "-----------------------------------------------------\n",
            "totalCount:256\n",
            "관광지명 : 봉화\n",
            "시간 : 2019-12-22 09:00\n",
            "기온 : 0\n",
            "강수확률 : 20\n",
            "기상상태 : 흐림\n",
            "-----------------------------------------------------\n",
            "totalCount:256\n",
            "관광지명 : 봉화\n",
            "시간 : 2019-12-22 09:00\n",
            "기온 : 0\n",
            "강수확률 : 20\n",
            "기상상태 : 흐림\n",
            "-----------------------------------------------------\n",
            "totalCount:256\n",
            "관광지명 : 봉화\n",
            "시간 : 2019-12-22 09:00\n",
            "기온 : 0\n",
            "강수확률 : 20\n",
            "기상상태 : 흐림\n",
            "-----------------------------------------------------\n",
            "totalCount:256\n",
            "관광지명 : 봉화\n",
            "시간 : 2019-12-22 09:00\n",
            "기온 : -2\n",
            "강수확률 : 20\n",
            "기상상태 : 흐림\n",
            "-----------------------------------------------------\n",
            "totalCount:256\n"
          ]
        }
      ]
    },
    {
      "cell_type": "code",
      "source": [],
      "metadata": {
        "id": "ymRM70-Sgwtu"
      },
      "execution_count": null,
      "outputs": []
    }
  ]
}