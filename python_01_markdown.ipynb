{
  "nbformat": 4,
  "nbformat_minor": 0,
  "metadata": {
    "colab": {
      "provenance": [],
      "authorship_tag": "ABX9TyPffqBSDNRheHUs9djDod9g",
      "include_colab_link": true
    },
    "kernelspec": {
      "name": "python3",
      "display_name": "Python 3"
    },
    "language_info": {
      "name": "python"
    }
  },
  "cells": [
    {
      "cell_type": "markdown",
      "metadata": {
        "id": "view-in-github",
        "colab_type": "text"
      },
      "source": [
        "<a href=\"https://colab.research.google.com/github/kimberlyydanij/python_demo/blob/master/python_01_markdown.ipynb\" target=\"_parent\"><img src=\"https://colab.research.google.com/assets/colab-badge.svg\" alt=\"Open In Colab\"/></a>"
      ]
    },
    {
      "cell_type": "markdown",
      "source": [
        "### 제목\n",
        "제목은 #1~ #6가지 형태로 표현할 수 있다.\n",
        "\n",
        "#제목1\n",
        "##제목2\n",
        "###제목3\n",
        "####제목4\n",
        "#####제목5\n",
        "######제목6\n"
      ],
      "metadata": {
        "id": "aWcruiumV1DV"
      }
    },
    {
      "cell_type": "markdown",
      "source": [
        "### 구분선\n",
        "\n",
        "-를 세개 이상 쓰면 가로선을 그어 구분 영역을 표시할 수 있다.\n",
        "\n",
        "---\n",
        "\n",
        "\n",
        "### 줄바꿈\n",
        "맨 끝에 공백문자 2개 이상 (스페이스 등)을 사용하면 줄바꿈 한다.   \n",
        "\n",
        "### 목록\n",
        "순서가 있는 목록과 순서가 없는 목록 모두 지원한다.\n",
        "1. 리스트1\n",
        "2. 리스트2\n",
        "3. 리스트3\n",
        "\n",
        "- 리스트1\n",
        "- 리스트2\n",
        "- 리스트3\n",
        "\n",
        "### 웹주소\n",
        "웹주소를 입력하면 자동으로 하이퍼링크가 생긴다.\n",
        "http://www.phthon.org\n",
        "\n",
        "### 강조\n",
        "***굵게*** 테스트  \n",
        "___기울기___ 테스트\n",
        "\n",
        "### 코드블록\n",
        "```\n",
        "import phthon\n",
        "def x(self):\n",
        "  return self.x\n",
        "```\n",
        "\n",
        "### 링크\n",
        "[파이썬](http://www.python.org)\n",
        "\n",
        "![python](https://www.python.org/static/img/python-logo.png)  \n",
        "\n",
        "!를 붙이면 이미지를 출력할 수 있다.\n",
        "\n",
        "\n",
        "\n",
        "\n",
        "\n"
      ],
      "metadata": {
        "id": "b8Q7EAo8XD8K"
      }
    },
    {
      "cell_type": "markdown",
      "source": [
        "더블클릭 또는 Enter 키를 눌러 수정"
      ],
      "metadata": {
        "id": "R6Dg1SZgXOMU"
      }
    }
  ]
}