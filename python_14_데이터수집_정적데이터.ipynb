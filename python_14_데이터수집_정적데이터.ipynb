{
  "nbformat": 4,
  "nbformat_minor": 0,
  "metadata": {
    "colab": {
      "provenance": [],
      "authorship_tag": "ABX9TyPqmql3kdnGQ6wp/4zF0Bqc",
      "include_colab_link": true
    },
    "kernelspec": {
      "name": "python3",
      "display_name": "Python 3"
    },
    "language_info": {
      "name": "python"
    }
  },
  "cells": [
    {
      "cell_type": "markdown",
      "metadata": {
        "id": "view-in-github",
        "colab_type": "text"
      },
      "source": [
        "<a href=\"https://colab.research.google.com/github/kimberlyydanij/python_demo/blob/master/python_14_%EB%8D%B0%EC%9D%B4%ED%84%B0%EC%88%98%EC%A7%91_%EC%A0%95%EC%A0%81%EB%8D%B0%EC%9D%B4%ED%84%B0.ipynb\" target=\"_parent\"><img src=\"https://colab.research.google.com/assets/colab-badge.svg\" alt=\"Open In Colab\"/></a>"
      ]
    },
    {
      "cell_type": "code",
      "execution_count": 3,
      "metadata": {
        "colab": {
          "base_uri": "https://localhost:8080/"
        },
        "id": "5JMPNl25tVeY",
        "outputId": "3ac50ef0-6f22-43d6-c7cc-8b0a7672c9cd"
      },
      "outputs": [
        {
          "output_type": "stream",
          "name": "stdout",
          "text": [
            "Drive already mounted at /content/drive; to attempt to forcibly remount, call drive.mount(\"/content/drive\", force_remount=True).\n",
            "/content/drive/MyDrive/python_demo\n"
          ]
        }
      ],
      "source": [
        "from google.colab import drive\n",
        "drive.mount('/content/drive')\n",
        "%cd /content/drive/MyDrive/python_demo"
      ]
    },
    {
      "cell_type": "markdown",
      "source": [
        "### "
      ],
      "metadata": {
        "id": "JF0gDzXOthxv"
      }
    },
    {
      "cell_type": "code",
      "source": [
        "import bs4\n",
        "import requests\n",
        "import re\n"
      ],
      "metadata": {
        "id": "vcLpVCyQtgfs"
      },
      "execution_count": 26,
      "outputs": []
    },
    {
      "cell_type": "code",
      "source": [
        "url = requests.get('https://movie.naver.com/movie/sdb/rank/rmovie.naver')\n",
        "html = bs4.BeautifulSoup(url.text, 'html.parser')\n",
        "movie_title = html.find_all('div',{'class' : 'tit3'})\n",
        "movie_rank = html.find_all('td',{'class' : 'ac'})\n",
        "for movie in movie_title:\n",
        "  print(movie.text)\n",
        "\n",
        "랭크/평점도 출력하기\n",
        "\n",
        "\n"
      ],
      "metadata": {
        "colab": {
          "base_uri": "https://localhost:8080/"
        },
        "id": "mJ86SKAzt4jv",
        "outputId": "9d5a192f-c4e8-4abb-ebce-ba79709b2eda"
      },
      "execution_count": 84,
      "outputs": [
        {
          "output_type": "stream",
          "name": "stdout",
          "text": [
            "\n",
            "올빼미\n",
            "\n",
            "\n",
            "압꾸정\n",
            "\n",
            "\n",
            "탄생\n",
            "\n",
            "\n",
            "아바타: 물의 길\n",
            "\n",
            "\n",
            "오늘 밤, 세계에서 이 사랑이 사라진다 해도\n",
            "\n",
            "\n",
            "데시벨\n",
            "\n",
            "\n",
            "블랙 팬서: 와칸다 포에버\n",
            "\n",
            "\n",
            "크리스마스 캐럴\n",
            "\n",
            "\n",
            "원피스 필름 레드\n",
            "\n",
            "\n",
            "프레이 포 더 데블\n",
            "\n",
            "\n",
            "영웅\n",
            "\n",
            "\n",
            "동감\n",
            "\n",
            "\n",
            "자백\n",
            "\n",
            "\n",
            "본즈 앤 올\n",
            "\n",
            "\n",
            "에브리씽 에브리웨어 올 앳 원스\n",
            "\n",
            "\n",
            "극장판 뽀로로와 친구들: 바이러스를 없애줘!\n",
            "\n",
            "\n",
            "더 메뉴\n",
            "\n",
            "\n",
            "리멤버\n",
            "\n",
            "\n",
            "한산 리덕스\n",
            "\n",
            "\n",
            "유포자들\n",
            "\n",
            "\n",
            "폴: 600미터\n",
            "\n",
            "\n",
            "화이트 노이즈\n",
            "\n",
            "\n",
            "젠틀맨\n",
            "\n",
            "\n",
            "한산: 용의 출현\n",
            "\n",
            "\n",
            "탑건: 매버릭\n",
            "\n",
            "\n",
            "헤어질 결심\n",
            "\n",
            "\n",
            "신비아파트 극장판 차원도깨비와 7개의 세계\n",
            "\n",
            "\n",
            "스트레인지 월드\n",
            "\n",
            "\n",
            "러브레터\n",
            "\n",
            "\n",
            "트랜스포머: 비스트의 서막\n",
            "\n",
            "\n",
            "스페이스 키드: 우주에서 살아남기\n",
            "\n",
            "\n",
            "외계+인 1부\n",
            "\n",
            "\n",
            "극장판 짱구는 못말려: 수수께끼! 꽃피는 천하떡잎학교\n",
            "\n",
            "\n",
            "통영에서의 하루\n",
            "\n",
            "\n",
            "헤이지니&럭키강이 비밀의 문\n",
            "\n",
            "\n",
            "더 퍼스트 슬램덩크\n",
            "\n",
            "\n",
            "교섭\n",
            "\n",
            "\n",
            "므이 : 저주, 돌아오다\n",
            "\n",
            "\n",
            "청춘시련\n",
            "\n",
            "\n",
            "양성인간\n",
            "\n",
            "\n",
            "첫번째 아이\n",
            "\n",
            "\n",
            "블랙 아담\n",
            "\n",
            "\n",
            "페르시아어 수업\n",
            "\n",
            "\n",
            "마이 선\n",
            "\n",
            "\n",
            "스위치\n",
            "\n",
            "\n",
            "샤크 : 더 비기닝\n",
            "\n",
            "\n",
            "튜브펫 주식회사\n",
            "\n",
            "\n",
            "심야카페: 미씽 허니\n",
            "\n",
            "\n",
            "요정\n",
            "\n",
            "\n",
            "엔시티 드림 더 무비 : 인 어 드림\n",
            "\n"
          ]
        }
      ]
    },
    {
      "cell_type": "code",
      "source": [],
      "metadata": {
        "id": "GnCAnbJe2wPK"
      },
      "execution_count": null,
      "outputs": []
    }
  ]
}