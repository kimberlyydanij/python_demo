{
  "nbformat": 4,
  "nbformat_minor": 0,
  "metadata": {
    "colab": {
      "provenance": [],
      "authorship_tag": "ABX9TyPsFwQ568Nm6ZGLbSHHnKRH",
      "include_colab_link": true
    },
    "kernelspec": {
      "name": "python3",
      "display_name": "Python 3"
    },
    "language_info": {
      "name": "python"
    }
  },
  "cells": [
    {
      "cell_type": "markdown",
      "metadata": {
        "id": "view-in-github",
        "colab_type": "text"
      },
      "source": [
        "<a href=\"https://colab.research.google.com/github/kimberlyydanij/python_demo/blob/master/python_22_%EB%8D%B0%EC%9D%B4%ED%84%B0%EC%88%98%EC%B9%98%EC%9A%94%EC%95%BD.ipynb\" target=\"_parent\"><img src=\"https://colab.research.google.com/assets/colab-badge.svg\" alt=\"Open In Colab\"/></a>"
      ]
    },
    {
      "cell_type": "markdown",
      "source": [
        "### 4명의 키와 몸무게 계산 (합계,평균,편차,분산,표준편차,상관계수)\n",
        "  1. python을 이용한 4명의 키와 몸무게\n",
        "  2. numpy를 이용한 4명의 키와 몸무게"
      ],
      "metadata": {
        "id": "c_WkEL40azV3"
      }
    },
    {
      "cell_type": "markdown",
      "source": [
        "### python을 이용한 4명의 키와 몸무게"
      ],
      "metadata": {
        "id": "yg236YbOa-CP"
      }
    },
    {
      "cell_type": "code",
      "execution_count": null,
      "metadata": {
        "id": "lT9E8UikavLr"
      },
      "outputs": [],
      "source": [
        "height = [175, 165, 180, 160]\n",
        "weight = [75,70,95,72]"
      ]
    },
    {
      "cell_type": "markdown",
      "source": [
        "### 합계_height,weight"
      ],
      "metadata": {
        "id": "d7Ku-u2DbLz2"
      }
    },
    {
      "cell_type": "code",
      "source": [
        "h_sum = sum(height)\n",
        "w_sum = sum(weight)"
      ],
      "metadata": {
        "id": "0qaAJ7VPbK24"
      },
      "execution_count": null,
      "outputs": []
    },
    {
      "cell_type": "code",
      "source": [
        "print('키 합계 : ', h_sum)\n",
        "print('몸무게 합계 : ', w_sum)"
      ],
      "metadata": {
        "colab": {
          "base_uri": "https://localhost:8080/"
        },
        "id": "v8DvIpeIbUY-",
        "outputId": "c1b204da-920f-429b-b5a5-556dea218033"
      },
      "execution_count": null,
      "outputs": [
        {
          "output_type": "stream",
          "name": "stdout",
          "text": [
            "키 합계 :  680\n",
            "몸무게 합계 :  312\n"
          ]
        }
      ]
    },
    {
      "cell_type": "markdown",
      "source": [
        "평균_height, weight"
      ],
      "metadata": {
        "id": "a2eUsIoNbwRn"
      }
    },
    {
      "cell_type": "code",
      "source": [
        "length = len(height)"
      ],
      "metadata": {
        "id": "LYRq2pG4bfGO"
      },
      "execution_count": null,
      "outputs": []
    },
    {
      "cell_type": "code",
      "source": [
        "h_mean = h_sum/length\n",
        "w_mean = w_sum/length"
      ],
      "metadata": {
        "id": "pjSS4gegb3UF"
      },
      "execution_count": null,
      "outputs": []
    },
    {
      "cell_type": "code",
      "source": [
        "print('키 평균 : ' , h_mean)\n",
        "print('몸무게 평균 : ', w_mean)"
      ],
      "metadata": {
        "colab": {
          "base_uri": "https://localhost:8080/"
        },
        "id": "0Q65uA4sb-MN",
        "outputId": "e9b0f5c9-0747-4032-851b-7174caf8590c"
      },
      "execution_count": null,
      "outputs": [
        {
          "output_type": "stream",
          "name": "stdout",
          "text": [
            "키 평균 :  170.0\n",
            "몸무게 평균 :  78.0\n"
          ]
        }
      ]
    },
    {
      "cell_type": "markdown",
      "source": [
        "편차_height,weight"
      ],
      "metadata": {
        "id": "nuneacHRdOy3"
      }
    },
    {
      "cell_type": "code",
      "source": [
        "h_deviation = [i-h_mean for i in height]\n",
        "w_deviation = [i-w_mean for i in weight]"
      ],
      "metadata": {
        "id": "d4FgvojhcDjF"
      },
      "execution_count": 10,
      "outputs": []
    },
    {
      "cell_type": "code",
      "source": [
        "print('키 편차 : ', h_deviation, sum(h_deviation))\n",
        "print('몸무게 편차 : ', w_deviation, sum(w_deviation))"
      ],
      "metadata": {
        "colab": {
          "base_uri": "https://localhost:8080/"
        },
        "id": "fJBNL77wdNzP",
        "outputId": "b9848f6d-ea73-439a-d1eb-04fa663408f8"
      },
      "execution_count": 16,
      "outputs": [
        {
          "output_type": "stream",
          "name": "stdout",
          "text": [
            "키 편차 :  [5.0, -5.0, 10.0, -10.0] 0.0\n",
            "몸무게 편차 :  [-3.0, -8.0, 17.0, -6.0] 0.0\n"
          ]
        }
      ]
    },
    {
      "cell_type": "markdown",
      "source": [
        "분산_height,weight"
      ],
      "metadata": {
        "id": "WyPHyCqndT9O"
      }
    },
    {
      "cell_type": "code",
      "source": [
        "h_data = [(i-h_mean)**2 for i in height]\n",
        "w_data = [(i-w_mean)**2 for i in weight]\n",
        "h_variance = sum(h_data)/length\n",
        "w_variance = sum(w_data)/length"
      ],
      "metadata": {
        "id": "EGsejfRMd9NF"
      },
      "execution_count": 19,
      "outputs": []
    },
    {
      "cell_type": "code",
      "source": [
        "print('키 분산 : ', h_variance)\n",
        "print('몸무게 분산 : ', w_variance)"
      ],
      "metadata": {
        "colab": {
          "base_uri": "https://localhost:8080/"
        },
        "id": "LTIfSGvheH5t",
        "outputId": "38542643-6b88-4640-d3d0-4ba1fb71ba4d"
      },
      "execution_count": 20,
      "outputs": [
        {
          "output_type": "stream",
          "name": "stdout",
          "text": [
            "키 분산 :  62.5\n",
            "몸무게 분산 :  99.5\n"
          ]
        }
      ]
    },
    {
      "cell_type": "markdown",
      "source": [
        "표준편차_height,weight"
      ],
      "metadata": {
        "id": "cPNGmMO2eSw3"
      }
    },
    {
      "cell_type": "code",
      "source": [
        "import math\n",
        "\n",
        "h_standard_deviation = math.sqrt(h_variance)\n",
        "w_standard_deviation = math.sqrt(w_variance)"
      ],
      "metadata": {
        "id": "wem9-ieseNk-"
      },
      "execution_count": 23,
      "outputs": []
    },
    {
      "cell_type": "code",
      "source": [
        "print('키 표준편차 : ', h_standard_deviation)\n",
        "print('몸무게 표준편차 : ', w_standard_deviation)"
      ],
      "metadata": {
        "colab": {
          "base_uri": "https://localhost:8080/"
        },
        "id": "HepqDxYqeXj9",
        "outputId": "ea38bd55-4984-4645-98fe-8bd00d03c974"
      },
      "execution_count": 24,
      "outputs": [
        {
          "output_type": "stream",
          "name": "stdout",
          "text": [
            "키 표준편차 :  7.905694150420948\n",
            "몸무게 표준편차 :  9.974968671630002\n"
          ]
        }
      ]
    },
    {
      "cell_type": "markdown",
      "source": [
        "공분산_height, weight"
      ],
      "metadata": {
        "id": "fKbE2or4fHyx"
      }
    },
    {
      "cell_type": "code",
      "source": [
        "h_w_covariance = [i*j for i, j in zip(h_deviation, w_deviation)]\n",
        "print(h_w_covariance)\n",
        "\n",
        "h_w_covariance = sum(h_w_covariance)/length\n",
        "print(h_w_covariance)"
      ],
      "metadata": {
        "colab": {
          "base_uri": "https://localhost:8080/"
        },
        "id": "c5Z-NmVVeq5F",
        "outputId": "ba9dad9d-0699-4950-a785-de0ad74170ee"
      },
      "execution_count": 25,
      "outputs": [
        {
          "output_type": "stream",
          "name": "stdout",
          "text": [
            "[-15.0, 40.0, 170.0, 60.0]\n",
            "63.75\n"
          ]
        }
      ]
    },
    {
      "cell_type": "markdown",
      "source": [
        "상관계수_height,weight"
      ],
      "metadata": {
        "id": "7Z_Stua1fbsW"
      }
    },
    {
      "cell_type": "code",
      "source": [
        "h_w_coef = h_w_covariance / (h_standard_deviation * w_standard_deviation)\n",
        "print(h_w_coef)"
      ],
      "metadata": {
        "colab": {
          "base_uri": "https://localhost:8080/"
        },
        "id": "s8hGohblfacM",
        "outputId": "255b7f3c-7338-4bf7-805d-b0b5edc50a65"
      },
      "execution_count": 26,
      "outputs": [
        {
          "output_type": "stream",
          "name": "stdout",
          "text": [
            "0.8084043468090077\n"
          ]
        }
      ]
    },
    {
      "cell_type": "code",
      "source": [],
      "metadata": {
        "id": "s1zEox21fnOs"
      },
      "execution_count": null,
      "outputs": []
    }
  ]
}