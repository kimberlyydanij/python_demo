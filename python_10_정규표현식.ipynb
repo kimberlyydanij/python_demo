{
  "nbformat": 4,
  "nbformat_minor": 0,
  "metadata": {
    "colab": {
      "provenance": [],
      "authorship_tag": "ABX9TyP5wqeyfuWyMxlWu5R6Joir",
      "include_colab_link": true
    },
    "kernelspec": {
      "name": "python3",
      "display_name": "Python 3"
    },
    "language_info": {
      "name": "python"
    }
  },
  "cells": [
    {
      "cell_type": "markdown",
      "metadata": {
        "id": "view-in-github",
        "colab_type": "text"
      },
      "source": [
        "<a href=\"https://colab.research.google.com/github/kimberlyydanij/python_demo/blob/master/python_10_%EC%A0%95%EA%B7%9C%ED%91%9C%ED%98%84%EC%8B%9D.ipynb\" target=\"_parent\"><img src=\"https://colab.research.google.com/assets/colab-badge.svg\" alt=\"Open In Colab\"/></a>"
      ]
    },
    {
      "cell_type": "markdown",
      "source": [
        "### 정규표현식(Reqular Express)\n",
        "메타문자 : 원래 그 문자가 가진 뜻이 아닌 특이한 용도로 사용되는 문자이다.\n",
        "정규 표현식에 사용되는 문자 : ^$+?{}[]"
      ],
      "metadata": {
        "id": "V6zPDUOwKxv9"
      }
    },
    {
      "cell_type": "code",
      "execution_count": 1,
      "metadata": {
        "id": "x7PcI2unKq8X"
      },
      "outputs": [],
      "source": [
        "import re"
      ]
    },
    {
      "cell_type": "code",
      "source": [
        "#[ ] : or\n",
        "p = re.compile('[a-z]')"
      ],
      "metadata": {
        "id": "0nqc7v0tLGmV"
      },
      "execution_count": 3,
      "outputs": []
    },
    {
      "cell_type": "code",
      "source": [
        "m = p.match('python')"
      ],
      "metadata": {
        "id": "Ijhi-z_PLqDc"
      },
      "execution_count": 4,
      "outputs": []
    },
    {
      "cell_type": "code",
      "source": [
        "print(m)"
      ],
      "metadata": {
        "colab": {
          "base_uri": "https://localhost:8080/"
        },
        "id": "VX2q_gXNLw67",
        "outputId": "ae470417-9947-4ae5-a079-e85f8ceda4f0"
      },
      "execution_count": 5,
      "outputs": [
        {
          "output_type": "stream",
          "name": "stdout",
          "text": [
            "<re.Match object; span=(0, 1), match='p'>\n"
          ]
        }
      ]
    },
    {
      "cell_type": "code",
      "source": [
        "n = p.search('pythone')\n",
        "n"
      ],
      "metadata": {
        "colab": {
          "base_uri": "https://localhost:8080/"
        },
        "id": "Uu7YiJ8lLxsu",
        "outputId": "44cafcb5-d012-4989-b91c-d1290cabd27b"
      },
      "execution_count": 6,
      "outputs": [
        {
          "output_type": "execute_result",
          "data": {
            "text/plain": [
              "<re.Match object; span=(0, 1), match='p'>"
            ]
          },
          "metadata": {},
          "execution_count": 6
        }
      ]
    },
    {
      "cell_type": "code",
      "source": [
        "p = re.compile('[a-z]')\n",
        "m = p.findall('3 life ti sto short')"
      ],
      "metadata": {
        "id": "hcr7jhHsL1JN"
      },
      "execution_count": 8,
      "outputs": []
    },
    {
      "cell_type": "code",
      "source": [
        "print(m)"
      ],
      "metadata": {
        "colab": {
          "base_uri": "https://localhost:8080/"
        },
        "id": "jycvNsoIMM_1",
        "outputId": "90e8408b-dfd9-4636-8121-28d889c74d36"
      },
      "execution_count": 9,
      "outputs": [
        {
          "output_type": "stream",
          "name": "stdout",
          "text": [
            "['l', 'i', 'f', 'e', 't', 'i', 's', 't', 'o', 's', 'h', 'o', 'r', 't']\n"
          ]
        }
      ]
    },
    {
      "cell_type": "code",
      "source": [
        "p = re.compile('[a-z]+')\n",
        "m = p.findall('li2fe is %to short3')\n",
        "print(m)"
      ],
      "metadata": {
        "colab": {
          "base_uri": "https://localhost:8080/"
        },
        "id": "xMsKZAhlMTD9",
        "outputId": "2b32fb1c-59c4-4f32-f705-931c122fbabf"
      },
      "execution_count": 11,
      "outputs": [
        {
          "output_type": "stream",
          "name": "stdout",
          "text": [
            "['li', 'fe', 'is', 'to', 'short']\n"
          ]
        }
      ]
    },
    {
      "cell_type": "code",
      "source": [
        "p = re.compile('[a-z]+')\n",
        "m = p.finditer('life is to short')\n",
        "print(m)"
      ],
      "metadata": {
        "colab": {
          "base_uri": "https://localhost:8080/"
        },
        "id": "rD8dwYamMndL",
        "outputId": "f92788fe-85e4-4f6d-f812-3751337eaa8b"
      },
      "execution_count": 13,
      "outputs": [
        {
          "output_type": "stream",
          "name": "stdout",
          "text": [
            "<callable_iterator object at 0x7f00d79d6ee0>\n"
          ]
        }
      ]
    },
    {
      "cell_type": "code",
      "source": [
        "for r in m:\n",
        "  print(r)\n",
        "print(type(r))\n",
        "print(dir(r))"
      ],
      "metadata": {
        "colab": {
          "base_uri": "https://localhost:8080/"
        },
        "id": "fG1mldkfM9sI",
        "outputId": "763a3844-ef8a-4d99-b937-796cdd7c2a45"
      },
      "execution_count": 14,
      "outputs": [
        {
          "output_type": "stream",
          "name": "stdout",
          "text": [
            "<re.Match object; span=(0, 4), match='life'>\n",
            "<re.Match object; span=(5, 7), match='is'>\n",
            "<re.Match object; span=(8, 10), match='to'>\n",
            "<re.Match object; span=(11, 16), match='short'>\n",
            "<class 're.Match'>\n",
            "['__class__', '__copy__', '__deepcopy__', '__delattr__', '__dir__', '__doc__', '__eq__', '__format__', '__ge__', '__getattribute__', '__getitem__', '__gt__', '__hash__', '__init__', '__init_subclass__', '__le__', '__lt__', '__ne__', '__new__', '__reduce__', '__reduce_ex__', '__repr__', '__setattr__', '__sizeof__', '__str__', '__subclasshook__', 'end', 'endpos', 'expand', 'group', 'groupdict', 'groups', 'lastgroup', 'lastindex', 'pos', 're', 'regs', 'span', 'start', 'string']\n"
          ]
        }
      ]
    },
    {
      "cell_type": "code",
      "source": [
        "p = re.compile('[a-z]+')\n",
        "m = p.finditer('life is to short')\n",
        "print(m)\n",
        "for r in m:\n",
        "  print(r.group(), r.start(), r.end(), r.span())"
      ],
      "metadata": {
        "colab": {
          "base_uri": "https://localhost:8080/"
        },
        "id": "O061gVnQNaLo",
        "outputId": "e1523adc-b2d0-48de-f2b2-bd37f4ecba3f"
      },
      "execution_count": 20,
      "outputs": [
        {
          "output_type": "stream",
          "name": "stdout",
          "text": [
            "<callable_iterator object at 0x7f00e0e185b0>\n",
            "life 0 4 (0, 4)\n",
            "is 5 7 (5, 7)\n",
            "to 8 10 (8, 10)\n",
            "short 11 16 (11, 16)\n"
          ]
        }
      ]
    },
    {
      "cell_type": "code",
      "source": [
        "# 문자클래스[] : 문자 a-z 아무거나 들어가도 매치\n",
        "p = re.compile('[a-z]')\n",
        "m =  p.match('abc')\n",
        "print(dir(m))\n",
        "print(m.group(), m.start(), m.string)"
      ],
      "metadata": {
        "colab": {
          "base_uri": "https://localhost:8080/"
        },
        "id": "udpDnyWtNkIa",
        "outputId": "215fbe67-ae22-40ca-c12d-baa1781a8211"
      },
      "execution_count": 23,
      "outputs": [
        {
          "output_type": "stream",
          "name": "stdout",
          "text": [
            "['__class__', '__copy__', '__deepcopy__', '__delattr__', '__dir__', '__doc__', '__eq__', '__format__', '__ge__', '__getattribute__', '__getitem__', '__gt__', '__hash__', '__init__', '__init_subclass__', '__le__', '__lt__', '__ne__', '__new__', '__reduce__', '__reduce_ex__', '__repr__', '__setattr__', '__sizeof__', '__str__', '__subclasshook__', 'end', 'endpos', 'expand', 'group', 'groupdict', 'groups', 'lastgroup', 'lastindex', 'pos', 're', 'regs', 'span', 'start', 'string']\n",
            "a 0 abc\n"
          ]
        }
      ]
    },
    {
      "cell_type": "code",
      "source": [
        "# Dot(.) : a와 b사이에 줄바꿈 문자를 제외한 어떤 문자도 모두 매치\n",
        "p = re.compile('a.b')\n",
        "m = p.match('abc')\n",
        "print(m)"
      ],
      "metadata": {
        "colab": {
          "base_uri": "https://localhost:8080/"
        },
        "id": "jQKm2SPyO-bp",
        "outputId": "95574e89-ed8c-43c7-ad47-937160319e11"
      },
      "execution_count": 25,
      "outputs": [
        {
          "output_type": "stream",
          "name": "stdout",
          "text": [
            "None\n"
          ]
        }
      ]
    },
    {
      "cell_type": "code",
      "source": [
        "# 반복(*) : *문자 바로 앞에 있는 t가 0번 이상 반복되면 매치\n",
        "p = re.compile('cat*k')\n",
        "m = p.match('ck')\n",
        "print(m)\n",
        "\n",
        "m = p.match('cak')\n",
        "print(m)\n",
        "print(m.group())\n",
        "\n",
        "m = p.match('catttk')\n",
        "print(m)\n",
        "print(m.group(), m.start())\n"
      ],
      "metadata": {
        "colab": {
          "base_uri": "https://localhost:8080/"
        },
        "id": "a_RLsFWhPm6W",
        "outputId": "a3cf947b-cf2c-4579-8245-5e318dd0797b"
      },
      "execution_count": 32,
      "outputs": [
        {
          "output_type": "stream",
          "name": "stdout",
          "text": [
            "None\n",
            "<re.Match object; span=(0, 3), match='cak'>\n",
            "cak\n",
            "<re.Match object; span=(0, 6), match='catttk'>\n",
            "catttk 0\n"
          ]
        }
      ]
    },
    {
      "cell_type": "code",
      "source": [
        "# 반복(+) : *문자 바로 앞에 있는 t가 1번 이상 반복되면 매치\n",
        "p = re.compile('cat+k')\n",
        "m = p.match('ck')\n",
        "print(m)\n",
        "\n",
        "m = p.match('cak')\n",
        "print(m)\n",
        "print(m.group())\n",
        "\n",
        "m = p.match('catttk')\n",
        "print(m)\n",
        "print(m.group(), m.start())"
      ],
      "metadata": {
        "colab": {
          "base_uri": "https://localhost:8080/",
          "height": 284
        },
        "id": "ebFnVrSGQlnH",
        "outputId": "0e9e5cc3-50b1-43ed-a5a5-2d863592adf0"
      },
      "execution_count": 31,
      "outputs": [
        {
          "output_type": "stream",
          "name": "stdout",
          "text": [
            "None\n",
            "None\n"
          ]
        },
        {
          "output_type": "error",
          "ename": "AttributeError",
          "evalue": "ignored",
          "traceback": [
            "\u001b[0;31m---------------------------------------------------------------------------\u001b[0m",
            "\u001b[0;31mAttributeError\u001b[0m                            Traceback (most recent call last)",
            "\u001b[0;32m<ipython-input-31-03210a74ce9c>\u001b[0m in \u001b[0;36m<module>\u001b[0;34m\u001b[0m\n\u001b[1;32m      6\u001b[0m \u001b[0mm\u001b[0m \u001b[0;34m=\u001b[0m \u001b[0mp\u001b[0m\u001b[0;34m.\u001b[0m\u001b[0mmatch\u001b[0m\u001b[0;34m(\u001b[0m\u001b[0;34m'cak'\u001b[0m\u001b[0;34m)\u001b[0m\u001b[0;34m\u001b[0m\u001b[0;34m\u001b[0m\u001b[0m\n\u001b[1;32m      7\u001b[0m \u001b[0mprint\u001b[0m\u001b[0;34m(\u001b[0m\u001b[0mm\u001b[0m\u001b[0;34m)\u001b[0m\u001b[0;34m\u001b[0m\u001b[0;34m\u001b[0m\u001b[0m\n\u001b[0;32m----> 8\u001b[0;31m \u001b[0mprint\u001b[0m\u001b[0;34m(\u001b[0m\u001b[0mm\u001b[0m\u001b[0;34m.\u001b[0m\u001b[0mgroup\u001b[0m\u001b[0;34m(\u001b[0m\u001b[0;34m)\u001b[0m\u001b[0;34m)\u001b[0m\u001b[0;34m\u001b[0m\u001b[0;34m\u001b[0m\u001b[0m\n\u001b[0m\u001b[1;32m      9\u001b[0m \u001b[0;34m\u001b[0m\u001b[0m\n\u001b[1;32m     10\u001b[0m \u001b[0mm\u001b[0m \u001b[0;34m=\u001b[0m \u001b[0mp\u001b[0m\u001b[0;34m.\u001b[0m\u001b[0mmatch\u001b[0m\u001b[0;34m(\u001b[0m\u001b[0;34m'catttk'\u001b[0m\u001b[0;34m)\u001b[0m\u001b[0;34m\u001b[0m\u001b[0;34m\u001b[0m\u001b[0m\n",
            "\u001b[0;31mAttributeError\u001b[0m: 'NoneType' object has no attribute 'group'"
          ]
        }
      ]
    },
    {
      "cell_type": "code",
      "source": [
        "# 반복{{m, n}, ?} : 반복 횟수를 고정시킬 때 사용한다.\n",
        "p = re.compile('ca{2}t')\n",
        "m = p.match('cat')\n",
        "print(m)"
      ],
      "metadata": {
        "colab": {
          "base_uri": "https://localhost:8080/"
        },
        "id": "TfzkB4QVRIw8",
        "outputId": "765b7c18-2a54-41a6-ad13-d8faa38b2f8b"
      },
      "execution_count": 34,
      "outputs": [
        {
          "output_type": "stream",
          "name": "stdout",
          "text": [
            "None\n"
          ]
        }
      ]
    },
    {
      "cell_type": "code",
      "source": [
        "p = re.compile('ca{2}t')\n",
        "m = p.match('caat')\n",
        "print(m)\n",
        "print(m.group())"
      ],
      "metadata": {
        "colab": {
          "base_uri": "https://localhost:8080/"
        },
        "id": "w3aepy0XRnvw",
        "outputId": "19332267-0f5a-4947-aad0-f0991a7f6bc8"
      },
      "execution_count": 36,
      "outputs": [
        {
          "output_type": "stream",
          "name": "stdout",
          "text": [
            "<re.Match object; span=(0, 4), match='caat'>\n",
            "caat\n"
          ]
        }
      ]
    },
    {
      "cell_type": "code",
      "source": [
        "p = re.compile('ca{2}t')\n",
        "m = p.match('caaat')\n",
        "print(m)"
      ],
      "metadata": {
        "colab": {
          "base_uri": "https://localhost:8080/"
        },
        "id": "Q25Ob8TSRzu0",
        "outputId": "8d06115b-aae5-4e98-b6f6-bfcc66d7f848"
      },
      "execution_count": 37,
      "outputs": [
        {
          "output_type": "stream",
          "name": "stdout",
          "text": [
            "None\n"
          ]
        }
      ]
    },
    {
      "cell_type": "code",
      "source": [
        "# ? : {0, 1} 을 의미한다.\n",
        "p = re.compile('ca?t')\n",
        "m = p.match('cat')\n",
        "print(m)\n",
        "print(m.group())"
      ],
      "metadata": {
        "colab": {
          "base_uri": "https://localhost:8080/"
        },
        "id": "Y6npGWCKR9rg",
        "outputId": "e203694e-4acb-40b0-cba4-c8d9abc9407e"
      },
      "execution_count": 38,
      "outputs": [
        {
          "output_type": "stream",
          "name": "stdout",
          "text": [
            "<re.Match object; span=(0, 3), match='cat'>\n",
            "cat\n"
          ]
        }
      ]
    },
    {
      "cell_type": "code",
      "source": [
        "p = re.compile('ca?t')\n",
        "m = p.match('ct')\n",
        "print(m)\n",
        "print(m.group())"
      ],
      "metadata": {
        "colab": {
          "base_uri": "https://localhost:8080/"
        },
        "id": "ehz_AAt3SMf6",
        "outputId": "5e521064-a909-4680-bde7-472e5c92746c"
      },
      "execution_count": 39,
      "outputs": [
        {
          "output_type": "stream",
          "name": "stdout",
          "text": [
            "<re.Match object; span=(0, 2), match='ct'>\n",
            "ct\n"
          ]
        }
      ]
    },
    {
      "cell_type": "markdown",
      "source": [
        "### 정규화 표현식 옵션\n",
        "\n"
      ],
      "metadata": {
        "id": "ZMoIac8FSWKg"
      }
    },
    {
      "cell_type": "code",
      "source": [
        "# 줄바꿈 문자를 포함하여 모든 문자와 매치할 수 있도록 한다.\n",
        "p = re.compile('a.b', re.DOTALL)\n",
        "m = p.match('a\\nb')\n",
        "print(m)\n",
        "print(m.group())"
      ],
      "metadata": {
        "colab": {
          "base_uri": "https://localhost:8080/"
        },
        "id": "jdGrIKkXSPnn",
        "outputId": "3a655d2a-8d84-42e1-9e09-f3a5e99d951f"
      },
      "execution_count": 42,
      "outputs": [
        {
          "output_type": "stream",
          "name": "stdout",
          "text": [
            "<re.Match object; span=(0, 3), match='a\\nb'>\n",
            "a\n",
            "b\n"
          ]
        }
      ]
    },
    {
      "cell_type": "code",
      "source": [
        "# 대소문자에 관계없이 매치할 수 있도록 한다.\n",
        "p = re.compile('[a-z]', re.I)    #대문자 i\n",
        "m = p.match('Life is to short')\n",
        "print(m)\n",
        "print(m.group())"
      ],
      "metadata": {
        "colab": {
          "base_uri": "https://localhost:8080/"
        },
        "id": "bW9O_ZDmStTA",
        "outputId": "f2af1a0b-34b0-4afe-dfcb-a3de6cb6c283"
      },
      "execution_count": 46,
      "outputs": [
        {
          "output_type": "stream",
          "name": "stdout",
          "text": [
            "<re.Match object; span=(0, 1), match='L'>\n",
            "L\n"
          ]
        }
      ]
    },
    {
      "cell_type": "code",
      "source": [
        "p = re.compile('^python\\s\\w+', re.M)\n",
        "m = p.match(\"\"\"python one life is too short \n",
        "python two\n",
        "you need python\n",
        "python three\"\"\")\n",
        "print(m)"
      ],
      "metadata": {
        "colab": {
          "base_uri": "https://localhost:8080/"
        },
        "id": "A7OIFzEvT1Pn",
        "outputId": "a027ead4-ac10-4556-e8a2-463e68b32db5"
      },
      "execution_count": 52,
      "outputs": [
        {
          "output_type": "stream",
          "name": "stdout",
          "text": [
            "<re.Match object; span=(0, 10), match='python one'>\n"
          ]
        }
      ]
    },
    {
      "cell_type": "code",
      "source": [
        "p = re.compile('^python\\s\\w+', re.M)\n",
        "m = p.findall(\"\"\"python one life is too short \n",
        "python two\n",
        "you need python\n",
        "python _\n",
        "python 9\n",
        "python three\"\"\")\n",
        "print(m)"
      ],
      "metadata": {
        "colab": {
          "base_uri": "https://localhost:8080/"
        },
        "id": "fLnGamibUuSw",
        "outputId": "dc31ada7-f7a6-404a-a6f6-c924249a0d08"
      },
      "execution_count": 56,
      "outputs": [
        {
          "output_type": "stream",
          "name": "stdout",
          "text": [
            "['python one', 'python two', 'python _', 'python 9', 'python three']\n"
          ]
        }
      ]
    },
    {
      "cell_type": "code",
      "source": [],
      "metadata": {
        "id": "p-FfE_cEVd-4"
      },
      "execution_count": null,
      "outputs": []
    }
  ]
}